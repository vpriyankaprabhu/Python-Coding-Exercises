{
 "cells": [
  {
   "cell_type": "code",
   "execution_count": 1,
   "id": "87218f7f-5881-428f-9948-5cf1e474bd21",
   "metadata": {},
   "outputs": [],
   "source": [
    "#Tuples are very similar to lists. Except that tuples are immutable whereas Lists can be mutated or updated"
   ]
  },
  {
   "cell_type": "code",
   "execution_count": 3,
   "id": "056c5b6c-251f-4574-a59a-ec07bf30f3a4",
   "metadata": {},
   "outputs": [],
   "source": [
    "tuple = (1,2,3)"
   ]
  },
  {
   "cell_type": "code",
   "execution_count": 5,
   "id": "4f0fec14-d168-44e2-8bc4-7185859751c2",
   "metadata": {},
   "outputs": [
    {
     "data": {
      "text/plain": [
       "(1, 2, 3)"
      ]
     },
     "execution_count": 5,
     "metadata": {},
     "output_type": "execute_result"
    }
   ],
   "source": [
    "tuple"
   ]
  },
  {
   "cell_type": "code",
   "execution_count": 7,
   "id": "50ff025b-515d-409c-8e8b-5537a423b583",
   "metadata": {},
   "outputs": [],
   "source": [
    "mylist=[1,2,3]"
   ]
  },
  {
   "cell_type": "code",
   "execution_count": 9,
   "id": "dc77fb4e-6963-4a5e-a993-493f25bd238e",
   "metadata": {},
   "outputs": [
    {
     "data": {
      "text/plain": [
       "[1, 2, 3]"
      ]
     },
     "execution_count": 9,
     "metadata": {},
     "output_type": "execute_result"
    }
   ],
   "source": [
    "mylist"
   ]
  },
  {
   "cell_type": "code",
   "execution_count": 11,
   "id": "67142c16-f7d8-4cee-be43-1ae8cefaea11",
   "metadata": {},
   "outputs": [],
   "source": [
    "#Tuples are indicated with () whereas lists are using []"
   ]
  },
  {
   "cell_type": "code",
   "execution_count": 13,
   "id": "0a999b66-9f90-474c-b2e7-49dc80680fb1",
   "metadata": {},
   "outputs": [],
   "source": [
    "tuple = ('one', 'two', 'three')"
   ]
  },
  {
   "cell_type": "code",
   "execution_count": 15,
   "id": "62f3d203-8e1e-4a2c-8cb5-7d1d26c2fda3",
   "metadata": {},
   "outputs": [
    {
     "data": {
      "text/plain": [
       "('one', 'two', 'three')"
      ]
     },
     "execution_count": 15,
     "metadata": {},
     "output_type": "execute_result"
    }
   ],
   "source": [
    "tuple"
   ]
  },
  {
   "cell_type": "code",
   "execution_count": 17,
   "id": "212b827f-890e-460d-9d2e-9db83979d812",
   "metadata": {},
   "outputs": [],
   "source": [
    "#it can also have mix of values"
   ]
  },
  {
   "cell_type": "code",
   "execution_count": 19,
   "id": "4cf3bcb6-7772-4f4b-a9a3-6f512e92fb97",
   "metadata": {},
   "outputs": [],
   "source": [
    "t1 = ('one', 2)"
   ]
  },
  {
   "cell_type": "code",
   "execution_count": 21,
   "id": "b1556f27-8660-49f6-b232-46f864f4d68d",
   "metadata": {},
   "outputs": [
    {
     "data": {
      "text/plain": [
       "('one', 2)"
      ]
     },
     "execution_count": 21,
     "metadata": {},
     "output_type": "execute_result"
    }
   ],
   "source": [
    "t1"
   ]
  },
  {
   "cell_type": "code",
   "execution_count": 23,
   "id": "473eb6a4-91ac-4bb2-9e50-ecf836cc1012",
   "metadata": {},
   "outputs": [],
   "source": [
    "t2=(4.5, [0,1,2], 'two')"
   ]
  },
  {
   "cell_type": "code",
   "execution_count": 25,
   "id": "549f4f52-0ca9-4f20-b684-91b82781550d",
   "metadata": {},
   "outputs": [
    {
     "data": {
      "text/plain": [
       "(4.5, [0, 1, 2], 'two')"
      ]
     },
     "execution_count": 25,
     "metadata": {},
     "output_type": "execute_result"
    }
   ],
   "source": [
    "t2"
   ]
  },
  {
   "cell_type": "code",
   "execution_count": 27,
   "id": "14d7c156-603b-414d-a442-2c178db08d83",
   "metadata": {},
   "outputs": [],
   "source": [
    "# we can access the values using indexing as in string and lists"
   ]
  },
  {
   "cell_type": "code",
   "execution_count": 29,
   "id": "da64c687-c45c-44c8-b97f-cba14a1ecd32",
   "metadata": {},
   "outputs": [
    {
     "data": {
      "text/plain": [
       "[0, 1, 2]"
      ]
     },
     "execution_count": 29,
     "metadata": {},
     "output_type": "execute_result"
    }
   ],
   "source": [
    "t2[1]"
   ]
  },
  {
   "cell_type": "code",
   "execution_count": 31,
   "id": "626c12a6-5ccd-4405-8233-1c0485b7c011",
   "metadata": {},
   "outputs": [
    {
     "data": {
      "text/plain": [
       "2"
      ]
     },
     "execution_count": 31,
     "metadata": {},
     "output_type": "execute_result"
    }
   ],
   "source": [
    "t1[1]"
   ]
  },
  {
   "cell_type": "code",
   "execution_count": 33,
   "id": "b7759768-45d8-49d6-aa55-148a78bf35ca",
   "metadata": {},
   "outputs": [],
   "source": [
    "# we can also using slicing too"
   ]
  },
  {
   "cell_type": "code",
   "execution_count": 35,
   "id": "0588ac14-44b6-4db5-b21d-cfd3b266dfe5",
   "metadata": {},
   "outputs": [
    {
     "data": {
      "text/plain": [
       "([0, 1, 2], 'two')"
      ]
     },
     "execution_count": 35,
     "metadata": {},
     "output_type": "execute_result"
    }
   ],
   "source": [
    "t2[1:]"
   ]
  },
  {
   "cell_type": "code",
   "execution_count": 37,
   "id": "4aa6119e-8287-4522-9f08-cae439c06282",
   "metadata": {},
   "outputs": [
    {
     "data": {
      "text/plain": [
       "('two', [0, 1, 2], 4.5)"
      ]
     },
     "execution_count": 37,
     "metadata": {},
     "output_type": "execute_result"
    }
   ],
   "source": [
    "t2[::-1]"
   ]
  },
  {
   "cell_type": "code",
   "execution_count": 39,
   "id": "e8ad813f-dce8-4654-a781-33a0d6af37d7",
   "metadata": {},
   "outputs": [
    {
     "data": {
      "text/plain": [
       "('one', 2)"
      ]
     },
     "execution_count": 39,
     "metadata": {},
     "output_type": "execute_result"
    }
   ],
   "source": [
    "t1[:2]"
   ]
  },
  {
   "cell_type": "code",
   "execution_count": 41,
   "id": "016e1eca-45ad-45cb-a800-731fcfe64980",
   "metadata": {},
   "outputs": [
    {
     "data": {
      "text/plain": [
       "('two',)"
      ]
     },
     "execution_count": 41,
     "metadata": {},
     "output_type": "execute_result"
    }
   ],
   "source": [
    "t2[2:]"
   ]
  },
  {
   "cell_type": "code",
   "execution_count": 43,
   "id": "d654dce3-29a8-44d2-86c2-99bca5d69484",
   "metadata": {},
   "outputs": [
    {
     "data": {
      "text/plain": [
       "(2, 'one')"
      ]
     },
     "execution_count": 43,
     "metadata": {},
     "output_type": "execute_result"
    }
   ],
   "source": [
    "t1[::-1]"
   ]
  },
  {
   "cell_type": "code",
   "execution_count": 45,
   "id": "4c8761f5-a729-40e9-adb4-7cdaa69b68d1",
   "metadata": {},
   "outputs": [],
   "source": [
    "#tuples have limited methods just have index() and count()"
   ]
  },
  {
   "cell_type": "code",
   "execution_count": 47,
   "id": "fedcea97-f248-49db-abc9-16b7cada8ac0",
   "metadata": {},
   "outputs": [],
   "source": [
    "#count() will count the occurances of elements in tuples"
   ]
  },
  {
   "cell_type": "code",
   "execution_count": 49,
   "id": "e15c9183-9d1a-4482-a263-c30983d93950",
   "metadata": {},
   "outputs": [],
   "source": [
    "t3 = ('a','b','a','b','c','a')"
   ]
  },
  {
   "cell_type": "code",
   "execution_count": 51,
   "id": "9f032739-fac3-45ac-a9bb-a74dcb2e1559",
   "metadata": {},
   "outputs": [
    {
     "data": {
      "text/plain": [
       "('a', 'b', 'a', 'b', 'c', 'a')"
      ]
     },
     "execution_count": 51,
     "metadata": {},
     "output_type": "execute_result"
    }
   ],
   "source": [
    "t3"
   ]
  },
  {
   "cell_type": "code",
   "execution_count": 53,
   "id": "dbba20f9-e307-4dfa-a878-fb658c4cae72",
   "metadata": {},
   "outputs": [
    {
     "data": {
      "text/plain": [
       "3"
      ]
     },
     "execution_count": 53,
     "metadata": {},
     "output_type": "execute_result"
    }
   ],
   "source": [
    "t3.count('a')"
   ]
  },
  {
   "cell_type": "code",
   "execution_count": 55,
   "id": "8410e46b-40b1-4dc2-bdfe-c7d2bfa9e6af",
   "metadata": {},
   "outputs": [
    {
     "data": {
      "text/plain": [
       "2"
      ]
     },
     "execution_count": 55,
     "metadata": {},
     "output_type": "execute_result"
    }
   ],
   "source": [
    "t3.count('b')"
   ]
  },
  {
   "cell_type": "code",
   "execution_count": 57,
   "id": "343df208-769a-48db-a6b5-9bfeffb7f36c",
   "metadata": {},
   "outputs": [
    {
     "data": {
      "text/plain": [
       "1"
      ]
     },
     "execution_count": 57,
     "metadata": {},
     "output_type": "execute_result"
    }
   ],
   "source": [
    "t3.count('c')"
   ]
  },
  {
   "cell_type": "code",
   "execution_count": 59,
   "id": "65b05929-60b3-4eaa-87bb-c3ff6b5bfd2e",
   "metadata": {},
   "outputs": [
    {
     "data": {
      "text/plain": [
       "0"
      ]
     },
     "execution_count": 59,
     "metadata": {},
     "output_type": "execute_result"
    }
   ],
   "source": [
    "t3.count('d')"
   ]
  },
  {
   "cell_type": "code",
   "execution_count": 61,
   "id": "5b4e3674-fc81-49d9-ae07-05ce8aa18fa9",
   "metadata": {},
   "outputs": [],
   "source": [
    "#index() is used to get first index of the occurance of letter in tuple"
   ]
  },
  {
   "cell_type": "code",
   "execution_count": 63,
   "id": "03085711-1264-40ae-a0ac-ad7511613ce3",
   "metadata": {},
   "outputs": [
    {
     "data": {
      "text/plain": [
       "0"
      ]
     },
     "execution_count": 63,
     "metadata": {},
     "output_type": "execute_result"
    }
   ],
   "source": [
    "t3.index('a')"
   ]
  },
  {
   "cell_type": "code",
   "execution_count": 65,
   "id": "7ed12320-ac39-4f97-aab3-bbe45d92cdf4",
   "metadata": {},
   "outputs": [
    {
     "data": {
      "text/plain": [
       "1"
      ]
     },
     "execution_count": 65,
     "metadata": {},
     "output_type": "execute_result"
    }
   ],
   "source": [
    "t3.index('b')"
   ]
  },
  {
   "cell_type": "code",
   "execution_count": 67,
   "id": "8cd8ff4e-9b7d-4176-aef6-2ae4fe04edd4",
   "metadata": {},
   "outputs": [
    {
     "data": {
      "text/plain": [
       "4"
      ]
     },
     "execution_count": 67,
     "metadata": {},
     "output_type": "execute_result"
    }
   ],
   "source": [
    "t3.index('c')"
   ]
  },
  {
   "cell_type": "code",
   "execution_count": 69,
   "id": "5a55631c-f783-435c-955e-42593bf75da7",
   "metadata": {},
   "outputs": [
    {
     "ename": "ValueError",
     "evalue": "tuple.index(x): x not in tuple",
     "output_type": "error",
     "traceback": [
      "\u001b[0;31m---------------------------------------------------------------------------\u001b[0m",
      "\u001b[0;31mValueError\u001b[0m                                Traceback (most recent call last)",
      "Cell \u001b[0;32mIn[69], line 1\u001b[0m\n\u001b[0;32m----> 1\u001b[0m t3\u001b[38;5;241m.\u001b[39mindex(\u001b[38;5;124m'\u001b[39m\u001b[38;5;124md\u001b[39m\u001b[38;5;124m'\u001b[39m)\n",
      "\u001b[0;31mValueError\u001b[0m: tuple.index(x): x not in tuple"
     ]
    }
   ],
   "source": [
    "t3.index('d')"
   ]
  },
  {
   "cell_type": "code",
   "execution_count": 71,
   "id": "95c1413a-96af-42b2-8b75-06c15b5ac9d7",
   "metadata": {},
   "outputs": [],
   "source": [
    "#it threw error as d is not part of tuple"
   ]
  },
  {
   "cell_type": "code",
   "execution_count": 73,
   "id": "781eef55-b00b-4128-9b97-85a4761c8e44",
   "metadata": {},
   "outputs": [],
   "source": [
    "#now lets see major difference between tuple and list - immutability"
   ]
  },
  {
   "cell_type": "code",
   "execution_count": 75,
   "id": "1743199a-2aec-4e91-b98f-26bf1f3cd988",
   "metadata": {},
   "outputs": [
    {
     "data": {
      "text/plain": [
       "[1, 2, 3]"
      ]
     },
     "execution_count": 75,
     "metadata": {},
     "output_type": "execute_result"
    }
   ],
   "source": [
    "mylist"
   ]
  },
  {
   "cell_type": "code",
   "execution_count": 77,
   "id": "7731cb87-7ae2-47c0-bcea-c9050f4eb0d3",
   "metadata": {},
   "outputs": [
    {
     "data": {
      "text/plain": [
       "('one', 'two', 'three')"
      ]
     },
     "execution_count": 77,
     "metadata": {},
     "output_type": "execute_result"
    }
   ],
   "source": [
    "tuple"
   ]
  },
  {
   "cell_type": "code",
   "execution_count": 79,
   "id": "a1d4d035-0844-4237-9480-8d739cb1b4dd",
   "metadata": {},
   "outputs": [],
   "source": [
    "mylist[2] = \"two\""
   ]
  },
  {
   "cell_type": "code",
   "execution_count": 81,
   "id": "47fc07d9-4782-4bb9-8cfc-227d404d4e9f",
   "metadata": {},
   "outputs": [
    {
     "data": {
      "text/plain": [
       "[1, 2, 'two']"
      ]
     },
     "execution_count": 81,
     "metadata": {},
     "output_type": "execute_result"
    }
   ],
   "source": [
    "mylist"
   ]
  },
  {
   "cell_type": "code",
   "execution_count": 83,
   "id": "e8806c7e-b245-468f-956b-92c3b1689dd0",
   "metadata": {},
   "outputs": [
    {
     "ename": "TypeError",
     "evalue": "'tuple' object does not support item assignment",
     "output_type": "error",
     "traceback": [
      "\u001b[0;31m---------------------------------------------------------------------------\u001b[0m",
      "\u001b[0;31mTypeError\u001b[0m                                 Traceback (most recent call last)",
      "Cell \u001b[0;32mIn[83], line 1\u001b[0m\n\u001b[0;32m----> 1\u001b[0m \u001b[38;5;28mtuple\u001b[39m[\u001b[38;5;241m0\u001b[39m] \u001b[38;5;241m=\u001b[39m \u001b[38;5;124m'\u001b[39m\u001b[38;5;124mNEW\u001b[39m\u001b[38;5;124m'\u001b[39m\n",
      "\u001b[0;31mTypeError\u001b[0m: 'tuple' object does not support item assignment"
     ]
    }
   ],
   "source": [
    "tuple[0] = 'NEW'"
   ]
  },
  {
   "cell_type": "code",
   "execution_count": 85,
   "id": "a69a373c-fafb-4991-bc9b-e7b41d947fdc",
   "metadata": {},
   "outputs": [],
   "source": [
    "# we can use len() method to check length of tuple just as used for lists and strings"
   ]
  },
  {
   "cell_type": "code",
   "execution_count": 87,
   "id": "e66ff9bb-80e8-48f8-965c-adf06a777fbe",
   "metadata": {},
   "outputs": [
    {
     "data": {
      "text/plain": [
       "3"
      ]
     },
     "execution_count": 87,
     "metadata": {},
     "output_type": "execute_result"
    }
   ],
   "source": [
    "len(tuple)"
   ]
  },
  {
   "cell_type": "code",
   "execution_count": null,
   "id": "c2056f1d-28aa-4ff5-bac6-9e981778ae77",
   "metadata": {},
   "outputs": [],
   "source": []
  }
 ],
 "metadata": {
  "kernelspec": {
   "display_name": "Python 3 (ipykernel)",
   "language": "python",
   "name": "python3"
  },
  "language_info": {
   "codemirror_mode": {
    "name": "ipython",
    "version": 3
   },
   "file_extension": ".py",
   "mimetype": "text/x-python",
   "name": "python",
   "nbconvert_exporter": "python",
   "pygments_lexer": "ipython3",
   "version": "3.12.7"
  }
 },
 "nbformat": 4,
 "nbformat_minor": 5
}
