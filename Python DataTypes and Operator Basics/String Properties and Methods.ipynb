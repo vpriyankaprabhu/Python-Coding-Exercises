{
 "cells": [
  {
   "cell_type": "markdown",
   "id": "32a25e49-2f64-4029-8750-9e70759b2ece",
   "metadata": {},
   "source": [
    "Strings are immutable"
   ]
  },
  {
   "cell_type": "code",
   "execution_count": 2,
   "id": "2f974661-996f-4264-98d0-9bd60da62c3d",
   "metadata": {},
   "outputs": [],
   "source": [
    "name = \"Sam\""
   ]
  },
  {
   "cell_type": "code",
   "execution_count": 4,
   "id": "0d464799-d775-4506-8aeb-8646337738a8",
   "metadata": {},
   "outputs": [
    {
     "data": {
      "text/plain": [
       "'Sam'"
      ]
     },
     "execution_count": 4,
     "metadata": {},
     "output_type": "execute_result"
    }
   ],
   "source": [
    "name"
   ]
  },
  {
   "cell_type": "code",
   "execution_count": 6,
   "id": "bbb5a340-d113-4602-ba5b-332639605a47",
   "metadata": {},
   "outputs": [
    {
     "ename": "TypeError",
     "evalue": "'str' object does not support item assignment",
     "output_type": "error",
     "traceback": [
      "\u001b[0;31m---------------------------------------------------------------------------\u001b[0m",
      "\u001b[0;31mTypeError\u001b[0m                                 Traceback (most recent call last)",
      "Cell \u001b[0;32mIn[6], line 1\u001b[0m\n\u001b[0;32m----> 1\u001b[0m name[\u001b[38;5;241m0\u001b[39m] \u001b[38;5;241m=\u001b[39m \u001b[38;5;124m'\u001b[39m\u001b[38;5;124mP\u001b[39m\u001b[38;5;124m'\u001b[39m\n",
      "\u001b[0;31mTypeError\u001b[0m: 'str' object does not support item assignment"
     ]
    }
   ],
   "source": [
    "name[0] = 'P'"
   ]
  },
  {
   "cell_type": "code",
   "execution_count": 8,
   "id": "6629a7b2-9351-4e36-8e63-7a6a0db44bbe",
   "metadata": {},
   "outputs": [
    {
     "data": {
      "text/plain": [
       "'Sam'"
      ]
     },
     "execution_count": 8,
     "metadata": {},
     "output_type": "execute_result"
    }
   ],
   "source": [
    "name"
   ]
  },
  {
   "cell_type": "markdown",
   "id": "0de99e04-8aa8-4d83-b3fb-41f3096137d2",
   "metadata": {},
   "source": [
    "We can create new string Pam using string concatenation or initialise and create new string"
   ]
  },
  {
   "cell_type": "code",
   "execution_count": 11,
   "id": "a685448f-ed3f-4feb-a437-e04586d8e831",
   "metadata": {},
   "outputs": [
    {
     "data": {
      "text/plain": [
       "'am'"
      ]
     },
     "execution_count": 11,
     "metadata": {},
     "output_type": "execute_result"
    }
   ],
   "source": [
    "name[1:]"
   ]
  },
  {
   "cell_type": "code",
   "execution_count": 13,
   "id": "880f3b23-a33a-4f0b-827b-da9ec48ab7c5",
   "metadata": {},
   "outputs": [
    {
     "data": {
      "text/plain": [
       "'Pam'"
      ]
     },
     "execution_count": 13,
     "metadata": {},
     "output_type": "execute_result"
    }
   ],
   "source": [
    "'P' + name[1:]"
   ]
  },
  {
   "cell_type": "code",
   "execution_count": 15,
   "id": "f02f0cb1-eb2b-40af-b919-0572f141dc22",
   "metadata": {},
   "outputs": [],
   "source": [
    "#Letter concatenation or string concatenation multiple times can be done using * or multiply symbol"
   ]
  },
  {
   "cell_type": "code",
   "execution_count": 19,
   "id": "b593be7b-c3ea-4c51-b21d-3adacc3db21b",
   "metadata": {},
   "outputs": [
    {
     "data": {
      "text/plain": [
       "'PPPPPPPPPP'"
      ]
     },
     "execution_count": 19,
     "metadata": {},
     "output_type": "execute_result"
    }
   ],
   "source": [
    "'P' * 10"
   ]
  },
  {
   "cell_type": "code",
   "execution_count": 27,
   "id": "5ed7daf6-3620-4766-8fc4-9f2d1071d996",
   "metadata": {},
   "outputs": [],
   "source": [
    "temp = \"Very \""
   ]
  },
  {
   "cell_type": "code",
   "execution_count": 29,
   "id": "0b91356f-a2d2-4938-8269-d73da3ae6716",
   "metadata": {},
   "outputs": [
    {
     "data": {
      "text/plain": [
       "'Very Very Good'"
      ]
     },
     "execution_count": 29,
     "metadata": {},
     "output_type": "execute_result"
    }
   ],
   "source": [
    "temp * 2 + \"Good\""
   ]
  },
  {
   "cell_type": "code",
   "execution_count": 31,
   "id": "989f78a9-2a7d-494f-a970-58c4a4c7eb05",
   "metadata": {},
   "outputs": [
    {
     "data": {
      "text/plain": [
       "'23'"
      ]
     },
     "execution_count": 31,
     "metadata": {},
     "output_type": "execute_result"
    }
   ],
   "source": [
    "'2' + '3'"
   ]
  },
  {
   "cell_type": "code",
   "execution_count": 33,
   "id": "37a00a37-853f-430a-bc96-b95474dee2bf",
   "metadata": {},
   "outputs": [
    {
     "data": {
      "text/plain": [
       "'2223333333'"
      ]
     },
     "execution_count": 33,
     "metadata": {},
     "output_type": "execute_result"
    }
   ],
   "source": [
    "'2' * 3 + '3' * 7"
   ]
  },
  {
   "cell_type": "markdown",
   "id": "c36c7f72-7cb4-455a-a0ba-8ea308291f52",
   "metadata": {},
   "source": [
    "so above its done with concatentation as its characters used and not integers"
   ]
  },
  {
   "cell_type": "code",
   "execution_count": 36,
   "id": "8f19fee3-2f8d-4c82-96ee-bf78d329b87a",
   "metadata": {},
   "outputs": [],
   "source": [
    "x = \"abc\""
   ]
  },
  {
   "cell_type": "code",
   "execution_count": 38,
   "id": "052f4c48-37bb-4a06-a0cd-c6473d148148",
   "metadata": {},
   "outputs": [
    {
     "data": {
      "text/plain": [
       "'abc'"
      ]
     },
     "execution_count": 38,
     "metadata": {},
     "output_type": "execute_result"
    }
   ],
   "source": [
    "x"
   ]
  },
  {
   "cell_type": "code",
   "execution_count": 42,
   "id": "cb52fbc9-bac8-494d-b7dd-657dca27f1d9",
   "metadata": {},
   "outputs": [
    {
     "data": {
      "text/plain": [
       "True"
      ]
     },
     "execution_count": 42,
     "metadata": {},
     "output_type": "execute_result"
    }
   ],
   "source": [
    "x.isalpha()"
   ]
  },
  {
   "cell_type": "code",
   "execution_count": 46,
   "id": "9139da41-315c-4f15-a3f4-2d73584a3365",
   "metadata": {},
   "outputs": [
    {
     "data": {
      "text/plain": [
       "'Abc'"
      ]
     },
     "execution_count": 46,
     "metadata": {},
     "output_type": "execute_result"
    }
   ],
   "source": [
    "x.capitalize()"
   ]
  },
  {
   "cell_type": "code",
   "execution_count": 48,
   "id": "5eeb23e4-5fa2-44cd-ace7-8b345ccccd22",
   "metadata": {},
   "outputs": [
    {
     "data": {
      "text/plain": [
       "'abc'"
      ]
     },
     "execution_count": 48,
     "metadata": {},
     "output_type": "execute_result"
    }
   ],
   "source": [
    "x"
   ]
  },
  {
   "cell_type": "code",
   "execution_count": 50,
   "id": "c3a30992-4795-4e81-a915-c5b40ff9b842",
   "metadata": {},
   "outputs": [],
   "source": [
    "x = x.capitalize()"
   ]
  },
  {
   "cell_type": "code",
   "execution_count": 52,
   "id": "8ab39b7d-1040-45ff-83a9-9ddae300067a",
   "metadata": {},
   "outputs": [
    {
     "data": {
      "text/plain": [
       "'Abc'"
      ]
     },
     "execution_count": 52,
     "metadata": {},
     "output_type": "execute_result"
    }
   ],
   "source": [
    "x"
   ]
  },
  {
   "cell_type": "code",
   "execution_count": 54,
   "id": "843d1db3-a8fd-40b8-8bb7-06d571081ef3",
   "metadata": {},
   "outputs": [],
   "source": [
    "x = x.upper()"
   ]
  },
  {
   "cell_type": "code",
   "execution_count": 56,
   "id": "aa2632df-da2b-47f3-9e61-4812e715308f",
   "metadata": {},
   "outputs": [
    {
     "data": {
      "text/plain": [
       "'ABC'"
      ]
     },
     "execution_count": 56,
     "metadata": {},
     "output_type": "execute_result"
    }
   ],
   "source": [
    "x"
   ]
  },
  {
   "cell_type": "code",
   "execution_count": 58,
   "id": "4bb6b455-06de-4872-be4d-25ccaefe7fbf",
   "metadata": {},
   "outputs": [],
   "source": [
    "x = \"Hello World\""
   ]
  },
  {
   "cell_type": "code",
   "execution_count": 60,
   "id": "641c8234-9baa-4bcf-ad0c-29cbb26caaf2",
   "metadata": {},
   "outputs": [
    {
     "data": {
      "text/plain": [
       "'Hello World'"
      ]
     },
     "execution_count": 60,
     "metadata": {},
     "output_type": "execute_result"
    }
   ],
   "source": [
    "x"
   ]
  },
  {
   "cell_type": "code",
   "execution_count": 62,
   "id": "7d80c2eb-b179-4c25-802a-3605d1b8d076",
   "metadata": {},
   "outputs": [
    {
     "data": {
      "text/plain": [
       "['Hello', 'World']"
      ]
     },
     "execution_count": 62,
     "metadata": {},
     "output_type": "execute_result"
    }
   ],
   "source": [
    "x.split()"
   ]
  },
  {
   "cell_type": "code",
   "execution_count": 64,
   "id": "7e073e9e-1d95-4395-b88f-5d29750ccd5d",
   "metadata": {},
   "outputs": [],
   "source": [
    "x= \"Hi, this is a String\""
   ]
  },
  {
   "cell_type": "code",
   "execution_count": 66,
   "id": "54852c08-8459-4882-9deb-5ed6e260c804",
   "metadata": {},
   "outputs": [
    {
     "data": {
      "text/plain": [
       "'Hi, this is a String'"
      ]
     },
     "execution_count": 66,
     "metadata": {},
     "output_type": "execute_result"
    }
   ],
   "source": [
    "x"
   ]
  },
  {
   "cell_type": "code",
   "execution_count": 68,
   "id": "6eb00630-a1f0-4547-847a-7b977d095994",
   "metadata": {},
   "outputs": [
    {
     "data": {
      "text/plain": [
       "['Hi', ' this is a String']"
      ]
     },
     "execution_count": 68,
     "metadata": {},
     "output_type": "execute_result"
    }
   ],
   "source": [
    "x.split(',')"
   ]
  },
  {
   "cell_type": "code",
   "execution_count": 70,
   "id": "77a1d3e1-2710-4df9-bb81-0bc0a96f648e",
   "metadata": {},
   "outputs": [
    {
     "data": {
      "text/plain": [
       "'Hi, this is a String'"
      ]
     },
     "execution_count": 70,
     "metadata": {},
     "output_type": "execute_result"
    }
   ],
   "source": [
    "x"
   ]
  },
  {
   "cell_type": "code",
   "execution_count": 72,
   "id": "50c68949-cfdc-4e89-b757-dbcce1661519",
   "metadata": {},
   "outputs": [
    {
     "data": {
      "text/plain": [
       "['Hi,', 'this', 'is', 'a', 'String']"
      ]
     },
     "execution_count": 72,
     "metadata": {},
     "output_type": "execute_result"
    }
   ],
   "source": [
    "x.split(\" \")"
   ]
  },
  {
   "cell_type": "code",
   "execution_count": 74,
   "id": "4b88c2c4-b80f-4854-916d-f45bdbc01056",
   "metadata": {},
   "outputs": [
    {
     "data": {
      "text/plain": [
       "5"
      ]
     },
     "execution_count": 74,
     "metadata": {},
     "output_type": "execute_result"
    }
   ],
   "source": [
    "len(x.split(\" \"))"
   ]
  },
  {
   "cell_type": "code",
   "execution_count": null,
   "id": "813f4512-2ad1-4f63-9714-78c12e822221",
   "metadata": {},
   "outputs": [],
   "source": []
  }
 ],
 "metadata": {
  "kernelspec": {
   "display_name": "Python 3 (ipykernel)",
   "language": "python",
   "name": "python3"
  },
  "language_info": {
   "codemirror_mode": {
    "name": "ipython",
    "version": 3
   },
   "file_extension": ".py",
   "mimetype": "text/x-python",
   "name": "python",
   "nbconvert_exporter": "python",
   "pygments_lexer": "ipython3",
   "version": "3.12.7"
  }
 },
 "nbformat": 4,
 "nbformat_minor": 5
}
