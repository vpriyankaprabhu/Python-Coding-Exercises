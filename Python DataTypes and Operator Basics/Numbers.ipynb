{
 "cells": [
  {
   "cell_type": "markdown",
   "id": "a9999570-eabe-4d32-972d-5a1c2cc33acc",
   "metadata": {},
   "source": [
    "Basic Arthimatic\n"
   ]
  },
  {
   "cell_type": "code",
   "execution_count": 2,
   "id": "e8beeec9-3fe6-428c-8f40-8fe66bb74c03",
   "metadata": {},
   "outputs": [
    {
     "data": {
      "text/plain": [
       "2"
      ]
     },
     "execution_count": 2,
     "metadata": {},
     "output_type": "execute_result"
    }
   ],
   "source": [
    "1+1"
   ]
  },
  {
   "cell_type": "code",
   "execution_count": 4,
   "id": "f1523c17-53ee-4e54-b77c-a767b3fe67b8",
   "metadata": {},
   "outputs": [
    {
     "data": {
      "text/plain": [
       "5"
      ]
     },
     "execution_count": 4,
     "metadata": {},
     "output_type": "execute_result"
    }
   ],
   "source": [
    "3+2"
   ]
  },
  {
   "cell_type": "code",
   "execution_count": 6,
   "id": "c8457692-cc74-4db8-9357-ac52ebbbbcf8",
   "metadata": {},
   "outputs": [
    {
     "data": {
      "text/plain": [
       "2.0"
      ]
     },
     "execution_count": 6,
     "metadata": {},
     "output_type": "execute_result"
    }
   ],
   "source": [
    "4/2"
   ]
  },
  {
   "cell_type": "code",
   "execution_count": 10,
   "id": "50bcf2c3-5406-41ad-bbd5-83ba3bc54857",
   "metadata": {},
   "outputs": [
    {
     "data": {
      "text/plain": [
       "2"
      ]
     },
     "execution_count": 10,
     "metadata": {},
     "output_type": "execute_result"
    }
   ],
   "source": [
    "(int) (4/2)"
   ]
  },
  {
   "cell_type": "code",
   "execution_count": 12,
   "id": "07733cb0-a08c-4840-9197-f116075b47c1",
   "metadata": {},
   "outputs": [
    {
     "data": {
      "text/plain": [
       "2"
      ]
     },
     "execution_count": 12,
     "metadata": {},
     "output_type": "execute_result"
    }
   ],
   "source": [
    "4-2"
   ]
  },
  {
   "cell_type": "code",
   "execution_count": 14,
   "id": "fdfbd50a-56bb-4910-a133-c0ff7cf281d3",
   "metadata": {},
   "outputs": [
    {
     "data": {
      "text/plain": [
       "-3"
      ]
     },
     "execution_count": 14,
     "metadata": {},
     "output_type": "execute_result"
    }
   ],
   "source": [
    "5-8"
   ]
  },
  {
   "cell_type": "code",
   "execution_count": 16,
   "id": "2bcd30f6-770d-40f4-8d00-885eefa229a4",
   "metadata": {},
   "outputs": [
    {
     "data": {
      "text/plain": [
       "24"
      ]
     },
     "execution_count": 16,
     "metadata": {},
     "output_type": "execute_result"
    }
   ],
   "source": [
    "3*8"
   ]
  },
  {
   "cell_type": "code",
   "execution_count": 18,
   "id": "6e0a884b-71e7-40c6-9899-d44696282d3f",
   "metadata": {},
   "outputs": [
    {
     "data": {
      "text/plain": [
       "27"
      ]
     },
     "execution_count": 18,
     "metadata": {},
     "output_type": "execute_result"
    }
   ],
   "source": [
    "3*9"
   ]
  },
  {
   "cell_type": "code",
   "execution_count": 20,
   "id": "89ed9301-3711-40b3-be4b-7472b8a010f3",
   "metadata": {},
   "outputs": [
    {
     "data": {
      "text/plain": [
       "36"
      ]
     },
     "execution_count": 20,
     "metadata": {},
     "output_type": "execute_result"
    }
   ],
   "source": [
    "10+4*4+10"
   ]
  },
  {
   "cell_type": "code",
   "execution_count": 22,
   "id": "76d89c18-d1e5-4309-946f-5bab0bb1e529",
   "metadata": {},
   "outputs": [
    {
     "data": {
      "text/plain": [
       "196"
      ]
     },
     "execution_count": 22,
     "metadata": {},
     "output_type": "execute_result"
    }
   ],
   "source": [
    "(10+4)*(4+10)"
   ]
  },
  {
   "cell_type": "markdown",
   "id": "ab172a82-d290-43ac-8126-81aa16675a2c",
   "metadata": {},
   "source": [
    "Mod/Modulus Operator"
   ]
  },
  {
   "cell_type": "code",
   "execution_count": 25,
   "id": "508f960e-9f6d-444e-8594-f6cbbdbeef75",
   "metadata": {},
   "outputs": [
    {
     "data": {
      "text/plain": [
       "0"
      ]
     },
     "execution_count": 25,
     "metadata": {},
     "output_type": "execute_result"
    }
   ],
   "source": [
    "4%2"
   ]
  },
  {
   "cell_type": "code",
   "execution_count": 27,
   "id": "d64fa290-0651-4683-b0db-cb47e81cc2e5",
   "metadata": {},
   "outputs": [
    {
     "data": {
      "text/plain": [
       "1"
      ]
     },
     "execution_count": 27,
     "metadata": {},
     "output_type": "execute_result"
    }
   ],
   "source": [
    "7%3"
   ]
  },
  {
   "cell_type": "code",
   "execution_count": 29,
   "id": "9854388b-ecf2-44c8-a9db-23150d3aa08c",
   "metadata": {},
   "outputs": [
    {
     "data": {
      "text/plain": [
       "1"
      ]
     },
     "execution_count": 29,
     "metadata": {},
     "output_type": "execute_result"
    }
   ],
   "source": [
    "5%2"
   ]
  },
  {
   "cell_type": "markdown",
   "id": "31a139aa-176b-45e8-b1e4-129d1c09948d",
   "metadata": {},
   "source": [
    "Power Operator"
   ]
  },
  {
   "cell_type": "code",
   "execution_count": 32,
   "id": "fe5d1cb4-8fac-4df3-8807-e0e491990a82",
   "metadata": {},
   "outputs": [
    {
     "data": {
      "text/plain": [
       "9"
      ]
     },
     "execution_count": 32,
     "metadata": {},
     "output_type": "execute_result"
    }
   ],
   "source": [
    "3**2"
   ]
  },
  {
   "cell_type": "code",
   "execution_count": 34,
   "id": "bda1032c-1cc0-4f63-a5f4-c09e5a9f86b7",
   "metadata": {},
   "outputs": [
    {
     "data": {
      "text/plain": [
       "125"
      ]
     },
     "execution_count": 34,
     "metadata": {},
     "output_type": "execute_result"
    }
   ],
   "source": [
    "5**3"
   ]
  },
  {
   "cell_type": "markdown",
   "id": "6ccb762b-1f66-4de0-953b-a640a3cca670",
   "metadata": {},
   "source": [
    "Variable Assignments"
   ]
  },
  {
   "cell_type": "code",
   "execution_count": 37,
   "id": "16486af5-166e-432e-bac0-7c0514b4ab5b",
   "metadata": {},
   "outputs": [],
   "source": [
    "a=5"
   ]
  },
  {
   "cell_type": "code",
   "execution_count": 39,
   "id": "5ff2b3ea-7616-405d-b8f8-6d874e31f37c",
   "metadata": {},
   "outputs": [
    {
     "data": {
      "text/plain": [
       "5"
      ]
     },
     "execution_count": 39,
     "metadata": {},
     "output_type": "execute_result"
    }
   ],
   "source": [
    "a"
   ]
  },
  {
   "cell_type": "code",
   "execution_count": 41,
   "id": "78018e09-b859-4325-b84e-cb6c9b92b54a",
   "metadata": {},
   "outputs": [],
   "source": [
    "b=10"
   ]
  },
  {
   "cell_type": "code",
   "execution_count": 43,
   "id": "dabd2a5d-557f-4f1d-b309-034682263015",
   "metadata": {},
   "outputs": [
    {
     "data": {
      "text/plain": [
       "10"
      ]
     },
     "execution_count": 43,
     "metadata": {},
     "output_type": "execute_result"
    }
   ],
   "source": [
    "b"
   ]
  },
  {
   "cell_type": "code",
   "execution_count": 45,
   "id": "d421e828-8d9b-4b7b-ac80-c932ecac9489",
   "metadata": {},
   "outputs": [
    {
     "data": {
      "text/plain": [
       "15"
      ]
     },
     "execution_count": 45,
     "metadata": {},
     "output_type": "execute_result"
    }
   ],
   "source": [
    "a+b"
   ]
  },
  {
   "cell_type": "code",
   "execution_count": 47,
   "id": "26ba217e-02ea-47c0-bb40-40ab5e3c6bd5",
   "metadata": {},
   "outputs": [
    {
     "data": {
      "text/plain": [
       "10"
      ]
     },
     "execution_count": 47,
     "metadata": {},
     "output_type": "execute_result"
    }
   ],
   "source": [
    "a+a"
   ]
  },
  {
   "cell_type": "code",
   "execution_count": 49,
   "id": "d4cc2dfc-239c-485e-99f2-08710e3e4255",
   "metadata": {},
   "outputs": [
    {
     "data": {
      "text/plain": [
       "15"
      ]
     },
     "execution_count": 49,
     "metadata": {},
     "output_type": "execute_result"
    }
   ],
   "source": [
    "b+a"
   ]
  },
  {
   "cell_type": "code",
   "execution_count": 51,
   "id": "f3519b77-41ee-4d70-b930-cb46155c5fcb",
   "metadata": {},
   "outputs": [
    {
     "data": {
      "text/plain": [
       "20"
      ]
     },
     "execution_count": 51,
     "metadata": {},
     "output_type": "execute_result"
    }
   ],
   "source": [
    "b+b"
   ]
  },
  {
   "cell_type": "code",
   "execution_count": 55,
   "id": "588cb05d-b199-4706-afe1-83ec72fb9a1a",
   "metadata": {},
   "outputs": [],
   "source": [
    "a=\"hello world\""
   ]
  },
  {
   "cell_type": "code",
   "execution_count": 58,
   "id": "f93870a2-5baa-4db8-a99d-78a9720cdffb",
   "metadata": {},
   "outputs": [
    {
     "data": {
      "text/plain": [
       "'hello world'"
      ]
     },
     "execution_count": 58,
     "metadata": {},
     "output_type": "execute_result"
    }
   ],
   "source": [
    "a"
   ]
  },
  {
   "cell_type": "code",
   "execution_count": 62,
   "id": "339745c6-2cf8-4290-b79c-029a77701d7b",
   "metadata": {},
   "outputs": [],
   "source": [
    "a=10.5"
   ]
  },
  {
   "cell_type": "code",
   "execution_count": 65,
   "id": "c2d824c8-c58d-4f9c-bf09-d0a9c3802e3a",
   "metadata": {},
   "outputs": [
    {
     "data": {
      "text/plain": [
       "10.5"
      ]
     },
     "execution_count": 65,
     "metadata": {},
     "output_type": "execute_result"
    }
   ],
   "source": [
    "a"
   ]
  },
  {
   "cell_type": "code",
   "execution_count": 67,
   "id": "6bbe60c9-a61f-4dbe-95aa-1929f3ab641c",
   "metadata": {},
   "outputs": [
    {
     "data": {
      "text/plain": [
       "float"
      ]
     },
     "execution_count": 67,
     "metadata": {},
     "output_type": "execute_result"
    }
   ],
   "source": [
    "type(a)"
   ]
  },
  {
   "cell_type": "code",
   "execution_count": 69,
   "id": "54cd89b4-e6ca-4f07-8227-88588ff119e2",
   "metadata": {},
   "outputs": [
    {
     "data": {
      "text/plain": [
       "int"
      ]
     },
     "execution_count": 69,
     "metadata": {},
     "output_type": "execute_result"
    }
   ],
   "source": [
    "type(b)"
   ]
  },
  {
   "cell_type": "code",
   "execution_count": 71,
   "id": "d8e557c0-70f2-49cf-8ead-6bf58e48ab53",
   "metadata": {},
   "outputs": [],
   "source": [
    "a=\"hellow\""
   ]
  },
  {
   "cell_type": "code",
   "execution_count": 73,
   "id": "42347e30-9536-4474-b013-9d6dff69cd18",
   "metadata": {},
   "outputs": [
    {
     "data": {
      "text/plain": [
       "str"
      ]
     },
     "execution_count": 73,
     "metadata": {},
     "output_type": "execute_result"
    }
   ],
   "source": [
    "type(a)"
   ]
  },
  {
   "cell_type": "code",
   "execution_count": 75,
   "id": "e982ee1f-fc3b-4f53-9839-036d1076669d",
   "metadata": {},
   "outputs": [],
   "source": [
    "discount = 20/100"
   ]
  },
  {
   "cell_type": "code",
   "execution_count": 77,
   "id": "9622be0b-e642-4e8b-8454-b52c69805487",
   "metadata": {},
   "outputs": [],
   "source": [
    "price = 199"
   ]
  },
  {
   "cell_type": "code",
   "execution_count": 79,
   "id": "0c8b228d-5320-4226-8c19-ecabc88deb1c",
   "metadata": {},
   "outputs": [],
   "source": [
    "final_price = price - (price * discount)"
   ]
  },
  {
   "cell_type": "code",
   "execution_count": 81,
   "id": "0b1f91bf-ba09-463b-9b7c-9a58e120fef5",
   "metadata": {},
   "outputs": [
    {
     "data": {
      "text/plain": [
       "159.2"
      ]
     },
     "execution_count": 81,
     "metadata": {},
     "output_type": "execute_result"
    }
   ],
   "source": [
    "final_price"
   ]
  },
  {
   "cell_type": "code",
   "execution_count": null,
   "id": "49c4bb10-a9ed-44f2-ab98-56f96fc9f6ed",
   "metadata": {},
   "outputs": [],
   "source": []
  }
 ],
 "metadata": {
  "kernelspec": {
   "display_name": "Python 3 (ipykernel)",
   "language": "python",
   "name": "python3"
  },
  "language_info": {
   "codemirror_mode": {
    "name": "ipython",
    "version": 3
   },
   "file_extension": ".py",
   "mimetype": "text/x-python",
   "name": "python",
   "nbconvert_exporter": "python",
   "pygments_lexer": "ipython3",
   "version": "3.12.7"
  }
 },
 "nbformat": 4,
 "nbformat_minor": 5
}
