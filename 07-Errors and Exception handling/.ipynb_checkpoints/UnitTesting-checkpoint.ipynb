{
 "cells": [
  {
   "cell_type": "code",
   "execution_count": 1,
   "id": "2fca1781-4863-4c30-9dba-55d8fd47af33",
   "metadata": {},
   "outputs": [],
   "source": [
    "#pylint myexample.py -r y\n",
    "\n",
    "#If you check out the video I only wrote pylint myexample.py , you will need to add on -r y"
   ]
  },
  {
   "cell_type": "code",
   "execution_count": 3,
   "id": "4efc0ccc-b9a0-4562-8717-3530279f6bd2",
   "metadata": {},
   "outputs": [],
   "source": [
    "#pylint is a library which looks into code and reports if any possible issues"
   ]
  },
  {
   "cell_type": "code",
   "execution_count": 5,
   "id": "4b62d6e2-b367-43ff-be9d-6683bb643fc1",
   "metadata": {},
   "outputs": [],
   "source": [
    "#unittest built in library which will test code and see if we get desired output results"
   ]
  },
  {
   "cell_type": "code",
   "execution_count": 7,
   "id": "2b2d4d83-e8f3-4d68-972e-e8b3ae19f605",
   "metadata": {},
   "outputs": [],
   "source": [
    "#(base) priprabh@priprabh-mac Python-Coding-Exercises % pip install pylint"
   ]
  },
  {
   "cell_type": "code",
   "execution_count": 9,
   "id": "36a537ae-aff9-4cc0-bbe8-6e7e74aa5d13",
   "metadata": {},
   "outputs": [],
   "source": [
    "#pylint updated_simple.py -r y"
   ]
  },
  {
   "cell_type": "code",
   "execution_count": 11,
   "id": "c512c165-d4a2-43e8-810a-730eb04a2742",
   "metadata": {},
   "outputs": [],
   "source": [
    "#text.capitalize() helps to capitalise first letter of string\n",
    "#text.title() will convert first letter of each work to capital letter"
   ]
  },
  {
   "cell_type": "code",
   "execution_count": 13,
   "id": "00673d3d-83cc-4777-a23b-10bf05ece1ae",
   "metadata": {},
   "outputs": [
    {
     "name": "stdout",
     "output_type": "stream",
     "text": [
      "Writing simple1.py\n"
     ]
    }
   ],
   "source": [
    "%%writefile simple1.py\n",
    "a = 1\n",
    "b = 2\n",
    "print(a)\n",
    "print(B)"
   ]
  },
  {
   "cell_type": "code",
   "execution_count": 19,
   "id": "07e9ac03-0807-4e65-ae04-c61cb2f30020",
   "metadata": {},
   "outputs": [],
   "source": [
    "with open(\"simple1.py\", \"r\") as f:\n",
    "    context = f.readlines()"
   ]
  },
  {
   "cell_type": "code",
   "execution_count": 21,
   "id": "aa1a4ff6-089a-42cb-a62f-1b5c085ad38f",
   "metadata": {},
   "outputs": [
    {
     "data": {
      "text/plain": [
       "['a = 1\\n', 'b = 2\\n', 'print(a)\\n', 'print(B)\\n']"
      ]
     },
     "execution_count": 21,
     "metadata": {},
     "output_type": "execute_result"
    }
   ],
   "source": [
    "context"
   ]
  },
  {
   "cell_type": "code",
   "execution_count": 29,
   "id": "f1fffdaa-d913-4b7c-a0b9-24c6674565bd",
   "metadata": {},
   "outputs": [],
   "source": [
    "import pylint"
   ]
  },
  {
   "cell_type": "code",
   "execution_count": 31,
   "id": "7c49f07d-b20d-48ad-93d2-c2af4eff12a6",
   "metadata": {},
   "outputs": [],
   "source": []
  },
  {
   "cell_type": "code",
   "execution_count": null,
   "id": "878e554a-81f1-4595-9755-0cd493e2e4e8",
   "metadata": {},
   "outputs": [],
   "source": []
  }
 ],
 "metadata": {
  "kernelspec": {
   "display_name": "Python 3 (ipykernel)",
   "language": "python",
   "name": "python3"
  },
  "language_info": {
   "codemirror_mode": {
    "name": "ipython",
    "version": 3
   },
   "file_extension": ".py",
   "mimetype": "text/x-python",
   "name": "python",
   "nbconvert_exporter": "python",
   "pygments_lexer": "ipython3",
   "version": "3.12.7"
  }
 },
 "nbformat": 4,
 "nbformat_minor": 5
}
