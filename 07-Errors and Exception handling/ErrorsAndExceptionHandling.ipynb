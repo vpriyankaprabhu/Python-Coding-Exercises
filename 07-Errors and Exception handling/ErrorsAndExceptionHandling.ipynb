{
 "cells": [
  {
   "cell_type": "code",
   "execution_count": 1,
   "id": "406669f6-c194-4daa-b93f-e96d1476ed04",
   "metadata": {},
   "outputs": [],
   "source": [
    "#We can use error handling so that rest of code executes even when error has occured and it now knows\n",
    "#to handle it and execute other code in script\n",
    "\n",
    "#3 keywords used\n",
    "#try : where actually the error may occur and needs handling\n",
    "#except: block of code to execute if try block encounters any error\n",
    "#finally: irrespective of error this block of code gets executed."
   ]
  },
  {
   "cell_type": "code",
   "execution_count": 3,
   "id": "5e6c88b4-45d6-49e8-a305-ee4e19cfc337",
   "metadata": {},
   "outputs": [],
   "source": [
    "def add(n1, n2):\n",
    "    return n1+n2"
   ]
  },
  {
   "cell_type": "code",
   "execution_count": 5,
   "id": "ac2ab5db-76bc-48c3-b3c9-6d34aa9e9094",
   "metadata": {},
   "outputs": [
    {
     "data": {
      "text/plain": [
       "20"
      ]
     },
     "execution_count": 5,
     "metadata": {},
     "output_type": "execute_result"
    }
   ],
   "source": [
    "add(10, 10)"
   ]
  },
  {
   "cell_type": "code",
   "execution_count": 11,
   "id": "1e3bb194-afe1-42ab-9897-536efa43adff",
   "metadata": {},
   "outputs": [
    {
     "ename": "TypeError",
     "evalue": "unsupported operand type(s) for +: 'int' and 'str'",
     "output_type": "error",
     "traceback": [
      "\u001b[0;31m---------------------------------------------------------------------------\u001b[0m",
      "\u001b[0;31mTypeError\u001b[0m                                 Traceback (most recent call last)",
      "Cell \u001b[0;32mIn[11], line 4\u001b[0m\n\u001b[1;32m      1\u001b[0m \u001b[38;5;66;03m#this works fine if both are numbers\u001b[39;00m\n\u001b[1;32m      2\u001b[0m \u001b[38;5;66;03m#what if one is string\u001b[39;00m\n\u001b[0;32m----> 4\u001b[0m add(\u001b[38;5;241m10\u001b[39m, \u001b[38;5;124m'\u001b[39m\u001b[38;5;124m10\u001b[39m\u001b[38;5;124m'\u001b[39m)\n\u001b[1;32m      5\u001b[0m \u001b[38;5;28mprint\u001b[39m(\u001b[38;5;124m\"\u001b[39m\u001b[38;5;124mAdd went well!\u001b[39m\u001b[38;5;124m\"\u001b[39m)\n",
      "Cell \u001b[0;32mIn[3], line 2\u001b[0m, in \u001b[0;36madd\u001b[0;34m(n1, n2)\u001b[0m\n\u001b[1;32m      1\u001b[0m \u001b[38;5;28;01mdef\u001b[39;00m \u001b[38;5;21madd\u001b[39m(n1, n2):\n\u001b[0;32m----> 2\u001b[0m     \u001b[38;5;28;01mreturn\u001b[39;00m n1\u001b[38;5;241m+\u001b[39mn2\n",
      "\u001b[0;31mTypeError\u001b[0m: unsupported operand type(s) for +: 'int' and 'str'"
     ]
    }
   ],
   "source": [
    "#this works fine if both are numbers\n",
    "#what if one is string\n",
    "\n",
    "add(10, '10')\n",
    "print(\"Add went well!\")"
   ]
  },
  {
   "cell_type": "code",
   "execution_count": 17,
   "id": "00678b2a-ff32-40cc-b1f9-75d2da3dc0f6",
   "metadata": {},
   "outputs": [
    {
     "name": "stdout",
     "output_type": "stream",
     "text": [
      "result ::  20\n",
      "Addition went well ! , lets proceed to next steps!\n"
     ]
    }
   ],
   "source": [
    "# we get a type error and we see print statement was not executed as it encountered error and skipped rest of code in script\n",
    "# to avoid such case and handle errors and not skip other block of code we can make use of error handling\n",
    "\n",
    "def add(n1, n2):\n",
    "    return n1+n2\n",
    "\n",
    "try:\n",
    "    result = add(10,10)\n",
    "    print(\"result :: \",result)\n",
    "except:\n",
    "    print(\"Addition was not done correctly and check the numbers n1, n2!\")\n",
    "else:\n",
    "    print(\"Addition went well ! , lets proceed to next steps!\")\n"
   ]
  },
  {
   "cell_type": "code",
   "execution_count": 19,
   "id": "d60bf870-35b8-4fd2-92d0-95338aae46bd",
   "metadata": {},
   "outputs": [],
   "source": [
    "#Prints the right result if n1 and n2 is numbers\n",
    "# else block will get executed if no error found in try block and no except block was executed"
   ]
  },
  {
   "cell_type": "code",
   "execution_count": 21,
   "id": "02c8fab5-09ed-4cd6-b832-d57ddcb31450",
   "metadata": {},
   "outputs": [
    {
     "name": "stdout",
     "output_type": "stream",
     "text": [
      "Addition was not done correctly and check the numbers n1, n2!\n"
     ]
    }
   ],
   "source": [
    "def add(n1, n2):\n",
    "    return n1+n2\n",
    "\n",
    "try:\n",
    "    result = add(10,'10')\n",
    "    print(\"result :: \",result)\n",
    "except:\n",
    "    print(\"Addition was not done correctly and check the numbers n1, n2!\")\n",
    "else:\n",
    "    print(\"Addition went well ! , lets proceed to next steps!\")\n"
   ]
  },
  {
   "cell_type": "code",
   "execution_count": 23,
   "id": "d04fbc4a-34bd-44be-89a2-ec236648ad42",
   "metadata": {},
   "outputs": [],
   "source": [
    "# here we get typeError for this addition since its number and string addition which is not possible."
   ]
  },
  {
   "cell_type": "code",
   "execution_count": 25,
   "id": "4e770fb7-4595-4a8e-a802-3f34d799b603",
   "metadata": {},
   "outputs": [
    {
     "name": "stdout",
     "output_type": "stream",
     "text": [
      "I always run\n"
     ]
    }
   ],
   "source": [
    "#lets explore on finally block\n",
    "\n",
    "try:\n",
    "   with open(\"text.txt\", \"w\") as f:\n",
    "       f.write(\"Hello World!\")\n",
    "except TypeError:\n",
    "    print(\"Encountered Type Error \")\n",
    "except OSError:\n",
    "    print(\"Encountered OS error!\")\n",
    "finally:\n",
    "    print(\"I always run\")\n",
    "    "
   ]
  },
  {
   "cell_type": "code",
   "execution_count": 27,
   "id": "f648b175-c874-4e01-af8a-719eb7a15153",
   "metadata": {},
   "outputs": [],
   "source": [
    "# now if we change write to read mode it will encounter OS error as its not possible to write when file is opened for read"
   ]
  },
  {
   "cell_type": "code",
   "execution_count": 29,
   "id": "1cdfee48-dedf-4d7f-82df-6d1417c7994e",
   "metadata": {},
   "outputs": [
    {
     "name": "stdout",
     "output_type": "stream",
     "text": [
      "Encountered OS error!\n",
      "I always run\n"
     ]
    }
   ],
   "source": [
    "try:\n",
    "   with open(\"text.txt\", \"r\") as f:\n",
    "       f.write(\"Hello World!\")\n",
    "except TypeError:\n",
    "    print(\"Encountered Type Error \")\n",
    "except OSError:\n",
    "    print(\"Encountered OS error!\")\n",
    "finally:\n",
    "    print(\"I always run\")\n",
    "    "
   ]
  },
  {
   "cell_type": "code",
   "execution_count": 31,
   "id": "0fe7daef-4f98-42f1-9180-df371c1128f3",
   "metadata": {},
   "outputs": [],
   "source": [
    "# here file is open in read mode and we try to write into it we face OSError"
   ]
  },
  {
   "cell_type": "code",
   "execution_count": 33,
   "id": "62878182-7e9a-4e11-8d62-4024991d6471",
   "metadata": {},
   "outputs": [
    {
     "name": "stdout",
     "output_type": "stream",
     "text": [
      "All exceptions !\n",
      "I always run\n"
     ]
    }
   ],
   "source": [
    "try:\n",
    "   with open(\"text.txt\", \"r\") as f:\n",
    "       f.write(\"Hello World!\")\n",
    "except:\n",
    "    print(\"All exceptions !\")\n",
    "finally:\n",
    "    print(\"I always run\")"
   ]
  },
  {
   "cell_type": "code",
   "execution_count": 35,
   "id": "ae390b18-637e-4285-ab06-cf3d711e10d2",
   "metadata": {},
   "outputs": [
    {
     "name": "stdout",
     "output_type": "stream",
     "text": [
      "All exceptions !\n",
      "I always run\n"
     ]
    }
   ],
   "source": [
    "#in case we dont know exceptions used in general we can leave the value blank and just use \n",
    "#except: etc.\n",
    "\n",
    "try:\n",
    "   with open(\"text.txt\", \"r\") as f:\n",
    "       f.write(\"Hello World!\")\n",
    "except:\n",
    "    print(\"All exceptions !\")\n",
    "finally:\n",
    "    print(\"I always run\")"
   ]
  },
  {
   "cell_type": "code",
   "execution_count": 51,
   "id": "4c4ecad1-b195-460c-82b9-741d13e8a6da",
   "metadata": {},
   "outputs": [],
   "source": [
    "#lets explore another example\n",
    "def ask_for_int():\n",
    "    try:\n",
    "        value = int(input(\"Enter a value:\"))\n",
    "        print(\"Value provided is :\", value)\n",
    "    except:\n",
    "        print(\"Value provided is not integer!\")\n",
    "    else:\n",
    "        print(\"No error encountered so else executed!\")\n",
    "    finally:\n",
    "        print(\"End of the function, I always execute!\")\n",
    "        "
   ]
  },
  {
   "cell_type": "code",
   "execution_count": 53,
   "id": "c3237ae7-6912-45d4-a01c-d3b84221c75e",
   "metadata": {},
   "outputs": [
    {
     "name": "stdin",
     "output_type": "stream",
     "text": [
      "Enter a value: wer\n"
     ]
    },
    {
     "name": "stdout",
     "output_type": "stream",
     "text": [
      "Value provided is not integer!\n",
      "End of the function, I always execute!\n"
     ]
    }
   ],
   "source": [
    "ask_for_int()"
   ]
  },
  {
   "cell_type": "code",
   "execution_count": 69,
   "id": "dba4a8a5-c495-4db1-af5d-7578c600d41d",
   "metadata": {},
   "outputs": [],
   "source": [
    "# if now we want to iterate and execute till we get valid inputs\n",
    "def ask_for_int():\n",
    "    while True:\n",
    "        try:\n",
    "            value = int(input(\"Enter a value:\"))\n",
    "            print(\"Value provided is :\", value)\n",
    "        except:\n",
    "            print(\"Whoops!, Value provided is not integer!\")\n",
    "            continue\n",
    "        else:\n",
    "            print(\"No error encountered so else executed!\")\n",
    "            break\n",
    "        finally:\n",
    "            print(\"End of the function, I always execute!\")"
   ]
  },
  {
   "cell_type": "code",
   "execution_count": 71,
   "id": "d3ff0f7c-28fe-40a2-9c91-ef2a62d698f7",
   "metadata": {},
   "outputs": [
    {
     "name": "stdin",
     "output_type": "stream",
     "text": [
      "Enter a value: q\n"
     ]
    },
    {
     "name": "stdout",
     "output_type": "stream",
     "text": [
      "Whoops!, Value provided is not integer!\n",
      "End of the function, I always execute!\n"
     ]
    },
    {
     "name": "stdin",
     "output_type": "stream",
     "text": [
      "Enter a value: q\n"
     ]
    },
    {
     "name": "stdout",
     "output_type": "stream",
     "text": [
      "Whoops!, Value provided is not integer!\n",
      "End of the function, I always execute!\n"
     ]
    },
    {
     "name": "stdin",
     "output_type": "stream",
     "text": [
      "Enter a value: q\n"
     ]
    },
    {
     "name": "stdout",
     "output_type": "stream",
     "text": [
      "Whoops!, Value provided is not integer!\n",
      "End of the function, I always execute!\n"
     ]
    },
    {
     "name": "stdin",
     "output_type": "stream",
     "text": [
      "Enter a value: q\n"
     ]
    },
    {
     "name": "stdout",
     "output_type": "stream",
     "text": [
      "Whoops!, Value provided is not integer!\n",
      "End of the function, I always execute!\n"
     ]
    },
    {
     "name": "stdin",
     "output_type": "stream",
     "text": [
      "Enter a value: w\n"
     ]
    },
    {
     "name": "stdout",
     "output_type": "stream",
     "text": [
      "Whoops!, Value provided is not integer!\n",
      "End of the function, I always execute!\n"
     ]
    },
    {
     "name": "stdin",
     "output_type": "stream",
     "text": [
      "Enter a value: 1\n"
     ]
    },
    {
     "name": "stdout",
     "output_type": "stream",
     "text": [
      "Value provided is : 1\n",
      "No error encountered so else executed!\n",
      "End of the function, I always execute!\n"
     ]
    }
   ],
   "source": [
    "ask_for_int()"
   ]
  },
  {
   "cell_type": "code",
   "execution_count": null,
   "id": "871147c5-ec0d-4800-90f4-fd4c8076d0df",
   "metadata": {},
   "outputs": [],
   "source": []
  }
 ],
 "metadata": {
  "kernelspec": {
   "display_name": "Python 3 (ipykernel)",
   "language": "python",
   "name": "python3"
  },
  "language_info": {
   "codemirror_mode": {
    "name": "ipython",
    "version": 3
   },
   "file_extension": ".py",
   "mimetype": "text/x-python",
   "name": "python",
   "nbconvert_exporter": "python",
   "pygments_lexer": "ipython3",
   "version": "3.12.7"
  }
 },
 "nbformat": 4,
 "nbformat_minor": 5
}
