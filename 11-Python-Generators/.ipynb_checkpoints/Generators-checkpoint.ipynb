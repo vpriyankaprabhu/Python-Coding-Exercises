{
 "cells": [
  {
   "cell_type": "code",
   "execution_count": 1,
   "id": "0776e626-5271-465b-a043-a137b70a8607",
   "metadata": {},
   "outputs": [],
   "source": [
    "#difference between iteration and generation in Python and how to construct our own Generators with the yield statement. "
   ]
  },
  {
   "cell_type": "code",
   "execution_count": 3,
   "id": "ea60ee82-743c-47b7-8be0-75ff4a204c12",
   "metadata": {},
   "outputs": [],
   "source": [
    "#Generators allow us to generate as we go along, instead of holding everything in memory."
   ]
  },
  {
   "cell_type": "code",
   "execution_count": 5,
   "id": "2a228e5c-eb56-46a3-92ef-b82601fe3940",
   "metadata": {},
   "outputs": [
    {
     "name": "stdout",
     "output_type": "stream",
     "text": [
      "1\n",
      "2\n",
      "3\n",
      "4\n",
      "5\n",
      "6\n",
      "7\n",
      "8\n",
      "9\n"
     ]
    }
   ],
   "source": [
    "#range()\n",
    "for i in range(1,10,1):\n",
    "    print(i)"
   ]
  },
  {
   "cell_type": "code",
   "execution_count": 13,
   "id": "62d0c343-b404-4eb9-85c8-709699df69d2",
   "metadata": {},
   "outputs": [
    {
     "name": "stdout",
     "output_type": "stream",
     "text": [
      "Help on class filter in module builtins:\n",
      "\n",
      "class filter(object)\n",
      " |  filter(function or None, iterable) --> filter object\n",
      " |\n",
      " |  Return an iterator yielding those items of iterable for which function(item)\n",
      " |  is true. If function is None, return the items that are true.\n",
      " |\n",
      " |  Methods defined here:\n",
      " |\n",
      " |  __getattribute__(self, name, /)\n",
      " |      Return getattr(self, name).\n",
      " |\n",
      " |  __iter__(self, /)\n",
      " |      Implement iter(self).\n",
      " |\n",
      " |  __next__(self, /)\n",
      " |      Implement next(self).\n",
      " |\n",
      " |  __reduce__(...)\n",
      " |      Return state information for pickling.\n",
      " |\n",
      " |  ----------------------------------------------------------------------\n",
      " |  Static methods defined here:\n",
      " |\n",
      " |  __new__(*args, **kwargs)\n",
      " |      Create and return a new object.  See help(type) for accurate signature.\n",
      "\n"
     ]
    }
   ],
   "source": [
    "help(filter)"
   ]
  },
  {
   "cell_type": "code",
   "execution_count": 45,
   "id": "312150c8-756a-4ebe-b99a-b0c71f10b835",
   "metadata": {},
   "outputs": [
    {
     "data": {
      "text/plain": [
       "['ss', 'str']"
      ]
     },
     "execution_count": 45,
     "metadata": {},
     "output_type": "execute_result"
    }
   ],
   "source": [
    "#filter()\n",
    "#Python filter() function is normally used with Lambda functions. \n",
    "#In this example, we are using the lambda function to filter out the odd and even numbers from a list.\n",
    "\n",
    "list1 = [\"ss\",\"str\",\"qre\",\"tt\",\"pp\"]\n",
    "\n",
    "def func(list1):\n",
    "    newlist = []\n",
    "    for i in list1:\n",
    "        if i.startswith(\"s\"):\n",
    "            newlist.append(i)\n",
    "    return newlist\n",
    "\n",
    "func(list1)\n"
   ]
  },
  {
   "cell_type": "code",
   "execution_count": 47,
   "id": "9218da09-9d1e-4d92-8d20-5f71ea63d6cb",
   "metadata": {},
   "outputs": [],
   "source": [
    "result = filter(lambda x : x.startswith(\"s\"), list1)"
   ]
  },
  {
   "cell_type": "code",
   "execution_count": 49,
   "id": "9a0fb4b2-8f08-42b5-95e1-810ae5f03c4b",
   "metadata": {},
   "outputs": [
    {
     "name": "stdout",
     "output_type": "stream",
     "text": [
      "['ss', 'str']\n"
     ]
    }
   ],
   "source": [
    "print(list(result))"
   ]
  },
  {
   "cell_type": "code",
   "execution_count": 51,
   "id": "a44e76dc-b922-467f-a73d-0ab886e9cc17",
   "metadata": {},
   "outputs": [
    {
     "data": {
      "text/plain": [
       "[1, 2, 3, 4, 5]"
      ]
     },
     "execution_count": 51,
     "metadata": {},
     "output_type": "execute_result"
    }
   ],
   "source": [
    "#map example\n",
    "#The map() function is used to apply a given function to every item of an iterable, \n",
    "#such as a list or tuple, and returns a map object (which is an iterator).\n",
    "\n",
    "#Let’s start with a simple example of using map() to convert a list of strings into a list of integers.\n",
    "\n",
    "list1 = ['1','2','3','4','5']\n",
    "\n",
    "list(map(int, list1))"
   ]
  },
  {
   "cell_type": "code",
   "execution_count": 53,
   "id": "b9371786-7f54-4104-a66e-e1dab9c9faf6",
   "metadata": {},
   "outputs": [
    {
     "name": "stdout",
     "output_type": "stream",
     "text": [
      "[2, 4, 6, 8]\n"
     ]
    }
   ],
   "source": [
    "a = [1, 2, 3, 4]\n",
    "\n",
    "# Using custom function in \"function\" parameter\n",
    "# This function is simply doubles the provided number\n",
    "def double(val):\n",
    "  return val*2\n",
    "\n",
    "res = list(map(double, a))\n",
    "print(res)"
   ]
  },
  {
   "cell_type": "code",
   "execution_count": 55,
   "id": "196482f6-c023-44de-85f6-0b44872d38ba",
   "metadata": {},
   "outputs": [],
   "source": [
    "#generators when compiled become an object that follows some iteration protocol\n",
    "#generator computes one value does the processing and waits until next value is called for"
   ]
  },
  {
   "cell_type": "code",
   "execution_count": 57,
   "id": "e01cec09-b2de-4135-92fc-9623d21c3f2b",
   "metadata": {},
   "outputs": [],
   "source": [
    "#lets explore how to create our own generators"
   ]
  },
  {
   "cell_type": "code",
   "execution_count": 69,
   "id": "e1944dca-c719-4862-ba44-59f6a929e2a4",
   "metadata": {},
   "outputs": [],
   "source": [
    "# The main advantage here is that instead of having to compute an entire series of values up front, \n",
    "#the generator computes one value and then suspends its activity awaiting the next instruction. This feature is known as state suspension.\n",
    "\n",
    "def create_cubes(n):\n",
    "    #create cube of number till n\n",
    "    result = []\n",
    "    for i in range(0,n):\n",
    "        result.append(i**3)\n",
    "    return result"
   ]
  },
  {
   "cell_type": "code",
   "execution_count": 71,
   "id": "a3d29ebf-ebe4-438e-b771-b87308fb8af3",
   "metadata": {},
   "outputs": [
    {
     "data": {
      "text/plain": [
       "[0, 1, 8, 27, 64, 125, 216, 343, 512, 729]"
      ]
     },
     "execution_count": 71,
     "metadata": {},
     "output_type": "execute_result"
    }
   ],
   "source": [
    "create_cubes(10)"
   ]
  },
  {
   "cell_type": "code",
   "execution_count": 81,
   "id": "d07424e2-c098-4334-9f37-953877f8481c",
   "metadata": {},
   "outputs": [],
   "source": [
    "#here in this example we need to store the result as list in memory and then later to print again need to load this list to memeory which\n",
    "#exhausts memory and is not efficient, we can rather make it as generator using yield statement and avoid saving in memory\n",
    "\n",
    "def create_cubes(n):\n",
    "    for i in range(n):\n",
    "        yield(i**3)"
   ]
  },
  {
   "cell_type": "code",
   "execution_count": 83,
   "id": "8f9b9669-f122-4e06-bf10-cd83e29907e7",
   "metadata": {},
   "outputs": [
    {
     "data": {
      "text/plain": [
       "<generator object create_cubes at 0x13fb67100>"
      ]
     },
     "execution_count": 83,
     "metadata": {},
     "output_type": "execute_result"
    }
   ],
   "source": [
    "create_cubes(10) #returns a generator object"
   ]
  },
  {
   "cell_type": "code",
   "execution_count": 85,
   "id": "5df115ea-d49c-4fec-86f2-e6bc9390c9a5",
   "metadata": {},
   "outputs": [
    {
     "data": {
      "text/plain": [
       "[0, 1, 8, 27, 64, 125, 216, 343, 512, 729]"
      ]
     },
     "execution_count": 85,
     "metadata": {},
     "output_type": "execute_result"
    }
   ],
   "source": [
    "list(create_cubes(10))"
   ]
  },
  {
   "cell_type": "code",
   "execution_count": 87,
   "id": "af6fb18f-ad67-487c-bd66-f28777c172d7",
   "metadata": {},
   "outputs": [],
   "source": [
    "#this way its more memory efficient"
   ]
  },
  {
   "cell_type": "code",
   "execution_count": 117,
   "id": "fdf0eb24-0acc-48da-bff7-674bc24a1ab6",
   "metadata": {},
   "outputs": [],
   "source": [
    "def gen_fibo(n):\n",
    "    result = []\n",
    "    if(n==0):\n",
    "        return 0\n",
    "    if(n==1):\n",
    "        return 1\n",
    "    a=1\n",
    "    b=1\n",
    "    for i in range(n):\n",
    "        fibo = a+b\n",
    "        result.append(a)\n",
    "        a = b\n",
    "        b = fibo\n",
    "    return result   "
   ]
  },
  {
   "cell_type": "code",
   "execution_count": 119,
   "id": "6c00d0e0-af40-4605-8d0e-834d66b1a435",
   "metadata": {},
   "outputs": [
    {
     "data": {
      "text/plain": [
       "[1, 1, 2, 3, 5, 8, 13, 21, 34, 55]"
      ]
     },
     "execution_count": 119,
     "metadata": {},
     "output_type": "execute_result"
    }
   ],
   "source": [
    "gen_fibo(10)"
   ]
  },
  {
   "cell_type": "code",
   "execution_count": 121,
   "id": "fd9927c4-0714-41de-9dfa-a87ecd376e7a",
   "metadata": {},
   "outputs": [],
   "source": [
    "#with yield u dont need to save it in memory as list and reload it when required, we generate it print it and go over next item in for loop"
   ]
  },
  {
   "cell_type": "code",
   "execution_count": 89,
   "id": "98ce7596-41b4-4446-8c37-5b1641083e1f",
   "metadata": {},
   "outputs": [],
   "source": [
    "#generate fibonacci series with generator\n",
    "\n",
    "def gen_fibo(n):\n",
    "    a=1\n",
    "    b=1\n",
    "    for i in range(n):\n",
    "        yield a\n",
    "        a,b=b,a+b"
   ]
  },
  {
   "cell_type": "code",
   "execution_count": 91,
   "id": "e884d5b8-d568-4d28-acd5-7c79131ad6c3",
   "metadata": {},
   "outputs": [
    {
     "data": {
      "text/plain": [
       "<generator object gen_fibo at 0x1065f1fc0>"
      ]
     },
     "execution_count": 91,
     "metadata": {},
     "output_type": "execute_result"
    }
   ],
   "source": [
    "gen_fibo(5)"
   ]
  },
  {
   "cell_type": "code",
   "execution_count": 95,
   "id": "bd8f8d43-6558-4ee8-a45a-c3ea764f8124",
   "metadata": {},
   "outputs": [
    {
     "data": {
      "text/plain": [
       "[1, 1, 2, 3, 5, 8, 13, 21]"
      ]
     },
     "execution_count": 95,
     "metadata": {},
     "output_type": "execute_result"
    }
   ],
   "source": [
    "list(gen_fibo(8))"
   ]
  },
  {
   "cell_type": "code",
   "execution_count": 123,
   "id": "6e4a74bf-9b1d-4726-91b9-545b5029e6a0",
   "metadata": {},
   "outputs": [],
   "source": [
    "#Generators are best for calculating large sets of results (particularly in calculations that involve loops themselves) \n",
    "#in cases where we don’t want to allocate the memory for all of the results at the same time."
   ]
  },
  {
   "cell_type": "code",
   "execution_count": 125,
   "id": "e94a3ef1-2b6e-4d8e-bdab-b8815b604250",
   "metadata": {},
   "outputs": [],
   "source": [
    "# The next() function allows us to access the next element in a sequence. Lets check it out:\n",
    "\n",
    "def gen_fibo(n):\n",
    "    a=1\n",
    "    b=1\n",
    "    for i in range(n):\n",
    "        yield a\n",
    "        a,b=b,a+b"
   ]
  },
  {
   "cell_type": "code",
   "execution_count": 135,
   "id": "03d60fa9-bca5-4f70-b872-5a4e226854e0",
   "metadata": {},
   "outputs": [],
   "source": [
    "g = gen_fibo(5)"
   ]
  },
  {
   "cell_type": "code",
   "execution_count": 137,
   "id": "481a96cb-8451-4200-8e4c-76f7e10c8893",
   "metadata": {},
   "outputs": [
    {
     "data": {
      "text/plain": [
       "1"
      ]
     },
     "execution_count": 137,
     "metadata": {},
     "output_type": "execute_result"
    }
   ],
   "source": [
    "next(g)"
   ]
  },
  {
   "cell_type": "code",
   "execution_count": 139,
   "id": "36cf0aba-a058-4889-865e-90efd3b86f6a",
   "metadata": {},
   "outputs": [
    {
     "data": {
      "text/plain": [
       "1"
      ]
     },
     "execution_count": 139,
     "metadata": {},
     "output_type": "execute_result"
    }
   ],
   "source": [
    "next(g)"
   ]
  },
  {
   "cell_type": "code",
   "execution_count": 141,
   "id": "b0affccd-e5bd-40c9-98ae-2ffd5a2e677f",
   "metadata": {},
   "outputs": [
    {
     "data": {
      "text/plain": [
       "2"
      ]
     },
     "execution_count": 141,
     "metadata": {},
     "output_type": "execute_result"
    }
   ],
   "source": [
    "next(g)"
   ]
  },
  {
   "cell_type": "code",
   "execution_count": 143,
   "id": "04a2fd6a-aa86-44c6-82d7-9a7a50a32eeb",
   "metadata": {},
   "outputs": [
    {
     "data": {
      "text/plain": [
       "3"
      ]
     },
     "execution_count": 143,
     "metadata": {},
     "output_type": "execute_result"
    }
   ],
   "source": [
    "next(g)"
   ]
  },
  {
   "cell_type": "code",
   "execution_count": 145,
   "id": "33a3ec98-d93a-492d-b312-660020471579",
   "metadata": {},
   "outputs": [
    {
     "data": {
      "text/plain": [
       "5"
      ]
     },
     "execution_count": 145,
     "metadata": {},
     "output_type": "execute_result"
    }
   ],
   "source": [
    "next(g)"
   ]
  },
  {
   "cell_type": "code",
   "execution_count": 147,
   "id": "14569d8a-9359-478b-807b-47bd4fb3d138",
   "metadata": {},
   "outputs": [
    {
     "ename": "StopIteration",
     "evalue": "",
     "output_type": "error",
     "traceback": [
      "\u001b[0;31m---------------------------------------------------------------------------\u001b[0m",
      "\u001b[0;31mStopIteration\u001b[0m                             Traceback (most recent call last)",
      "Cell \u001b[0;32mIn[147], line 1\u001b[0m\n\u001b[0;32m----> 1\u001b[0m \u001b[38;5;28mnext\u001b[39m(g)\n",
      "\u001b[0;31mStopIteration\u001b[0m: "
     ]
    }
   ],
   "source": [
    "next(g)"
   ]
  },
  {
   "cell_type": "code",
   "execution_count": 149,
   "id": "97107f0e-0a60-496b-a5cd-d42566861370",
   "metadata": {},
   "outputs": [],
   "source": [
    "#After yielding all the values next() caused a StopIteration error.\n",
    "#You might be wondering that why don’t we get this error while using a for loop? \n",
    "#A for loop automatically catches this error and stops calling next()."
   ]
  },
  {
   "cell_type": "code",
   "execution_count": 151,
   "id": "845a805a-9c20-4a54-9044-4ba9ce9a8464",
   "metadata": {},
   "outputs": [
    {
     "name": "stdout",
     "output_type": "stream",
     "text": [
      "H\n",
      "e\n",
      "l\n",
      "l\n",
      "o\n",
      " \n",
      "W\n",
      "o\n",
      "r\n",
      "l\n",
      "d\n"
     ]
    }
   ],
   "source": [
    "s = \"Hello World\"\n",
    "\n",
    "for let in s:\n",
    "    print(let)"
   ]
  },
  {
   "cell_type": "code",
   "execution_count": 153,
   "id": "28710b9f-6b5b-4466-8224-4b82414bf2a8",
   "metadata": {},
   "outputs": [],
   "source": [
    "#String itself is not an iterator we need convert s into itertor using iter() keyword and then use next on this iterable string"
   ]
  },
  {
   "cell_type": "code",
   "execution_count": 157,
   "id": "af31410a-e515-464a-a869-b7abf5fe92ec",
   "metadata": {},
   "outputs": [
    {
     "ename": "TypeError",
     "evalue": "'str' object is not an iterator",
     "output_type": "error",
     "traceback": [
      "\u001b[0;31m---------------------------------------------------------------------------\u001b[0m",
      "\u001b[0;31mTypeError\u001b[0m                                 Traceback (most recent call last)",
      "Cell \u001b[0;32mIn[157], line 5\u001b[0m\n\u001b[1;32m      1\u001b[0m \u001b[38;5;66;03m#Let's go ahead and check out how to use iter(). You remember that strings are iterables:\u001b[39;00m\n\u001b[1;32m      2\u001b[0m \n\u001b[1;32m      3\u001b[0m \u001b[38;5;66;03m#But that doesn't mean the string itself is an iterator! We can check this with the next() function:\u001b[39;00m\n\u001b[0;32m----> 5\u001b[0m \u001b[38;5;28mnext\u001b[39m(s)\n",
      "\u001b[0;31mTypeError\u001b[0m: 'str' object is not an iterator"
     ]
    }
   ],
   "source": [
    "#Let's go ahead and check out how to use iter(). You remember that strings are iterables:\n",
    "\n",
    "#But that doesn't mean the string itself is an iterator! We can check this with the next() function:\n",
    "\n",
    "#string is an iterable but not an iterator to make it iterator we use keywork iter()\n",
    "\n",
    "#Interesting, this means that a string object supports iteration, but we can not directly iterate over it as we could with a generator function. \n",
    "#The iter() function allows us to do just that!\n",
    "\n",
    "next(s)\n"
   ]
  },
  {
   "cell_type": "code",
   "execution_count": 165,
   "id": "59db0c90-22bb-4ee2-a032-5ace31fadd31",
   "metadata": {},
   "outputs": [],
   "source": [
    "s_next = iter(s)"
   ]
  },
  {
   "cell_type": "code",
   "execution_count": 167,
   "id": "6b4f8750-128c-4bf5-9425-eba26d67be51",
   "metadata": {},
   "outputs": [
    {
     "data": {
      "text/plain": [
       "'H'"
      ]
     },
     "execution_count": 167,
     "metadata": {},
     "output_type": "execute_result"
    }
   ],
   "source": [
    "next(s_next)"
   ]
  },
  {
   "cell_type": "code",
   "execution_count": 169,
   "id": "35626d94-9580-45c5-9d82-7c847faa8b16",
   "metadata": {},
   "outputs": [
    {
     "data": {
      "text/plain": [
       "'e'"
      ]
     },
     "execution_count": 169,
     "metadata": {},
     "output_type": "execute_result"
    }
   ],
   "source": [
    "next(s_next)"
   ]
  },
  {
   "cell_type": "code",
   "execution_count": 171,
   "id": "3301e246-c5e7-4869-8dc4-acff5d4b1ed3",
   "metadata": {},
   "outputs": [
    {
     "data": {
      "text/plain": [
       "'l'"
      ]
     },
     "execution_count": 171,
     "metadata": {},
     "output_type": "execute_result"
    }
   ],
   "source": [
    "next(s_next)"
   ]
  },
  {
   "cell_type": "code",
   "execution_count": 173,
   "id": "5b960ebc-d8ca-4832-a1f6-060a87e38420",
   "metadata": {},
   "outputs": [
    {
     "data": {
      "text/plain": [
       "'l'"
      ]
     },
     "execution_count": 173,
     "metadata": {},
     "output_type": "execute_result"
    }
   ],
   "source": [
    "next(s_next)"
   ]
  },
  {
   "cell_type": "code",
   "execution_count": 175,
   "id": "6eabc19d-f788-4c2e-9a2b-04b656fb838f",
   "metadata": {},
   "outputs": [
    {
     "data": {
      "text/plain": [
       "'o'"
      ]
     },
     "execution_count": 175,
     "metadata": {},
     "output_type": "execute_result"
    }
   ],
   "source": [
    "next(s_next)"
   ]
  },
  {
   "cell_type": "code",
   "execution_count": 177,
   "id": "413887cf-2e45-428e-a7cb-0ff25423f9b3",
   "metadata": {},
   "outputs": [
    {
     "data": {
      "text/plain": [
       "' '"
      ]
     },
     "execution_count": 177,
     "metadata": {},
     "output_type": "execute_result"
    }
   ],
   "source": [
    "next(s_next)"
   ]
  },
  {
   "cell_type": "code",
   "execution_count": 179,
   "id": "735cbea5-c989-4b32-9c70-e674016ccacc",
   "metadata": {},
   "outputs": [
    {
     "data": {
      "text/plain": [
       "'W'"
      ]
     },
     "execution_count": 179,
     "metadata": {},
     "output_type": "execute_result"
    }
   ],
   "source": [
    "next(s_next)"
   ]
  },
  {
   "cell_type": "code",
   "execution_count": 181,
   "id": "d99aa48f-16d4-46d8-844a-b158df9be681",
   "metadata": {},
   "outputs": [
    {
     "data": {
      "text/plain": [
       "'o'"
      ]
     },
     "execution_count": 181,
     "metadata": {},
     "output_type": "execute_result"
    }
   ],
   "source": [
    "next(s_next)"
   ]
  },
  {
   "cell_type": "code",
   "execution_count": 183,
   "id": "ecd05b0f-cb81-4a1c-87a2-ed6e7a7d6ff1",
   "metadata": {},
   "outputs": [
    {
     "data": {
      "text/plain": [
       "'r'"
      ]
     },
     "execution_count": 183,
     "metadata": {},
     "output_type": "execute_result"
    }
   ],
   "source": [
    "next(s_next)"
   ]
  },
  {
   "cell_type": "code",
   "execution_count": 185,
   "id": "6eb3ad51-7f4d-4135-8d96-ffb3b1a3b8e3",
   "metadata": {},
   "outputs": [
    {
     "data": {
      "text/plain": [
       "'l'"
      ]
     },
     "execution_count": 185,
     "metadata": {},
     "output_type": "execute_result"
    }
   ],
   "source": [
    "next(s_next)"
   ]
  },
  {
   "cell_type": "code",
   "execution_count": 187,
   "id": "5c1bea72-4ed8-4c3c-9ebb-6b84803c32f2",
   "metadata": {},
   "outputs": [
    {
     "data": {
      "text/plain": [
       "'d'"
      ]
     },
     "execution_count": 187,
     "metadata": {},
     "output_type": "execute_result"
    }
   ],
   "source": [
    "next(s_next)"
   ]
  },
  {
   "cell_type": "code",
   "execution_count": 189,
   "id": "40d4dbf2-83b4-4160-9ec7-df8a59782636",
   "metadata": {},
   "outputs": [
    {
     "ename": "StopIteration",
     "evalue": "",
     "output_type": "error",
     "traceback": [
      "\u001b[0;31m---------------------------------------------------------------------------\u001b[0m",
      "\u001b[0;31mStopIteration\u001b[0m                             Traceback (most recent call last)",
      "Cell \u001b[0;32mIn[189], line 1\u001b[0m\n\u001b[0;32m----> 1\u001b[0m \u001b[38;5;28mnext\u001b[39m(s_next)\n",
      "\u001b[0;31mStopIteration\u001b[0m: "
     ]
    }
   ],
   "source": [
    "next(s_next)"
   ]
  },
  {
   "cell_type": "code",
   "execution_count": 191,
   "id": "a2fda4aa-e634-475e-b176-75611e01469b",
   "metadata": {},
   "outputs": [],
   "source": [
    "#convert objects that are iterable into iterators themselves!"
   ]
  },
  {
   "cell_type": "code",
   "execution_count": 193,
   "id": "6f275202-018e-42da-9d5c-d9d73e8efa90",
   "metadata": {},
   "outputs": [
    {
     "name": "stdout",
     "output_type": "stream",
     "text": [
      "[0, 2, 4, 6, 8, 10]\n"
     ]
    }
   ],
   "source": [
    "#So what’s the difference between Generator Expressions and List Comprehensions?\n",
    "#The generator yields one item at a time and generates item only when in demand. \n",
    "#Whereas, in a list comprehension, Python reserves memory for the whole list. \n",
    "#Thus we can say that the generator expressions are memory efficient than the lists.\n",
    "#We can see this in the example below.\n",
    "\n",
    "#https://www.geeksforgeeks.org/python-list-comprehensions-vs-generator-expressions/\n",
    "\n",
    "#List comprehension\n",
    "list = [i for i in range(11) if i % 2 == 0] \n",
    "print(list) "
   ]
  },
  {
   "cell_type": "code",
   "execution_count": 205,
   "id": "86b1c5ff-e415-4fd1-974d-1c477edb7a48",
   "metadata": {},
   "outputs": [
    {
     "name": "stdout",
     "output_type": "stream",
     "text": [
      "<generator object <genexpr> at 0x15c831220>\n"
     ]
    }
   ],
   "source": [
    "# Generator Expression \n",
    "generator_expression = (i for i in range(11) if i % 2 == 0) \n",
    "  \n",
    "print(generator_expression) "
   ]
  },
  {
   "cell_type": "code",
   "execution_count": 207,
   "id": "1f98a733-9d4b-4611-9a1e-bec9ca4edc22",
   "metadata": {},
   "outputs": [
    {
     "name": "stdout",
     "output_type": "stream",
     "text": [
      "0\n",
      "2\n",
      "4\n",
      "6\n",
      "8\n",
      "10\n"
     ]
    }
   ],
   "source": [
    "for i in generator_expression:\n",
    "    print(i)"
   ]
  },
  {
   "cell_type": "code",
   "execution_count": 209,
   "id": "b1d345ac-7bb9-4227-9d7c-79005b28d163",
   "metadata": {},
   "outputs": [
    {
     "name": "stdout",
     "output_type": "stream",
     "text": [
      "2.348312874994008\n"
     ]
    }
   ],
   "source": [
    "#List Comprehension:  \n",
    "import timeit \n",
    "  \n",
    "print(timeit.timeit('''list_com = [i for i in range(100) if i % 2 == 0]''', number=1000000)) "
   ]
  },
  {
   "cell_type": "code",
   "execution_count": 211,
   "id": "090e11dd-7f84-4775-a5e8-a9ac76f33f2e",
   "metadata": {},
   "outputs": [
    {
     "name": "stdout",
     "output_type": "stream",
     "text": [
      "0.16884587501408532\n"
     ]
    }
   ],
   "source": [
    "#Generator Expression: \n",
    "import timeit \n",
    "  \n",
    "print(timeit.timeit('''gen_exp = (i for i in range(100) if i % 2 == 0)''', number=1000000)) "
   ]
  },
  {
   "cell_type": "code",
   "execution_count": null,
   "id": "58c22974-f758-41ce-9214-329b1c2b2290",
   "metadata": {},
   "outputs": [],
   "source": [
    "#There is a remarkable difference in the execution time. \n",
    "#Thus, generator expressions are faster than list comprehension and hence time efficient."
   ]
  }
 ],
 "metadata": {
  "kernelspec": {
   "display_name": "Python 3 (ipykernel)",
   "language": "python",
   "name": "python3"
  },
  "language_info": {
   "codemirror_mode": {
    "name": "ipython",
    "version": 3
   },
   "file_extension": ".py",
   "mimetype": "text/x-python",
   "name": "python",
   "nbconvert_exporter": "python",
   "pygments_lexer": "ipython3",
   "version": "3.12.7"
  }
 },
 "nbformat": 4,
 "nbformat_minor": 5
}
