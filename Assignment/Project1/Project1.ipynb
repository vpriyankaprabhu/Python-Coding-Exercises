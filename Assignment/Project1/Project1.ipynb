{
 "cells": [
  {
   "cell_type": "markdown",
   "id": "990afaa2-2278-4f7f-a304-36c6ed67c4e1",
   "metadata": {},
   "source": [
    "<h1>Project 1</h1>\n",
    "Read a pdf file from a folder. Refer to the PDF file Chemistry Questions.pdf\n",
    "<br/>\n",
    "<h3>Requirements</h3>\n",
    "1.Store a PDF file in a folder called “/content”\n",
    "<br/>\n",
    "2.Read PDF file from the folder\n",
    "<br/>\n",
    "3.Write the content to a text file called “output.txt”\n",
    "<br/>\n",
    "4.Store this file under the “/content” folder\n",
    "<br/>\n",
    "<h3>Error Handling</h3>\n",
    "1.Take care of case where folder is not available\n",
    "<br/>\n",
    "2.Take care of case where PDF file is not present in the content folder\n",
    "<br/>\n",
    "3.Take care of case where the output.txt file is not available\n",
    "<br/>"
   ]
  },
  {
   "cell_type": "code",
   "execution_count": 32,
   "id": "a6ba6093-25b1-45c2-aebb-7d5c37ea0c36",
   "metadata": {},
   "outputs": [
    {
     "name": "stdout",
     "output_type": "stream",
     "text": [
      "-1 / unknowndownloaded-pdf.pdf\n",
      "/Users/priprabh/Downloads/Priyanka/Learnings & Training/Python/Udemy Python/Python-Coding-Exercises/Python-Coding-Exercises/Assignment/Project1\n",
      "['.DS_Store', 'Project1.ipynb', 'edit', 'Chemistry Questions.pdf', '.ipynb_checkpoints', 'downloaded-pdf.pdf']\n"
     ]
    }
   ],
   "source": [
    "import PyPDF2\n",
    "import os\n",
    "\n",
    "# 1.Store a PDF file in a folder called “/content”\n",
    "# 1.Take care of case where folder is not available \n",
    "try:\n",
    "    print(os.getcwd())\n",
    "    print(os.listdir())\n",
    "    if \"content\" in os.listdir():\n",
    "        print(\"Folder content is found!\")\n",
    "except:\n",
    "    print(\"Folder content not found!\")\n",
    "# 2.Read PDF file from the folder\n",
    "# 3.Write the content to a text file called “output.txt”\n",
    "# 4.Store this file under the “/content” folder "
   ]
  },
  {
   "cell_type": "code",
   "execution_count": 42,
   "id": "db762e40-1be8-46b9-a003-157ffefc80e7",
   "metadata": {},
   "outputs": [
    {
     "data": {
      "text/plain": [
       "('filename.pdf', <http.client.HTTPMessage at 0x145de9f70>)"
      ]
     },
     "execution_count": 42,
     "metadata": {},
     "output_type": "execute_result"
    }
   ],
   "source": [
    "import urllib.request\n",
    "url = \"https://docs.google.com/document/d/1z6KFwyC4lQkPLXO_E_COE1Zwe0-YelpEopoHT9ImEvk/edit?tab=t.0#heading=h.5xgcxhgumd5n\"\n",
    "urllib.request.urlretrieve(url, \"filename.pdf\")"
   ]
  },
  {
   "cell_type": "code",
   "execution_count": null,
   "id": "20fa8075-ee57-41b4-81f1-db830d0e727c",
   "metadata": {},
   "outputs": [],
   "source": []
  }
 ],
 "metadata": {
  "kernelspec": {
   "display_name": "Python 3 (ipykernel)",
   "language": "python",
   "name": "python3"
  },
  "language_info": {
   "codemirror_mode": {
    "name": "ipython",
    "version": 3
   },
   "file_extension": ".py",
   "mimetype": "text/x-python",
   "name": "python",
   "nbconvert_exporter": "python",
   "pygments_lexer": "ipython3",
   "version": "3.12.7"
  }
 },
 "nbformat": 4,
 "nbformat_minor": 5
}
