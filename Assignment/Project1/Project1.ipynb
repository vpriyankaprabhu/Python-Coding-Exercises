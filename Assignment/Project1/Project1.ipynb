{
 "cells": [
  {
   "cell_type": "markdown",
   "id": "990afaa2-2278-4f7f-a304-36c6ed67c4e1",
   "metadata": {},
   "source": [
    "<h1>Project 1</h1>\n",
    "Read a pdf file from a folder. Refer to the PDF file Chemistry Questions.pdf\n",
    "<br/>\n",
    "<h3>Requirements</h3>\n",
    "1.Store a PDF file in a folder called “/content”\n",
    "<br/>\n",
    "2.Read PDF file from the folder\n",
    "<br/>\n",
    "3.Write the content to a text file called “output.txt”\n",
    "<br/>\n",
    "4.Store this file under the “/content” folder\n",
    "<br/>\n",
    "<h3>Error Handling</h3>\n",
    "1.Take care of case where folder is not available\n",
    "<br/>\n",
    "2.Take care of case where PDF file is not present in the content folder\n",
    "<br/>\n",
    "3.Take care of case where the output.txt file is not available\n",
    "<br/>"
   ]
  },
  {
   "cell_type": "code",
   "execution_count": 2,
   "id": "3b7514c8-8433-4878-8dd3-ad3285daec37",
   "metadata": {},
   "outputs": [
    {
     "name": "stderr",
     "output_type": "stream",
     "text": [
      "Downloading...\n",
      "From: https://drive.google.com/uc?id=1OVFr62PNO5-PcnWwFO1Frp0K_0UX6ENc\n",
      "To: /Users/priprabh/Downloads/Priyanka/Learnings & Training/Python/Udemy Python/Python-Coding-Exercises/Python-Coding-Exercises/Assignment/Project1/content/Chemistry Questions.pdf\n",
      "100%|████████████████████████████████████████| 279k/279k [00:00<00:00, 8.01MB/s]"
     ]
    },
    {
     "name": "stdout",
     "output_type": "stream",
     "text": [
      "File downloaded successfully at path :./content/Chemistry Questions.pdf\n"
     ]
    },
    {
     "name": "stderr",
     "output_type": "stream",
     "text": [
      "\n"
     ]
    }
   ],
   "source": [
    "import gdown\n",
    "import os\n",
    "\n",
    "# 1.Store a PDF file in a folder called “/content” \n",
    "download_link_url = \"https://drive.google.com/file/d/1OVFr62PNO5-PcnWwFO1Frp0K_0UX6ENc/view?usp=drive_link\"\n",
    "\n",
    "google_download_file_id = download_link_url.split(\"/\")[5]\n",
    "\n",
    "# Corrected URL format for downloading the file\n",
    "actual_download_link_url = f'https://drive.google.com/uc?id={google_download_file_id}'\n",
    "\n",
    "work_folder = \"./content\"\n",
    "\n",
    "# Take care of case where folder is not available \n",
    "# Exception Handling\n",
    "save_file_path = os.path.join(work_folder, \"Chemistry Questions.pdf\")\n",
    "\n",
    "try:\n",
    "    gdown.download(actual_download_link_url, save_file_path, quiet=False)\n",
    "    print(f\"File downloaded successfully at path :{save_file_path}\")\n",
    "except:\n",
    "    if not os.path.exists(work_folder):\n",
    "        os.makedirs(work_folder)\n",
    "    gdown.download(actual_download_link_url, save_file_path, quiet=False)\n",
    "    print(f\"File downloaded successfully at path :{save_file_path}\")"
   ]
  },
  {
   "cell_type": "code",
   "execution_count": 7,
   "id": "746f8823-5826-4490-9548-e9f3a00bc9e8",
   "metadata": {},
   "outputs": [
    {
     "name": "stdout",
     "output_type": "stream",
     "text": [
      "10\n"
     ]
    }
   ],
   "source": [
    "# 2.Read PDF file from the folder \n",
    "import PyPDF2\n",
    "\n",
    "try :\n",
    "    pdffile_handler = open(save_file_path, \"rb\")\n",
    "    #attach a reader object\n",
    "    pdf_reader_data = PyPDF2.PdfReader(pdffile_handler)\n",
    "except:\n",
    "    if not os.path.exists(save_file_path):\n",
    "        print(f\"File is not found in path : {save_file_path}\")"
   ]
  },
  {
   "cell_type": "code",
   "execution_count": 23,
   "id": "9453c733-ac8d-45d6-a38a-c26281219fef",
   "metadata": {},
   "outputs": [
    {
     "data": {
      "text/plain": [
       "\"Chemistry  \\n \\nChapter 1: Basic concepts of chemistry  \\n \\n1. What is the SI unit of mass?  \\nA) Gram (g)  \\nB) Kilogram (kg)  \\nC) Pound (lB)  \\nD) Ounce (oz)  \\nAnswer: B) Kilogram (kg)  \\n2. Which of the following is an example of a chemical change?  \\nA) Melting of ice  \\nB) Cutting of paper  \\nC) Rusting of iron  \\nD) Boiling of water  \\nAnswer: C) Rusting of iron  \\n3. What is Avogadro's number?  \\nA) 6.022×10236.022 \\\\times 10^{23}6.022×1023  \\nB) 3.14×1033.14 \\\\times 10^33.14×103  \\nC) 9.81×1029.81 \\\\times 10^{2}9.81×102  \\nD) 1.67×10−241.67 \\\\times 10^{ -24}1.67×10−24  \\nAnswer: A) 6.022×10236.022 \\\\times 10^{23}6.022×1023  \\n4. Which of the following elements has the highest electronegativity?  \\nA) Oxygen (O)  \\nB) Hydrogen (H)  \\nC) Fluorine (F)  \\nD) Carbon (C)  \\nAnswer: C) Fluorine (F)  \\n5. What is the chemical form ula for water?  \\nA) CO₂ \\nB) H₂O \\nC) O₂ \\nD) HCl  \\nAnswer: B) H ₂O \\n6. Which of the following is a homogeneous mixture?  \\nA) Sand and water  \""
      ]
     },
     "execution_count": 23,
     "metadata": {},
     "output_type": "execute_result"
    }
   ],
   "source": [
    "pdf_reader_data.pages[0].extract_text()"
   ]
  },
  {
   "cell_type": "code",
   "execution_count": 27,
   "id": "a8940194-89a5-44b4-b900-f713424258ac",
   "metadata": {},
   "outputs": [],
   "source": [
    "# 3.Write the content to a text file called “output.txt” \n",
    "output_file_name = \"output.txt\"\n",
    "\n",
    "output_file_handler = open(output_file_name, \"w+\")\n",
    "\n",
    "for page_index in range(len(pdf_reader_data.pages)):\n",
    "    content = pdf_reader_data.pages[page_index].extract_text()\n",
    "    output_file_handler.write(content)\n",
    "\n",
    "output_file_handler.close()\n",
    "    "
   ]
  },
  {
   "cell_type": "code",
   "execution_count": 31,
   "id": "fc5be09a-ea50-49a1-9cf8-dd79f4472d36",
   "metadata": {},
   "outputs": [],
   "source": [
    "# 4.Store this file under the “/content” folder \n",
    "import shutil\n",
    "\n",
    "save_output_txt_directory = \"./content\"\n",
    "\n",
    "output_file_name = \"output.txt\"\n",
    "\n",
    "save_output_txt_file_path = os.path.join(save_output_txt_directory, output_file_name)\n",
    "\n",
    "try :\n",
    "    #If output.txt file exists we need to save it under /content folder\n",
    "    shutil.copyfile(output_file_name, save_output_txt_file_path)\n",
    "except:\n",
    "    # 3.Take care of case where the output.txt file is not available \n",
    "    if not os.path.exists(output_file_name):\n",
    "        print(f\"output.txt file is not found in path : {os.getcwd()}\")\n"
   ]
  },
  {
   "cell_type": "code",
   "execution_count": null,
   "id": "f6b729b7-0b99-4aeb-9c79-f8e44118bf48",
   "metadata": {},
   "outputs": [],
   "source": []
  }
 ],
 "metadata": {
  "kernelspec": {
   "display_name": "Python 3 (ipykernel)",
   "language": "python",
   "name": "python3"
  },
  "language_info": {
   "codemirror_mode": {
    "name": "ipython",
    "version": 3
   },
   "file_extension": ".py",
   "mimetype": "text/x-python",
   "name": "python",
   "nbconvert_exporter": "python",
   "pygments_lexer": "ipython3",
   "version": "3.12.7"
  }
 },
 "nbformat": 4,
 "nbformat_minor": 5
}
