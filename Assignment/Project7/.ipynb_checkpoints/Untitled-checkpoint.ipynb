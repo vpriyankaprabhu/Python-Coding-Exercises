{
 "cells": [
  {
   "cell_type": "markdown",
   "id": "3f33e249-876e-4d9b-8478-d56bef79e5a9",
   "metadata": {},
   "source": [
    "<H1>Project 7</H1>\n",
    "Load RSS content and then extract content from each link. Do this in multiple threads<br/>\n",
    "<H3>Requirements</H3>\n",
    "Load an RSS xml file (Format: https://www.w3schools.com/xml/xml_rss.asp)<br/>\n",
    "Loop through each link<br/>\n",
    "Extract content from each link and write to “output.txt”<br/>\n",
    "Execute reading from multiple links in parallel<br/>\n",
    "<H3>Error Handling</H3>\n",
    "Take care of case where no RSS xml file is available<br/>\n",
    "Take care of case where xml file is empty<br/>\n"
   ]
  },
  {
   "cell_type": "code",
   "execution_count": 2,
   "id": "257e03ab-c84a-4290-8112-806e83efa71c",
   "metadata": {},
   "outputs": [
    {
     "name": "stdout",
     "output_type": "stream",
     "text": [
      "Downloaded http://example.org with status code 200Downloaded http://example.net with status code 200\n",
      "\n",
      "Downloaded http://example.com with status code 200\n",
      "All downloads completed.\n"
     ]
    }
   ],
   "source": [
    "#4. Multithreading for I/O-bound Tasks\n",
    "\n",
    "import threading\n",
    "import time\n",
    "import requests\n",
    "\n",
    "def download_page(url):\n",
    "    response = requests.get(url)\n",
    "    print(f\"Downloaded {url} with status code {response.status_code}\")\n",
    "\n",
    "urls = ['http://example.com', 'http://example.org', 'http://example.net']\n",
    "\n",
    "threads = []\n",
    "\n",
    "# Create threads for downloading each URL\n",
    "for url in urls:\n",
    "    thread = threading.Thread(target=download_page, args=(url,))\n",
    "    threads.append(thread)\n",
    "    thread.start()\n",
    "\n",
    "# Wait for all threads to complete\n",
    "for thread in threads:\n",
    "    thread.join()\n",
    "\n",
    "print(\"All downloads completed.\")\n",
    "#In this case, threading allows us to make multiple HTTP requests concurrently, speeding up the process."
   ]
  },
  {
   "cell_type": "code",
   "execution_count": null,
   "id": "b3dcc2df-a04d-4019-bce6-2fc88736605f",
   "metadata": {},
   "outputs": [],
   "source": [
    "#RSS files\n",
    "\n",
    "#https://feeds.washingtonpost.com/rss/business/technology\n",
    "#https://news.yahoo.com/rss/science\n",
    "#https://feeds.feedburner.com/TechCrunch/"
   ]
  },
  {
   "cell_type": "code",
   "execution_count": null,
   "id": "0dfdceef-1313-4019-9159-a7a40fd6eddb",
   "metadata": {},
   "outputs": [],
   "source": [
    "import requests\n",
    "import bs4\n",
    "\n",
    "response = requests.get(\"https://feeds.washingtonpost.com/rss/business/technology\")\n",
    "soup = bs4.BeautifulSoup(response.text,\"lxml\")"
   ]
  },
  {
   "cell_type": "code",
   "execution_count": null,
   "id": "4aeadd15-c046-480d-86e0-470e40851474",
   "metadata": {},
   "outputs": [],
   "source": [
    "soup"
   ]
  },
  {
   "cell_type": "code",
   "execution_count": null,
   "id": "c90362f4-22b9-4b9e-897d-db374d46a911",
   "metadata": {},
   "outputs": [],
   "source": []
  }
 ],
 "metadata": {
  "kernelspec": {
   "display_name": "Python 3 (ipykernel)",
   "language": "python",
   "name": "python3"
  },
  "language_info": {
   "codemirror_mode": {
    "name": "ipython",
    "version": 3
   },
   "file_extension": ".py",
   "mimetype": "text/x-python",
   "name": "python",
   "nbconvert_exporter": "python",
   "pygments_lexer": "ipython3",
   "version": "3.12.7"
  }
 },
 "nbformat": 4,
 "nbformat_minor": 5
}
