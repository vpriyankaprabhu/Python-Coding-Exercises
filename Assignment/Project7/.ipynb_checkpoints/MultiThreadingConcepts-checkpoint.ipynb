{
 "cells": [
  {
   "cell_type": "markdown",
   "id": "bc4a0bbe-8741-4351-ba7e-6c706db6f0ba",
   "metadata": {},
   "source": [
    "Multithreading in Python is a technique that allows you to run multiple threads (smaller units of a process) concurrently within a single program. This can help make programs more efficient by performing tasks in parallel, especially in I/O-bound applications (e.g., network operations, file handling). However, due to Python's Global Interpreter Lock (GIL), multithreading in Python is often not useful for CPU-bound tasks, as the GIL allows only one thread to execute Python bytecode at a time. For CPU-bound tasks, multiprocessing or other parallelism strategies are often more effective."
   ]
  },
  {
   "cell_type": "code",
   "execution_count": 2,
   "id": "fab2814a-506c-4aaa-835b-032cf358c0e6",
   "metadata": {},
   "outputs": [
    {
     "name": "stdout",
     "output_type": "stream",
     "text": [
      "1\n",
      "2\n",
      "3\n",
      "4\n",
      "5\n",
      "Main thread finished.\n"
     ]
    }
   ],
   "source": [
    "#Creating basic thread\n",
    "import threading\n",
    "import time\n",
    "\n",
    "def print_numbers():\n",
    "    for i in range(1, 6):\n",
    "        time.sleep(1)\n",
    "        print(i)\n",
    "\n",
    "# Create a thread\n",
    "thread = threading.Thread(target=print_numbers)\n",
    "\n",
    "# Start the thread\n",
    "thread.start()\n",
    "\n",
    "# Wait for the thread to complete\n",
    "thread.join()\n",
    "\n",
    "print(\"Main thread finished.\")\n"
   ]
  },
  {
   "cell_type": "code",
   "execution_count": 4,
   "id": "6a9c5ad3-5e8c-4766-a9f6-21915cfbd661",
   "metadata": {},
   "outputs": [
    {
     "name": "stdout",
     "output_type": "stream",
     "text": [
      "0\n",
      "a\n",
      "1\n",
      "b\n",
      "2\n",
      "c\n",
      "3\n",
      "d\n",
      "4\n",
      "e\n",
      "Both threads execution finished.\n"
     ]
    }
   ],
   "source": [
    "#Multiple threads\n",
    "import threading\n",
    "import time\n",
    "\n",
    "def print_numbers():\n",
    "    for i in range(5):\n",
    "        time.sleep(1)\n",
    "        print(i)\n",
    "\n",
    "def print_letters():\n",
    "    for i in ['a','b','c','d','e']:\n",
    "        time.sleep(1)\n",
    "        print(i)\n",
    "\n",
    "# Create a thread\n",
    "thread1 = threading.Thread(target=print_numbers)\n",
    "thread2 = threading.Thread(target=print_letters)\n",
    "\n",
    "# Start the thread\n",
    "thread1.start()\n",
    "thread2.start()\n",
    "\n",
    "# Wait for the thread to complete\n",
    "thread1.join()\n",
    "thread2.join()\n",
    "\n",
    "print(\"Both threads execution finished.\")\n"
   ]
  },
  {
   "cell_type": "code",
   "execution_count": 6,
   "id": "093b13b7-0ae1-4286-9f84-aa3cae77d64f",
   "metadata": {},
   "outputs": [
    {
     "name": "stdout",
     "output_type": "stream",
     "text": [
      "1\n",
      "2\n",
      "3\n",
      "4\n",
      "5\n",
      "Main thread finished.\n"
     ]
    }
   ],
   "source": [
    "#Use threading with args\n",
    "import threading\n",
    "import time\n",
    "\n",
    "def print_numbers(start, end):\n",
    "    for i in range(start, end + 1):\n",
    "        time.sleep(1)\n",
    "        print(i)\n",
    "\n",
    "# Create a thread with arguments\n",
    "thread = threading.Thread(target=print_numbers, args=(1, 5))\n",
    "\n",
    "# Start the thread\n",
    "thread.start()\n",
    "\n",
    "# Wait for the thread to complete\n",
    "thread.join()\n",
    "\n",
    "print(\"Main thread finished.\")\n"
   ]
  },
  {
   "cell_type": "code",
   "execution_count": 8,
   "id": "dac9f535-bee3-4284-b2f4-6c2ede11a1bd",
   "metadata": {},
   "outputs": [
    {
     "name": "stdout",
     "output_type": "stream",
     "text": [
      "Final counter value: 1000\n",
      "Execution complete!\n"
     ]
    }
   ],
   "source": [
    "#Example of Locking:\n",
    "import threading\n",
    "import time\n",
    "\n",
    "counter=0\n",
    "lock=threading.Lock()\n",
    "\n",
    "def increment_counter():\n",
    "    global counter\n",
    "    with lock:\n",
    "        current = counter\n",
    "        current += 1\n",
    "        counter = current\n",
    "\n",
    "#create multiple threads\n",
    "threads = [ threading.Thread(target=increment_counter) for _ in range(1000) ]\n",
    "\n",
    "#start threads\n",
    "for thread in threads:\n",
    "    thread.start()\n",
    "\n",
    "#wait for them to complete\n",
    "for thread in threads:\n",
    "    thread.join()\n",
    "\n",
    "print(f\"Final counter value: {counter}\")\n",
    "print(\"Execution complete!\")\n",
    "#In this example, a lock ensures that only one thread increments the counter at a time, preventing race conditions."
   ]
  },
  {
   "cell_type": "code",
   "execution_count": 10,
   "id": "8a3009bb-4528-4139-a59d-5bab6f3c2053",
   "metadata": {},
   "outputs": [
    {
     "name": "stdout",
     "output_type": "stream",
     "text": [
      "1\n",
      "11\n",
      "40\n",
      "2\n",
      "12\n",
      "41\n",
      "3\n",
      "13\n",
      "42\n",
      "414\n",
      "\n",
      "43\n",
      "15\n",
      "5\n",
      "44\n",
      "45\n"
     ]
    }
   ],
   "source": [
    "#3. Thread Pools\n",
    "#Instead of manually creating and managing threads, you can use the concurrent.futures.ThreadPoolExecutor class to manage a pool of threads.\n",
    "\n",
    "#In this example, ThreadPoolExecutor is used to manage a pool of threads, which can be more efficient and cleaner than manually managing individual threads.\n",
    "\n",
    "import concurrent.futures\n",
    "import time\n",
    "\n",
    "def print_numbers(start,end):\n",
    "    for i in range(start, end+1):\n",
    "        time.sleep(1)\n",
    "        print(i)\n",
    "# Using ThreadPoolExecutor\n",
    "\n",
    "with concurrent.futures.ThreadPoolExecutor(max_workers=3) as executor:\n",
    "    executor.submit(print_numbers, 1,5)\n",
    "    executor.submit(print_numbers, 11,15)\n",
    "    executor.submit(print_numbers, 40,45)"
   ]
  },
  {
   "cell_type": "code",
   "execution_count": 18,
   "id": "7d8934df-58cf-495d-9939-d20246306ad6",
   "metadata": {},
   "outputs": [
    {
     "name": "stdout",
     "output_type": "stream",
     "text": [
      "Downloaded http://example.org with status code 200\n",
      "Downloaded http://example.net with status code 200\n",
      "Downloaded http://example.com with status code 200\n",
      "All downloads completed.\n"
     ]
    }
   ],
   "source": [
    "#4. Multithreading for I/O-bound Tasks\n",
    "\n",
    "import threading\n",
    "import time\n",
    "import requests\n",
    "\n",
    "def download_page(url):\n",
    "    response = requests.get(url)\n",
    "    print(f\"Downloaded {url} with status code {response.status_code}\")\n",
    "\n",
    "urls = ['http://example.com', 'http://example.org', 'http://example.net']\n",
    "\n",
    "threads = []\n",
    "\n",
    "# Create threads for downloading each URL\n",
    "for url in urls:\n",
    "    thread = threading.Thread(target=download_page, args=(url,))\n",
    "    threads.append(thread)\n",
    "    thread.start()\n",
    "\n",
    "# Wait for all threads to complete\n",
    "for thread in threads:\n",
    "    thread.join()\n",
    "\n",
    "print(\"All downloads completed.\")\n",
    "#In this case, threading allows us to make multiple HTTP requests concurrently, speeding up the process."
   ]
  },
  {
   "cell_type": "code",
   "execution_count": null,
   "id": "11a9b878-1cfe-485a-b51c-b1e3635aa884",
   "metadata": {},
   "outputs": [],
   "source": []
  }
 ],
 "metadata": {
  "kernelspec": {
   "display_name": "Python 3 (ipykernel)",
   "language": "python",
   "name": "python3"
  },
  "language_info": {
   "codemirror_mode": {
    "name": "ipython",
    "version": 3
   },
   "file_extension": ".py",
   "mimetype": "text/x-python",
   "name": "python",
   "nbconvert_exporter": "python",
   "pygments_lexer": "ipython3",
   "version": "3.12.7"
  }
 },
 "nbformat": 4,
 "nbformat_minor": 5
}
