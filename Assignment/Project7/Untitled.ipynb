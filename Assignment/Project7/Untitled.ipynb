{
 "cells": [
  {
   "cell_type": "markdown",
   "id": "3f33e249-876e-4d9b-8478-d56bef79e5a9",
   "metadata": {},
   "source": [
    "<H1>Project 7</H1>\n",
    "Load RSS content and then extract content from each link. Do this in multiple threads<br/>\n",
    "<H3>Requirements</H3>\n",
    "Load an RSS xml file (Format: https://www.w3schools.com/xml/xml_rss.asp)<br/>\n",
    "Loop through each link<br/>\n",
    "Extract content from each link and write to “output.txt”<br/>\n",
    "Execute reading from multiple links in parallel<br/>\n",
    "<H3>Error Handling</H3>\n",
    "Take care of case where no RSS xml file is available<br/>\n",
    "Take care of case where xml file is empty<br/>\n"
   ]
  },
  {
   "cell_type": "code",
   "execution_count": 2,
   "id": "ae2d434a-fb4a-4124-9aa5-1c0ec02cac4a",
   "metadata": {},
   "outputs": [],
   "source": [
    "import requests\n",
    "import bs4"
   ]
  },
  {
   "cell_type": "code",
   "execution_count": 4,
   "id": "8f804f61-c855-498b-915d-15ace0896896",
   "metadata": {},
   "outputs": [
    {
     "data": {
      "text/plain": [
       "<Response [200]>"
      ]
     },
     "execution_count": 4,
     "metadata": {},
     "output_type": "execute_result"
    }
   ],
   "source": [
    "result = requests.get(\"https://www.w3schools.com/xml/xml_rss.asp\")\n",
    "result"
   ]
  },
  {
   "cell_type": "code",
   "execution_count": 8,
   "id": "89bd7c22-083f-4ac0-8d85-eae4e25c99f5",
   "metadata": {},
   "outputs": [],
   "source": [
    "#result.text"
   ]
  },
  {
   "cell_type": "code",
   "execution_count": 30,
   "id": "9c38ed0b-cf90-4458-b1e6-929a4cd4fd43",
   "metadata": {},
   "outputs": [
    {
     "data": {
      "text/plain": [
       "[<li>RSS stands for <b>R</b>eally <b>S</b>imple <b>S</b>yndication</li>,\n",
       " <li>RSS allows you to syndicate your site content</li>,\n",
       " <li>RSS defines an easy way to share and view headlines and content</li>,\n",
       " <li>RSS files can be automatically updated</li>,\n",
       " <li>RSS allows personalized views for different sites</li>,\n",
       " <li>RSS is written in XML</li>,\n",
       " <li>News sites - Lists news with title, date and descriptions</li>,\n",
       " <li>Companies - Lists news and new products</li>,\n",
       " <li>Calendars - Lists upcoming events and important days</li>,\n",
       " <li>Site changes - Lists changed pages or new pages</li>,\n",
       " <li>1997 - Dave Winer at UserLand develops scriptingNews. RSS was born</li>,\n",
       " <li>1999 - Netscape develops RSS 0.90 (which supported scriptingNews)</li>,\n",
       " <li>1999 - Dave Winer develops scriptingNews 2.0b1 (which included RSS 0.90 features)</li>,\n",
       " <li>1999 - Netscape develops RSS 0.91 (which included most features from scriptingNews 2.0b1)</li>,\n",
       " <li>1999 - UserLand gets rid of scriptingNews and uses only RSS 0.91</li>,\n",
       " <li>1999 - Netscape stops their RSS development</li>,\n",
       " <li>2000 - UserLand releases the official RSS 0.91 specification</li>,\n",
       " <li>2000 - O'Reilly develops RSS 1.0. This format uses RDF and namespaces.</li>,\n",
       " <li>2000 - Dave Winer at UserLand develops RSS 0.92</li>,\n",
       " <li>2002 - Dave Winer develops RSS 2.0 after leaving UserLand</li>,\n",
       " <li>2003 - The official RSS 2.0 specification is released</li>,\n",
       " <li>About 50 % of all RSS feeds use RSS 0.91</li>,\n",
       " <li>About 25 % use RSS 1.0</li>,\n",
       " <li>The last 25 % is split between RSS 0.9x versions and RSS 2.0</li>,\n",
       " <li>&lt;title&gt; - Defines the title of the channel (e.g. W3Schools Home Page)</li>,\n",
       " <li>&lt;link&gt; - Defines the hyperlink to the channel (e.g. https://www.w3schools.com)</li>,\n",
       " <li>&lt;description&gt; - Describes the channel (e.g. Free web building tutorials)</li>,\n",
       " <li>&lt;title&gt; - Defines the title of the item (e.g. RSS Tutorial)</li>,\n",
       " <li>&lt;link&gt; - Defines the hyperlink to the item (e.g. https://www.w3schools.com/xml/xml_rss.asp)</li>,\n",
       " <li>&lt;description&gt; - Describes the item (e.g. New RSS tutorial on W3Schools)</li>,\n",
       " <li>All elements must have a closing tag</li>,\n",
       " <li>Elements are case sensitive</li>,\n",
       " <li>Elements must be properly nested</li>,\n",
       " <li>Attribute values must always be quoted</li>,\n",
       " <li>&lt;title&gt; - Defines the title of the channel (e.g. W3Schools Home Page)</li>,\n",
       " <li>&lt;link&gt; - Defines the hyperlink to the channel (e.g. https://www.w3schools.com)</li>,\n",
       " <li>&lt;description&gt; - Describes the channel (e.g. Free web building tutorials)</li>,\n",
       " <li>&lt;url&gt; - Defines the URL to the image</li>,\n",
       " <li>&lt;title&gt; - Defines the text to display if the image could not be shown</li>,\n",
       " <li>&lt;link&gt; - Defines the hyperlink to the website that offers the channel</li>,\n",
       " <li>&lt;title&gt; - Defines the title of the item (e.g. RSS Tutorial)</li>,\n",
       " <li>&lt;link&gt; - Defines the hyperlink to the item (e.g. https://www.w3schools.com/xml/xml_rss.asp)</li>,\n",
       " <li>&lt;description&gt; - Describes the item (e.g. New RSS tutorial on W3Schools)</li>,\n",
       " <li>url - Defines the URL to the media file</li>,\n",
       " <li>length - Defines the length (in bytes) of the media file</li>,\n",
       " <li>type - Defines the type of media file</li>,\n",
       " <li>Google -<a href=\"http://www.google.com/ig\" target=\"_blank\">\n",
       " </a>\n",
       " <a href=\"http://www.google.com/submityourcontent/website-owner\" target=\"_blank\">\n",
       "  http://www.google.com/submityourcontent/website-owner</a></li>,\n",
       " <li><a href=\"http://wordpress.org/\" target=\"_blank\">Wordpress</a></li>,\n",
       " <li><a href=\"http://www.blogger.com/\" target=\"_blank\">Blogger</a></li>,\n",
       " <li><a href=\"http://radio.userland.com/\" target=\"_blank\">Radio</a></li>,\n",
       " <li><a href=\"http://quiterss.org/en\" target=\"_blank\">QuiteRSS</a> - An open-source, cross-platform RSS/Atom news \n",
       "   feed reader</li>,\n",
       " <li><a href=\"http://feedreader.com/\" target=\"_blank\">FeedReader</a> - A \n",
       "   simple, straightforward feed reader that easily handles large number of feeds</li>]"
      ]
     },
     "execution_count": 30,
     "metadata": {},
     "output_type": "execute_result"
    }
   ],
   "source": [
    "soup = bs4.BeautifulSoup(result.text, \"lxml\")\n",
    "soup.select(\"li\")"
   ]
  },
  {
   "cell_type": "code",
   "execution_count": null,
   "id": "257e03ab-c84a-4290-8112-806e83efa71c",
   "metadata": {},
   "outputs": [],
   "source": []
  }
 ],
 "metadata": {
  "kernelspec": {
   "display_name": "Python 3 (ipykernel)",
   "language": "python",
   "name": "python3"
  },
  "language_info": {
   "codemirror_mode": {
    "name": "ipython",
    "version": 3
   },
   "file_extension": ".py",
   "mimetype": "text/x-python",
   "name": "python",
   "nbconvert_exporter": "python",
   "pygments_lexer": "ipython3",
   "version": "3.12.7"
  }
 },
 "nbformat": 4,
 "nbformat_minor": 5
}
