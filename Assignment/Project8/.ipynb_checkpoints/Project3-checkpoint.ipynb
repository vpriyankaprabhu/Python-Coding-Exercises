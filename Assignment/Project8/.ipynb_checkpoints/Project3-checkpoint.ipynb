{
 "cells": [
  {
   "cell_type": "markdown",
   "id": "990afaa2-2278-4f7f-a304-36c6ed67c4e1",
   "metadata": {},
   "source": [
    "<h1>Project 1</h1>\n",
    "Read a pdf file from a folder. Refer to the PDF file Chemistry Questions.pdf\n",
    "<br/>\n",
    "<h3>Requirements</h3>\n",
    "1.Store a PDF file in a folder called “/content”\n",
    "<br/>\n",
    "2.Read PDF file from the folder\n",
    "<br/>\n",
    "3.Write the content to a text file called “output.txt”\n",
    "<br/>\n",
    "4.Store this file under the “/content” folder\n",
    "<br/>\n",
    "<h3>Error Handling</h3>\n",
    "1.Take care of case where folder is not available\n",
    "<br/>\n",
    "2.Take care of case where PDF file is not present in the content folder\n",
    "<br/>\n",
    "3.Take care of case where the output.txt file is not available\n",
    "<br/>"
   ]
  },
  {
   "cell_type": "code",
   "execution_count": 11,
   "id": "3b7514c8-8433-4878-8dd3-ad3285daec37",
   "metadata": {},
   "outputs": [
    {
     "name": "stderr",
     "output_type": "stream",
     "text": [
      "Downloading...\n",
      "From: https://drive.google.com/uc?id=1OVFr62PNO5-PcnWwFO1Frp0K_0UX6ENc\n",
      "To: /Users/priprabh/Downloads/Priyanka/Learnings & Training/Python/Udemy Python/Python-Coding-Exercises/Python-Coding-Exercises/Assignment/Project3/content/Chemistry Questions.pdf\n",
      "100%|████████████████████████████████████████| 279k/279k [00:00<00:00, 2.40MB/s]"
     ]
    },
    {
     "name": "stdout",
     "output_type": "stream",
     "text": [
      "File downloaded successfully at path :./content/Chemistry Questions.pdf\n"
     ]
    },
    {
     "name": "stderr",
     "output_type": "stream",
     "text": [
      "\n"
     ]
    }
   ],
   "source": [
    "import gdown\n",
    "import os\n",
    "\n",
    "# 1.Store a PDF file in a folder called “/content” \n",
    "download_link_url = \"https://drive.google.com/file/d/1OVFr62PNO5-PcnWwFO1Frp0K_0UX6ENc/view?usp=drive_link\"\n",
    "google_download_file_id = download_link_url.split(\"/\")[5]\n",
    "# Corrected URL format for downloading the file\n",
    "actual_download_link_url = f'https://drive.google.com/uc?id={google_download_file_id}'\n",
    "work_folder = \"./content\"\n",
    "\n",
    "def download_file(actual_download_link_url):\n",
    "    # Take care of case where folder is not available \n",
    "    # Exception Handling\n",
    "    save_file_path = os.path.join(work_folder, \"Chemistry Questions.pdf\")\n",
    "    \n",
    "    try:\n",
    "        gdown.download(actual_download_link_url, save_file_path, quiet=False)\n",
    "        print(f\"File downloaded successfully at path :{save_file_path}\")\n",
    "    except:\n",
    "        if not os.path.exists(work_folder):\n",
    "            os.makedirs(work_folder)\n",
    "        gdown.download(actual_download_link_url, save_file_path, quiet=False)\n",
    "        print(f\"File downloaded successfully at path :{save_file_path}\")\n",
    "\n",
    "download_file(actual_download_link_url)"
   ]
  },
  {
   "cell_type": "code",
   "execution_count": 37,
   "id": "746f8823-5826-4490-9548-e9f3a00bc9e8",
   "metadata": {},
   "outputs": [
    {
     "name": "stdout",
     "output_type": "stream",
     "text": [
      "<class 'PyPDF2._reader.PdfReader'>\n"
     ]
    }
   ],
   "source": [
    "# 2.Read PDF file from the folder \n",
    "import PyPDF2\n",
    "\n",
    "def readPDFFile(file_path):\n",
    "    try :\n",
    "        pdffile_handler = open(file_path, \"rb\")\n",
    "        #attach a reader object\n",
    "        pdf_reader_data = PyPDF2.PdfReader(pdffile_handler)\n",
    "    except:\n",
    "        if not os.path.exists(file_path):\n",
    "            print(f\"File is not found in path : {file_path}\")\n",
    "\n",
    "save_file_path = os.path.join(work_folder, \"Chemistry Questions.pdf\")\n",
    "readPDFFile(save_file_path)"
   ]
  },
  {
   "cell_type": "code",
   "execution_count": 27,
   "id": "a8940194-89a5-44b4-b900-f713424258ac",
   "metadata": {},
   "outputs": [],
   "source": [
    "# 3.Write the content to a text file called “output.txt” \n",
    "output_file_name = \"output.txt\"\n",
    "\n",
    "output_file_handler = open(output_file_name, \"w+\")\n",
    "\n",
    "for page_index in range(len(pdf_reader_data.pages)):\n",
    "    content = pdf_reader_data.pages[page_index].extract_text()\n",
    "    output_file_handler.write(content)\n",
    "\n",
    "output_file_handler.close()\n",
    "    "
   ]
  },
  {
   "cell_type": "code",
   "execution_count": 31,
   "id": "fc5be09a-ea50-49a1-9cf8-dd79f4472d36",
   "metadata": {},
   "outputs": [],
   "source": [
    "# 4.Store this file under the “/content” folder \n",
    "import shutil\n",
    "\n",
    "save_output_txt_directory = \"./content\"\n",
    "\n",
    "output_file_name = \"output.txt\"\n",
    "\n",
    "save_output_txt_file_path = os.path.join(save_output_txt_directory, output_file_name)\n",
    "\n",
    "try :\n",
    "    #If output.txt file exists we need to save it under /content folder\n",
    "    shutil.copyfile(output_file_name, save_output_txt_file_path)\n",
    "except:\n",
    "    # 3.Take care of case where the output.txt file is not available \n",
    "    if not os.path.exists(output_file_name):\n",
    "        print(f\"output.txt file is not found in path : {os.getcwd()}\")\n"
   ]
  },
  {
   "cell_type": "code",
   "execution_count": 41,
   "id": "af6133ab-fc4d-4525-9356-3c91446f3375",
   "metadata": {},
   "outputs": [
    {
     "name": "stderr",
     "output_type": "stream",
     "text": [
      "Downloading...\n",
      "From: https://drive.google.com/uc?id=1OVFr62PNO5-PcnWwFO1Frp0K_0UX6ENc\n",
      "To: /Users/priprabh/Downloads/Priyanka/Learnings & Training/Python/Udemy Python/Python-Coding-Exercises/Python-Coding-Exercises/Assignment/Project3/content/Chemistry Questions.pdf\n",
      "100%|████████████████████████████████████████| 279k/279k [00:00<00:00, 7.62MB/s]"
     ]
    },
    {
     "name": "stdout",
     "output_type": "stream",
     "text": [
      "File downloaded successfully at path :./content/Chemistry Questions.pdf\n"
     ]
    },
    {
     "name": "stderr",
     "output_type": "stream",
     "text": [
      "\n"
     ]
    }
   ],
   "source": [
    "import gdown\n",
    "import os\n",
    "import PyPDF2\n",
    "import shutil\n",
    "\n",
    "def download_file(actual_download_link_url):\n",
    "    # Take care of case where folder is not available \n",
    "    # Exception Handling\n",
    "    save_file_path = os.path.join(work_folder, \"Chemistry Questions.pdf\")\n",
    "    \n",
    "    try:\n",
    "        gdown.download(actual_download_link_url, save_file_path, quiet=False)\n",
    "        print(f\"File downloaded successfully at path :{save_file_path}\")\n",
    "    except:\n",
    "        if not os.path.exists(work_folder):\n",
    "            os.makedirs(work_folder)\n",
    "        gdown.download(actual_download_link_url, save_file_path, quiet=False)\n",
    "        print(f\"File downloaded successfully at path :{save_file_path}\")\n",
    "\n",
    "def main():\n",
    "    # 1.Store a PDF file in a folder called “/content” \n",
    "    download_link_url = \"https://drive.google.com/file/d/1OVFr62PNO5-PcnWwFO1Frp0K_0UX6ENc/view?usp=drive_link\"\n",
    "    google_download_file_id = download_link_url.split(\"/\")[5]\n",
    "    # Corrected URL format for downloading the file\n",
    "    actual_download_link_url = f'https://drive.google.com/uc?id={google_download_file_id}'\n",
    "    work_folder = \"./content\"\n",
    "    \n",
    "    download_file(actual_download_link_url)\n",
    "\n",
    "    # 2.Read PDF file from the folder \n",
    "    save_file_path = os.path.join(work_folder, \"Chemistry Questions.pdf\")\n",
    "    try :\n",
    "        pdffile_handler = open(save_file_path, \"rb\")\n",
    "        #attach a reader object\n",
    "        pdf_reader_data = PyPDF2.PdfReader(pdffile_handler)\n",
    "    except:\n",
    "        if not os.path.exists(save_file_path):\n",
    "            print(f\"File is not found in path : {save_file_path}\")\n",
    "\n",
    "    # 3.Write the content to a text file called “output.txt” \n",
    "    output_file_name = \"output.txt\"\n",
    "    output_file_handler = open(output_file_name, \"w+\")\n",
    "    \n",
    "    for page_index in range(len(pdf_reader_data.pages)):\n",
    "        content = pdf_reader_data.pages[page_index].extract_text()\n",
    "        output_file_handler.write(content)\n",
    "    \n",
    "    output_file_handler.close()\n",
    "\n",
    "    # 4.Store this file under the “/content” folder \n",
    "    save_output_txt_directory = \"./content\"    \n",
    "    save_output_txt_file_path = os.path.join(save_output_txt_directory, output_file_name)\n",
    "    \n",
    "    try :\n",
    "        #If output.txt file exists we need to save it under /content folder\n",
    "        shutil.copyfile(output_file_name, save_output_txt_file_path)\n",
    "    except:\n",
    "        # 3.Take care of case where the output.txt file is not available \n",
    "        if not os.path.exists(output_file_name):\n",
    "            print(f\"output.txt file is not found in path : {os.getcwd()}\")\n",
    "\n",
    "if __name__ == \"__main__\":\n",
    "    main()\n",
    "\n"
   ]
  },
  {
   "cell_type": "markdown",
   "id": "434268e5-7999-4d4a-be3b-38553270dcc9",
   "metadata": {},
   "source": [
    "<h1>Project 3</h1>\n",
    "Read content from a particular page<br/>\n",
    "<h3>Requirements</h3>\n",
    "Update project 1 and update the reading of content <br/>\n",
    "Take a page number as an input from command prompt<br/>\n",
    "Read content of the page number provided and write to the output file<br/>\n",
    "<h3>Error Handling</h3>\n",
    "Take care of case where folder is not available<br/>\n",
    "Take care of case where PDF file is not present in a sub-folder<br/>\n",
    "Take care of case where the output.txt file is not available in a sub-folder<br/>\n"
   ]
  },
  {
   "cell_type": "code",
   "execution_count": 55,
   "id": "28969197-ed08-4724-95c5-ab4aba8d10c3",
   "metadata": {},
   "outputs": [
    {
     "name": "stdin",
     "output_type": "stream",
     "text": [
      "Enter a number in range 1-10: 11\n",
      "Enter a number in range 1-10: 2\n"
     ]
    },
    {
     "name": "stdout",
     "output_type": "stream",
     "text": [
      "2\n"
     ]
    }
   ],
   "source": [
    "valid_range_list = list(map(str, range(1,11)))\n",
    "\n",
    "page_number = input(\"Enter a number in range 1-10:\")\n",
    "while not page_number.isdigit() or page_number not in valid_range_list:\n",
    "    page_number = input(\"Enter a number in range 1-10:\")\n",
    "    if page_number.isdigit() and page_number in valid_range_list:\n",
    "        break\n",
    "    else:\n",
    "        continue\n",
    "\n",
    "print(page_number)"
   ]
  },
  {
   "cell_type": "code",
   "execution_count": 69,
   "id": "86b17446-a771-4362-a15e-63623d78813a",
   "metadata": {},
   "outputs": [
    {
     "name": "stderr",
     "output_type": "stream",
     "text": [
      "Downloading...\n",
      "From: https://drive.google.com/uc?id=1OVFr62PNO5-PcnWwFO1Frp0K_0UX6ENc\n",
      "To: /Users/priprabh/Downloads/Priyanka/Learnings & Training/Python/Udemy Python/Python-Coding-Exercises/Python-Coding-Exercises/Assignment/Project3/content/Chemistry Questions.pdf\n",
      "100%|████████████████████████████████████████| 279k/279k [00:00<00:00, 1.74MB/s]\n"
     ]
    },
    {
     "name": "stdout",
     "output_type": "stream",
     "text": [
      "File downloaded successfully at path :./content/Chemistry Questions.pdf\n"
     ]
    },
    {
     "name": "stdin",
     "output_type": "stream",
     "text": [
      "Enter a number in range 1-10: 10\n"
     ]
    },
    {
     "name": "stdout",
     "output_type": "stream",
     "text": [
      "C) Sublimation  \n",
      "D) Deposition  \n",
      "Answer: C) Sublimation  \n",
      "7. Which of the following statements best describes a liquid?  \n",
      "A) Par ticles are tightly packed and vibrate in place  \n",
      "B) Particles move freely and have no definite shape or volume  \n",
      "C) Particles are close but can move past one another and have a definite volume  \n",
      "D) Particles are far apart and fill the entire space available  \n",
      "Answ er: C) Particles are close but can move past one another and have a definite volume  \n",
      "8. Which phase change occurs when a gas turns into a liquid?  \n",
      "A) Freezing  \n",
      "B) Boiling  \n",
      "C) Condensation  \n",
      "D) Melting  \n",
      "Answer: C) Condensation  \n",
      "9. What happens during the process of melting?  \n",
      "A) A liquid turns into a gas  \n",
      "B) A solid turns into a liquid  \n",
      "C) A gas turns into a liquid  \n",
      "D) A liquid turns into a solid  \n",
      "Answer: B) A solid turns into a liquid  \n",
      "10. Which state of matter is characterized by ionized  particles and is found \n",
      "in stars?  \n",
      "A) Solid  \n",
      "B) Liquid  \n",
      "C) Gas  \n",
      "D) Plasma  \n",
      "Answer: D) Plasma  \n",
      " \n",
      " \n",
      " \n",
      " \n"
     ]
    }
   ],
   "source": [
    "import gdown\n",
    "import os\n",
    "import PyPDF2\n",
    "import shutil\n",
    "\n",
    "def download_file(actual_download_link_url):\n",
    "    # Take care of case where folder is not available \n",
    "    # Exception Handling\n",
    "    save_file_path = os.path.join(work_folder, \"Chemistry Questions.pdf\")\n",
    "    \n",
    "    try:\n",
    "        gdown.download(actual_download_link_url, save_file_path, quiet=False)\n",
    "        print(f\"File downloaded successfully at path :{save_file_path}\")\n",
    "    except:\n",
    "        if not os.path.exists(work_folder):\n",
    "            os.makedirs(work_folder)\n",
    "        gdown.download(actual_download_link_url, save_file_path, quiet=False)\n",
    "        print(f\"File downloaded successfully at path :{save_file_path}\")\n",
    "\n",
    "def main():\n",
    "    # 1.Store a PDF file in a folder called “/content” \n",
    "    download_link_url = \"https://drive.google.com/file/d/1OVFr62PNO5-PcnWwFO1Frp0K_0UX6ENc/view?usp=drive_link\"\n",
    "    google_download_file_id = download_link_url.split(\"/\")[5]\n",
    "    # Corrected URL format for downloading the file\n",
    "    actual_download_link_url = f'https://drive.google.com/uc?id={google_download_file_id}'\n",
    "    work_folder = \"./content\"\n",
    "    \n",
    "    download_file(actual_download_link_url)\n",
    "\n",
    "    # 2.Read PDF file from the folder \n",
    "    save_file_path = os.path.join(work_folder, \"Chemistry Questions.pdf\")\n",
    "    try :\n",
    "        pdffile_handler = open(save_file_path, \"rb\")\n",
    "        #attach a reader object\n",
    "        pdf_reader_data = PyPDF2.PdfReader(pdffile_handler)\n",
    "    except:\n",
    "        if not os.path.exists(save_file_path):\n",
    "            print(f\"File is not found in path : {save_file_path}\")\n",
    "\n",
    "    # 3.Write the content to a text file called “output.txt” \n",
    "    output_file_name = \"output.txt\"\n",
    "    output_file_handler = open(output_file_name, \"w+\")\n",
    "    \n",
    "    # for page_index in range(len(pdf_reader_data.pages)):\n",
    "    #     content = pdf_reader_data.pages[page_index].extract_text()\n",
    "    #     output_file_handler.write(content)\n",
    "\n",
    "    # Take a page number as an input from command prompt\n",
    "    valid_page_numbers_range_list = list(map(str, range(1,11)))\n",
    "\n",
    "    page_number = input(\"Enter a number in range 1-10:\")\n",
    "    while not page_number.isdigit() or page_number not in valid_range_list:\n",
    "        page_number = input(\"Enter a number in range 1-10:\")\n",
    "        if page_number.isdigit() and page_number in valid_range_list:\n",
    "            break\n",
    "        else:\n",
    "            continue\n",
    "\n",
    "    # Read content of the page number provided and write to the output file\n",
    "    page_no = int(page_number) - 1 #since page no start from 0 index\n",
    "    content = pdf_reader_data.pages[page_no].extract_text()\n",
    "    print(pdf_reader_data.pages[page_no].extract_text())\n",
    "    output_file_handler.write(content)\n",
    "    output_file_handler.close()\n",
    "\n",
    "    # 4.Store this file under the “/content” folder \n",
    "    save_output_txt_directory = \"./content\"    \n",
    "    save_output_txt_file_path = os.path.join(save_output_txt_directory, output_file_name)\n",
    "    \n",
    "    try :\n",
    "        #If output.txt file exists we need to save it under /content folder\n",
    "        shutil.copyfile(output_file_name, save_output_txt_file_path)\n",
    "    except:\n",
    "        # 3.Take care of case where the output.txt file is not available \n",
    "        if not os.path.exists(output_file_name):\n",
    "            print(f\"output.txt file is not found in path : {os.getcwd()}\")\n",
    "\n",
    "if __name__ == \"__main__\":\n",
    "    main()"
   ]
  },
  {
   "cell_type": "code",
   "execution_count": null,
   "id": "f7880541-8f71-4dd7-8803-0ca2cb253011",
   "metadata": {},
   "outputs": [],
   "source": []
  }
 ],
 "metadata": {
  "kernelspec": {
   "display_name": "Python 3 (ipykernel)",
   "language": "python",
   "name": "python3"
  },
  "language_info": {
   "codemirror_mode": {
    "name": "ipython",
    "version": 3
   },
   "file_extension": ".py",
   "mimetype": "text/x-python",
   "name": "python",
   "nbconvert_exporter": "python",
   "pygments_lexer": "ipython3",
   "version": "3.12.7"
  }
 },
 "nbformat": 4,
 "nbformat_minor": 5
}
