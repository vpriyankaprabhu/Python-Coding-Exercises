{
 "cells": [
  {
   "cell_type": "markdown",
   "metadata": {},
   "source": [
    "___\n",
    "\n",
    "<a href='https://www.udemy.com/user/joseportilla/'><img src='../Pierian_Data_Logo.png'/></a>\n",
    "___\n",
    "<center><em>Content Copyright by Pierian Data</em></center>"
   ]
  },
  {
   "cell_type": "markdown",
   "metadata": {},
   "source": [
    "# PDFs and Spreadsheets Puzzle Exercise\n",
    "\n",
    "Let's test your skills, the files needed for this puzzle exercise\n",
    "\n",
    "You will need to work with two files for this exercise and solve the following tasks:\n",
    "\n",
    "* Task One: Use Python to extract the Google Drive link from the .csv file. (Hint: Its along the diagonal from top left to bottom right).\n",
    "* Task Two: Download the PDF from the Google Drive link (we already downloaded it for you just in case you can't download from Google Drive) and find the phone number that is in the document. Note: There are different ways of formatting a phone number!"
   ]
  },
  {
   "cell_type": "markdown",
   "metadata": {},
   "source": [
    "## Task One: Grab the Google Drive Link from .csv File"
   ]
  },
  {
   "cell_type": "code",
   "execution_count": 1,
   "metadata": {},
   "outputs": [
    {
     "data": {
      "text/plain": [
       "\"/Users/priprabh/Downloads/Priyanka/Learnings & Training/Python/Udemy Python/Python-Coding-Exercises/Python-Coding-Exercises/15-PDF's-Spreadsheets\""
      ]
     },
     "execution_count": 1,
     "metadata": {},
     "output_type": "execute_result"
    }
   ],
   "source": [
    "pwd"
   ]
  },
  {
   "cell_type": "code",
   "execution_count": 37,
   "metadata": {},
   "outputs": [
    {
     "name": "stdout",
     "output_type": "stream",
     "text": [
      "Records found in csv file : 66\n",
      "\n",
      "The Google drive link is here : https://drive.google.com/open?id=1G6SEgg018UB4_4xsAJJ5TdzrhmXipr4Q\n"
     ]
    }
   ],
   "source": [
    "import csv\n",
    "\n",
    "#Open the file\n",
    "file_handler = open(\"Exercise-Files/find_the_link.csv\",\"r\", encoding=\"utf-8\")\n",
    "\n",
    "#assosiate a csv reader\n",
    "csv_reader = csv.reader(file_handler)\n",
    "\n",
    "#reformat\n",
    "csv_data = list(csv_reader)\n",
    "\n",
    "#print no of records in csv file\n",
    "print(f\"Records found in csv file : {len(csv_data)}\")\n",
    "print()\n",
    "\n",
    "#this is how we should grab the drive link in diagonal fashion\n",
    "# print(csv_data[0][0])\n",
    "# print(csv_data[1][1])\n",
    "# print(csv_data[2][2])\n",
    "# print(csv_data[3][3])\n",
    "# print(csv_data[4][4])\n",
    "# print(csv_data[5][5])\n",
    "\n",
    "\n",
    "collect_drive_link_values_list = []\n",
    "for index in range(len(csv_data)):\n",
    "    collect_drive_link_values_list.append(csv_data[index][index])\n",
    "\n",
    "collect_drive_link_values_list\n",
    "\n",
    "google_drive_link = ''.join(collect_drive_link_values_list)\n",
    "print(f\"The Google drive link is here : {google_drive_link}\")"
   ]
  },
  {
   "cell_type": "code",
   "execution_count": 14,
   "metadata": {},
   "outputs": [
    {
     "data": {
      "text/plain": [
       "'https://drive.google.com/open?id=1G6SEgg018UB4_4xsAJJ5TdzrhmXipr4Q'"
      ]
     },
     "execution_count": 14,
     "metadata": {},
     "output_type": "execute_result"
    }
   ],
   "source": [
    "# THe correct result is shown below, if you can't download from Google Drive, \n",
    "# we added the PDF file to the Exercise_Files folder already"
   ]
  },
  {
   "cell_type": "markdown",
   "metadata": {},
   "source": [
    "## Task Two: Download the PDF from the Google Drive link and find the phone number that is in the document. "
   ]
  },
  {
   "cell_type": "code",
   "execution_count": 47,
   "metadata": {},
   "outputs": [
    {
     "name": "stdout",
     "output_type": "stream",
     "text": [
      "-1 / unknown"
     ]
    },
    {
     "data": {
      "text/plain": [
       "'Exercise-Files/Find-Phone-Numbers.pdf'"
      ]
     },
     "execution_count": 47,
     "metadata": {},
     "output_type": "execute_result"
    }
   ],
   "source": [
    "#Download this file from google link drive\n",
    "#pip install wget\n",
    "import wget\n",
    "wget.download(google_drive_link, \"Exercise-Files/Find-Phone-Numbers.pdf\")\n"
   ]
  },
  {
   "cell_type": "code",
   "execution_count": 137,
   "metadata": {},
   "outputs": [
    {
     "data": {
      "text/plain": [
       "'505.503.4455'"
      ]
     },
     "execution_count": 137,
     "metadata": {},
     "output_type": "execute_result"
    }
   ],
   "source": [
    "# You should get this phone number\n",
    "# 505 503 4455\n",
    "import re\n",
    "\n",
    "pattern = r\"\\d{3}.\\d{3}.\\d{4}\"\n",
    "text = \"My phone number is 505.503.4455\"\n",
    "\n",
    "match = re.search(pattern, text)\n",
    "match.group()"
   ]
  },
  {
   "cell_type": "code",
   "execution_count": 85,
   "metadata": {},
   "outputs": [
    {
     "data": {
      "text/plain": [
       "17"
      ]
     },
     "execution_count": 85,
     "metadata": {},
     "output_type": "execute_result"
    }
   ],
   "source": [
    "#read the pdf file\n",
    "\n",
    "import PyPDF2\n",
    "file_handler = open(\"Exercise-Files/Find_the_Phone_Number.pdf\", \"rb\")\n",
    "\n",
    "pdf_reader = PyPDF2.PdfReader(file_handler)\n",
    "\n",
    "len(pdf_reader.pages)"
   ]
  },
  {
   "cell_type": "code",
   "execution_count": 87,
   "metadata": {},
   "outputs": [],
   "source": [
    "#Check contents of the pdf file one page at a time\n",
    "\n",
    "all_content = []\n",
    "\n",
    "for i in range(len(pdf_reader.pages)):\n",
    "    all_content.append(pdf_reader.pages[i].extract_text())\n",
    "\n",
    "#print(all_content)"
   ]
  },
  {
   "cell_type": "code",
   "execution_count": 157,
   "metadata": {},
   "outputs": [],
   "source": [
    "#for page in all_content:\n",
    "#    print(page)"
   ]
  },
  {
   "cell_type": "code",
   "execution_count": 177,
   "metadata": {},
   "outputs": [
    {
     "name": "stdout",
     "output_type": "stream",
     "text": [
      "['Page 13, Pattern Found is :: 505.503.4455']\n"
     ]
    }
   ],
   "source": [
    "# You should get this phone number\n",
    "# 505 503 4455\n",
    "pattern_to_search = r\"\\d{3}.\\d{3}.\\d{4}\"\n",
    "\n",
    "pattern_found_list = []\n",
    "\n",
    "page_no = -1\n",
    "for page in all_content:\n",
    "    page_no += 1\n",
    "    if re.search(pattern_to_search, page) != None:\n",
    "        pattern_found_list.append(f\"Page {page_no}, Pattern Found is :: {re.search(pattern_to_search, page).group()}\")\n",
    "\n",
    "print(pattern_found_list)"
   ]
  },
  {
   "cell_type": "code",
   "execution_count": null,
   "metadata": {},
   "outputs": [],
   "source": []
  }
 ],
 "metadata": {
  "anaconda-cloud": {},
  "kernelspec": {
   "display_name": "Python 3 (ipykernel)",
   "language": "python",
   "name": "python3"
  },
  "language_info": {
   "codemirror_mode": {
    "name": "ipython",
    "version": 3
   },
   "file_extension": ".py",
   "mimetype": "text/x-python",
   "name": "python",
   "nbconvert_exporter": "python",
   "pygments_lexer": "ipython3",
   "version": "3.12.7"
  }
 },
 "nbformat": 4,
 "nbformat_minor": 4
}
