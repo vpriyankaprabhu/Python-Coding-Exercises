{
 "cells": [
  {
   "cell_type": "code",
   "execution_count": 1,
   "id": "4356d05e-5624-4077-a448-92e8aaad8d70",
   "metadata": {},
   "outputs": [],
   "source": [
    "#Equality operator ==\n",
    "#Assignment operator ="
   ]
  },
  {
   "cell_type": "code",
   "execution_count": 3,
   "id": "4eb0a688-7e36-451f-a64f-9f2499647342",
   "metadata": {},
   "outputs": [
    {
     "data": {
      "text/plain": [
       "True"
      ]
     },
     "execution_count": 3,
     "metadata": {},
     "output_type": "execute_result"
    }
   ],
   "source": [
    "1 == 1"
   ]
  },
  {
   "cell_type": "code",
   "execution_count": 5,
   "id": "168a0000-bbe3-4b2b-8a69-12348cca55fc",
   "metadata": {},
   "outputs": [
    {
     "data": {
      "text/plain": [
       "False"
      ]
     },
     "execution_count": 5,
     "metadata": {},
     "output_type": "execute_result"
    }
   ],
   "source": [
    "1 == 2"
   ]
  },
  {
   "cell_type": "code",
   "execution_count": 7,
   "id": "45051756-f110-4fd4-b106-e7bceea7eb82",
   "metadata": {},
   "outputs": [
    {
     "data": {
      "text/plain": [
       "True"
      ]
     },
     "execution_count": 7,
     "metadata": {},
     "output_type": "execute_result"
    }
   ],
   "source": [
    "2 == 2.0"
   ]
  },
  {
   "cell_type": "code",
   "execution_count": 9,
   "id": "8bf8c698-b1ae-4da0-b2a4-2a1e69b4dd97",
   "metadata": {},
   "outputs": [
    {
     "data": {
      "text/plain": [
       "False"
      ]
     },
     "execution_count": 9,
     "metadata": {},
     "output_type": "execute_result"
    }
   ],
   "source": [
    "2 != 2.0"
   ]
  },
  {
   "cell_type": "code",
   "execution_count": 11,
   "id": "78240f46-5c11-4357-a2e2-30e98eba2ca5",
   "metadata": {},
   "outputs": [
    {
     "data": {
      "text/plain": [
       "True"
      ]
     },
     "execution_count": 11,
     "metadata": {},
     "output_type": "execute_result"
    }
   ],
   "source": [
    "3.0 == 3"
   ]
  },
  {
   "cell_type": "code",
   "execution_count": 15,
   "id": "08efa8fa-5632-4cda-8045-8a7a09d5fdc4",
   "metadata": {},
   "outputs": [
    {
     "data": {
      "text/plain": [
       "True"
      ]
     },
     "execution_count": 15,
     "metadata": {},
     "output_type": "execute_result"
    }
   ],
   "source": [
    "3.0 == 3.0"
   ]
  },
  {
   "cell_type": "code",
   "execution_count": 17,
   "id": "6b4c9fc5-d983-487a-bf05-3a724f462937",
   "metadata": {},
   "outputs": [
    {
     "data": {
      "text/plain": [
       "False"
      ]
     },
     "execution_count": 17,
     "metadata": {},
     "output_type": "execute_result"
    }
   ],
   "source": [
    "4 < 2"
   ]
  },
  {
   "cell_type": "code",
   "execution_count": 19,
   "id": "cf0237ec-aee6-4c8a-be6c-6ffc992ce166",
   "metadata": {},
   "outputs": [
    {
     "data": {
      "text/plain": [
       "True"
      ]
     },
     "execution_count": 19,
     "metadata": {},
     "output_type": "execute_result"
    }
   ],
   "source": [
    "4 > 2"
   ]
  },
  {
   "cell_type": "code",
   "execution_count": 21,
   "id": "b7bd4e04-85ae-4063-8a8f-f80cc82b882d",
   "metadata": {},
   "outputs": [
    {
     "data": {
      "text/plain": [
       "False"
      ]
     },
     "execution_count": 21,
     "metadata": {},
     "output_type": "execute_result"
    }
   ],
   "source": [
    "4 == 2"
   ]
  },
  {
   "cell_type": "code",
   "execution_count": 23,
   "id": "d7a51673-20a9-4eb5-aaa5-980045ed94df",
   "metadata": {},
   "outputs": [
    {
     "data": {
      "text/plain": [
       "True"
      ]
     },
     "execution_count": 23,
     "metadata": {},
     "output_type": "execute_result"
    }
   ],
   "source": [
    "4!=2"
   ]
  },
  {
   "cell_type": "code",
   "execution_count": 25,
   "id": "ff4f2532-ce27-4089-b93b-0e1fb9ad1020",
   "metadata": {},
   "outputs": [
    {
     "data": {
      "text/plain": [
       "False"
      ]
     },
     "execution_count": 25,
     "metadata": {},
     "output_type": "execute_result"
    }
   ],
   "source": [
    "4 <= 2"
   ]
  },
  {
   "cell_type": "code",
   "execution_count": 27,
   "id": "6c62524e-7a47-416c-a68c-f254d31d1ba3",
   "metadata": {},
   "outputs": [
    {
     "data": {
      "text/plain": [
       "True"
      ]
     },
     "execution_count": 27,
     "metadata": {},
     "output_type": "execute_result"
    }
   ],
   "source": [
    "4 >= 2"
   ]
  },
  {
   "cell_type": "code",
   "execution_count": 29,
   "id": "cf3b3819-78a5-4012-a0c1-6cefea4de987",
   "metadata": {},
   "outputs": [
    {
     "data": {
      "text/plain": [
       "False"
      ]
     },
     "execution_count": 29,
     "metadata": {},
     "output_type": "execute_result"
    }
   ],
   "source": [
    "'hello' == 'bye'"
   ]
  },
  {
   "cell_type": "code",
   "execution_count": 31,
   "id": "a47e4bf8-5b80-4088-bb88-47775a2967ff",
   "metadata": {},
   "outputs": [
    {
     "data": {
      "text/plain": [
       "False"
      ]
     },
     "execution_count": 31,
     "metadata": {},
     "output_type": "execute_result"
    }
   ],
   "source": [
    "'hello' == 'Hello'"
   ]
  },
  {
   "cell_type": "code",
   "execution_count": 33,
   "id": "8d59a4f0-258d-412e-aa5b-426733f4c74f",
   "metadata": {},
   "outputs": [
    {
     "data": {
      "text/plain": [
       "True"
      ]
     },
     "execution_count": 33,
     "metadata": {},
     "output_type": "execute_result"
    }
   ],
   "source": [
    "'Hello' == 'Hello'"
   ]
  },
  {
   "cell_type": "code",
   "execution_count": 35,
   "id": "609f5ed9-6472-479d-b283-b171b9f66628",
   "metadata": {},
   "outputs": [],
   "source": [
    "# Chaining of all the operators using logical operators"
   ]
  },
  {
   "cell_type": "code",
   "execution_count": 37,
   "id": "843a09f4-0661-4a87-a935-4fc6754e877d",
   "metadata": {},
   "outputs": [
    {
     "data": {
      "text/plain": [
       "True"
      ]
     },
     "execution_count": 37,
     "metadata": {},
     "output_type": "execute_result"
    }
   ],
   "source": [
    "1<2"
   ]
  },
  {
   "cell_type": "code",
   "execution_count": 39,
   "id": "f4ed85b6-95fe-4827-922f-0eb9caa0447d",
   "metadata": {},
   "outputs": [
    {
     "data": {
      "text/plain": [
       "True"
      ]
     },
     "execution_count": 39,
     "metadata": {},
     "output_type": "execute_result"
    }
   ],
   "source": [
    "2<3"
   ]
  },
  {
   "cell_type": "code",
   "execution_count": 41,
   "id": "41ac8250-1f0f-4791-a540-7137198805ac",
   "metadata": {},
   "outputs": [
    {
     "data": {
      "text/plain": [
       "True"
      ]
     },
     "execution_count": 41,
     "metadata": {},
     "output_type": "execute_result"
    }
   ],
   "source": [
    "#chain them together now\n",
    "1<2<3"
   ]
  },
  {
   "cell_type": "code",
   "execution_count": 43,
   "id": "e7bac0f9-bf5e-4da4-b0e5-72c9c7c4a1a8",
   "metadata": {},
   "outputs": [
    {
     "data": {
      "text/plain": [
       "True"
      ]
     },
     "execution_count": 43,
     "metadata": {},
     "output_type": "execute_result"
    }
   ],
   "source": [
    "1<2 and 2<3"
   ]
  },
  {
   "cell_type": "code",
   "execution_count": 45,
   "id": "5e91ffae-ce1e-43dc-8a2c-e95ad00607ac",
   "metadata": {},
   "outputs": [
    {
     "data": {
      "text/plain": [
       "False"
      ]
     },
     "execution_count": 45,
     "metadata": {},
     "output_type": "execute_result"
    }
   ],
   "source": [
    "1<2>3"
   ]
  },
  {
   "cell_type": "code",
   "execution_count": 47,
   "id": "8728bb4c-40b4-42d1-9b59-723dcf435dde",
   "metadata": {},
   "outputs": [
    {
     "data": {
      "text/plain": [
       "False"
      ]
     },
     "execution_count": 47,
     "metadata": {},
     "output_type": "execute_result"
    }
   ],
   "source": [
    "1<2 and 2>3"
   ]
  },
  {
   "cell_type": "code",
   "execution_count": 49,
   "id": "61a4a25c-2220-4f92-a45b-2e5b5e2b1609",
   "metadata": {},
   "outputs": [
    {
     "data": {
      "text/plain": [
       "True"
      ]
     },
     "execution_count": 49,
     "metadata": {},
     "output_type": "execute_result"
    }
   ],
   "source": [
    "'h' == 'h' and 2 == 2"
   ]
  },
  {
   "cell_type": "code",
   "execution_count": 51,
   "id": "846e42f4-4a92-45e0-8c72-9c3945366135",
   "metadata": {},
   "outputs": [
    {
     "data": {
      "text/plain": [
       "True"
      ]
     },
     "execution_count": 51,
     "metadata": {},
     "output_type": "execute_result"
    }
   ],
   "source": [
    "('h' == 'h') and (2 == 2)"
   ]
  },
  {
   "cell_type": "code",
   "execution_count": 53,
   "id": "dcf7c314-bab9-4423-9a60-5e95949c1d62",
   "metadata": {},
   "outputs": [
    {
     "data": {
      "text/plain": [
       "True"
      ]
     },
     "execution_count": 53,
     "metadata": {},
     "output_type": "execute_result"
    }
   ],
   "source": [
    "1<2 or 2>3"
   ]
  },
  {
   "cell_type": "code",
   "execution_count": 55,
   "id": "db81277d-9d0e-482d-98e3-ae64053dcd3a",
   "metadata": {},
   "outputs": [
    {
     "data": {
      "text/plain": [
       "True"
      ]
     },
     "execution_count": 55,
     "metadata": {},
     "output_type": "execute_result"
    }
   ],
   "source": [
    "1 == 1 or 2<3"
   ]
  },
  {
   "cell_type": "code",
   "execution_count": 57,
   "id": "90016259-577f-42b1-91a2-b6a2a534aed4",
   "metadata": {},
   "outputs": [
    {
     "data": {
      "text/plain": [
       "True"
      ]
     },
     "execution_count": 57,
     "metadata": {},
     "output_type": "execute_result"
    }
   ],
   "source": [
    "1 == 1 or 2>3"
   ]
  },
  {
   "cell_type": "code",
   "execution_count": 59,
   "id": "f6bba23e-e320-498b-8b3c-250f862ba77b",
   "metadata": {},
   "outputs": [
    {
     "data": {
      "text/plain": [
       "True"
      ]
     },
     "execution_count": 59,
     "metadata": {},
     "output_type": "execute_result"
    }
   ],
   "source": [
    "1 == 1"
   ]
  },
  {
   "cell_type": "code",
   "execution_count": 61,
   "id": "52cde8a0-b3f3-407e-9322-2fc1f1c6b062",
   "metadata": {},
   "outputs": [
    {
     "data": {
      "text/plain": [
       "False"
      ]
     },
     "execution_count": 61,
     "metadata": {},
     "output_type": "execute_result"
    }
   ],
   "source": [
    "not (1 == 1)"
   ]
  },
  {
   "cell_type": "code",
   "execution_count": 65,
   "id": "af236864-3b91-4ab8-9fed-0f12ef8f2c4f",
   "metadata": {},
   "outputs": [
    {
     "data": {
      "text/plain": [
       "True"
      ]
     },
     "execution_count": 65,
     "metadata": {},
     "output_type": "execute_result"
    }
   ],
   "source": [
    "1!=2"
   ]
  },
  {
   "cell_type": "code",
   "execution_count": 67,
   "id": "bc70742e-051a-41e2-bbbd-a4b2d1f35caf",
   "metadata": {},
   "outputs": [
    {
     "data": {
      "text/plain": [
       "False"
      ]
     },
     "execution_count": 67,
     "metadata": {},
     "output_type": "execute_result"
    }
   ],
   "source": [
    "not 1!=2"
   ]
  },
  {
   "cell_type": "code",
   "execution_count": null,
   "id": "faae5c94-f3a7-4cb5-a171-1bf6273ae186",
   "metadata": {},
   "outputs": [],
   "source": []
  }
 ],
 "metadata": {
  "kernelspec": {
   "display_name": "Python 3 (ipykernel)",
   "language": "python",
   "name": "python3"
  },
  "language_info": {
   "codemirror_mode": {
    "name": "ipython",
    "version": 3
   },
   "file_extension": ".py",
   "mimetype": "text/x-python",
   "name": "python",
   "nbconvert_exporter": "python",
   "pygments_lexer": "ipython3",
   "version": "3.12.7"
  }
 },
 "nbformat": 4,
 "nbformat_minor": 5
}
