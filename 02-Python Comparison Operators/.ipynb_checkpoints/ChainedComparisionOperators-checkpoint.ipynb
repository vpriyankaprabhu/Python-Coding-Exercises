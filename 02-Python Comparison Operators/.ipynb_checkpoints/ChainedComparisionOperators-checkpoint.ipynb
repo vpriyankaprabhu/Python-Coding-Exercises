{
 "cells": [
  {
   "cell_type": "markdown",
   "id": "c647a246-439b-41ec-8418-8d5ef2fe3521",
   "metadata": {},
   "source": [
    "<h1> Chained Comparison Operators </h1>"
   ]
  },
  {
   "cell_type": "code",
   "execution_count": 23,
   "id": "a7d1426f-a88a-4f4a-94da-3e826adc175f",
   "metadata": {},
   "outputs": [
    {
     "data": {
      "text/plain": [
       "False"
      ]
     },
     "execution_count": 23,
     "metadata": {},
     "output_type": "execute_result"
    }
   ],
   "source": [
    "1 > 2"
   ]
  },
  {
   "cell_type": "code",
   "execution_count": 25,
   "id": "bb969a4d-1ea6-44c0-9308-594246df06b2",
   "metadata": {},
   "outputs": [
    {
     "data": {
      "text/plain": [
       "False"
      ]
     },
     "execution_count": 25,
     "metadata": {},
     "output_type": "execute_result"
    }
   ],
   "source": [
    "2 > 3"
   ]
  },
  {
   "cell_type": "code",
   "execution_count": 29,
   "id": "ed3524f1-1765-4ac7-b029-4238e2e1d1ee",
   "metadata": {},
   "outputs": [
    {
     "data": {
      "text/plain": [
       "False"
      ]
     },
     "execution_count": 29,
     "metadata": {},
     "output_type": "execute_result"
    }
   ],
   "source": [
    "#how to chain them together\n",
    "1 > 2 > 3"
   ]
  },
  {
   "cell_type": "markdown",
   "id": "eeba1a1f-0ae0-4866-9a70-dacafdfb1569",
   "metadata": {},
   "source": [
    "<p>\n",
    "An interesting feature of Python is the ability to chain multiple comparisons to perform a more complex test. You can use these chained comparisons as shorthand for larger Boolean Expressions.\n",
    "\n",
    "In this lecture we will learn how to chain comparison operators and we will also introduce two other important statements in Python: and and or.\n",
    "</p>"
   ]
  },
  {
   "cell_type": "code",
   "execution_count": 17,
   "id": "ded12c81-6d88-435d-8a7e-2c60a51c61ec",
   "metadata": {},
   "outputs": [
    {
     "data": {
      "text/plain": [
       "True"
      ]
     },
     "execution_count": 17,
     "metadata": {},
     "output_type": "execute_result"
    }
   ],
   "source": [
    "1 < 2"
   ]
  },
  {
   "cell_type": "code",
   "execution_count": 19,
   "id": "70ef2024-d75a-4f6a-8668-9bf05cfddfd6",
   "metadata": {},
   "outputs": [
    {
     "data": {
      "text/plain": [
       "True"
      ]
     },
     "execution_count": 19,
     "metadata": {},
     "output_type": "execute_result"
    }
   ],
   "source": [
    "2 < 3"
   ]
  },
  {
   "cell_type": "code",
   "execution_count": 21,
   "id": "d78ec2d6-4c40-41ad-a276-0375982a8ba4",
   "metadata": {},
   "outputs": [
    {
     "data": {
      "text/plain": [
       "True"
      ]
     },
     "execution_count": 21,
     "metadata": {},
     "output_type": "execute_result"
    }
   ],
   "source": [
    "1 < 2 < 3"
   ]
  },
  {
   "cell_type": "code",
   "execution_count": 31,
   "id": "c1f93ca0-8851-44d6-9b2e-8fb1f393b680",
   "metadata": {},
   "outputs": [
    {
     "data": {
      "text/plain": [
       "True"
      ]
     },
     "execution_count": 31,
     "metadata": {},
     "output_type": "execute_result"
    }
   ],
   "source": [
    "#it can also be written as \n",
    "1 < 2 and 2 < 3"
   ]
  },
  {
   "cell_type": "code",
   "execution_count": 33,
   "id": "67291874-8c7f-4636-a9f8-e0a87df1e7a2",
   "metadata": {},
   "outputs": [],
   "source": [
    "#another example"
   ]
  },
  {
   "cell_type": "code",
   "execution_count": 47,
   "id": "2de4e41d-0c9c-4e77-90ba-adfc557745a4",
   "metadata": {},
   "outputs": [
    {
     "data": {
      "text/plain": [
       "True"
      ]
     },
     "execution_count": 47,
     "metadata": {},
     "output_type": "execute_result"
    }
   ],
   "source": [
    "## The and is used to make sure two checks have to be true in order for the total check to be true. Let's see another example:\n",
    "1 < 3 > 2"
   ]
  },
  {
   "cell_type": "code",
   "execution_count": 37,
   "id": "a5c27e9a-59be-469d-b9fe-f489d1ec2c74",
   "metadata": {},
   "outputs": [
    {
     "data": {
      "text/plain": [
       "True"
      ]
     },
     "execution_count": 37,
     "metadata": {},
     "output_type": "execute_result"
    }
   ],
   "source": [
    "#The above checks if 3 is larger than both of the other numbers, so you could use and to rewrite it as:\n",
    "1 < 3 and 3 > 2"
   ]
  },
  {
   "cell_type": "code",
   "execution_count": 49,
   "id": "6bd37fcb-2923-413d-9eeb-ef290b43f422",
   "metadata": {},
   "outputs": [
    {
     "data": {
      "text/plain": [
       "True"
      ]
     },
     "execution_count": 49,
     "metadata": {},
     "output_type": "execute_result"
    }
   ],
   "source": [
    "#We can also use or to write comparisons in Python. For example:\n",
    "\n",
    "1 == 1 or 2 > 3 #returned True for 1==1"
   ]
  },
  {
   "cell_type": "code",
   "execution_count": 51,
   "id": "8fcc8941-f745-44c8-8a5a-0564776db275",
   "metadata": {},
   "outputs": [
    {
     "data": {
      "text/plain": [
       "True"
      ]
     },
     "execution_count": 51,
     "metadata": {},
     "output_type": "execute_result"
    }
   ],
   "source": [
    "1==2 or 2<3"
   ]
  },
  {
   "cell_type": "code",
   "execution_count": 53,
   "id": "db349507-6adb-4006-bf82-76a068affd44",
   "metadata": {},
   "outputs": [],
   "source": [
    "#Note how it was true; this is because with the or operator, we only need one or the other to be true. \n",
    "#Let's see one more example to drive this home:"
   ]
  },
  {
   "cell_type": "code",
   "execution_count": 57,
   "id": "4ce794e2-482d-4536-aca1-6df8800f8c40",
   "metadata": {},
   "outputs": [
    {
     "data": {
      "text/plain": [
       "False"
      ]
     },
     "execution_count": 57,
     "metadata": {},
     "output_type": "execute_result"
    }
   ],
   "source": [
    "1==0 or 100==1"
   ]
  },
  {
   "cell_type": "code",
   "execution_count": 59,
   "id": "c0bfbdce-b04b-482d-bef9-8f9513e4b7bb",
   "metadata": {},
   "outputs": [
    {
     "data": {
      "text/plain": [
       "True"
      ]
     },
     "execution_count": 59,
     "metadata": {},
     "output_type": "execute_result"
    }
   ],
   "source": [
    "1==1 or 100==1"
   ]
  },
  {
   "cell_type": "code",
   "execution_count": null,
   "id": "6868898a-d99a-441d-9363-41a555b4e983",
   "metadata": {},
   "outputs": [],
   "source": []
  }
 ],
 "metadata": {
  "kernelspec": {
   "display_name": "Python 3 (ipykernel)",
   "language": "python",
   "name": "python3"
  },
  "language_info": {
   "codemirror_mode": {
    "name": "ipython",
    "version": 3
   },
   "file_extension": ".py",
   "mimetype": "text/x-python",
   "name": "python",
   "nbconvert_exporter": "python",
   "pygments_lexer": "ipython3",
   "version": "3.12.7"
  }
 },
 "nbformat": 4,
 "nbformat_minor": 5
}
