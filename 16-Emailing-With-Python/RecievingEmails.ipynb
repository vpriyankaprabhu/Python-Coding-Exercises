{
 "cells": [
  {
   "cell_type": "code",
   "execution_count": 5,
   "id": "396e3725-6823-46c9-a60f-55e7ca1a846a",
   "metadata": {},
   "outputs": [],
   "source": [
    "# To view the emails in ur mail inbox python uses in built library called imaplib and email libraries in python\n",
    "# the impalib has special syntax to search your inbox "
   ]
  },
  {
   "cell_type": "markdown",
   "id": "45513606-e190-40d6-a469-5a60f5ca92d5",
   "metadata": {},
   "source": [
    "<tr>\n",
    "    <td>'BEFORE date'</td>&nbsp&nbsp&nbsp\n",
    "    <td>\n",
    "    ==> Returns all messages before the date. Date must be formatted as 01-Nov-2000.\n",
    "    </td>\n",
    "</tr>\n",
    "<br/>\n",
    "<br/>\n",
    " <tr>\n",
    "    <td>'ON date'</td>&nbsp&nbsp&nbsp\n",
    "    <td>\n",
    "    ==> Returns all messages on the date. Date must be formatted as 01-Nov-2000.\n",
    "    </td>\n",
    "</tr>\n",
    "<br/>\n",
    "<br/>\n",
    " <tr>\n",
    "    <td>'SINCE date'</td>&nbsp&nbsp&nbsp\n",
    "    <td>\n",
    "    ==> Returns all messages after the date. Date must be formatted as 01-Nov-2000.\n",
    "    </td>\n",
    "</tr>\n",
    "<br/>\n",
    "<br/>\n",
    "<tr>\n",
    "    <td>'FROM some_string '</td>&nbsp&nbsp&nbsp\n",
    "    <td>\n",
    "    ==> Returns all from the sender in the string. String can be an email, for example 'FROM               user@example.com' or just a string that may appear in the email, \"FROM example\"\n",
    "    </td>\n",
    "</tr>\n",
    "<br/>\n",
    "<br/>\n",
    "<tr>\n",
    "    <td>'TO some_string'</td>&nbsp&nbsp&nbsp\n",
    "    <td>\n",
    "    ==> Returns all outgoing email to the email in the string. String can be an email, for example 'FROM user@example.com' or just a string that may appear in the email, \"FROM example\"\n",
    "    </td>\n",
    "</tr>\n",
    "<br/>\n",
    "<br/>\n",
    "<tr>\n",
    "    <td>'CC some_string' and/or 'BCC some_string'</td>&nbsp&nbsp&nbsp\n",
    "    <td>\n",
    "    ==> Returns all messages in your email folder. Often there are size limits from imaplib.\n",
    "    To change these use imaplib._MAXLINE = 100 , where 100 is whatever you want the limit to be.\n",
    "    </td>\n",
    "</tr>\n",
    "<br/>\n",
    "<br/>\n",
    "<tr>\n",
    "    <td>'SUBJECT string','BODY string','TEXT \"string with spaces\"'</td>&nbsp&nbsp&nbsp\n",
    "    <td>\n",
    "    ==> Returns all messages with the subject string or the string in the body of the email. If the string you are searching for has spaces in it, wrap it in double quotes.\n",
    "    </td>\n",
    "</tr>\n",
    "<br/>\n",
    "<br/>\n",
    "<tr>\n",
    "    <td>'SEEN', 'UNSEEN'</td>&nbsp&nbsp&nbsp\n",
    "    <td>\n",
    "    ==> Returns all messages that have been seen or unseen. (Also known as read or unread)\n",
    "    </td>\n",
    "</tr>\n",
    "<br/>\n",
    "<br/>\n",
    "<tr>\n",
    "    <td>'ANSWERED', 'UNANSWERED'</td>&nbsp&nbsp&nbsp\n",
    "    <td>\n",
    "    ==> Returns all messages that have been replied to or unreplied to. \n",
    "    </td>\n",
    "</tr>\n",
    "<br/>\n",
    "<br/>\n",
    "<tr>\n",
    "    <td>'DELETED', 'UNDELETED'</td>&nbsp&nbsp&nbsp\n",
    "    <td>\n",
    "    ==> Returns all messages that have been deleted or that have not been deleted.\n",
    "    </td>\n",
    "</tr>\n",
    "<br/>\n",
    "<br/>\n",
    "<tr>\n",
    "    <td>'ALL'</td>&nbsp&nbsp&nbsp\n",
    "    <td>\n",
    "    ==> Returns all messages in your email folder. Often there are size limits from imaplib. To change these use imaplib._MAXLINE = 100 , where 100 is whatever you want the limit to be.\n",
    "    </td>\n",
    "</tr>"
   ]
  },
  {
   "cell_type": "code",
   "execution_count": 19,
   "id": "66ddafd7-2539-4e4c-8269-29e64ba1ee18",
   "metadata": {},
   "outputs": [],
   "source": [
    "# You can also use the logical operators AND and OR to combine the above statements. \n",
    "#Check out the full list of search keys here: http://www.4d.com/docs/CMU/CMU88864.HTM.\n",
    "\n",
    "#Please note that some IMAP server providers for different email services will have slightly different syntax. \n",
    "#You may need to experiment to get the results you want."
   ]
  },
  {
   "cell_type": "code",
   "execution_count": 23,
   "id": "ea1dac75-4df9-4c5d-ba60-8d45c5166f7d",
   "metadata": {},
   "outputs": [],
   "source": [
    "#Now we can search our mail for any term we want.\n",
    "\n",
    "# Use if you get an error saying limit was reached\n",
    "import imaplib\n",
    "imaplib._MAXLINE = 10000000"
   ]
  },
  {
   "cell_type": "code",
   "execution_count": 25,
   "id": "e46d9e06-926e-4ecf-9537-a2d18151733d",
   "metadata": {},
   "outputs": [],
   "source": [
    "#Send yourself a test email with the subject line:\n",
    "\n",
    "# this is a test email for python\n",
    "# Or some other uniquely identifying string."
   ]
  },
  {
   "cell_type": "code",
   "execution_count": 72,
   "id": "f02f4328-1ae7-43f8-b7e5-1fc24d928133",
   "metadata": {},
   "outputs": [],
   "source": [
    "import smtplib\n",
    "\n",
    "smtp_obj = smtplib.SMTP('smtp.gmail.com',587)"
   ]
  },
  {
   "cell_type": "code",
   "execution_count": 74,
   "id": "193e3bb1-c3e4-45fa-82bb-30a1c749801d",
   "metadata": {},
   "outputs": [
    {
     "data": {
      "text/plain": [
       "(250,\n",
       " b'smtp.gmail.com at your service, [122.171.18.241]\\nSIZE 35882577\\n8BITMIME\\nSTARTTLS\\nENHANCEDSTATUSCODES\\nPIPELINING\\nCHUNKING\\nSMTPUTF8')"
      ]
     },
     "execution_count": 74,
     "metadata": {},
     "output_type": "execute_result"
    }
   ],
   "source": [
    "smtp_obj.ehlo()"
   ]
  },
  {
   "cell_type": "code",
   "execution_count": 76,
   "id": "88b6b8c1-ffcf-4eba-9d63-cbc60f2695b1",
   "metadata": {},
   "outputs": [
    {
     "data": {
      "text/plain": [
       "(220, b'2.0.0 Ready to start TLS')"
      ]
     },
     "execution_count": 76,
     "metadata": {},
     "output_type": "execute_result"
    }
   ],
   "source": [
    "smtp_obj.starttls()"
   ]
  },
  {
   "cell_type": "code",
   "execution_count": 78,
   "id": "ea9b657a-dd5b-4d58-8803-8acedf98475a",
   "metadata": {},
   "outputs": [
    {
     "name": "stdin",
     "output_type": "stream",
     "text": [
      "Email Address: ········\n",
      "Enter App Password: ········\n"
     ]
    },
    {
     "data": {
      "text/plain": [
       "(235, b'2.7.0 Accepted')"
      ]
     },
     "execution_count": 78,
     "metadata": {},
     "output_type": "execute_result"
    }
   ],
   "source": [
    "import getpass\n",
    "email = getpass.getpass(\"Email Address:\")\n",
    "password = getpass.getpass(\"Enter App Password:\")\n",
    "## mydz rsfh bckl ttwj - App password. - Python-Example-Mail\n",
    "smtp_obj.login(email, password)"
   ]
  },
  {
   "cell_type": "code",
   "execution_count": 80,
   "id": "b644bfd4-6da0-40c4-b238-b9a1942a213b",
   "metadata": {},
   "outputs": [
    {
     "name": "stdin",
     "output_type": "stream",
     "text": [
      "Enter subject : kklll\n",
      "Enter email body : effererertert\n"
     ]
    },
    {
     "data": {
      "text/plain": [
       "{}"
      ]
     },
     "execution_count": 80,
     "metadata": {},
     "output_type": "execute_result"
    }
   ],
   "source": [
    "from_address = email\n",
    "to_address = email\n",
    "subject = input(\"Enter subject :\")\n",
    "body = input(\"Enter email body :\")\n",
    "msg = f\"Subject : {subject}\\n{body}\"\n",
    "smtp_obj.sendmail(from_address,to_address,msg)"
   ]
  },
  {
   "cell_type": "code",
   "execution_count": 41,
   "id": "c37779c5-6c3b-422c-abe4-1623a6cb0d01",
   "metadata": {},
   "outputs": [],
   "source": [
    "#so we just sent an email for reading now"
   ]
  },
  {
   "cell_type": "code",
   "execution_count": 82,
   "id": "4cc093a6-d05f-47a0-9670-c83c74326dfa",
   "metadata": {},
   "outputs": [
    {
     "data": {
      "text/plain": [
       "('OK', [b'vpriyankaprabhu@gmail.com authenticated (Success)'])"
      ]
     },
     "execution_count": 82,
     "metadata": {},
     "output_type": "execute_result"
    }
   ],
   "source": [
    "import imaplib\n",
    "\n",
    "M = imaplib.IMAP4_SSL('imap.gmail.com')\n",
    "M.login(email, password)"
   ]
  },
  {
   "cell_type": "code",
   "execution_count": 85,
   "id": "d3f74a45-14f9-4f24-bd45-bf45f8188100",
   "metadata": {},
   "outputs": [
    {
     "data": {
      "text/plain": [
       "('OK',\n",
       " [b'(\\\\HasNoChildren) \"/\" \"Documents\"',\n",
       "  b'(\\\\HasNoChildren) \"/\" \"INBOX\"',\n",
       "  b'(\\\\HasChildren \\\\Noselect) \"/\" \"Infosys\"',\n",
       "  b'(\\\\HasNoChildren) \"/\" \"Infosys/Personal\"',\n",
       "  b'(\\\\HasNoChildren) \"/\" \"Interview\"',\n",
       "  b'(\\\\HasNoChildren) \"/\" \"Investment\"',\n",
       "  b'(\\\\HasNoChildren) \"/\" \"Notes\"',\n",
       "  b'(\\\\HasChildren \\\\Noselect) \"/\" \"Oracle\"',\n",
       "  b'(\\\\HasNoChildren) \"/\" \"Oracle/HDFC\"',\n",
       "  b'(\\\\HasNoChildren) \"/\" \"Pavani\"',\n",
       "  b'(\\\\HasChildren) \"/\" \"Personal\"',\n",
       "  b'(\\\\HasNoChildren) \"/\" \"Personal/Diet\"',\n",
       "  b'(\\\\HasNoChildren) \"/\" \"Personal/GenAI\"',\n",
       "  b'(\\\\HasNoChildren) \"/\" \"Personal/study\"',\n",
       "  b'(\\\\HasNoChildren) \"/\" \"Purva\"',\n",
       "  b'(\\\\HasNoChildren) \"/\" \"Receipts\"',\n",
       "  b'(\\\\HasNoChildren) \"/\" \"Resume\"',\n",
       "  b'(\\\\HasNoChildren) \"/\" \"SMARTZ\"',\n",
       "  b'(\\\\HasNoChildren) \"/\" \"Work\"',\n",
       "  b'(\\\\HasNoChildren) \"/\" \"ZERODHA\"',\n",
       "  b'(\\\\HasChildren \\\\Noselect) \"/\" \"[Gmail]\"',\n",
       "  b'(\\\\All \\\\HasNoChildren) \"/\" \"[Gmail]/All Mail\"',\n",
       "  b'(\\\\Drafts \\\\HasNoChildren) \"/\" \"[Gmail]/Drafts\"',\n",
       "  b'(\\\\HasNoChildren \\\\Important) \"/\" \"[Gmail]/Important\"',\n",
       "  b'(\\\\HasNoChildren \\\\Sent) \"/\" \"[Gmail]/Sent Mail\"',\n",
       "  b'(\\\\HasNoChildren \\\\Junk) \"/\" \"[Gmail]/Spam\"',\n",
       "  b'(\\\\Flagged \\\\HasNoChildren) \"/\" \"[Gmail]/Starred\"',\n",
       "  b'(\\\\HasNoChildren \\\\Trash) \"/\" \"[Gmail]/Trash\"',\n",
       "  b'(\\\\HasNoChildren) \"/\" \"lic\"'])"
      ]
     },
     "execution_count": 85,
     "metadata": {},
     "output_type": "execute_result"
    }
   ],
   "source": [
    "M.list()"
   ]
  },
  {
   "cell_type": "code",
   "execution_count": 87,
   "id": "cb30c1e1-bdf8-4493-b691-49207d8dbef3",
   "metadata": {},
   "outputs": [
    {
     "data": {
      "text/plain": [
       "('OK', [b'623'])"
      ]
     },
     "execution_count": 87,
     "metadata": {},
     "output_type": "execute_result"
    }
   ],
   "source": [
    "# Connect to your inbox\n",
    "M.select(\"inbox\")"
   ]
  },
  {
   "cell_type": "code",
   "execution_count": 121,
   "id": "0f645877-fd06-4347-bdc4-17db988e0bb5",
   "metadata": {},
   "outputs": [],
   "source": [
    "#Let's now search and confirm if it is there:\n",
    "\n",
    "typ ,data = M.search(None,'SUBJECT \"Test Mail From Python\"')\n"
   ]
  },
  {
   "cell_type": "code",
   "execution_count": 123,
   "id": "7645a27a-92a3-4d2e-968b-367a3ed4c51c",
   "metadata": {},
   "outputs": [
    {
     "data": {
      "text/plain": [
       "'OK'"
      ]
     },
     "execution_count": 123,
     "metadata": {},
     "output_type": "execute_result"
    }
   ],
   "source": [
    "#The data will be a list of unique ids.\n",
    "typ\n"
   ]
  },
  {
   "cell_type": "code",
   "execution_count": 125,
   "id": "f7671b56-6011-41ae-bca7-4a08ed17ed87",
   "metadata": {},
   "outputs": [
    {
     "data": {
      "text/plain": [
       "[b'621']"
      ]
     },
     "execution_count": 125,
     "metadata": {},
     "output_type": "execute_result"
    }
   ],
   "source": [
    "data"
   ]
  },
  {
   "cell_type": "code",
   "execution_count": 149,
   "id": "092af958-6a8e-490c-9a6b-5133a693a3f3",
   "metadata": {},
   "outputs": [
    {
     "data": {
      "text/plain": [
       "(b'621 (RFC822 {587}',\n",
       " b'Bcc: vpriyankaprabhu@gmail.com\\r\\nReturn-Path: <vpriyankaprabhu@gmail.com>\\r\\nReceived: from [127.0.0.1] ([122.171.18.241])\\r\\n        by smtp.gmail.com with ESMTPSA id d2e1a72fcca58-725deac1daasm396754b3a.171.2024.12.07.08.37.04\\r\\n        for <vpriyankaprabhu@gmail.com>\\r\\n        (version=TLS1_3 cipher=TLS_AES_256_GCM_SHA384 bits=256/256);\\r\\n        Sat, 07 Dec 2024 08:37:05 -0800 (PST)\\r\\nMessage-ID: <675479b1.050a0220.39202.1c2d@mx.google.com>\\r\\nDate: Sat, 07 Dec 2024 08:37:05 -0800 (PST)\\r\\nFrom: vpriyankaprabhu@gmail.com\\r\\nSubject : Test Mail From Python\\r\\n\\r\\nthis is a test email for python\\r\\n')"
      ]
     },
     "execution_count": 149,
     "metadata": {},
     "output_type": "execute_result"
    }
   ],
   "source": [
    "#The data will be a list of unique ids.\n",
    "id=data[0]\n",
    "\n",
    "result, email_data = M.fetch(id,\"(RFC822)\")\n",
    "email_data[0]"
   ]
  },
  {
   "cell_type": "code",
   "execution_count": 151,
   "id": "9f09acf4-553e-48c7-bbba-ce58bc2cf5d1",
   "metadata": {},
   "outputs": [],
   "source": [
    "raw_email = email_data[0][1]"
   ]
  },
  {
   "cell_type": "code",
   "execution_count": 153,
   "id": "99016ec8-9b13-4bbb-a0b1-5ad26c888bc0",
   "metadata": {},
   "outputs": [
    {
     "data": {
      "text/plain": [
       "b'Bcc: vpriyankaprabhu@gmail.com\\r\\nReturn-Path: <vpriyankaprabhu@gmail.com>\\r\\nReceived: from [127.0.0.1] ([122.171.18.241])\\r\\n        by smtp.gmail.com with ESMTPSA id d2e1a72fcca58-725deac1daasm396754b3a.171.2024.12.07.08.37.04\\r\\n        for <vpriyankaprabhu@gmail.com>\\r\\n        (version=TLS1_3 cipher=TLS_AES_256_GCM_SHA384 bits=256/256);\\r\\n        Sat, 07 Dec 2024 08:37:05 -0800 (PST)\\r\\nMessage-ID: <675479b1.050a0220.39202.1c2d@mx.google.com>\\r\\nDate: Sat, 07 Dec 2024 08:37:05 -0800 (PST)\\r\\nFrom: vpriyankaprabhu@gmail.com\\r\\nSubject : Test Mail From Python\\r\\n\\r\\nthis is a test email for python\\r\\n'"
      ]
     },
     "execution_count": 153,
     "metadata": {},
     "output_type": "execute_result"
    }
   ],
   "source": [
    "raw_email"
   ]
  },
  {
   "cell_type": "code",
   "execution_count": 155,
   "id": "157f7790-7c33-4cd4-b98e-c469e3d392e8",
   "metadata": {},
   "outputs": [],
   "source": [
    "raw_email_string = raw_email.decode('utf-8')"
   ]
  },
  {
   "cell_type": "code",
   "execution_count": 157,
   "id": "378afb74-91de-476d-86bf-104caac42724",
   "metadata": {},
   "outputs": [
    {
     "data": {
      "text/plain": [
       "'Bcc: vpriyankaprabhu@gmail.com\\r\\nReturn-Path: <vpriyankaprabhu@gmail.com>\\r\\nReceived: from [127.0.0.1] ([122.171.18.241])\\r\\n        by smtp.gmail.com with ESMTPSA id d2e1a72fcca58-725deac1daasm396754b3a.171.2024.12.07.08.37.04\\r\\n        for <vpriyankaprabhu@gmail.com>\\r\\n        (version=TLS1_3 cipher=TLS_AES_256_GCM_SHA384 bits=256/256);\\r\\n        Sat, 07 Dec 2024 08:37:05 -0800 (PST)\\r\\nMessage-ID: <675479b1.050a0220.39202.1c2d@mx.google.com>\\r\\nDate: Sat, 07 Dec 2024 08:37:05 -0800 (PST)\\r\\nFrom: vpriyankaprabhu@gmail.com\\r\\nSubject : Test Mail From Python\\r\\n\\r\\nthis is a test email for python\\r\\n'"
      ]
     },
     "execution_count": 157,
     "metadata": {},
     "output_type": "execute_result"
    }
   ],
   "source": [
    "raw_email_string"
   ]
  },
  {
   "cell_type": "code",
   "execution_count": 159,
   "id": "3b54c140-230a-43b5-a5f6-1087f6f93258",
   "metadata": {},
   "outputs": [],
   "source": [
    "#We can use the built in email library to help parse this raw string.\n",
    "\n",
    "import email\n",
    "email_message = email.message_from_string(raw_email_string)"
   ]
  },
  {
   "cell_type": "code",
   "execution_count": 161,
   "id": "aee05df7-4a67-4644-abbc-d15cf6fba9c7",
   "metadata": {},
   "outputs": [
    {
     "data": {
      "text/plain": [
       "<email.message.Message at 0x15e707d40>"
      ]
     },
     "execution_count": 161,
     "metadata": {},
     "output_type": "execute_result"
    }
   ],
   "source": [
    "email_message"
   ]
  },
  {
   "cell_type": "code",
   "execution_count": 173,
   "id": "2305b068-4f0d-4e83-9efe-d227b44761f1",
   "metadata": {},
   "outputs": [
    {
     "name": "stdout",
     "output_type": "stream",
     "text": [
      "Bcc: vpriyankaprabhu@gmail.com\n",
      "Return-Path: <vpriyankaprabhu@gmail.com>\n",
      "Received: from [127.0.0.1] ([122.171.18.241])\n",
      "        by smtp.gmail.com with ESMTPSA id d2e1a72fcca58-725deac1daasm396754b3a.171.2024.12.07.08.37.04\n",
      "        for <vpriyankaprabhu@gmail.com>\n",
      "        (version=TLS1_3 cipher=TLS_AES_256_GCM_SHA384 bits=256/256);\n",
      "        Sat, 07 Dec 2024 08:37:05 -0800 (PST)\n",
      "Message-ID: <675479b1.050a0220.39202.1c2d@mx.google.com>\n",
      "Date: Sat, 07 Dec 2024 08:37:05 -0800 (PST)\n",
      "From: vpriyankaprabhu@gmail.com\n",
      "\n",
      "Subject : Test Mail From Python\n",
      "\n",
      "this is a test email for python\n",
      "\n",
      "b'Subject : Test Mail From Python\\r\\n\\r\\nthis is a test email for python\\r\\n'\n"
     ]
    }
   ],
   "source": [
    "for part in email_message.walk():\n",
    "    print(part)\n",
    "    if part.get_content_type() == \"text/plain\":\n",
    "        body = part.get_payload(decode=True)\n",
    "        print(body)"
   ]
  },
  {
   "cell_type": "code",
   "execution_count": 175,
   "id": "92c16f1c-4585-4f92-9a01-a8924cb612a1",
   "metadata": {},
   "outputs": [
    {
     "data": {
      "text/plain": [
       "b'Subject : Test Mail From Python\\r\\n\\r\\nthis is a test email for python\\r\\n'"
      ]
     },
     "execution_count": 175,
     "metadata": {},
     "output_type": "execute_result"
    }
   ],
   "source": [
    "body"
   ]
  },
  {
   "cell_type": "code",
   "execution_count": null,
   "id": "b580ff4f-bf67-4875-897e-5c8329d3a4b0",
   "metadata": {},
   "outputs": [],
   "source": []
  }
 ],
 "metadata": {
  "kernelspec": {
   "display_name": "Python 3 (ipykernel)",
   "language": "python",
   "name": "python3"
  },
  "language_info": {
   "codemirror_mode": {
    "name": "ipython",
    "version": 3
   },
   "file_extension": ".py",
   "mimetype": "text/x-python",
   "name": "python",
   "nbconvert_exporter": "python",
   "pygments_lexer": "ipython3",
   "version": "3.12.7"
  }
 },
 "nbformat": 4,
 "nbformat_minor": 5
}
