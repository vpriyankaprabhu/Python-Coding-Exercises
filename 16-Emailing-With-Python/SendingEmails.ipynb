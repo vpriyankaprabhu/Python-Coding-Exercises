{
 "cells": [
  {
   "cell_type": "code",
   "execution_count": 5,
   "id": "12cfff79-5156-460c-9371-5736b33721d6",
   "metadata": {},
   "outputs": [],
   "source": [
    "# To send emails in Python, we need to manually go through these steps like\n",
    "# connecting to email server\n",
    "# confirming for successful connection\n",
    "# setting a protocol required\n",
    "# logging on\n",
    "# sending the message"
   ]
  },
  {
   "cell_type": "code",
   "execution_count": 41,
   "id": "0396555c-74b6-4196-b589-e25946438e11",
   "metadata": {},
   "outputs": [],
   "source": [
    "# The smtplib library allows you to manually go through the steps of creating and sending an email in Python:\n",
    "\n",
    "import smtplib"
   ]
  },
  {
   "cell_type": "code",
   "execution_count": null,
   "id": "c83d0bb0-62aa-4c06-83ce-7fbef26eb0d6",
   "metadata": {},
   "outputs": [],
   "source": [
    "# Create an SMTP object for a server. Here are the main Server Domain Name for the top email services.\n",
    "# Gmail (will need App Password)\t==> smtp.gmail.com\n",
    "# Yahoo Mail\t==> smtp.mail.yahoo.com\n",
    "# Outlook.com/Hotmail.com\t==> smtp-mail.outlook.com\n",
    "\n",
    "# SMTP - Simple Mail Transfer Protocol\n",
    "\n",
    "#Next is to create an STMP object that can make the method calls to log you in to your email in order to send messages. \n",
    "#Notice how also specify a port number. If the number 587 does not work on your computer, try using 465 instead. \n",
    "#Keep in mind, a firewall or antivirus may prevent Python from opening up this port, so you may need to disable it on your computer.\n",
    "smtp_object = smtplib.SMTP('smtp.gmail.com',587)\n"
   ]
  },
  {
   "cell_type": "code",
   "execution_count": 45,
   "id": "a575d964-cfe1-4539-ab4e-2a0213ad436d",
   "metadata": {},
   "outputs": [
    {
     "data": {
      "text/plain": [
       "(250,\n",
       " b'smtp.gmail.com at your service, [122.171.18.241]\\nSIZE 35882577\\n8BITMIME\\nSTARTTLS\\nENHANCEDSTATUSCODES\\nPIPELINING\\nCHUNKING\\nSMTPUTF8')"
      ]
     },
     "execution_count": 45,
     "metadata": {},
     "output_type": "execute_result"
    }
   ],
   "source": [
    "#Next we run the ehlo() command which \"greets\" the server and establishes the connection. \n",
    "#This method call should be done directly after creating the object. \n",
    "#Calling it after other methods may result in errors in connecting later on. \n",
    "#The first item in the tuple that is returned should be 250, indicating a successful connection.\n",
    "smtp_object.ehlo()"
   ]
  },
  {
   "cell_type": "code",
   "execution_count": 47,
   "id": "97bc2a7b-8ca9-4c55-a5b2-24e3b7eebf93",
   "metadata": {},
   "outputs": [
    {
     "data": {
      "text/plain": [
       "(220, b'2.0.0 Ready to start TLS')"
      ]
     },
     "execution_count": 47,
     "metadata": {},
     "output_type": "execute_result"
    }
   ],
   "source": [
    "# When using the 587 port, this means you are using TLS encryption, which you need to initiate by running the starttls() command. \n",
    "#If you are using port 465, this means you are using SSL and you can skip this step.\n",
    "smtp_object.starttls()"
   ]
  },
  {
   "cell_type": "code",
   "execution_count": 49,
   "id": "26bac38d-725c-4041-8afe-6920892d0f71",
   "metadata": {},
   "outputs": [],
   "source": [
    "#Now its time to set up the email and the passwords. You should never save the raw string of your password or email in a script, \n",
    "#because anyone that sees this script will then be able to see you email and password! Instead you should use input() to get that information. \n",
    "#If you also don't want your password to be visible when typing it in, you can use the \n",
    "#built-in getpass library that will hide your password as you type it in, either with asterisks or by just keeping it invisible.\n",
    "# For hidden passwords\n",
    "import getpass"
   ]
  },
  {
   "cell_type": "raw",
   "id": "03a895d0-aab9-4c42-8a3e-d49b813e72df",
   "metadata": {
    "vscode": {
     "languageId": "raw"
    }
   },
   "source": [
    "result = getpass.getpass(\"Type something here and it will be hidden:: \")"
   ]
  },
  {
   "cell_type": "code",
   "execution_count": 51,
   "id": "2561e35f-53c6-48c8-8606-15682bbb7890",
   "metadata": {},
   "outputs": [
    {
     "data": {
      "text/plain": [
       "'Priyanka Prabhu'"
      ]
     },
     "execution_count": 51,
     "metadata": {},
     "output_type": "execute_result"
    }
   ],
   "source": [
    "## Just keep in mind that its still visible as an object internally:\n",
    "result"
   ]
  },
  {
   "cell_type": "code",
   "execution_count": 53,
   "id": "3ee83a3d-7431-47c3-ac2f-ec88751a92d6",
   "metadata": {},
   "outputs": [
    {
     "name": "stdout",
     "output_type": "stream",
     "text": [
      "Enter your password csdads\n"
     ]
    },
    {
     "data": {
      "text/plain": [
       "'csdads'"
      ]
     },
     "execution_count": 53,
     "metadata": {},
     "output_type": "execute_result"
    }
   ],
   "source": [
    "# Or just use input()\n",
    "input(\"Enter your password\")"
   ]
  },
  {
   "cell_type": "code",
   "execution_count": 25,
   "id": "bb3ee881-6385-4cb6-b208-d6643a011d90",
   "metadata": {},
   "outputs": [],
   "source": [
    "#Note for Gmail Users, you need to generate an app password instead of your normal email password. \n",
    "#This also requires enabling 2-step authentication. \n",
    "#Follow the instructions here to set-up 2-Step Factor Authentication as well as App Password Generation:\n",
    "#https://support.google.com/accounts/answer/185833?hl=en/. \n",
    "#Set-up 2 Factor Authentication, then create the App Password, choose Mail as the App and give it any name you want. \n",
    "#This will output a 16 letter password for you. Pass in this password as your login password for the smtp."
   ]
  },
  {
   "cell_type": "code",
   "execution_count": 27,
   "id": "17e2e319-4f63-4903-9ba2-dd3fa5daee42",
   "metadata": {},
   "outputs": [],
   "source": [
    "# mydz rsfh bckl ttwj - App password. - Python-Example-Mail"
   ]
  },
  {
   "cell_type": "code",
   "execution_count": 55,
   "id": "87cfb195-73ec-49d4-a95f-10080ddee6f0",
   "metadata": {},
   "outputs": [
    {
     "name": "stdout",
     "output_type": "stream",
     "text": [
      "Enter your email:  ········\n",
      "Enter your password:  ········\n"
     ]
    },
    {
     "data": {
      "text/plain": [
       "(235, b'2.7.0 Accepted')"
      ]
     },
     "execution_count": 55,
     "metadata": {},
     "output_type": "execute_result"
    }
   ],
   "source": [
    "email = getpass.getpass(\"Enter your email: \")\n",
    "password = getpass.getpass(\"Enter your password: \")\n",
    "smtp_object.login(email,password)"
   ]
  },
  {
   "cell_type": "code",
   "execution_count": 31,
   "id": "50692e9a-a0a0-4c8e-b2e7-d353d8269041",
   "metadata": {},
   "outputs": [],
   "source": [
    "#Now we can send an email using the .sendmail() method."
   ]
  },
  {
   "cell_type": "code",
   "execution_count": 57,
   "id": "8715d1e4-6911-43cd-b585-2a754c7114e7",
   "metadata": {},
   "outputs": [
    {
     "name": "stdout",
     "output_type": "stream",
     "text": [
      "Enter your email:  ········\n",
      "Enter the email of the recipient:  ········\n",
      "Enter the subject line:  asdas\n",
      "Type out the message you want to send:  sadfsdfsd\n"
     ]
    },
    {
     "data": {
      "text/plain": [
       "{}"
      ]
     },
     "execution_count": 57,
     "metadata": {},
     "output_type": "execute_result"
    }
   ],
   "source": [
    "from_address = getpass.getpass(\"Enter your email: \")\n",
    "to_address = getpass.getpass(\"Enter the email of the recipient: \")\n",
    "subject = input(\"Enter the subject line: \")\n",
    "message = input(\"Type out the message you want to send: \")\n",
    "msg = \"Subject: \" + subject + '\\n' + message\n",
    "smtp_object.sendmail(from_address,to_address,msg)"
   ]
  },
  {
   "cell_type": "code",
   "execution_count": 35,
   "id": "71d1610c-2b72-4705-87a3-e2d5cfc9085b",
   "metadata": {},
   "outputs": [],
   "source": [
    "#If you get back an empty dictionary, then the sending was successful."
   ]
  },
  {
   "cell_type": "code",
   "execution_count": 59,
   "id": "b5042400-3f6a-4b52-8cfc-73160166530d",
   "metadata": {},
   "outputs": [
    {
     "data": {
      "text/plain": [
       "(221,\n",
       " b'2.0.0 closing connection d9443c01a7336-2163724c42bsm3848075ad.174 - gsmtp')"
      ]
     },
     "execution_count": 59,
     "metadata": {},
     "output_type": "execute_result"
    }
   ],
   "source": [
    "#You can then close your session with the .quit() method.\n",
    "\n",
    "smtp_object.quit()"
   ]
  },
  {
   "cell_type": "code",
   "execution_count": null,
   "id": "3e253468-abf2-4131-b945-0032a7d54154",
   "metadata": {},
   "outputs": [],
   "source": [
    "#Now that we know how to send emails, its time to learn how to look through emails you've already recieved."
   ]
  }
 ],
 "metadata": {
  "kernelspec": {
   "display_name": "Python 3 (ipykernel)",
   "language": "python",
   "name": "python3"
  },
  "language_info": {
   "codemirror_mode": {
    "name": "ipython",
    "version": 3
   },
   "file_extension": ".py",
   "mimetype": "text/x-python",
   "name": "python",
   "nbconvert_exporter": "python",
   "pygments_lexer": "ipython3",
   "version": "3.12.7"
  }
 },
 "nbformat": 4,
 "nbformat_minor": 5
}
