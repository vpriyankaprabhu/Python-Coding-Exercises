{
 "cells": [
  {
   "cell_type": "markdown",
   "id": "f9ded800-627f-4c30-aecb-bf64faac5e42",
   "metadata": {},
   "source": [
    "<h1>Advanced Dictionaries\n",
    "</h1>"
   ]
  },
  {
   "cell_type": "markdown",
   "id": "2ede0e4d-d7f9-4d9d-ba67-3c7f77886318",
   "metadata": {},
   "source": [
    "<h3>Dictionary Comprehensions\n",
    "</h3>"
   ]
  },
  {
   "cell_type": "markdown",
   "id": "3299cce5-e6c1-4d53-9f60-3a02ae9906bf",
   "metadata": {},
   "source": [
    "Just like List Comprehensions, Dictionary Data Types also support their own version of comprehension for quick creation. It is not as commonly used as List Comprehensions, but the syntax is:"
   ]
  },
  {
   "cell_type": "code",
   "execution_count": 6,
   "id": "5c192f26-77f6-4d5e-9c28-8c5648a173d1",
   "metadata": {},
   "outputs": [
    {
     "data": {
      "text/plain": [
       "{0: 0, 1: 1, 2: 4, 3: 9, 4: 16, 5: 25, 6: 36, 7: 49, 8: 64, 9: 81}"
      ]
     },
     "execution_count": 6,
     "metadata": {},
     "output_type": "execute_result"
    }
   ],
   "source": [
    "{x:x**2  for x in range(10)}"
   ]
  },
  {
   "cell_type": "code",
   "execution_count": 8,
   "id": "69fb8b6e-f414-4253-8971-7693e1d230d1",
   "metadata": {},
   "outputs": [],
   "source": [
    "#One of the reasons it is not as common is the difficulty in structuring key names that are not based off the values."
   ]
  },
  {
   "cell_type": "code",
   "execution_count": 16,
   "id": "e8b07cd1-20c3-43b3-828c-bb54fc9ba1ae",
   "metadata": {},
   "outputs": [
    {
     "data": {
      "text/plain": [
       "{'a': 0, 'b': 1}"
      ]
     },
     "execution_count": 16,
     "metadata": {},
     "output_type": "execute_result"
    }
   ],
   "source": [
    "{k:v**2 for k,v in zip(('a','b'), range(2))}"
   ]
  },
  {
   "cell_type": "markdown",
   "id": "153186e7-2738-457f-9d41-7f47e3a6711d",
   "metadata": {},
   "source": [
    "<h3>Iteration over keys, values, and items</h3>"
   ]
  },
  {
   "cell_type": "markdown",
   "id": "69c342c3-a071-4d77-9966-9acba0df28a4",
   "metadata": {},
   "source": [
    "Dictionaries can be iterated over using the keys(), values() and items() methods. For example:\n",
    "\n"
   ]
  },
  {
   "cell_type": "code",
   "execution_count": 21,
   "id": "ab4bd327-ae62-4947-943c-672c152c761c",
   "metadata": {},
   "outputs": [
    {
     "name": "stdout",
     "output_type": "stream",
     "text": [
      "k1\n",
      "k2\n",
      "k3\n"
     ]
    }
   ],
   "source": [
    "d = {'k1':1, 'k2':2, 'k3':3}\n",
    "for k in d.keys():\n",
    "    print(k)"
   ]
  },
  {
   "cell_type": "code",
   "execution_count": 23,
   "id": "c0a4812f-5462-49f1-b5e3-58bfe341b28f",
   "metadata": {},
   "outputs": [
    {
     "name": "stdout",
     "output_type": "stream",
     "text": [
      "1\n",
      "2\n",
      "3\n"
     ]
    }
   ],
   "source": [
    "d = {'k1':1, 'k2':2, 'k3':3}\n",
    "for k in d.values():\n",
    "    print(k)"
   ]
  },
  {
   "cell_type": "code",
   "execution_count": 29,
   "id": "6bbc7ab6-12a0-4569-aa6e-90de7a8be46a",
   "metadata": {},
   "outputs": [
    {
     "name": "stdout",
     "output_type": "stream",
     "text": [
      "('k1', 1)\n",
      "('k2', 2)\n",
      "('k3', 3)\n"
     ]
    }
   ],
   "source": [
    "d = {'k1':1, 'k2':2, 'k3':3}\n",
    "for k in d.items():\n",
    "    print(k)"
   ]
  },
  {
   "cell_type": "markdown",
   "id": "f5ce0299-2cc6-4ae6-aac7-448961f0c48a",
   "metadata": {},
   "source": [
    "<h3>Viewing keys, values and items</h3>\n"
   ]
  },
  {
   "cell_type": "code",
   "execution_count": 34,
   "id": "9f048914-d409-4a3a-ac03-c41ad2d932cd",
   "metadata": {},
   "outputs": [],
   "source": [
    "#By themselves the keys(), values() and items() methods return a dictionary view object. \n",
    "#This is not a separate list of items. Instead, the view is always tied to the original dictionary."
   ]
  },
  {
   "cell_type": "code",
   "execution_count": 36,
   "id": "e30b08d1-a97e-479c-85f3-a212a2134c7b",
   "metadata": {},
   "outputs": [],
   "source": [
    "key_view = d.keys()"
   ]
  },
  {
   "cell_type": "code",
   "execution_count": 40,
   "id": "3a546567-a80d-4314-862f-59c0f5e1d989",
   "metadata": {},
   "outputs": [
    {
     "data": {
      "text/plain": [
       "dict_keys(['k1', 'k2', 'k3'])"
      ]
     },
     "execution_count": 40,
     "metadata": {},
     "output_type": "execute_result"
    }
   ],
   "source": [
    "key_view"
   ]
  },
  {
   "cell_type": "code",
   "execution_count": 44,
   "id": "4f48bd1e-ca06-471b-99fc-9ac105d1512a",
   "metadata": {},
   "outputs": [
    {
     "data": {
      "text/plain": [
       "dict_values([1, 2, 3])"
      ]
     },
     "execution_count": 44,
     "metadata": {},
     "output_type": "execute_result"
    }
   ],
   "source": [
    "value_view = d.values()\n",
    "value_view"
   ]
  },
  {
   "cell_type": "code",
   "execution_count": 46,
   "id": "5d081f6c-c9ec-4359-8d38-b4991a00cc9e",
   "metadata": {},
   "outputs": [
    {
     "ename": "NameError",
     "evalue": "name 'item_view' is not defined",
     "output_type": "error",
     "traceback": [
      "\u001b[0;31m---------------------------------------------------------------------------\u001b[0m",
      "\u001b[0;31mNameError\u001b[0m                                 Traceback (most recent call last)",
      "Cell \u001b[0;32mIn[46], line 2\u001b[0m\n\u001b[1;32m      1\u001b[0m items_view \u001b[38;5;241m=\u001b[39m d\u001b[38;5;241m.\u001b[39mitems()\n\u001b[0;32m----> 2\u001b[0m item_view\n",
      "\u001b[0;31mNameError\u001b[0m: name 'item_view' is not defined"
     ]
    }
   ],
   "source": [
    "items_view = d.items()\n",
    "item_view"
   ]
  },
  {
   "cell_type": "code",
   "execution_count": null,
   "id": "cc736070-4598-4d61-b8bc-3710fb15218a",
   "metadata": {},
   "outputs": [],
   "source": []
  }
 ],
 "metadata": {
  "kernelspec": {
   "display_name": "Python 3 (ipykernel)",
   "language": "python",
   "name": "python3"
  },
  "language_info": {
   "codemirror_mode": {
    "name": "ipython",
    "version": 3
   },
   "file_extension": ".py",
   "mimetype": "text/x-python",
   "name": "python",
   "nbconvert_exporter": "python",
   "pygments_lexer": "ipython3",
   "version": "3.12.7"
  }
 },
 "nbformat": 4,
 "nbformat_minor": 5
}
