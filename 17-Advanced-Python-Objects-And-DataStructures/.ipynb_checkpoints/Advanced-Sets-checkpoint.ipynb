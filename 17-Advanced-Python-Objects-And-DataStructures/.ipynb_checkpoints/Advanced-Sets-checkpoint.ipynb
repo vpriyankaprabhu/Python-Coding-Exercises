{
 "cells": [
  {
   "cell_type": "markdown",
   "id": "c82e404f-5bfa-4f7b-84e1-3c21e19f361a",
   "metadata": {},
   "source": [
    "<h1>Advanced Sets</h1>"
   ]
  },
  {
   "cell_type": "markdown",
   "id": "99e854cb-8f47-469d-bc61-d025ecdcc2b4",
   "metadata": {},
   "source": [
    "<p>We'll go over the basic ones you already know and then dive a little deeper.</p>"
   ]
  },
  {
   "cell_type": "code",
   "execution_count": 4,
   "id": "d92cd38d-42be-4308-ad9f-97cb5394def3",
   "metadata": {},
   "outputs": [],
   "source": [
    "#blank set or default value of set\n",
    "s = set()"
   ]
  },
  {
   "cell_type": "code",
   "execution_count": 6,
   "id": "f931f8e4-fb37-47a6-a6e2-29e1fac8c0a7",
   "metadata": {},
   "outputs": [
    {
     "data": {
      "text/plain": [
       "set()"
      ]
     },
     "execution_count": 6,
     "metadata": {},
     "output_type": "execute_result"
    }
   ],
   "source": [
    "s"
   ]
  },
  {
   "cell_type": "markdown",
   "id": "6d7ef2a6-5842-49e0-8a7f-2901a90cf5c0",
   "metadata": {},
   "source": [
    "<h3>add</h3>"
   ]
  },
  {
   "cell_type": "markdown",
   "id": "080e1486-075f-4340-8aa1-7947f6a1b2e8",
   "metadata": {},
   "source": [
    "<p>add elements to a set. Remember, a set won't duplicate elements; it will only present them once (that's why it's called a set!)</p>"
   ]
  },
  {
   "cell_type": "code",
   "execution_count": 8,
   "id": "b8f8e4ba-d2b2-434c-a100-4ecf86474f10",
   "metadata": {},
   "outputs": [],
   "source": [
    "s.add(2)"
   ]
  },
  {
   "cell_type": "code",
   "execution_count": 10,
   "id": "cde8a48d-2af8-4447-9716-0de235ac2821",
   "metadata": {},
   "outputs": [],
   "source": [
    "s.add(3)"
   ]
  },
  {
   "cell_type": "code",
   "execution_count": 12,
   "id": "d73ddce2-28e7-4d56-9316-c3c918cae0f3",
   "metadata": {},
   "outputs": [
    {
     "data": {
      "text/plain": [
       "{2, 3}"
      ]
     },
     "execution_count": 12,
     "metadata": {},
     "output_type": "execute_result"
    }
   ],
   "source": [
    "s"
   ]
  },
  {
   "cell_type": "code",
   "execution_count": 14,
   "id": "01faa744-4b29-4540-b828-34f1fd1abf32",
   "metadata": {},
   "outputs": [],
   "source": [
    "s.add(\"A\")"
   ]
  },
  {
   "cell_type": "code",
   "execution_count": 16,
   "id": "da6cf891-08df-4e10-b4be-235ec2aef787",
   "metadata": {},
   "outputs": [],
   "source": [
    "s.add(2)"
   ]
  },
  {
   "cell_type": "code",
   "execution_count": 18,
   "id": "dda28922-061c-4f26-8dd5-4ffb3faf5320",
   "metadata": {},
   "outputs": [
    {
     "data": {
      "text/plain": [
       "{2, 3, 'A'}"
      ]
     },
     "execution_count": 18,
     "metadata": {},
     "output_type": "execute_result"
    }
   ],
   "source": [
    "s"
   ]
  },
  {
   "cell_type": "markdown",
   "id": "c9d93ee2-c871-4672-be30-b20c28f43d89",
   "metadata": {},
   "source": [
    "<h3>clear</h3>"
   ]
  },
  {
   "cell_type": "markdown",
   "id": "275d2d29-f227-4696-8f46-ba4674d25857",
   "metadata": {},
   "source": [
    "<p>removes all elements from the set</p>"
   ]
  },
  {
   "cell_type": "code",
   "execution_count": 22,
   "id": "1adfd111-aa80-4ab4-9cb6-65cbc039d678",
   "metadata": {},
   "outputs": [
    {
     "data": {
      "text/plain": [
       "set()"
      ]
     },
     "execution_count": 22,
     "metadata": {},
     "output_type": "execute_result"
    }
   ],
   "source": [
    "s.clear()\n",
    "s"
   ]
  },
  {
   "cell_type": "markdown",
   "id": "a83fab08-076c-4a3b-b3b5-9fe37cc2d008",
   "metadata": {},
   "source": [
    "<h3>copy</h3>"
   ]
  },
  {
   "cell_type": "markdown",
   "id": "d5c150f2-1b50-4e12-952c-2dfb2e8b3b44",
   "metadata": {},
   "source": [
    "returns a copy of the set. Note it is a copy, so changes to the original don't effect the copy."
   ]
  },
  {
   "cell_type": "code",
   "execution_count": 31,
   "id": "5edc1081-031a-46e8-be9d-1be814774c33",
   "metadata": {},
   "outputs": [],
   "source": [
    "s = {1,2,3}\n",
    "sc = s.copy()"
   ]
  },
  {
   "cell_type": "code",
   "execution_count": 33,
   "id": "b5a8964e-d5f1-436e-b600-fe471ee8417e",
   "metadata": {},
   "outputs": [
    {
     "data": {
      "text/plain": [
       "{1, 2, 3}"
      ]
     },
     "execution_count": 33,
     "metadata": {},
     "output_type": "execute_result"
    }
   ],
   "source": [
    "sc"
   ]
  },
  {
   "cell_type": "markdown",
   "id": "4e995b41-1c00-45b7-9185-b9ca82fddc5a",
   "metadata": {},
   "source": [
    "s.add(4)\n",
    "s"
   ]
  },
  {
   "cell_type": "code",
   "execution_count": 37,
   "id": "b822a6f7-8e92-4cb0-b0bf-d5c1a39dff79",
   "metadata": {},
   "outputs": [
    {
     "data": {
      "text/plain": [
       "{1, 2, 3}"
      ]
     },
     "execution_count": 37,
     "metadata": {},
     "output_type": "execute_result"
    }
   ],
   "source": [
    "sc"
   ]
  },
  {
   "cell_type": "markdown",
   "id": "b4170ad1-3c37-41fc-9459-c7aa067ca027",
   "metadata": {},
   "source": [
    "<h3>difference</h3>"
   ]
  },
  {
   "cell_type": "markdown",
   "id": "853fc8bd-877a-4bbf-b772-c0bd8cb4a19c",
   "metadata": {},
   "source": [
    "difference returns the difference of two or more sets. The syntax is:\n",
    "\n",
    "set1.difference(set2)\n",
    "\n",
    "For example:"
   ]
  },
  {
   "cell_type": "code",
   "execution_count": 42,
   "id": "107a14c9-5826-4810-a68b-9964d77820ee",
   "metadata": {},
   "outputs": [
    {
     "data": {
      "text/plain": [
       "{1, 2, 3, 4}"
      ]
     },
     "execution_count": 42,
     "metadata": {},
     "output_type": "execute_result"
    }
   ],
   "source": [
    "s "
   ]
  },
  {
   "cell_type": "code",
   "execution_count": 44,
   "id": "accd4f2e-9624-4251-aca0-1df82f477baa",
   "metadata": {},
   "outputs": [
    {
     "data": {
      "text/plain": [
       "{1, 2, 3}"
      ]
     },
     "execution_count": 44,
     "metadata": {},
     "output_type": "execute_result"
    }
   ],
   "source": [
    "sc"
   ]
  },
  {
   "cell_type": "code",
   "execution_count": 46,
   "id": "f104415d-5c33-446d-9051-20773da7637f",
   "metadata": {},
   "outputs": [
    {
     "data": {
      "text/plain": [
       "{4}"
      ]
     },
     "execution_count": 46,
     "metadata": {},
     "output_type": "execute_result"
    }
   ],
   "source": [
    "s.difference(sc)"
   ]
  },
  {
   "cell_type": "markdown",
   "id": "9cde34e3-d859-40ce-b5f1-c6710f96d27a",
   "metadata": {},
   "source": [
    "<h3>difference_update</h3>"
   ]
  },
  {
   "cell_type": "markdown",
   "id": "ecaa7b5e-7c16-49c9-bd3d-29b5250be971",
   "metadata": {},
   "source": [
    "difference_update syntax is:\n",
    "\n",
    "set1.difference_update(set2)\n",
    "\n",
    "the method returns set1 after removing elements found in set2\n",
    "\n",
    "It actually updates difference() method return value to s"
   ]
  },
  {
   "cell_type": "code",
   "execution_count": 52,
   "id": "bd54c52e-9bbd-48ef-abfd-565e86d71e35",
   "metadata": {},
   "outputs": [],
   "source": [
    "s.difference_update(sc)"
   ]
  },
  {
   "cell_type": "code",
   "execution_count": 57,
   "id": "365f0f4c-2451-4153-a475-671af9a4db88",
   "metadata": {},
   "outputs": [
    {
     "data": {
      "text/plain": [
       "{4}"
      ]
     },
     "execution_count": 57,
     "metadata": {},
     "output_type": "execute_result"
    }
   ],
   "source": [
    "s"
   ]
  },
  {
   "cell_type": "code",
   "execution_count": 59,
   "id": "28887986-0d9d-4341-9174-f016ec6b4c45",
   "metadata": {},
   "outputs": [
    {
     "data": {
      "text/plain": [
       "{1, 2}"
      ]
     },
     "execution_count": 59,
     "metadata": {},
     "output_type": "execute_result"
    }
   ],
   "source": [
    "s1 = {1,2,4}\n",
    "s2 = {4,5,6}\n",
    "s1.difference(s2)"
   ]
  },
  {
   "cell_type": "code",
   "execution_count": 61,
   "id": "529ee1ec-98b0-4303-8cff-59af092854e0",
   "metadata": {},
   "outputs": [
    {
     "data": {
      "text/plain": [
       "{1, 2, 4}"
      ]
     },
     "execution_count": 61,
     "metadata": {},
     "output_type": "execute_result"
    }
   ],
   "source": [
    "s1"
   ]
  },
  {
   "cell_type": "code",
   "execution_count": 63,
   "id": "8121fcbd-0bb6-498f-8813-3418242d14c7",
   "metadata": {},
   "outputs": [
    {
     "data": {
      "text/plain": [
       "{4, 5, 6}"
      ]
     },
     "execution_count": 63,
     "metadata": {},
     "output_type": "execute_result"
    }
   ],
   "source": [
    "s2"
   ]
  },
  {
   "cell_type": "code",
   "execution_count": 65,
   "id": "d9befda9-b9ca-4206-99e8-e34d813b34db",
   "metadata": {},
   "outputs": [],
   "source": [
    "s1.difference_update(s2)"
   ]
  },
  {
   "cell_type": "code",
   "execution_count": 67,
   "id": "063a5e0e-f4bf-4d9f-beca-6a38cc825640",
   "metadata": {},
   "outputs": [
    {
     "data": {
      "text/plain": [
       "{1, 2}"
      ]
     },
     "execution_count": 67,
     "metadata": {},
     "output_type": "execute_result"
    }
   ],
   "source": [
    "s1"
   ]
  },
  {
   "cell_type": "markdown",
   "id": "1e5c0fed-0967-40d5-8e4f-7ee7a2e37aee",
   "metadata": {},
   "source": [
    "<h3> discard</h3>"
   ]
  },
  {
   "cell_type": "markdown",
   "id": "589c0108-5b31-497a-a580-df95f55d23b3",
   "metadata": {},
   "source": [
    "Removes an element from a set if it is a member. If the element is not a member, do nothing."
   ]
  },
  {
   "cell_type": "code",
   "execution_count": 75,
   "id": "ea7c5c42-29ab-43cd-a67e-933401f33bed",
   "metadata": {},
   "outputs": [],
   "source": [
    "s1 = {1,2,3,4}\n",
    "s1.discard(2)"
   ]
  },
  {
   "cell_type": "code",
   "execution_count": 77,
   "id": "13bd247b-0f4a-4153-8277-b682d2ef8509",
   "metadata": {},
   "outputs": [
    {
     "data": {
      "text/plain": [
       "{1, 3, 4}"
      ]
     },
     "execution_count": 77,
     "metadata": {},
     "output_type": "execute_result"
    }
   ],
   "source": [
    "s1"
   ]
  },
  {
   "cell_type": "code",
   "execution_count": 79,
   "id": "7fcca64e-27f9-467f-a2d8-0a7c5a713956",
   "metadata": {},
   "outputs": [],
   "source": [
    "s1.discard(5)"
   ]
  },
  {
   "cell_type": "code",
   "execution_count": 83,
   "id": "5bf5c2e5-1575-41fb-8eca-83e5f498f5c8",
   "metadata": {},
   "outputs": [
    {
     "data": {
      "text/plain": [
       "{1, 3, 4}"
      ]
     },
     "execution_count": 83,
     "metadata": {},
     "output_type": "execute_result"
    }
   ],
   "source": [
    "s1"
   ]
  },
  {
   "cell_type": "markdown",
   "id": "ebef1f6f-3b24-4441-b0b9-b5ceaadb17c8",
   "metadata": {},
   "source": [
    "<h3>intersection and intersection_update\n",
    "</h3>"
   ]
  },
  {
   "cell_type": "markdown",
   "id": "028ac20e-b9fc-4c02-9498-cd2240beda63",
   "metadata": {},
   "source": [
    "Returns the intersection of two or more sets as a new set.(i.e. elements that are common to all of the sets.)"
   ]
  },
  {
   "cell_type": "code",
   "execution_count": 97,
   "id": "93e133a3-cea0-446a-af82-463726cc4657",
   "metadata": {},
   "outputs": [
    {
     "data": {
      "text/plain": [
       "{3, 4, 5}"
      ]
     },
     "execution_count": 97,
     "metadata": {},
     "output_type": "execute_result"
    }
   ],
   "source": [
    "s1 = {1,2,3,4,5}\n",
    "s2 = {3,4,5,6,7}\n",
    "s1.intersection(s2)"
   ]
  },
  {
   "cell_type": "code",
   "execution_count": 105,
   "id": "cca007fc-af92-484b-8f1d-a91f7b8ad8ff",
   "metadata": {},
   "outputs": [
    {
     "data": {
      "text/plain": [
       "{3, 4, 5}"
      ]
     },
     "execution_count": 105,
     "metadata": {},
     "output_type": "execute_result"
    }
   ],
   "source": [
    "#now lets update s1 with intersaction output value\n",
    "#intersection_update will update a set with the intersection of itself and another.\n",
    "s1.intersection_update(s2)\n",
    "s1"
   ]
  },
  {
   "cell_type": "code",
   "execution_count": 101,
   "id": "52ab836a-2bc6-4994-9d70-ed9d26932677",
   "metadata": {},
   "outputs": [
    {
     "data": {
      "text/plain": [
       "{3, 4, 5}"
      ]
     },
     "execution_count": 101,
     "metadata": {},
     "output_type": "execute_result"
    }
   ],
   "source": [
    "s1"
   ]
  },
  {
   "cell_type": "code",
   "execution_count": 103,
   "id": "a048ee9c-e4e2-4624-8a2e-80ba245de98f",
   "metadata": {},
   "outputs": [
    {
     "data": {
      "text/plain": [
       "{3, 4, 5, 6, 7}"
      ]
     },
     "execution_count": 103,
     "metadata": {},
     "output_type": "execute_result"
    }
   ],
   "source": [
    "s2"
   ]
  },
  {
   "cell_type": "markdown",
   "id": "18ac588c-e2e4-4ac0-85ca-37d99de7c009",
   "metadata": {},
   "source": [
    "<h3>isdisjoint</h3>"
   ]
  },
  {
   "cell_type": "markdown",
   "id": "b5e41260-0acd-4743-bfb5-e9dca81aabf6",
   "metadata": {},
   "source": [
    "This method will return True if two sets have a null intersection."
   ]
  },
  {
   "cell_type": "code",
   "execution_count": 115,
   "id": "0401d092-ee93-4516-8e82-df1b18075801",
   "metadata": {},
   "outputs": [
    {
     "data": {
      "text/plain": [
       "False"
      ]
     },
     "execution_count": 115,
     "metadata": {},
     "output_type": "execute_result"
    }
   ],
   "source": [
    "s1 = {1,2,3}\n",
    "s2 = {2}\n",
    "\n",
    "s1.isdisjoint(s2) #False, since intersaction element here is 2"
   ]
  },
  {
   "cell_type": "code",
   "execution_count": 119,
   "id": "1eac6bf9-69f1-41d5-8ee6-70a0e8930280",
   "metadata": {},
   "outputs": [
    {
     "data": {
      "text/plain": [
       "True"
      ]
     },
     "execution_count": 119,
     "metadata": {},
     "output_type": "execute_result"
    }
   ],
   "source": [
    "s1 = {1,2,3}\n",
    "s2 = {4,5,6}\n",
    "\n",
    "s1.isdisjoint(s2) #no intersection here"
   ]
  },
  {
   "cell_type": "markdown",
   "id": "374d2227-b167-432a-8194-c48b1da866b6",
   "metadata": {},
   "source": [
    "<h3>issubset</h3>"
   ]
  },
  {
   "cell_type": "markdown",
   "id": "c6b261e2-5a4e-4a34-be30-66f3fda6bdb5",
   "metadata": {},
   "source": [
    "This method reports whether another set contains this set."
   ]
  },
  {
   "cell_type": "code",
   "execution_count": 125,
   "id": "6d9774c5-3186-47e2-a96b-0044aecf9df5",
   "metadata": {},
   "outputs": [
    {
     "data": {
      "text/plain": [
       "True"
      ]
     },
     "execution_count": 125,
     "metadata": {},
     "output_type": "execute_result"
    }
   ],
   "source": [
    "s1 = {1,2,3,4,5}\n",
    "s2 = {2,3}\n",
    "\n",
    "s2.issubset(s1)"
   ]
  },
  {
   "cell_type": "code",
   "execution_count": 127,
   "id": "f761e423-852d-45e7-bc4d-d0b3823753ae",
   "metadata": {},
   "outputs": [
    {
     "data": {
      "text/plain": [
       "False"
      ]
     },
     "execution_count": 127,
     "metadata": {},
     "output_type": "execute_result"
    }
   ],
   "source": [
    "s1.issubset(s2)"
   ]
  },
  {
   "cell_type": "markdown",
   "id": "903b5ee6-6761-47aa-902d-ef692fa8e74f",
   "metadata": {},
   "source": [
    "<h3>issuperset</h3>"
   ]
  },
  {
   "cell_type": "markdown",
   "id": "d989c83c-2d94-4842-a550-bf9d7149d948",
   "metadata": {},
   "source": [
    "This method will report whether this set contains another set."
   ]
  },
  {
   "cell_type": "code",
   "execution_count": 133,
   "id": "9c8fbc01-4516-43a5-9714-9e5f9ae64338",
   "metadata": {},
   "outputs": [
    {
     "data": {
      "text/plain": [
       "False"
      ]
     },
     "execution_count": 133,
     "metadata": {},
     "output_type": "execute_result"
    }
   ],
   "source": [
    "s2.issuperset(s1)"
   ]
  },
  {
   "cell_type": "code",
   "execution_count": 135,
   "id": "a0eed9e1-5567-4f03-8ead-bf207c822909",
   "metadata": {},
   "outputs": [
    {
     "data": {
      "text/plain": [
       "True"
      ]
     },
     "execution_count": 135,
     "metadata": {},
     "output_type": "execute_result"
    }
   ],
   "source": [
    "s1.issuperset(s2)"
   ]
  },
  {
   "cell_type": "markdown",
   "id": "f5387532-9cd6-4ac7-b24c-34738b258c3b",
   "metadata": {},
   "source": [
    "<h3>symmetric_difference and symmetric_update</h3>"
   ]
  },
  {
   "cell_type": "markdown",
   "id": "fc04425a-0f0d-40d8-8cd2-1d4034aba91a",
   "metadata": {},
   "source": [
    "Return the symmetric difference of two sets as a new set.(i.e. all elements that are in exactly one of the sets.)"
   ]
  },
  {
   "cell_type": "code",
   "execution_count": 141,
   "id": "e5fb4405-c74c-4477-85b8-3975b4b71cd2",
   "metadata": {},
   "outputs": [
    {
     "data": {
      "text/plain": [
       "{4, 5}"
      ]
     },
     "execution_count": 141,
     "metadata": {},
     "output_type": "execute_result"
    }
   ],
   "source": [
    "s1 = {1,2,3,4,5}\n",
    "s2 = {1,2,3}\n",
    "\n",
    "s1.symmetric_difference(s2)"
   ]
  },
  {
   "cell_type": "code",
   "execution_count": 143,
   "id": "c14e0615-a6a4-40b9-b674-d8d133fae9ba",
   "metadata": {},
   "outputs": [
    {
     "data": {
      "text/plain": [
       "{4, 5}"
      ]
     },
     "execution_count": 143,
     "metadata": {},
     "output_type": "execute_result"
    }
   ],
   "source": [
    "s2.symmetric_difference(s1)"
   ]
  },
  {
   "cell_type": "code",
   "execution_count": 145,
   "id": "9cc03166-57c2-4fb8-97e7-689266ee3a58",
   "metadata": {},
   "outputs": [
    {
     "data": {
      "text/plain": [
       "{4, 5}"
      ]
     },
     "execution_count": 145,
     "metadata": {},
     "output_type": "execute_result"
    }
   ],
   "source": [
    "#Lets update s1 with symmetric difference values\n",
    "s1.symmetric_difference_update(s2)\n",
    "s1"
   ]
  },
  {
   "cell_type": "code",
   "execution_count": 147,
   "id": "cb8f8d54-7a67-4188-b9ef-56a05350ab58",
   "metadata": {},
   "outputs": [
    {
     "data": {
      "text/plain": [
       "{1, 2, 3}"
      ]
     },
     "execution_count": 147,
     "metadata": {},
     "output_type": "execute_result"
    }
   ],
   "source": [
    "s2"
   ]
  },
  {
   "cell_type": "markdown",
   "id": "2f47a091-d98f-44fe-9273-9a9310727266",
   "metadata": {},
   "source": [
    "<h3>union</h3>"
   ]
  },
  {
   "cell_type": "markdown",
   "id": "296e1424-65d2-4817-9039-77a41ad84147",
   "metadata": {},
   "source": [
    "Returns the union of two sets (i.e. all elements that are in either set.)"
   ]
  },
  {
   "cell_type": "code",
   "execution_count": 151,
   "id": "335752a9-dbce-48ee-8b42-c60f3cfc24c9",
   "metadata": {},
   "outputs": [
    {
     "data": {
      "text/plain": [
       "{1, 2, 3, 4, 5}"
      ]
     },
     "execution_count": 151,
     "metadata": {},
     "output_type": "execute_result"
    }
   ],
   "source": [
    "s1 = {1,2,3,4}\n",
    "s2 = {4,5,3,1}\n",
    "s1.union(s2)"
   ]
  },
  {
   "cell_type": "markdown",
   "id": "a2e47780-9312-41f0-90f2-0c89d9d4f393",
   "metadata": {},
   "source": [
    "<h3>update</h3>"
   ]
  },
  {
   "cell_type": "markdown",
   "id": "a21e53de-bd77-43d9-9e72-dd4ad4ae4c67",
   "metadata": {},
   "source": [
    "Update a set with the union of itself and others."
   ]
  },
  {
   "cell_type": "code",
   "execution_count": 155,
   "id": "9fb00a96-3873-4801-be92-7d7d444b3f38",
   "metadata": {},
   "outputs": [
    {
     "data": {
      "text/plain": [
       "{1, 2, 3, 4, 5}"
      ]
     },
     "execution_count": 155,
     "metadata": {},
     "output_type": "execute_result"
    }
   ],
   "source": [
    "s1.update(s2)\n",
    "s1"
   ]
  },
  {
   "cell_type": "code",
   "execution_count": null,
   "id": "e42fce2e-9c4b-41fb-aabf-3013c31de95a",
   "metadata": {},
   "outputs": [],
   "source": []
  }
 ],
 "metadata": {
  "kernelspec": {
   "display_name": "Python 3 (ipykernel)",
   "language": "python",
   "name": "python3"
  },
  "language_info": {
   "codemirror_mode": {
    "name": "ipython",
    "version": 3
   },
   "file_extension": ".py",
   "mimetype": "text/x-python",
   "name": "python",
   "nbconvert_exporter": "python",
   "pygments_lexer": "ipython3",
   "version": "3.12.7"
  }
 },
 "nbformat": 4,
 "nbformat_minor": 5
}
