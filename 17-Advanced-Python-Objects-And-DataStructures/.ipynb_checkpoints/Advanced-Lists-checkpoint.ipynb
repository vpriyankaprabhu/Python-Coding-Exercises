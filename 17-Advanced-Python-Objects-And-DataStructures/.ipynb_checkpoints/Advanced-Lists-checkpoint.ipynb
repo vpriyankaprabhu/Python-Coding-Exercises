{
 "cells": [
  {
   "cell_type": "markdown",
   "id": "2b375ce5-c5d0-413d-86b2-ce20aa34e769",
   "metadata": {},
   "source": [
    "<h1>Advanced Lists</h1>"
   ]
  },
  {
   "cell_type": "code",
   "execution_count": 2,
   "id": "901a577c-6ed7-4e52-a944-d1aaac5ad2aa",
   "metadata": {},
   "outputs": [],
   "source": [
    "list1 = [1,2,3]"
   ]
  },
  {
   "cell_type": "code",
   "execution_count": 4,
   "id": "d26575d3-ddf4-4724-b210-6fc6b388da01",
   "metadata": {},
   "outputs": [
    {
     "data": {
      "text/plain": [
       "[1, 2, 3]"
      ]
     },
     "execution_count": 4,
     "metadata": {},
     "output_type": "execute_result"
    }
   ],
   "source": [
    "list1"
   ]
  },
  {
   "cell_type": "markdown",
   "id": "9c763b6c-ce25-4187-915c-4bdcf951c460",
   "metadata": {},
   "source": [
    "<h3>append</h3>"
   ]
  },
  {
   "cell_type": "markdown",
   "id": "f654edb5-e7de-4866-b0ea-5c69c974d0e9",
   "metadata": {},
   "source": [
    "appends an element to the end of a list:"
   ]
  },
  {
   "cell_type": "code",
   "execution_count": 6,
   "id": "57082bbb-a153-45c2-85f1-8d682ba355c6",
   "metadata": {},
   "outputs": [],
   "source": [
    "list1.append(4)"
   ]
  },
  {
   "cell_type": "code",
   "execution_count": 8,
   "id": "8dc72060-ebd1-4ba3-bcc0-ae43d317d62c",
   "metadata": {},
   "outputs": [
    {
     "data": {
      "text/plain": [
       "[1, 2, 3, 4]"
      ]
     },
     "execution_count": 8,
     "metadata": {},
     "output_type": "execute_result"
    }
   ],
   "source": [
    "list1"
   ]
  },
  {
   "cell_type": "markdown",
   "id": "8f89fe40-404e-4d18-b10c-0a46f58255fd",
   "metadata": {},
   "source": [
    "<h3>count</h3>"
   ]
  },
  {
   "cell_type": "markdown",
   "id": "7cb7b204-3ad8-4943-9283-08d658299ac1",
   "metadata": {},
   "source": [
    "count() takes in an element and returns the number of times it occurs in your list:"
   ]
  },
  {
   "cell_type": "code",
   "execution_count": 16,
   "id": "38bf421e-057f-4b03-91f7-17e67e249f20",
   "metadata": {},
   "outputs": [
    {
     "data": {
      "text/plain": [
       "0"
      ]
     },
     "execution_count": 16,
     "metadata": {},
     "output_type": "execute_result"
    }
   ],
   "source": [
    "list1.count(0)"
   ]
  },
  {
   "cell_type": "code",
   "execution_count": 18,
   "id": "088ca4ac-fa6c-4da9-8956-7cfbcb587b51",
   "metadata": {},
   "outputs": [
    {
     "data": {
      "text/plain": [
       "1"
      ]
     },
     "execution_count": 18,
     "metadata": {},
     "output_type": "execute_result"
    }
   ],
   "source": [
    "list1.count(4)"
   ]
  },
  {
   "cell_type": "code",
   "execution_count": 20,
   "id": "c2dd1f7e-6c46-4c78-bb2d-96581df6c98d",
   "metadata": {},
   "outputs": [
    {
     "data": {
      "text/plain": [
       "8"
      ]
     },
     "execution_count": 20,
     "metadata": {},
     "output_type": "execute_result"
    }
   ],
   "source": [
    "mylist = \"hellolooooooo\"\n",
    "mylist.count('o')"
   ]
  },
  {
   "cell_type": "markdown",
   "id": "164b7bc9-321a-40e2-9d73-8b608bb646cd",
   "metadata": {},
   "source": [
    "<h3>extend</h3>"
   ]
  },
  {
   "cell_type": "markdown",
   "id": "60a8eed0-08b7-4df2-94f7-0c4237d29c3a",
   "metadata": {},
   "source": [
    "find the difference between extend and append to be unclear."
   ]
  },
  {
   "cell_type": "markdown",
   "id": "d203c240-5255-4e5f-8b78-e1be9b2c2fe5",
   "metadata": {},
   "source": [
    "<b>append: appends whole object at end:</b>"
   ]
  },
  {
   "cell_type": "code",
   "execution_count": 25,
   "id": "993f1099-62bf-4e6b-a881-614ad1261f4b",
   "metadata": {},
   "outputs": [],
   "source": [
    "list1.append([5,6])"
   ]
  },
  {
   "cell_type": "code",
   "execution_count": 29,
   "id": "28ef919a-a7a9-4ee1-a7bb-f304dbbba89d",
   "metadata": {},
   "outputs": [
    {
     "data": {
      "text/plain": [
       "[1, 2, 3, 4, [5, 6]]"
      ]
     },
     "execution_count": 29,
     "metadata": {},
     "output_type": "execute_result"
    }
   ],
   "source": [
    "list1 #appended new list at end of list1"
   ]
  },
  {
   "cell_type": "markdown",
   "id": "de8adefa-6223-48c0-b8f2-36d63a8b8a7a",
   "metadata": {},
   "source": [
    "<b>extend: extends list by appending elements from the iterable:\n",
    "\n",
    "</b>"
   ]
  },
  {
   "cell_type": "code",
   "execution_count": 33,
   "id": "81d03e3f-6b06-4ac6-90da-3b6abf0b01a6",
   "metadata": {},
   "outputs": [
    {
     "data": {
      "text/plain": [
       "[1, 2, 3, 4, 5, 6]"
      ]
     },
     "execution_count": 33,
     "metadata": {},
     "output_type": "execute_result"
    }
   ],
   "source": [
    "list1 = [1,2,3,4]\n",
    "list1.extend([5,6])\n",
    "list1"
   ]
  },
  {
   "cell_type": "code",
   "execution_count": 36,
   "id": "10e6e6aa-8c5c-4cda-b087-f2dd6196ec8c",
   "metadata": {},
   "outputs": [],
   "source": [
    "#Note the difference in here between extend and append to list."
   ]
  },
  {
   "cell_type": "markdown",
   "id": "2a1b5588-0a2e-4aa1-86bd-19d801196a1c",
   "metadata": {},
   "source": [
    "<h3>index</h3>"
   ]
  },
  {
   "cell_type": "markdown",
   "id": "ab89ff4f-8cb1-4d61-bbe4-f5a4e780c155",
   "metadata": {},
   "source": [
    "index() will return the index of whatever element is placed as an argument. Note: If the the element is not in the list an error is raised."
   ]
  },
  {
   "cell_type": "code",
   "execution_count": 42,
   "id": "e92fc085-3768-4a22-a3ac-eb8bcb2a7109",
   "metadata": {},
   "outputs": [
    {
     "data": {
      "text/plain": [
       "3"
      ]
     },
     "execution_count": 42,
     "metadata": {},
     "output_type": "execute_result"
    }
   ],
   "source": [
    "list1.index(4)"
   ]
  },
  {
   "cell_type": "code",
   "execution_count": 44,
   "id": "40e81eae-2e80-427b-9a3c-aa5e816e3cd2",
   "metadata": {},
   "outputs": [],
   "source": [
    "#here it returns index of element 4 in list1"
   ]
  },
  {
   "cell_type": "code",
   "execution_count": 46,
   "id": "7304683b-9c0b-4920-a295-dcdb3af0cdd9",
   "metadata": {},
   "outputs": [
    {
     "ename": "ValueError",
     "evalue": "10 is not in list",
     "output_type": "error",
     "traceback": [
      "\u001b[0;31m---------------------------------------------------------------------------\u001b[0m",
      "\u001b[0;31mValueError\u001b[0m                                Traceback (most recent call last)",
      "Cell \u001b[0;32mIn[46], line 2\u001b[0m\n\u001b[1;32m      1\u001b[0m \u001b[38;5;66;03m#if element is not found to get index it returns error\u001b[39;00m\n\u001b[0;32m----> 2\u001b[0m list1\u001b[38;5;241m.\u001b[39mindex(\u001b[38;5;241m10\u001b[39m)\n",
      "\u001b[0;31mValueError\u001b[0m: 10 is not in list"
     ]
    }
   ],
   "source": [
    "#if element is not found to get index it returns error\n",
    "list1.index(10)"
   ]
  },
  {
   "cell_type": "markdown",
   "id": "d1e67c77-9f67-4035-8813-d2d4445ff13e",
   "metadata": {},
   "source": [
    "<h3>insert</h3>"
   ]
  },
  {
   "cell_type": "markdown",
   "id": "40ed5e6a-5a33-4de8-9657-a6b7ea71aa4d",
   "metadata": {},
   "source": [
    "insert() takes in two arguments: insert(index,object) This method places the object at the index supplied. For example:"
   ]
  },
  {
   "cell_type": "code",
   "execution_count": 50,
   "id": "9fe9856b-45f3-4b4e-a805-587f99b63afb",
   "metadata": {},
   "outputs": [
    {
     "data": {
      "text/plain": [
       "[1, 2, 3, 4, 5, 6]"
      ]
     },
     "execution_count": 50,
     "metadata": {},
     "output_type": "execute_result"
    }
   ],
   "source": [
    "list1"
   ]
  },
  {
   "cell_type": "code",
   "execution_count": 54,
   "id": "5aaed39f-7037-4fe5-aed1-afbeb09e72c8",
   "metadata": {},
   "outputs": [],
   "source": [
    "list1.insert(2, \"Inserted\")"
   ]
  },
  {
   "cell_type": "code",
   "execution_count": 56,
   "id": "19038eb6-ba57-4648-8ddb-2769abed14b7",
   "metadata": {},
   "outputs": [
    {
     "data": {
      "text/plain": [
       "[1, 2, 'Inserted', 3, 4, 5, 6]"
      ]
     },
     "execution_count": 56,
     "metadata": {},
     "output_type": "execute_result"
    }
   ],
   "source": [
    "list1"
   ]
  },
  {
   "cell_type": "markdown",
   "id": "f43d22b5-a5dc-4d56-a026-718389c8da3f",
   "metadata": {},
   "source": [
    "<h3>pop</h3>"
   ]
  },
  {
   "cell_type": "markdown",
   "id": "0ae8d8f3-919b-4b0d-b5e2-e7dd3fe4ec63",
   "metadata": {},
   "source": [
    "You most likely have already seen pop(), which allows us to \"pop\" off the last element of a list. However, by passing an index position you can remove and return a specific element."
   ]
  },
  {
   "cell_type": "code",
   "execution_count": 60,
   "id": "2b5b7092-fdba-4e99-a39b-b8b711d0db10",
   "metadata": {},
   "outputs": [
    {
     "data": {
      "text/plain": [
       "6"
      ]
     },
     "execution_count": 60,
     "metadata": {},
     "output_type": "execute_result"
    }
   ],
   "source": [
    "list1.pop()"
   ]
  },
  {
   "cell_type": "code",
   "execution_count": 62,
   "id": "e848b162-f70f-4fe5-8339-1afbc39037b6",
   "metadata": {},
   "outputs": [
    {
     "data": {
      "text/plain": [
       "[1, 2, 'Inserted', 3, 4, 5]"
      ]
     },
     "execution_count": 62,
     "metadata": {},
     "output_type": "execute_result"
    }
   ],
   "source": [
    "list1"
   ]
  },
  {
   "cell_type": "code",
   "execution_count": 68,
   "id": "c2ad56b5-5f84-4148-81e3-b3208b36499f",
   "metadata": {},
   "outputs": [
    {
     "data": {
      "text/plain": [
       "2"
      ]
     },
     "execution_count": 68,
     "metadata": {},
     "output_type": "execute_result"
    }
   ],
   "source": [
    "list1.pop(1)"
   ]
  },
  {
   "cell_type": "code",
   "execution_count": 70,
   "id": "2a672d33-3d71-4050-8316-7ccb1fc1ac54",
   "metadata": {},
   "outputs": [
    {
     "data": {
      "text/plain": [
       "[1, 'Inserted', 3, 4, 5]"
      ]
     },
     "execution_count": 70,
     "metadata": {},
     "output_type": "execute_result"
    }
   ],
   "source": [
    "list1"
   ]
  },
  {
   "cell_type": "markdown",
   "id": "c13a3b7f-bf89-4ff2-8401-07ea579df1c3",
   "metadata": {},
   "source": [
    "<h3>remove</h3>"
   ]
  },
  {
   "cell_type": "markdown",
   "id": "edd9bab7-6301-4f16-b95b-84a09fe902bc",
   "metadata": {},
   "source": [
    "The remove() method removes the first occurrence of a value. For example:"
   ]
  },
  {
   "cell_type": "code",
   "execution_count": 76,
   "id": "0b5d2e3a-aee9-4982-a98e-ec4565e19c4c",
   "metadata": {},
   "outputs": [],
   "source": [
    "list1.remove(1)"
   ]
  },
  {
   "cell_type": "code",
   "execution_count": 78,
   "id": "e1bbbd68-6e6b-4c19-ad21-7fa0e9529202",
   "metadata": {},
   "outputs": [
    {
     "data": {
      "text/plain": [
       "['Inserted', 3, 4, 5]"
      ]
     },
     "execution_count": 78,
     "metadata": {},
     "output_type": "execute_result"
    }
   ],
   "source": [
    "list1"
   ]
  },
  {
   "cell_type": "code",
   "execution_count": 82,
   "id": "b3da44a1-32f0-438d-b19b-0139048fbfef",
   "metadata": {},
   "outputs": [
    {
     "data": {
      "text/plain": [
       "[3, 4, 5]"
      ]
     },
     "execution_count": 82,
     "metadata": {},
     "output_type": "execute_result"
    }
   ],
   "source": [
    "list1.remove('Inserted')\n",
    "list1"
   ]
  },
  {
   "cell_type": "code",
   "execution_count": 84,
   "id": "3da1cd60-86b2-4c06-8182-65890dd5b3ea",
   "metadata": {},
   "outputs": [
    {
     "data": {
      "text/plain": [
       "[1, 2, 3, 5, 6, 2, 3, 4]"
      ]
     },
     "execution_count": 84,
     "metadata": {},
     "output_type": "execute_result"
    }
   ],
   "source": [
    "#example\n",
    "list1 = [1,2,3,4,5,6,2,3,4]\n",
    "list1.remove(4) #removes on,y first occuramce of appearance\n",
    "list1"
   ]
  },
  {
   "cell_type": "markdown",
   "id": "5bf204cf-5e89-4ff0-bfeb-e0690546b9fc",
   "metadata": {},
   "source": [
    "<h3>reverse</h3>"
   ]
  },
  {
   "cell_type": "markdown",
   "id": "cc9f5aba-1961-4a99-8a0e-50227adb3914",
   "metadata": {},
   "source": [
    "As you might have guessed, reverse() reverses a list. Note this occurs in place! Meaning it affects your list permanently."
   ]
  },
  {
   "cell_type": "code",
   "execution_count": 88,
   "id": "1cca930e-9848-4752-b067-24946c09d811",
   "metadata": {},
   "outputs": [],
   "source": [
    "list1.reverse()"
   ]
  },
  {
   "cell_type": "code",
   "execution_count": 90,
   "id": "9cb41e22-645c-41a2-9184-989d839814c1",
   "metadata": {},
   "outputs": [
    {
     "data": {
      "text/plain": [
       "[4, 3, 2, 6, 5, 3, 2, 1]"
      ]
     },
     "execution_count": 90,
     "metadata": {},
     "output_type": "execute_result"
    }
   ],
   "source": [
    "list1"
   ]
  },
  {
   "cell_type": "code",
   "execution_count": 94,
   "id": "ee538336-bb61-4096-92d4-5aa134769fa2",
   "metadata": {},
   "outputs": [
    {
     "data": {
      "text/plain": [
       "[1, 2, 3, 5, 6, 2, 3, 4]"
      ]
     },
     "execution_count": 94,
     "metadata": {},
     "output_type": "execute_result"
    }
   ],
   "source": [
    "#another way\n",
    "list1[::-1]"
   ]
  },
  {
   "cell_type": "markdown",
   "id": "ab0c3794-1413-4f60-bbab-0d0b7b1db9d4",
   "metadata": {},
   "source": [
    "<h3>sort</h3>"
   ]
  },
  {
   "cell_type": "markdown",
   "id": "923c8fe2-6eaf-4b89-a8da-a794e0d548c2",
   "metadata": {},
   "source": [
    "The sort() method will sort your list in place:"
   ]
  },
  {
   "cell_type": "code",
   "execution_count": 98,
   "id": "ab6e651a-9537-4540-9d56-4c431648cb09",
   "metadata": {},
   "outputs": [],
   "source": [
    "list2 = [2,1,324,0,1,-1]\n",
    "list2.sort()"
   ]
  },
  {
   "cell_type": "code",
   "execution_count": 100,
   "id": "abdff57f-6ef4-4448-9870-dfc1d644d9a1",
   "metadata": {},
   "outputs": [
    {
     "data": {
      "text/plain": [
       "[-1, 0, 1, 1, 2, 324]"
      ]
     },
     "execution_count": 100,
     "metadata": {},
     "output_type": "execute_result"
    }
   ],
   "source": [
    "list2"
   ]
  },
  {
   "cell_type": "code",
   "execution_count": 102,
   "id": "ca8fb889-9c27-434c-91d6-eeaab37a262f",
   "metadata": {},
   "outputs": [],
   "source": [
    "#The sort() method takes an optional argument for reverse sorting. Note this is different than simply reversing the order of items."
   ]
  },
  {
   "cell_type": "code",
   "execution_count": 104,
   "id": "c251a8a4-96ee-4ffc-b76c-c35ca4a2359d",
   "metadata": {},
   "outputs": [],
   "source": [
    "list2.sort(reverse=True)"
   ]
  },
  {
   "cell_type": "code",
   "execution_count": 106,
   "id": "dfdf88a6-09ed-4caa-9ede-cb903a472a64",
   "metadata": {},
   "outputs": [
    {
     "data": {
      "text/plain": [
       "[324, 2, 1, 1, 0, -1]"
      ]
     },
     "execution_count": 106,
     "metadata": {},
     "output_type": "execute_result"
    }
   ],
   "source": [
    "list2"
   ]
  },
  {
   "cell_type": "markdown",
   "id": "92e77270-26af-477b-926d-e67c20d357d3",
   "metadata": {},
   "source": [
    "<h3>Be Careful With Assignment!\n",
    "</h3>"
   ]
  },
  {
   "cell_type": "code",
   "execution_count": 111,
   "id": "a16aa0ec-b095-4688-a9ca-8c8e20ce7637",
   "metadata": {},
   "outputs": [],
   "source": [
    "x = 'hello world'\n",
    "y= ''\n",
    "y = x.upper()"
   ]
  },
  {
   "cell_type": "code",
   "execution_count": 116,
   "id": "99316c50-8b09-48e3-b29a-3bbae1690406",
   "metadata": {},
   "outputs": [
    {
     "data": {
      "text/plain": [
       "'HELLO WORLD'"
      ]
     },
     "execution_count": 116,
     "metadata": {},
     "output_type": "execute_result"
    }
   ],
   "source": [
    "y"
   ]
  },
  {
   "cell_type": "code",
   "execution_count": 118,
   "id": "9da7c875-50cd-4455-8a70-9c94ef82bd03",
   "metadata": {},
   "outputs": [
    {
     "data": {
      "text/plain": [
       "'hello world'"
      ]
     },
     "execution_count": 118,
     "metadata": {},
     "output_type": "execute_result"
    }
   ],
   "source": [
    "x"
   ]
  },
  {
   "cell_type": "code",
   "execution_count": 120,
   "id": "db6a3fa0-177c-40d5-ad57-075f5d779ebe",
   "metadata": {},
   "outputs": [
    {
     "data": {
      "text/plain": [
       "'HELLO WORLD'"
      ]
     },
     "execution_count": 120,
     "metadata": {},
     "output_type": "execute_result"
    }
   ],
   "source": [
    "y"
   ]
  },
  {
   "cell_type": "code",
   "execution_count": 122,
   "id": "b3e2836a-e0f0-4511-8bee-be484fb88c5b",
   "metadata": {},
   "outputs": [],
   "source": [
    "#This will NOT work the same way with lists:\n",
    "list1 = [1,2,3]\n",
    "\n",
    "list2 = list1.copy()"
   ]
  },
  {
   "cell_type": "code",
   "execution_count": 128,
   "id": "58a7bbf9-cc36-4760-a032-90c352b2eb8d",
   "metadata": {
    "jp-MarkdownHeadingCollapsed": true
   },
   "outputs": [
    {
     "data": {
      "text/plain": [
       "[1, 2, 3]"
      ]
     },
     "execution_count": 128,
     "metadata": {},
     "output_type": "execute_result"
    }
   ],
   "source": [
    "list1"
   ]
  },
  {
   "cell_type": "code",
   "execution_count": 125,
   "id": "b8146bb7-dd2f-45ef-ae25-758f88e35f8b",
   "metadata": {},
   "outputs": [
    {
     "data": {
      "text/plain": [
       "[1, 2, 3]"
      ]
     },
     "execution_count": 125,
     "metadata": {},
     "output_type": "execute_result"
    }
   ],
   "source": [
    "list2"
   ]
  },
  {
   "cell_type": "code",
   "execution_count": 130,
   "id": "8e8276bd-d52e-4b94-9cbf-a2a4269f8e9e",
   "metadata": {},
   "outputs": [],
   "source": [
    "list1.append(4)"
   ]
  },
  {
   "cell_type": "code",
   "execution_count": 132,
   "id": "2fb59216-fe39-429f-9052-ef9e8d3a1d3b",
   "metadata": {},
   "outputs": [
    {
     "data": {
      "text/plain": [
       "[1, 2, 3, 4]"
      ]
     },
     "execution_count": 132,
     "metadata": {},
     "output_type": "execute_result"
    }
   ],
   "source": [
    "list1"
   ]
  },
  {
   "cell_type": "code",
   "execution_count": 134,
   "id": "d0441a17-c736-486d-8755-0823eea677f2",
   "metadata": {},
   "outputs": [
    {
     "data": {
      "text/plain": [
       "[1, 2, 3]"
      ]
     },
     "execution_count": 134,
     "metadata": {},
     "output_type": "execute_result"
    }
   ],
   "source": [
    "list2"
   ]
  },
  {
   "cell_type": "code",
   "execution_count": 136,
   "id": "22a25c51-1293-4fb8-a355-8d0aa896b083",
   "metadata": {},
   "outputs": [],
   "source": [
    "#What happened? In this case, since list methods like append() affect the list in-place, \n",
    "#the operation returns a None value. This is what was passed to y. \n",
    "#In order to retain x you would have to assign a copy of x to y, and then modify y:\n",
    "\n",
    "x = [1,2,3]\n",
    "y = x.copy()\n",
    "y.append(4)"
   ]
  },
  {
   "cell_type": "code",
   "execution_count": 138,
   "id": "7e21b07e-505d-4c64-9604-8887e0afa518",
   "metadata": {},
   "outputs": [
    {
     "data": {
      "text/plain": [
       "[1, 2, 3, 4]"
      ]
     },
     "execution_count": 138,
     "metadata": {},
     "output_type": "execute_result"
    }
   ],
   "source": [
    "y"
   ]
  },
  {
   "cell_type": "code",
   "execution_count": 140,
   "id": "8071a650-fde3-4848-aa4f-5f1325b1ba19",
   "metadata": {},
   "outputs": [
    {
     "data": {
      "text/plain": [
       "[1, 2, 3]"
      ]
     },
     "execution_count": 140,
     "metadata": {},
     "output_type": "execute_result"
    }
   ],
   "source": [
    "x"
   ]
  },
  {
   "cell_type": "code",
   "execution_count": null,
   "id": "32637bf7-22ff-4175-a3b6-61a449f30404",
   "metadata": {},
   "outputs": [],
   "source": []
  }
 ],
 "metadata": {
  "kernelspec": {
   "display_name": "Python 3 (ipykernel)",
   "language": "python",
   "name": "python3"
  },
  "language_info": {
   "codemirror_mode": {
    "name": "ipython",
    "version": 3
   },
   "file_extension": ".py",
   "mimetype": "text/x-python",
   "name": "python",
   "nbconvert_exporter": "python",
   "pygments_lexer": "ipython3",
   "version": "3.12.7"
  }
 },
 "nbformat": 4,
 "nbformat_minor": 5
}
