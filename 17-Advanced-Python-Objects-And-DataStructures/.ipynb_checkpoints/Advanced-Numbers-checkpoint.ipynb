{
 "cells": [
  {
   "cell_type": "markdown",
   "id": "8471b5ca-37ff-42de-83fb-030c9e36ae3d",
   "metadata": {},
   "source": [
    "<h1> Advanced Numbers </h1>"
   ]
  },
  {
   "cell_type": "markdown",
   "id": "5ea495e4-b0e2-46ca-ac2e-baec6add6b6f",
   "metadata": {},
   "source": [
    "<p> In this lecture we will learn about a few more representations of numbers in Python.</p>"
   ]
  },
  {
   "cell_type": "markdown",
   "id": "de0fa732-0e8c-4033-8779-5c7e405a33c2",
   "metadata": {},
   "source": [
    "<h3>Hexadecimal numbers</h3>"
   ]
  },
  {
   "cell_type": "code",
   "execution_count": 30,
   "id": "01b37208-4942-4d8a-b5e1-1b1d6d2748fc",
   "metadata": {},
   "outputs": [
    {
     "data": {
      "text/plain": [
       "'0x10'"
      ]
     },
     "execution_count": 30,
     "metadata": {},
     "output_type": "execute_result"
    }
   ],
   "source": [
    "#Using the function hex() you can convert numbers into a hexadecimal format:\n",
    "\n",
    "hex(16)"
   ]
  },
  {
   "cell_type": "code",
   "execution_count": 9,
   "id": "9d4d77fc-d0a3-4c0b-b346-a81fdc35ecd4",
   "metadata": {},
   "outputs": [
    {
     "data": {
      "text/plain": [
       "'0x20'"
      ]
     },
     "execution_count": 9,
     "metadata": {},
     "output_type": "execute_result"
    }
   ],
   "source": [
    "hex(32)"
   ]
  },
  {
   "cell_type": "code",
   "execution_count": 11,
   "id": "f76caf03-5c1c-4503-88a2-e2ad4c393db2",
   "metadata": {},
   "outputs": [
    {
     "data": {
      "text/plain": [
       "'0x64'"
      ]
     },
     "execution_count": 11,
     "metadata": {},
     "output_type": "execute_result"
    }
   ],
   "source": [
    "hex(100)"
   ]
  },
  {
   "cell_type": "markdown",
   "id": "08915653-44a2-48be-a5ca-2cc81f84b7d8",
   "metadata": {},
   "source": [
    "<h3>Binary numbers</h3>"
   ]
  },
  {
   "cell_type": "code",
   "execution_count": 28,
   "id": "478a8586-320a-4661-a116-00cb79ed7f3d",
   "metadata": {},
   "outputs": [
    {
     "data": {
      "text/plain": [
       "'0b10'"
      ]
     },
     "execution_count": 28,
     "metadata": {},
     "output_type": "execute_result"
    }
   ],
   "source": [
    "#Using the function bin() you can convert numbers into their binary format.\n",
    "\n",
    "bin(2)"
   ]
  },
  {
   "cell_type": "code",
   "execution_count": 22,
   "id": "1e7e54af-9f20-42f9-adef-b7a7b8f67057",
   "metadata": {},
   "outputs": [
    {
     "data": {
      "text/plain": [
       "'0b1100100'"
      ]
     },
     "execution_count": 22,
     "metadata": {},
     "output_type": "execute_result"
    }
   ],
   "source": [
    "bin(100)"
   ]
  },
  {
   "cell_type": "code",
   "execution_count": 24,
   "id": "ee19b1fa-1cb8-46f2-97d1-68c37f398d73",
   "metadata": {},
   "outputs": [
    {
     "data": {
      "text/plain": [
       "'0b1000000000'"
      ]
     },
     "execution_count": 24,
     "metadata": {},
     "output_type": "execute_result"
    }
   ],
   "source": [
    "bin(512)"
   ]
  },
  {
   "cell_type": "code",
   "execution_count": 26,
   "id": "b558cca0-37b9-4e7c-b1b0-aa05ac610abe",
   "metadata": {},
   "outputs": [
    {
     "data": {
      "text/plain": [
       "'0b1000'"
      ]
     },
     "execution_count": 26,
     "metadata": {},
     "output_type": "execute_result"
    }
   ],
   "source": [
    "bin(8)"
   ]
  },
  {
   "cell_type": "markdown",
   "id": "fff27207-2898-482e-b9ff-f81dad125692",
   "metadata": {},
   "source": [
    "<h3>Exponentials</h3>"
   ]
  },
  {
   "cell_type": "code",
   "execution_count": 35,
   "id": "978e1d08-8976-43b6-95fe-ae2bdb858b5e",
   "metadata": {},
   "outputs": [
    {
     "data": {
      "text/plain": [
       "9"
      ]
     },
     "execution_count": 35,
     "metadata": {},
     "output_type": "execute_result"
    }
   ],
   "source": [
    "pow(3,2)"
   ]
  },
  {
   "cell_type": "code",
   "execution_count": 37,
   "id": "833068a1-df26-469a-8ef6-8971403617d4",
   "metadata": {},
   "outputs": [
    {
     "data": {
      "text/plain": [
       "65536"
      ]
     },
     "execution_count": 37,
     "metadata": {},
     "output_type": "execute_result"
    }
   ],
   "source": [
    "pow(16,4)"
   ]
  },
  {
   "cell_type": "code",
   "execution_count": 39,
   "id": "dfd6031e-d6f9-419e-8bd6-346e9f158765",
   "metadata": {},
   "outputs": [
    {
     "data": {
      "text/plain": [
       "32"
      ]
     },
     "execution_count": 39,
     "metadata": {},
     "output_type": "execute_result"
    }
   ],
   "source": [
    "pow(2,5)"
   ]
  },
  {
   "cell_type": "code",
   "execution_count": 43,
   "id": "43ddb59e-ab23-45c2-bf7f-962f9ea17192",
   "metadata": {},
   "outputs": [
    {
     "data": {
      "text/plain": [
       "1"
      ]
     },
     "execution_count": 43,
     "metadata": {},
     "output_type": "execute_result"
    }
   ],
   "source": [
    "pow(3,4,5)\n",
    "#Equivalent to base**exp with 2 arguments or base**exp % mod with 3 arguments\n",
    "# 3**4%5 ==> 81 % 5"
   ]
  },
  {
   "cell_type": "markdown",
   "id": "b325be08-187d-4991-a76d-82096fa76ecb",
   "metadata": {},
   "source": [
    "<h3>Absolute Value</h3>"
   ]
  },
  {
   "cell_type": "markdown",
   "id": "f1a2d82b-7aab-4308-866e-01f9bad7b83d",
   "metadata": {},
   "source": [
    "<p>The function abs() returns the absolute value of a number. The argument may be an integer or a floating point number. If the argument is a complex number, its magnitude is returned.</p>"
   ]
  },
  {
   "cell_type": "code",
   "execution_count": 49,
   "id": "91991987-f5b5-45fb-b31b-e2c04db177ea",
   "metadata": {},
   "outputs": [
    {
     "data": {
      "text/plain": [
       "3.15"
      ]
     },
     "execution_count": 49,
     "metadata": {},
     "output_type": "execute_result"
    }
   ],
   "source": [
    "abs(-3.15)"
   ]
  },
  {
   "cell_type": "code",
   "execution_count": 51,
   "id": "2c171214-9a20-4a20-9f9d-734237a0468c",
   "metadata": {},
   "outputs": [
    {
     "data": {
      "text/plain": [
       "3"
      ]
     },
     "execution_count": 51,
     "metadata": {},
     "output_type": "execute_result"
    }
   ],
   "source": [
    "abs(3)"
   ]
  },
  {
   "cell_type": "markdown",
   "id": "833611e5-a333-4428-aecc-a6a37cdf559a",
   "metadata": {},
   "source": [
    "<h3>Round</h3>"
   ]
  },
  {
   "cell_type": "code",
   "execution_count": 54,
   "id": "aefc8b29-a880-4647-8b04-9d52cce3bf4f",
   "metadata": {},
   "outputs": [
    {
     "data": {
      "text/plain": [
       "3"
      ]
     },
     "execution_count": 54,
     "metadata": {},
     "output_type": "execute_result"
    }
   ],
   "source": [
    "round(3.14)"
   ]
  },
  {
   "cell_type": "code",
   "execution_count": 66,
   "id": "139eb8dd-96a8-4dcb-a845-e0215f4e2f78",
   "metadata": {},
   "outputs": [
    {
     "data": {
      "text/plain": [
       "400.0"
      ]
     },
     "execution_count": 66,
     "metadata": {},
     "output_type": "execute_result"
    }
   ],
   "source": [
    "round(393.2342343,-2)"
   ]
  },
  {
   "cell_type": "code",
   "execution_count": 68,
   "id": "47e3104a-163a-4a5f-b6a9-80330c8c2418",
   "metadata": {},
   "outputs": [
    {
     "data": {
      "text/plain": [
       "3.14"
      ]
     },
     "execution_count": 68,
     "metadata": {},
     "output_type": "execute_result"
    }
   ],
   "source": [
    "round(3.1415926535,2)\n"
   ]
  },
  {
   "cell_type": "code",
   "execution_count": null,
   "id": "2fe9df81-67ed-4713-8933-a4f56945559d",
   "metadata": {},
   "outputs": [],
   "source": []
  }
 ],
 "metadata": {
  "kernelspec": {
   "display_name": "Python 3 (ipykernel)",
   "language": "python",
   "name": "python3"
  },
  "language_info": {
   "codemirror_mode": {
    "name": "ipython",
    "version": 3
   },
   "file_extension": ".py",
   "mimetype": "text/x-python",
   "name": "python",
   "nbconvert_exporter": "python",
   "pygments_lexer": "ipython3",
   "version": "3.12.7"
  }
 },
 "nbformat": 4,
 "nbformat_minor": 5
}
