{
 "cells": [
  {
   "cell_type": "markdown",
   "id": "75303abb-aea8-4286-869b-02e05e8214ea",
   "metadata": {},
   "source": [
    "<h1> Advanced Strings </h1>"
   ]
  },
  {
   "cell_type": "code",
   "execution_count": 4,
   "id": "cdbc3dd2-2e82-4797-b137-c881c28bd5db",
   "metadata": {},
   "outputs": [],
   "source": [
    "#String objects have a variety of methods we can use to save time and add functionality. Let's explore some of them in this lecture:\n",
    "\n",
    "s = \"hello world\""
   ]
  },
  {
   "cell_type": "code",
   "execution_count": 6,
   "id": "0cfad45d-48bd-4f27-b7ac-99ea7658154e",
   "metadata": {},
   "outputs": [
    {
     "data": {
      "text/plain": [
       "'Hello world'"
      ]
     },
     "execution_count": 6,
     "metadata": {},
     "output_type": "execute_result"
    }
   ],
   "source": [
    "# Capitalize first word in string\n",
    "s.capitalize()"
   ]
  },
  {
   "cell_type": "code",
   "execution_count": 10,
   "id": "820470f8-1546-441d-a501-854dab206721",
   "metadata": {},
   "outputs": [
    {
     "data": {
      "text/plain": [
       "'Hello World'"
      ]
     },
     "execution_count": 10,
     "metadata": {},
     "output_type": "execute_result"
    }
   ],
   "source": [
    "# # Capitalize all words in string\n",
    "s.title()"
   ]
  },
  {
   "cell_type": "code",
   "execution_count": 12,
   "id": "0be97712-4a09-4889-896c-b9fc6f71697d",
   "metadata": {},
   "outputs": [
    {
     "data": {
      "text/plain": [
       "'HELLO WORLD'"
      ]
     },
     "execution_count": 12,
     "metadata": {},
     "output_type": "execute_result"
    }
   ],
   "source": [
    "s.upper()"
   ]
  },
  {
   "cell_type": "code",
   "execution_count": 14,
   "id": "c45bb54a-22cc-4974-887f-bc5c50ccdf28",
   "metadata": {},
   "outputs": [
    {
     "data": {
      "text/plain": [
       "'hello world'"
      ]
     },
     "execution_count": 14,
     "metadata": {},
     "output_type": "execute_result"
    }
   ],
   "source": [
    "s.lower()"
   ]
  },
  {
   "cell_type": "markdown",
   "id": "140da09e-707c-4053-87d0-ba314705c258",
   "metadata": {},
   "source": [
    "<p>Remember, strings are immutable. None of the above methods change the string in place, they only return modified copies of the original string.</p>"
   ]
  },
  {
   "cell_type": "code",
   "execution_count": 16,
   "id": "1da415cd-c1ce-4a72-b9fa-93e5bed780e6",
   "metadata": {},
   "outputs": [
    {
     "data": {
      "text/plain": [
       "'hello world'"
      ]
     },
     "execution_count": 16,
     "metadata": {},
     "output_type": "execute_result"
    }
   ],
   "source": [
    "s"
   ]
  },
  {
   "cell_type": "code",
   "execution_count": 18,
   "id": "48eb4caa-de6b-45ad-8e2f-e49b303b5d38",
   "metadata": {},
   "outputs": [
    {
     "data": {
      "text/plain": [
       "'HELLO WORLD'"
      ]
     },
     "execution_count": 18,
     "metadata": {},
     "output_type": "execute_result"
    }
   ],
   "source": [
    "#To change a string requires reassignment:\n",
    "\n",
    "s = s.upper()\n",
    "s"
   ]
  },
  {
   "cell_type": "code",
   "execution_count": 21,
   "id": "8d50aae2-52f3-4452-b10e-635bb52a25d3",
   "metadata": {},
   "outputs": [
    {
     "data": {
      "text/plain": [
       "'hello world'"
      ]
     },
     "execution_count": 21,
     "metadata": {},
     "output_type": "execute_result"
    }
   ],
   "source": [
    "s =s.lower()\n",
    "s"
   ]
  },
  {
   "cell_type": "markdown",
   "id": "4c81bd55-b309-4054-93f4-5611d56d2373",
   "metadata": {},
   "source": [
    "<h3>Location and Counting\n",
    "</h3>"
   ]
  },
  {
   "cell_type": "code",
   "execution_count": 24,
   "id": "e221c355-fdce-4308-8160-8f21a40b8916",
   "metadata": {},
   "outputs": [],
   "source": [
    "#lets find o in hello world"
   ]
  },
  {
   "cell_type": "code",
   "execution_count": 26,
   "id": "7a4cdcfa-b4e8-4ad5-b6fa-162cbc107e51",
   "metadata": {},
   "outputs": [
    {
     "data": {
      "text/plain": [
       "'hello world'"
      ]
     },
     "execution_count": 26,
     "metadata": {},
     "output_type": "execute_result"
    }
   ],
   "source": [
    "s"
   ]
  },
  {
   "cell_type": "code",
   "execution_count": 30,
   "id": "0db081ab-8cb7-49e2-8adb-278224fb65ac",
   "metadata": {},
   "outputs": [
    {
     "data": {
      "text/plain": [
       "4"
      ]
     },
     "execution_count": 30,
     "metadata": {},
     "output_type": "execute_result"
    }
   ],
   "source": [
    "s.find('o') # 5th character 0,1,2,3,4"
   ]
  },
  {
   "cell_type": "code",
   "execution_count": 32,
   "id": "2b5ffc38-d316-47d5-a01d-4883412d7327",
   "metadata": {},
   "outputs": [
    {
     "data": {
      "text/plain": [
       "2"
      ]
     },
     "execution_count": 32,
     "metadata": {},
     "output_type": "execute_result"
    }
   ],
   "source": [
    "#how many occurances of o\n",
    "s.count('o') ## returns the number of occurrences, without overlap"
   ]
  },
  {
   "cell_type": "code",
   "execution_count": 34,
   "id": "30b14dae-7434-494f-bd68-6d9ff83819e4",
   "metadata": {},
   "outputs": [
    {
     "data": {
      "text/plain": [
       "6"
      ]
     },
     "execution_count": 34,
     "metadata": {},
     "output_type": "execute_result"
    }
   ],
   "source": [
    "s = \"hellooooo world\"\n",
    "s.count('o')"
   ]
  },
  {
   "cell_type": "code",
   "execution_count": 36,
   "id": "68a3a0cc-2d2d-4475-a648-500cdede7f31",
   "metadata": {},
   "outputs": [],
   "source": [
    "s = \"hello world\""
   ]
  },
  {
   "cell_type": "markdown",
   "id": "1baad45c-ce71-475a-affd-2a18e39daed7",
   "metadata": {},
   "source": [
    "<h3> Formatting Strings </h3>"
   ]
  },
  {
   "cell_type": "code",
   "execution_count": 41,
   "id": "cc4086bf-e10a-42c0-a20f-94cabd29ecc7",
   "metadata": {},
   "outputs": [
    {
     "data": {
      "text/plain": [
       "'****hello world*****'"
      ]
     },
     "execution_count": 41,
     "metadata": {},
     "output_type": "execute_result"
    }
   ],
   "source": [
    "#The center() method allows you to place your string 'centered' between a provided string with a certain length.\n",
    "s.center(20,\"*\")"
   ]
  },
  {
   "cell_type": "code",
   "execution_count": 47,
   "id": "f6390b4d-34eb-4bf3-ba2e-263c57a47b24",
   "metadata": {},
   "outputs": [
    {
     "data": {
      "text/plain": [
       "'hello           world'"
      ]
     },
     "execution_count": 47,
     "metadata": {},
     "output_type": "execute_result"
    }
   ],
   "source": [
    "#The expandtabs() method will expand tab notations \\t into spaces:\n",
    "\"hello\\t\\tworld\".expandtabs()"
   ]
  },
  {
   "cell_type": "markdown",
   "id": "bbd1977a-072e-4ad2-a0ff-5978437c82df",
   "metadata": {},
   "source": [
    "<h3>Is Check methods</h3>"
   ]
  },
  {
   "cell_type": "code",
   "execution_count": 54,
   "id": "98261dfb-bdcb-4b39-adf1-dcf48872a114",
   "metadata": {},
   "outputs": [],
   "source": [
    "s = \"hello\"\n",
    "#These various methods below check if the string is some case. Let's explore them:"
   ]
  },
  {
   "cell_type": "code",
   "execution_count": 72,
   "id": "58126c39-97dd-438d-81e5-d4cdad5f03ed",
   "metadata": {},
   "outputs": [
    {
     "data": {
      "text/plain": [
       "True"
      ]
     },
     "execution_count": 72,
     "metadata": {},
     "output_type": "execute_result"
    }
   ],
   "source": [
    "s.isalpha() #isalpha() will return True if all characters in s are alphabetic"
   ]
  },
  {
   "cell_type": "code",
   "execution_count": 60,
   "id": "610c8047-ab5c-4c7a-ba2c-ca972e0fc6c9",
   "metadata": {},
   "outputs": [
    {
     "data": {
      "text/plain": [
       "True"
      ]
     },
     "execution_count": 60,
     "metadata": {},
     "output_type": "execute_result"
    }
   ],
   "source": [
    "s.isalnum() #isalnum() will return True if all characters in s are alphanumeric"
   ]
  },
  {
   "cell_type": "code",
   "execution_count": 62,
   "id": "2f5534a8-c2e2-4330-98f0-38fd3419384c",
   "metadata": {},
   "outputs": [
    {
     "data": {
      "text/plain": [
       "False"
      ]
     },
     "execution_count": 62,
     "metadata": {},
     "output_type": "execute_result"
    }
   ],
   "source": [
    "s.isdigit()"
   ]
  },
  {
   "cell_type": "code",
   "execution_count": 64,
   "id": "f8eda319-75ca-4cc0-9a24-a2b1dae14938",
   "metadata": {},
   "outputs": [
    {
     "data": {
      "text/plain": [
       "False"
      ]
     },
     "execution_count": 64,
     "metadata": {},
     "output_type": "execute_result"
    }
   ],
   "source": [
    "s.istitle()\n",
    "#istitle() will return True if s is a title cased string and there is at least one character in s, i.e. uppercase characters \n",
    "#may only follow uncased characters and lowercase characters only cased ones. It returns False otherwise."
   ]
  },
  {
   "cell_type": "code",
   "execution_count": 74,
   "id": "ef377389-24ec-48bd-8a4f-06c929a1db07",
   "metadata": {},
   "outputs": [
    {
     "data": {
      "text/plain": [
       "True"
      ]
     },
     "execution_count": 74,
     "metadata": {},
     "output_type": "execute_result"
    }
   ],
   "source": [
    "s.islower()\n",
    "#islower() will return True if all cased characters in s are lowercase and there is at least one cased character in s, False otherwise."
   ]
  },
  {
   "cell_type": "code",
   "execution_count": 68,
   "id": "2c8f9e00-b8f3-4304-a67c-823fd5b4bea7",
   "metadata": {},
   "outputs": [
    {
     "data": {
      "text/plain": [
       "False"
      ]
     },
     "execution_count": 68,
     "metadata": {},
     "output_type": "execute_result"
    }
   ],
   "source": [
    "s.isupper()"
   ]
  },
  {
   "cell_type": "code",
   "execution_count": 80,
   "id": "6806fd04-e5d6-4831-b651-8e6df5fab393",
   "metadata": {},
   "outputs": [
    {
     "data": {
      "text/plain": [
       "True"
      ]
     },
     "execution_count": 80,
     "metadata": {},
     "output_type": "execute_result"
    }
   ],
   "source": [
    "s.endswith('o') #Another method is endswith() which is essentially the same as a boolean check on s[-1]"
   ]
  },
  {
   "cell_type": "code",
   "execution_count": 78,
   "id": "fffb8e9c-1987-46b4-aca1-dbfdf61e8003",
   "metadata": {},
   "outputs": [
    {
     "data": {
      "text/plain": [
       "False"
      ]
     },
     "execution_count": 78,
     "metadata": {},
     "output_type": "execute_result"
    }
   ],
   "source": [
    "s.isspace()\n",
    "#isspace() will return True if all characters in s are whitespace."
   ]
  },
  {
   "cell_type": "markdown",
   "id": "f16a2716-3218-4ac2-8937-e264296aa75e",
   "metadata": {},
   "source": [
    "<h3>Built-in Reg. Expressions\n",
    "</h3>"
   ]
  },
  {
   "cell_type": "code",
   "execution_count": 87,
   "id": "214856e8-28bf-4f5c-84df-50467dc72ae5",
   "metadata": {},
   "outputs": [],
   "source": [
    "#Strings have some built-in methods that can resemble regular expression operations. \n",
    "#We can use split() to split the string at a certain element and return a list of the results. \n",
    "#We can use partition() to return a tuple that includes the first occurrence of the separator sandwiched between \n",
    "#the first half and the end half."
   ]
  },
  {
   "cell_type": "code",
   "execution_count": 89,
   "id": "f35c2043-8478-46c6-91e4-2700848eed88",
   "metadata": {},
   "outputs": [],
   "source": [
    "s = \"hello world\""
   ]
  },
  {
   "cell_type": "code",
   "execution_count": 91,
   "id": "51c5dd45-1fad-4335-97a4-a9106844ead0",
   "metadata": {},
   "outputs": [
    {
     "data": {
      "text/plain": [
       "['hello', 'world']"
      ]
     },
     "execution_count": 91,
     "metadata": {},
     "output_type": "execute_result"
    }
   ],
   "source": [
    "#split() to split the string at a certain element and return a list of the results.\n",
    "s.split(\" \")"
   ]
  },
  {
   "cell_type": "code",
   "execution_count": 93,
   "id": "a56e2f05-c4b0-45d3-85ba-a83c36a350e2",
   "metadata": {},
   "outputs": [
    {
     "data": {
      "text/plain": [
       "['hell', ' w', 'rld']"
      ]
     },
     "execution_count": 93,
     "metadata": {},
     "output_type": "execute_result"
    }
   ],
   "source": [
    "s.split(\"o\")"
   ]
  },
  {
   "cell_type": "code",
   "execution_count": 99,
   "id": "9d5634d6-9536-49a2-9aa5-8b4ca012af34",
   "metadata": {},
   "outputs": [
    {
     "data": {
      "text/plain": [
       "('he', 'l', 'lo world')"
      ]
     },
     "execution_count": 99,
     "metadata": {},
     "output_type": "execute_result"
    }
   ],
   "source": [
    "#partition() to return a tuple that includes the first occurrence of the separator sandwiched between the first half and the end half\n",
    "s.partition(\"l\")"
   ]
  },
  {
   "cell_type": "code",
   "execution_count": 101,
   "id": "e5971bb2-c8de-43ce-a877-7af48f1aa340",
   "metadata": {},
   "outputs": [
    {
     "data": {
      "text/plain": [
       "('hello', ' ', 'world')"
      ]
     },
     "execution_count": 101,
     "metadata": {},
     "output_type": "execute_result"
    }
   ],
   "source": [
    "s.partition(\" \")"
   ]
  },
  {
   "cell_type": "code",
   "execution_count": 103,
   "id": "7cb89724-b789-4540-b9ab-32cd9142be8c",
   "metadata": {},
   "outputs": [],
   "source": [
    "s = \"hello world\""
   ]
  },
  {
   "cell_type": "code",
   "execution_count": 105,
   "id": "362e5ecd-1387-45df-a789-73862843dcd1",
   "metadata": {},
   "outputs": [
    {
     "data": {
      "text/plain": [
       "['hell', ' w', 'rld']"
      ]
     },
     "execution_count": 105,
     "metadata": {},
     "output_type": "execute_result"
    }
   ],
   "source": [
    "s.split(\"o\")"
   ]
  },
  {
   "cell_type": "code",
   "execution_count": 107,
   "id": "9e4a1253-72f8-4982-b732-6332e56afe17",
   "metadata": {},
   "outputs": [
    {
     "data": {
      "text/plain": [
       "('hell', 'o', ' world')"
      ]
     },
     "execution_count": 107,
     "metadata": {},
     "output_type": "execute_result"
    }
   ],
   "source": [
    "s.partition(\"o\")"
   ]
  },
  {
   "cell_type": "code",
   "execution_count": 111,
   "id": "97acd813-9e3f-49b3-9f27-0b10e818ab50",
   "metadata": {},
   "outputs": [],
   "source": [
    "#as we can see difference here split will split s with o as separator for each occurance and doesnt include its occurances of o in list\n",
    "#whereas for partition it considers the first occurance  and outputs a tuple"
   ]
  },
  {
   "cell_type": "code",
   "execution_count": null,
   "id": "2e186ec3-0336-4ef4-b144-95b9e812423b",
   "metadata": {},
   "outputs": [],
   "source": []
  }
 ],
 "metadata": {
  "kernelspec": {
   "display_name": "Python 3 (ipykernel)",
   "language": "python",
   "name": "python3"
  },
  "language_info": {
   "codemirror_mode": {
    "name": "ipython",
    "version": 3
   },
   "file_extension": ".py",
   "mimetype": "text/x-python",
   "name": "python",
   "nbconvert_exporter": "python",
   "pygments_lexer": "ipython3",
   "version": "3.12.7"
  }
 },
 "nbformat": 4,
 "nbformat_minor": 5
}
