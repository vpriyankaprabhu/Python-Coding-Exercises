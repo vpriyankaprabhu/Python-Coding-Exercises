{
 "cells": [
  {
   "cell_type": "markdown",
   "id": "2b375ce5-c5d0-413d-86b2-ce20aa34e769",
   "metadata": {},
   "source": [
    "<h1>Advanced Lists</h1>"
   ]
  },
  {
   "cell_type": "code",
   "execution_count": null,
   "id": "901a577c-6ed7-4e52-a944-d1aaac5ad2aa",
   "metadata": {},
   "outputs": [],
   "source": []
  }
 ],
 "metadata": {
  "kernelspec": {
   "display_name": "Python 3 (ipykernel)",
   "language": "python",
   "name": "python3"
  },
  "language_info": {
   "codemirror_mode": {
    "name": "ipython",
    "version": 3
   },
   "file_extension": ".py",
   "mimetype": "text/x-python",
   "name": "python",
   "nbconvert_exporter": "python",
   "pygments_lexer": "ipython3",
   "version": "3.12.7"
  }
 },
 "nbformat": 4,
 "nbformat_minor": 5
}
