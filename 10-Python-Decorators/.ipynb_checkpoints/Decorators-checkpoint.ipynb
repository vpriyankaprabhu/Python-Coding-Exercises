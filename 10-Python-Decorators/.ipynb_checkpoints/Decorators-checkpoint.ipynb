{
 "cells": [
  {
   "cell_type": "code",
   "execution_count": null,
   "id": "72215a25-ed7b-48e4-a78b-36525a2cdce5",
   "metadata": {},
   "outputs": [],
   "source": [
    "#decorators help us to decorate the function\n",
    "\n",
    "#Decorators can be thought of as functions which modify the functionality of another function. \n",
    "#They help to make your code shorter and more \"Pythonic\"."
   ]
  },
  {
   "cell_type": "code",
   "execution_count": 1,
   "id": "2ea20ac3-1be4-48f3-bf5f-e037dcb73d3f",
   "metadata": {},
   "outputs": [],
   "source": [
    "#You can add or remove extra functionality from function with help of decorators and u need to add on top\n",
    "#of function with @symbol\n",
    "#@some_decorator\n",
    "#def my_func():\n",
    "#    pass"
   ]
  },
  {
   "cell_type": "code",
   "execution_count": null,
   "id": "70b2a04a-5a02-468d-b017-695c378a49a4",
   "metadata": {},
   "outputs": [],
   "source": [
    "#Remember that in Python everything is an object. \n",
    "#That means functions are objects which can be assigned labels and passed into other functions. "
   ]
  },
  {
   "cell_type": "code",
   "execution_count": 3,
   "id": "e1da83a4-f47d-4961-bf24-1ea98b68982c",
   "metadata": {},
   "outputs": [],
   "source": [
    "def say_hello():\n",
    "    print (\"Hello!\")"
   ]
  },
  {
   "cell_type": "code",
   "execution_count": 11,
   "id": "02499aaf-4e7e-4d9a-abd4-60e3d8615ae9",
   "metadata": {},
   "outputs": [
    {
     "name": "stdout",
     "output_type": "stream",
     "text": [
      "Hello!\n"
     ]
    }
   ],
   "source": [
    "say_hello()"
   ]
  },
  {
   "cell_type": "code",
   "execution_count": 13,
   "id": "9eeea102-b94e-407d-85df-05e781e69e18",
   "metadata": {},
   "outputs": [
    {
     "data": {
      "text/plain": [
       "<function __main__.say_hello()>"
      ]
     },
     "execution_count": 13,
     "metadata": {},
     "output_type": "execute_result"
    }
   ],
   "source": [
    "say_hello # this is function object that can be assigned to variable"
   ]
  },
  {
   "cell_type": "code",
   "execution_count": 17,
   "id": "0f42515a-3df6-44a6-b487-c9c2e1e63df6",
   "metadata": {},
   "outputs": [],
   "source": [
    "greet=say_hello"
   ]
  },
  {
   "cell_type": "raw",
   "id": "062e9843-c19b-4cd0-ac24-c0f046cb47d0",
   "metadata": {},
   "source": [
    "greet"
   ]
  },
  {
   "cell_type": "code",
   "execution_count": 19,
   "id": "30d762f2-e5f9-44d2-a292-41f1364e6645",
   "metadata": {},
   "outputs": [
    {
     "name": "stdout",
     "output_type": "stream",
     "text": [
      "Hello!\n"
     ]
    }
   ],
   "source": [
    "greet()"
   ]
  },
  {
   "cell_type": "code",
   "execution_count": 21,
   "id": "8a17cc87-2fbc-48f5-9680-d8744ab7769c",
   "metadata": {},
   "outputs": [],
   "source": [
    "#so greet variable is assigned with say_hello function object"
   ]
  },
  {
   "cell_type": "code",
   "execution_count": 23,
   "id": "f57421f2-1c8b-4e60-b681-b4dfb3237ef6",
   "metadata": {},
   "outputs": [],
   "source": [
    "#now what if i delete say_hello object\n",
    "del say_hello"
   ]
  },
  {
   "cell_type": "code",
   "execution_count": 25,
   "id": "8376c6db-b5dc-4f76-92a8-e897ce86383e",
   "metadata": {},
   "outputs": [
    {
     "ename": "NameError",
     "evalue": "name 'say_hello' is not defined",
     "output_type": "error",
     "traceback": [
      "\u001b[0;31m---------------------------------------------------------------------------\u001b[0m",
      "\u001b[0;31mNameError\u001b[0m                                 Traceback (most recent call last)",
      "Cell \u001b[0;32mIn[25], line 1\u001b[0m\n\u001b[0;32m----> 1\u001b[0m say_hello\n",
      "\u001b[0;31mNameError\u001b[0m: name 'say_hello' is not defined"
     ]
    }
   ],
   "source": [
    "say_hello"
   ]
  },
  {
   "cell_type": "code",
   "execution_count": 27,
   "id": "b56e901a-c51f-48a1-a4c2-b55208e1711c",
   "metadata": {},
   "outputs": [],
   "source": [
    "#so this function object is deleted now"
   ]
  },
  {
   "cell_type": "code",
   "execution_count": 29,
   "id": "060c33fa-9729-4913-ad1d-1fb9442fd38f",
   "metadata": {},
   "outputs": [
    {
     "name": "stdout",
     "output_type": "stream",
     "text": [
      "Hello!\n"
     ]
    }
   ],
   "source": [
    "greet()"
   ]
  },
  {
   "cell_type": "code",
   "execution_count": 31,
   "id": "da798acd-ab41-4300-8a17-9b052f67c100",
   "metadata": {},
   "outputs": [],
   "source": [
    "#but greet which has say_hello object reference is actually pointing to function address say_hello and not variable\n",
    "#so it gets executed\n",
    "#function are objects that can be passed into other objects\n",
    "#passing of function within another function or calling functions within another function\n"
   ]
  },
  {
   "cell_type": "code",
   "execution_count": 37,
   "id": "2b3c12e0-fa5f-412a-a788-5789f93e45bc",
   "metadata": {},
   "outputs": [
    {
     "name": "stdout",
     "output_type": "stream",
     "text": [
      "say_hello() function is being called and executed!.\n",
      "\t greet() funtion inside say_hello() is called!.\n",
      "\t welcome() function inside say_hello is called!.\n",
      "say_hello() function execution is now complete!\n"
     ]
    }
   ],
   "source": [
    "def say_hello(name=\"Priyanka\"):\n",
    "    print(\"say_hello() function is being called and executed!.\")\n",
    "\n",
    "    def greet():\n",
    "        return \"\\t greet() funtion inside say_hello() is called!.\"\n",
    "\n",
    "    def welcome():\n",
    "        return \"\\t welcome() function inside say_hello is called!.\"\n",
    "\n",
    "    print(greet())\n",
    "    print(welcome())\n",
    "    print(\"say_hello() function execution is now complete!\")\n",
    "\n",
    "say_hello()"
   ]
  },
  {
   "cell_type": "code",
   "execution_count": 41,
   "id": "8a9b541d-a55f-4b39-b0d7-2ba10785799d",
   "metadata": {},
   "outputs": [
    {
     "ename": "NameError",
     "evalue": "name 'welcome' is not defined",
     "output_type": "error",
     "traceback": [
      "\u001b[0;31m---------------------------------------------------------------------------\u001b[0m",
      "\u001b[0;31mNameError\u001b[0m                                 Traceback (most recent call last)",
      "Cell \u001b[0;32mIn[41], line 1\u001b[0m\n\u001b[0;32m----> 1\u001b[0m welcome()\n",
      "\u001b[0;31mNameError\u001b[0m: name 'welcome' is not defined"
     ]
    }
   ],
   "source": [
    "welcome()"
   ]
  },
  {
   "cell_type": "code",
   "execution_count": 43,
   "id": "ba30b594-13da-4db6-8b32-857ce02b6005",
   "metadata": {},
   "outputs": [],
   "source": [
    "#welcome function scope is limited to within say_hello function and not outside same for greet() too"
   ]
  },
  {
   "cell_type": "code",
   "execution_count": null,
   "id": "b84d493a-abc3-4cfd-9b3e-3d2f7134fa48",
   "metadata": {},
   "outputs": [],
   "source": [
    "#Note how due to scope, the welcome() function is not defined outside of the hello() function. \n",
    "#Now lets learn about returning functions from within functions:"
   ]
  },
  {
   "cell_type": "code",
   "execution_count": 80,
   "id": "dfe4c4f9-17f4-46f0-a73f-961c3554d211",
   "metadata": {},
   "outputs": [
    {
     "name": "stdout",
     "output_type": "stream",
     "text": [
      "say_hello() function is being called and executed!.\n",
      "\t greet() funtion inside say_hello() is called!.\n",
      "\t welcome() function inside say_hello is called!.\n",
      "say_hello() function execution is now complete!\n"
     ]
    },
    {
     "data": {
      "text/plain": [
       "'\\t welcome() function inside say_hello is called!.'"
      ]
     },
     "execution_count": 80,
     "metadata": {},
     "output_type": "execute_result"
    }
   ],
   "source": [
    "#if we want to access welcome() outside say_hello() function scope, this say_hello() function should return welcome()\n",
    "def say_hello(name):\n",
    "    print(\"say_hello() function is being called and executed!.\")\n",
    "\n",
    "    def greet():\n",
    "        return \"\\t greet() funtion inside say_hello() is called!.\"\n",
    "\n",
    "    def welcome():\n",
    "        return \"\\t welcome() function inside say_hello is called!.\"\n",
    "\n",
    "    print(greet())\n",
    "    print(welcome())\n",
    "    print(\"say_hello() function execution is now complete!\")\n",
    "    if name == \"Priyanka\":\n",
    "        return greet\n",
    "    else:\n",
    "        return welcome\n",
    "\n",
    "result = say_hello(\"Pavani\")\n",
    "#say_hello(\"Priyanka\")\n",
    "\n",
    "result"
   ]
  },
  {
   "cell_type": "code",
   "execution_count": 82,
   "id": "951c138d-5724-4caf-823b-3ab36f787b48",
   "metadata": {},
   "outputs": [
    {
     "data": {
      "text/plain": [
       "'\\t welcome() function inside say_hello is called!.'"
      ]
     },
     "execution_count": 82,
     "metadata": {},
     "output_type": "execute_result"
    }
   ],
   "source": [
    "result() # here it runs welcome() function as result is assigned with function object of welcome()\n",
    "#This is because when you put a pair of parentheses after it, the function gets executed; whereas if you don’t put parentheses after it, \n",
    "#then it can be passed around and can be assigned to other variables without executing it."
   ]
  },
  {
   "cell_type": "code",
   "execution_count": 84,
   "id": "467c4872-960a-478e-ab7e-6d679f52b34d",
   "metadata": {},
   "outputs": [
    {
     "name": "stdout",
     "output_type": "stream",
     "text": [
      "\t welcome() function inside say_hello is called!.\n"
     ]
    }
   ],
   "source": [
    "print(result())"
   ]
  },
  {
   "cell_type": "code",
   "execution_count": null,
   "id": "c968fe11-9464-407c-bea4-18684352892d",
   "metadata": {},
   "outputs": [],
   "source": [
    "#another example"
   ]
  },
  {
   "cell_type": "code",
   "execution_count": 86,
   "id": "cf34bfcf-53e3-41d9-b490-9b875d0a652c",
   "metadata": {},
   "outputs": [],
   "source": [
    "def cool():\n",
    "    def super_cool():\n",
    "        print(\"I am very cool!\")\n",
    "    return super_cool\n",
    "\n",
    "some_func = cool()"
   ]
  },
  {
   "cell_type": "code",
   "execution_count": 88,
   "id": "412edd44-1d5a-43d0-8b10-8afc308d5faa",
   "metadata": {},
   "outputs": [
    {
     "data": {
      "text/plain": [
       "<function __main__.cool.<locals>.super_cool()>"
      ]
     },
     "execution_count": 88,
     "metadata": {},
     "output_type": "execute_result"
    }
   ],
   "source": [
    "some_func"
   ]
  },
  {
   "cell_type": "code",
   "execution_count": 90,
   "id": "36705ba2-1518-4260-816a-ca15bf5e1732",
   "metadata": {},
   "outputs": [
    {
     "name": "stdout",
     "output_type": "stream",
     "text": [
      "I am very cool!\n"
     ]
    }
   ],
   "source": [
    "some_func()"
   ]
  },
  {
   "cell_type": "code",
   "execution_count": 92,
   "id": "f186facb-3538-4f51-b26c-a8e839c5ab17",
   "metadata": {},
   "outputs": [
    {
     "name": "stdout",
     "output_type": "stream",
     "text": [
      "I am very cool!\n",
      "None\n"
     ]
    }
   ],
   "source": [
    "print(some_func())"
   ]
  },
  {
   "cell_type": "code",
   "execution_count": null,
   "id": "6fbd535d-17e2-4c60-b52f-9a21230f6318",
   "metadata": {},
   "outputs": [],
   "source": [
    "#Remember that Python functions create a new scope, meaning the function has its own namespace to find variable names \n",
    "#when they are mentioned within the function. \n",
    "#We can check for local variables and global variables with the locals() and globals() functions. "
   ]
  },
  {
   "cell_type": "code",
   "execution_count": null,
   "id": "d8bceb80-8f50-42b7-9b43-d65912b1438e",
   "metadata": {},
   "outputs": [],
   "source": [
    "print(locals())"
   ]
  },
  {
   "cell_type": "code",
   "execution_count": 49,
   "id": "e76c8da3-13ac-48f6-8718-e1be589b7e69",
   "metadata": {},
   "outputs": [
    {
     "name": "stdout",
     "output_type": "stream",
     "text": [
      "{'__name__': '__main__', '__doc__': 'Automatically created module for IPython interactive environment', '__package__': None, '__loader__': None, '__spec__': None, '__builtin__': <module 'builtins' (built-in)>, '__builtins__': <module 'builtins' (built-in)>, '_ih': ['', '#You can add or remove extra functionality from function with help of decorators and u need to add on top\\n#of function with @symbol\\n#@some_decorator\\n#def my_func():\\n#    pass', 'import json\\nimport getpass\\nimport hashlib\\n\\ndef import_pandas_safely():\\n    try:\\n        return __import__(\\'pandas\\')\\n    except ImportError:\\n        return False\\n\\n\\n__pandas = import_pandas_safely()\\n\\n\\ndef is_data_frame(v: str):\\n    obj = eval(v)\\n    if  isinstance(obj, __pandas.core.frame.DataFrame) or isinstance(obj, __pandas.core.series.Series):\\n        return True\\n\\n\\ndef dataframe_columns(var):\\n    df = eval(var)\\n    if isinstance(df, __pandas.core.series.Series):\\n        return [[df.name, str(df.dtype)]]\\n    return list(map(lambda col: [col, str(df[col].dtype)], df.columns))\\n\\n\\ndef dtypes_str(frame):\\n    return str(eval(frame).dtypes)\\n\\ndef dataframe_hash(var):\\n    # Return a hash including the column names and number of rows\\n    df = eval(var)\\n    if isinstance(df, __pandas.core.series.Series):\\n        return hashlib.sha256(f\"{var}-{df.name},{len(df)}\".encode(\\'utf-8\\')).hexdigest()\\n    return hashlib.sha256(f\"{var}-{\\',\\'.join(df.columns)},{len(df)}\".encode(\\'utf-8\\')).hexdigest()\\n\\ndef get_dataframes():\\n    if __pandas is None:\\n        return []\\n    user = getpass.getuser()\\n    values = get_ipython().run_line_magic(\\'who_ls\\', \\'\\')\\n    dataframes = [\\n        {\\n            \"name\": var,\\n            \"type\": type(eval(var)).__name__,\\n            \"hash\": dataframe_hash(var),\\n            \"cols\": dataframe_columns(var),\\n            \"dtypesStr\": dtypes_str(var),\\n        }\\n        for var in values if is_data_frame(var)\\n    ]\\n    result = {\"dataframes\": dataframes, \"user\": user}\\n    return json.dumps(result, ensure_ascii=False)\\n\\n\\nget_dataframes()', 'def say_hello():\\n    print (\"Hello!\")', 'import json\\nimport getpass\\nimport hashlib\\n\\ndef import_pandas_safely():\\n    try:\\n        return __import__(\\'pandas\\')\\n    except ImportError:\\n        return False\\n\\n\\n__pandas = import_pandas_safely()\\n\\n\\ndef is_data_frame(v: str):\\n    obj = eval(v)\\n    if  isinstance(obj, __pandas.core.frame.DataFrame) or isinstance(obj, __pandas.core.series.Series):\\n        return True\\n\\n\\ndef dataframe_columns(var):\\n    df = eval(var)\\n    if isinstance(df, __pandas.core.series.Series):\\n        return [[df.name, str(df.dtype)]]\\n    return list(map(lambda col: [col, str(df[col].dtype)], df.columns))\\n\\n\\ndef dtypes_str(frame):\\n    return str(eval(frame).dtypes)\\n\\ndef dataframe_hash(var):\\n    # Return a hash including the column names and number of rows\\n    df = eval(var)\\n    if isinstance(df, __pandas.core.series.Series):\\n        return hashlib.sha256(f\"{var}-{df.name},{len(df)}\".encode(\\'utf-8\\')).hexdigest()\\n    return hashlib.sha256(f\"{var}-{\\',\\'.join(df.columns)},{len(df)}\".encode(\\'utf-8\\')).hexdigest()\\n\\ndef get_dataframes():\\n    if __pandas is None:\\n        return []\\n    user = getpass.getuser()\\n    values = get_ipython().run_line_magic(\\'who_ls\\', \\'\\')\\n    dataframes = [\\n        {\\n            \"name\": var,\\n            \"type\": type(eval(var)).__name__,\\n            \"hash\": dataframe_hash(var),\\n            \"cols\": dataframe_columns(var),\\n            \"dtypesStr\": dtypes_str(var),\\n        }\\n        for var in values if is_data_frame(var)\\n    ]\\n    result = {\"dataframes\": dataframes, \"user\": user}\\n    return json.dumps(result, ensure_ascii=False)\\n\\n\\nget_dataframes()', 'say_hello()', 'import json\\nimport getpass\\nimport hashlib\\n\\ndef import_pandas_safely():\\n    try:\\n        return __import__(\\'pandas\\')\\n    except ImportError:\\n        return False\\n\\n\\n__pandas = import_pandas_safely()\\n\\n\\ndef is_data_frame(v: str):\\n    obj = eval(v)\\n    if  isinstance(obj, __pandas.core.frame.DataFrame) or isinstance(obj, __pandas.core.series.Series):\\n        return True\\n\\n\\ndef dataframe_columns(var):\\n    df = eval(var)\\n    if isinstance(df, __pandas.core.series.Series):\\n        return [[df.name, str(df.dtype)]]\\n    return list(map(lambda col: [col, str(df[col].dtype)], df.columns))\\n\\n\\ndef dtypes_str(frame):\\n    return str(eval(frame).dtypes)\\n\\ndef dataframe_hash(var):\\n    # Return a hash including the column names and number of rows\\n    df = eval(var)\\n    if isinstance(df, __pandas.core.series.Series):\\n        return hashlib.sha256(f\"{var}-{df.name},{len(df)}\".encode(\\'utf-8\\')).hexdigest()\\n    return hashlib.sha256(f\"{var}-{\\',\\'.join(df.columns)},{len(df)}\".encode(\\'utf-8\\')).hexdigest()\\n\\ndef get_dataframes():\\n    if __pandas is None:\\n        return []\\n    user = getpass.getuser()\\n    values = get_ipython().run_line_magic(\\'who_ls\\', \\'\\')\\n    dataframes = [\\n        {\\n            \"name\": var,\\n            \"type\": type(eval(var)).__name__,\\n            \"hash\": dataframe_hash(var),\\n            \"cols\": dataframe_columns(var),\\n            \"dtypesStr\": dtypes_str(var),\\n        }\\n        for var in values if is_data_frame(var)\\n    ]\\n    result = {\"dataframes\": dataframes, \"user\": user}\\n    return json.dumps(result, ensure_ascii=False)\\n\\n\\nget_dataframes()', 'say_hello', 'import json\\nimport getpass\\nimport hashlib\\n\\ndef import_pandas_safely():\\n    try:\\n        return __import__(\\'pandas\\')\\n    except ImportError:\\n        return False\\n\\n\\n__pandas = import_pandas_safely()\\n\\n\\ndef is_data_frame(v: str):\\n    obj = eval(v)\\n    if  isinstance(obj, __pandas.core.frame.DataFrame) or isinstance(obj, __pandas.core.series.Series):\\n        return True\\n\\n\\ndef dataframe_columns(var):\\n    df = eval(var)\\n    if isinstance(df, __pandas.core.series.Series):\\n        return [[df.name, str(df.dtype)]]\\n    return list(map(lambda col: [col, str(df[col].dtype)], df.columns))\\n\\n\\ndef dtypes_str(frame):\\n    return str(eval(frame).dtypes)\\n\\ndef dataframe_hash(var):\\n    # Return a hash including the column names and number of rows\\n    df = eval(var)\\n    if isinstance(df, __pandas.core.series.Series):\\n        return hashlib.sha256(f\"{var}-{df.name},{len(df)}\".encode(\\'utf-8\\')).hexdigest()\\n    return hashlib.sha256(f\"{var}-{\\',\\'.join(df.columns)},{len(df)}\".encode(\\'utf-8\\')).hexdigest()\\n\\ndef get_dataframes():\\n    if __pandas is None:\\n        return []\\n    user = getpass.getuser()\\n    values = get_ipython().run_line_magic(\\'who_ls\\', \\'\\')\\n    dataframes = [\\n        {\\n            \"name\": var,\\n            \"type\": type(eval(var)).__name__,\\n            \"hash\": dataframe_hash(var),\\n            \"cols\": dataframe_columns(var),\\n            \"dtypesStr\": dtypes_str(var),\\n        }\\n        for var in values if is_data_frame(var)\\n    ]\\n    result = {\"dataframes\": dataframes, \"user\": user}\\n    return json.dumps(result, ensure_ascii=False)\\n\\n\\nget_dataframes()', 'greet = say_hello', 'import json\\nimport getpass\\nimport hashlib\\n\\ndef import_pandas_safely():\\n    try:\\n        return __import__(\\'pandas\\')\\n    except ImportError:\\n        return False\\n\\n\\n__pandas = import_pandas_safely()\\n\\n\\ndef is_data_frame(v: str):\\n    obj = eval(v)\\n    if  isinstance(obj, __pandas.core.frame.DataFrame) or isinstance(obj, __pandas.core.series.Series):\\n        return True\\n\\n\\ndef dataframe_columns(var):\\n    df = eval(var)\\n    if isinstance(df, __pandas.core.series.Series):\\n        return [[df.name, str(df.dtype)]]\\n    return list(map(lambda col: [col, str(df[col].dtype)], df.columns))\\n\\n\\ndef dtypes_str(frame):\\n    return str(eval(frame).dtypes)\\n\\ndef dataframe_hash(var):\\n    # Return a hash including the column names and number of rows\\n    df = eval(var)\\n    if isinstance(df, __pandas.core.series.Series):\\n        return hashlib.sha256(f\"{var}-{df.name},{len(df)}\".encode(\\'utf-8\\')).hexdigest()\\n    return hashlib.sha256(f\"{var}-{\\',\\'.join(df.columns)},{len(df)}\".encode(\\'utf-8\\')).hexdigest()\\n\\ndef get_dataframes():\\n    if __pandas is None:\\n        return []\\n    user = getpass.getuser()\\n    values = get_ipython().run_line_magic(\\'who_ls\\', \\'\\')\\n    dataframes = [\\n        {\\n            \"name\": var,\\n            \"type\": type(eval(var)).__name__,\\n            \"hash\": dataframe_hash(var),\\n            \"cols\": dataframe_columns(var),\\n            \"dtypesStr\": dtypes_str(var),\\n        }\\n        for var in values if is_data_frame(var)\\n    ]\\n    result = {\"dataframes\": dataframes, \"user\": user}\\n    return json.dumps(result, ensure_ascii=False)\\n\\n\\nget_dataframes()', 'say_hello()', 'import json\\nimport getpass\\nimport hashlib\\n\\ndef import_pandas_safely():\\n    try:\\n        return __import__(\\'pandas\\')\\n    except ImportError:\\n        return False\\n\\n\\n__pandas = import_pandas_safely()\\n\\n\\ndef is_data_frame(v: str):\\n    obj = eval(v)\\n    if  isinstance(obj, __pandas.core.frame.DataFrame) or isinstance(obj, __pandas.core.series.Series):\\n        return True\\n\\n\\ndef dataframe_columns(var):\\n    df = eval(var)\\n    if isinstance(df, __pandas.core.series.Series):\\n        return [[df.name, str(df.dtype)]]\\n    return list(map(lambda col: [col, str(df[col].dtype)], df.columns))\\n\\n\\ndef dtypes_str(frame):\\n    return str(eval(frame).dtypes)\\n\\ndef dataframe_hash(var):\\n    # Return a hash including the column names and number of rows\\n    df = eval(var)\\n    if isinstance(df, __pandas.core.series.Series):\\n        return hashlib.sha256(f\"{var}-{df.name},{len(df)}\".encode(\\'utf-8\\')).hexdigest()\\n    return hashlib.sha256(f\"{var}-{\\',\\'.join(df.columns)},{len(df)}\".encode(\\'utf-8\\')).hexdigest()\\n\\ndef get_dataframes():\\n    if __pandas is None:\\n        return []\\n    user = getpass.getuser()\\n    values = get_ipython().run_line_magic(\\'who_ls\\', \\'\\')\\n    dataframes = [\\n        {\\n            \"name\": var,\\n            \"type\": type(eval(var)).__name__,\\n            \"hash\": dataframe_hash(var),\\n            \"cols\": dataframe_columns(var),\\n            \"dtypesStr\": dtypes_str(var),\\n        }\\n        for var in values if is_data_frame(var)\\n    ]\\n    result = {\"dataframes\": dataframes, \"user\": user}\\n    return json.dumps(result, ensure_ascii=False)\\n\\n\\nget_dataframes()', 'say_hello # this is function object that can be assigned to variable', 'import json\\nimport getpass\\nimport hashlib\\n\\ndef import_pandas_safely():\\n    try:\\n        return __import__(\\'pandas\\')\\n    except ImportError:\\n        return False\\n\\n\\n__pandas = import_pandas_safely()\\n\\n\\ndef is_data_frame(v: str):\\n    obj = eval(v)\\n    if  isinstance(obj, __pandas.core.frame.DataFrame) or isinstance(obj, __pandas.core.series.Series):\\n        return True\\n\\n\\ndef dataframe_columns(var):\\n    df = eval(var)\\n    if isinstance(df, __pandas.core.series.Series):\\n        return [[df.name, str(df.dtype)]]\\n    return list(map(lambda col: [col, str(df[col].dtype)], df.columns))\\n\\n\\ndef dtypes_str(frame):\\n    return str(eval(frame).dtypes)\\n\\ndef dataframe_hash(var):\\n    # Return a hash including the column names and number of rows\\n    df = eval(var)\\n    if isinstance(df, __pandas.core.series.Series):\\n        return hashlib.sha256(f\"{var}-{df.name},{len(df)}\".encode(\\'utf-8\\')).hexdigest()\\n    return hashlib.sha256(f\"{var}-{\\',\\'.join(df.columns)},{len(df)}\".encode(\\'utf-8\\')).hexdigest()\\n\\ndef get_dataframes():\\n    if __pandas is None:\\n        return []\\n    user = getpass.getuser()\\n    values = get_ipython().run_line_magic(\\'who_ls\\', \\'\\')\\n    dataframes = [\\n        {\\n            \"name\": var,\\n            \"type\": type(eval(var)).__name__,\\n            \"hash\": dataframe_hash(var),\\n            \"cols\": dataframe_columns(var),\\n            \"dtypesStr\": dtypes_str(var),\\n        }\\n        for var in values if is_data_frame(var)\\n    ]\\n    result = {\"dataframes\": dataframes, \"user\": user}\\n    return json.dumps(result, ensure_ascii=False)\\n\\n\\nget_dataframes()', 'greet = say_hello', 'import json\\nimport getpass\\nimport hashlib\\n\\ndef import_pandas_safely():\\n    try:\\n        return __import__(\\'pandas\\')\\n    except ImportError:\\n        return False\\n\\n\\n__pandas = import_pandas_safely()\\n\\n\\ndef is_data_frame(v: str):\\n    obj = eval(v)\\n    if  isinstance(obj, __pandas.core.frame.DataFrame) or isinstance(obj, __pandas.core.series.Series):\\n        return True\\n\\n\\ndef dataframe_columns(var):\\n    df = eval(var)\\n    if isinstance(df, __pandas.core.series.Series):\\n        return [[df.name, str(df.dtype)]]\\n    return list(map(lambda col: [col, str(df[col].dtype)], df.columns))\\n\\n\\ndef dtypes_str(frame):\\n    return str(eval(frame).dtypes)\\n\\ndef dataframe_hash(var):\\n    # Return a hash including the column names and number of rows\\n    df = eval(var)\\n    if isinstance(df, __pandas.core.series.Series):\\n        return hashlib.sha256(f\"{var}-{df.name},{len(df)}\".encode(\\'utf-8\\')).hexdigest()\\n    return hashlib.sha256(f\"{var}-{\\',\\'.join(df.columns)},{len(df)}\".encode(\\'utf-8\\')).hexdigest()\\n\\ndef get_dataframes():\\n    if __pandas is None:\\n        return []\\n    user = getpass.getuser()\\n    values = get_ipython().run_line_magic(\\'who_ls\\', \\'\\')\\n    dataframes = [\\n        {\\n            \"name\": var,\\n            \"type\": type(eval(var)).__name__,\\n            \"hash\": dataframe_hash(var),\\n            \"cols\": dataframe_columns(var),\\n            \"dtypesStr\": dtypes_str(var),\\n        }\\n        for var in values if is_data_frame(var)\\n    ]\\n    result = {\"dataframes\": dataframes, \"user\": user}\\n    return json.dumps(result, ensure_ascii=False)\\n\\n\\nget_dataframes()', 'greet=say_hello', 'import json\\nimport getpass\\nimport hashlib\\n\\ndef import_pandas_safely():\\n    try:\\n        return __import__(\\'pandas\\')\\n    except ImportError:\\n        return False\\n\\n\\n__pandas = import_pandas_safely()\\n\\n\\ndef is_data_frame(v: str):\\n    obj = eval(v)\\n    if  isinstance(obj, __pandas.core.frame.DataFrame) or isinstance(obj, __pandas.core.series.Series):\\n        return True\\n\\n\\ndef dataframe_columns(var):\\n    df = eval(var)\\n    if isinstance(df, __pandas.core.series.Series):\\n        return [[df.name, str(df.dtype)]]\\n    return list(map(lambda col: [col, str(df[col].dtype)], df.columns))\\n\\n\\ndef dtypes_str(frame):\\n    return str(eval(frame).dtypes)\\n\\ndef dataframe_hash(var):\\n    # Return a hash including the column names and number of rows\\n    df = eval(var)\\n    if isinstance(df, __pandas.core.series.Series):\\n        return hashlib.sha256(f\"{var}-{df.name},{len(df)}\".encode(\\'utf-8\\')).hexdigest()\\n    return hashlib.sha256(f\"{var}-{\\',\\'.join(df.columns)},{len(df)}\".encode(\\'utf-8\\')).hexdigest()\\n\\ndef get_dataframes():\\n    if __pandas is None:\\n        return []\\n    user = getpass.getuser()\\n    values = get_ipython().run_line_magic(\\'who_ls\\', \\'\\')\\n    dataframes = [\\n        {\\n            \"name\": var,\\n            \"type\": type(eval(var)).__name__,\\n            \"hash\": dataframe_hash(var),\\n            \"cols\": dataframe_columns(var),\\n            \"dtypesStr\": dtypes_str(var),\\n        }\\n        for var in values if is_data_frame(var)\\n    ]\\n    result = {\"dataframes\": dataframes, \"user\": user}\\n    return json.dumps(result, ensure_ascii=False)\\n\\n\\nget_dataframes()', 'greet()', 'import json\\nimport getpass\\nimport hashlib\\n\\ndef import_pandas_safely():\\n    try:\\n        return __import__(\\'pandas\\')\\n    except ImportError:\\n        return False\\n\\n\\n__pandas = import_pandas_safely()\\n\\n\\ndef is_data_frame(v: str):\\n    obj = eval(v)\\n    if  isinstance(obj, __pandas.core.frame.DataFrame) or isinstance(obj, __pandas.core.series.Series):\\n        return True\\n\\n\\ndef dataframe_columns(var):\\n    df = eval(var)\\n    if isinstance(df, __pandas.core.series.Series):\\n        return [[df.name, str(df.dtype)]]\\n    return list(map(lambda col: [col, str(df[col].dtype)], df.columns))\\n\\n\\ndef dtypes_str(frame):\\n    return str(eval(frame).dtypes)\\n\\ndef dataframe_hash(var):\\n    # Return a hash including the column names and number of rows\\n    df = eval(var)\\n    if isinstance(df, __pandas.core.series.Series):\\n        return hashlib.sha256(f\"{var}-{df.name},{len(df)}\".encode(\\'utf-8\\')).hexdigest()\\n    return hashlib.sha256(f\"{var}-{\\',\\'.join(df.columns)},{len(df)}\".encode(\\'utf-8\\')).hexdigest()\\n\\ndef get_dataframes():\\n    if __pandas is None:\\n        return []\\n    user = getpass.getuser()\\n    values = get_ipython().run_line_magic(\\'who_ls\\', \\'\\')\\n    dataframes = [\\n        {\\n            \"name\": var,\\n            \"type\": type(eval(var)).__name__,\\n            \"hash\": dataframe_hash(var),\\n            \"cols\": dataframe_columns(var),\\n            \"dtypesStr\": dtypes_str(var),\\n        }\\n        for var in values if is_data_frame(var)\\n    ]\\n    result = {\"dataframes\": dataframes, \"user\": user}\\n    return json.dumps(result, ensure_ascii=False)\\n\\n\\nget_dataframes()', '#so greet variable is assigned with say_hello function object', 'import json\\nimport getpass\\nimport hashlib\\n\\ndef import_pandas_safely():\\n    try:\\n        return __import__(\\'pandas\\')\\n    except ImportError:\\n        return False\\n\\n\\n__pandas = import_pandas_safely()\\n\\n\\ndef is_data_frame(v: str):\\n    obj = eval(v)\\n    if  isinstance(obj, __pandas.core.frame.DataFrame) or isinstance(obj, __pandas.core.series.Series):\\n        return True\\n\\n\\ndef dataframe_columns(var):\\n    df = eval(var)\\n    if isinstance(df, __pandas.core.series.Series):\\n        return [[df.name, str(df.dtype)]]\\n    return list(map(lambda col: [col, str(df[col].dtype)], df.columns))\\n\\n\\ndef dtypes_str(frame):\\n    return str(eval(frame).dtypes)\\n\\ndef dataframe_hash(var):\\n    # Return a hash including the column names and number of rows\\n    df = eval(var)\\n    if isinstance(df, __pandas.core.series.Series):\\n        return hashlib.sha256(f\"{var}-{df.name},{len(df)}\".encode(\\'utf-8\\')).hexdigest()\\n    return hashlib.sha256(f\"{var}-{\\',\\'.join(df.columns)},{len(df)}\".encode(\\'utf-8\\')).hexdigest()\\n\\ndef get_dataframes():\\n    if __pandas is None:\\n        return []\\n    user = getpass.getuser()\\n    values = get_ipython().run_line_magic(\\'who_ls\\', \\'\\')\\n    dataframes = [\\n        {\\n            \"name\": var,\\n            \"type\": type(eval(var)).__name__,\\n            \"hash\": dataframe_hash(var),\\n            \"cols\": dataframe_columns(var),\\n            \"dtypesStr\": dtypes_str(var),\\n        }\\n        for var in values if is_data_frame(var)\\n    ]\\n    result = {\"dataframes\": dataframes, \"user\": user}\\n    return json.dumps(result, ensure_ascii=False)\\n\\n\\nget_dataframes()', '#now what if i delete say_hello object\\ndel say_hello', 'import json\\nimport getpass\\nimport hashlib\\n\\ndef import_pandas_safely():\\n    try:\\n        return __import__(\\'pandas\\')\\n    except ImportError:\\n        return False\\n\\n\\n__pandas = import_pandas_safely()\\n\\n\\ndef is_data_frame(v: str):\\n    obj = eval(v)\\n    if  isinstance(obj, __pandas.core.frame.DataFrame) or isinstance(obj, __pandas.core.series.Series):\\n        return True\\n\\n\\ndef dataframe_columns(var):\\n    df = eval(var)\\n    if isinstance(df, __pandas.core.series.Series):\\n        return [[df.name, str(df.dtype)]]\\n    return list(map(lambda col: [col, str(df[col].dtype)], df.columns))\\n\\n\\ndef dtypes_str(frame):\\n    return str(eval(frame).dtypes)\\n\\ndef dataframe_hash(var):\\n    # Return a hash including the column names and number of rows\\n    df = eval(var)\\n    if isinstance(df, __pandas.core.series.Series):\\n        return hashlib.sha256(f\"{var}-{df.name},{len(df)}\".encode(\\'utf-8\\')).hexdigest()\\n    return hashlib.sha256(f\"{var}-{\\',\\'.join(df.columns)},{len(df)}\".encode(\\'utf-8\\')).hexdigest()\\n\\ndef get_dataframes():\\n    if __pandas is None:\\n        return []\\n    user = getpass.getuser()\\n    values = get_ipython().run_line_magic(\\'who_ls\\', \\'\\')\\n    dataframes = [\\n        {\\n            \"name\": var,\\n            \"type\": type(eval(var)).__name__,\\n            \"hash\": dataframe_hash(var),\\n            \"cols\": dataframe_columns(var),\\n            \"dtypesStr\": dtypes_str(var),\\n        }\\n        for var in values if is_data_frame(var)\\n    ]\\n    result = {\"dataframes\": dataframes, \"user\": user}\\n    return json.dumps(result, ensure_ascii=False)\\n\\n\\nget_dataframes()', 'say_hello', 'import json\\nimport getpass\\nimport hashlib\\n\\ndef import_pandas_safely():\\n    try:\\n        return __import__(\\'pandas\\')\\n    except ImportError:\\n        return False\\n\\n\\n__pandas = import_pandas_safely()\\n\\n\\ndef is_data_frame(v: str):\\n    obj = eval(v)\\n    if  isinstance(obj, __pandas.core.frame.DataFrame) or isinstance(obj, __pandas.core.series.Series):\\n        return True\\n\\n\\ndef dataframe_columns(var):\\n    df = eval(var)\\n    if isinstance(df, __pandas.core.series.Series):\\n        return [[df.name, str(df.dtype)]]\\n    return list(map(lambda col: [col, str(df[col].dtype)], df.columns))\\n\\n\\ndef dtypes_str(frame):\\n    return str(eval(frame).dtypes)\\n\\ndef dataframe_hash(var):\\n    # Return a hash including the column names and number of rows\\n    df = eval(var)\\n    if isinstance(df, __pandas.core.series.Series):\\n        return hashlib.sha256(f\"{var}-{df.name},{len(df)}\".encode(\\'utf-8\\')).hexdigest()\\n    return hashlib.sha256(f\"{var}-{\\',\\'.join(df.columns)},{len(df)}\".encode(\\'utf-8\\')).hexdigest()\\n\\ndef get_dataframes():\\n    if __pandas is None:\\n        return []\\n    user = getpass.getuser()\\n    values = get_ipython().run_line_magic(\\'who_ls\\', \\'\\')\\n    dataframes = [\\n        {\\n            \"name\": var,\\n            \"type\": type(eval(var)).__name__,\\n            \"hash\": dataframe_hash(var),\\n            \"cols\": dataframe_columns(var),\\n            \"dtypesStr\": dtypes_str(var),\\n        }\\n        for var in values if is_data_frame(var)\\n    ]\\n    result = {\"dataframes\": dataframes, \"user\": user}\\n    return json.dumps(result, ensure_ascii=False)\\n\\n\\nget_dataframes()', '#so this function object is deleted now', 'import json\\nimport getpass\\nimport hashlib\\n\\ndef import_pandas_safely():\\n    try:\\n        return __import__(\\'pandas\\')\\n    except ImportError:\\n        return False\\n\\n\\n__pandas = import_pandas_safely()\\n\\n\\ndef is_data_frame(v: str):\\n    obj = eval(v)\\n    if  isinstance(obj, __pandas.core.frame.DataFrame) or isinstance(obj, __pandas.core.series.Series):\\n        return True\\n\\n\\ndef dataframe_columns(var):\\n    df = eval(var)\\n    if isinstance(df, __pandas.core.series.Series):\\n        return [[df.name, str(df.dtype)]]\\n    return list(map(lambda col: [col, str(df[col].dtype)], df.columns))\\n\\n\\ndef dtypes_str(frame):\\n    return str(eval(frame).dtypes)\\n\\ndef dataframe_hash(var):\\n    # Return a hash including the column names and number of rows\\n    df = eval(var)\\n    if isinstance(df, __pandas.core.series.Series):\\n        return hashlib.sha256(f\"{var}-{df.name},{len(df)}\".encode(\\'utf-8\\')).hexdigest()\\n    return hashlib.sha256(f\"{var}-{\\',\\'.join(df.columns)},{len(df)}\".encode(\\'utf-8\\')).hexdigest()\\n\\ndef get_dataframes():\\n    if __pandas is None:\\n        return []\\n    user = getpass.getuser()\\n    values = get_ipython().run_line_magic(\\'who_ls\\', \\'\\')\\n    dataframes = [\\n        {\\n            \"name\": var,\\n            \"type\": type(eval(var)).__name__,\\n            \"hash\": dataframe_hash(var),\\n            \"cols\": dataframe_columns(var),\\n            \"dtypesStr\": dtypes_str(var),\\n        }\\n        for var in values if is_data_frame(var)\\n    ]\\n    result = {\"dataframes\": dataframes, \"user\": user}\\n    return json.dumps(result, ensure_ascii=False)\\n\\n\\nget_dataframes()', 'greet()', 'import json\\nimport getpass\\nimport hashlib\\n\\ndef import_pandas_safely():\\n    try:\\n        return __import__(\\'pandas\\')\\n    except ImportError:\\n        return False\\n\\n\\n__pandas = import_pandas_safely()\\n\\n\\ndef is_data_frame(v: str):\\n    obj = eval(v)\\n    if  isinstance(obj, __pandas.core.frame.DataFrame) or isinstance(obj, __pandas.core.series.Series):\\n        return True\\n\\n\\ndef dataframe_columns(var):\\n    df = eval(var)\\n    if isinstance(df, __pandas.core.series.Series):\\n        return [[df.name, str(df.dtype)]]\\n    return list(map(lambda col: [col, str(df[col].dtype)], df.columns))\\n\\n\\ndef dtypes_str(frame):\\n    return str(eval(frame).dtypes)\\n\\ndef dataframe_hash(var):\\n    # Return a hash including the column names and number of rows\\n    df = eval(var)\\n    if isinstance(df, __pandas.core.series.Series):\\n        return hashlib.sha256(f\"{var}-{df.name},{len(df)}\".encode(\\'utf-8\\')).hexdigest()\\n    return hashlib.sha256(f\"{var}-{\\',\\'.join(df.columns)},{len(df)}\".encode(\\'utf-8\\')).hexdigest()\\n\\ndef get_dataframes():\\n    if __pandas is None:\\n        return []\\n    user = getpass.getuser()\\n    values = get_ipython().run_line_magic(\\'who_ls\\', \\'\\')\\n    dataframes = [\\n        {\\n            \"name\": var,\\n            \"type\": type(eval(var)).__name__,\\n            \"hash\": dataframe_hash(var),\\n            \"cols\": dataframe_columns(var),\\n            \"dtypesStr\": dtypes_str(var),\\n        }\\n        for var in values if is_data_frame(var)\\n    ]\\n    result = {\"dataframes\": dataframes, \"user\": user}\\n    return json.dumps(result, ensure_ascii=False)\\n\\n\\nget_dataframes()', '#but greet which has say_hello object reference is actually pointing to function address say_hello and not variable', 'import json\\nimport getpass\\nimport hashlib\\n\\ndef import_pandas_safely():\\n    try:\\n        return __import__(\\'pandas\\')\\n    except ImportError:\\n        return False\\n\\n\\n__pandas = import_pandas_safely()\\n\\n\\ndef is_data_frame(v: str):\\n    obj = eval(v)\\n    if  isinstance(obj, __pandas.core.frame.DataFrame) or isinstance(obj, __pandas.core.series.Series):\\n        return True\\n\\n\\ndef dataframe_columns(var):\\n    df = eval(var)\\n    if isinstance(df, __pandas.core.series.Series):\\n        return [[df.name, str(df.dtype)]]\\n    return list(map(lambda col: [col, str(df[col].dtype)], df.columns))\\n\\n\\ndef dtypes_str(frame):\\n    return str(eval(frame).dtypes)\\n\\ndef dataframe_hash(var):\\n    # Return a hash including the column names and number of rows\\n    df = eval(var)\\n    if isinstance(df, __pandas.core.series.Series):\\n        return hashlib.sha256(f\"{var}-{df.name},{len(df)}\".encode(\\'utf-8\\')).hexdigest()\\n    return hashlib.sha256(f\"{var}-{\\',\\'.join(df.columns)},{len(df)}\".encode(\\'utf-8\\')).hexdigest()\\n\\ndef get_dataframes():\\n    if __pandas is None:\\n        return []\\n    user = getpass.getuser()\\n    values = get_ipython().run_line_magic(\\'who_ls\\', \\'\\')\\n    dataframes = [\\n        {\\n            \"name\": var,\\n            \"type\": type(eval(var)).__name__,\\n            \"hash\": dataframe_hash(var),\\n            \"cols\": dataframe_columns(var),\\n            \"dtypesStr\": dtypes_str(var),\\n        }\\n        for var in values if is_data_frame(var)\\n    ]\\n    result = {\"dataframes\": dataframes, \"user\": user}\\n    return json.dumps(result, ensure_ascii=False)\\n\\n\\nget_dataframes()', '#but greet which has say_hello object reference is actually pointing to function address say_hello and not variable\\n#so it gets executed\\n#function are objects that can be passed into other objects\\n#passing of function within another function or calling functions within another function', 'import json\\nimport getpass\\nimport hashlib\\n\\ndef import_pandas_safely():\\n    try:\\n        return __import__(\\'pandas\\')\\n    except ImportError:\\n        return False\\n\\n\\n__pandas = import_pandas_safely()\\n\\n\\ndef is_data_frame(v: str):\\n    obj = eval(v)\\n    if  isinstance(obj, __pandas.core.frame.DataFrame) or isinstance(obj, __pandas.core.series.Series):\\n        return True\\n\\n\\ndef dataframe_columns(var):\\n    df = eval(var)\\n    if isinstance(df, __pandas.core.series.Series):\\n        return [[df.name, str(df.dtype)]]\\n    return list(map(lambda col: [col, str(df[col].dtype)], df.columns))\\n\\n\\ndef dtypes_str(frame):\\n    return str(eval(frame).dtypes)\\n\\ndef dataframe_hash(var):\\n    # Return a hash including the column names and number of rows\\n    df = eval(var)\\n    if isinstance(df, __pandas.core.series.Series):\\n        return hashlib.sha256(f\"{var}-{df.name},{len(df)}\".encode(\\'utf-8\\')).hexdigest()\\n    return hashlib.sha256(f\"{var}-{\\',\\'.join(df.columns)},{len(df)}\".encode(\\'utf-8\\')).hexdigest()\\n\\ndef get_dataframes():\\n    if __pandas is None:\\n        return []\\n    user = getpass.getuser()\\n    values = get_ipython().run_line_magic(\\'who_ls\\', \\'\\')\\n    dataframes = [\\n        {\\n            \"name\": var,\\n            \"type\": type(eval(var)).__name__,\\n            \"hash\": dataframe_hash(var),\\n            \"cols\": dataframe_columns(var),\\n            \"dtypesStr\": dtypes_str(var),\\n        }\\n        for var in values if is_data_frame(var)\\n    ]\\n    result = {\"dataframes\": dataframes, \"user\": user}\\n    return json.dumps(result, ensure_ascii=False)\\n\\n\\nget_dataframes()', 'greet()', 'import json\\nimport getpass\\nimport hashlib\\n\\ndef import_pandas_safely():\\n    try:\\n        return __import__(\\'pandas\\')\\n    except ImportError:\\n        return False\\n\\n\\n__pandas = import_pandas_safely()\\n\\n\\ndef is_data_frame(v: str):\\n    obj = eval(v)\\n    if  isinstance(obj, __pandas.core.frame.DataFrame) or isinstance(obj, __pandas.core.series.Series):\\n        return True\\n\\n\\ndef dataframe_columns(var):\\n    df = eval(var)\\n    if isinstance(df, __pandas.core.series.Series):\\n        return [[df.name, str(df.dtype)]]\\n    return list(map(lambda col: [col, str(df[col].dtype)], df.columns))\\n\\n\\ndef dtypes_str(frame):\\n    return str(eval(frame).dtypes)\\n\\ndef dataframe_hash(var):\\n    # Return a hash including the column names and number of rows\\n    df = eval(var)\\n    if isinstance(df, __pandas.core.series.Series):\\n        return hashlib.sha256(f\"{var}-{df.name},{len(df)}\".encode(\\'utf-8\\')).hexdigest()\\n    return hashlib.sha256(f\"{var}-{\\',\\'.join(df.columns)},{len(df)}\".encode(\\'utf-8\\')).hexdigest()\\n\\ndef get_dataframes():\\n    if __pandas is None:\\n        return []\\n    user = getpass.getuser()\\n    values = get_ipython().run_line_magic(\\'who_ls\\', \\'\\')\\n    dataframes = [\\n        {\\n            \"name\": var,\\n            \"type\": type(eval(var)).__name__,\\n            \"hash\": dataframe_hash(var),\\n            \"cols\": dataframe_columns(var),\\n            \"dtypesStr\": dtypes_str(var),\\n        }\\n        for var in values if is_data_frame(var)\\n    ]\\n    result = {\"dataframes\": dataframes, \"user\": user}\\n    return json.dumps(result, ensure_ascii=False)\\n\\n\\nget_dataframes()', 'def say_hello(name=\"Priyanka\"):\\n    print(\"say_hello() function is being called and executed!.\")\\n\\n    def greet():\\n        return \"\\\\t greet() funtion inside say_hello() is called!.\"\\n\\n    def welcome():\\n        return \"\\\\t welcome() function inside say_hello is called!.\"\\n\\n    print(greet())\\n    print(welcome())\\n    print(\"say_hello() function execution is now complete!\")\\n\\nsay_hello()', 'import json\\nimport getpass\\nimport hashlib\\n\\ndef import_pandas_safely():\\n    try:\\n        return __import__(\\'pandas\\')\\n    except ImportError:\\n        return False\\n\\n\\n__pandas = import_pandas_safely()\\n\\n\\ndef is_data_frame(v: str):\\n    obj = eval(v)\\n    if  isinstance(obj, __pandas.core.frame.DataFrame) or isinstance(obj, __pandas.core.series.Series):\\n        return True\\n\\n\\ndef dataframe_columns(var):\\n    df = eval(var)\\n    if isinstance(df, __pandas.core.series.Series):\\n        return [[df.name, str(df.dtype)]]\\n    return list(map(lambda col: [col, str(df[col].dtype)], df.columns))\\n\\n\\ndef dtypes_str(frame):\\n    return str(eval(frame).dtypes)\\n\\ndef dataframe_hash(var):\\n    # Return a hash including the column names and number of rows\\n    df = eval(var)\\n    if isinstance(df, __pandas.core.series.Series):\\n        return hashlib.sha256(f\"{var}-{df.name},{len(df)}\".encode(\\'utf-8\\')).hexdigest()\\n    return hashlib.sha256(f\"{var}-{\\',\\'.join(df.columns)},{len(df)}\".encode(\\'utf-8\\')).hexdigest()\\n\\ndef get_dataframes():\\n    if __pandas is None:\\n        return []\\n    user = getpass.getuser()\\n    values = get_ipython().run_line_magic(\\'who_ls\\', \\'\\')\\n    dataframes = [\\n        {\\n            \"name\": var,\\n            \"type\": type(eval(var)).__name__,\\n            \"hash\": dataframe_hash(var),\\n            \"cols\": dataframe_columns(var),\\n            \"dtypesStr\": dtypes_str(var),\\n        }\\n        for var in values if is_data_frame(var)\\n    ]\\n    result = {\"dataframes\": dataframes, \"user\": user}\\n    return json.dumps(result, ensure_ascii=False)\\n\\n\\nget_dataframes()', 'greet()', 'import json\\nimport getpass\\nimport hashlib\\n\\ndef import_pandas_safely():\\n    try:\\n        return __import__(\\'pandas\\')\\n    except ImportError:\\n        return False\\n\\n\\n__pandas = import_pandas_safely()\\n\\n\\ndef is_data_frame(v: str):\\n    obj = eval(v)\\n    if  isinstance(obj, __pandas.core.frame.DataFrame) or isinstance(obj, __pandas.core.series.Series):\\n        return True\\n\\n\\ndef dataframe_columns(var):\\n    df = eval(var)\\n    if isinstance(df, __pandas.core.series.Series):\\n        return [[df.name, str(df.dtype)]]\\n    return list(map(lambda col: [col, str(df[col].dtype)], df.columns))\\n\\n\\ndef dtypes_str(frame):\\n    return str(eval(frame).dtypes)\\n\\ndef dataframe_hash(var):\\n    # Return a hash including the column names and number of rows\\n    df = eval(var)\\n    if isinstance(df, __pandas.core.series.Series):\\n        return hashlib.sha256(f\"{var}-{df.name},{len(df)}\".encode(\\'utf-8\\')).hexdigest()\\n    return hashlib.sha256(f\"{var}-{\\',\\'.join(df.columns)},{len(df)}\".encode(\\'utf-8\\')).hexdigest()\\n\\ndef get_dataframes():\\n    if __pandas is None:\\n        return []\\n    user = getpass.getuser()\\n    values = get_ipython().run_line_magic(\\'who_ls\\', \\'\\')\\n    dataframes = [\\n        {\\n            \"name\": var,\\n            \"type\": type(eval(var)).__name__,\\n            \"hash\": dataframe_hash(var),\\n            \"cols\": dataframe_columns(var),\\n            \"dtypesStr\": dtypes_str(var),\\n        }\\n        for var in values if is_data_frame(var)\\n    ]\\n    result = {\"dataframes\": dataframes, \"user\": user}\\n    return json.dumps(result, ensure_ascii=False)\\n\\n\\nget_dataframes()', 'welcome()', 'import json\\nimport getpass\\nimport hashlib\\n\\ndef import_pandas_safely():\\n    try:\\n        return __import__(\\'pandas\\')\\n    except ImportError:\\n        return False\\n\\n\\n__pandas = import_pandas_safely()\\n\\n\\ndef is_data_frame(v: str):\\n    obj = eval(v)\\n    if  isinstance(obj, __pandas.core.frame.DataFrame) or isinstance(obj, __pandas.core.series.Series):\\n        return True\\n\\n\\ndef dataframe_columns(var):\\n    df = eval(var)\\n    if isinstance(df, __pandas.core.series.Series):\\n        return [[df.name, str(df.dtype)]]\\n    return list(map(lambda col: [col, str(df[col].dtype)], df.columns))\\n\\n\\ndef dtypes_str(frame):\\n    return str(eval(frame).dtypes)\\n\\ndef dataframe_hash(var):\\n    # Return a hash including the column names and number of rows\\n    df = eval(var)\\n    if isinstance(df, __pandas.core.series.Series):\\n        return hashlib.sha256(f\"{var}-{df.name},{len(df)}\".encode(\\'utf-8\\')).hexdigest()\\n    return hashlib.sha256(f\"{var}-{\\',\\'.join(df.columns)},{len(df)}\".encode(\\'utf-8\\')).hexdigest()\\n\\ndef get_dataframes():\\n    if __pandas is None:\\n        return []\\n    user = getpass.getuser()\\n    values = get_ipython().run_line_magic(\\'who_ls\\', \\'\\')\\n    dataframes = [\\n        {\\n            \"name\": var,\\n            \"type\": type(eval(var)).__name__,\\n            \"hash\": dataframe_hash(var),\\n            \"cols\": dataframe_columns(var),\\n            \"dtypesStr\": dtypes_str(var),\\n        }\\n        for var in values if is_data_frame(var)\\n    ]\\n    result = {\"dataframes\": dataframes, \"user\": user}\\n    return json.dumps(result, ensure_ascii=False)\\n\\n\\nget_dataframes()', '#welcome function scope is limited to within say_hello function and not outside same for greet() too', 'import json\\nimport getpass\\nimport hashlib\\n\\ndef import_pandas_safely():\\n    try:\\n        return __import__(\\'pandas\\')\\n    except ImportError:\\n        return False\\n\\n\\n__pandas = import_pandas_safely()\\n\\n\\ndef is_data_frame(v: str):\\n    obj = eval(v)\\n    if  isinstance(obj, __pandas.core.frame.DataFrame) or isinstance(obj, __pandas.core.series.Series):\\n        return True\\n\\n\\ndef dataframe_columns(var):\\n    df = eval(var)\\n    if isinstance(df, __pandas.core.series.Series):\\n        return [[df.name, str(df.dtype)]]\\n    return list(map(lambda col: [col, str(df[col].dtype)], df.columns))\\n\\n\\ndef dtypes_str(frame):\\n    return str(eval(frame).dtypes)\\n\\ndef dataframe_hash(var):\\n    # Return a hash including the column names and number of rows\\n    df = eval(var)\\n    if isinstance(df, __pandas.core.series.Series):\\n        return hashlib.sha256(f\"{var}-{df.name},{len(df)}\".encode(\\'utf-8\\')).hexdigest()\\n    return hashlib.sha256(f\"{var}-{\\',\\'.join(df.columns)},{len(df)}\".encode(\\'utf-8\\')).hexdigest()\\n\\ndef get_dataframes():\\n    if __pandas is None:\\n        return []\\n    user = getpass.getuser()\\n    values = get_ipython().run_line_magic(\\'who_ls\\', \\'\\')\\n    dataframes = [\\n        {\\n            \"name\": var,\\n            \"type\": type(eval(var)).__name__,\\n            \"hash\": dataframe_hash(var),\\n            \"cols\": dataframe_columns(var),\\n            \"dtypesStr\": dtypes_str(var),\\n        }\\n        for var in values if is_data_frame(var)\\n    ]\\n    result = {\"dataframes\": dataframes, \"user\": user}\\n    return json.dumps(result, ensure_ascii=False)\\n\\n\\nget_dataframes()', 'print(local())', 'import json\\nimport getpass\\nimport hashlib\\n\\ndef import_pandas_safely():\\n    try:\\n        return __import__(\\'pandas\\')\\n    except ImportError:\\n        return False\\n\\n\\n__pandas = import_pandas_safely()\\n\\n\\ndef is_data_frame(v: str):\\n    obj = eval(v)\\n    if  isinstance(obj, __pandas.core.frame.DataFrame) or isinstance(obj, __pandas.core.series.Series):\\n        return True\\n\\n\\ndef dataframe_columns(var):\\n    df = eval(var)\\n    if isinstance(df, __pandas.core.series.Series):\\n        return [[df.name, str(df.dtype)]]\\n    return list(map(lambda col: [col, str(df[col].dtype)], df.columns))\\n\\n\\ndef dtypes_str(frame):\\n    return str(eval(frame).dtypes)\\n\\ndef dataframe_hash(var):\\n    # Return a hash including the column names and number of rows\\n    df = eval(var)\\n    if isinstance(df, __pandas.core.series.Series):\\n        return hashlib.sha256(f\"{var}-{df.name},{len(df)}\".encode(\\'utf-8\\')).hexdigest()\\n    return hashlib.sha256(f\"{var}-{\\',\\'.join(df.columns)},{len(df)}\".encode(\\'utf-8\\')).hexdigest()\\n\\ndef get_dataframes():\\n    if __pandas is None:\\n        return []\\n    user = getpass.getuser()\\n    values = get_ipython().run_line_magic(\\'who_ls\\', \\'\\')\\n    dataframes = [\\n        {\\n            \"name\": var,\\n            \"type\": type(eval(var)).__name__,\\n            \"hash\": dataframe_hash(var),\\n            \"cols\": dataframe_columns(var),\\n            \"dtypesStr\": dtypes_str(var),\\n        }\\n        for var in values if is_data_frame(var)\\n    ]\\n    result = {\"dataframes\": dataframes, \"user\": user}\\n    return json.dumps(result, ensure_ascii=False)\\n\\n\\nget_dataframes()', 'print(locals())', 'import json\\nimport getpass\\nimport hashlib\\n\\ndef import_pandas_safely():\\n    try:\\n        return __import__(\\'pandas\\')\\n    except ImportError:\\n        return False\\n\\n\\n__pandas = import_pandas_safely()\\n\\n\\ndef is_data_frame(v: str):\\n    obj = eval(v)\\n    if  isinstance(obj, __pandas.core.frame.DataFrame) or isinstance(obj, __pandas.core.series.Series):\\n        return True\\n\\n\\ndef dataframe_columns(var):\\n    df = eval(var)\\n    if isinstance(df, __pandas.core.series.Series):\\n        return [[df.name, str(df.dtype)]]\\n    return list(map(lambda col: [col, str(df[col].dtype)], df.columns))\\n\\n\\ndef dtypes_str(frame):\\n    return str(eval(frame).dtypes)\\n\\ndef dataframe_hash(var):\\n    # Return a hash including the column names and number of rows\\n    df = eval(var)\\n    if isinstance(df, __pandas.core.series.Series):\\n        return hashlib.sha256(f\"{var}-{df.name},{len(df)}\".encode(\\'utf-8\\')).hexdigest()\\n    return hashlib.sha256(f\"{var}-{\\',\\'.join(df.columns)},{len(df)}\".encode(\\'utf-8\\')).hexdigest()\\n\\ndef get_dataframes():\\n    if __pandas is None:\\n        return []\\n    user = getpass.getuser()\\n    values = get_ipython().run_line_magic(\\'who_ls\\', \\'\\')\\n    dataframes = [\\n        {\\n            \"name\": var,\\n            \"type\": type(eval(var)).__name__,\\n            \"hash\": dataframe_hash(var),\\n            \"cols\": dataframe_columns(var),\\n            \"dtypesStr\": dtypes_str(var),\\n        }\\n        for var in values if is_data_frame(var)\\n    ]\\n    result = {\"dataframes\": dataframes, \"user\": user}\\n    return json.dumps(result, ensure_ascii=False)\\n\\n\\nget_dataframes()', 'print(globals())'], '_oh': {2: '{\"dataframes\": [], \"user\": \"priprabh\"}', 4: '{\"dataframes\": [], \"user\": \"priprabh\"}', 6: '{\"dataframes\": [], \"user\": \"priprabh\"}', 7: <function say_hello at 0x131672fc0>, 8: '{\"dataframes\": [], \"user\": \"priprabh\"}', 10: '{\"dataframes\": [], \"user\": \"priprabh\"}', 12: '{\"dataframes\": [], \"user\": \"priprabh\"}', 13: <function say_hello at 0x131672fc0>, 14: '{\"dataframes\": [], \"user\": \"priprabh\"}', 16: '{\"dataframes\": [], \"user\": \"priprabh\"}', 18: '{\"dataframes\": [], \"user\": \"priprabh\"}', 20: '{\"dataframes\": [], \"user\": \"priprabh\"}', 22: '{\"dataframes\": [], \"user\": \"priprabh\"}', 24: '{\"dataframes\": [], \"user\": \"priprabh\"}', 26: '{\"dataframes\": [], \"user\": \"priprabh\"}', 28: '{\"dataframes\": [], \"user\": \"priprabh\"}', 30: '{\"dataframes\": [], \"user\": \"priprabh\"}', 32: '{\"dataframes\": [], \"user\": \"priprabh\"}', 34: '{\"dataframes\": [], \"user\": \"priprabh\"}', 36: '{\"dataframes\": [], \"user\": \"priprabh\"}', 38: '{\"dataframes\": [], \"user\": \"priprabh\"}', 40: '{\"dataframes\": [], \"user\": \"priprabh\"}', 42: '{\"dataframes\": [], \"user\": \"priprabh\"}', 44: '{\"dataframes\": [], \"user\": \"priprabh\"}', 46: '{\"dataframes\": [], \"user\": \"priprabh\"}', 48: '{\"dataframes\": [], \"user\": \"priprabh\"}'}, '_dh': [PosixPath('/Users/priprabh/Downloads/Priyanka/Learnings & Training/Python/Udemy Python/Python-Coding-Exercises/Python-Coding-Exercises/10-Python-Decorators')], 'In': ['', '#You can add or remove extra functionality from function with help of decorators and u need to add on top\\n#of function with @symbol\\n#@some_decorator\\n#def my_func():\\n#    pass', 'import json\\nimport getpass\\nimport hashlib\\n\\ndef import_pandas_safely():\\n    try:\\n        return __import__(\\'pandas\\')\\n    except ImportError:\\n        return False\\n\\n\\n__pandas = import_pandas_safely()\\n\\n\\ndef is_data_frame(v: str):\\n    obj = eval(v)\\n    if  isinstance(obj, __pandas.core.frame.DataFrame) or isinstance(obj, __pandas.core.series.Series):\\n        return True\\n\\n\\ndef dataframe_columns(var):\\n    df = eval(var)\\n    if isinstance(df, __pandas.core.series.Series):\\n        return [[df.name, str(df.dtype)]]\\n    return list(map(lambda col: [col, str(df[col].dtype)], df.columns))\\n\\n\\ndef dtypes_str(frame):\\n    return str(eval(frame).dtypes)\\n\\ndef dataframe_hash(var):\\n    # Return a hash including the column names and number of rows\\n    df = eval(var)\\n    if isinstance(df, __pandas.core.series.Series):\\n        return hashlib.sha256(f\"{var}-{df.name},{len(df)}\".encode(\\'utf-8\\')).hexdigest()\\n    return hashlib.sha256(f\"{var}-{\\',\\'.join(df.columns)},{len(df)}\".encode(\\'utf-8\\')).hexdigest()\\n\\ndef get_dataframes():\\n    if __pandas is None:\\n        return []\\n    user = getpass.getuser()\\n    values = get_ipython().run_line_magic(\\'who_ls\\', \\'\\')\\n    dataframes = [\\n        {\\n            \"name\": var,\\n            \"type\": type(eval(var)).__name__,\\n            \"hash\": dataframe_hash(var),\\n            \"cols\": dataframe_columns(var),\\n            \"dtypesStr\": dtypes_str(var),\\n        }\\n        for var in values if is_data_frame(var)\\n    ]\\n    result = {\"dataframes\": dataframes, \"user\": user}\\n    return json.dumps(result, ensure_ascii=False)\\n\\n\\nget_dataframes()', 'def say_hello():\\n    print (\"Hello!\")', 'import json\\nimport getpass\\nimport hashlib\\n\\ndef import_pandas_safely():\\n    try:\\n        return __import__(\\'pandas\\')\\n    except ImportError:\\n        return False\\n\\n\\n__pandas = import_pandas_safely()\\n\\n\\ndef is_data_frame(v: str):\\n    obj = eval(v)\\n    if  isinstance(obj, __pandas.core.frame.DataFrame) or isinstance(obj, __pandas.core.series.Series):\\n        return True\\n\\n\\ndef dataframe_columns(var):\\n    df = eval(var)\\n    if isinstance(df, __pandas.core.series.Series):\\n        return [[df.name, str(df.dtype)]]\\n    return list(map(lambda col: [col, str(df[col].dtype)], df.columns))\\n\\n\\ndef dtypes_str(frame):\\n    return str(eval(frame).dtypes)\\n\\ndef dataframe_hash(var):\\n    # Return a hash including the column names and number of rows\\n    df = eval(var)\\n    if isinstance(df, __pandas.core.series.Series):\\n        return hashlib.sha256(f\"{var}-{df.name},{len(df)}\".encode(\\'utf-8\\')).hexdigest()\\n    return hashlib.sha256(f\"{var}-{\\',\\'.join(df.columns)},{len(df)}\".encode(\\'utf-8\\')).hexdigest()\\n\\ndef get_dataframes():\\n    if __pandas is None:\\n        return []\\n    user = getpass.getuser()\\n    values = get_ipython().run_line_magic(\\'who_ls\\', \\'\\')\\n    dataframes = [\\n        {\\n            \"name\": var,\\n            \"type\": type(eval(var)).__name__,\\n            \"hash\": dataframe_hash(var),\\n            \"cols\": dataframe_columns(var),\\n            \"dtypesStr\": dtypes_str(var),\\n        }\\n        for var in values if is_data_frame(var)\\n    ]\\n    result = {\"dataframes\": dataframes, \"user\": user}\\n    return json.dumps(result, ensure_ascii=False)\\n\\n\\nget_dataframes()', 'say_hello()', 'import json\\nimport getpass\\nimport hashlib\\n\\ndef import_pandas_safely():\\n    try:\\n        return __import__(\\'pandas\\')\\n    except ImportError:\\n        return False\\n\\n\\n__pandas = import_pandas_safely()\\n\\n\\ndef is_data_frame(v: str):\\n    obj = eval(v)\\n    if  isinstance(obj, __pandas.core.frame.DataFrame) or isinstance(obj, __pandas.core.series.Series):\\n        return True\\n\\n\\ndef dataframe_columns(var):\\n    df = eval(var)\\n    if isinstance(df, __pandas.core.series.Series):\\n        return [[df.name, str(df.dtype)]]\\n    return list(map(lambda col: [col, str(df[col].dtype)], df.columns))\\n\\n\\ndef dtypes_str(frame):\\n    return str(eval(frame).dtypes)\\n\\ndef dataframe_hash(var):\\n    # Return a hash including the column names and number of rows\\n    df = eval(var)\\n    if isinstance(df, __pandas.core.series.Series):\\n        return hashlib.sha256(f\"{var}-{df.name},{len(df)}\".encode(\\'utf-8\\')).hexdigest()\\n    return hashlib.sha256(f\"{var}-{\\',\\'.join(df.columns)},{len(df)}\".encode(\\'utf-8\\')).hexdigest()\\n\\ndef get_dataframes():\\n    if __pandas is None:\\n        return []\\n    user = getpass.getuser()\\n    values = get_ipython().run_line_magic(\\'who_ls\\', \\'\\')\\n    dataframes = [\\n        {\\n            \"name\": var,\\n            \"type\": type(eval(var)).__name__,\\n            \"hash\": dataframe_hash(var),\\n            \"cols\": dataframe_columns(var),\\n            \"dtypesStr\": dtypes_str(var),\\n        }\\n        for var in values if is_data_frame(var)\\n    ]\\n    result = {\"dataframes\": dataframes, \"user\": user}\\n    return json.dumps(result, ensure_ascii=False)\\n\\n\\nget_dataframes()', 'say_hello', 'import json\\nimport getpass\\nimport hashlib\\n\\ndef import_pandas_safely():\\n    try:\\n        return __import__(\\'pandas\\')\\n    except ImportError:\\n        return False\\n\\n\\n__pandas = import_pandas_safely()\\n\\n\\ndef is_data_frame(v: str):\\n    obj = eval(v)\\n    if  isinstance(obj, __pandas.core.frame.DataFrame) or isinstance(obj, __pandas.core.series.Series):\\n        return True\\n\\n\\ndef dataframe_columns(var):\\n    df = eval(var)\\n    if isinstance(df, __pandas.core.series.Series):\\n        return [[df.name, str(df.dtype)]]\\n    return list(map(lambda col: [col, str(df[col].dtype)], df.columns))\\n\\n\\ndef dtypes_str(frame):\\n    return str(eval(frame).dtypes)\\n\\ndef dataframe_hash(var):\\n    # Return a hash including the column names and number of rows\\n    df = eval(var)\\n    if isinstance(df, __pandas.core.series.Series):\\n        return hashlib.sha256(f\"{var}-{df.name},{len(df)}\".encode(\\'utf-8\\')).hexdigest()\\n    return hashlib.sha256(f\"{var}-{\\',\\'.join(df.columns)},{len(df)}\".encode(\\'utf-8\\')).hexdigest()\\n\\ndef get_dataframes():\\n    if __pandas is None:\\n        return []\\n    user = getpass.getuser()\\n    values = get_ipython().run_line_magic(\\'who_ls\\', \\'\\')\\n    dataframes = [\\n        {\\n            \"name\": var,\\n            \"type\": type(eval(var)).__name__,\\n            \"hash\": dataframe_hash(var),\\n            \"cols\": dataframe_columns(var),\\n            \"dtypesStr\": dtypes_str(var),\\n        }\\n        for var in values if is_data_frame(var)\\n    ]\\n    result = {\"dataframes\": dataframes, \"user\": user}\\n    return json.dumps(result, ensure_ascii=False)\\n\\n\\nget_dataframes()', 'greet = say_hello', 'import json\\nimport getpass\\nimport hashlib\\n\\ndef import_pandas_safely():\\n    try:\\n        return __import__(\\'pandas\\')\\n    except ImportError:\\n        return False\\n\\n\\n__pandas = import_pandas_safely()\\n\\n\\ndef is_data_frame(v: str):\\n    obj = eval(v)\\n    if  isinstance(obj, __pandas.core.frame.DataFrame) or isinstance(obj, __pandas.core.series.Series):\\n        return True\\n\\n\\ndef dataframe_columns(var):\\n    df = eval(var)\\n    if isinstance(df, __pandas.core.series.Series):\\n        return [[df.name, str(df.dtype)]]\\n    return list(map(lambda col: [col, str(df[col].dtype)], df.columns))\\n\\n\\ndef dtypes_str(frame):\\n    return str(eval(frame).dtypes)\\n\\ndef dataframe_hash(var):\\n    # Return a hash including the column names and number of rows\\n    df = eval(var)\\n    if isinstance(df, __pandas.core.series.Series):\\n        return hashlib.sha256(f\"{var}-{df.name},{len(df)}\".encode(\\'utf-8\\')).hexdigest()\\n    return hashlib.sha256(f\"{var}-{\\',\\'.join(df.columns)},{len(df)}\".encode(\\'utf-8\\')).hexdigest()\\n\\ndef get_dataframes():\\n    if __pandas is None:\\n        return []\\n    user = getpass.getuser()\\n    values = get_ipython().run_line_magic(\\'who_ls\\', \\'\\')\\n    dataframes = [\\n        {\\n            \"name\": var,\\n            \"type\": type(eval(var)).__name__,\\n            \"hash\": dataframe_hash(var),\\n            \"cols\": dataframe_columns(var),\\n            \"dtypesStr\": dtypes_str(var),\\n        }\\n        for var in values if is_data_frame(var)\\n    ]\\n    result = {\"dataframes\": dataframes, \"user\": user}\\n    return json.dumps(result, ensure_ascii=False)\\n\\n\\nget_dataframes()', 'say_hello()', 'import json\\nimport getpass\\nimport hashlib\\n\\ndef import_pandas_safely():\\n    try:\\n        return __import__(\\'pandas\\')\\n    except ImportError:\\n        return False\\n\\n\\n__pandas = import_pandas_safely()\\n\\n\\ndef is_data_frame(v: str):\\n    obj = eval(v)\\n    if  isinstance(obj, __pandas.core.frame.DataFrame) or isinstance(obj, __pandas.core.series.Series):\\n        return True\\n\\n\\ndef dataframe_columns(var):\\n    df = eval(var)\\n    if isinstance(df, __pandas.core.series.Series):\\n        return [[df.name, str(df.dtype)]]\\n    return list(map(lambda col: [col, str(df[col].dtype)], df.columns))\\n\\n\\ndef dtypes_str(frame):\\n    return str(eval(frame).dtypes)\\n\\ndef dataframe_hash(var):\\n    # Return a hash including the column names and number of rows\\n    df = eval(var)\\n    if isinstance(df, __pandas.core.series.Series):\\n        return hashlib.sha256(f\"{var}-{df.name},{len(df)}\".encode(\\'utf-8\\')).hexdigest()\\n    return hashlib.sha256(f\"{var}-{\\',\\'.join(df.columns)},{len(df)}\".encode(\\'utf-8\\')).hexdigest()\\n\\ndef get_dataframes():\\n    if __pandas is None:\\n        return []\\n    user = getpass.getuser()\\n    values = get_ipython().run_line_magic(\\'who_ls\\', \\'\\')\\n    dataframes = [\\n        {\\n            \"name\": var,\\n            \"type\": type(eval(var)).__name__,\\n            \"hash\": dataframe_hash(var),\\n            \"cols\": dataframe_columns(var),\\n            \"dtypesStr\": dtypes_str(var),\\n        }\\n        for var in values if is_data_frame(var)\\n    ]\\n    result = {\"dataframes\": dataframes, \"user\": user}\\n    return json.dumps(result, ensure_ascii=False)\\n\\n\\nget_dataframes()', 'say_hello # this is function object that can be assigned to variable', 'import json\\nimport getpass\\nimport hashlib\\n\\ndef import_pandas_safely():\\n    try:\\n        return __import__(\\'pandas\\')\\n    except ImportError:\\n        return False\\n\\n\\n__pandas = import_pandas_safely()\\n\\n\\ndef is_data_frame(v: str):\\n    obj = eval(v)\\n    if  isinstance(obj, __pandas.core.frame.DataFrame) or isinstance(obj, __pandas.core.series.Series):\\n        return True\\n\\n\\ndef dataframe_columns(var):\\n    df = eval(var)\\n    if isinstance(df, __pandas.core.series.Series):\\n        return [[df.name, str(df.dtype)]]\\n    return list(map(lambda col: [col, str(df[col].dtype)], df.columns))\\n\\n\\ndef dtypes_str(frame):\\n    return str(eval(frame).dtypes)\\n\\ndef dataframe_hash(var):\\n    # Return a hash including the column names and number of rows\\n    df = eval(var)\\n    if isinstance(df, __pandas.core.series.Series):\\n        return hashlib.sha256(f\"{var}-{df.name},{len(df)}\".encode(\\'utf-8\\')).hexdigest()\\n    return hashlib.sha256(f\"{var}-{\\',\\'.join(df.columns)},{len(df)}\".encode(\\'utf-8\\')).hexdigest()\\n\\ndef get_dataframes():\\n    if __pandas is None:\\n        return []\\n    user = getpass.getuser()\\n    values = get_ipython().run_line_magic(\\'who_ls\\', \\'\\')\\n    dataframes = [\\n        {\\n            \"name\": var,\\n            \"type\": type(eval(var)).__name__,\\n            \"hash\": dataframe_hash(var),\\n            \"cols\": dataframe_columns(var),\\n            \"dtypesStr\": dtypes_str(var),\\n        }\\n        for var in values if is_data_frame(var)\\n    ]\\n    result = {\"dataframes\": dataframes, \"user\": user}\\n    return json.dumps(result, ensure_ascii=False)\\n\\n\\nget_dataframes()', 'greet = say_hello', 'import json\\nimport getpass\\nimport hashlib\\n\\ndef import_pandas_safely():\\n    try:\\n        return __import__(\\'pandas\\')\\n    except ImportError:\\n        return False\\n\\n\\n__pandas = import_pandas_safely()\\n\\n\\ndef is_data_frame(v: str):\\n    obj = eval(v)\\n    if  isinstance(obj, __pandas.core.frame.DataFrame) or isinstance(obj, __pandas.core.series.Series):\\n        return True\\n\\n\\ndef dataframe_columns(var):\\n    df = eval(var)\\n    if isinstance(df, __pandas.core.series.Series):\\n        return [[df.name, str(df.dtype)]]\\n    return list(map(lambda col: [col, str(df[col].dtype)], df.columns))\\n\\n\\ndef dtypes_str(frame):\\n    return str(eval(frame).dtypes)\\n\\ndef dataframe_hash(var):\\n    # Return a hash including the column names and number of rows\\n    df = eval(var)\\n    if isinstance(df, __pandas.core.series.Series):\\n        return hashlib.sha256(f\"{var}-{df.name},{len(df)}\".encode(\\'utf-8\\')).hexdigest()\\n    return hashlib.sha256(f\"{var}-{\\',\\'.join(df.columns)},{len(df)}\".encode(\\'utf-8\\')).hexdigest()\\n\\ndef get_dataframes():\\n    if __pandas is None:\\n        return []\\n    user = getpass.getuser()\\n    values = get_ipython().run_line_magic(\\'who_ls\\', \\'\\')\\n    dataframes = [\\n        {\\n            \"name\": var,\\n            \"type\": type(eval(var)).__name__,\\n            \"hash\": dataframe_hash(var),\\n            \"cols\": dataframe_columns(var),\\n            \"dtypesStr\": dtypes_str(var),\\n        }\\n        for var in values if is_data_frame(var)\\n    ]\\n    result = {\"dataframes\": dataframes, \"user\": user}\\n    return json.dumps(result, ensure_ascii=False)\\n\\n\\nget_dataframes()', 'greet=say_hello', 'import json\\nimport getpass\\nimport hashlib\\n\\ndef import_pandas_safely():\\n    try:\\n        return __import__(\\'pandas\\')\\n    except ImportError:\\n        return False\\n\\n\\n__pandas = import_pandas_safely()\\n\\n\\ndef is_data_frame(v: str):\\n    obj = eval(v)\\n    if  isinstance(obj, __pandas.core.frame.DataFrame) or isinstance(obj, __pandas.core.series.Series):\\n        return True\\n\\n\\ndef dataframe_columns(var):\\n    df = eval(var)\\n    if isinstance(df, __pandas.core.series.Series):\\n        return [[df.name, str(df.dtype)]]\\n    return list(map(lambda col: [col, str(df[col].dtype)], df.columns))\\n\\n\\ndef dtypes_str(frame):\\n    return str(eval(frame).dtypes)\\n\\ndef dataframe_hash(var):\\n    # Return a hash including the column names and number of rows\\n    df = eval(var)\\n    if isinstance(df, __pandas.core.series.Series):\\n        return hashlib.sha256(f\"{var}-{df.name},{len(df)}\".encode(\\'utf-8\\')).hexdigest()\\n    return hashlib.sha256(f\"{var}-{\\',\\'.join(df.columns)},{len(df)}\".encode(\\'utf-8\\')).hexdigest()\\n\\ndef get_dataframes():\\n    if __pandas is None:\\n        return []\\n    user = getpass.getuser()\\n    values = get_ipython().run_line_magic(\\'who_ls\\', \\'\\')\\n    dataframes = [\\n        {\\n            \"name\": var,\\n            \"type\": type(eval(var)).__name__,\\n            \"hash\": dataframe_hash(var),\\n            \"cols\": dataframe_columns(var),\\n            \"dtypesStr\": dtypes_str(var),\\n        }\\n        for var in values if is_data_frame(var)\\n    ]\\n    result = {\"dataframes\": dataframes, \"user\": user}\\n    return json.dumps(result, ensure_ascii=False)\\n\\n\\nget_dataframes()', 'greet()', 'import json\\nimport getpass\\nimport hashlib\\n\\ndef import_pandas_safely():\\n    try:\\n        return __import__(\\'pandas\\')\\n    except ImportError:\\n        return False\\n\\n\\n__pandas = import_pandas_safely()\\n\\n\\ndef is_data_frame(v: str):\\n    obj = eval(v)\\n    if  isinstance(obj, __pandas.core.frame.DataFrame) or isinstance(obj, __pandas.core.series.Series):\\n        return True\\n\\n\\ndef dataframe_columns(var):\\n    df = eval(var)\\n    if isinstance(df, __pandas.core.series.Series):\\n        return [[df.name, str(df.dtype)]]\\n    return list(map(lambda col: [col, str(df[col].dtype)], df.columns))\\n\\n\\ndef dtypes_str(frame):\\n    return str(eval(frame).dtypes)\\n\\ndef dataframe_hash(var):\\n    # Return a hash including the column names and number of rows\\n    df = eval(var)\\n    if isinstance(df, __pandas.core.series.Series):\\n        return hashlib.sha256(f\"{var}-{df.name},{len(df)}\".encode(\\'utf-8\\')).hexdigest()\\n    return hashlib.sha256(f\"{var}-{\\',\\'.join(df.columns)},{len(df)}\".encode(\\'utf-8\\')).hexdigest()\\n\\ndef get_dataframes():\\n    if __pandas is None:\\n        return []\\n    user = getpass.getuser()\\n    values = get_ipython().run_line_magic(\\'who_ls\\', \\'\\')\\n    dataframes = [\\n        {\\n            \"name\": var,\\n            \"type\": type(eval(var)).__name__,\\n            \"hash\": dataframe_hash(var),\\n            \"cols\": dataframe_columns(var),\\n            \"dtypesStr\": dtypes_str(var),\\n        }\\n        for var in values if is_data_frame(var)\\n    ]\\n    result = {\"dataframes\": dataframes, \"user\": user}\\n    return json.dumps(result, ensure_ascii=False)\\n\\n\\nget_dataframes()', '#so greet variable is assigned with say_hello function object', 'import json\\nimport getpass\\nimport hashlib\\n\\ndef import_pandas_safely():\\n    try:\\n        return __import__(\\'pandas\\')\\n    except ImportError:\\n        return False\\n\\n\\n__pandas = import_pandas_safely()\\n\\n\\ndef is_data_frame(v: str):\\n    obj = eval(v)\\n    if  isinstance(obj, __pandas.core.frame.DataFrame) or isinstance(obj, __pandas.core.series.Series):\\n        return True\\n\\n\\ndef dataframe_columns(var):\\n    df = eval(var)\\n    if isinstance(df, __pandas.core.series.Series):\\n        return [[df.name, str(df.dtype)]]\\n    return list(map(lambda col: [col, str(df[col].dtype)], df.columns))\\n\\n\\ndef dtypes_str(frame):\\n    return str(eval(frame).dtypes)\\n\\ndef dataframe_hash(var):\\n    # Return a hash including the column names and number of rows\\n    df = eval(var)\\n    if isinstance(df, __pandas.core.series.Series):\\n        return hashlib.sha256(f\"{var}-{df.name},{len(df)}\".encode(\\'utf-8\\')).hexdigest()\\n    return hashlib.sha256(f\"{var}-{\\',\\'.join(df.columns)},{len(df)}\".encode(\\'utf-8\\')).hexdigest()\\n\\ndef get_dataframes():\\n    if __pandas is None:\\n        return []\\n    user = getpass.getuser()\\n    values = get_ipython().run_line_magic(\\'who_ls\\', \\'\\')\\n    dataframes = [\\n        {\\n            \"name\": var,\\n            \"type\": type(eval(var)).__name__,\\n            \"hash\": dataframe_hash(var),\\n            \"cols\": dataframe_columns(var),\\n            \"dtypesStr\": dtypes_str(var),\\n        }\\n        for var in values if is_data_frame(var)\\n    ]\\n    result = {\"dataframes\": dataframes, \"user\": user}\\n    return json.dumps(result, ensure_ascii=False)\\n\\n\\nget_dataframes()', '#now what if i delete say_hello object\\ndel say_hello', 'import json\\nimport getpass\\nimport hashlib\\n\\ndef import_pandas_safely():\\n    try:\\n        return __import__(\\'pandas\\')\\n    except ImportError:\\n        return False\\n\\n\\n__pandas = import_pandas_safely()\\n\\n\\ndef is_data_frame(v: str):\\n    obj = eval(v)\\n    if  isinstance(obj, __pandas.core.frame.DataFrame) or isinstance(obj, __pandas.core.series.Series):\\n        return True\\n\\n\\ndef dataframe_columns(var):\\n    df = eval(var)\\n    if isinstance(df, __pandas.core.series.Series):\\n        return [[df.name, str(df.dtype)]]\\n    return list(map(lambda col: [col, str(df[col].dtype)], df.columns))\\n\\n\\ndef dtypes_str(frame):\\n    return str(eval(frame).dtypes)\\n\\ndef dataframe_hash(var):\\n    # Return a hash including the column names and number of rows\\n    df = eval(var)\\n    if isinstance(df, __pandas.core.series.Series):\\n        return hashlib.sha256(f\"{var}-{df.name},{len(df)}\".encode(\\'utf-8\\')).hexdigest()\\n    return hashlib.sha256(f\"{var}-{\\',\\'.join(df.columns)},{len(df)}\".encode(\\'utf-8\\')).hexdigest()\\n\\ndef get_dataframes():\\n    if __pandas is None:\\n        return []\\n    user = getpass.getuser()\\n    values = get_ipython().run_line_magic(\\'who_ls\\', \\'\\')\\n    dataframes = [\\n        {\\n            \"name\": var,\\n            \"type\": type(eval(var)).__name__,\\n            \"hash\": dataframe_hash(var),\\n            \"cols\": dataframe_columns(var),\\n            \"dtypesStr\": dtypes_str(var),\\n        }\\n        for var in values if is_data_frame(var)\\n    ]\\n    result = {\"dataframes\": dataframes, \"user\": user}\\n    return json.dumps(result, ensure_ascii=False)\\n\\n\\nget_dataframes()', 'say_hello', 'import json\\nimport getpass\\nimport hashlib\\n\\ndef import_pandas_safely():\\n    try:\\n        return __import__(\\'pandas\\')\\n    except ImportError:\\n        return False\\n\\n\\n__pandas = import_pandas_safely()\\n\\n\\ndef is_data_frame(v: str):\\n    obj = eval(v)\\n    if  isinstance(obj, __pandas.core.frame.DataFrame) or isinstance(obj, __pandas.core.series.Series):\\n        return True\\n\\n\\ndef dataframe_columns(var):\\n    df = eval(var)\\n    if isinstance(df, __pandas.core.series.Series):\\n        return [[df.name, str(df.dtype)]]\\n    return list(map(lambda col: [col, str(df[col].dtype)], df.columns))\\n\\n\\ndef dtypes_str(frame):\\n    return str(eval(frame).dtypes)\\n\\ndef dataframe_hash(var):\\n    # Return a hash including the column names and number of rows\\n    df = eval(var)\\n    if isinstance(df, __pandas.core.series.Series):\\n        return hashlib.sha256(f\"{var}-{df.name},{len(df)}\".encode(\\'utf-8\\')).hexdigest()\\n    return hashlib.sha256(f\"{var}-{\\',\\'.join(df.columns)},{len(df)}\".encode(\\'utf-8\\')).hexdigest()\\n\\ndef get_dataframes():\\n    if __pandas is None:\\n        return []\\n    user = getpass.getuser()\\n    values = get_ipython().run_line_magic(\\'who_ls\\', \\'\\')\\n    dataframes = [\\n        {\\n            \"name\": var,\\n            \"type\": type(eval(var)).__name__,\\n            \"hash\": dataframe_hash(var),\\n            \"cols\": dataframe_columns(var),\\n            \"dtypesStr\": dtypes_str(var),\\n        }\\n        for var in values if is_data_frame(var)\\n    ]\\n    result = {\"dataframes\": dataframes, \"user\": user}\\n    return json.dumps(result, ensure_ascii=False)\\n\\n\\nget_dataframes()', '#so this function object is deleted now', 'import json\\nimport getpass\\nimport hashlib\\n\\ndef import_pandas_safely():\\n    try:\\n        return __import__(\\'pandas\\')\\n    except ImportError:\\n        return False\\n\\n\\n__pandas = import_pandas_safely()\\n\\n\\ndef is_data_frame(v: str):\\n    obj = eval(v)\\n    if  isinstance(obj, __pandas.core.frame.DataFrame) or isinstance(obj, __pandas.core.series.Series):\\n        return True\\n\\n\\ndef dataframe_columns(var):\\n    df = eval(var)\\n    if isinstance(df, __pandas.core.series.Series):\\n        return [[df.name, str(df.dtype)]]\\n    return list(map(lambda col: [col, str(df[col].dtype)], df.columns))\\n\\n\\ndef dtypes_str(frame):\\n    return str(eval(frame).dtypes)\\n\\ndef dataframe_hash(var):\\n    # Return a hash including the column names and number of rows\\n    df = eval(var)\\n    if isinstance(df, __pandas.core.series.Series):\\n        return hashlib.sha256(f\"{var}-{df.name},{len(df)}\".encode(\\'utf-8\\')).hexdigest()\\n    return hashlib.sha256(f\"{var}-{\\',\\'.join(df.columns)},{len(df)}\".encode(\\'utf-8\\')).hexdigest()\\n\\ndef get_dataframes():\\n    if __pandas is None:\\n        return []\\n    user = getpass.getuser()\\n    values = get_ipython().run_line_magic(\\'who_ls\\', \\'\\')\\n    dataframes = [\\n        {\\n            \"name\": var,\\n            \"type\": type(eval(var)).__name__,\\n            \"hash\": dataframe_hash(var),\\n            \"cols\": dataframe_columns(var),\\n            \"dtypesStr\": dtypes_str(var),\\n        }\\n        for var in values if is_data_frame(var)\\n    ]\\n    result = {\"dataframes\": dataframes, \"user\": user}\\n    return json.dumps(result, ensure_ascii=False)\\n\\n\\nget_dataframes()', 'greet()', 'import json\\nimport getpass\\nimport hashlib\\n\\ndef import_pandas_safely():\\n    try:\\n        return __import__(\\'pandas\\')\\n    except ImportError:\\n        return False\\n\\n\\n__pandas = import_pandas_safely()\\n\\n\\ndef is_data_frame(v: str):\\n    obj = eval(v)\\n    if  isinstance(obj, __pandas.core.frame.DataFrame) or isinstance(obj, __pandas.core.series.Series):\\n        return True\\n\\n\\ndef dataframe_columns(var):\\n    df = eval(var)\\n    if isinstance(df, __pandas.core.series.Series):\\n        return [[df.name, str(df.dtype)]]\\n    return list(map(lambda col: [col, str(df[col].dtype)], df.columns))\\n\\n\\ndef dtypes_str(frame):\\n    return str(eval(frame).dtypes)\\n\\ndef dataframe_hash(var):\\n    # Return a hash including the column names and number of rows\\n    df = eval(var)\\n    if isinstance(df, __pandas.core.series.Series):\\n        return hashlib.sha256(f\"{var}-{df.name},{len(df)}\".encode(\\'utf-8\\')).hexdigest()\\n    return hashlib.sha256(f\"{var}-{\\',\\'.join(df.columns)},{len(df)}\".encode(\\'utf-8\\')).hexdigest()\\n\\ndef get_dataframes():\\n    if __pandas is None:\\n        return []\\n    user = getpass.getuser()\\n    values = get_ipython().run_line_magic(\\'who_ls\\', \\'\\')\\n    dataframes = [\\n        {\\n            \"name\": var,\\n            \"type\": type(eval(var)).__name__,\\n            \"hash\": dataframe_hash(var),\\n            \"cols\": dataframe_columns(var),\\n            \"dtypesStr\": dtypes_str(var),\\n        }\\n        for var in values if is_data_frame(var)\\n    ]\\n    result = {\"dataframes\": dataframes, \"user\": user}\\n    return json.dumps(result, ensure_ascii=False)\\n\\n\\nget_dataframes()', '#but greet which has say_hello object reference is actually pointing to function address say_hello and not variable', 'import json\\nimport getpass\\nimport hashlib\\n\\ndef import_pandas_safely():\\n    try:\\n        return __import__(\\'pandas\\')\\n    except ImportError:\\n        return False\\n\\n\\n__pandas = import_pandas_safely()\\n\\n\\ndef is_data_frame(v: str):\\n    obj = eval(v)\\n    if  isinstance(obj, __pandas.core.frame.DataFrame) or isinstance(obj, __pandas.core.series.Series):\\n        return True\\n\\n\\ndef dataframe_columns(var):\\n    df = eval(var)\\n    if isinstance(df, __pandas.core.series.Series):\\n        return [[df.name, str(df.dtype)]]\\n    return list(map(lambda col: [col, str(df[col].dtype)], df.columns))\\n\\n\\ndef dtypes_str(frame):\\n    return str(eval(frame).dtypes)\\n\\ndef dataframe_hash(var):\\n    # Return a hash including the column names and number of rows\\n    df = eval(var)\\n    if isinstance(df, __pandas.core.series.Series):\\n        return hashlib.sha256(f\"{var}-{df.name},{len(df)}\".encode(\\'utf-8\\')).hexdigest()\\n    return hashlib.sha256(f\"{var}-{\\',\\'.join(df.columns)},{len(df)}\".encode(\\'utf-8\\')).hexdigest()\\n\\ndef get_dataframes():\\n    if __pandas is None:\\n        return []\\n    user = getpass.getuser()\\n    values = get_ipython().run_line_magic(\\'who_ls\\', \\'\\')\\n    dataframes = [\\n        {\\n            \"name\": var,\\n            \"type\": type(eval(var)).__name__,\\n            \"hash\": dataframe_hash(var),\\n            \"cols\": dataframe_columns(var),\\n            \"dtypesStr\": dtypes_str(var),\\n        }\\n        for var in values if is_data_frame(var)\\n    ]\\n    result = {\"dataframes\": dataframes, \"user\": user}\\n    return json.dumps(result, ensure_ascii=False)\\n\\n\\nget_dataframes()', '#but greet which has say_hello object reference is actually pointing to function address say_hello and not variable\\n#so it gets executed\\n#function are objects that can be passed into other objects\\n#passing of function within another function or calling functions within another function', 'import json\\nimport getpass\\nimport hashlib\\n\\ndef import_pandas_safely():\\n    try:\\n        return __import__(\\'pandas\\')\\n    except ImportError:\\n        return False\\n\\n\\n__pandas = import_pandas_safely()\\n\\n\\ndef is_data_frame(v: str):\\n    obj = eval(v)\\n    if  isinstance(obj, __pandas.core.frame.DataFrame) or isinstance(obj, __pandas.core.series.Series):\\n        return True\\n\\n\\ndef dataframe_columns(var):\\n    df = eval(var)\\n    if isinstance(df, __pandas.core.series.Series):\\n        return [[df.name, str(df.dtype)]]\\n    return list(map(lambda col: [col, str(df[col].dtype)], df.columns))\\n\\n\\ndef dtypes_str(frame):\\n    return str(eval(frame).dtypes)\\n\\ndef dataframe_hash(var):\\n    # Return a hash including the column names and number of rows\\n    df = eval(var)\\n    if isinstance(df, __pandas.core.series.Series):\\n        return hashlib.sha256(f\"{var}-{df.name},{len(df)}\".encode(\\'utf-8\\')).hexdigest()\\n    return hashlib.sha256(f\"{var}-{\\',\\'.join(df.columns)},{len(df)}\".encode(\\'utf-8\\')).hexdigest()\\n\\ndef get_dataframes():\\n    if __pandas is None:\\n        return []\\n    user = getpass.getuser()\\n    values = get_ipython().run_line_magic(\\'who_ls\\', \\'\\')\\n    dataframes = [\\n        {\\n            \"name\": var,\\n            \"type\": type(eval(var)).__name__,\\n            \"hash\": dataframe_hash(var),\\n            \"cols\": dataframe_columns(var),\\n            \"dtypesStr\": dtypes_str(var),\\n        }\\n        for var in values if is_data_frame(var)\\n    ]\\n    result = {\"dataframes\": dataframes, \"user\": user}\\n    return json.dumps(result, ensure_ascii=False)\\n\\n\\nget_dataframes()', 'greet()', 'import json\\nimport getpass\\nimport hashlib\\n\\ndef import_pandas_safely():\\n    try:\\n        return __import__(\\'pandas\\')\\n    except ImportError:\\n        return False\\n\\n\\n__pandas = import_pandas_safely()\\n\\n\\ndef is_data_frame(v: str):\\n    obj = eval(v)\\n    if  isinstance(obj, __pandas.core.frame.DataFrame) or isinstance(obj, __pandas.core.series.Series):\\n        return True\\n\\n\\ndef dataframe_columns(var):\\n    df = eval(var)\\n    if isinstance(df, __pandas.core.series.Series):\\n        return [[df.name, str(df.dtype)]]\\n    return list(map(lambda col: [col, str(df[col].dtype)], df.columns))\\n\\n\\ndef dtypes_str(frame):\\n    return str(eval(frame).dtypes)\\n\\ndef dataframe_hash(var):\\n    # Return a hash including the column names and number of rows\\n    df = eval(var)\\n    if isinstance(df, __pandas.core.series.Series):\\n        return hashlib.sha256(f\"{var}-{df.name},{len(df)}\".encode(\\'utf-8\\')).hexdigest()\\n    return hashlib.sha256(f\"{var}-{\\',\\'.join(df.columns)},{len(df)}\".encode(\\'utf-8\\')).hexdigest()\\n\\ndef get_dataframes():\\n    if __pandas is None:\\n        return []\\n    user = getpass.getuser()\\n    values = get_ipython().run_line_magic(\\'who_ls\\', \\'\\')\\n    dataframes = [\\n        {\\n            \"name\": var,\\n            \"type\": type(eval(var)).__name__,\\n            \"hash\": dataframe_hash(var),\\n            \"cols\": dataframe_columns(var),\\n            \"dtypesStr\": dtypes_str(var),\\n        }\\n        for var in values if is_data_frame(var)\\n    ]\\n    result = {\"dataframes\": dataframes, \"user\": user}\\n    return json.dumps(result, ensure_ascii=False)\\n\\n\\nget_dataframes()', 'def say_hello(name=\"Priyanka\"):\\n    print(\"say_hello() function is being called and executed!.\")\\n\\n    def greet():\\n        return \"\\\\t greet() funtion inside say_hello() is called!.\"\\n\\n    def welcome():\\n        return \"\\\\t welcome() function inside say_hello is called!.\"\\n\\n    print(greet())\\n    print(welcome())\\n    print(\"say_hello() function execution is now complete!\")\\n\\nsay_hello()', 'import json\\nimport getpass\\nimport hashlib\\n\\ndef import_pandas_safely():\\n    try:\\n        return __import__(\\'pandas\\')\\n    except ImportError:\\n        return False\\n\\n\\n__pandas = import_pandas_safely()\\n\\n\\ndef is_data_frame(v: str):\\n    obj = eval(v)\\n    if  isinstance(obj, __pandas.core.frame.DataFrame) or isinstance(obj, __pandas.core.series.Series):\\n        return True\\n\\n\\ndef dataframe_columns(var):\\n    df = eval(var)\\n    if isinstance(df, __pandas.core.series.Series):\\n        return [[df.name, str(df.dtype)]]\\n    return list(map(lambda col: [col, str(df[col].dtype)], df.columns))\\n\\n\\ndef dtypes_str(frame):\\n    return str(eval(frame).dtypes)\\n\\ndef dataframe_hash(var):\\n    # Return a hash including the column names and number of rows\\n    df = eval(var)\\n    if isinstance(df, __pandas.core.series.Series):\\n        return hashlib.sha256(f\"{var}-{df.name},{len(df)}\".encode(\\'utf-8\\')).hexdigest()\\n    return hashlib.sha256(f\"{var}-{\\',\\'.join(df.columns)},{len(df)}\".encode(\\'utf-8\\')).hexdigest()\\n\\ndef get_dataframes():\\n    if __pandas is None:\\n        return []\\n    user = getpass.getuser()\\n    values = get_ipython().run_line_magic(\\'who_ls\\', \\'\\')\\n    dataframes = [\\n        {\\n            \"name\": var,\\n            \"type\": type(eval(var)).__name__,\\n            \"hash\": dataframe_hash(var),\\n            \"cols\": dataframe_columns(var),\\n            \"dtypesStr\": dtypes_str(var),\\n        }\\n        for var in values if is_data_frame(var)\\n    ]\\n    result = {\"dataframes\": dataframes, \"user\": user}\\n    return json.dumps(result, ensure_ascii=False)\\n\\n\\nget_dataframes()', 'greet()', 'import json\\nimport getpass\\nimport hashlib\\n\\ndef import_pandas_safely():\\n    try:\\n        return __import__(\\'pandas\\')\\n    except ImportError:\\n        return False\\n\\n\\n__pandas = import_pandas_safely()\\n\\n\\ndef is_data_frame(v: str):\\n    obj = eval(v)\\n    if  isinstance(obj, __pandas.core.frame.DataFrame) or isinstance(obj, __pandas.core.series.Series):\\n        return True\\n\\n\\ndef dataframe_columns(var):\\n    df = eval(var)\\n    if isinstance(df, __pandas.core.series.Series):\\n        return [[df.name, str(df.dtype)]]\\n    return list(map(lambda col: [col, str(df[col].dtype)], df.columns))\\n\\n\\ndef dtypes_str(frame):\\n    return str(eval(frame).dtypes)\\n\\ndef dataframe_hash(var):\\n    # Return a hash including the column names and number of rows\\n    df = eval(var)\\n    if isinstance(df, __pandas.core.series.Series):\\n        return hashlib.sha256(f\"{var}-{df.name},{len(df)}\".encode(\\'utf-8\\')).hexdigest()\\n    return hashlib.sha256(f\"{var}-{\\',\\'.join(df.columns)},{len(df)}\".encode(\\'utf-8\\')).hexdigest()\\n\\ndef get_dataframes():\\n    if __pandas is None:\\n        return []\\n    user = getpass.getuser()\\n    values = get_ipython().run_line_magic(\\'who_ls\\', \\'\\')\\n    dataframes = [\\n        {\\n            \"name\": var,\\n            \"type\": type(eval(var)).__name__,\\n            \"hash\": dataframe_hash(var),\\n            \"cols\": dataframe_columns(var),\\n            \"dtypesStr\": dtypes_str(var),\\n        }\\n        for var in values if is_data_frame(var)\\n    ]\\n    result = {\"dataframes\": dataframes, \"user\": user}\\n    return json.dumps(result, ensure_ascii=False)\\n\\n\\nget_dataframes()', 'welcome()', 'import json\\nimport getpass\\nimport hashlib\\n\\ndef import_pandas_safely():\\n    try:\\n        return __import__(\\'pandas\\')\\n    except ImportError:\\n        return False\\n\\n\\n__pandas = import_pandas_safely()\\n\\n\\ndef is_data_frame(v: str):\\n    obj = eval(v)\\n    if  isinstance(obj, __pandas.core.frame.DataFrame) or isinstance(obj, __pandas.core.series.Series):\\n        return True\\n\\n\\ndef dataframe_columns(var):\\n    df = eval(var)\\n    if isinstance(df, __pandas.core.series.Series):\\n        return [[df.name, str(df.dtype)]]\\n    return list(map(lambda col: [col, str(df[col].dtype)], df.columns))\\n\\n\\ndef dtypes_str(frame):\\n    return str(eval(frame).dtypes)\\n\\ndef dataframe_hash(var):\\n    # Return a hash including the column names and number of rows\\n    df = eval(var)\\n    if isinstance(df, __pandas.core.series.Series):\\n        return hashlib.sha256(f\"{var}-{df.name},{len(df)}\".encode(\\'utf-8\\')).hexdigest()\\n    return hashlib.sha256(f\"{var}-{\\',\\'.join(df.columns)},{len(df)}\".encode(\\'utf-8\\')).hexdigest()\\n\\ndef get_dataframes():\\n    if __pandas is None:\\n        return []\\n    user = getpass.getuser()\\n    values = get_ipython().run_line_magic(\\'who_ls\\', \\'\\')\\n    dataframes = [\\n        {\\n            \"name\": var,\\n            \"type\": type(eval(var)).__name__,\\n            \"hash\": dataframe_hash(var),\\n            \"cols\": dataframe_columns(var),\\n            \"dtypesStr\": dtypes_str(var),\\n        }\\n        for var in values if is_data_frame(var)\\n    ]\\n    result = {\"dataframes\": dataframes, \"user\": user}\\n    return json.dumps(result, ensure_ascii=False)\\n\\n\\nget_dataframes()', '#welcome function scope is limited to within say_hello function and not outside same for greet() too', 'import json\\nimport getpass\\nimport hashlib\\n\\ndef import_pandas_safely():\\n    try:\\n        return __import__(\\'pandas\\')\\n    except ImportError:\\n        return False\\n\\n\\n__pandas = import_pandas_safely()\\n\\n\\ndef is_data_frame(v: str):\\n    obj = eval(v)\\n    if  isinstance(obj, __pandas.core.frame.DataFrame) or isinstance(obj, __pandas.core.series.Series):\\n        return True\\n\\n\\ndef dataframe_columns(var):\\n    df = eval(var)\\n    if isinstance(df, __pandas.core.series.Series):\\n        return [[df.name, str(df.dtype)]]\\n    return list(map(lambda col: [col, str(df[col].dtype)], df.columns))\\n\\n\\ndef dtypes_str(frame):\\n    return str(eval(frame).dtypes)\\n\\ndef dataframe_hash(var):\\n    # Return a hash including the column names and number of rows\\n    df = eval(var)\\n    if isinstance(df, __pandas.core.series.Series):\\n        return hashlib.sha256(f\"{var}-{df.name},{len(df)}\".encode(\\'utf-8\\')).hexdigest()\\n    return hashlib.sha256(f\"{var}-{\\',\\'.join(df.columns)},{len(df)}\".encode(\\'utf-8\\')).hexdigest()\\n\\ndef get_dataframes():\\n    if __pandas is None:\\n        return []\\n    user = getpass.getuser()\\n    values = get_ipython().run_line_magic(\\'who_ls\\', \\'\\')\\n    dataframes = [\\n        {\\n            \"name\": var,\\n            \"type\": type(eval(var)).__name__,\\n            \"hash\": dataframe_hash(var),\\n            \"cols\": dataframe_columns(var),\\n            \"dtypesStr\": dtypes_str(var),\\n        }\\n        for var in values if is_data_frame(var)\\n    ]\\n    result = {\"dataframes\": dataframes, \"user\": user}\\n    return json.dumps(result, ensure_ascii=False)\\n\\n\\nget_dataframes()', 'print(local())', 'import json\\nimport getpass\\nimport hashlib\\n\\ndef import_pandas_safely():\\n    try:\\n        return __import__(\\'pandas\\')\\n    except ImportError:\\n        return False\\n\\n\\n__pandas = import_pandas_safely()\\n\\n\\ndef is_data_frame(v: str):\\n    obj = eval(v)\\n    if  isinstance(obj, __pandas.core.frame.DataFrame) or isinstance(obj, __pandas.core.series.Series):\\n        return True\\n\\n\\ndef dataframe_columns(var):\\n    df = eval(var)\\n    if isinstance(df, __pandas.core.series.Series):\\n        return [[df.name, str(df.dtype)]]\\n    return list(map(lambda col: [col, str(df[col].dtype)], df.columns))\\n\\n\\ndef dtypes_str(frame):\\n    return str(eval(frame).dtypes)\\n\\ndef dataframe_hash(var):\\n    # Return a hash including the column names and number of rows\\n    df = eval(var)\\n    if isinstance(df, __pandas.core.series.Series):\\n        return hashlib.sha256(f\"{var}-{df.name},{len(df)}\".encode(\\'utf-8\\')).hexdigest()\\n    return hashlib.sha256(f\"{var}-{\\',\\'.join(df.columns)},{len(df)}\".encode(\\'utf-8\\')).hexdigest()\\n\\ndef get_dataframes():\\n    if __pandas is None:\\n        return []\\n    user = getpass.getuser()\\n    values = get_ipython().run_line_magic(\\'who_ls\\', \\'\\')\\n    dataframes = [\\n        {\\n            \"name\": var,\\n            \"type\": type(eval(var)).__name__,\\n            \"hash\": dataframe_hash(var),\\n            \"cols\": dataframe_columns(var),\\n            \"dtypesStr\": dtypes_str(var),\\n        }\\n        for var in values if is_data_frame(var)\\n    ]\\n    result = {\"dataframes\": dataframes, \"user\": user}\\n    return json.dumps(result, ensure_ascii=False)\\n\\n\\nget_dataframes()', 'print(locals())', 'import json\\nimport getpass\\nimport hashlib\\n\\ndef import_pandas_safely():\\n    try:\\n        return __import__(\\'pandas\\')\\n    except ImportError:\\n        return False\\n\\n\\n__pandas = import_pandas_safely()\\n\\n\\ndef is_data_frame(v: str):\\n    obj = eval(v)\\n    if  isinstance(obj, __pandas.core.frame.DataFrame) or isinstance(obj, __pandas.core.series.Series):\\n        return True\\n\\n\\ndef dataframe_columns(var):\\n    df = eval(var)\\n    if isinstance(df, __pandas.core.series.Series):\\n        return [[df.name, str(df.dtype)]]\\n    return list(map(lambda col: [col, str(df[col].dtype)], df.columns))\\n\\n\\ndef dtypes_str(frame):\\n    return str(eval(frame).dtypes)\\n\\ndef dataframe_hash(var):\\n    # Return a hash including the column names and number of rows\\n    df = eval(var)\\n    if isinstance(df, __pandas.core.series.Series):\\n        return hashlib.sha256(f\"{var}-{df.name},{len(df)}\".encode(\\'utf-8\\')).hexdigest()\\n    return hashlib.sha256(f\"{var}-{\\',\\'.join(df.columns)},{len(df)}\".encode(\\'utf-8\\')).hexdigest()\\n\\ndef get_dataframes():\\n    if __pandas is None:\\n        return []\\n    user = getpass.getuser()\\n    values = get_ipython().run_line_magic(\\'who_ls\\', \\'\\')\\n    dataframes = [\\n        {\\n            \"name\": var,\\n            \"type\": type(eval(var)).__name__,\\n            \"hash\": dataframe_hash(var),\\n            \"cols\": dataframe_columns(var),\\n            \"dtypesStr\": dtypes_str(var),\\n        }\\n        for var in values if is_data_frame(var)\\n    ]\\n    result = {\"dataframes\": dataframes, \"user\": user}\\n    return json.dumps(result, ensure_ascii=False)\\n\\n\\nget_dataframes()', 'print(globals())'], 'Out': {2: '{\"dataframes\": [], \"user\": \"priprabh\"}', 4: '{\"dataframes\": [], \"user\": \"priprabh\"}', 6: '{\"dataframes\": [], \"user\": \"priprabh\"}', 7: <function say_hello at 0x131672fc0>, 8: '{\"dataframes\": [], \"user\": \"priprabh\"}', 10: '{\"dataframes\": [], \"user\": \"priprabh\"}', 12: '{\"dataframes\": [], \"user\": \"priprabh\"}', 13: <function say_hello at 0x131672fc0>, 14: '{\"dataframes\": [], \"user\": \"priprabh\"}', 16: '{\"dataframes\": [], \"user\": \"priprabh\"}', 18: '{\"dataframes\": [], \"user\": \"priprabh\"}', 20: '{\"dataframes\": [], \"user\": \"priprabh\"}', 22: '{\"dataframes\": [], \"user\": \"priprabh\"}', 24: '{\"dataframes\": [], \"user\": \"priprabh\"}', 26: '{\"dataframes\": [], \"user\": \"priprabh\"}', 28: '{\"dataframes\": [], \"user\": \"priprabh\"}', 30: '{\"dataframes\": [], \"user\": \"priprabh\"}', 32: '{\"dataframes\": [], \"user\": \"priprabh\"}', 34: '{\"dataframes\": [], \"user\": \"priprabh\"}', 36: '{\"dataframes\": [], \"user\": \"priprabh\"}', 38: '{\"dataframes\": [], \"user\": \"priprabh\"}', 40: '{\"dataframes\": [], \"user\": \"priprabh\"}', 42: '{\"dataframes\": [], \"user\": \"priprabh\"}', 44: '{\"dataframes\": [], \"user\": \"priprabh\"}', 46: '{\"dataframes\": [], \"user\": \"priprabh\"}', 48: '{\"dataframes\": [], \"user\": \"priprabh\"}'}, 'get_ipython': <bound method InteractiveShell.get_ipython of <ipykernel.zmqshell.ZMQInteractiveShell object at 0x110174980>>, 'exit': <IPython.core.autocall.ZMQExitAutocall object at 0x1101757c0>, 'quit': <IPython.core.autocall.ZMQExitAutocall object at 0x1101757c0>, 'open': <function open at 0x1069031a0>, '_': '{\"dataframes\": [], \"user\": \"priprabh\"}', '__': '{\"dataframes\": [], \"user\": \"priprabh\"}', '___': '{\"dataframes\": [], \"user\": \"priprabh\"}', '__session__': '/Users/priprabh/Downloads/Priyanka/Learnings & Training/Python/Udemy Python/Python-Coding-Exercises/Python-Coding-Exercises/10-Python-Decorators/Untitled.ipynb', '_i': '\\nimport json\\nimport getpass\\nimport hashlib\\n\\ndef import_pandas_safely():\\n    try:\\n        return __import__(\\'pandas\\')\\n    except ImportError:\\n        return False\\n\\n\\n__pandas = import_pandas_safely()\\n\\n\\ndef is_data_frame(v: str):\\n    obj = eval(v)\\n    if  isinstance(obj, __pandas.core.frame.DataFrame) or isinstance(obj, __pandas.core.series.Series):\\n        return True\\n\\n\\ndef dataframe_columns(var):\\n    df = eval(var)\\n    if isinstance(df, __pandas.core.series.Series):\\n        return [[df.name, str(df.dtype)]]\\n    return list(map(lambda col: [col, str(df[col].dtype)], df.columns))\\n\\n\\ndef dtypes_str(frame):\\n    return str(eval(frame).dtypes)\\n\\ndef dataframe_hash(var):\\n    # Return a hash including the column names and number of rows\\n    df = eval(var)\\n    if isinstance(df, __pandas.core.series.Series):\\n        return hashlib.sha256(f\"{var}-{df.name},{len(df)}\".encode(\\'utf-8\\')).hexdigest()\\n    return hashlib.sha256(f\"{var}-{\\',\\'.join(df.columns)},{len(df)}\".encode(\\'utf-8\\')).hexdigest()\\n\\ndef get_dataframes():\\n    if __pandas is None:\\n        return []\\n    user = getpass.getuser()\\n    values = %who_ls\\n    dataframes = [\\n        {\\n            \"name\": var,\\n            \"type\": type(eval(var)).__name__,\\n            \"hash\": dataframe_hash(var),\\n            \"cols\": dataframe_columns(var),\\n            \"dtypesStr\": dtypes_str(var),\\n        }\\n        for var in values if is_data_frame(var)\\n    ]\\n    result = {\"dataframes\": dataframes, \"user\": user}\\n    return json.dumps(result, ensure_ascii=False)\\n\\n\\nget_dataframes()', '_ii': 'print(locals())', '_iii': '\\nimport json\\nimport getpass\\nimport hashlib\\n\\ndef import_pandas_safely():\\n    try:\\n        return __import__(\\'pandas\\')\\n    except ImportError:\\n        return False\\n\\n\\n__pandas = import_pandas_safely()\\n\\n\\ndef is_data_frame(v: str):\\n    obj = eval(v)\\n    if  isinstance(obj, __pandas.core.frame.DataFrame) or isinstance(obj, __pandas.core.series.Series):\\n        return True\\n\\n\\ndef dataframe_columns(var):\\n    df = eval(var)\\n    if isinstance(df, __pandas.core.series.Series):\\n        return [[df.name, str(df.dtype)]]\\n    return list(map(lambda col: [col, str(df[col].dtype)], df.columns))\\n\\n\\ndef dtypes_str(frame):\\n    return str(eval(frame).dtypes)\\n\\ndef dataframe_hash(var):\\n    # Return a hash including the column names and number of rows\\n    df = eval(var)\\n    if isinstance(df, __pandas.core.series.Series):\\n        return hashlib.sha256(f\"{var}-{df.name},{len(df)}\".encode(\\'utf-8\\')).hexdigest()\\n    return hashlib.sha256(f\"{var}-{\\',\\'.join(df.columns)},{len(df)}\".encode(\\'utf-8\\')).hexdigest()\\n\\ndef get_dataframes():\\n    if __pandas is None:\\n        return []\\n    user = getpass.getuser()\\n    values = %who_ls\\n    dataframes = [\\n        {\\n            \"name\": var,\\n            \"type\": type(eval(var)).__name__,\\n            \"hash\": dataframe_hash(var),\\n            \"cols\": dataframe_columns(var),\\n            \"dtypesStr\": dtypes_str(var),\\n        }\\n        for var in values if is_data_frame(var)\\n    ]\\n    result = {\"dataframes\": dataframes, \"user\": user}\\n    return json.dumps(result, ensure_ascii=False)\\n\\n\\nget_dataframes()', '_i1': '#You can add or remove extra functionality from function with help of decorators and u need to add on top\\n#of function with @symbol\\n#@some_decorator\\n#def my_func():\\n#    pass', '_i2': '\\nimport json\\nimport getpass\\nimport hashlib\\n\\ndef import_pandas_safely():\\n    try:\\n        return __import__(\\'pandas\\')\\n    except ImportError:\\n        return False\\n\\n\\n__pandas = import_pandas_safely()\\n\\n\\ndef is_data_frame(v: str):\\n    obj = eval(v)\\n    if  isinstance(obj, __pandas.core.frame.DataFrame) or isinstance(obj, __pandas.core.series.Series):\\n        return True\\n\\n\\ndef dataframe_columns(var):\\n    df = eval(var)\\n    if isinstance(df, __pandas.core.series.Series):\\n        return [[df.name, str(df.dtype)]]\\n    return list(map(lambda col: [col, str(df[col].dtype)], df.columns))\\n\\n\\ndef dtypes_str(frame):\\n    return str(eval(frame).dtypes)\\n\\ndef dataframe_hash(var):\\n    # Return a hash including the column names and number of rows\\n    df = eval(var)\\n    if isinstance(df, __pandas.core.series.Series):\\n        return hashlib.sha256(f\"{var}-{df.name},{len(df)}\".encode(\\'utf-8\\')).hexdigest()\\n    return hashlib.sha256(f\"{var}-{\\',\\'.join(df.columns)},{len(df)}\".encode(\\'utf-8\\')).hexdigest()\\n\\ndef get_dataframes():\\n    if __pandas is None:\\n        return []\\n    user = getpass.getuser()\\n    values = %who_ls\\n    dataframes = [\\n        {\\n            \"name\": var,\\n            \"type\": type(eval(var)).__name__,\\n            \"hash\": dataframe_hash(var),\\n            \"cols\": dataframe_columns(var),\\n            \"dtypesStr\": dtypes_str(var),\\n        }\\n        for var in values if is_data_frame(var)\\n    ]\\n    result = {\"dataframes\": dataframes, \"user\": user}\\n    return json.dumps(result, ensure_ascii=False)\\n\\n\\nget_dataframes()', 'json': <module 'json' from '/opt/anaconda3/lib/python3.12/json/__init__.py'>, 'getpass': <module 'getpass' from '/opt/anaconda3/lib/python3.12/getpass.py'>, 'hashlib': <module 'hashlib' from '/opt/anaconda3/lib/python3.12/hashlib.py'>, 'import_pandas_safely': <function import_pandas_safely at 0x132ffc900>, '__pandas': <module 'pandas' from '/opt/anaconda3/lib/python3.12/site-packages/pandas/__init__.py'>, 'is_data_frame': <function is_data_frame at 0x131672a20>, 'dataframe_columns': <function dataframe_columns at 0x131672b60>, 'dtypes_str': <function dtypes_str at 0x110220400>, 'dataframe_hash': <function dataframe_hash at 0x1316bf920>, 'get_dataframes': <function get_dataframes at 0x1316bfec0>, '_2': '{\"dataframes\": [], \"user\": \"priprabh\"}', '_i3': 'def say_hello():\\n    print (\"Hello!\")', '_i4': '\\nimport json\\nimport getpass\\nimport hashlib\\n\\ndef import_pandas_safely():\\n    try:\\n        return __import__(\\'pandas\\')\\n    except ImportError:\\n        return False\\n\\n\\n__pandas = import_pandas_safely()\\n\\n\\ndef is_data_frame(v: str):\\n    obj = eval(v)\\n    if  isinstance(obj, __pandas.core.frame.DataFrame) or isinstance(obj, __pandas.core.series.Series):\\n        return True\\n\\n\\ndef dataframe_columns(var):\\n    df = eval(var)\\n    if isinstance(df, __pandas.core.series.Series):\\n        return [[df.name, str(df.dtype)]]\\n    return list(map(lambda col: [col, str(df[col].dtype)], df.columns))\\n\\n\\ndef dtypes_str(frame):\\n    return str(eval(frame).dtypes)\\n\\ndef dataframe_hash(var):\\n    # Return a hash including the column names and number of rows\\n    df = eval(var)\\n    if isinstance(df, __pandas.core.series.Series):\\n        return hashlib.sha256(f\"{var}-{df.name},{len(df)}\".encode(\\'utf-8\\')).hexdigest()\\n    return hashlib.sha256(f\"{var}-{\\',\\'.join(df.columns)},{len(df)}\".encode(\\'utf-8\\')).hexdigest()\\n\\ndef get_dataframes():\\n    if __pandas is None:\\n        return []\\n    user = getpass.getuser()\\n    values = %who_ls\\n    dataframes = [\\n        {\\n            \"name\": var,\\n            \"type\": type(eval(var)).__name__,\\n            \"hash\": dataframe_hash(var),\\n            \"cols\": dataframe_columns(var),\\n            \"dtypesStr\": dtypes_str(var),\\n        }\\n        for var in values if is_data_frame(var)\\n    ]\\n    result = {\"dataframes\": dataframes, \"user\": user}\\n    return json.dumps(result, ensure_ascii=False)\\n\\n\\nget_dataframes()', '_4': '{\"dataframes\": [], \"user\": \"priprabh\"}', '_i5': 'say_hello()', '_i6': '\\nimport json\\nimport getpass\\nimport hashlib\\n\\ndef import_pandas_safely():\\n    try:\\n        return __import__(\\'pandas\\')\\n    except ImportError:\\n        return False\\n\\n\\n__pandas = import_pandas_safely()\\n\\n\\ndef is_data_frame(v: str):\\n    obj = eval(v)\\n    if  isinstance(obj, __pandas.core.frame.DataFrame) or isinstance(obj, __pandas.core.series.Series):\\n        return True\\n\\n\\ndef dataframe_columns(var):\\n    df = eval(var)\\n    if isinstance(df, __pandas.core.series.Series):\\n        return [[df.name, str(df.dtype)]]\\n    return list(map(lambda col: [col, str(df[col].dtype)], df.columns))\\n\\n\\ndef dtypes_str(frame):\\n    return str(eval(frame).dtypes)\\n\\ndef dataframe_hash(var):\\n    # Return a hash including the column names and number of rows\\n    df = eval(var)\\n    if isinstance(df, __pandas.core.series.Series):\\n        return hashlib.sha256(f\"{var}-{df.name},{len(df)}\".encode(\\'utf-8\\')).hexdigest()\\n    return hashlib.sha256(f\"{var}-{\\',\\'.join(df.columns)},{len(df)}\".encode(\\'utf-8\\')).hexdigest()\\n\\ndef get_dataframes():\\n    if __pandas is None:\\n        return []\\n    user = getpass.getuser()\\n    values = %who_ls\\n    dataframes = [\\n        {\\n            \"name\": var,\\n            \"type\": type(eval(var)).__name__,\\n            \"hash\": dataframe_hash(var),\\n            \"cols\": dataframe_columns(var),\\n            \"dtypesStr\": dtypes_str(var),\\n        }\\n        for var in values if is_data_frame(var)\\n    ]\\n    result = {\"dataframes\": dataframes, \"user\": user}\\n    return json.dumps(result, ensure_ascii=False)\\n\\n\\nget_dataframes()', '_6': '{\"dataframes\": [], \"user\": \"priprabh\"}', '_i7': 'say_hello', '_7': <function say_hello at 0x131672fc0>, '_i8': '\\nimport json\\nimport getpass\\nimport hashlib\\n\\ndef import_pandas_safely():\\n    try:\\n        return __import__(\\'pandas\\')\\n    except ImportError:\\n        return False\\n\\n\\n__pandas = import_pandas_safely()\\n\\n\\ndef is_data_frame(v: str):\\n    obj = eval(v)\\n    if  isinstance(obj, __pandas.core.frame.DataFrame) or isinstance(obj, __pandas.core.series.Series):\\n        return True\\n\\n\\ndef dataframe_columns(var):\\n    df = eval(var)\\n    if isinstance(df, __pandas.core.series.Series):\\n        return [[df.name, str(df.dtype)]]\\n    return list(map(lambda col: [col, str(df[col].dtype)], df.columns))\\n\\n\\ndef dtypes_str(frame):\\n    return str(eval(frame).dtypes)\\n\\ndef dataframe_hash(var):\\n    # Return a hash including the column names and number of rows\\n    df = eval(var)\\n    if isinstance(df, __pandas.core.series.Series):\\n        return hashlib.sha256(f\"{var}-{df.name},{len(df)}\".encode(\\'utf-8\\')).hexdigest()\\n    return hashlib.sha256(f\"{var}-{\\',\\'.join(df.columns)},{len(df)}\".encode(\\'utf-8\\')).hexdigest()\\n\\ndef get_dataframes():\\n    if __pandas is None:\\n        return []\\n    user = getpass.getuser()\\n    values = %who_ls\\n    dataframes = [\\n        {\\n            \"name\": var,\\n            \"type\": type(eval(var)).__name__,\\n            \"hash\": dataframe_hash(var),\\n            \"cols\": dataframe_columns(var),\\n            \"dtypesStr\": dtypes_str(var),\\n        }\\n        for var in values if is_data_frame(var)\\n    ]\\n    result = {\"dataframes\": dataframes, \"user\": user}\\n    return json.dumps(result, ensure_ascii=False)\\n\\n\\nget_dataframes()', '_8': '{\"dataframes\": [], \"user\": \"priprabh\"}', '_i9': 'greet = say_hello', 'greet': <function say_hello at 0x131672fc0>, '_i10': '\\nimport json\\nimport getpass\\nimport hashlib\\n\\ndef import_pandas_safely():\\n    try:\\n        return __import__(\\'pandas\\')\\n    except ImportError:\\n        return False\\n\\n\\n__pandas = import_pandas_safely()\\n\\n\\ndef is_data_frame(v: str):\\n    obj = eval(v)\\n    if  isinstance(obj, __pandas.core.frame.DataFrame) or isinstance(obj, __pandas.core.series.Series):\\n        return True\\n\\n\\ndef dataframe_columns(var):\\n    df = eval(var)\\n    if isinstance(df, __pandas.core.series.Series):\\n        return [[df.name, str(df.dtype)]]\\n    return list(map(lambda col: [col, str(df[col].dtype)], df.columns))\\n\\n\\ndef dtypes_str(frame):\\n    return str(eval(frame).dtypes)\\n\\ndef dataframe_hash(var):\\n    # Return a hash including the column names and number of rows\\n    df = eval(var)\\n    if isinstance(df, __pandas.core.series.Series):\\n        return hashlib.sha256(f\"{var}-{df.name},{len(df)}\".encode(\\'utf-8\\')).hexdigest()\\n    return hashlib.sha256(f\"{var}-{\\',\\'.join(df.columns)},{len(df)}\".encode(\\'utf-8\\')).hexdigest()\\n\\ndef get_dataframes():\\n    if __pandas is None:\\n        return []\\n    user = getpass.getuser()\\n    values = %who_ls\\n    dataframes = [\\n        {\\n            \"name\": var,\\n            \"type\": type(eval(var)).__name__,\\n            \"hash\": dataframe_hash(var),\\n            \"cols\": dataframe_columns(var),\\n            \"dtypesStr\": dtypes_str(var),\\n        }\\n        for var in values if is_data_frame(var)\\n    ]\\n    result = {\"dataframes\": dataframes, \"user\": user}\\n    return json.dumps(result, ensure_ascii=False)\\n\\n\\nget_dataframes()', '_10': '{\"dataframes\": [], \"user\": \"priprabh\"}', '_i11': 'say_hello()', '_i12': '\\nimport json\\nimport getpass\\nimport hashlib\\n\\ndef import_pandas_safely():\\n    try:\\n        return __import__(\\'pandas\\')\\n    except ImportError:\\n        return False\\n\\n\\n__pandas = import_pandas_safely()\\n\\n\\ndef is_data_frame(v: str):\\n    obj = eval(v)\\n    if  isinstance(obj, __pandas.core.frame.DataFrame) or isinstance(obj, __pandas.core.series.Series):\\n        return True\\n\\n\\ndef dataframe_columns(var):\\n    df = eval(var)\\n    if isinstance(df, __pandas.core.series.Series):\\n        return [[df.name, str(df.dtype)]]\\n    return list(map(lambda col: [col, str(df[col].dtype)], df.columns))\\n\\n\\ndef dtypes_str(frame):\\n    return str(eval(frame).dtypes)\\n\\ndef dataframe_hash(var):\\n    # Return a hash including the column names and number of rows\\n    df = eval(var)\\n    if isinstance(df, __pandas.core.series.Series):\\n        return hashlib.sha256(f\"{var}-{df.name},{len(df)}\".encode(\\'utf-8\\')).hexdigest()\\n    return hashlib.sha256(f\"{var}-{\\',\\'.join(df.columns)},{len(df)}\".encode(\\'utf-8\\')).hexdigest()\\n\\ndef get_dataframes():\\n    if __pandas is None:\\n        return []\\n    user = getpass.getuser()\\n    values = %who_ls\\n    dataframes = [\\n        {\\n            \"name\": var,\\n            \"type\": type(eval(var)).__name__,\\n            \"hash\": dataframe_hash(var),\\n            \"cols\": dataframe_columns(var),\\n            \"dtypesStr\": dtypes_str(var),\\n        }\\n        for var in values if is_data_frame(var)\\n    ]\\n    result = {\"dataframes\": dataframes, \"user\": user}\\n    return json.dumps(result, ensure_ascii=False)\\n\\n\\nget_dataframes()', '_12': '{\"dataframes\": [], \"user\": \"priprabh\"}', '_i13': 'say_hello # this is function object that can be assigned to variable', '_13': <function say_hello at 0x131672fc0>, '_i14': '\\nimport json\\nimport getpass\\nimport hashlib\\n\\ndef import_pandas_safely():\\n    try:\\n        return __import__(\\'pandas\\')\\n    except ImportError:\\n        return False\\n\\n\\n__pandas = import_pandas_safely()\\n\\n\\ndef is_data_frame(v: str):\\n    obj = eval(v)\\n    if  isinstance(obj, __pandas.core.frame.DataFrame) or isinstance(obj, __pandas.core.series.Series):\\n        return True\\n\\n\\ndef dataframe_columns(var):\\n    df = eval(var)\\n    if isinstance(df, __pandas.core.series.Series):\\n        return [[df.name, str(df.dtype)]]\\n    return list(map(lambda col: [col, str(df[col].dtype)], df.columns))\\n\\n\\ndef dtypes_str(frame):\\n    return str(eval(frame).dtypes)\\n\\ndef dataframe_hash(var):\\n    # Return a hash including the column names and number of rows\\n    df = eval(var)\\n    if isinstance(df, __pandas.core.series.Series):\\n        return hashlib.sha256(f\"{var}-{df.name},{len(df)}\".encode(\\'utf-8\\')).hexdigest()\\n    return hashlib.sha256(f\"{var}-{\\',\\'.join(df.columns)},{len(df)}\".encode(\\'utf-8\\')).hexdigest()\\n\\ndef get_dataframes():\\n    if __pandas is None:\\n        return []\\n    user = getpass.getuser()\\n    values = %who_ls\\n    dataframes = [\\n        {\\n            \"name\": var,\\n            \"type\": type(eval(var)).__name__,\\n            \"hash\": dataframe_hash(var),\\n            \"cols\": dataframe_columns(var),\\n            \"dtypesStr\": dtypes_str(var),\\n        }\\n        for var in values if is_data_frame(var)\\n    ]\\n    result = {\"dataframes\": dataframes, \"user\": user}\\n    return json.dumps(result, ensure_ascii=False)\\n\\n\\nget_dataframes()', '_14': '{\"dataframes\": [], \"user\": \"priprabh\"}', '_i15': 'greet = say_hello', '_i16': '\\nimport json\\nimport getpass\\nimport hashlib\\n\\ndef import_pandas_safely():\\n    try:\\n        return __import__(\\'pandas\\')\\n    except ImportError:\\n        return False\\n\\n\\n__pandas = import_pandas_safely()\\n\\n\\ndef is_data_frame(v: str):\\n    obj = eval(v)\\n    if  isinstance(obj, __pandas.core.frame.DataFrame) or isinstance(obj, __pandas.core.series.Series):\\n        return True\\n\\n\\ndef dataframe_columns(var):\\n    df = eval(var)\\n    if isinstance(df, __pandas.core.series.Series):\\n        return [[df.name, str(df.dtype)]]\\n    return list(map(lambda col: [col, str(df[col].dtype)], df.columns))\\n\\n\\ndef dtypes_str(frame):\\n    return str(eval(frame).dtypes)\\n\\ndef dataframe_hash(var):\\n    # Return a hash including the column names and number of rows\\n    df = eval(var)\\n    if isinstance(df, __pandas.core.series.Series):\\n        return hashlib.sha256(f\"{var}-{df.name},{len(df)}\".encode(\\'utf-8\\')).hexdigest()\\n    return hashlib.sha256(f\"{var}-{\\',\\'.join(df.columns)},{len(df)}\".encode(\\'utf-8\\')).hexdigest()\\n\\ndef get_dataframes():\\n    if __pandas is None:\\n        return []\\n    user = getpass.getuser()\\n    values = %who_ls\\n    dataframes = [\\n        {\\n            \"name\": var,\\n            \"type\": type(eval(var)).__name__,\\n            \"hash\": dataframe_hash(var),\\n            \"cols\": dataframe_columns(var),\\n            \"dtypesStr\": dtypes_str(var),\\n        }\\n        for var in values if is_data_frame(var)\\n    ]\\n    result = {\"dataframes\": dataframes, \"user\": user}\\n    return json.dumps(result, ensure_ascii=False)\\n\\n\\nget_dataframes()', '_16': '{\"dataframes\": [], \"user\": \"priprabh\"}', '_i17': 'greet=say_hello', '_i18': '\\nimport json\\nimport getpass\\nimport hashlib\\n\\ndef import_pandas_safely():\\n    try:\\n        return __import__(\\'pandas\\')\\n    except ImportError:\\n        return False\\n\\n\\n__pandas = import_pandas_safely()\\n\\n\\ndef is_data_frame(v: str):\\n    obj = eval(v)\\n    if  isinstance(obj, __pandas.core.frame.DataFrame) or isinstance(obj, __pandas.core.series.Series):\\n        return True\\n\\n\\ndef dataframe_columns(var):\\n    df = eval(var)\\n    if isinstance(df, __pandas.core.series.Series):\\n        return [[df.name, str(df.dtype)]]\\n    return list(map(lambda col: [col, str(df[col].dtype)], df.columns))\\n\\n\\ndef dtypes_str(frame):\\n    return str(eval(frame).dtypes)\\n\\ndef dataframe_hash(var):\\n    # Return a hash including the column names and number of rows\\n    df = eval(var)\\n    if isinstance(df, __pandas.core.series.Series):\\n        return hashlib.sha256(f\"{var}-{df.name},{len(df)}\".encode(\\'utf-8\\')).hexdigest()\\n    return hashlib.sha256(f\"{var}-{\\',\\'.join(df.columns)},{len(df)}\".encode(\\'utf-8\\')).hexdigest()\\n\\ndef get_dataframes():\\n    if __pandas is None:\\n        return []\\n    user = getpass.getuser()\\n    values = %who_ls\\n    dataframes = [\\n        {\\n            \"name\": var,\\n            \"type\": type(eval(var)).__name__,\\n            \"hash\": dataframe_hash(var),\\n            \"cols\": dataframe_columns(var),\\n            \"dtypesStr\": dtypes_str(var),\\n        }\\n        for var in values if is_data_frame(var)\\n    ]\\n    result = {\"dataframes\": dataframes, \"user\": user}\\n    return json.dumps(result, ensure_ascii=False)\\n\\n\\nget_dataframes()', '_18': '{\"dataframes\": [], \"user\": \"priprabh\"}', '_i19': 'greet()', '_i20': '\\nimport json\\nimport getpass\\nimport hashlib\\n\\ndef import_pandas_safely():\\n    try:\\n        return __import__(\\'pandas\\')\\n    except ImportError:\\n        return False\\n\\n\\n__pandas = import_pandas_safely()\\n\\n\\ndef is_data_frame(v: str):\\n    obj = eval(v)\\n    if  isinstance(obj, __pandas.core.frame.DataFrame) or isinstance(obj, __pandas.core.series.Series):\\n        return True\\n\\n\\ndef dataframe_columns(var):\\n    df = eval(var)\\n    if isinstance(df, __pandas.core.series.Series):\\n        return [[df.name, str(df.dtype)]]\\n    return list(map(lambda col: [col, str(df[col].dtype)], df.columns))\\n\\n\\ndef dtypes_str(frame):\\n    return str(eval(frame).dtypes)\\n\\ndef dataframe_hash(var):\\n    # Return a hash including the column names and number of rows\\n    df = eval(var)\\n    if isinstance(df, __pandas.core.series.Series):\\n        return hashlib.sha256(f\"{var}-{df.name},{len(df)}\".encode(\\'utf-8\\')).hexdigest()\\n    return hashlib.sha256(f\"{var}-{\\',\\'.join(df.columns)},{len(df)}\".encode(\\'utf-8\\')).hexdigest()\\n\\ndef get_dataframes():\\n    if __pandas is None:\\n        return []\\n    user = getpass.getuser()\\n    values = %who_ls\\n    dataframes = [\\n        {\\n            \"name\": var,\\n            \"type\": type(eval(var)).__name__,\\n            \"hash\": dataframe_hash(var),\\n            \"cols\": dataframe_columns(var),\\n            \"dtypesStr\": dtypes_str(var),\\n        }\\n        for var in values if is_data_frame(var)\\n    ]\\n    result = {\"dataframes\": dataframes, \"user\": user}\\n    return json.dumps(result, ensure_ascii=False)\\n\\n\\nget_dataframes()', '_20': '{\"dataframes\": [], \"user\": \"priprabh\"}', '_i21': '#so greet variable is assigned with say_hello function object', '_i22': '\\nimport json\\nimport getpass\\nimport hashlib\\n\\ndef import_pandas_safely():\\n    try:\\n        return __import__(\\'pandas\\')\\n    except ImportError:\\n        return False\\n\\n\\n__pandas = import_pandas_safely()\\n\\n\\ndef is_data_frame(v: str):\\n    obj = eval(v)\\n    if  isinstance(obj, __pandas.core.frame.DataFrame) or isinstance(obj, __pandas.core.series.Series):\\n        return True\\n\\n\\ndef dataframe_columns(var):\\n    df = eval(var)\\n    if isinstance(df, __pandas.core.series.Series):\\n        return [[df.name, str(df.dtype)]]\\n    return list(map(lambda col: [col, str(df[col].dtype)], df.columns))\\n\\n\\ndef dtypes_str(frame):\\n    return str(eval(frame).dtypes)\\n\\ndef dataframe_hash(var):\\n    # Return a hash including the column names and number of rows\\n    df = eval(var)\\n    if isinstance(df, __pandas.core.series.Series):\\n        return hashlib.sha256(f\"{var}-{df.name},{len(df)}\".encode(\\'utf-8\\')).hexdigest()\\n    return hashlib.sha256(f\"{var}-{\\',\\'.join(df.columns)},{len(df)}\".encode(\\'utf-8\\')).hexdigest()\\n\\ndef get_dataframes():\\n    if __pandas is None:\\n        return []\\n    user = getpass.getuser()\\n    values = %who_ls\\n    dataframes = [\\n        {\\n            \"name\": var,\\n            \"type\": type(eval(var)).__name__,\\n            \"hash\": dataframe_hash(var),\\n            \"cols\": dataframe_columns(var),\\n            \"dtypesStr\": dtypes_str(var),\\n        }\\n        for var in values if is_data_frame(var)\\n    ]\\n    result = {\"dataframes\": dataframes, \"user\": user}\\n    return json.dumps(result, ensure_ascii=False)\\n\\n\\nget_dataframes()', '_22': '{\"dataframes\": [], \"user\": \"priprabh\"}', '_i23': '#now what if i delete say_hello object\\ndel say_hello', '_i24': '\\nimport json\\nimport getpass\\nimport hashlib\\n\\ndef import_pandas_safely():\\n    try:\\n        return __import__(\\'pandas\\')\\n    except ImportError:\\n        return False\\n\\n\\n__pandas = import_pandas_safely()\\n\\n\\ndef is_data_frame(v: str):\\n    obj = eval(v)\\n    if  isinstance(obj, __pandas.core.frame.DataFrame) or isinstance(obj, __pandas.core.series.Series):\\n        return True\\n\\n\\ndef dataframe_columns(var):\\n    df = eval(var)\\n    if isinstance(df, __pandas.core.series.Series):\\n        return [[df.name, str(df.dtype)]]\\n    return list(map(lambda col: [col, str(df[col].dtype)], df.columns))\\n\\n\\ndef dtypes_str(frame):\\n    return str(eval(frame).dtypes)\\n\\ndef dataframe_hash(var):\\n    # Return a hash including the column names and number of rows\\n    df = eval(var)\\n    if isinstance(df, __pandas.core.series.Series):\\n        return hashlib.sha256(f\"{var}-{df.name},{len(df)}\".encode(\\'utf-8\\')).hexdigest()\\n    return hashlib.sha256(f\"{var}-{\\',\\'.join(df.columns)},{len(df)}\".encode(\\'utf-8\\')).hexdigest()\\n\\ndef get_dataframes():\\n    if __pandas is None:\\n        return []\\n    user = getpass.getuser()\\n    values = %who_ls\\n    dataframes = [\\n        {\\n            \"name\": var,\\n            \"type\": type(eval(var)).__name__,\\n            \"hash\": dataframe_hash(var),\\n            \"cols\": dataframe_columns(var),\\n            \"dtypesStr\": dtypes_str(var),\\n        }\\n        for var in values if is_data_frame(var)\\n    ]\\n    result = {\"dataframes\": dataframes, \"user\": user}\\n    return json.dumps(result, ensure_ascii=False)\\n\\n\\nget_dataframes()', '_24': '{\"dataframes\": [], \"user\": \"priprabh\"}', '_i25': 'say_hello', '_i26': '\\nimport json\\nimport getpass\\nimport hashlib\\n\\ndef import_pandas_safely():\\n    try:\\n        return __import__(\\'pandas\\')\\n    except ImportError:\\n        return False\\n\\n\\n__pandas = import_pandas_safely()\\n\\n\\ndef is_data_frame(v: str):\\n    obj = eval(v)\\n    if  isinstance(obj, __pandas.core.frame.DataFrame) or isinstance(obj, __pandas.core.series.Series):\\n        return True\\n\\n\\ndef dataframe_columns(var):\\n    df = eval(var)\\n    if isinstance(df, __pandas.core.series.Series):\\n        return [[df.name, str(df.dtype)]]\\n    return list(map(lambda col: [col, str(df[col].dtype)], df.columns))\\n\\n\\ndef dtypes_str(frame):\\n    return str(eval(frame).dtypes)\\n\\ndef dataframe_hash(var):\\n    # Return a hash including the column names and number of rows\\n    df = eval(var)\\n    if isinstance(df, __pandas.core.series.Series):\\n        return hashlib.sha256(f\"{var}-{df.name},{len(df)}\".encode(\\'utf-8\\')).hexdigest()\\n    return hashlib.sha256(f\"{var}-{\\',\\'.join(df.columns)},{len(df)}\".encode(\\'utf-8\\')).hexdigest()\\n\\ndef get_dataframes():\\n    if __pandas is None:\\n        return []\\n    user = getpass.getuser()\\n    values = %who_ls\\n    dataframes = [\\n        {\\n            \"name\": var,\\n            \"type\": type(eval(var)).__name__,\\n            \"hash\": dataframe_hash(var),\\n            \"cols\": dataframe_columns(var),\\n            \"dtypesStr\": dtypes_str(var),\\n        }\\n        for var in values if is_data_frame(var)\\n    ]\\n    result = {\"dataframes\": dataframes, \"user\": user}\\n    return json.dumps(result, ensure_ascii=False)\\n\\n\\nget_dataframes()', '_26': '{\"dataframes\": [], \"user\": \"priprabh\"}', '_i27': '#so this function object is deleted now', '_i28': '\\nimport json\\nimport getpass\\nimport hashlib\\n\\ndef import_pandas_safely():\\n    try:\\n        return __import__(\\'pandas\\')\\n    except ImportError:\\n        return False\\n\\n\\n__pandas = import_pandas_safely()\\n\\n\\ndef is_data_frame(v: str):\\n    obj = eval(v)\\n    if  isinstance(obj, __pandas.core.frame.DataFrame) or isinstance(obj, __pandas.core.series.Series):\\n        return True\\n\\n\\ndef dataframe_columns(var):\\n    df = eval(var)\\n    if isinstance(df, __pandas.core.series.Series):\\n        return [[df.name, str(df.dtype)]]\\n    return list(map(lambda col: [col, str(df[col].dtype)], df.columns))\\n\\n\\ndef dtypes_str(frame):\\n    return str(eval(frame).dtypes)\\n\\ndef dataframe_hash(var):\\n    # Return a hash including the column names and number of rows\\n    df = eval(var)\\n    if isinstance(df, __pandas.core.series.Series):\\n        return hashlib.sha256(f\"{var}-{df.name},{len(df)}\".encode(\\'utf-8\\')).hexdigest()\\n    return hashlib.sha256(f\"{var}-{\\',\\'.join(df.columns)},{len(df)}\".encode(\\'utf-8\\')).hexdigest()\\n\\ndef get_dataframes():\\n    if __pandas is None:\\n        return []\\n    user = getpass.getuser()\\n    values = %who_ls\\n    dataframes = [\\n        {\\n            \"name\": var,\\n            \"type\": type(eval(var)).__name__,\\n            \"hash\": dataframe_hash(var),\\n            \"cols\": dataframe_columns(var),\\n            \"dtypesStr\": dtypes_str(var),\\n        }\\n        for var in values if is_data_frame(var)\\n    ]\\n    result = {\"dataframes\": dataframes, \"user\": user}\\n    return json.dumps(result, ensure_ascii=False)\\n\\n\\nget_dataframes()', '_28': '{\"dataframes\": [], \"user\": \"priprabh\"}', '_i29': 'greet()', '_i30': '\\nimport json\\nimport getpass\\nimport hashlib\\n\\ndef import_pandas_safely():\\n    try:\\n        return __import__(\\'pandas\\')\\n    except ImportError:\\n        return False\\n\\n\\n__pandas = import_pandas_safely()\\n\\n\\ndef is_data_frame(v: str):\\n    obj = eval(v)\\n    if  isinstance(obj, __pandas.core.frame.DataFrame) or isinstance(obj, __pandas.core.series.Series):\\n        return True\\n\\n\\ndef dataframe_columns(var):\\n    df = eval(var)\\n    if isinstance(df, __pandas.core.series.Series):\\n        return [[df.name, str(df.dtype)]]\\n    return list(map(lambda col: [col, str(df[col].dtype)], df.columns))\\n\\n\\ndef dtypes_str(frame):\\n    return str(eval(frame).dtypes)\\n\\ndef dataframe_hash(var):\\n    # Return a hash including the column names and number of rows\\n    df = eval(var)\\n    if isinstance(df, __pandas.core.series.Series):\\n        return hashlib.sha256(f\"{var}-{df.name},{len(df)}\".encode(\\'utf-8\\')).hexdigest()\\n    return hashlib.sha256(f\"{var}-{\\',\\'.join(df.columns)},{len(df)}\".encode(\\'utf-8\\')).hexdigest()\\n\\ndef get_dataframes():\\n    if __pandas is None:\\n        return []\\n    user = getpass.getuser()\\n    values = %who_ls\\n    dataframes = [\\n        {\\n            \"name\": var,\\n            \"type\": type(eval(var)).__name__,\\n            \"hash\": dataframe_hash(var),\\n            \"cols\": dataframe_columns(var),\\n            \"dtypesStr\": dtypes_str(var),\\n        }\\n        for var in values if is_data_frame(var)\\n    ]\\n    result = {\"dataframes\": dataframes, \"user\": user}\\n    return json.dumps(result, ensure_ascii=False)\\n\\n\\nget_dataframes()', '_30': '{\"dataframes\": [], \"user\": \"priprabh\"}', '_i31': '#but greet which has say_hello object reference is actually pointing to function address say_hello and not variable', '_i32': '\\nimport json\\nimport getpass\\nimport hashlib\\n\\ndef import_pandas_safely():\\n    try:\\n        return __import__(\\'pandas\\')\\n    except ImportError:\\n        return False\\n\\n\\n__pandas = import_pandas_safely()\\n\\n\\ndef is_data_frame(v: str):\\n    obj = eval(v)\\n    if  isinstance(obj, __pandas.core.frame.DataFrame) or isinstance(obj, __pandas.core.series.Series):\\n        return True\\n\\n\\ndef dataframe_columns(var):\\n    df = eval(var)\\n    if isinstance(df, __pandas.core.series.Series):\\n        return [[df.name, str(df.dtype)]]\\n    return list(map(lambda col: [col, str(df[col].dtype)], df.columns))\\n\\n\\ndef dtypes_str(frame):\\n    return str(eval(frame).dtypes)\\n\\ndef dataframe_hash(var):\\n    # Return a hash including the column names and number of rows\\n    df = eval(var)\\n    if isinstance(df, __pandas.core.series.Series):\\n        return hashlib.sha256(f\"{var}-{df.name},{len(df)}\".encode(\\'utf-8\\')).hexdigest()\\n    return hashlib.sha256(f\"{var}-{\\',\\'.join(df.columns)},{len(df)}\".encode(\\'utf-8\\')).hexdigest()\\n\\ndef get_dataframes():\\n    if __pandas is None:\\n        return []\\n    user = getpass.getuser()\\n    values = %who_ls\\n    dataframes = [\\n        {\\n            \"name\": var,\\n            \"type\": type(eval(var)).__name__,\\n            \"hash\": dataframe_hash(var),\\n            \"cols\": dataframe_columns(var),\\n            \"dtypesStr\": dtypes_str(var),\\n        }\\n        for var in values if is_data_frame(var)\\n    ]\\n    result = {\"dataframes\": dataframes, \"user\": user}\\n    return json.dumps(result, ensure_ascii=False)\\n\\n\\nget_dataframes()', '_32': '{\"dataframes\": [], \"user\": \"priprabh\"}', '_i33': '#but greet which has say_hello object reference is actually pointing to function address say_hello and not variable\\n#so it gets executed\\n#function are objects that can be passed into other objects\\n#passing of function within another function or calling functions within another function', '_i34': '\\nimport json\\nimport getpass\\nimport hashlib\\n\\ndef import_pandas_safely():\\n    try:\\n        return __import__(\\'pandas\\')\\n    except ImportError:\\n        return False\\n\\n\\n__pandas = import_pandas_safely()\\n\\n\\ndef is_data_frame(v: str):\\n    obj = eval(v)\\n    if  isinstance(obj, __pandas.core.frame.DataFrame) or isinstance(obj, __pandas.core.series.Series):\\n        return True\\n\\n\\ndef dataframe_columns(var):\\n    df = eval(var)\\n    if isinstance(df, __pandas.core.series.Series):\\n        return [[df.name, str(df.dtype)]]\\n    return list(map(lambda col: [col, str(df[col].dtype)], df.columns))\\n\\n\\ndef dtypes_str(frame):\\n    return str(eval(frame).dtypes)\\n\\ndef dataframe_hash(var):\\n    # Return a hash including the column names and number of rows\\n    df = eval(var)\\n    if isinstance(df, __pandas.core.series.Series):\\n        return hashlib.sha256(f\"{var}-{df.name},{len(df)}\".encode(\\'utf-8\\')).hexdigest()\\n    return hashlib.sha256(f\"{var}-{\\',\\'.join(df.columns)},{len(df)}\".encode(\\'utf-8\\')).hexdigest()\\n\\ndef get_dataframes():\\n    if __pandas is None:\\n        return []\\n    user = getpass.getuser()\\n    values = %who_ls\\n    dataframes = [\\n        {\\n            \"name\": var,\\n            \"type\": type(eval(var)).__name__,\\n            \"hash\": dataframe_hash(var),\\n            \"cols\": dataframe_columns(var),\\n            \"dtypesStr\": dtypes_str(var),\\n        }\\n        for var in values if is_data_frame(var)\\n    ]\\n    result = {\"dataframes\": dataframes, \"user\": user}\\n    return json.dumps(result, ensure_ascii=False)\\n\\n\\nget_dataframes()', '_34': '{\"dataframes\": [], \"user\": \"priprabh\"}', '_i35': 'greet()', '_i36': '\\nimport json\\nimport getpass\\nimport hashlib\\n\\ndef import_pandas_safely():\\n    try:\\n        return __import__(\\'pandas\\')\\n    except ImportError:\\n        return False\\n\\n\\n__pandas = import_pandas_safely()\\n\\n\\ndef is_data_frame(v: str):\\n    obj = eval(v)\\n    if  isinstance(obj, __pandas.core.frame.DataFrame) or isinstance(obj, __pandas.core.series.Series):\\n        return True\\n\\n\\ndef dataframe_columns(var):\\n    df = eval(var)\\n    if isinstance(df, __pandas.core.series.Series):\\n        return [[df.name, str(df.dtype)]]\\n    return list(map(lambda col: [col, str(df[col].dtype)], df.columns))\\n\\n\\ndef dtypes_str(frame):\\n    return str(eval(frame).dtypes)\\n\\ndef dataframe_hash(var):\\n    # Return a hash including the column names and number of rows\\n    df = eval(var)\\n    if isinstance(df, __pandas.core.series.Series):\\n        return hashlib.sha256(f\"{var}-{df.name},{len(df)}\".encode(\\'utf-8\\')).hexdigest()\\n    return hashlib.sha256(f\"{var}-{\\',\\'.join(df.columns)},{len(df)}\".encode(\\'utf-8\\')).hexdigest()\\n\\ndef get_dataframes():\\n    if __pandas is None:\\n        return []\\n    user = getpass.getuser()\\n    values = %who_ls\\n    dataframes = [\\n        {\\n            \"name\": var,\\n            \"type\": type(eval(var)).__name__,\\n            \"hash\": dataframe_hash(var),\\n            \"cols\": dataframe_columns(var),\\n            \"dtypesStr\": dtypes_str(var),\\n        }\\n        for var in values if is_data_frame(var)\\n    ]\\n    result = {\"dataframes\": dataframes, \"user\": user}\\n    return json.dumps(result, ensure_ascii=False)\\n\\n\\nget_dataframes()', '_36': '{\"dataframes\": [], \"user\": \"priprabh\"}', '_i37': 'def say_hello(name=\"Priyanka\"):\\n    print(\"say_hello() function is being called and executed!.\")\\n\\n    def greet():\\n        return \"\\\\t greet() funtion inside say_hello() is called!.\"\\n\\n    def welcome():\\n        return \"\\\\t welcome() function inside say_hello is called!.\"\\n\\n    print(greet())\\n    print(welcome())\\n    print(\"say_hello() function execution is now complete!\")\\n\\nsay_hello()', 'say_hello': <function say_hello at 0x1316bf420>, '_i38': '\\nimport json\\nimport getpass\\nimport hashlib\\n\\ndef import_pandas_safely():\\n    try:\\n        return __import__(\\'pandas\\')\\n    except ImportError:\\n        return False\\n\\n\\n__pandas = import_pandas_safely()\\n\\n\\ndef is_data_frame(v: str):\\n    obj = eval(v)\\n    if  isinstance(obj, __pandas.core.frame.DataFrame) or isinstance(obj, __pandas.core.series.Series):\\n        return True\\n\\n\\ndef dataframe_columns(var):\\n    df = eval(var)\\n    if isinstance(df, __pandas.core.series.Series):\\n        return [[df.name, str(df.dtype)]]\\n    return list(map(lambda col: [col, str(df[col].dtype)], df.columns))\\n\\n\\ndef dtypes_str(frame):\\n    return str(eval(frame).dtypes)\\n\\ndef dataframe_hash(var):\\n    # Return a hash including the column names and number of rows\\n    df = eval(var)\\n    if isinstance(df, __pandas.core.series.Series):\\n        return hashlib.sha256(f\"{var}-{df.name},{len(df)}\".encode(\\'utf-8\\')).hexdigest()\\n    return hashlib.sha256(f\"{var}-{\\',\\'.join(df.columns)},{len(df)}\".encode(\\'utf-8\\')).hexdigest()\\n\\ndef get_dataframes():\\n    if __pandas is None:\\n        return []\\n    user = getpass.getuser()\\n    values = %who_ls\\n    dataframes = [\\n        {\\n            \"name\": var,\\n            \"type\": type(eval(var)).__name__,\\n            \"hash\": dataframe_hash(var),\\n            \"cols\": dataframe_columns(var),\\n            \"dtypesStr\": dtypes_str(var),\\n        }\\n        for var in values if is_data_frame(var)\\n    ]\\n    result = {\"dataframes\": dataframes, \"user\": user}\\n    return json.dumps(result, ensure_ascii=False)\\n\\n\\nget_dataframes()', '_38': '{\"dataframes\": [], \"user\": \"priprabh\"}', '_i39': 'greet()', '_i40': '\\nimport json\\nimport getpass\\nimport hashlib\\n\\ndef import_pandas_safely():\\n    try:\\n        return __import__(\\'pandas\\')\\n    except ImportError:\\n        return False\\n\\n\\n__pandas = import_pandas_safely()\\n\\n\\ndef is_data_frame(v: str):\\n    obj = eval(v)\\n    if  isinstance(obj, __pandas.core.frame.DataFrame) or isinstance(obj, __pandas.core.series.Series):\\n        return True\\n\\n\\ndef dataframe_columns(var):\\n    df = eval(var)\\n    if isinstance(df, __pandas.core.series.Series):\\n        return [[df.name, str(df.dtype)]]\\n    return list(map(lambda col: [col, str(df[col].dtype)], df.columns))\\n\\n\\ndef dtypes_str(frame):\\n    return str(eval(frame).dtypes)\\n\\ndef dataframe_hash(var):\\n    # Return a hash including the column names and number of rows\\n    df = eval(var)\\n    if isinstance(df, __pandas.core.series.Series):\\n        return hashlib.sha256(f\"{var}-{df.name},{len(df)}\".encode(\\'utf-8\\')).hexdigest()\\n    return hashlib.sha256(f\"{var}-{\\',\\'.join(df.columns)},{len(df)}\".encode(\\'utf-8\\')).hexdigest()\\n\\ndef get_dataframes():\\n    if __pandas is None:\\n        return []\\n    user = getpass.getuser()\\n    values = %who_ls\\n    dataframes = [\\n        {\\n            \"name\": var,\\n            \"type\": type(eval(var)).__name__,\\n            \"hash\": dataframe_hash(var),\\n            \"cols\": dataframe_columns(var),\\n            \"dtypesStr\": dtypes_str(var),\\n        }\\n        for var in values if is_data_frame(var)\\n    ]\\n    result = {\"dataframes\": dataframes, \"user\": user}\\n    return json.dumps(result, ensure_ascii=False)\\n\\n\\nget_dataframes()', '_40': '{\"dataframes\": [], \"user\": \"priprabh\"}', '_i41': 'welcome()', '_i42': '\\nimport json\\nimport getpass\\nimport hashlib\\n\\ndef import_pandas_safely():\\n    try:\\n        return __import__(\\'pandas\\')\\n    except ImportError:\\n        return False\\n\\n\\n__pandas = import_pandas_safely()\\n\\n\\ndef is_data_frame(v: str):\\n    obj = eval(v)\\n    if  isinstance(obj, __pandas.core.frame.DataFrame) or isinstance(obj, __pandas.core.series.Series):\\n        return True\\n\\n\\ndef dataframe_columns(var):\\n    df = eval(var)\\n    if isinstance(df, __pandas.core.series.Series):\\n        return [[df.name, str(df.dtype)]]\\n    return list(map(lambda col: [col, str(df[col].dtype)], df.columns))\\n\\n\\ndef dtypes_str(frame):\\n    return str(eval(frame).dtypes)\\n\\ndef dataframe_hash(var):\\n    # Return a hash including the column names and number of rows\\n    df = eval(var)\\n    if isinstance(df, __pandas.core.series.Series):\\n        return hashlib.sha256(f\"{var}-{df.name},{len(df)}\".encode(\\'utf-8\\')).hexdigest()\\n    return hashlib.sha256(f\"{var}-{\\',\\'.join(df.columns)},{len(df)}\".encode(\\'utf-8\\')).hexdigest()\\n\\ndef get_dataframes():\\n    if __pandas is None:\\n        return []\\n    user = getpass.getuser()\\n    values = %who_ls\\n    dataframes = [\\n        {\\n            \"name\": var,\\n            \"type\": type(eval(var)).__name__,\\n            \"hash\": dataframe_hash(var),\\n            \"cols\": dataframe_columns(var),\\n            \"dtypesStr\": dtypes_str(var),\\n        }\\n        for var in values if is_data_frame(var)\\n    ]\\n    result = {\"dataframes\": dataframes, \"user\": user}\\n    return json.dumps(result, ensure_ascii=False)\\n\\n\\nget_dataframes()', '_42': '{\"dataframes\": [], \"user\": \"priprabh\"}', '_i43': '#welcome function scope is limited to within say_hello function and not outside same for greet() too', '_i44': '\\nimport json\\nimport getpass\\nimport hashlib\\n\\ndef import_pandas_safely():\\n    try:\\n        return __import__(\\'pandas\\')\\n    except ImportError:\\n        return False\\n\\n\\n__pandas = import_pandas_safely()\\n\\n\\ndef is_data_frame(v: str):\\n    obj = eval(v)\\n    if  isinstance(obj, __pandas.core.frame.DataFrame) or isinstance(obj, __pandas.core.series.Series):\\n        return True\\n\\n\\ndef dataframe_columns(var):\\n    df = eval(var)\\n    if isinstance(df, __pandas.core.series.Series):\\n        return [[df.name, str(df.dtype)]]\\n    return list(map(lambda col: [col, str(df[col].dtype)], df.columns))\\n\\n\\ndef dtypes_str(frame):\\n    return str(eval(frame).dtypes)\\n\\ndef dataframe_hash(var):\\n    # Return a hash including the column names and number of rows\\n    df = eval(var)\\n    if isinstance(df, __pandas.core.series.Series):\\n        return hashlib.sha256(f\"{var}-{df.name},{len(df)}\".encode(\\'utf-8\\')).hexdigest()\\n    return hashlib.sha256(f\"{var}-{\\',\\'.join(df.columns)},{len(df)}\".encode(\\'utf-8\\')).hexdigest()\\n\\ndef get_dataframes():\\n    if __pandas is None:\\n        return []\\n    user = getpass.getuser()\\n    values = %who_ls\\n    dataframes = [\\n        {\\n            \"name\": var,\\n            \"type\": type(eval(var)).__name__,\\n            \"hash\": dataframe_hash(var),\\n            \"cols\": dataframe_columns(var),\\n            \"dtypesStr\": dtypes_str(var),\\n        }\\n        for var in values if is_data_frame(var)\\n    ]\\n    result = {\"dataframes\": dataframes, \"user\": user}\\n    return json.dumps(result, ensure_ascii=False)\\n\\n\\nget_dataframes()', '_44': '{\"dataframes\": [], \"user\": \"priprabh\"}', '_i45': 'print(local())', '_i46': '\\nimport json\\nimport getpass\\nimport hashlib\\n\\ndef import_pandas_safely():\\n    try:\\n        return __import__(\\'pandas\\')\\n    except ImportError:\\n        return False\\n\\n\\n__pandas = import_pandas_safely()\\n\\n\\ndef is_data_frame(v: str):\\n    obj = eval(v)\\n    if  isinstance(obj, __pandas.core.frame.DataFrame) or isinstance(obj, __pandas.core.series.Series):\\n        return True\\n\\n\\ndef dataframe_columns(var):\\n    df = eval(var)\\n    if isinstance(df, __pandas.core.series.Series):\\n        return [[df.name, str(df.dtype)]]\\n    return list(map(lambda col: [col, str(df[col].dtype)], df.columns))\\n\\n\\ndef dtypes_str(frame):\\n    return str(eval(frame).dtypes)\\n\\ndef dataframe_hash(var):\\n    # Return a hash including the column names and number of rows\\n    df = eval(var)\\n    if isinstance(df, __pandas.core.series.Series):\\n        return hashlib.sha256(f\"{var}-{df.name},{len(df)}\".encode(\\'utf-8\\')).hexdigest()\\n    return hashlib.sha256(f\"{var}-{\\',\\'.join(df.columns)},{len(df)}\".encode(\\'utf-8\\')).hexdigest()\\n\\ndef get_dataframes():\\n    if __pandas is None:\\n        return []\\n    user = getpass.getuser()\\n    values = %who_ls\\n    dataframes = [\\n        {\\n            \"name\": var,\\n            \"type\": type(eval(var)).__name__,\\n            \"hash\": dataframe_hash(var),\\n            \"cols\": dataframe_columns(var),\\n            \"dtypesStr\": dtypes_str(var),\\n        }\\n        for var in values if is_data_frame(var)\\n    ]\\n    result = {\"dataframes\": dataframes, \"user\": user}\\n    return json.dumps(result, ensure_ascii=False)\\n\\n\\nget_dataframes()', '_46': '{\"dataframes\": [], \"user\": \"priprabh\"}', '_i47': 'print(locals())', '_i48': '\\nimport json\\nimport getpass\\nimport hashlib\\n\\ndef import_pandas_safely():\\n    try:\\n        return __import__(\\'pandas\\')\\n    except ImportError:\\n        return False\\n\\n\\n__pandas = import_pandas_safely()\\n\\n\\ndef is_data_frame(v: str):\\n    obj = eval(v)\\n    if  isinstance(obj, __pandas.core.frame.DataFrame) or isinstance(obj, __pandas.core.series.Series):\\n        return True\\n\\n\\ndef dataframe_columns(var):\\n    df = eval(var)\\n    if isinstance(df, __pandas.core.series.Series):\\n        return [[df.name, str(df.dtype)]]\\n    return list(map(lambda col: [col, str(df[col].dtype)], df.columns))\\n\\n\\ndef dtypes_str(frame):\\n    return str(eval(frame).dtypes)\\n\\ndef dataframe_hash(var):\\n    # Return a hash including the column names and number of rows\\n    df = eval(var)\\n    if isinstance(df, __pandas.core.series.Series):\\n        return hashlib.sha256(f\"{var}-{df.name},{len(df)}\".encode(\\'utf-8\\')).hexdigest()\\n    return hashlib.sha256(f\"{var}-{\\',\\'.join(df.columns)},{len(df)}\".encode(\\'utf-8\\')).hexdigest()\\n\\ndef get_dataframes():\\n    if __pandas is None:\\n        return []\\n    user = getpass.getuser()\\n    values = %who_ls\\n    dataframes = [\\n        {\\n            \"name\": var,\\n            \"type\": type(eval(var)).__name__,\\n            \"hash\": dataframe_hash(var),\\n            \"cols\": dataframe_columns(var),\\n            \"dtypesStr\": dtypes_str(var),\\n        }\\n        for var in values if is_data_frame(var)\\n    ]\\n    result = {\"dataframes\": dataframes, \"user\": user}\\n    return json.dumps(result, ensure_ascii=False)\\n\\n\\nget_dataframes()', '_48': '{\"dataframes\": [], \"user\": \"priprabh\"}', '_i49': 'print(globals())'}\n"
     ]
    }
   ],
   "source": [
    "print(globals())\n",
    "#Here we get back a dictionary of all the global variables, many of them are predefined in Python."
   ]
  },
  {
   "cell_type": "code",
   "execution_count": 54,
   "id": "3a33e32b-b8af-44e0-af87-69b7cdf7ebb1",
   "metadata": {},
   "outputs": [
    {
     "name": "stdout",
     "output_type": "stream",
     "text": [
      "dict_keys(['__name__', '__doc__', '__package__', '__loader__', '__spec__', '__builtin__', '__builtins__', '_ih', '_oh', '_dh', 'In', 'Out', 'get_ipython', 'exit', 'quit', 'open', '_', '__', '___', '__session__', '_i', '_ii', '_iii', '_i1', '_i2', 'json', 'getpass', 'hashlib', 'import_pandas_safely', '__pandas', 'is_data_frame', 'dataframe_columns', 'dtypes_str', 'dataframe_hash', 'get_dataframes', '_2', '_i3', '_i4', '_4', '_i5', '_i6', '_6', '_i7', '_7', '_i8', '_8', '_i9', 'greet', '_i10', '_10', '_i11', '_i12', '_12', '_i13', '_13', '_i14', '_14', '_i15', '_i16', '_16', '_i17', '_i18', '_18', '_i19', '_i20', '_20', '_i21', '_i22', '_22', '_i23', '_i24', '_24', '_i25', '_i26', '_26', '_i27', '_i28', '_28', '_i29', '_i30', '_30', '_i31', '_i32', '_32', '_i33', '_i34', '_34', '_i35', '_i36', '_36', '_i37', 'say_hello', '_i38', '_38', '_i39', '_i40', '_40', '_i41', '_i42', '_42', '_i43', '_i44', '_44', '_i45', '_i46', '_46', '_i47', '_i48', '_48', '_i49', '_i50', '_50', '_i51', '_i52', '_52', '_i53', '_53', '_i54'])\n"
     ]
    }
   ],
   "source": [
    "print(globals().keys())"
   ]
  },
  {
   "cell_type": "code",
   "execution_count": 56,
   "id": "1090b703-6b01-4022-b23d-2898d9b5f4a9",
   "metadata": {},
   "outputs": [
    {
     "name": "stdout",
     "output_type": "stream",
     "text": [
      "dict_keys(['__name__', '__doc__', '__package__', '__loader__', '__spec__', '__builtin__', '__builtins__', '_ih', '_oh', '_dh', 'In', 'Out', 'get_ipython', 'exit', 'quit', 'open', '_', '__', '___', '__session__', '_i', '_ii', '_iii', '_i1', '_i2', 'json', 'getpass', 'hashlib', 'import_pandas_safely', '__pandas', 'is_data_frame', 'dataframe_columns', 'dtypes_str', 'dataframe_hash', 'get_dataframes', '_2', '_i3', '_i4', '_4', '_i5', '_i6', '_6', '_i7', '_7', '_i8', '_8', '_i9', 'greet', '_i10', '_10', '_i11', '_i12', '_12', '_i13', '_13', '_i14', '_14', '_i15', '_i16', '_16', '_i17', '_i18', '_18', '_i19', '_i20', '_20', '_i21', '_i22', '_22', '_i23', '_i24', '_24', '_i25', '_i26', '_26', '_i27', '_i28', '_28', '_i29', '_i30', '_30', '_i31', '_i32', '_32', '_i33', '_i34', '_34', '_i35', '_i36', '_36', '_i37', 'say_hello', '_i38', '_38', '_i39', '_i40', '_40', '_i41', '_i42', '_42', '_i43', '_i44', '_44', '_i45', '_i46', '_46', '_i47', '_i48', '_48', '_i49', '_i50', '_50', '_i51', '_i52', '_52', '_i53', '_53', '_i54', '_i55', '_55', '_i56'])\n"
     ]
    }
   ],
   "source": [
    "print(locals().keys())"
   ]
  },
  {
   "cell_type": "code",
   "execution_count": 94,
   "id": "20e14e87-474e-4a83-927e-66e1e3229154",
   "metadata": {},
   "outputs": [],
   "source": [
    "#Functions as Arguments"
   ]
  },
  {
   "cell_type": "code",
   "execution_count": 100,
   "id": "ae61a553-a288-4144-9504-c5991a4f70c7",
   "metadata": {},
   "outputs": [],
   "source": [
    "def hello():\n",
    "    print(\"Hi, I am here inside hello()!.\")"
   ]
  },
  {
   "cell_type": "code",
   "execution_count": 102,
   "id": "87386523-6d0e-4e84-89ec-b18673f9c8c3",
   "metadata": {},
   "outputs": [],
   "source": [
    "def other_func(some_def_func_var):\n",
    "    print(\"inside of other_func\")\n",
    "    print(some_def_func_var())"
   ]
  },
  {
   "cell_type": "code",
   "execution_count": 104,
   "id": "de2c0fd2-f0ae-4b1d-8579-92dab9301bbd",
   "metadata": {},
   "outputs": [
    {
     "name": "stdout",
     "output_type": "stream",
     "text": [
      "inside of other_func\n",
      "Hi, I am here inside hello()!.\n",
      "None\n"
     ]
    }
   ],
   "source": [
    "other_func(hello) # here we passed hello() function as argument to other_func for execution"
   ]
  },
  {
   "cell_type": "code",
   "execution_count": 106,
   "id": "bb2a4893-159f-4839-a3df-91e3bf8f6b4a",
   "metadata": {},
   "outputs": [
    {
     "data": {
      "text/plain": [
       "<function __main__.hello()>"
      ]
     },
     "execution_count": 106,
     "metadata": {},
     "output_type": "execute_result"
    }
   ],
   "source": [
    "hello"
   ]
  },
  {
   "cell_type": "code",
   "execution_count": 108,
   "id": "c952946b-362e-4ba8-bc81-272b229079fc",
   "metadata": {},
   "outputs": [
    {
     "name": "stdout",
     "output_type": "stream",
     "text": [
      "Hi, I am here inside hello()!.\n"
     ]
    }
   ],
   "source": [
    "hello()"
   ]
  },
  {
   "cell_type": "code",
   "execution_count": 114,
   "id": "b68fd06f-9db7-41d0-acdd-9ac8f0ddf9f7",
   "metadata": {},
   "outputs": [
    {
     "name": "stdout",
     "output_type": "stream",
     "text": [
      "inside of other_func\n",
      "Hi, I am here inside hello()!.\n",
      "None\n"
     ]
    }
   ],
   "source": [
    "other_func(hello) # here we passed hello() function as argument to other_func for execution"
   ]
  },
  {
   "cell_type": "code",
   "execution_count": null,
   "id": "34203d81-e5f7-4f86-9313-d26964e591f1",
   "metadata": {},
   "outputs": [],
   "source": [
    "#Great! Note how we can pass the functions as objects and then use them within other functions. \n",
    "#Now we can get started with writing our first decorator:"
   ]
  },
  {
   "cell_type": "code",
   "execution_count": 116,
   "id": "e17158dd-01ac-4d92-85dc-b43a388912f5",
   "metadata": {},
   "outputs": [],
   "source": [
    "# Now we have basic idea on how to create decorators\n"
   ]
  },
  {
   "cell_type": "code",
   "execution_count": 164,
   "id": "9d4c9e88-5327-481f-8ab5-cc849b6ec233",
   "metadata": {},
   "outputs": [],
   "source": [
    "def new_decorator(func):\n",
    "    \n",
    "    def wrap_func():\n",
    "        print(\"Code will be here, before func is called\")\n",
    "        func()\n",
    "        print(\"Code will be here, after func is called\")\n",
    "\n",
    "    return wrap_func\n",
    "\n",
    "def func_needs_decorator():\n",
    "    print(\"This function is in need of decorator\")\n",
    "\n",
    "    "
   ]
  },
  {
   "cell_type": "code",
   "execution_count": 166,
   "id": "84c013fb-2462-4579-9d20-6577615890b1",
   "metadata": {},
   "outputs": [
    {
     "name": "stdout",
     "output_type": "stream",
     "text": [
      "This function is in need of decorator\n"
     ]
    }
   ],
   "source": [
    "func_needs_decorator()"
   ]
  },
  {
   "cell_type": "code",
   "execution_count": 168,
   "id": "44bde68a-1789-48cd-a75c-744121199729",
   "metadata": {},
   "outputs": [],
   "source": [
    "#result = new_decorator(func_needs_decorator)\n",
    "\n",
    "# Reassign func_needs_decorator\n",
    "func_needs_decorator = new_decorator(func_needs_decorator)"
   ]
  },
  {
   "cell_type": "code",
   "execution_count": 170,
   "id": "b4e4befd-e1b9-4380-9fc6-556dced8dd23",
   "metadata": {},
   "outputs": [
    {
     "name": "stdout",
     "output_type": "stream",
     "text": [
      "Code will be here, before func is called\n",
      "This function is in need of decorator\n",
      "Code will be here, after func is called\n"
     ]
    }
   ],
   "source": [
    "#result()\n",
    "func_needs_decorator()"
   ]
  },
  {
   "cell_type": "code",
   "execution_count": 172,
   "id": "eac3adef-adb6-4782-9835-2101080ae075",
   "metadata": {},
   "outputs": [],
   "source": [
    "#A decorator simply wrapped the function and modified its behavior. Now let's understand how we can rewrite this code using the @ symbol, \n",
    "#which is what Python uses for Decorators:\n",
    "\n",
    "@new_decorator\n",
    "def func_needs_decorator():\n",
    "    print(\"This function is in need of decorator\")"
   ]
  },
  {
   "cell_type": "code",
   "execution_count": 174,
   "id": "bc55bcb3-3f41-41f6-8346-21c614d0fb27",
   "metadata": {},
   "outputs": [
    {
     "name": "stdout",
     "output_type": "stream",
     "text": [
      "Code will be here, before func is called\n",
      "This function is in need of decorator\n",
      "Code will be here, after func is called\n"
     ]
    }
   ],
   "source": [
    "func_needs_decorator()"
   ]
  },
  {
   "cell_type": "code",
   "execution_count": null,
   "id": "e28a5d34-8de4-49ed-9975-f29789753330",
   "metadata": {},
   "outputs": [],
   "source": [
    "#Great! You've now built a Decorator manually and then saw how we can use the @ symbol in Python to automate this and clean our code. \n",
    "#You'll run into Decorators a lot if you begin using Python for Web Development, such as Flask or Django!"
   ]
  }
 ],
 "metadata": {
  "kernelspec": {
   "display_name": "Python 3 (ipykernel)",
   "language": "python",
   "name": "python3"
  },
  "language_info": {
   "codemirror_mode": {
    "name": "ipython",
    "version": 3
   },
   "file_extension": ".py",
   "mimetype": "text/x-python",
   "name": "python",
   "nbconvert_exporter": "python",
   "pygments_lexer": "ipython3",
   "version": "3.12.7"
  }
 },
 "nbformat": 4,
 "nbformat_minor": 5
}
