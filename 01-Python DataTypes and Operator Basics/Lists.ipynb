{
 "cells": [
  {
   "cell_type": "code",
   "execution_count": 1,
   "id": "8e68b8ff-1fb4-4745-af79-efbe258ccddb",
   "metadata": {},
   "outputs": [],
   "source": [
    "mylist=['1','2','3']"
   ]
  },
  {
   "cell_type": "code",
   "execution_count": 3,
   "id": "91b76813-f457-4c82-b843-4a7ed65af321",
   "metadata": {},
   "outputs": [
    {
     "data": {
      "text/plain": [
       "['1', '2', '3']"
      ]
     },
     "execution_count": 3,
     "metadata": {},
     "output_type": "execute_result"
    }
   ],
   "source": [
    "mylist"
   ]
  },
  {
   "cell_type": "code",
   "execution_count": 11,
   "id": "c06ef3a2-35ea-4c48-8ecb-e2df65b7355f",
   "metadata": {},
   "outputs": [],
   "source": [
    "#It can have mix of values in them\n",
    "mylist=['1',True, 'Hello World', 4.5]"
   ]
  },
  {
   "cell_type": "code",
   "execution_count": 13,
   "id": "cae4f24e-f9e8-4ed2-a139-92c6138e243d",
   "metadata": {},
   "outputs": [
    {
     "data": {
      "text/plain": [
       "['1', True, 'Hello World', 4.5]"
      ]
     },
     "execution_count": 13,
     "metadata": {},
     "output_type": "execute_result"
    }
   ],
   "source": [
    "mylist"
   ]
  },
  {
   "cell_type": "code",
   "execution_count": 15,
   "id": "02cea41f-fe92-4f15-b2e7-8ddb0418a8ee",
   "metadata": {},
   "outputs": [
    {
     "data": {
      "text/plain": [
       "4"
      ]
     },
     "execution_count": 15,
     "metadata": {},
     "output_type": "execute_result"
    }
   ],
   "source": [
    "len(mylist)"
   ]
  },
  {
   "cell_type": "code",
   "execution_count": 21,
   "id": "fad55829-ea6d-48ef-b3e0-19427da73c90",
   "metadata": {},
   "outputs": [
    {
     "data": {
      "text/plain": [
       "4.5"
      ]
     },
     "execution_count": 21,
     "metadata": {},
     "output_type": "execute_result"
    }
   ],
   "source": [
    "#accessing elements from list same as of string characters using indexing\n",
    "mylist[3]"
   ]
  },
  {
   "cell_type": "code",
   "execution_count": 23,
   "id": "fc7b638e-8f37-483f-91d8-9166aa2df9b1",
   "metadata": {},
   "outputs": [
    {
     "data": {
      "text/plain": [
       "'Hello World'"
      ]
     },
     "execution_count": 23,
     "metadata": {},
     "output_type": "execute_result"
    }
   ],
   "source": [
    "mylist[-2]"
   ]
  },
  {
   "cell_type": "code",
   "execution_count": 25,
   "id": "9b53ecbc-9cad-4e35-90d1-88c507411088",
   "metadata": {},
   "outputs": [
    {
     "data": {
      "text/plain": [
       "['1', True, 'Hello World', 4.5]"
      ]
     },
     "execution_count": 25,
     "metadata": {},
     "output_type": "execute_result"
    }
   ],
   "source": [
    "mylist[::]"
   ]
  },
  {
   "cell_type": "code",
   "execution_count": 27,
   "id": "d7ae7781-ef04-43b4-990a-07417196d589",
   "metadata": {},
   "outputs": [
    {
     "data": {
      "text/plain": [
       "[4.5, 'Hello World', True, '1']"
      ]
     },
     "execution_count": 27,
     "metadata": {},
     "output_type": "execute_result"
    }
   ],
   "source": [
    "mylist[::-1] #reversing string elements"
   ]
  },
  {
   "cell_type": "code",
   "execution_count": 29,
   "id": "bec6d257-4db7-49ae-a9e7-edda00245976",
   "metadata": {},
   "outputs": [
    {
     "data": {
      "text/plain": [
       "[True, 'Hello World', 4.5]"
      ]
     },
     "execution_count": 29,
     "metadata": {},
     "output_type": "execute_result"
    }
   ],
   "source": [
    "mylist[1:]"
   ]
  },
  {
   "cell_type": "code",
   "execution_count": 31,
   "id": "53fe8944-e596-462c-9f84-6e2bf39c1eaa",
   "metadata": {},
   "outputs": [],
   "source": [
    "#Slicing is same as string function second value is uptil and not including it "
   ]
  },
  {
   "cell_type": "code",
   "execution_count": 33,
   "id": "24774493-e75b-4276-a2a1-fb2bb6fcc267",
   "metadata": {},
   "outputs": [
    {
     "data": {
      "text/plain": [
       "['1', True, 'Hello World']"
      ]
     },
     "execution_count": 33,
     "metadata": {},
     "output_type": "execute_result"
    }
   ],
   "source": [
    "mylist[0:3]"
   ]
  },
  {
   "cell_type": "code",
   "execution_count": 35,
   "id": "7c929718-edda-4214-99c9-7446d38bf0b8",
   "metadata": {},
   "outputs": [
    {
     "data": {
      "text/plain": [
       "['1', 'Hello World']"
      ]
     },
     "execution_count": 35,
     "metadata": {},
     "output_type": "execute_result"
    }
   ],
   "source": [
    "mylist[0:3:2]"
   ]
  },
  {
   "cell_type": "code",
   "execution_count": 43,
   "id": "81e15911-ea01-4fa4-9e52-5a2a4336e01d",
   "metadata": {},
   "outputs": [
    {
     "name": "stdout",
     "output_type": "stream",
     "text": [
      "['1', '2', '3', 'one', 'two', 'three']\n"
     ]
    }
   ],
   "source": [
    "# so till here we have understood indexing , slicing, now we will see concatentation\n",
    "mylist=['1','2','3','one','two','three']\n",
    "print(mylist)"
   ]
  },
  {
   "cell_type": "code",
   "execution_count": 47,
   "id": "3c753dfd-1f2f-443b-bfbe-d3f8c7976662",
   "metadata": {},
   "outputs": [
    {
     "name": "stdout",
     "output_type": "stream",
     "text": [
      "['4', '5', 'four', 'five']\n"
     ]
    }
   ],
   "source": [
    "anotherlist=['4','5','four','five']\n",
    "print(anotherlist)"
   ]
  },
  {
   "cell_type": "code",
   "execution_count": 49,
   "id": "73ce62db-5ae7-41ef-92f4-de4036a13cff",
   "metadata": {},
   "outputs": [
    {
     "data": {
      "text/plain": [
       "['1', '2', '3', 'one', 'two', 'three', '4', '5', 'four', 'five']"
      ]
     },
     "execution_count": 49,
     "metadata": {},
     "output_type": "execute_result"
    }
   ],
   "source": [
    "mylist + anotherlist"
   ]
  },
  {
   "cell_type": "code",
   "execution_count": 51,
   "id": "71e97103-0ace-477a-bef3-010dbcd6028e",
   "metadata": {},
   "outputs": [
    {
     "data": {
      "text/plain": [
       "['1', '2', '3', 'one', 'two', 'three']"
      ]
     },
     "execution_count": 51,
     "metadata": {},
     "output_type": "execute_result"
    }
   ],
   "source": [
    "mylist"
   ]
  },
  {
   "cell_type": "code",
   "execution_count": 53,
   "id": "09ee1501-2acc-4a61-9cf7-560eebe36d31",
   "metadata": {},
   "outputs": [
    {
     "data": {
      "text/plain": [
       "['4', '5', 'four', 'five']"
      ]
     },
     "execution_count": 53,
     "metadata": {},
     "output_type": "execute_result"
    }
   ],
   "source": [
    "anotherlist"
   ]
  },
  {
   "cell_type": "code",
   "execution_count": 55,
   "id": "27567094-b5af-46c6-a4ea-bb8c3f53839c",
   "metadata": {},
   "outputs": [],
   "source": [
    "newlist = mylist + anotherlist"
   ]
  },
  {
   "cell_type": "code",
   "execution_count": 57,
   "id": "288a9658-d7f0-4901-a827-c8dcf19dd367",
   "metadata": {},
   "outputs": [
    {
     "data": {
      "text/plain": [
       "['1', '2', '3', 'one', 'two', 'three', '4', '5', 'four', 'five']"
      ]
     },
     "execution_count": 57,
     "metadata": {},
     "output_type": "execute_result"
    }
   ],
   "source": [
    "newlist"
   ]
  },
  {
   "cell_type": "code",
   "execution_count": 59,
   "id": "84f5180d-1687-4c6e-8849-f3e5fef1daff",
   "metadata": {},
   "outputs": [
    {
     "data": {
      "text/plain": [
       "10"
      ]
     },
     "execution_count": 59,
     "metadata": {},
     "output_type": "execute_result"
    }
   ],
   "source": [
    "len(newlist)"
   ]
  },
  {
   "cell_type": "code",
   "execution_count": 61,
   "id": "5d3c1415-3593-49ee-a4e0-495173d878d8",
   "metadata": {},
   "outputs": [
    {
     "data": {
      "text/plain": [
       "['five', 'four', '5', '4', 'three', 'two', 'one', '3', '2', '1']"
      ]
     },
     "execution_count": 61,
     "metadata": {},
     "output_type": "execute_result"
    }
   ],
   "source": [
    "newlist[::-1]"
   ]
  },
  {
   "cell_type": "code",
   "execution_count": 63,
   "id": "17eae96f-4d47-4aab-aa9a-198f84161de1",
   "metadata": {},
   "outputs": [
    {
     "data": {
      "text/plain": [
       "['one', 'two', 'three']"
      ]
     },
     "execution_count": 63,
     "metadata": {},
     "output_type": "execute_result"
    }
   ],
   "source": [
    "newlist[3:6]"
   ]
  },
  {
   "cell_type": "code",
   "execution_count": 65,
   "id": "386e9f47-c946-45fb-8e44-ac0f5d382512",
   "metadata": {},
   "outputs": [],
   "source": [
    "#The difference with list and string is that, list holds different data type values unlike string is group of characters only\n",
    "#List can also change the value at specific index with different data type value whereas with string we cant change the character at a index"
   ]
  },
  {
   "cell_type": "code",
   "execution_count": 67,
   "id": "ca46992a-f2bb-4409-873a-4822d97d84be",
   "metadata": {},
   "outputs": [],
   "source": [
    "newlist[0]=\"ONE\""
   ]
  },
  {
   "cell_type": "code",
   "execution_count": 69,
   "id": "3dc39799-d871-47e5-9d3b-57a30725d8d7",
   "metadata": {},
   "outputs": [
    {
     "data": {
      "text/plain": [
       "['ONE', '2', '3', 'one', 'two', 'three', '4', '5', 'four', 'five']"
      ]
     },
     "execution_count": 69,
     "metadata": {},
     "output_type": "execute_result"
    }
   ],
   "source": [
    "newlist"
   ]
  },
  {
   "cell_type": "code",
   "execution_count": 77,
   "id": "033bfe54-e1b0-4fca-8568-51b3e0cf6b83",
   "metadata": {},
   "outputs": [],
   "source": [
    "#We will learn important functions for List\n",
    "#Append a list item to increase value at end of list"
   ]
  },
  {
   "cell_type": "code",
   "execution_count": 73,
   "id": "4f3e44e6-9662-4304-b733-c9a1cbadbbb0",
   "metadata": {},
   "outputs": [],
   "source": [
    "newlist.append('6')"
   ]
  },
  {
   "cell_type": "code",
   "execution_count": 75,
   "id": "86126f3a-e80f-4033-93e1-6ce7d4b4fd34",
   "metadata": {},
   "outputs": [
    {
     "data": {
      "text/plain": [
       "['ONE', '2', '3', 'one', 'two', 'three', '4', '5', 'four', 'five', '6']"
      ]
     },
     "execution_count": 75,
     "metadata": {},
     "output_type": "execute_result"
    }
   ],
   "source": [
    "newlist"
   ]
  },
  {
   "cell_type": "code",
   "execution_count": 79,
   "id": "a8e26f12-57db-4468-8ca2-3d712c8d1750",
   "metadata": {},
   "outputs": [],
   "source": [
    "newlist.append('six')"
   ]
  },
  {
   "cell_type": "code",
   "execution_count": 81,
   "id": "9f9a3a27-3346-4deb-bf78-3f407734ea36",
   "metadata": {},
   "outputs": [
    {
     "data": {
      "text/plain": [
       "['ONE', '2', '3', 'one', 'two', 'three', '4', '5', 'four', 'five', '6', 'six']"
      ]
     },
     "execution_count": 81,
     "metadata": {},
     "output_type": "execute_result"
    }
   ],
   "source": [
    "newlist"
   ]
  },
  {
   "cell_type": "code",
   "execution_count": 83,
   "id": "11242294-2939-44fa-850e-103635e9c6cb",
   "metadata": {},
   "outputs": [],
   "source": [
    "#Now we want to remove last item of the list using pop method"
   ]
  },
  {
   "cell_type": "code",
   "execution_count": 85,
   "id": "0e886564-fc00-4fc3-a305-e57223782902",
   "metadata": {},
   "outputs": [
    {
     "data": {
      "text/plain": [
       "'six'"
      ]
     },
     "execution_count": 85,
     "metadata": {},
     "output_type": "execute_result"
    }
   ],
   "source": [
    "newlist.pop()"
   ]
  },
  {
   "cell_type": "code",
   "execution_count": 87,
   "id": "75e86171-4e1a-4636-8c86-4925763c26be",
   "metadata": {},
   "outputs": [
    {
     "data": {
      "text/plain": [
       "['ONE', '2', '3', 'one', 'two', 'three', '4', '5', 'four', 'five', '6']"
      ]
     },
     "execution_count": 87,
     "metadata": {},
     "output_type": "execute_result"
    }
   ],
   "source": [
    "newlist"
   ]
  },
  {
   "cell_type": "code",
   "execution_count": 89,
   "id": "91d7bc8c-77b4-4c31-8596-7542e424fdea",
   "metadata": {},
   "outputs": [],
   "source": [
    "#by default pop() is same as pop(-1) and removes last item from list "
   ]
  },
  {
   "cell_type": "code",
   "execution_count": 91,
   "id": "5786498d-2b39-4abc-aac5-ca002bab1654",
   "metadata": {},
   "outputs": [],
   "source": [
    "#we can also save the popped element to see wat was removed from list"
   ]
  },
  {
   "cell_type": "code",
   "execution_count": 93,
   "id": "a83526b9-1f42-4330-bb73-c69be77576b0",
   "metadata": {},
   "outputs": [],
   "source": [
    "popped_item=newlist.pop()"
   ]
  },
  {
   "cell_type": "code",
   "execution_count": 95,
   "id": "ecb0a979-8ab4-43ae-af0d-325fb80d9fda",
   "metadata": {},
   "outputs": [
    {
     "data": {
      "text/plain": [
       "'6'"
      ]
     },
     "execution_count": 95,
     "metadata": {},
     "output_type": "execute_result"
    }
   ],
   "source": [
    "popped_item"
   ]
  },
  {
   "cell_type": "code",
   "execution_count": 97,
   "id": "31ebbbe8-dd4d-40da-8d77-7ad19df9035c",
   "metadata": {},
   "outputs": [
    {
     "data": {
      "text/plain": [
       "['ONE', '2', '3', 'one', 'two', 'three', '4', '5', 'four', 'five']"
      ]
     },
     "execution_count": 97,
     "metadata": {},
     "output_type": "execute_result"
    }
   ],
   "source": [
    "newlist"
   ]
  },
  {
   "cell_type": "code",
   "execution_count": 99,
   "id": "d745a8fa-5e5b-4f65-8be6-4911d41a156a",
   "metadata": {},
   "outputs": [
    {
     "data": {
      "text/plain": [
       "10"
      ]
     },
     "execution_count": 99,
     "metadata": {},
     "output_type": "execute_result"
    }
   ],
   "source": [
    "len(newlist)"
   ]
  },
  {
   "cell_type": "code",
   "execution_count": 101,
   "id": "7778e108-b0f2-4118-8c9d-32a08f89328b",
   "metadata": {},
   "outputs": [],
   "source": [
    "#With pop() function we can also provide index to remove element from specific index"
   ]
  },
  {
   "cell_type": "code",
   "execution_count": 103,
   "id": "5bc18103-ffa5-4752-ad79-a5157bb593cf",
   "metadata": {},
   "outputs": [
    {
     "data": {
      "text/plain": [
       "'ONE'"
      ]
     },
     "execution_count": 103,
     "metadata": {},
     "output_type": "execute_result"
    }
   ],
   "source": [
    "newlist.pop(0)"
   ]
  },
  {
   "cell_type": "code",
   "execution_count": 105,
   "id": "1888f565-fc33-449a-b925-aef613f314cc",
   "metadata": {},
   "outputs": [
    {
     "data": {
      "text/plain": [
       "['2', '3', 'one', 'two', 'three', '4', '5', 'four', 'five']"
      ]
     },
     "execution_count": 105,
     "metadata": {},
     "output_type": "execute_result"
    }
   ],
   "source": [
    "newlist"
   ]
  },
  {
   "cell_type": "code",
   "execution_count": 107,
   "id": "0564e978-2ee4-4e47-ba5b-56d289e9e7fd",
   "metadata": {},
   "outputs": [],
   "source": [
    "newlist.append('1')"
   ]
  },
  {
   "cell_type": "code",
   "execution_count": 109,
   "id": "6f7df3fe-f535-43cf-af9c-311fc65a88fb",
   "metadata": {},
   "outputs": [
    {
     "data": {
      "text/plain": [
       "['2', '3', 'one', 'two', 'three', '4', '5', 'four', 'five', '1']"
      ]
     },
     "execution_count": 109,
     "metadata": {},
     "output_type": "execute_result"
    }
   ],
   "source": [
    "newlist"
   ]
  },
  {
   "cell_type": "code",
   "execution_count": 111,
   "id": "d8c41e20-224c-4484-b6e7-da55f2a3ea4d",
   "metadata": {},
   "outputs": [
    {
     "data": {
      "text/plain": [
       "'three'"
      ]
     },
     "execution_count": 111,
     "metadata": {},
     "output_type": "execute_result"
    }
   ],
   "source": [
    "newlist.pop(4)"
   ]
  },
  {
   "cell_type": "code",
   "execution_count": 113,
   "id": "243b024d-1d7e-4789-a829-182fc49eb2ae",
   "metadata": {},
   "outputs": [
    {
     "data": {
      "text/plain": [
       "['2', '3', 'one', 'two', '4', '5', 'four', 'five', '1']"
      ]
     },
     "execution_count": 113,
     "metadata": {},
     "output_type": "execute_result"
    }
   ],
   "source": [
    "newlist"
   ]
  },
  {
   "cell_type": "code",
   "execution_count": 115,
   "id": "c407c9e5-2f80-4ade-a3dc-532276e79744",
   "metadata": {},
   "outputs": [],
   "source": [
    "#We also have methods to sort the list in alpha numeric format"
   ]
  },
  {
   "cell_type": "code",
   "execution_count": 117,
   "id": "ba693110-1460-468a-9734-28da2b1d36f5",
   "metadata": {},
   "outputs": [],
   "source": [
    "newlist=['a','x','g','e','i','y','b']"
   ]
  },
  {
   "cell_type": "code",
   "execution_count": 121,
   "id": "09e0868a-6c02-4f40-9628-77d2cc5f1006",
   "metadata": {},
   "outputs": [],
   "source": [
    "#sort() function does the sort operation inplace and returns no new list and same list is altered hence the return type for sort()\n",
    "#function is NoneType similar to void return type. None is special data type to signify no value for variable\n",
    "newlist.sort()"
   ]
  },
  {
   "cell_type": "code",
   "execution_count": 123,
   "id": "5b322c4c-5c17-4ce1-8cf9-5cddaf2e6b9b",
   "metadata": {},
   "outputs": [
    {
     "data": {
      "text/plain": [
       "['a', 'b', 'e', 'g', 'i', 'x', 'y']"
      ]
     },
     "execution_count": 123,
     "metadata": {},
     "output_type": "execute_result"
    }
   ],
   "source": [
    "newlist"
   ]
  },
  {
   "cell_type": "code",
   "execution_count": 125,
   "id": "83baa4bf-6a8a-4d31-9045-a7c869efd075",
   "metadata": {},
   "outputs": [],
   "source": [
    "returnType=newlist.sort()"
   ]
  },
  {
   "cell_type": "code",
   "execution_count": 127,
   "id": "b9a9f121-56e9-4cdd-a3a9-4a3dd9e9d10f",
   "metadata": {},
   "outputs": [],
   "source": [
    "returnType"
   ]
  },
  {
   "cell_type": "code",
   "execution_count": 129,
   "id": "c8c6ebd7-b951-4c28-96ad-e452ed9d8ee1",
   "metadata": {},
   "outputs": [
    {
     "data": {
      "text/plain": [
       "NoneType"
      ]
     },
     "execution_count": 129,
     "metadata": {},
     "output_type": "execute_result"
    }
   ],
   "source": [
    "type(returnType)"
   ]
  },
  {
   "cell_type": "code",
   "execution_count": 131,
   "id": "8dcc379b-84c9-408e-97a7-ecb1ade0082c",
   "metadata": {},
   "outputs": [
    {
     "data": {
      "text/plain": [
       "['a', 'b', 'e', 'g', 'i', 'x', 'y']"
      ]
     },
     "execution_count": 131,
     "metadata": {},
     "output_type": "execute_result"
    }
   ],
   "source": [
    "newlist"
   ]
  },
  {
   "cell_type": "code",
   "execution_count": 133,
   "id": "80687567-dac5-4831-a3ff-24a68cb153ac",
   "metadata": {},
   "outputs": [],
   "source": [
    "#Here u can see newlist is already sorted in the place and no new list is returned and returnType is NoneType"
   ]
  },
  {
   "cell_type": "code",
   "execution_count": 135,
   "id": "a6b4dd39-55a0-4c93-9bc4-6dbe05a366bd",
   "metadata": {},
   "outputs": [],
   "source": [
    "#If we want to save it to new list we can do it with workaround like this"
   ]
  },
  {
   "cell_type": "code",
   "execution_count": 137,
   "id": "a3423fc4-644d-4fc6-a8c7-77430930d45b",
   "metadata": {},
   "outputs": [],
   "source": [
    "newlist.sort()"
   ]
  },
  {
   "cell_type": "code",
   "execution_count": 139,
   "id": "78f14cd8-afc1-4d11-b70a-af2674e76136",
   "metadata": {},
   "outputs": [],
   "source": [
    "mylist = newlist"
   ]
  },
  {
   "cell_type": "code",
   "execution_count": 141,
   "id": "f246d98f-5e0e-4310-804a-daad4c764635",
   "metadata": {},
   "outputs": [
    {
     "data": {
      "text/plain": [
       "['a', 'b', 'e', 'g', 'i', 'x', 'y']"
      ]
     },
     "execution_count": 141,
     "metadata": {},
     "output_type": "execute_result"
    }
   ],
   "source": [
    "mylist"
   ]
  },
  {
   "cell_type": "code",
   "execution_count": 143,
   "id": "64ae48a2-e910-4186-aafe-e33ca93ddb3d",
   "metadata": {},
   "outputs": [],
   "source": [
    "#Similarly lets try for number list"
   ]
  },
  {
   "cell_type": "code",
   "execution_count": 145,
   "id": "3fc5eebe-7b62-4800-b4c9-d09c270634cf",
   "metadata": {},
   "outputs": [],
   "source": [
    "numList=[3,8,1,0,9,4,2,6]"
   ]
  },
  {
   "cell_type": "code",
   "execution_count": 147,
   "id": "1bceccf2-fae0-4066-b331-bddfa405a68e",
   "metadata": {},
   "outputs": [
    {
     "data": {
      "text/plain": [
       "[3, 8, 1, 0, 9, 4, 2, 6]"
      ]
     },
     "execution_count": 147,
     "metadata": {},
     "output_type": "execute_result"
    }
   ],
   "source": [
    "numList"
   ]
  },
  {
   "cell_type": "code",
   "execution_count": 163,
   "id": "31c97504-4874-4a67-9438-84976f7d5eb1",
   "metadata": {},
   "outputs": [],
   "source": [
    "numList.sort()"
   ]
  },
  {
   "cell_type": "code",
   "execution_count": 165,
   "id": "5df307f6-3170-4693-853c-ac7868bed3a4",
   "metadata": {},
   "outputs": [
    {
     "data": {
      "text/plain": [
       "[0, 1, 2, 3, 4, 6, 8, 9]"
      ]
     },
     "execution_count": 165,
     "metadata": {},
     "output_type": "execute_result"
    }
   ],
   "source": [
    "numList"
   ]
  },
  {
   "cell_type": "code",
   "execution_count": 167,
   "id": "3a97b4d7-b05b-4576-acfb-5416863f3710",
   "metadata": {},
   "outputs": [
    {
     "data": {
      "text/plain": [
       "[9, 8, 6, 4, 3, 2, 1, 0]"
      ]
     },
     "execution_count": 167,
     "metadata": {},
     "output_type": "execute_result"
    }
   ],
   "source": [
    "numList[::-1]"
   ]
  },
  {
   "cell_type": "code",
   "execution_count": 153,
   "id": "7c259f6c-31be-4b75-8f4c-85b540a94188",
   "metadata": {},
   "outputs": [],
   "source": [
    "#We can also do the reverse of the list using reverse() method"
   ]
  },
  {
   "cell_type": "code",
   "execution_count": 169,
   "id": "ac63e6e6-76a1-4679-b00e-a757960f8339",
   "metadata": {},
   "outputs": [],
   "source": [
    "numList.reverse()"
   ]
  },
  {
   "cell_type": "code",
   "execution_count": 171,
   "id": "368a5460-8976-43d3-b7d5-54863757774d",
   "metadata": {},
   "outputs": [
    {
     "data": {
      "text/plain": [
       "[9, 8, 6, 4, 3, 2, 1, 0]"
      ]
     },
     "execution_count": 171,
     "metadata": {},
     "output_type": "execute_result"
    }
   ],
   "source": [
    "numList"
   ]
  },
  {
   "cell_type": "code",
   "execution_count": 159,
   "id": "0a36acff-4f7a-44bd-808c-40ea6695bcf0",
   "metadata": {},
   "outputs": [],
   "source": [
    "# this reverse method is also using inplace and no new list is returned"
   ]
  },
  {
   "cell_type": "code",
   "execution_count": 181,
   "id": "d1c9142e-461e-48c4-8f11-12ced065b12d",
   "metadata": {},
   "outputs": [
    {
     "ename": "ValueError",
     "evalue": "list.remove(x): x not in list",
     "output_type": "error",
     "traceback": [
      "\u001b[0;31m---------------------------------------------------------------------------\u001b[0m",
      "\u001b[0;31mValueError\u001b[0m                                Traceback (most recent call last)",
      "Cell \u001b[0;32mIn[181], line 1\u001b[0m\n\u001b[0;32m----> 1\u001b[0m numList\u001b[38;5;241m.\u001b[39mremove(\u001b[38;5;241m6\u001b[39m)\n",
      "\u001b[0;31mValueError\u001b[0m: list.remove(x): x not in list"
     ]
    }
   ],
   "source": [
    "numList.remove(6)"
   ]
  },
  {
   "cell_type": "markdown",
   "id": "921584c1-fbc9-4e5d-ba44-64a9998b1bcc",
   "metadata": {},
   "source": [
    "numList"
   ]
  },
  {
   "cell_type": "code",
   "execution_count": 183,
   "id": "b958ae18-5c4d-4319-89fd-e1dd9cf0b6a7",
   "metadata": {},
   "outputs": [
    {
     "data": {
      "text/plain": [
       "[9, 8, 4, 3, 2, 1, 0]"
      ]
     },
     "execution_count": 183,
     "metadata": {},
     "output_type": "execute_result"
    }
   ],
   "source": [
    "numList"
   ]
  },
  {
   "cell_type": "code",
   "execution_count": null,
   "id": "5fc83ed5-b172-4558-9e71-65edb650cb9d",
   "metadata": {},
   "outputs": [],
   "source": [
    "#remove method removes the said element in the bracket and this value should be present in the list else throws error"
   ]
  }
 ],
 "metadata": {
  "kernelspec": {
   "display_name": "Python 3 (ipykernel)",
   "language": "python",
   "name": "python3"
  },
  "language_info": {
   "codemirror_mode": {
    "name": "ipython",
    "version": 3
   },
   "file_extension": ".py",
   "mimetype": "text/x-python",
   "name": "python",
   "nbconvert_exporter": "python",
   "pygments_lexer": "ipython3",
   "version": "3.12.7"
  }
 },
 "nbformat": 4,
 "nbformat_minor": 5
}
