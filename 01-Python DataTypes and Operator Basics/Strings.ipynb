{
 "cells": [
  {
   "cell_type": "code",
   "execution_count": 1,
   "id": "cf8347af-cdef-44b4-bf2f-1984109ac929",
   "metadata": {},
   "outputs": [
    {
     "data": {
      "text/plain": [
       "'hello'"
      ]
     },
     "execution_count": 1,
     "metadata": {},
     "output_type": "execute_result"
    }
   ],
   "source": [
    "'hello'"
   ]
  },
  {
   "cell_type": "code",
   "execution_count": 5,
   "id": "ea182cf2-a17f-4393-8aa6-ca52042a13ad",
   "metadata": {},
   "outputs": [
    {
     "data": {
      "text/plain": [
       "'hello world'"
      ]
     },
     "execution_count": 5,
     "metadata": {},
     "output_type": "execute_result"
    }
   ],
   "source": [
    "\"hello world\"\n"
   ]
  },
  {
   "cell_type": "code",
   "execution_count": 7,
   "id": "0f1a6715-cd10-4c7d-8d44-fc9208ee8b5e",
   "metadata": {},
   "outputs": [
    {
     "data": {
      "text/plain": [
       "' I am Hungry'"
      ]
     },
     "execution_count": 7,
     "metadata": {},
     "output_type": "execute_result"
    }
   ],
   "source": [
    "' I am Hungry'"
   ]
  },
  {
   "cell_type": "code",
   "execution_count": 9,
   "id": "71879303-e13c-4be1-855e-6c7a8a2cf1f6",
   "metadata": {},
   "outputs": [
    {
     "data": {
      "text/plain": [
       "'hello world \\n'"
      ]
     },
     "execution_count": 9,
     "metadata": {},
     "output_type": "execute_result"
    }
   ],
   "source": [
    "\"hello world \\n\""
   ]
  },
  {
   "cell_type": "code",
   "execution_count": 11,
   "id": "cb65af27-b7a0-4bbc-a99b-3cf4089edc45",
   "metadata": {},
   "outputs": [
    {
     "data": {
      "text/plain": [
       "'hello world \\n'"
      ]
     },
     "execution_count": 11,
     "metadata": {},
     "output_type": "execute_result"
    }
   ],
   "source": [
    "'hello world \\n'"
   ]
  },
  {
   "cell_type": "code",
   "execution_count": 15,
   "id": "98d273be-a1ea-4a67-bf58-2b516b09f46c",
   "metadata": {},
   "outputs": [
    {
     "name": "stdout",
     "output_type": "stream",
     "text": [
      "hello\n"
     ]
    }
   ],
   "source": [
    "print(\"hello\")"
   ]
  },
  {
   "cell_type": "code",
   "execution_count": 17,
   "id": "f57316d5-c130-4b79-97df-aac3f0783032",
   "metadata": {},
   "outputs": [
    {
     "name": "stdout",
     "output_type": "stream",
     "text": [
      "hello world\n"
     ]
    }
   ],
   "source": [
    "print('hello world')"
   ]
  },
  {
   "cell_type": "code",
   "execution_count": 23,
   "id": "13137f2c-e295-4924-900c-0847fec820e2",
   "metadata": {},
   "outputs": [
    {
     "ename": "SyntaxError",
     "evalue": "unterminated string literal (detected at line 1) (4143500305.py, line 1)",
     "output_type": "error",
     "traceback": [
      "\u001b[0;36m  Cell \u001b[0;32mIn[23], line 1\u001b[0;36m\u001b[0m\n\u001b[0;31m    print ('I'm hungry')\u001b[0m\n\u001b[0m                      ^\u001b[0m\n\u001b[0;31mSyntaxError\u001b[0m\u001b[0;31m:\u001b[0m unterminated string literal (detected at line 1)\n"
     ]
    }
   ],
   "source": [
    "print ('I'm hungry')"
   ]
  },
  {
   "cell_type": "code",
   "execution_count": 21,
   "id": "d312745f-cbdd-47a5-a785-48aad775b313",
   "metadata": {},
   "outputs": [
    {
     "name": "stdout",
     "output_type": "stream",
     "text": [
      "I'm hungry\n"
     ]
    }
   ],
   "source": [
    "print (\"I'm hungry\")"
   ]
  },
  {
   "cell_type": "code",
   "execution_count": 25,
   "id": "58426544-5a02-47cd-a7ff-5b82a225f49a",
   "metadata": {},
   "outputs": [
    {
     "name": "stdout",
     "output_type": "stream",
     "text": [
      "123\n"
     ]
    }
   ],
   "source": [
    "print(\"123\")"
   ]
  },
  {
   "cell_type": "code",
   "execution_count": 31,
   "id": "53b9b97a-2e90-434d-9e87-ff62d7d90830",
   "metadata": {},
   "outputs": [
    {
     "data": {
      "text/plain": [
       "'everybody'"
      ]
     },
     "execution_count": 31,
     "metadata": {},
     "output_type": "execute_result"
    }
   ],
   "source": [
    "\"hi\"\n",
    "\"everybody\""
   ]
  },
  {
   "cell_type": "code",
   "execution_count": 27,
   "id": "b81f47d8-b92b-49e9-b8db-95ead1390879",
   "metadata": {},
   "outputs": [
    {
     "name": "stdout",
     "output_type": "stream",
     "text": [
      "hi\n",
      "everybody\n"
     ]
    }
   ],
   "source": [
    "print(\"hi\")\n",
    "print(\"everybody\")"
   ]
  },
  {
   "cell_type": "code",
   "execution_count": 33,
   "id": "f03b8639-0f85-4b88-8499-25ead744ffaa",
   "metadata": {},
   "outputs": [
    {
     "name": "stdout",
     "output_type": "stream",
     "text": [
      "hello \n",
      "world\n"
     ]
    }
   ],
   "source": [
    "print(\"hello \\nworld\")"
   ]
  },
  {
   "cell_type": "code",
   "execution_count": 35,
   "id": "5a5523a6-03a6-4675-b0ee-a29ac1b3fed8",
   "metadata": {},
   "outputs": [
    {
     "name": "stdout",
     "output_type": "stream",
     "text": [
      "hello \tworld\n"
     ]
    }
   ],
   "source": [
    "print (\"hello \\tworld\")"
   ]
  },
  {
   "cell_type": "code",
   "execution_count": 37,
   "id": "fd0e162c-ae44-4cc5-a87c-be383c8913d8",
   "metadata": {},
   "outputs": [
    {
     "name": "stdout",
     "output_type": "stream",
     "text": [
      " I am hungry  \n"
     ]
    }
   ],
   "source": [
    "print(\" I am hungry  \")"
   ]
  },
  {
   "cell_type": "code",
   "execution_count": 39,
   "id": "45fa95f4-f5dd-418c-bc06-58eaea239592",
   "metadata": {},
   "outputs": [
    {
     "data": {
      "text/plain": [
       "5"
      ]
     },
     "execution_count": 39,
     "metadata": {},
     "output_type": "execute_result"
    }
   ],
   "source": [
    "len(\"hello\")"
   ]
  },
  {
   "cell_type": "code",
   "execution_count": 41,
   "id": "40c153d0-cb79-41df-b55f-b5ea52e7a687",
   "metadata": {},
   "outputs": [
    {
     "data": {
      "text/plain": [
       "5"
      ]
     },
     "execution_count": 41,
     "metadata": {},
     "output_type": "execute_result"
    }
   ],
   "source": [
    "len('world')"
   ]
  },
  {
   "cell_type": "code",
   "execution_count": 43,
   "id": "a7026f18-8190-4a5e-a17c-4514a6ad9ced",
   "metadata": {},
   "outputs": [
    {
     "data": {
      "text/plain": [
       "15"
      ]
     },
     "execution_count": 43,
     "metadata": {},
     "output_type": "execute_result"
    }
   ],
   "source": [
    "len(\"Priyanka Prabhu\")"
   ]
  },
  {
   "cell_type": "code",
   "execution_count": null,
   "id": "75914462-ae64-4192-95a4-c385d9e26bf7",
   "metadata": {},
   "outputs": [],
   "source": []
  }
 ],
 "metadata": {
  "kernelspec": {
   "display_name": "Python 3 (ipykernel)",
   "language": "python",
   "name": "python3"
  },
  "language_info": {
   "codemirror_mode": {
    "name": "ipython",
    "version": 3
   },
   "file_extension": ".py",
   "mimetype": "text/x-python",
   "name": "python",
   "nbconvert_exporter": "python",
   "pygments_lexer": "ipython3",
   "version": "3.12.7"
  }
 },
 "nbformat": 4,
 "nbformat_minor": 5
}
