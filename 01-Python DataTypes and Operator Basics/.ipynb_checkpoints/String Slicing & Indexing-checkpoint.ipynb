{
 "cells": [
  {
   "cell_type": "code",
   "execution_count": 1,
   "id": "34879da3-dab6-4909-afae-f8277eea476f",
   "metadata": {},
   "outputs": [],
   "source": [
    "mystring=\"education\""
   ]
  },
  {
   "cell_type": "code",
   "execution_count": 3,
   "id": "627f9382-2648-40b0-87ca-038fe9a38267",
   "metadata": {},
   "outputs": [
    {
     "data": {
      "text/plain": [
       "'education'"
      ]
     },
     "execution_count": 3,
     "metadata": {},
     "output_type": "execute_result"
    }
   ],
   "source": [
    "mystring"
   ]
  },
  {
   "cell_type": "code",
   "execution_count": 5,
   "id": "7dbf1f42-d0c6-477e-88b8-9d89f3978c74",
   "metadata": {},
   "outputs": [
    {
     "data": {
      "text/plain": [
       "9"
      ]
     },
     "execution_count": 5,
     "metadata": {},
     "output_type": "execute_result"
    }
   ],
   "source": [
    "len(mystring)"
   ]
  },
  {
   "cell_type": "code",
   "execution_count": 7,
   "id": "4328742c-e42d-4673-9a93-7d1f82703f72",
   "metadata": {},
   "outputs": [
    {
     "data": {
      "text/plain": [
       "'e'"
      ]
     },
     "execution_count": 7,
     "metadata": {},
     "output_type": "execute_result"
    }
   ],
   "source": [
    "mystring[0]"
   ]
  },
  {
   "cell_type": "code",
   "execution_count": 9,
   "id": "b5dfc66a-e19c-4ee1-9c0f-788a7f46b34a",
   "metadata": {},
   "outputs": [
    {
     "data": {
      "text/plain": [
       "'n'"
      ]
     },
     "execution_count": 9,
     "metadata": {},
     "output_type": "execute_result"
    }
   ],
   "source": [
    "mystring[-1]"
   ]
  },
  {
   "cell_type": "markdown",
   "id": "cf1e1448-7972-48df-a95c-18591da3039d",
   "metadata": {},
   "source": [
    "Here the second value is upto that index not including it"
   ]
  },
  {
   "cell_type": "code",
   "execution_count": 11,
   "id": "46633a7f-8031-4588-a061-7542c5bab3ef",
   "metadata": {},
   "outputs": [
    {
     "data": {
      "text/plain": [
       "'edu'"
      ]
     },
     "execution_count": 11,
     "metadata": {},
     "output_type": "execute_result"
    }
   ],
   "source": [
    "mystring[:3]"
   ]
  },
  {
   "cell_type": "code",
   "execution_count": 14,
   "id": "065e3641-af71-4244-bd7b-bf9c1cc66e5b",
   "metadata": {},
   "outputs": [
    {
     "data": {
      "text/plain": [
       "'ducation'"
      ]
     },
     "execution_count": 14,
     "metadata": {},
     "output_type": "execute_result"
    }
   ],
   "source": [
    "mystring[1:]"
   ]
  },
  {
   "cell_type": "code",
   "execution_count": 16,
   "id": "cadfd532-c9db-4b2a-9170-91c4eb71d3b2",
   "metadata": {},
   "outputs": [
    {
     "data": {
      "text/plain": [
       "'ed'"
      ]
     },
     "execution_count": 16,
     "metadata": {},
     "output_type": "execute_result"
    }
   ],
   "source": [
    "mystring[0:2]"
   ]
  },
  {
   "cell_type": "code",
   "execution_count": 18,
   "id": "942c7b92-d50f-42c1-a9dc-1f68b61d45b7",
   "metadata": {},
   "outputs": [
    {
     "data": {
      "text/plain": [
       "'education'"
      ]
     },
     "execution_count": 18,
     "metadata": {},
     "output_type": "execute_result"
    }
   ],
   "source": [
    "mystring[::]"
   ]
  },
  {
   "cell_type": "raw",
   "id": "221d4770-8954-4be4-b8c4-8d179d19c03e",
   "metadata": {},
   "source": [
    "reverse the string using a simple trick"
   ]
  },
  {
   "cell_type": "code",
   "execution_count": 20,
   "id": "4575c479-7299-4d8d-bb5b-b55ba4f494a4",
   "metadata": {},
   "outputs": [
    {
     "data": {
      "text/plain": [
       "'noitacude'"
      ]
     },
     "execution_count": 20,
     "metadata": {},
     "output_type": "execute_result"
    }
   ],
   "source": [
    "mystring[::-1]"
   ]
  },
  {
   "cell_type": "code",
   "execution_count": 24,
   "id": "fda7aead-06f1-4cb1-840c-e9872358aa12",
   "metadata": {},
   "outputs": [
    {
     "data": {
      "text/plain": [
       "'ducation'"
      ]
     },
     "execution_count": 24,
     "metadata": {},
     "output_type": "execute_result"
    }
   ],
   "source": [
    "mystring[1::1]"
   ]
  },
  {
   "cell_type": "code",
   "execution_count": 26,
   "id": "9d10ea0d-2905-4c4c-bd6e-8cc2036943cd",
   "metadata": {},
   "outputs": [
    {
     "data": {
      "text/plain": [
       "'euain'"
      ]
     },
     "execution_count": 26,
     "metadata": {},
     "output_type": "execute_result"
    }
   ],
   "source": [
    "mystring[0::2]"
   ]
  },
  {
   "cell_type": "code",
   "execution_count": 28,
   "id": "9f2a7cdc-8439-4c00-ae99-8fb5ce9ca53a",
   "metadata": {},
   "outputs": [
    {
     "data": {
      "text/plain": [
       "'dcto'"
      ]
     },
     "execution_count": 28,
     "metadata": {},
     "output_type": "execute_result"
    }
   ],
   "source": [
    "mystring[1::2]"
   ]
  },
  {
   "cell_type": "code",
   "execution_count": 34,
   "id": "de365d5e-f372-46fd-be24-650d4b80a892",
   "metadata": {},
   "outputs": [
    {
     "data": {
      "text/plain": [
       "'d'"
      ]
     },
     "execution_count": 34,
     "metadata": {},
     "output_type": "execute_result"
    }
   ],
   "source": [
    "mystring[1:2:2]"
   ]
  },
  {
   "cell_type": "code",
   "execution_count": 32,
   "id": "4fd198ff-add3-4c2e-b309-2500963a705b",
   "metadata": {},
   "outputs": [
    {
     "data": {
      "text/plain": [
       "1"
      ]
     },
     "execution_count": 32,
     "metadata": {},
     "output_type": "execute_result"
    }
   ],
   "source": [
    "len(mystring[1:2:2])"
   ]
  },
  {
   "cell_type": "code",
   "execution_count": 36,
   "id": "587d3837-b809-4557-bbb0-8657245e14c2",
   "metadata": {},
   "outputs": [
    {
     "data": {
      "text/plain": [
       "'e'"
      ]
     },
     "execution_count": 36,
     "metadata": {},
     "output_type": "execute_result"
    }
   ],
   "source": [
    "mystring[0::-1]"
   ]
  },
  {
   "cell_type": "code",
   "execution_count": 38,
   "id": "a9b15627-dcde-4c43-975b-96ced0e45a18",
   "metadata": {},
   "outputs": [
    {
     "data": {
      "text/plain": [
       "'noitacud'"
      ]
     },
     "execution_count": 38,
     "metadata": {},
     "output_type": "execute_result"
    }
   ],
   "source": [
    "mystring[:0:-1]"
   ]
  },
  {
   "cell_type": "code",
   "execution_count": null,
   "id": "d12f5c52-8c46-4c80-8071-2d83200ed44d",
   "metadata": {},
   "outputs": [],
   "source": []
  }
 ],
 "metadata": {
  "kernelspec": {
   "display_name": "Python 3 (ipykernel)",
   "language": "python",
   "name": "python3"
  },
  "language_info": {
   "codemirror_mode": {
    "name": "ipython",
    "version": 3
   },
   "file_extension": ".py",
   "mimetype": "text/x-python",
   "name": "python",
   "nbconvert_exporter": "python",
   "pygments_lexer": "ipython3",
   "version": "3.12.7"
  }
 },
 "nbformat": 4,
 "nbformat_minor": 5
}
