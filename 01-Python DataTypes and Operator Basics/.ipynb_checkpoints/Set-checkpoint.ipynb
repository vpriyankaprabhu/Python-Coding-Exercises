{
 "cells": [
  {
   "cell_type": "markdown",
   "id": "f73dbee8-756d-4319-a658-67cf43bc5b61",
   "metadata": {},
   "source": [
    "Sets are unordered collection of unique elements"
   ]
  },
  {
   "cell_type": "code",
   "execution_count": 2,
   "id": "44797e1d-f396-425c-87dc-9b751c09419b",
   "metadata": {},
   "outputs": [],
   "source": [
    "myset = set()"
   ]
  },
  {
   "cell_type": "code",
   "execution_count": 6,
   "id": "80d96921-42e1-437e-9016-e5e22ff020ca",
   "metadata": {},
   "outputs": [
    {
     "data": {
      "text/plain": [
       "set"
      ]
     },
     "execution_count": 6,
     "metadata": {},
     "output_type": "execute_result"
    }
   ],
   "source": [
    "type(myset)"
   ]
  },
  {
   "cell_type": "code",
   "execution_count": 8,
   "id": "5c606059-fd1b-4876-91f8-7b5c85def72b",
   "metadata": {},
   "outputs": [
    {
     "data": {
      "text/plain": [
       "set()"
      ]
     },
     "execution_count": 8,
     "metadata": {},
     "output_type": "execute_result"
    }
   ],
   "source": [
    "myset"
   ]
  },
  {
   "cell_type": "code",
   "execution_count": 10,
   "id": "9d76589f-e9b6-45e2-a077-e28e6373f4aa",
   "metadata": {},
   "outputs": [],
   "source": [
    "#we can see here its an empty set"
   ]
  },
  {
   "cell_type": "code",
   "execution_count": 12,
   "id": "f3305569-fe5b-4ca0-84c2-ebf1fcb5dbe1",
   "metadata": {},
   "outputs": [],
   "source": [
    "#lets now add values to set"
   ]
  },
  {
   "cell_type": "code",
   "execution_count": 14,
   "id": "145a62a8-d719-4ea8-a498-7e3312dc02ce",
   "metadata": {},
   "outputs": [],
   "source": [
    "myset.add(1)"
   ]
  },
  {
   "cell_type": "code",
   "execution_count": 16,
   "id": "e52347ec-6ccb-434b-ac7f-603e60790efe",
   "metadata": {},
   "outputs": [
    {
     "data": {
      "text/plain": [
       "{1}"
      ]
     },
     "execution_count": 16,
     "metadata": {},
     "output_type": "execute_result"
    }
   ],
   "source": [
    "myset"
   ]
  },
  {
   "cell_type": "code",
   "execution_count": 18,
   "id": "3ecfb5b5-18dd-47fb-9eb4-915ceccc241e",
   "metadata": {},
   "outputs": [],
   "source": [
    "myset.add(2)"
   ]
  },
  {
   "cell_type": "code",
   "execution_count": 22,
   "id": "bf8d74b3-6fce-4a8e-885c-8209f253702c",
   "metadata": {},
   "outputs": [
    {
     "data": {
      "text/plain": [
       "{1, 2}"
      ]
     },
     "execution_count": 22,
     "metadata": {},
     "output_type": "execute_result"
    }
   ],
   "source": [
    "myset"
   ]
  },
  {
   "cell_type": "code",
   "execution_count": 24,
   "id": "afc512a4-6c88-48af-9d50-94997481a4df",
   "metadata": {},
   "outputs": [],
   "source": [
    "#Here myset is a set and not dictionary the {} doesnt indicate its dictionary but its set with unique elements and no key value pairs here"
   ]
  },
  {
   "cell_type": "code",
   "execution_count": 26,
   "id": "46ae50f3-8363-4885-82d4-a36fc7edabf8",
   "metadata": {},
   "outputs": [],
   "source": [
    "#lets try to repeat 2 in here \n",
    "myset.add(2)"
   ]
  },
  {
   "cell_type": "code",
   "execution_count": 28,
   "id": "6e521333-ce2e-4caa-84f4-747c1d6f42ea",
   "metadata": {},
   "outputs": [
    {
     "data": {
      "text/plain": [
       "{1, 2}"
      ]
     },
     "execution_count": 28,
     "metadata": {},
     "output_type": "execute_result"
    }
   ],
   "source": [
    "myset"
   ]
  },
  {
   "cell_type": "code",
   "execution_count": 30,
   "id": "36740da0-a0c0-41a4-b768-a67300340304",
   "metadata": {},
   "outputs": [],
   "source": [
    "#It doesnt get added as its unique elements only"
   ]
  },
  {
   "cell_type": "code",
   "execution_count": 32,
   "id": "c6bd5fbb-1d5c-4dd6-8808-a21881ba5c13",
   "metadata": {},
   "outputs": [],
   "source": [
    "newSet = set()"
   ]
  },
  {
   "cell_type": "code",
   "execution_count": 34,
   "id": "73ea2753-ab5e-45b2-aaf7-305d0aee0e96",
   "metadata": {},
   "outputs": [],
   "source": [
    "newSet.add('1')"
   ]
  },
  {
   "cell_type": "code",
   "execution_count": 36,
   "id": "4afc822e-1aad-4d31-b077-9553643d2c24",
   "metadata": {},
   "outputs": [],
   "source": [
    "newSet.add(4.5)"
   ]
  },
  {
   "cell_type": "code",
   "execution_count": 38,
   "id": "770bb6d5-f5b9-473c-b75a-27b7806e24e8",
   "metadata": {},
   "outputs": [],
   "source": [
    "newSet.add('5')"
   ]
  },
  {
   "cell_type": "code",
   "execution_count": 40,
   "id": "4707f5c0-9f2b-42e6-97d1-99bb6155e1e8",
   "metadata": {},
   "outputs": [],
   "source": [
    "newSet.add(\"Hello World\")"
   ]
  },
  {
   "cell_type": "code",
   "execution_count": 44,
   "id": "70e153f6-d6c3-4af1-9034-c9dc020fd8e5",
   "metadata": {},
   "outputs": [],
   "source": [
    "newSet.add('5')"
   ]
  },
  {
   "cell_type": "code",
   "execution_count": 46,
   "id": "f3a7a0af-9faf-4b19-b63b-283124546bb1",
   "metadata": {},
   "outputs": [
    {
     "data": {
      "text/plain": [
       "{'1', 4.5, '5', 'Hello World'}"
      ]
     },
     "execution_count": 46,
     "metadata": {},
     "output_type": "execute_result"
    }
   ],
   "source": [
    "newSet"
   ]
  },
  {
   "cell_type": "code",
   "execution_count": 48,
   "id": "957926bc-0e0d-484f-af31-5da49bdda33a",
   "metadata": {},
   "outputs": [],
   "source": [
    "#so we can see '5' was not added again and its an unordered type with unique elements only"
   ]
  },
  {
   "cell_type": "code",
   "execution_count": 50,
   "id": "7dd515f5-8bb4-4e1b-b37f-1434617cc436",
   "metadata": {},
   "outputs": [],
   "source": [
    "#The major use case is to cast witn list containing repeated elements"
   ]
  },
  {
   "cell_type": "code",
   "execution_count": 52,
   "id": "8f11181b-d8bf-4306-be81-1bb62042ad09",
   "metadata": {},
   "outputs": [],
   "source": [
    "mylist = [5,5,5,5,3,2,4,2,4,3,2,4,2,1,54,6,3,2,4,54]"
   ]
  },
  {
   "cell_type": "code",
   "execution_count": 54,
   "id": "d23be8e3-67c6-4f2a-a6e2-e0ff6623a3e9",
   "metadata": {},
   "outputs": [
    {
     "data": {
      "text/plain": [
       "[5, 5, 5, 5, 3, 2, 4, 2, 4, 3, 2, 4, 2, 1, 54, 6, 3, 2, 4, 54]"
      ]
     },
     "execution_count": 54,
     "metadata": {},
     "output_type": "execute_result"
    }
   ],
   "source": [
    "mylist"
   ]
  },
  {
   "cell_type": "code",
   "execution_count": 56,
   "id": "2ab2bbac-237a-48a4-9689-301bb161df34",
   "metadata": {},
   "outputs": [
    {
     "data": {
      "text/plain": [
       "{1, 2, 3, 4, 5, 6, 54}"
      ]
     },
     "execution_count": 56,
     "metadata": {},
     "output_type": "execute_result"
    }
   ],
   "source": [
    "set(mylist)"
   ]
  },
  {
   "cell_type": "code",
   "execution_count": null,
   "id": "6dc4c202-485b-4032-b3cb-6f32213a55ef",
   "metadata": {},
   "outputs": [],
   "source": [
    "#so we can see its unordered sequence of unique elements only"
   ]
  }
 ],
 "metadata": {
  "kernelspec": {
   "display_name": "Python 3 (ipykernel)",
   "language": "python",
   "name": "python3"
  },
  "language_info": {
   "codemirror_mode": {
    "name": "ipython",
    "version": 3
   },
   "file_extension": ".py",
   "mimetype": "text/x-python",
   "name": "python",
   "nbconvert_exporter": "python",
   "pygments_lexer": "ipython3",
   "version": "3.12.7"
  }
 },
 "nbformat": 4,
 "nbformat_minor": 5
}
