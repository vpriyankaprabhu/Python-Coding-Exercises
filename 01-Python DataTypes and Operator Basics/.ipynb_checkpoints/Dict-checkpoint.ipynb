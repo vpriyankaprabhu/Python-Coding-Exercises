{
 "cells": [
  {
   "cell_type": "code",
   "execution_count": 1,
   "id": "301aa133-e1af-432d-9390-bd6497203fe2",
   "metadata": {},
   "outputs": [],
   "source": [
    "#Lists are ordered list or sequence of the values and it helps to access values with index or location\n",
    "#Lists we can perform indexing and slicing"
   ]
  },
  {
   "cell_type": "code",
   "execution_count": 7,
   "id": "0be8e2ca-3bcd-4de4-b64c-04469b6655e1",
   "metadata": {},
   "outputs": [],
   "source": [
    "#Dictionaries are unordered sequence with different data in key value pairs and there is no indexing so elements \n",
    "#can be accessed via keys and values can be obtained. it can be used when we want to fetch the list kind of datatype with known key value and not with position or index"
   ]
  },
  {
   "cell_type": "code",
   "execution_count": 9,
   "id": "8b2e587c-d88b-4ff5-b315-71658704b0af",
   "metadata": {},
   "outputs": [],
   "source": [
    "#they are unordered and cannot be sorted"
   ]
  },
  {
   "cell_type": "code",
   "execution_count": 11,
   "id": "14d86b08-d339-4466-8cee-76725261a5da",
   "metadata": {},
   "outputs": [],
   "source": [
    "mydict = {'key1':'value1', 'key2':'value2', 'key3':'value3'}"
   ]
  },
  {
   "cell_type": "code",
   "execution_count": 13,
   "id": "61f7802f-941f-4ae4-9453-d26e6961d429",
   "metadata": {},
   "outputs": [
    {
     "data": {
      "text/plain": [
       "{'key1': 'value1', 'key2': 'value2', 'key3': 'value3'}"
      ]
     },
     "execution_count": 13,
     "metadata": {},
     "output_type": "execute_result"
    }
   ],
   "source": [
    "mydict"
   ]
  },
  {
   "cell_type": "code",
   "execution_count": 15,
   "id": "5074e874-1f77-4cf1-ba3f-23304a0c067f",
   "metadata": {},
   "outputs": [
    {
     "data": {
      "text/plain": [
       "'value2'"
      ]
     },
     "execution_count": 15,
     "metadata": {},
     "output_type": "execute_result"
    }
   ],
   "source": [
    "mydict['key2']"
   ]
  },
  {
   "cell_type": "code",
   "execution_count": 17,
   "id": "b782b9e6-24e6-4bcb-ab3d-c5310f96a3ca",
   "metadata": {},
   "outputs": [
    {
     "data": {
      "text/plain": [
       "'value3'"
      ]
     },
     "execution_count": 17,
     "metadata": {},
     "output_type": "execute_result"
    }
   ],
   "source": [
    "mydict['key3']"
   ]
  },
  {
   "cell_type": "code",
   "execution_count": 19,
   "id": "c318e697-8877-4b60-8e21-a3f55bde3ae5",
   "metadata": {},
   "outputs": [
    {
     "data": {
      "text/plain": [
       "{'key1': 'value1', 'key2': 'value2', 'key3': 'value3'}"
      ]
     },
     "execution_count": 19,
     "metadata": {},
     "output_type": "execute_result"
    }
   ],
   "source": [
    "mydict"
   ]
  },
  {
   "cell_type": "code",
   "execution_count": 21,
   "id": "5952ab45-8ebf-47bf-ac16-94dc015ac5d6",
   "metadata": {},
   "outputs": [],
   "source": [
    "#dictionaries can have mix of key value pairs"
   ]
  },
  {
   "cell_type": "code",
   "execution_count": 23,
   "id": "f4f942ef-1675-4672-851b-673b192041f5",
   "metadata": {},
   "outputs": [],
   "source": [
    "my_mix_dict={'key1': 'value1', 2:4, 5.1:5.5}"
   ]
  },
  {
   "cell_type": "code",
   "execution_count": 25,
   "id": "08e9fcbb-9e94-49d7-aa41-2c5ee74202cb",
   "metadata": {},
   "outputs": [
    {
     "data": {
      "text/plain": [
       "{'key1': 'value1', 2: 4, 5.1: 5.5}"
      ]
     },
     "execution_count": 25,
     "metadata": {},
     "output_type": "execute_result"
    }
   ],
   "source": [
    "my_mix_dict"
   ]
  },
  {
   "cell_type": "code",
   "execution_count": 27,
   "id": "70b4ac18-dd2f-4cd1-b91d-fbf0c4bd50d1",
   "metadata": {},
   "outputs": [
    {
     "data": {
      "text/plain": [
       "4"
      ]
     },
     "execution_count": 27,
     "metadata": {},
     "output_type": "execute_result"
    }
   ],
   "source": [
    "my_mix_dict[2]"
   ]
  },
  {
   "cell_type": "code",
   "execution_count": 33,
   "id": "a7df65f2-4c08-46aa-9a08-2a6c76bb53ee",
   "metadata": {},
   "outputs": [
    {
     "data": {
      "text/plain": [
       "5.5"
      ]
     },
     "execution_count": 33,
     "metadata": {},
     "output_type": "execute_result"
    }
   ],
   "source": [
    "my_mix_dict[5.1]"
   ]
  },
  {
   "cell_type": "code",
   "execution_count": 35,
   "id": "606fac80-4e2a-49ce-9305-32e63081823f",
   "metadata": {},
   "outputs": [],
   "source": [
    "#dictionaries can also save lists and another dictionaries too its possible"
   ]
  },
  {
   "cell_type": "code",
   "execution_count": 47,
   "id": "6c2f476f-1399-4973-9820-bd8297e36282",
   "metadata": {},
   "outputs": [],
   "source": [
    "mynewdict={'one':1, 'list': [1,2,4,5,6], 'dict':{'d1':[4,5,6,7], 'd2':'string'}}"
   ]
  },
  {
   "cell_type": "code",
   "execution_count": 49,
   "id": "38f4e442-3c6a-411d-bc31-d9b30c59153b",
   "metadata": {},
   "outputs": [
    {
     "data": {
      "text/plain": [
       "{'one': 1,\n",
       " 'list': [1, 2, 4, 5, 6],\n",
       " 'dict': {'d1': [4, 5, 6, 7], 'd2': 'string'}}"
      ]
     },
     "execution_count": 49,
     "metadata": {},
     "output_type": "execute_result"
    }
   ],
   "source": [
    "mynewdict"
   ]
  },
  {
   "cell_type": "code",
   "execution_count": 51,
   "id": "63409007-4fa7-4c71-8b60-ec8f09f1e7c5",
   "metadata": {},
   "outputs": [
    {
     "data": {
      "text/plain": [
       "1"
      ]
     },
     "execution_count": 51,
     "metadata": {},
     "output_type": "execute_result"
    }
   ],
   "source": [
    "mynewdict['one']"
   ]
  },
  {
   "cell_type": "code",
   "execution_count": 53,
   "id": "57b40aad-0e27-4a0f-a465-252dcb20d9d2",
   "metadata": {},
   "outputs": [
    {
     "data": {
      "text/plain": [
       "[1, 2, 4, 5, 6]"
      ]
     },
     "execution_count": 53,
     "metadata": {},
     "output_type": "execute_result"
    }
   ],
   "source": [
    "mynewdict['list']"
   ]
  },
  {
   "cell_type": "code",
   "execution_count": 55,
   "id": "89ba4b83-60de-4fd5-bdbe-adbeb1ac8455",
   "metadata": {},
   "outputs": [
    {
     "data": {
      "text/plain": [
       "{'d1': [4, 5, 6, 7], 'd2': 'string'}"
      ]
     },
     "execution_count": 55,
     "metadata": {},
     "output_type": "execute_result"
    }
   ],
   "source": [
    "mynewdict['dict']"
   ]
  },
  {
   "cell_type": "code",
   "execution_count": 57,
   "id": "055f1ddf-1c75-4c30-b165-b22e07422f5a",
   "metadata": {},
   "outputs": [
    {
     "data": {
      "text/plain": [
       "4"
      ]
     },
     "execution_count": 57,
     "metadata": {},
     "output_type": "execute_result"
    }
   ],
   "source": [
    "#we can access the list elements from dict value by stacking the key with the index as follows: say we want to grab 4\n",
    "mynewdict['list'][2]"
   ]
  },
  {
   "cell_type": "code",
   "execution_count": 59,
   "id": "79822f53-4206-470c-b95b-62943d1be223",
   "metadata": {},
   "outputs": [
    {
     "data": {
      "text/plain": [
       "6"
      ]
     },
     "execution_count": 59,
     "metadata": {},
     "output_type": "execute_result"
    }
   ],
   "source": [
    "mynewdict['list'][-1]"
   ]
  },
  {
   "cell_type": "code",
   "execution_count": 99,
   "id": "5c2cfe11-7268-4941-9a55-f82c254d70d6",
   "metadata": {},
   "outputs": [
    {
     "name": "stdout",
     "output_type": "stream",
     "text": [
      "mynewdict : {'one': 1, 'list': [1, 2, 4, 5, 6], 'dict': {'d1': [4, 5, 6, 7], 'd2': 'string'}}\n",
      "\n",
      "tempList : [1, 2, 4, 5, 6]\n",
      "\n",
      "print values : [4, 5, 6]\n",
      "\n",
      "using dict print values required : [4, 5, 6]\n"
     ]
    }
   ],
   "source": [
    "#how does this stacking of elements work?\n",
    "mynewdict={'one':1, 'list': [1,2,4,5,6], 'dict':{'d1':[4,5,6,7], 'd2':'string'}}\n",
    "print(\"mynewdict : {}\".format(mynewdict))\n",
    "\n",
    "#lets fetch the list and then print 4 to 6 elements of the list\n",
    "tempList = mynewdict['list']\n",
    "print(\"\\ntempList : {}\".format(tempList))\n",
    "\n",
    "print(\"\\nprint values : {}\".format(tempList[2:]))\n",
    "\n",
    "#instead with dictionary utility we can do it in one line by stacking elements\n",
    "print(\"\\nusing dict print values required : {}\".format(mynewdict['list'][2:]))"
   ]
  },
  {
   "cell_type": "code",
   "execution_count": 61,
   "id": "4e542817-59d6-4871-afe8-d12622e31cf9",
   "metadata": {},
   "outputs": [
    {
     "data": {
      "text/plain": [
       "4"
      ]
     },
     "execution_count": 61,
     "metadata": {},
     "output_type": "execute_result"
    }
   ],
   "source": [
    "#we can access the nested dict elements from dict value by stacking the key with the index as follows: say we want to grab 4\n",
    "mynewdict['dict']['d1'][0]"
   ]
  },
  {
   "cell_type": "code",
   "execution_count": 65,
   "id": "da3f797b-69ee-424f-9442-f482ed2e2210",
   "metadata": {},
   "outputs": [
    {
     "data": {
      "text/plain": [
       "'string'"
      ]
     },
     "execution_count": 65,
     "metadata": {},
     "output_type": "execute_result"
    }
   ],
   "source": [
    "mynewdict['dict']['d2']"
   ]
  },
  {
   "cell_type": "code",
   "execution_count": 67,
   "id": "f5d9644b-12f7-4df2-b1b2-9069343cfee2",
   "metadata": {},
   "outputs": [],
   "source": [
    "#if we want to access char of string we can use index for string"
   ]
  },
  {
   "cell_type": "code",
   "execution_count": 69,
   "id": "7781b154-6b5a-46b0-8bdd-e7272c6ed356",
   "metadata": {},
   "outputs": [
    {
     "data": {
      "text/plain": [
       "'n'"
      ]
     },
     "execution_count": 69,
     "metadata": {},
     "output_type": "execute_result"
    }
   ],
   "source": [
    "mynewdict['dict']['d2'][4]"
   ]
  },
  {
   "cell_type": "code",
   "execution_count": 71,
   "id": "35bdf386-79f3-4299-88d7-956fc86ee500",
   "metadata": {},
   "outputs": [
    {
     "data": {
      "text/plain": [
       "'gnirts'"
      ]
     },
     "execution_count": 71,
     "metadata": {},
     "output_type": "execute_result"
    }
   ],
   "source": [
    "#reverse string\n",
    "mynewdict['dict']['d2'][::-1]"
   ]
  },
  {
   "cell_type": "code",
   "execution_count": 73,
   "id": "d10208a5-4264-43d4-8ec4-f6bbff978500",
   "metadata": {},
   "outputs": [],
   "source": [
    "# these dictionaries can be used in an example such as to grab prices for different objects such as \n",
    "price_lookup = {'apples' : 350, 'onion':30, 'oranges':80, 'rice': 80, 'sugar':75}"
   ]
  },
  {
   "cell_type": "code",
   "execution_count": 75,
   "id": "d3344409-99ea-47b5-bb6f-822b0428dd71",
   "metadata": {},
   "outputs": [
    {
     "data": {
      "text/plain": [
       "350"
      ]
     },
     "execution_count": 75,
     "metadata": {},
     "output_type": "execute_result"
    }
   ],
   "source": [
    "price_lookup['apples']"
   ]
  },
  {
   "cell_type": "code",
   "execution_count": 77,
   "id": "af85dc50-3f07-4760-9daf-689fbf376c9a",
   "metadata": {},
   "outputs": [
    {
     "data": {
      "text/plain": [
       "80"
      ]
     },
     "execution_count": 77,
     "metadata": {},
     "output_type": "execute_result"
    }
   ],
   "source": [
    "price_lookup['rice']"
   ]
  },
  {
   "cell_type": "code",
   "execution_count": 79,
   "id": "5e272d3f-b5dd-4083-b3da-11eee68cebef",
   "metadata": {},
   "outputs": [
    {
     "data": {
      "text/plain": [
       "{'apples': 350, 'onion': 30, 'oranges': 80, 'rice': 80, 'sugar': 75}"
      ]
     },
     "execution_count": 79,
     "metadata": {},
     "output_type": "execute_result"
    }
   ],
   "source": [
    "price_lookup"
   ]
  },
  {
   "cell_type": "code",
   "execution_count": 101,
   "id": "9bac8db0-6631-4657-8bf6-74ca7980ef1d",
   "metadata": {},
   "outputs": [],
   "source": [
    "#Now lets see how to append a new value to price_lookup dictionary"
   ]
  },
  {
   "cell_type": "code",
   "execution_count": 103,
   "id": "07e211d1-457c-4122-9bce-b1b90ab4b515",
   "metadata": {},
   "outputs": [],
   "source": [
    "price_lookup['banana'] = 70"
   ]
  },
  {
   "cell_type": "code",
   "execution_count": 105,
   "id": "4a57fa58-db55-4d37-ab25-14f4e36d6933",
   "metadata": {},
   "outputs": [
    {
     "data": {
      "text/plain": [
       "{'apples': 350,\n",
       " 'onion': 30,\n",
       " 'oranges': 80,\n",
       " 'rice': 80,\n",
       " 'sugar': 75,\n",
       " 'banana': 70}"
      ]
     },
     "execution_count": 105,
     "metadata": {},
     "output_type": "execute_result"
    }
   ],
   "source": [
    "price_lookup"
   ]
  },
  {
   "cell_type": "code",
   "execution_count": 107,
   "id": "d755e043-f8ab-460a-88f9-8370f52cdbe2",
   "metadata": {},
   "outputs": [],
   "source": [
    "price_lookup['milk'] = 45"
   ]
  },
  {
   "cell_type": "code",
   "execution_count": 109,
   "id": "b7b6598d-009f-462e-868a-f639238f02f1",
   "metadata": {},
   "outputs": [
    {
     "data": {
      "text/plain": [
       "{'apples': 350,\n",
       " 'onion': 30,\n",
       " 'oranges': 80,\n",
       " 'rice': 80,\n",
       " 'sugar': 75,\n",
       " 'banana': 70,\n",
       " 'milk': 45}"
      ]
     },
     "execution_count": 109,
     "metadata": {},
     "output_type": "execute_result"
    }
   ],
   "source": [
    "price_lookup"
   ]
  },
  {
   "cell_type": "code",
   "execution_count": 111,
   "id": "0bc95571-e723-4a46-bbc4-9d418c9d48b9",
   "metadata": {},
   "outputs": [
    {
     "data": {
      "text/plain": [
       "45"
      ]
     },
     "execution_count": 111,
     "metadata": {},
     "output_type": "execute_result"
    }
   ],
   "source": [
    "price_lookup['milk']"
   ]
  },
  {
   "cell_type": "code",
   "execution_count": 113,
   "id": "99942d66-bb8e-4370-91d2-81690a6affb3",
   "metadata": {},
   "outputs": [],
   "source": [
    "# we can also modify the values in the key value pairs inplace as follows\n",
    "price_lookup['rice']=100"
   ]
  },
  {
   "cell_type": "code",
   "execution_count": 115,
   "id": "4f140485-f59f-4abc-bc94-c22b9cbdfecd",
   "metadata": {},
   "outputs": [
    {
     "data": {
      "text/plain": [
       "100"
      ]
     },
     "execution_count": 115,
     "metadata": {},
     "output_type": "execute_result"
    }
   ],
   "source": [
    "price_lookup['rice']"
   ]
  },
  {
   "cell_type": "code",
   "execution_count": 117,
   "id": "f2fa7e20-e30f-4c1e-b063-8bdf56bbaf4e",
   "metadata": {},
   "outputs": [
    {
     "data": {
      "text/plain": [
       "{'apples': 350,\n",
       " 'onion': 30,\n",
       " 'oranges': 80,\n",
       " 'rice': 100,\n",
       " 'sugar': 75,\n",
       " 'banana': 70,\n",
       " 'milk': 45}"
      ]
     },
     "execution_count": 117,
     "metadata": {},
     "output_type": "execute_result"
    }
   ],
   "source": [
    "price_lookup"
   ]
  },
  {
   "cell_type": "code",
   "execution_count": 121,
   "id": "1384da06-5c55-4c0c-bfb6-69e69de16309",
   "metadata": {},
   "outputs": [
    {
     "data": {
      "text/plain": [
       "dict_keys(['apples', 'onion', 'oranges', 'rice', 'sugar', 'banana', 'milk'])"
      ]
     },
     "execution_count": 121,
     "metadata": {},
     "output_type": "execute_result"
    }
   ],
   "source": [
    "#Now lets understand few useful functions for dictionaries to get all keys\n",
    "price_lookup.keys()"
   ]
  },
  {
   "cell_type": "code",
   "execution_count": 125,
   "id": "4d23592c-3dc2-4e76-8086-ea1abccdb1fa",
   "metadata": {},
   "outputs": [
    {
     "data": {
      "text/plain": [
       "dict_values([350, 30, 80, 100, 75, 70, 45])"
      ]
     },
     "execution_count": 125,
     "metadata": {},
     "output_type": "execute_result"
    }
   ],
   "source": [
    "#Now lets understand few useful functions for dictionaries to get all values\n",
    "price_lookup.values()"
   ]
  },
  {
   "cell_type": "code",
   "execution_count": 127,
   "id": "cc2e1603-acce-47c9-bfaf-72fbdaa25343",
   "metadata": {},
   "outputs": [
    {
     "data": {
      "text/plain": [
       "dict_items([('apples', 350), ('onion', 30), ('oranges', 80), ('rice', 100), ('sugar', 75), ('banana', 70), ('milk', 45)])"
      ]
     },
     "execution_count": 127,
     "metadata": {},
     "output_type": "execute_result"
    }
   ],
   "source": [
    "#Now lets understand few useful functions for dictionaries to get all items of the dictionaries which is actually single single tuples\n",
    "price_lookup.items()"
   ]
  },
  {
   "cell_type": "code",
   "execution_count": 129,
   "id": "b10185d6-e1c0-4bdc-98d1-0053b4437227",
   "metadata": {},
   "outputs": [],
   "source": [
    "#Tuples represented using ()\n",
    "#Lists represented using []\n",
    "#Dictionaries represented using {}\n"
   ]
  },
  {
   "cell_type": "code",
   "execution_count": null,
   "id": "0d201e13-8259-4e81-a7e9-964eb2c33447",
   "metadata": {},
   "outputs": [],
   "source": []
  }
 ],
 "metadata": {
  "kernelspec": {
   "display_name": "Python 3 (ipykernel)",
   "language": "python",
   "name": "python3"
  },
  "language_info": {
   "codemirror_mode": {
    "name": "ipython",
    "version": 3
   },
   "file_extension": ".py",
   "mimetype": "text/x-python",
   "name": "python",
   "nbconvert_exporter": "python",
   "pygments_lexer": "ipython3",
   "version": "3.12.7"
  }
 },
 "nbformat": 4,
 "nbformat_minor": 5
}
