{
 "cells": [
  {
   "cell_type": "code",
   "execution_count": 1,
   "id": "46d0cfb4-06eb-4965-af12-14a48db6af28",
   "metadata": {},
   "outputs": [],
   "source": [
    "#only in jupyter notebook we can create files as below: else we need to create file by vi or text editor and save file"
   ]
  },
  {
   "cell_type": "code",
   "execution_count": 3,
   "id": "0882c0c2-f4ee-431b-9cdb-1e51135bf45c",
   "metadata": {},
   "outputs": [
    {
     "name": "stderr",
     "output_type": "stream",
     "text": [
      "UsageError: %%writefile is a cell magic, but the cell body is empty.\n"
     ]
    }
   ],
   "source": [
    "%%writefile myfile.txt"
   ]
  },
  {
   "cell_type": "code",
   "execution_count": 103,
   "id": "fb946c5a-df8f-416f-8036-506da6a001dc",
   "metadata": {},
   "outputs": [
    {
     "name": "stdout",
     "output_type": "stream",
     "text": [
      "Overwriting myfile.txt\n"
     ]
    }
   ],
   "source": [
    "%%writefile myfile.txt\n",
    "Hi this is a new text file\n",
    "We will be learning to use basic I/O operations on Files\n",
    "So we will need this text file to open and read the contents of this file\n",
    "We will now save this file"
   ]
  },
  {
   "cell_type": "code",
   "execution_count": 7,
   "id": "ba303171-a200-4cb6-8516-6c4612eb08ce",
   "metadata": {},
   "outputs": [],
   "source": [
    "#so the file is now saved in current directory"
   ]
  },
  {
   "cell_type": "code",
   "execution_count": 9,
   "id": "b8f303ee-f94a-40ef-9e9a-9b52049fbb2f",
   "metadata": {},
   "outputs": [
    {
     "data": {
      "text/plain": [
       "'/Users/priprabh/Downloads/Priyanka/Learnings & Training/Python/Udemy Python/Python-Coding-Exercises/Python-Coding-Exercises/01-Python DataTypes and Operator Basics'"
      ]
     },
     "execution_count": 9,
     "metadata": {},
     "output_type": "execute_result"
    }
   ],
   "source": [
    "pwd"
   ]
  },
  {
   "cell_type": "code",
   "execution_count": 11,
   "id": "d7fff5cc-406d-4642-97c8-3c1c24a568f0",
   "metadata": {},
   "outputs": [],
   "source": [
    "myfile = open('myfile.txt')"
   ]
  },
  {
   "cell_type": "code",
   "execution_count": 13,
   "id": "4a2e2d6c-a868-498f-ba74-e3c3496d4af2",
   "metadata": {},
   "outputs": [],
   "source": [
    "#no error since we have given right path and right file name"
   ]
  },
  {
   "cell_type": "code",
   "execution_count": 15,
   "id": "3ca6b92a-5c56-4191-97b2-4c96dc3cfc90",
   "metadata": {},
   "outputs": [
    {
     "ename": "FileNotFoundError",
     "evalue": "[Errno 2] No such file or directory: '../myfile.txt'",
     "output_type": "error",
     "traceback": [
      "\u001b[0;31m---------------------------------------------------------------------------\u001b[0m",
      "\u001b[0;31mFileNotFoundError\u001b[0m                         Traceback (most recent call last)",
      "Cell \u001b[0;32mIn[15], line 1\u001b[0m\n\u001b[0;32m----> 1\u001b[0m myfile \u001b[38;5;241m=\u001b[39m \u001b[38;5;28mopen\u001b[39m(\u001b[38;5;124m'\u001b[39m\u001b[38;5;124m../myfile.txt\u001b[39m\u001b[38;5;124m'\u001b[39m)\n",
      "File \u001b[0;32m/opt/anaconda3/lib/python3.12/site-packages/IPython/core/interactiveshell.py:324\u001b[0m, in \u001b[0;36m_modified_open\u001b[0;34m(file, *args, **kwargs)\u001b[0m\n\u001b[1;32m    317\u001b[0m \u001b[38;5;28;01mif\u001b[39;00m file \u001b[38;5;129;01min\u001b[39;00m {\u001b[38;5;241m0\u001b[39m, \u001b[38;5;241m1\u001b[39m, \u001b[38;5;241m2\u001b[39m}:\n\u001b[1;32m    318\u001b[0m     \u001b[38;5;28;01mraise\u001b[39;00m \u001b[38;5;167;01mValueError\u001b[39;00m(\n\u001b[1;32m    319\u001b[0m         \u001b[38;5;124mf\u001b[39m\u001b[38;5;124m\"\u001b[39m\u001b[38;5;124mIPython won\u001b[39m\u001b[38;5;124m'\u001b[39m\u001b[38;5;124mt let you open fd=\u001b[39m\u001b[38;5;132;01m{\u001b[39;00mfile\u001b[38;5;132;01m}\u001b[39;00m\u001b[38;5;124m by default \u001b[39m\u001b[38;5;124m\"\u001b[39m\n\u001b[1;32m    320\u001b[0m         \u001b[38;5;124m\"\u001b[39m\u001b[38;5;124mas it is likely to crash IPython. If you know what you are doing, \u001b[39m\u001b[38;5;124m\"\u001b[39m\n\u001b[1;32m    321\u001b[0m         \u001b[38;5;124m\"\u001b[39m\u001b[38;5;124myou can use builtins\u001b[39m\u001b[38;5;124m'\u001b[39m\u001b[38;5;124m open.\u001b[39m\u001b[38;5;124m\"\u001b[39m\n\u001b[1;32m    322\u001b[0m     )\n\u001b[0;32m--> 324\u001b[0m \u001b[38;5;28;01mreturn\u001b[39;00m io_open(file, \u001b[38;5;241m*\u001b[39margs, \u001b[38;5;241m*\u001b[39m\u001b[38;5;241m*\u001b[39mkwargs)\n",
      "\u001b[0;31mFileNotFoundError\u001b[0m: [Errno 2] No such file or directory: '../myfile.txt'"
     ]
    }
   ],
   "source": [
    "myfile = open('../myfile.txt') # now the given path is wrong here"
   ]
  },
  {
   "cell_type": "code",
   "execution_count": 17,
   "id": "5da3db46-42fa-49f2-a2c7-26b6a2e23368",
   "metadata": {},
   "outputs": [
    {
     "ename": "FileNotFoundError",
     "evalue": "[Errno 2] No such file or directory: 'wrongfile.txt'",
     "output_type": "error",
     "traceback": [
      "\u001b[0;31m---------------------------------------------------------------------------\u001b[0m",
      "\u001b[0;31mFileNotFoundError\u001b[0m                         Traceback (most recent call last)",
      "Cell \u001b[0;32mIn[17], line 1\u001b[0m\n\u001b[0;32m----> 1\u001b[0m myfile \u001b[38;5;241m=\u001b[39m \u001b[38;5;28mopen\u001b[39m(\u001b[38;5;124m'\u001b[39m\u001b[38;5;124mwrongfile.txt\u001b[39m\u001b[38;5;124m'\u001b[39m)\n",
      "File \u001b[0;32m/opt/anaconda3/lib/python3.12/site-packages/IPython/core/interactiveshell.py:324\u001b[0m, in \u001b[0;36m_modified_open\u001b[0;34m(file, *args, **kwargs)\u001b[0m\n\u001b[1;32m    317\u001b[0m \u001b[38;5;28;01mif\u001b[39;00m file \u001b[38;5;129;01min\u001b[39;00m {\u001b[38;5;241m0\u001b[39m, \u001b[38;5;241m1\u001b[39m, \u001b[38;5;241m2\u001b[39m}:\n\u001b[1;32m    318\u001b[0m     \u001b[38;5;28;01mraise\u001b[39;00m \u001b[38;5;167;01mValueError\u001b[39;00m(\n\u001b[1;32m    319\u001b[0m         \u001b[38;5;124mf\u001b[39m\u001b[38;5;124m\"\u001b[39m\u001b[38;5;124mIPython won\u001b[39m\u001b[38;5;124m'\u001b[39m\u001b[38;5;124mt let you open fd=\u001b[39m\u001b[38;5;132;01m{\u001b[39;00mfile\u001b[38;5;132;01m}\u001b[39;00m\u001b[38;5;124m by default \u001b[39m\u001b[38;5;124m\"\u001b[39m\n\u001b[1;32m    320\u001b[0m         \u001b[38;5;124m\"\u001b[39m\u001b[38;5;124mas it is likely to crash IPython. If you know what you are doing, \u001b[39m\u001b[38;5;124m\"\u001b[39m\n\u001b[1;32m    321\u001b[0m         \u001b[38;5;124m\"\u001b[39m\u001b[38;5;124myou can use builtins\u001b[39m\u001b[38;5;124m'\u001b[39m\u001b[38;5;124m open.\u001b[39m\u001b[38;5;124m\"\u001b[39m\n\u001b[1;32m    322\u001b[0m     )\n\u001b[0;32m--> 324\u001b[0m \u001b[38;5;28;01mreturn\u001b[39;00m io_open(file, \u001b[38;5;241m*\u001b[39margs, \u001b[38;5;241m*\u001b[39m\u001b[38;5;241m*\u001b[39mkwargs)\n",
      "\u001b[0;31mFileNotFoundError\u001b[0m: [Errno 2] No such file or directory: 'wrongfile.txt'"
     ]
    }
   ],
   "source": [
    "myfile = open('wrongfile.txt') # now the given file name is wrong here"
   ]
  },
  {
   "cell_type": "code",
   "execution_count": 19,
   "id": "5c1987a8-466a-46f8-94d2-63539bd6feb1",
   "metadata": {},
   "outputs": [],
   "source": [
    "#FileNotFoundError error or Errno 2 is seen only when file path or file name is given wrong for open() function used to open file for reading or writing or any other operation"
   ]
  },
  {
   "cell_type": "code",
   "execution_count": 21,
   "id": "aa97cb5d-1204-4271-ae45-5eb381b02b17",
   "metadata": {},
   "outputs": [],
   "source": [
    "myfile = open('myfile.txt')"
   ]
  },
  {
   "cell_type": "code",
   "execution_count": 23,
   "id": "e2d26e25-e308-4c2b-bf65-9fea1c7464df",
   "metadata": {},
   "outputs": [
    {
     "data": {
      "text/plain": [
       "'Hi this is a new text file\\nWe will be learning to use basic I/O operations on Files\\nSo we will need this text file to open and read the contents of this file\\nWe will now save this file\\n'"
      ]
     },
     "execution_count": 23,
     "metadata": {},
     "output_type": "execute_result"
    }
   ],
   "source": [
    "myfile.read()"
   ]
  },
  {
   "cell_type": "code",
   "execution_count": 25,
   "id": "c35d75aa-c8f6-4252-896e-57a639acc1fa",
   "metadata": {},
   "outputs": [],
   "source": [
    "#all contents of file is displayed in one single line with \\n to indicate new line or seperate lines from file in one single line output"
   ]
  },
  {
   "cell_type": "code",
   "execution_count": 27,
   "id": "5a28e4b1-f054-4d66-92d7-cc2c4872054e",
   "metadata": {},
   "outputs": [
    {
     "data": {
      "text/plain": [
       "''"
      ]
     },
     "execution_count": 27,
     "metadata": {},
     "output_type": "execute_result"
    }
   ],
   "source": [
    "myfile.read()"
   ]
  },
  {
   "cell_type": "code",
   "execution_count": 29,
   "id": "1f1fcb93-2ce5-46c1-acbb-3430320a2387",
   "metadata": {},
   "outputs": [
    {
     "data": {
      "text/plain": [
       "0"
      ]
     },
     "execution_count": 29,
     "metadata": {},
     "output_type": "execute_result"
    }
   ],
   "source": [
    "#here we see blank because to read a file we use cursor so with first read() the file was read completely and cursor is now at end of file\n",
    "# we need to reset the cursor to start of file using seek() method\n",
    "myfile.seek(0)"
   ]
  },
  {
   "cell_type": "code",
   "execution_count": 31,
   "id": "59108e84-79e2-4bca-95ff-f6fa05634492",
   "metadata": {},
   "outputs": [
    {
     "data": {
      "text/plain": [
       "'Hi this is a new text file\\nWe will be learning to use basic I/O operations on Files\\nSo we will need this text file to open and read the contents of this file\\nWe will now save this file\\n'"
      ]
     },
     "execution_count": 31,
     "metadata": {},
     "output_type": "execute_result"
    }
   ],
   "source": [
    "myfile.read()"
   ]
  },
  {
   "cell_type": "code",
   "execution_count": 33,
   "id": "541c4d4b-aa69-47c9-8d60-9f37e6997901",
   "metadata": {},
   "outputs": [
    {
     "data": {
      "text/plain": [
       "''"
      ]
     },
     "execution_count": 33,
     "metadata": {},
     "output_type": "execute_result"
    }
   ],
   "source": [
    "myfile.read()"
   ]
  },
  {
   "cell_type": "code",
   "execution_count": 37,
   "id": "2e022c22-920b-436a-9b92-21ec67f4be29",
   "metadata": {},
   "outputs": [
    {
     "data": {
      "text/plain": [
       "0"
      ]
     },
     "execution_count": 37,
     "metadata": {},
     "output_type": "execute_result"
    }
   ],
   "source": [
    "#again cursor is at end of file\n",
    "myfile.seek(0)"
   ]
  },
  {
   "cell_type": "code",
   "execution_count": 39,
   "id": "98f47ba4-63ac-4a18-8c81-dbe99313d3e9",
   "metadata": {},
   "outputs": [
    {
     "data": {
      "text/plain": [
       "'Hi this is a new text file\\nWe will be learning to use basic I/O operations on Files\\nSo we will need this text file to open and read the contents of this file\\nWe will now save this file\\n'"
      ]
     },
     "execution_count": 39,
     "metadata": {},
     "output_type": "execute_result"
    }
   ],
   "source": [
    "myfile.read()"
   ]
  },
  {
   "cell_type": "code",
   "execution_count": 41,
   "id": "78604be6-4f45-4593-8af9-464616a2dc2c",
   "metadata": {},
   "outputs": [
    {
     "data": {
      "text/plain": [
       "0"
      ]
     },
     "execution_count": 41,
     "metadata": {},
     "output_type": "execute_result"
    }
   ],
   "source": [
    "myfile.seek(0)"
   ]
  },
  {
   "cell_type": "code",
   "execution_count": 43,
   "id": "83970f22-ea59-4882-b54e-6822d8d6f7ee",
   "metadata": {},
   "outputs": [],
   "source": [
    "contents = myfile.read()"
   ]
  },
  {
   "cell_type": "code",
   "execution_count": 45,
   "id": "eabbd4ac-c954-430e-83d5-696e60b5283e",
   "metadata": {},
   "outputs": [
    {
     "data": {
      "text/plain": [
       "'Hi this is a new text file\\nWe will be learning to use basic I/O operations on Files\\nSo we will need this text file to open and read the contents of this file\\nWe will now save this file\\n'"
      ]
     },
     "execution_count": 45,
     "metadata": {},
     "output_type": "execute_result"
    }
   ],
   "source": [
    "contents"
   ]
  },
  {
   "cell_type": "code",
   "execution_count": 51,
   "id": "a84ba0a1-4a10-40fc-bacb-102021ef6d42",
   "metadata": {},
   "outputs": [
    {
     "data": {
      "text/plain": [
       "0"
      ]
     },
     "execution_count": 51,
     "metadata": {},
     "output_type": "execute_result"
    }
   ],
   "source": [
    "#Here we see all contents in single output line\n",
    "# in case we want to read each line by line and not as single line we can use readlines() to save contents as list of lines\n",
    "myfile.seek(0)"
   ]
  },
  {
   "cell_type": "code",
   "execution_count": 53,
   "id": "0eaf23d2-20c3-4425-8ffb-e393b2ebca5a",
   "metadata": {},
   "outputs": [
    {
     "data": {
      "text/plain": [
       "['Hi this is a new text file\\n',\n",
       " 'We will be learning to use basic I/O operations on Files\\n',\n",
       " 'So we will need this text file to open and read the contents of this file\\n',\n",
       " 'We will now save this file\\n']"
      ]
     },
     "execution_count": 53,
     "metadata": {},
     "output_type": "execute_result"
    }
   ],
   "source": [
    "myfile.readlines()"
   ]
  },
  {
   "cell_type": "code",
   "execution_count": 55,
   "id": "498e70b4-d729-4562-b142-310aa1467072",
   "metadata": {},
   "outputs": [],
   "source": [
    "# as we can see we can still see \\n at end of each line"
   ]
  },
  {
   "cell_type": "code",
   "execution_count": 57,
   "id": "33201405-2da4-4d18-bd26-305218e7ad78",
   "metadata": {},
   "outputs": [],
   "source": [
    "## File Locations"
   ]
  },
  {
   "cell_type": "code",
   "execution_count": 59,
   "id": "14d0f36e-2707-4940-b63c-f8eff9f4648a",
   "metadata": {},
   "outputs": [
    {
     "data": {
      "text/plain": [
       "'/Users/priprabh/Downloads/Priyanka/Learnings & Training/Python/Udemy Python/Python-Coding-Exercises/Python-Coding-Exercises/01-Python DataTypes and Operator Basics'"
      ]
     },
     "execution_count": 59,
     "metadata": {},
     "output_type": "execute_result"
    }
   ],
   "source": [
    "pwd"
   ]
  },
  {
   "cell_type": "code",
   "execution_count": 61,
   "id": "a674c54c-859c-429d-bae6-21fe22af159d",
   "metadata": {},
   "outputs": [],
   "source": [
    "#we need to close the file handler if no longer in use else we cant delete file in other windows as this file handler will remain open and wait for next operation on it"
   ]
  },
  {
   "cell_type": "code",
   "execution_count": 63,
   "id": "c1a3c5fa-d678-40d1-aab4-ccafde567876",
   "metadata": {},
   "outputs": [],
   "source": [
    "myfile.close()"
   ]
  },
  {
   "cell_type": "code",
   "execution_count": 65,
   "id": "a9c9271b-0e59-48b2-98f4-0a697b782cf5",
   "metadata": {},
   "outputs": [],
   "source": [
    "#else we can use with block and need not worry about the close() method on file handler"
   ]
  },
  {
   "cell_type": "code",
   "execution_count": 67,
   "id": "74240747-9180-48ac-9473-19ba4ceab017",
   "metadata": {},
   "outputs": [],
   "source": [
    "with open('myfile.txt') as my_new_file:\n",
    "    contents = my_new_file.readlines()"
   ]
  },
  {
   "cell_type": "code",
   "execution_count": 69,
   "id": "d8c3f2ab-0f9a-41f2-b28b-29cfab819bcf",
   "metadata": {},
   "outputs": [
    {
     "data": {
      "text/plain": [
       "['Hi this is a new text file\\n',\n",
       " 'We will be learning to use basic I/O operations on Files\\n',\n",
       " 'So we will need this text file to open and read the contents of this file\\n',\n",
       " 'We will now save this file\\n']"
      ]
     },
     "execution_count": 69,
     "metadata": {},
     "output_type": "execute_result"
    }
   ],
   "source": [
    "contents"
   ]
  },
  {
   "cell_type": "code",
   "execution_count": 71,
   "id": "368d761b-7ec6-45f1-8e59-9dd260cb58a7",
   "metadata": {},
   "outputs": [],
   "source": [
    "#now there is no need to close the file with close() function"
   ]
  },
  {
   "cell_type": "code",
   "execution_count": 75,
   "id": "68a5b4ee-9fc1-489d-a9cf-f575d473dfea",
   "metadata": {},
   "outputs": [
    {
     "name": "stdout",
     "output_type": "stream",
     "text": [
      "Hi this is a new text file\n",
      "We will be learning to use basic I/O operations on Files\n",
      "So we will need this text file to open and read the contents of this file\n",
      "We will now save this file\n",
      "\n",
      "['Hi this is a new text file\\n', 'We will be learning to use basic I/O operations on Files\\n', 'So we will need this text file to open and read the contents of this file\\n', 'We will now save this file\\n']\n"
     ]
    }
   ],
   "source": [
    "with open('myfile.txt') as my_new_file:\n",
    "    print(my_new_file.read())\n",
    "    my_new_file.seek(0)\n",
    "    contents = my_new_file.readlines()\n",
    "    print(contents)"
   ]
  },
  {
   "cell_type": "code",
   "execution_count": 77,
   "id": "38833077-66d6-49f1-8d89-41234caec542",
   "metadata": {},
   "outputs": [],
   "source": [
    "#now we will learn about writing and overwriting contents to file"
   ]
  },
  {
   "cell_type": "code",
   "execution_count": 79,
   "id": "5ad52663-fce0-4b3c-80b3-9a2de5964af5",
   "metadata": {},
   "outputs": [],
   "source": [
    "#Shift + tab before function name will give us details on signature of the function usage"
   ]
  },
  {
   "cell_type": "code",
   "execution_count": 81,
   "id": "99ff917e-f052-4cdf-a928-3452830abc84",
   "metadata": {},
   "outputs": [
    {
     "name": "stdout",
     "output_type": "stream",
     "text": [
      "Hi this is a new text file\n",
      "We will be learning to use basic I/O operations on Files\n",
      "So we will need this text file to open and read the contents of this file\n",
      "We will now save this file\n",
      "\n"
     ]
    }
   ],
   "source": [
    "with open('myfile.txt') as my_new_file:\n",
    "    print(my_new_file.read())"
   ]
  },
  {
   "cell_type": "code",
   "execution_count": 105,
   "id": "a2c8f4a2-71bc-4a51-b167-6ac6b15e1ac6",
   "metadata": {},
   "outputs": [
    {
     "name": "stdout",
     "output_type": "stream",
     "text": [
      "Hi this is a new text file\n",
      "We will be learning to use basic I/O operations on Files\n",
      "So we will need this text file to open and read the contents of this file\n",
      "We will now save this file\n",
      "\n",
      "Hi this is a new text file\n",
      "We will be learning to use basic I/O operations on Files\n",
      "So we will need this text file to open and read the contents of this file\n",
      "We will now save this file\n",
      "\n"
     ]
    }
   ],
   "source": [
    "with open('myfile.txt', mode='r') as my_new_file:\n",
    "    print(my_new_file.read())\n",
    "    my_new_file.seek(0)\n",
    "    print(my_new_file.read())"
   ]
  },
  {
   "cell_type": "code",
   "execution_count": 97,
   "id": "f8f27aa5-e3b4-4460-ba5a-ec997bcc7a11",
   "metadata": {},
   "outputs": [
    {
     "ename": "UnsupportedOperation",
     "evalue": "not readable",
     "output_type": "error",
     "traceback": [
      "\u001b[0;31m---------------------------------------------------------------------------\u001b[0m",
      "\u001b[0;31mUnsupportedOperation\u001b[0m                      Traceback (most recent call last)",
      "Cell \u001b[0;32mIn[97], line 2\u001b[0m\n\u001b[1;32m      1\u001b[0m \u001b[38;5;28;01mwith\u001b[39;00m \u001b[38;5;28mopen\u001b[39m(\u001b[38;5;124m'\u001b[39m\u001b[38;5;124mmyfile.txt\u001b[39m\u001b[38;5;124m'\u001b[39m, mode\u001b[38;5;241m=\u001b[39m\u001b[38;5;124m'\u001b[39m\u001b[38;5;124mw\u001b[39m\u001b[38;5;124m'\u001b[39m) \u001b[38;5;28;01mas\u001b[39;00m my_new_file:\n\u001b[0;32m----> 2\u001b[0m     \u001b[38;5;28mprint\u001b[39m(my_new_file\u001b[38;5;241m.\u001b[39mread())\n",
      "\u001b[0;31mUnsupportedOperation\u001b[0m: not readable"
     ]
    }
   ],
   "source": [
    "with open('myfile.txt', mode='w') as my_new_file:\n",
    "    print(my_new_file.read())"
   ]
  },
  {
   "cell_type": "code",
   "execution_count": 107,
   "id": "d2b99b4a-cd86-4f34-a339-3aa0e7472594",
   "metadata": {},
   "outputs": [],
   "source": [
    "with open('myfile.txt', mode='a') as my_new_file:\n",
    "    my_new_file.seek(0)\n",
    "    my_new_file.write(\"\\nnewly added line to this file\")"
   ]
  },
  {
   "cell_type": "code",
   "execution_count": 109,
   "id": "d9826307-c525-4245-986d-2a0eb4aea8bb",
   "metadata": {},
   "outputs": [
    {
     "name": "stdout",
     "output_type": "stream",
     "text": [
      "Hi this is a new text file\n",
      "We will be learning to use basic I/O operations on Files\n",
      "So we will need this text file to open and read the contents of this file\n",
      "We will now save this file\n",
      "\n",
      "newly added line to this file\n"
     ]
    }
   ],
   "source": [
    "with open('myfile.txt', mode='r') as my_new_file:\n",
    "    print(my_new_file.read())"
   ]
  },
  {
   "cell_type": "code",
   "execution_count": 111,
   "id": "10ba6beb-9a0c-4981-8e94-52d8e340ce12",
   "metadata": {},
   "outputs": [
    {
     "name": "stdout",
     "output_type": "stream",
     "text": [
      "Hi this is a new text file\n",
      "We will be learning to use basic I/O operations on Files\n",
      "So we will need this text file to open and read the contents of this file\n",
      "We will now save this file\n",
      "\n",
      "newly added line to this file\n"
     ]
    }
   ],
   "source": [
    "with open('myfile.txt', mode='r') as my_new_file:\n",
    "    my_new_file.seek(0)\n",
    "    print(my_new_file.read())"
   ]
  },
  {
   "cell_type": "code",
   "execution_count": 113,
   "id": "a025607a-89e6-4f94-b73c-6588587fde79",
   "metadata": {},
   "outputs": [],
   "source": [
    "#lets see with w mode for non existant file it should create new file if not exists"
   ]
  },
  {
   "cell_type": "code",
   "execution_count": 129,
   "id": "45bf800b-2336-4a75-a94c-22958e48520c",
   "metadata": {},
   "outputs": [],
   "source": [
    "with open('newfile.txt', mode='w') as f:\n",
    "    f.write(\"Created new file now!\")"
   ]
  },
  {
   "cell_type": "code",
   "execution_count": 131,
   "id": "0b528f51-c90b-4e97-8980-744645614122",
   "metadata": {},
   "outputs": [
    {
     "name": "stdout",
     "output_type": "stream",
     "text": [
      "Created new file now!\n"
     ]
    }
   ],
   "source": [
    "with open('newfile.txt', mode='r') as f:\n",
    "    f.seek(0)\n",
    "    print(f.read())\n",
    "    f.seek(0)"
   ]
  },
  {
   "cell_type": "code",
   "execution_count": 119,
   "id": "53a05f9d-19d2-417d-b346-1108222a3152",
   "metadata": {},
   "outputs": [],
   "source": [
    "#overwrite contents in same file"
   ]
  },
  {
   "cell_type": "code",
   "execution_count": 133,
   "id": "37556224-9477-4a9d-9dac-f8f6831426bb",
   "metadata": {},
   "outputs": [],
   "source": [
    "with open('newfile.txt', mode='w') as f:\n",
    "    f.write(\"Overwrited the contents of file now!\")"
   ]
  },
  {
   "cell_type": "code",
   "execution_count": 135,
   "id": "da596277-7bea-48c0-8451-fbdfc5613c29",
   "metadata": {},
   "outputs": [
    {
     "name": "stdout",
     "output_type": "stream",
     "text": [
      "Overwrited the contents of file now!\n"
     ]
    }
   ],
   "source": [
    "with open('newfile.txt', mode='r') as f:\n",
    "    f.seek(0)\n",
    "    print(f.read())\n",
    "    f.seek(0)"
   ]
  },
  {
   "cell_type": "code",
   "execution_count": 141,
   "id": "98db99e6-4375-4f05-ada9-e6c4a425b242",
   "metadata": {},
   "outputs": [
    {
     "name": "stdout",
     "output_type": "stream",
     "text": [
      "Overwrited the contents of file now!\n",
      "Next new line added now\n",
      "Next new line added now\n",
      "\n"
     ]
    }
   ],
   "source": [
    "with open('newfile.txt', mode='r+') as f:\n",
    "    f.seek(0)\n",
    "    print(f.read())\n",
    "    f.write(\"\\nNext new line added now\")\n",
    "    print(f.read())\n",
    "    f.seek(0)"
   ]
  },
  {
   "cell_type": "code",
   "execution_count": 143,
   "id": "bfa4e8f8-b671-4b38-a0ac-8876f1040039",
   "metadata": {},
   "outputs": [],
   "source": [
    "#in above we have opened the file for read and write as well"
   ]
  },
  {
   "cell_type": "code",
   "execution_count": 147,
   "id": "28ae73ef-5ba4-48bb-a2ae-5582c7dbec16",
   "metadata": {},
   "outputs": [
    {
     "data": {
      "text/plain": [
       "5.0"
      ]
     },
     "execution_count": 147,
     "metadata": {},
     "output_type": "execute_result"
    }
   ],
   "source": [
    "25**(1/2)"
   ]
  },
  {
   "cell_type": "code",
   "execution_count": 149,
   "id": "1b027e4e-6e51-4978-a1f0-540b97da383f",
   "metadata": {},
   "outputs": [
    {
     "data": {
      "text/plain": [
       "9.0"
      ]
     },
     "execution_count": 149,
     "metadata": {},
     "output_type": "execute_result"
    }
   ],
   "source": [
    "81 ** (1/2)"
   ]
  },
  {
   "cell_type": "code",
   "execution_count": 151,
   "id": "bc2eae08-b35b-4dd0-91b0-0095f0a481a7",
   "metadata": {},
   "outputs": [],
   "source": [
    "#to find the square root without using the sqrt in math library"
   ]
  },
  {
   "cell_type": "code",
   "execution_count": 155,
   "id": "20bc0ffc-0c60-4102-9f30-1aab743d3f3c",
   "metadata": {},
   "outputs": [
    {
     "data": {
      "text/plain": [
       "25.0"
      ]
     },
     "execution_count": 155,
     "metadata": {},
     "output_type": "execute_result"
    }
   ],
   "source": [
    "625 ** (1/2)"
   ]
  },
  {
   "cell_type": "code",
   "execution_count": 231,
   "id": "557880fc-eb99-4e76-9b4a-39e19b95263a",
   "metadata": {},
   "outputs": [
    {
     "data": {
      "text/plain": [
       "[0, 0, 0]"
      ]
     },
     "execution_count": 231,
     "metadata": {},
     "output_type": "execute_result"
    }
   ],
   "source": [
    "#Build this list [0,0,0] two separate ways.\n",
    "\n",
    "# Method 1:\n",
    "[0]*3"
   ]
  },
  {
   "cell_type": "code",
   "execution_count": 233,
   "id": "adb9bf59-dd7d-4329-8b77-c095644d0e51",
   "metadata": {},
   "outputs": [],
   "source": [
    "list2 = [0,0,0]"
   ]
  },
  {
   "cell_type": "code",
   "execution_count": 235,
   "id": "e7d99a45-ee19-476b-bce4-6429ada7fb7e",
   "metadata": {},
   "outputs": [
    {
     "data": {
      "text/plain": [
       "[0, 0, 0]"
      ]
     },
     "execution_count": 235,
     "metadata": {},
     "output_type": "execute_result"
    }
   ],
   "source": [
    "list2"
   ]
  },
  {
   "cell_type": "code",
   "execution_count": 237,
   "id": "81c61748-a136-4887-91c7-f9f9ef52cb96",
   "metadata": {},
   "outputs": [],
   "source": [
    "## two methods to sort lists\n",
    "list4 = [5,3,4,6,1]\n",
    "list4.sort()"
   ]
  },
  {
   "cell_type": "code",
   "execution_count": 239,
   "id": "c39288e5-2e32-4a51-b62d-1e1aa59f284d",
   "metadata": {},
   "outputs": [],
   "source": [
    "list4 = [5,3,4,6,1]"
   ]
  },
  {
   "cell_type": "code",
   "execution_count": 241,
   "id": "3066ef6c-456f-4581-9a13-44575b835cfe",
   "metadata": {},
   "outputs": [
    {
     "data": {
      "text/plain": [
       "[1, 3, 4, 5, 6]"
      ]
     },
     "execution_count": 241,
     "metadata": {},
     "output_type": "execute_result"
    }
   ],
   "source": [
    "sorted(list4)"
   ]
  },
  {
   "cell_type": "code",
   "execution_count": null,
   "id": "60a4179e-7f31-4944-8680-8a21e744c44e",
   "metadata": {},
   "outputs": [],
   "source": []
  }
 ],
 "metadata": {
  "kernelspec": {
   "display_name": "Python 3 (ipykernel)",
   "language": "python",
   "name": "python3"
  },
  "language_info": {
   "codemirror_mode": {
    "name": "ipython",
    "version": 3
   },
   "file_extension": ".py",
   "mimetype": "text/x-python",
   "name": "python",
   "nbconvert_exporter": "python",
   "pygments_lexer": "ipython3",
   "version": "3.12.7"
  }
 },
 "nbformat": 4,
 "nbformat_minor": 5
}
