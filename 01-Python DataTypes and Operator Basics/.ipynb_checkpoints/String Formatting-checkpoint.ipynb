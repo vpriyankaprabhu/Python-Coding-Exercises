{
 "cells": [
  {
   "cell_type": "markdown",
   "id": "ac0dbc66-f33f-4996-bfc1-6f92aa06bc8c",
   "metadata": {},
   "source": [
    "String formatting done with first method using .format() method"
   ]
  },
  {
   "cell_type": "code",
   "execution_count": 10,
   "id": "828f685c-2e53-4ebf-a2cb-cfccc462200a",
   "metadata": {},
   "outputs": [],
   "source": [
    "mystring = \"This is my string\""
   ]
  },
  {
   "cell_type": "code",
   "execution_count": 14,
   "id": "29cb9fbd-1bb6-45a2-88c9-980a0868bf74",
   "metadata": {},
   "outputs": [
    {
     "name": "stdout",
     "output_type": "stream",
     "text": [
      "This is my string INSERTED \n"
     ]
    }
   ],
   "source": [
    "print(mystring +\" {} \".format(\"INSERTED\"))"
   ]
  },
  {
   "cell_type": "code",
   "execution_count": 18,
   "id": "dd0fc522-d17b-43f2-872e-c0e851314490",
   "metadata": {},
   "outputs": [
    {
     "name": "stdout",
     "output_type": "stream",
     "text": [
      "Hello Pavani! \n"
     ]
    }
   ],
   "source": [
    "print(\"Hello {} \".format(\"Pavani!\"))"
   ]
  },
  {
   "cell_type": "code",
   "execution_count": 22,
   "id": "574527ae-1004-41da-bba8-309420a5e5df",
   "metadata": {},
   "outputs": [
    {
     "name": "stdout",
     "output_type": "stream",
     "text": [
      "The Apples, Banana, Grapes were sour\n"
     ]
    }
   ],
   "source": [
    "print(\"The {}, {}, {}\".format(\"Apples\", \"Banana\", \"Grapes were sour\"))"
   ]
  },
  {
   "cell_type": "code",
   "execution_count": 24,
   "id": "1e7682f6-e2f4-45c1-81ef-647c08514df2",
   "metadata": {},
   "outputs": [
    {
     "name": "stdout",
     "output_type": "stream",
     "text": [
      "The fox brown quick\n"
     ]
    }
   ],
   "source": [
    "print(\"The {} {} {}\".format('fox', 'brown', 'quick'))"
   ]
  },
  {
   "cell_type": "markdown",
   "id": "b270d123-6fa0-4384-a6fe-6afcdf702775",
   "metadata": {},
   "source": [
    "here it is not sounding right so we can rearrange them with index values provided with curly braces"
   ]
  },
  {
   "cell_type": "code",
   "execution_count": 27,
   "id": "284bc867-36ef-4c17-b18c-50bfeed88a69",
   "metadata": {},
   "outputs": [
    {
     "name": "stdout",
     "output_type": "stream",
     "text": [
      "The quick brown fox\n"
     ]
    }
   ],
   "source": [
    "print(\"The {2} {1} {0}\".format('fox', 'brown', 'quick'))"
   ]
  },
  {
   "cell_type": "markdown",
   "id": "977ced52-c158-4130-8072-0ffde332ac22",
   "metadata": {},
   "source": [
    "We can repeat same words too "
   ]
  },
  {
   "cell_type": "code",
   "execution_count": 30,
   "id": "22dd5e36-fa20-48b2-a7b0-1b84538624c7",
   "metadata": {},
   "outputs": [
    {
     "name": "stdout",
     "output_type": "stream",
     "text": [
      "The fox fox fox\n"
     ]
    }
   ],
   "source": [
    "print(\"The {0} {0} {0}\".format('fox', 'brown', 'quick'))"
   ]
  },
  {
   "cell_type": "code",
   "execution_count": 32,
   "id": "f94bb05e-8d8e-4aa7-b948-719f6e697b76",
   "metadata": {},
   "outputs": [],
   "source": [
    "# instead of the numbers or knowing position values we can also have it variabilized so that we can use it for ease than remmebering the position indexes"
   ]
  },
  {
   "cell_type": "code",
   "execution_count": 34,
   "id": "cb676c6a-63f8-45e3-a1f3-68074fe331a0",
   "metadata": {},
   "outputs": [
    {
     "name": "stdout",
     "output_type": "stream",
     "text": [
      "The quick brown fox\n"
     ]
    }
   ],
   "source": [
    "print(\"The {q} {b} {f}\".format(f='fox', b='brown', q='quick'))"
   ]
  },
  {
   "cell_type": "code",
   "execution_count": 36,
   "id": "3faf3063-f931-436b-827b-91d2402f031c",
   "metadata": {},
   "outputs": [
    {
     "name": "stdout",
     "output_type": "stream",
     "text": [
      "The fox fox fox\n"
     ]
    }
   ],
   "source": [
    "print(\"The {f} {f} {f}\".format(f='fox', b='brown', q='quick'))"
   ]
  },
  {
   "cell_type": "code",
   "execution_count": 38,
   "id": "7466f83f-b867-4f11-8c22-ede4d073df78",
   "metadata": {},
   "outputs": [],
   "source": [
    "##Floating numbers formatting with specific precision required {value:width.precision f}"
   ]
  },
  {
   "cell_type": "code",
   "execution_count": 40,
   "id": "2fbb9725-f717-4844-a390-4294d6ce0d22",
   "metadata": {},
   "outputs": [],
   "source": [
    "result = 100/777"
   ]
  },
  {
   "cell_type": "code",
   "execution_count": 42,
   "id": "9ad7576b-3be6-4b9d-bf9f-1fc64f494f2e",
   "metadata": {},
   "outputs": [
    {
     "data": {
      "text/plain": [
       "0.1287001287001287"
      ]
     },
     "execution_count": 42,
     "metadata": {},
     "output_type": "execute_result"
    }
   ],
   "source": [
    "result"
   ]
  },
  {
   "cell_type": "code",
   "execution_count": 46,
   "id": "d2afe0be-e222-4323-9a8b-0dda686444b3",
   "metadata": {},
   "outputs": [
    {
     "name": "stdout",
     "output_type": "stream",
     "text": [
      "The result here is : 0.1287001287001287\n"
     ]
    }
   ],
   "source": [
    "print(\"The result here is : {}\".format(result))"
   ]
  },
  {
   "cell_type": "code",
   "execution_count": 52,
   "id": "762e29fd-3717-43a3-a882-456260633830",
   "metadata": {},
   "outputs": [
    {
     "name": "stdout",
     "output_type": "stream",
     "text": [
      "The result here is : 0.1287001287001287\n"
     ]
    }
   ],
   "source": [
    "print(\"The result here is : {r}\".format(r=result))"
   ]
  },
  {
   "cell_type": "code",
   "execution_count": 54,
   "id": "ec80ed16-a536-4cc5-a51f-4c9d022af829",
   "metadata": {},
   "outputs": [
    {
     "name": "stdout",
     "output_type": "stream",
     "text": [
      "The result here is : 0.129\n"
     ]
    }
   ],
   "source": [
    "print(\"The result here is : {r:1.3f}\".format(r=result))"
   ]
  },
  {
   "cell_type": "code",
   "execution_count": 56,
   "id": "0f2a387d-1ef4-43a4-a14b-63c6bd926da2",
   "metadata": {},
   "outputs": [
    {
     "name": "stdout",
     "output_type": "stream",
     "text": [
      "The result here is : 0.13\n"
     ]
    }
   ],
   "source": [
    "print(\"The result here is : {r:1.2f}\".format(r=result))"
   ]
  },
  {
   "cell_type": "code",
   "execution_count": 62,
   "id": "cf5d4477-d695-491b-8e00-93b88b7db218",
   "metadata": {},
   "outputs": [],
   "source": [
    "#Width here is for white spaces to be added , so here for result it has added 10 white spaces , above it added only one white space"
   ]
  },
  {
   "cell_type": "code",
   "execution_count": 64,
   "id": "5506bdb1-5478-48d5-b23e-413cf44019a9",
   "metadata": {},
   "outputs": [
    {
     "name": "stdout",
     "output_type": "stream",
     "text": [
      "The result here is :       0.13\n"
     ]
    }
   ],
   "source": [
    "print(\"The result here is : {r:10.2f}\".format(r=result))"
   ]
  },
  {
   "cell_type": "markdown",
   "id": "c39d8507-605c-446e-b9a3-7698e416191d",
   "metadata": {},
   "source": [
    "Formatted string literals (newly introduced)"
   ]
  },
  {
   "cell_type": "code",
   "execution_count": 68,
   "id": "a5ef6bbc-96f1-47e8-8e42-3be2301dc4ae",
   "metadata": {},
   "outputs": [],
   "source": [
    "name = \"Priyanka\""
   ]
  },
  {
   "cell_type": "code",
   "execution_count": 70,
   "id": "2e56eab2-e790-43ab-bf83-c4f6e216ddeb",
   "metadata": {},
   "outputs": [
    {
     "data": {
      "text/plain": [
       "'Priyanka'"
      ]
     },
     "execution_count": 70,
     "metadata": {},
     "output_type": "execute_result"
    }
   ],
   "source": [
    "name"
   ]
  },
  {
   "cell_type": "code",
   "execution_count": 72,
   "id": "7aaaa2fa-dd7a-4901-9b4f-2d0f17fdf6d5",
   "metadata": {},
   "outputs": [
    {
     "name": "stdout",
     "output_type": "stream",
     "text": [
      "My name is Priyanka\n"
     ]
    }
   ],
   "source": [
    "print(\"My name is {}\".format(name))"
   ]
  },
  {
   "cell_type": "code",
   "execution_count": 76,
   "id": "2d101221-9cb5-40d2-9ecb-c04b7cc28919",
   "metadata": {},
   "outputs": [
    {
     "name": "stdout",
     "output_type": "stream",
     "text": [
      "My name is Priyanka\n"
     ]
    }
   ],
   "source": [
    "#formatting literals for string FStrings\n",
    "print(f\"My name is {name}\")"
   ]
  },
  {
   "cell_type": "code",
   "execution_count": 80,
   "id": "3b9b9252-8dbc-42a3-b75d-841a223930f0",
   "metadata": {},
   "outputs": [],
   "source": [
    "name=\"Pavani\"\n",
    "age=11"
   ]
  },
  {
   "cell_type": "code",
   "execution_count": 84,
   "id": "a3ce2f0a-b496-40ac-96dd-95161cd3530f",
   "metadata": {},
   "outputs": [
    {
     "name": "stdout",
     "output_type": "stream",
     "text": [
      "Pavani is 11 years old.\n"
     ]
    }
   ],
   "source": [
    "print(f'{name} is {age} years old.')"
   ]
  },
  {
   "cell_type": "code",
   "execution_count": null,
   "id": "ed3c2ab9-5ddf-43a0-8e1e-40e93838f6a9",
   "metadata": {},
   "outputs": [],
   "source": []
  }
 ],
 "metadata": {
  "kernelspec": {
   "display_name": "Python 3 (ipykernel)",
   "language": "python",
   "name": "python3"
  },
  "language_info": {
   "codemirror_mode": {
    "name": "ipython",
    "version": 3
   },
   "file_extension": ".py",
   "mimetype": "text/x-python",
   "name": "python",
   "nbconvert_exporter": "python",
   "pygments_lexer": "ipython3",
   "version": "3.12.7"
  }
 },
 "nbformat": 4,
 "nbformat_minor": 5
}
