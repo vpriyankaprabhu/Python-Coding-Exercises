{
 "cells": [
  {
   "cell_type": "code",
   "execution_count": 1,
   "id": "e996f38c-497f-4f5b-882a-e345e458b821",
   "metadata": {},
   "outputs": [],
   "source": [
    "#Inheritance is a way to form new classes using classes that have already been defined. \n",
    "#The newly formed classes are called derived classes, the classes that we derive from are called base classes. \n",
    "#Important benefits of inheritance are code reuse and reduction of complexity of a program. \n",
    "#The derived classes (descendants) override or extend the functionality of base classes (ancestors)."
   ]
  },
  {
   "cell_type": "code",
   "execution_count": 3,
   "id": "65067d8a-46e7-45a0-9974-f7862a1e250e",
   "metadata": {},
   "outputs": [
    {
     "name": "stdout",
     "output_type": "stream",
     "text": [
      "I am an Animal!\n"
     ]
    }
   ],
   "source": [
    "class Animal():\n",
    "    def __init__(self):\n",
    "        print(\"I am an Animal!\")\n",
    "\n",
    "my_animal = Animal()"
   ]
  },
  {
   "cell_type": "code",
   "execution_count": 7,
   "id": "0acb9bd7-4d47-43b1-b955-1673ac56187f",
   "metadata": {},
   "outputs": [],
   "source": [
    "class Animal():\n",
    "    def __init__(self):\n",
    "        print(\"Animal instance created!\")\n",
    "        \n",
    "    def who_am_i(self):\n",
    "        print(\"I am an Animal!\")\n",
    "\n",
    "    def eat(self):\n",
    "        print(\"I am eating\")"
   ]
  },
  {
   "cell_type": "code",
   "execution_count": 9,
   "id": "aec46c32-5927-467b-a41a-8e1f1170aab1",
   "metadata": {},
   "outputs": [
    {
     "name": "stdout",
     "output_type": "stream",
     "text": [
      "Animal instance created!\n"
     ]
    }
   ],
   "source": [
    "my_animal = Animal()"
   ]
  },
  {
   "cell_type": "code",
   "execution_count": 11,
   "id": "ebadc459-dec7-49d6-8f87-d6a0ffe96dc3",
   "metadata": {},
   "outputs": [
    {
     "name": "stdout",
     "output_type": "stream",
     "text": [
      "I am an Animal!\n"
     ]
    }
   ],
   "source": [
    "my_animal.who_am_i()"
   ]
  },
  {
   "cell_type": "code",
   "execution_count": 13,
   "id": "5bf7217f-5bda-4024-b73e-fbcc7346ebf3",
   "metadata": {},
   "outputs": [
    {
     "name": "stdout",
     "output_type": "stream",
     "text": [
      "I am eating\n"
     ]
    }
   ],
   "source": [
    "my_animal.eat()"
   ]
  },
  {
   "cell_type": "code",
   "execution_count": 17,
   "id": "00f0fc44-aa7e-48aa-9d5a-d7a513b1c51d",
   "metadata": {},
   "outputs": [],
   "source": [
    "#Now lets create Dog class inheriting the Animal class\n",
    "class Dog(Animal): #lets user know u have inherited Animal class and it can access to Animal class attributes and methods\n",
    "    def __init__(self):\n",
    "        Animal.__init__(self)\n",
    "        print(\"Dog instance created!\")\n",
    "\n",
    "    #we can also override existing methods of inherited parent class\n",
    "    def who_am_i(self):\n",
    "        print(\"I am a dog!\")\n",
    "\n",
    "    #we can have additional methods too, with new functionality\n",
    "    def bark(self):\n",
    "        print(\"WooF! WooF!\")\n"
   ]
  },
  {
   "cell_type": "code",
   "execution_count": 21,
   "id": "4c9f7d89-6786-496f-941e-a25b07202103",
   "metadata": {},
   "outputs": [
    {
     "name": "stdout",
     "output_type": "stream",
     "text": [
      "Animal instance created!\n",
      "Dog instance created!\n"
     ]
    }
   ],
   "source": [
    "my_dog = Dog() # it creates dog object inheriting animal class"
   ]
  },
  {
   "cell_type": "code",
   "execution_count": 23,
   "id": "993ebe6c-34d9-4b1b-a7e8-673378e3d2d3",
   "metadata": {},
   "outputs": [
    {
     "name": "stdout",
     "output_type": "stream",
     "text": [
      "WooF! WooF!\n"
     ]
    }
   ],
   "source": [
    "my_dog.bark() #new functionality than Animal class"
   ]
  },
  {
   "cell_type": "code",
   "execution_count": 25,
   "id": "8730ca3b-0e3b-4404-a211-13382bade568",
   "metadata": {},
   "outputs": [
    {
     "name": "stdout",
     "output_type": "stream",
     "text": [
      "I am a dog!\n"
     ]
    }
   ],
   "source": [
    "my_dog.who_am_i() #overriden method "
   ]
  },
  {
   "cell_type": "code",
   "execution_count": 29,
   "id": "24e8b144-c477-4cca-bbab-086a07037fe0",
   "metadata": {},
   "outputs": [
    {
     "name": "stdout",
     "output_type": "stream",
     "text": [
      "I am eating\n"
     ]
    }
   ],
   "source": [
    "my_dog.eat() #inherited method from Animal class"
   ]
  },
  {
   "cell_type": "code",
   "execution_count": 31,
   "id": "1f2045e7-84ca-407d-b55f-3bbe1df127e9",
   "metadata": {},
   "outputs": [],
   "source": [
    "#Polymorphism"
   ]
  },
  {
   "cell_type": "code",
   "execution_count": 33,
   "id": "5825e52a-ae0f-4552-a321-011948e5d281",
   "metadata": {},
   "outputs": [],
   "source": [
    "#while functions can take in different arguments, methods belong to the objects they act on. \n",
    "#In Python, polymorphism refers to the way in which different object classes can share the same \n",
    "#method name, and those methods can be called from the same place even though a variety of different objects might be passed in.\n",
    "\n",
    "class Dog():\n",
    "    def __init__(self, name):\n",
    "        self.name = name\n",
    "    def speak(self):\n",
    "        print(f\"{self.name} says woof!\")"
   ]
  },
  {
   "cell_type": "code",
   "execution_count": 35,
   "id": "7bf93725-12d4-47f4-bccc-e5627ba9a53a",
   "metadata": {},
   "outputs": [],
   "source": [
    "class Cat():\n",
    "    def __init__(self, name):\n",
    "        self.name = name\n",
    "    def speak(self):\n",
    "        print(f\"{self.name} says meow!\")"
   ]
  },
  {
   "cell_type": "code",
   "execution_count": 37,
   "id": "33f77030-21ec-4848-8001-e86d609848e7",
   "metadata": {},
   "outputs": [],
   "source": [
    "my_dog = Dog(\"luna\")"
   ]
  },
  {
   "cell_type": "code",
   "execution_count": 39,
   "id": "9e65f3b7-eb19-4b65-adae-d3e4f7a32626",
   "metadata": {},
   "outputs": [],
   "source": [
    "my_cat = Cat(\"Eela\")"
   ]
  },
  {
   "cell_type": "code",
   "execution_count": 41,
   "id": "05a17dc7-a7e4-4869-8820-8db9b1eb7974",
   "metadata": {},
   "outputs": [
    {
     "name": "stdout",
     "output_type": "stream",
     "text": [
      "luna says woof!\n"
     ]
    }
   ],
   "source": [
    "my_dog.speak()"
   ]
  },
  {
   "cell_type": "code",
   "execution_count": 43,
   "id": "1114711b-f588-46d4-8c7f-d15ce66013a0",
   "metadata": {},
   "outputs": [
    {
     "name": "stdout",
     "output_type": "stream",
     "text": [
      "Eela says meow!\n"
     ]
    }
   ],
   "source": [
    "my_cat.speak()"
   ]
  },
  {
   "cell_type": "code",
   "execution_count": 45,
   "id": "98a52648-fcca-4a41-b787-abd664635edc",
   "metadata": {},
   "outputs": [],
   "source": [
    "#same method name used in two different classes and its called based on object it acts upon"
   ]
  },
  {
   "cell_type": "code",
   "execution_count": 47,
   "id": "fe5fa9cc-2d3d-4f44-8699-341df57485b6",
   "metadata": {},
   "outputs": [
    {
     "name": "stdout",
     "output_type": "stream",
     "text": [
      "luna says woof!\n",
      "None\n",
      "Eela says meow!\n",
      "None\n"
     ]
    }
   ],
   "source": [
    "#There a few different ways to demonstrate polymorphism. First, with a for loop:\n",
    "for pet in [my_dog, my_cat]:\n",
    "    print(pet.speak())\n"
   ]
  },
  {
   "cell_type": "code",
   "execution_count": 49,
   "id": "c15ee583-b7f2-448e-bcb6-9a45be8d0b17",
   "metadata": {},
   "outputs": [],
   "source": [
    "#Another is with functions:\n",
    "def pet_speak(pet):\n",
    "    print(type(pet))\n",
    "    print(pet.speak())\n"
   ]
  },
  {
   "cell_type": "code",
   "execution_count": 51,
   "id": "eaf45548-9d67-411f-8bc7-9be7fb13c60b",
   "metadata": {},
   "outputs": [
    {
     "name": "stdout",
     "output_type": "stream",
     "text": [
      "<class '__main__.Dog'>\n",
      "luna says woof!\n",
      "None\n"
     ]
    }
   ],
   "source": [
    "pet_speak(my_dog)"
   ]
  },
  {
   "cell_type": "code",
   "execution_count": 53,
   "id": "624a9591-8709-4620-812b-0162e1d88f06",
   "metadata": {},
   "outputs": [
    {
     "name": "stdout",
     "output_type": "stream",
     "text": [
      "<class '__main__.Cat'>\n",
      "Eela says meow!\n",
      "None\n"
     ]
    }
   ],
   "source": [
    "pet_speak(my_cat)"
   ]
  },
  {
   "cell_type": "code",
   "execution_count": 55,
   "id": "394d19d7-6b17-4b7f-80e0-cdf6b3432897",
   "metadata": {},
   "outputs": [],
   "source": [
    "#A more common practice is to use abstract classes and inheritance. \n",
    "#An abstract class is one that never expects to be instantiated. \n",
    "#For example, we will never have an Animal object, only Dog and Cat objects, although Dogs and Cats are derived from Animals:\n",
    "\n",
    "class Animal():\n",
    "    def __init__(self,name):\n",
    "        self.name = name\n",
    "\n",
    "    def speak(self):\n",
    "        raise NotImplementedError(\"Subclass should implement this method when its inheriting abstract class\")\n",
    "\n"
   ]
  },
  {
   "cell_type": "code",
   "execution_count": 57,
   "id": "ee276da5-480a-479f-be8a-2411baf1d161",
   "metadata": {},
   "outputs": [],
   "source": [
    "class Dog(Animal):\n",
    "    def __init__(self, name):\n",
    "        Animal.__init__(self,name)\n",
    "\n",
    "    "
   ]
  },
  {
   "cell_type": "code",
   "execution_count": 63,
   "id": "c96c57fe-3017-4404-9c41-bd16a6f7fa01",
   "metadata": {},
   "outputs": [
    {
     "ename": "NotImplementedError",
     "evalue": "Subclass should implement this method when its inheriting abstract class",
     "output_type": "error",
     "traceback": [
      "\u001b[0;31m---------------------------------------------------------------------------\u001b[0m",
      "\u001b[0;31mNotImplementedError\u001b[0m                       Traceback (most recent call last)",
      "Cell \u001b[0;32mIn[63], line 2\u001b[0m\n\u001b[1;32m      1\u001b[0m my_dog \u001b[38;5;241m=\u001b[39m Dog(\u001b[38;5;124m\"\u001b[39m\u001b[38;5;124mSammy\u001b[39m\u001b[38;5;124m\"\u001b[39m)\n\u001b[0;32m----> 2\u001b[0m my_dog\u001b[38;5;241m.\u001b[39mspeak()\n",
      "Cell \u001b[0;32mIn[55], line 10\u001b[0m, in \u001b[0;36mAnimal.speak\u001b[0;34m(self)\u001b[0m\n\u001b[1;32m      9\u001b[0m \u001b[38;5;28;01mdef\u001b[39;00m \u001b[38;5;21mspeak\u001b[39m(\u001b[38;5;28mself\u001b[39m):\n\u001b[0;32m---> 10\u001b[0m     \u001b[38;5;28;01mraise\u001b[39;00m \u001b[38;5;167;01mNotImplementedError\u001b[39;00m(\u001b[38;5;124m\"\u001b[39m\u001b[38;5;124mSubclass should implement this method when its inheriting abstract class\u001b[39m\u001b[38;5;124m\"\u001b[39m)\n",
      "\u001b[0;31mNotImplementedError\u001b[0m: Subclass should implement this method when its inheriting abstract class"
     ]
    }
   ],
   "source": [
    "my_dog = Dog(\"Sammy\")\n",
    "my_dog.speak()"
   ]
  },
  {
   "cell_type": "code",
   "execution_count": 65,
   "id": "2903dddb-71e0-4e78-a342-5dce6cc5f050",
   "metadata": {},
   "outputs": [],
   "source": [
    "class Dog(Animal):\n",
    "    def __init__(self, name):\n",
    "        Animal.__init__(self,name)\n",
    "    def speak(self):\n",
    "        print(f\"{self.name} says woof!\")\n",
    "\n",
    "class Cat(Animal):\n",
    "    def __init__(self, name):\n",
    "        Animal.__init__(self,name)\n",
    "    def speak(self):\n",
    "        print(f\"{self.name} says meow!\")"
   ]
  },
  {
   "cell_type": "code",
   "execution_count": 67,
   "id": "43689cdc-0e52-4627-84d4-448eacef3621",
   "metadata": {},
   "outputs": [
    {
     "name": "stdout",
     "output_type": "stream",
     "text": [
      "Sammy says woof!\n"
     ]
    }
   ],
   "source": [
    "my_dog = Dog(\"Sammy\")\n",
    "my_dog.speak()"
   ]
  },
  {
   "cell_type": "code",
   "execution_count": 71,
   "id": "2035b50c-c622-42dd-a11e-3cbdf950246f",
   "metadata": {},
   "outputs": [
    {
     "name": "stdout",
     "output_type": "stream",
     "text": [
      "Felix says meow!\n"
     ]
    }
   ],
   "source": [
    "my_cat = Cat(\"Felix\")\n",
    "my_cat.speak()"
   ]
  },
  {
   "cell_type": "code",
   "execution_count": 73,
   "id": "20af1a46-34d2-4dc2-b5e8-48c75611a61b",
   "metadata": {},
   "outputs": [],
   "source": [
    "#Real life examples of polymorphism include:\n",
    "\n",
    "#opening different file types - different tools are needed to display Word, pdf and Excel files\n",
    "#adding different objects - the + operator performs arithmetic and concatenation\n",
    "\n"
   ]
  },
  {
   "cell_type": "code",
   "execution_count": 76,
   "id": "b8eb18b1-32d7-4139-974b-ab39e2074c5a",
   "metadata": {},
   "outputs": [],
   "source": [
    "#Special methods or Dunder (double underscore methods)\n",
    "#Classes in Python can implement certain operations with special method names. \n",
    "#These methods are not actually called directly but by Python specific language syntax.\n",
    "\n",
    "#The __init__(), __str__(), __len__() and __del__() methods\n",
    "#These special methods are defined by their use of underscores. \n",
    "#They allow us to use Python specific functions on objects created through our class.\n"
   ]
  },
  {
   "cell_type": "code",
   "execution_count": 102,
   "id": "0f01e07c-62b7-468b-bead-cbf879ad39a9",
   "metadata": {},
   "outputs": [],
   "source": [
    "class Book():\n",
    "    def __init__(self, name, author, pages):\n",
    "        print(\"Book object is created!\")\n",
    "        self.name = name\n",
    "        self.author = author\n",
    "        self.pages = pages\n",
    "\n",
    "    def __str__(self):\n",
    "        return f\"Title of Book : {self.name}, Author Name: {self.author}, No. of Pages: {self.pages}\"\n",
    "\n",
    "    def __len__(self):\n",
    "        return self.pages\n",
    "\n",
    "    def __del__(self):\n",
    "        print(\"Book object is destroyed!\")"
   ]
  },
  {
   "cell_type": "code",
   "execution_count": 114,
   "id": "1e2a9be5-8ff2-4941-a2da-87b57e6ede3a",
   "metadata": {},
   "outputs": [
    {
     "name": "stdout",
     "output_type": "stream",
     "text": [
      "Book object is created!\n"
     ]
    }
   ],
   "source": [
    "my_book = Book(\"Secret\", \"Rhonde Byrne\", 300)"
   ]
  },
  {
   "cell_type": "code",
   "execution_count": 116,
   "id": "ce0ce779-219c-4e8c-84a1-fb73f263fd27",
   "metadata": {},
   "outputs": [
    {
     "data": {
      "text/plain": [
       "300"
      ]
     },
     "execution_count": 116,
     "metadata": {},
     "output_type": "execute_result"
    }
   ],
   "source": [
    "len(my_book)"
   ]
  },
  {
   "cell_type": "code",
   "execution_count": 118,
   "id": "4a223198-42f2-4d68-9036-12d6ce4805ea",
   "metadata": {},
   "outputs": [
    {
     "name": "stdout",
     "output_type": "stream",
     "text": [
      "Title of Book : Secret, Author Name: Rhonde Byrne, No. of Pages: 300\n"
     ]
    }
   ],
   "source": [
    "print(my_book)"
   ]
  },
  {
   "cell_type": "code",
   "execution_count": 120,
   "id": "c3be7b7c-64ec-49fe-a7e7-57d4bcbbabf6",
   "metadata": {},
   "outputs": [
    {
     "name": "stdout",
     "output_type": "stream",
     "text": [
      "Book object is destroyed!\n"
     ]
    }
   ],
   "source": [
    "del my_book"
   ]
  },
  {
   "cell_type": "code",
   "execution_count": null,
   "id": "bf63a153-8aef-4512-9236-cd2a2ce78917",
   "metadata": {},
   "outputs": [],
   "source": []
  }
 ],
 "metadata": {
  "kernelspec": {
   "display_name": "Python 3 (ipykernel)",
   "language": "python",
   "name": "python3"
  },
  "language_info": {
   "codemirror_mode": {
    "name": "ipython",
    "version": 3
   },
   "file_extension": ".py",
   "mimetype": "text/x-python",
   "name": "python",
   "nbconvert_exporter": "python",
   "pygments_lexer": "ipython3",
   "version": "3.12.7"
  }
 },
 "nbformat": 4,
 "nbformat_minor": 5
}
