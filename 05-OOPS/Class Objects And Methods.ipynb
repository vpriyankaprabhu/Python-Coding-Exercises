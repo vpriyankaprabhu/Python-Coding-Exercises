{
 "cells": [
  {
   "cell_type": "code",
   "execution_count": 1,
   "id": "14934d3d-27ff-44de-8276-af6ea8305cf9",
   "metadata": {},
   "outputs": [],
   "source": [
    "#In Python, everything is an object. "
   ]
  },
  {
   "cell_type": "code",
   "execution_count": 3,
   "id": "3747aec5-db4c-43b2-a75b-3407ea314d2f",
   "metadata": {},
   "outputs": [],
   "source": [
    "#we create our own Object types? That is where the class keyword comes in.\n",
    "#OOP allows users to create their own objects with attributes and methods\n",
    "#OOP allows us to create code that is repeatable and more organised\n"
   ]
  },
  {
   "cell_type": "code",
   "execution_count": 5,
   "id": "9d3627f8-c2f9-404d-9c96-7490377840b5",
   "metadata": {},
   "outputs": [],
   "source": [
    "#User defined objects are created using the class keyword. \n",
    "#The class is a blueprint that defines the nature of a future object. \n",
    "#From classes we can construct instances. An instance is a specific object created from a particular class."
   ]
  },
  {
   "cell_type": "code",
   "execution_count": 7,
   "id": "a768b686-c7bc-43ea-b44d-cabe0497324d",
   "metadata": {},
   "outputs": [],
   "source": [
    "#class NameOfClass(): # capitalise each word of function name , variable name is small case with _\n",
    "    #def __init__(self, param1): # helps to create instance of a function or object for class and called by default like constructor\n",
    "        #self.param1=param1\n",
    "\n",
    "    #def some_method(self):\n",
    "        #print(self.param1)"
   ]
  },
  {
   "cell_type": "code",
   "execution_count": 11,
   "id": "d0f5f66f-fd07-4b29-8f81-2cd566744df4",
   "metadata": {},
   "outputs": [
    {
     "name": "stdout",
     "output_type": "stream",
     "text": [
      "<class '__main__.Sample'>\n"
     ]
    }
   ],
   "source": [
    "class Sample():\n",
    "    pass\n",
    "\n",
    "x = Sample()\n",
    "\n",
    "print(type(x))"
   ]
  },
  {
   "cell_type": "code",
   "execution_count": 13,
   "id": "9d792167-2045-4e6f-8a24-d0429259638e",
   "metadata": {},
   "outputs": [],
   "source": [
    "#By convention we give classes a name that starts with a capital letter. \n",
    "#Note how x is now the reference to our new instance of a Sample class. \n",
    "#In other words, we instantiate the Sample class.\n",
    "#An attribute is a characteristic of an object. A method is an operation we can perform with the object.\n",
    "\n",
    "#For example, we can create a class called Dog. \n",
    "#An attribute of a dog may be its breed or its name, while a method of a dog may be defined by a .bark() method which returns a sound.\n",
    "\n",
    "#self keyword connects the instance with class to itself"
   ]
  },
  {
   "cell_type": "code",
   "execution_count": 15,
   "id": "ecfcc66e-d559-451c-8900-0e276776652d",
   "metadata": {},
   "outputs": [
    {
     "name": "stdout",
     "output_type": "stream",
     "text": [
      "<__main__.Dog object at 0x137f7f8c0>\n"
     ]
    }
   ],
   "source": [
    "#Attributes\n",
    "#The syntax for creating an attribute is:\n",
    "\n",
    "#self.attribute = something\n",
    "\n",
    "#There is a special method called:\n",
    "\n",
    "#__init__()\n",
    "#This method is used to initialize the attributes of an object.\n",
    "\n",
    "class Dog():\n",
    "    def __init__(self, name, breed):\n",
    "        self.breed = breed\n",
    "        self.name = name\n",
    "\n",
    "    def TypeOfDog(self):\n",
    "        print(f\"{self.name} is a {self.breed}\")\n",
    "\n",
    "print(Dog(\"Luna\", \"German Retriever\"))"
   ]
  },
  {
   "cell_type": "code",
   "execution_count": 17,
   "id": "ae1625f6-132f-43d4-8246-dc0252536200",
   "metadata": {},
   "outputs": [
    {
     "name": "stdout",
     "output_type": "stream",
     "text": [
      "Luna is a German Retriever\n"
     ]
    }
   ],
   "source": [
    "lunadog = Dog(\"Luna\", \"German Retriever\")\n",
    "\n",
    "lunadog.TypeOfDog()"
   ]
  },
  {
   "cell_type": "code",
   "execution_count": 19,
   "id": "c93e5b48-de9b-42d5-b10c-4b533e1e896a",
   "metadata": {},
   "outputs": [
    {
     "name": "stdout",
     "output_type": "stream",
     "text": [
      "Tommy is a White Huskie\n"
     ]
    }
   ],
   "source": [
    "huskie = Dog(\"Tommy\", \"White Huskie\")\n",
    "\n",
    "huskie.TypeOfDog()"
   ]
  },
  {
   "cell_type": "code",
   "execution_count": 21,
   "id": "3a283a0b-a93f-4012-901e-9b1a886a25f1",
   "metadata": {},
   "outputs": [],
   "source": [
    "# The special method __init__() is called automatically right after the object has been created"
   ]
  },
  {
   "cell_type": "code",
   "execution_count": 23,
   "id": "87d609c2-a51a-43b0-8e5c-cc127089e203",
   "metadata": {},
   "outputs": [
    {
     "data": {
      "text/plain": [
       "'White Huskie'"
      ]
     },
     "execution_count": 23,
     "metadata": {},
     "output_type": "execute_result"
    }
   ],
   "source": [
    "huskie.breed"
   ]
  },
  {
   "cell_type": "code",
   "execution_count": 25,
   "id": "c44b3190-6d4a-4919-b6eb-2de370bd483f",
   "metadata": {},
   "outputs": [
    {
     "data": {
      "text/plain": [
       "'Tommy'"
      ]
     },
     "execution_count": 25,
     "metadata": {},
     "output_type": "execute_result"
    }
   ],
   "source": [
    "huskie.name"
   ]
  },
  {
   "cell_type": "code",
   "execution_count": 27,
   "id": "a0111a26-71fd-4b12-952b-ff2d118d1b07",
   "metadata": {},
   "outputs": [
    {
     "data": {
      "text/plain": [
       "'Luna'"
      ]
     },
     "execution_count": 27,
     "metadata": {},
     "output_type": "execute_result"
    }
   ],
   "source": [
    "lunadog.name"
   ]
  },
  {
   "cell_type": "code",
   "execution_count": 29,
   "id": "a20abd84-7f59-46ea-a834-ea1c24401e53",
   "metadata": {},
   "outputs": [
    {
     "data": {
      "text/plain": [
       "'German Retriever'"
      ]
     },
     "execution_count": 29,
     "metadata": {},
     "output_type": "execute_result"
    }
   ],
   "source": [
    "lunadog.breed"
   ]
  },
  {
   "cell_type": "code",
   "execution_count": 31,
   "id": "12d6767f-1f06-4924-a8a7-41263eab7495",
   "metadata": {},
   "outputs": [],
   "source": [
    "#tab gives u the attributes to objects and shift tab gives u the methods assosiated with the objects or instances"
   ]
  },
  {
   "cell_type": "code",
   "execution_count": 33,
   "id": "ffe7520c-0207-4fe6-9eb1-c5aa7cdc11a2",
   "metadata": {},
   "outputs": [],
   "source": [
    "#In Python there are also class object attributes. \n",
    "#These Class Object Attributes are the same for any instance of the class. \n",
    "#For example, we could create the attribute species for the Dog class. \n",
    "#Dogs, regardless of their breed, name, or other attributes, will always be mammals. "
   ]
  },
  {
   "cell_type": "code",
   "execution_count": 35,
   "id": "6d72f1f6-5077-44a3-a2b0-2f2fe8111180",
   "metadata": {},
   "outputs": [],
   "source": [
    "class Dog():\n",
    "    #class object attribute same for all objects or instances\n",
    "    species = \"mammal\"\n",
    "    \n",
    "    def __init__(self, name, breed):\n",
    "        self.breed = breed\n",
    "        self.name = name\n",
    "\n",
    "    def TypeOfDog(self):\n",
    "        print(f\"{self.name} is a {self.breed}\")\n"
   ]
  },
  {
   "cell_type": "code",
   "execution_count": 39,
   "id": "c6025d4c-2119-4dae-ad0f-85dd715960ab",
   "metadata": {},
   "outputs": [],
   "source": [
    "huskie = Dog(\"Tommy\", \"White Huskie\")\n",
    "lunadog = Dog(\"Luna\", \"German Retriever\")\n"
   ]
  },
  {
   "cell_type": "code",
   "execution_count": 41,
   "id": "df8eecd0-ccfa-4374-a957-d9da8cf876d9",
   "metadata": {},
   "outputs": [
    {
     "data": {
      "text/plain": [
       "'mammal'"
      ]
     },
     "execution_count": 41,
     "metadata": {},
     "output_type": "execute_result"
    }
   ],
   "source": [
    "huskie.species"
   ]
  },
  {
   "cell_type": "code",
   "execution_count": 43,
   "id": "4920cba3-b74a-420e-908a-72d45af74bf2",
   "metadata": {},
   "outputs": [
    {
     "data": {
      "text/plain": [
       "'mammal'"
      ]
     },
     "execution_count": 43,
     "metadata": {},
     "output_type": "execute_result"
    }
   ],
   "source": [
    "lunadog.species"
   ]
  },
  {
   "cell_type": "code",
   "execution_count": 45,
   "id": "87018466-61a7-4198-a61c-ee6e11d94178",
   "metadata": {},
   "outputs": [],
   "source": [
    "#Methods are functions defined inside the body of a class. \n",
    "#They are used to perform operations with the attributes of our objects. \n",
    "#Methods are a key concept of the OOP paradigm. \n",
    "#They are essential to dividing responsibilities in programming, especially in large applications."
   ]
  },
  {
   "cell_type": "code",
   "execution_count": 47,
   "id": "e34ef837-e30f-4184-ade2-1d96374b281c",
   "metadata": {},
   "outputs": [],
   "source": [
    "#You can basically think of methods as functions acting on an Object that take the Object itself into account through its self argument.\n",
    "class Dog():\n",
    "    #class object attribute same for all objects or instances\n",
    "    species = \"mammal\"\n",
    "    \n",
    "    def __init__(self, name, breed):\n",
    "        self.breed = breed\n",
    "        self.name = name\n",
    "\n",
    "    def TypeOfDog(self):\n",
    "        print(f\"{self.name} is a {self.breed}\")\n",
    "\n",
    "    def bark(self):\n",
    "        print(f\"{self.name} - {self.breed} barks (WOOF!)\")\n"
   ]
  },
  {
   "cell_type": "code",
   "execution_count": 49,
   "id": "7ea92ef6-f758-4f9b-9e50-0179e22b9962",
   "metadata": {},
   "outputs": [],
   "source": [
    "huskie = Dog(\"Tommy\", \"White Huskie\")\n",
    "lunadog = Dog(\"Luna\", \"German Retriever\")"
   ]
  },
  {
   "cell_type": "code",
   "execution_count": 51,
   "id": "0a3dde7e-c727-4476-9603-59980f9f6900",
   "metadata": {},
   "outputs": [
    {
     "name": "stdout",
     "output_type": "stream",
     "text": [
      "Tommy - White Huskie barks (WOOF!)\n"
     ]
    }
   ],
   "source": [
    "huskie.bark()"
   ]
  },
  {
   "cell_type": "code",
   "execution_count": 53,
   "id": "bc0f9425-f0e7-4978-b06e-74ae66eddc80",
   "metadata": {},
   "outputs": [
    {
     "name": "stdout",
     "output_type": "stream",
     "text": [
      "Luna - German Retriever barks (WOOF!)\n"
     ]
    }
   ],
   "source": [
    "lunadog.bark()"
   ]
  },
  {
   "cell_type": "code",
   "execution_count": 55,
   "id": "892fec57-2d0d-49f1-89a6-f65749e813d9",
   "metadata": {},
   "outputs": [],
   "source": [
    "class Circle():\n",
    "    #class object attribute\n",
    "    pi = 3.14\n",
    "\n",
    "    def __init__(self, radius=1):\n",
    "        self.radius = radius\n",
    "        # we can also have additional params too attached to each object of class like area\n",
    "        self.area = self.radius * self.radius * Circle.pi #can also be self.pi\n",
    "\n",
    "    def setRadius(self, radius):\n",
    "        self.radius = radius\n",
    "        # we can also have additional params too attached to each object of class like area\n",
    "        self.area = self.radius * self.radius * Circle.pi #can also be self.pi\n",
    "\n",
    "    def get_circumference(self):\n",
    "        return self.radius * Circle.pi * 2"
   ]
  },
  {
   "cell_type": "code",
   "execution_count": 57,
   "id": "653c3064-f2a8-478b-b159-e7899cef7b52",
   "metadata": {},
   "outputs": [],
   "source": [
    "my_circle = Circle()"
   ]
  },
  {
   "cell_type": "code",
   "execution_count": 59,
   "id": "d7770e3d-0e3b-4d99-8018-2b64ff549976",
   "metadata": {},
   "outputs": [
    {
     "data": {
      "text/plain": [
       "3.14"
      ]
     },
     "execution_count": 59,
     "metadata": {},
     "output_type": "execute_result"
    }
   ],
   "source": [
    "my_circle.pi"
   ]
  },
  {
   "cell_type": "code",
   "execution_count": 61,
   "id": "d0373f66-a248-4bce-973b-6d157be2ee37",
   "metadata": {},
   "outputs": [
    {
     "data": {
      "text/plain": [
       "1"
      ]
     },
     "execution_count": 61,
     "metadata": {},
     "output_type": "execute_result"
    }
   ],
   "source": [
    "my_circle.radius"
   ]
  },
  {
   "cell_type": "code",
   "execution_count": 63,
   "id": "d98cd06b-662f-4096-b72b-8a04238073da",
   "metadata": {},
   "outputs": [
    {
     "data": {
      "text/plain": [
       "3.14"
      ]
     },
     "execution_count": 63,
     "metadata": {},
     "output_type": "execute_result"
    }
   ],
   "source": [
    "my_circle.area"
   ]
  },
  {
   "cell_type": "code",
   "execution_count": 65,
   "id": "2c9595e2-2088-45eb-85e4-c77a27dc4b4b",
   "metadata": {},
   "outputs": [
    {
     "data": {
      "text/plain": [
       "6.28"
      ]
     },
     "execution_count": 65,
     "metadata": {},
     "output_type": "execute_result"
    }
   ],
   "source": [
    "my_circle.get_circumference()"
   ]
  },
  {
   "cell_type": "code",
   "execution_count": 67,
   "id": "f345b2b8-82ca-4d4b-ad10-6fd8bca5222a",
   "metadata": {},
   "outputs": [],
   "source": [
    "my_circle.setRadius(3)"
   ]
  },
  {
   "cell_type": "code",
   "execution_count": 69,
   "id": "f955301f-7fa0-408e-93c5-6c819406de84",
   "metadata": {},
   "outputs": [
    {
     "data": {
      "text/plain": [
       "3.14"
      ]
     },
     "execution_count": 69,
     "metadata": {},
     "output_type": "execute_result"
    }
   ],
   "source": [
    "my_circle.pi"
   ]
  },
  {
   "cell_type": "code",
   "execution_count": 71,
   "id": "df2f7a49-7afb-4491-89d3-35eeb859529f",
   "metadata": {},
   "outputs": [
    {
     "data": {
      "text/plain": [
       "3"
      ]
     },
     "execution_count": 71,
     "metadata": {},
     "output_type": "execute_result"
    }
   ],
   "source": [
    "my_circle.radius"
   ]
  },
  {
   "cell_type": "code",
   "execution_count": 73,
   "id": "694dd4fa-7318-4681-8730-7912292ae5c8",
   "metadata": {},
   "outputs": [
    {
     "data": {
      "text/plain": [
       "28.26"
      ]
     },
     "execution_count": 73,
     "metadata": {},
     "output_type": "execute_result"
    }
   ],
   "source": [
    "my_circle.area"
   ]
  },
  {
   "cell_type": "code",
   "execution_count": 75,
   "id": "841e0005-b03f-49d4-86ba-62cbc53eaf74",
   "metadata": {},
   "outputs": [],
   "source": [
    "my_circle = Circle(5)"
   ]
  },
  {
   "cell_type": "code",
   "execution_count": 77,
   "id": "1d90c43f-4ad7-4181-bd7a-d0b24e82502c",
   "metadata": {},
   "outputs": [
    {
     "data": {
      "text/plain": [
       "5"
      ]
     },
     "execution_count": 77,
     "metadata": {},
     "output_type": "execute_result"
    }
   ],
   "source": [
    "my_circle.radius"
   ]
  },
  {
   "cell_type": "code",
   "execution_count": 79,
   "id": "d601746c-ca70-4a90-8cf7-9c1023703069",
   "metadata": {},
   "outputs": [
    {
     "data": {
      "text/plain": [
       "78.5"
      ]
     },
     "execution_count": 79,
     "metadata": {},
     "output_type": "execute_result"
    }
   ],
   "source": [
    "my_circle.area"
   ]
  },
  {
   "cell_type": "code",
   "execution_count": 81,
   "id": "0e1ac18f-1bd0-4671-8b85-10739fa50edc",
   "metadata": {},
   "outputs": [
    {
     "data": {
      "text/plain": [
       "31.400000000000002"
      ]
     },
     "execution_count": 81,
     "metadata": {},
     "output_type": "execute_result"
    }
   ],
   "source": [
    "my_circle.get_circumference()"
   ]
  },
  {
   "cell_type": "code",
   "execution_count": null,
   "id": "00bc6f76-eb09-4a6a-9372-c2f24364ecf1",
   "metadata": {},
   "outputs": [],
   "source": [
    "#In the __init__ method above, in order to calculate the area attribute, we had to call Circle.pi. \n",
    "#This is because its the class object attribute and its same for all the objects or instances of the class.\n",
    "#Here we can use either Circle.pi or self.pi."
   ]
  }
 ],
 "metadata": {
  "kernelspec": {
   "display_name": "Python 3 (ipykernel)",
   "language": "python",
   "name": "python3"
  },
  "language_info": {
   "codemirror_mode": {
    "name": "ipython",
    "version": 3
   },
   "file_extension": ".py",
   "mimetype": "text/x-python",
   "name": "python",
   "nbconvert_exporter": "python",
   "pygments_lexer": "ipython3",
   "version": "3.12.7"
  }
 },
 "nbformat": 4,
 "nbformat_minor": 5
}
