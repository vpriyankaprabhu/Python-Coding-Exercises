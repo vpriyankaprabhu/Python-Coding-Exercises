{
 "cells": [
  {
   "cell_type": "markdown",
   "id": "d226a87f-bd5d-4735-957a-ae3334688aca",
   "metadata": {},
   "source": [
    "<H1> Web Scraping </h1>"
   ]
  },
  {
   "cell_type": "markdown",
   "id": "22e102ab-f0ad-4f1a-855a-b7c579429a97",
   "metadata": {},
   "source": [
    "Web scraping is a general term for automating and downloading data from website.\n",
    ".\n",
    "We will learn about downloading of images and information from websites."
   ]
  },
  {
   "cell_type": "code",
   "execution_count": 5,
   "id": "e1e63fb0-499e-4607-a47a-7ac38b8582bd",
   "metadata": {},
   "outputs": [],
   "source": [
    "# Main Things to understand:\n",
    "#- Rules of WebScraping\n",
    "#- Limitations of WebScraping\n",
    "#- Basics of HTML and CSS"
   ]
  },
  {
   "cell_type": "markdown",
   "id": "a7d10272-7255-4d56-8d54-bf65d3f91bcf",
   "metadata": {},
   "source": [
    "Always be respectful and try to get premission to scrape, do not bombard a website with scraping requests, otherwise your IP address may be blocked!<br/>\n",
    "Be aware that websites change often, meaning your code could go from working to totally broken from one day to the next.<br/>\n",
    "Pretty much every web scraping project of interest is a unique and custom job, so try your best to generalize the skills learned here.<br/>"
   ]
  },
  {
   "cell_type": "markdown",
   "id": "3dec86bf-3e6c-413d-961f-7e4ec0ff939b",
   "metadata": {},
   "source": [
    "web scraping script is unique to each website and cant be generalised<br/>"
   ]
  },
  {
   "cell_type": "markdown",
   "id": "068dfa13-566c-4b7d-815f-940c18a27320",
   "metadata": {},
   "source": [
    "HTML contains basic structure for website and content of webpage<br/><br/>\n",
    "CSS is used to design and style the webpage where elements should be placed snd how it looks like<br/><br/>\n",
    "Javascript used to define the interactive elements of a webpage<br/><br/>\n",
    "To scrape website in python we will need to use BeautifulSoup and requests libraries."
   ]
  },
  {
   "cell_type": "markdown",
   "id": "eb7c74c6-e7ad-40e1-b33c-faaebf084472",
   "metadata": {},
   "source": [
    "<h1>Web Scraping with Python</h1>\n",
    "There are a few libraries you will need, you can go to your command line and install them with conda install (if you are using anaconda distribution), or pip install for other python distributions.\n",
    "<br/>\n",
    "conda install requests<br/>\n",
    "conda install lxml<br/>\n",
    "conda install bs4<br/>\n",
    "if you are not using the Anaconda Installation, you can use pip install instead of conda install, for example:<br/>\n",
    "pip install requests<br/>\n",
    "pip install lxml<br/>\n",
    "pip install bs4<br/>\n",
    "<br/>"
   ]
  },
  {
   "cell_type": "code",
   "execution_count": null,
   "id": "95ee7164-8a12-4633-a99b-c9b8d7c1e189",
   "metadata": {},
   "outputs": [],
   "source": []
  }
 ],
 "metadata": {
  "kernelspec": {
   "display_name": "Python 3 (ipykernel)",
   "language": "python",
   "name": "python3"
  },
  "language_info": {
   "codemirror_mode": {
    "name": "ipython",
    "version": 3
   },
   "file_extension": ".py",
   "mimetype": "text/x-python",
   "name": "python",
   "nbconvert_exporter": "python",
   "pygments_lexer": "ipython3",
   "version": "3.12.7"
  }
 },
 "nbformat": 4,
 "nbformat_minor": 5
}
