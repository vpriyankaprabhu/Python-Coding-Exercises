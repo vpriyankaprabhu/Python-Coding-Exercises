{
 "cells": [
  {
   "cell_type": "markdown",
   "id": "22c33b4b-7279-456c-a15f-435cb4b2895e",
   "metadata": {},
   "source": [
    "<h1>Example Task 1 - Grabbing all elements of a class\n",
    "</h1>"
   ]
  },
  {
   "cell_type": "markdown",
   "id": "15bff225-b9b4-4b85-9ba6-3d1b7fe4a7c3",
   "metadata": {},
   "source": [
    "Let's try to grab all the section headings of the Wikipedia Article on Grace Hopper from this URL: https://en.wikipedia.org/wiki/Grace_Hopper"
   ]
  },
  {
   "cell_type": "code",
   "execution_count": 17,
   "id": "9608bf05-2dcf-4d25-92e2-7650f4120e5f",
   "metadata": {},
   "outputs": [],
   "source": [
    "import requests\n",
    "import bs4"
   ]
  },
  {
   "cell_type": "code",
   "execution_count": 5,
   "id": "69e1df33-5e13-447f-aa03-42117fcb5b5d",
   "metadata": {},
   "outputs": [
    {
     "data": {
      "text/plain": [
       "<Response [200]>"
      ]
     },
     "execution_count": 5,
     "metadata": {},
     "output_type": "execute_result"
    }
   ],
   "source": [
    "result = requests.get(\"https://en.wikipedia.org/wiki/Grace_Hopper\")\n",
    "result"
   ]
  },
  {
   "cell_type": "code",
   "execution_count": 125,
   "id": "7b745e84-e607-4884-8960-ab7565bc502d",
   "metadata": {},
   "outputs": [],
   "source": [
    "#result.text"
   ]
  },
  {
   "cell_type": "code",
   "execution_count": 11,
   "id": "b52a81c3-2310-4ec2-a6a4-e20392f38838",
   "metadata": {},
   "outputs": [
    {
     "data": {
      "text/plain": [
       "str"
      ]
     },
     "execution_count": 11,
     "metadata": {},
     "output_type": "execute_result"
    }
   ],
   "source": [
    "type(result.text)"
   ]
  },
  {
   "cell_type": "code",
   "execution_count": 19,
   "id": "189a250c-c08f-4fd2-ad07-27d565d66a63",
   "metadata": {},
   "outputs": [],
   "source": [
    "soup = bs4.BeautifulSoup(result.text, \"lxml\")"
   ]
  },
  {
   "cell_type": "code",
   "execution_count": 55,
   "id": "f34bc118-5b36-413b-b35b-885dd117e094",
   "metadata": {},
   "outputs": [],
   "source": [
    "#soup"
   ]
  },
  {
   "cell_type": "code",
   "execution_count": 69,
   "id": "20049397-23dd-412f-b2f3-3db70054e49e",
   "metadata": {},
   "outputs": [
    {
     "data": {
      "text/plain": [
       "[<div class=\"mw-heading mw-heading2\"><h2 id=\"Early_life_and_education\">Early life and education</h2><span class=\"mw-editsection\"><span class=\"mw-editsection-bracket\">[</span><a href=\"/w/index.php?title=Grace_Hopper&amp;action=edit&amp;section=1\" title=\"Edit section: Early life and education\"><span>edit</span></a><span class=\"mw-editsection-bracket\">]</span></span></div>,\n",
       " <div class=\"mw-heading mw-heading2\"><h2 id=\"Career\">Career</h2><span class=\"mw-editsection\"><span class=\"mw-editsection-bracket\">[</span><a href=\"/w/index.php?title=Grace_Hopper&amp;action=edit&amp;section=2\" title=\"Edit section: Career\"><span>edit</span></a><span class=\"mw-editsection-bracket\">]</span></span></div>,\n",
       " <div class=\"mw-heading mw-heading3\"><h3 id=\"World_War_II\">World War II</h3><span class=\"mw-editsection\"><span class=\"mw-editsection-bracket\">[</span><a href=\"/w/index.php?title=Grace_Hopper&amp;action=edit&amp;section=3\" title=\"Edit section: World War II\"><span>edit</span></a><span class=\"mw-editsection-bracket\">]</span></span></div>,\n",
       " <div class=\"mw-heading mw-heading3\"><h3 id=\"UNIVAC\">UNIVAC</h3><span class=\"mw-editsection\"><span class=\"mw-editsection-bracket\">[</span><a href=\"/w/index.php?title=Grace_Hopper&amp;action=edit&amp;section=4\" title=\"Edit section: UNIVAC\"><span>edit</span></a><span class=\"mw-editsection-bracket\">]</span></span></div>,\n",
       " <div class=\"mw-heading mw-heading3\"><h3 id=\"COBOL\">COBOL</h3><span class=\"mw-editsection\"><span class=\"mw-editsection-bracket\">[</span><a href=\"/w/index.php?title=Grace_Hopper&amp;action=edit&amp;section=5\" title=\"Edit section: COBOL\"><span>edit</span></a><span class=\"mw-editsection-bracket\">]</span></span></div>,\n",
       " <div class=\"mw-heading mw-heading3\"><h3 id=\"Standards\">Standards</h3><span class=\"mw-editsection\"><span class=\"mw-editsection-bracket\">[</span><a href=\"/w/index.php?title=Grace_Hopper&amp;action=edit&amp;section=6\" title=\"Edit section: Standards\"><span>edit</span></a><span class=\"mw-editsection-bracket\">]</span></span></div>,\n",
       " <div class=\"mw-heading mw-heading2\"><h2 id=\"Retirement\">Retirement</h2><span class=\"mw-editsection\"><span class=\"mw-editsection-bracket\">[</span><a href=\"/w/index.php?title=Grace_Hopper&amp;action=edit&amp;section=7\" title=\"Edit section: Retirement\"><span>edit</span></a><span class=\"mw-editsection-bracket\">]</span></span></div>,\n",
       " <div class=\"mw-heading mw-heading2\"><h2 id=\"Post-retirement\">Post-retirement</h2><span class=\"mw-editsection\"><span class=\"mw-editsection-bracket\">[</span><a href=\"/w/index.php?title=Grace_Hopper&amp;action=edit&amp;section=8\" title=\"Edit section: Post-retirement\"><span>edit</span></a><span class=\"mw-editsection-bracket\">]</span></span></div>,\n",
       " <div class=\"mw-heading mw-heading2\"><h2 id=\"Anecdotes\">Anecdotes</h2><span class=\"mw-editsection\"><span class=\"mw-editsection-bracket\">[</span><a href=\"/w/index.php?title=Grace_Hopper&amp;action=edit&amp;section=9\" title=\"Edit section: Anecdotes\"><span>edit</span></a><span class=\"mw-editsection-bracket\">]</span></span></div>,\n",
       " <div class=\"mw-heading mw-heading2\"><h2 id=\"Death\">Death</h2><span class=\"mw-editsection\"><span class=\"mw-editsection-bracket\">[</span><a href=\"/w/index.php?title=Grace_Hopper&amp;action=edit&amp;section=10\" title=\"Edit section: Death\"><span>edit</span></a><span class=\"mw-editsection-bracket\">]</span></span></div>,\n",
       " <div class=\"mw-heading mw-heading2\"><h2 id=\"Dates_of_rank\">Dates of rank</h2><span class=\"mw-editsection\"><span class=\"mw-editsection-bracket\">[</span><a href=\"/w/index.php?title=Grace_Hopper&amp;action=edit&amp;section=11\" title=\"Edit section: Dates of rank\"><span>edit</span></a><span class=\"mw-editsection-bracket\">]</span></span></div>,\n",
       " <div class=\"mw-heading mw-heading2\"><h2 id=\"Awards_and_honors\">Awards and honors</h2><span class=\"mw-editsection\"><span class=\"mw-editsection-bracket\">[</span><a href=\"/w/index.php?title=Grace_Hopper&amp;action=edit&amp;section=12\" title=\"Edit section: Awards and honors\"><span>edit</span></a><span class=\"mw-editsection-bracket\">]</span></span></div>,\n",
       " <div class=\"mw-heading mw-heading3\"><h3 id=\"Military_awards\">Military awards</h3><span class=\"mw-editsection\"><span class=\"mw-editsection-bracket\">[</span><a href=\"/w/index.php?title=Grace_Hopper&amp;action=edit&amp;section=13\" title=\"Edit section: Military awards\"><span>edit</span></a><span class=\"mw-editsection-bracket\">]</span></span></div>,\n",
       " <div class=\"mw-heading mw-heading3\"><h3 id=\"Other_awards\">Other awards</h3><span class=\"mw-editsection\"><span class=\"mw-editsection-bracket\">[</span><a href=\"/w/index.php?title=Grace_Hopper&amp;action=edit&amp;section=14\" title=\"Edit section: Other awards\"><span>edit</span></a><span class=\"mw-editsection-bracket\">]</span></span></div>,\n",
       " <div class=\"mw-heading mw-heading2\"><h2 id=\"Legacy\">Legacy</h2><span class=\"mw-editsection\"><span class=\"mw-editsection-bracket\">[</span><a href=\"/w/index.php?title=Grace_Hopper&amp;action=edit&amp;section=15\" title=\"Edit section: Legacy\"><span>edit</span></a><span class=\"mw-editsection-bracket\">]</span></span></div>,\n",
       " <div class=\"mw-heading mw-heading3\"><h3 id=\"Places\">Places</h3><span class=\"mw-editsection\"><span class=\"mw-editsection-bracket\">[</span><a href=\"/w/index.php?title=Grace_Hopper&amp;action=edit&amp;section=16\" title=\"Edit section: Places\"><span>edit</span></a><span class=\"mw-editsection-bracket\">]</span></span></div>,\n",
       " <div class=\"mw-heading mw-heading3\"><h3 id=\"Programs\">Programs</h3><span class=\"mw-editsection\"><span class=\"mw-editsection-bracket\">[</span><a href=\"/w/index.php?title=Grace_Hopper&amp;action=edit&amp;section=17\" title=\"Edit section: Programs\"><span>edit</span></a><span class=\"mw-editsection-bracket\">]</span></span></div>,\n",
       " <div class=\"mw-heading mw-heading3\"><h3 id=\"In_popular_culture\">In popular culture</h3><span class=\"mw-editsection\"><span class=\"mw-editsection-bracket\">[</span><a href=\"/w/index.php?title=Grace_Hopper&amp;action=edit&amp;section=18\" title=\"Edit section: In popular culture\"><span>edit</span></a><span class=\"mw-editsection-bracket\">]</span></span></div>,\n",
       " <div class=\"mw-heading mw-heading4\"><h4 id=\"Grace_Hopper_Celebration_of_Women_in_Computing\">Grace Hopper Celebration of Women in Computing</h4><span class=\"mw-editsection\"><span class=\"mw-editsection-bracket\">[</span><a href=\"/w/index.php?title=Grace_Hopper&amp;action=edit&amp;section=19\" title=\"Edit section: Grace Hopper Celebration of Women in Computing\"><span>edit</span></a><span class=\"mw-editsection-bracket\">]</span></span></div>,\n",
       " <div class=\"mw-heading mw-heading2\"><h2 id=\"See_also\">See also</h2><span class=\"mw-editsection\"><span class=\"mw-editsection-bracket\">[</span><a href=\"/w/index.php?title=Grace_Hopper&amp;action=edit&amp;section=20\" title=\"Edit section: See also\"><span>edit</span></a><span class=\"mw-editsection-bracket\">]</span></span></div>,\n",
       " <div class=\"mw-heading mw-heading2\"><h2 id=\"Notes\">Notes</h2><span class=\"mw-editsection\"><span class=\"mw-editsection-bracket\">[</span><a href=\"/w/index.php?title=Grace_Hopper&amp;action=edit&amp;section=21\" title=\"Edit section: Notes\"><span>edit</span></a><span class=\"mw-editsection-bracket\">]</span></span></div>,\n",
       " <div class=\"mw-heading mw-heading2\"><h2 id=\"References\">References</h2><span class=\"mw-editsection\"><span class=\"mw-editsection-bracket\">[</span><a href=\"/w/index.php?title=Grace_Hopper&amp;action=edit&amp;section=22\" title=\"Edit section: References\"><span>edit</span></a><span class=\"mw-editsection-bracket\">]</span></span></div>,\n",
       " <div class=\"mw-heading mw-heading2\"><h2 id=\"Obituary_notices\">Obituary notices</h2><span class=\"mw-editsection\"><span class=\"mw-editsection-bracket\">[</span><a href=\"/w/index.php?title=Grace_Hopper&amp;action=edit&amp;section=23\" title=\"Edit section: Obituary notices\"><span>edit</span></a><span class=\"mw-editsection-bracket\">]</span></span></div>,\n",
       " <div class=\"mw-heading mw-heading2\"><h2 id=\"Further_reading\">Further reading</h2><span class=\"mw-editsection\"><span class=\"mw-editsection-bracket\">[</span><a href=\"/w/index.php?title=Grace_Hopper&amp;action=edit&amp;section=24\" title=\"Edit section: Further reading\"><span>edit</span></a><span class=\"mw-editsection-bracket\">]</span></span></div>,\n",
       " <div class=\"mw-heading mw-heading2\"><h2 id=\"External_links\">External links</h2><span class=\"mw-editsection\"><span class=\"mw-editsection-bracket\">[</span><a href=\"/w/index.php?title=Grace_Hopper&amp;action=edit&amp;section=25\" title=\"Edit section: External links\"><span>edit</span></a><span class=\"mw-editsection-bracket\">]</span></span></div>]"
      ]
     },
     "execution_count": 69,
     "metadata": {},
     "output_type": "execute_result"
    }
   ],
   "source": [
    "# note depending on your IP Address, \n",
    "# this class may be called something different\n",
    "soup.select(\".mw-heading\")"
   ]
  },
  {
   "cell_type": "code",
   "execution_count": 67,
   "id": "079a7952-9894-433b-afbe-73bd37ed28cf",
   "metadata": {},
   "outputs": [
    {
     "data": {
      "text/plain": [
       "'Early life and education'"
      ]
     },
     "execution_count": 67,
     "metadata": {},
     "output_type": "execute_result"
    }
   ],
   "source": [
    "soup.select(\".mw-heading\")[0].select(\"h2\")[0].getText() #first element"
   ]
  },
  {
   "cell_type": "code",
   "execution_count": 91,
   "id": "89fa3e50-e67b-457d-acf2-82a48b5e099d",
   "metadata": {},
   "outputs": [
    {
     "data": {
      "text/plain": [
       "[<div class=\"mw-heading mw-heading2\"><h2 id=\"Early_life_and_education\">Early life and education</h2><span class=\"mw-editsection\"><span class=\"mw-editsection-bracket\">[</span><a href=\"/w/index.php?title=Grace_Hopper&amp;action=edit&amp;section=1\" title=\"Edit section: Early life and education\"><span>edit</span></a><span class=\"mw-editsection-bracket\">]</span></span></div>,\n",
       " <div class=\"mw-heading mw-heading2\"><h2 id=\"Career\">Career</h2><span class=\"mw-editsection\"><span class=\"mw-editsection-bracket\">[</span><a href=\"/w/index.php?title=Grace_Hopper&amp;action=edit&amp;section=2\" title=\"Edit section: Career\"><span>edit</span></a><span class=\"mw-editsection-bracket\">]</span></span></div>,\n",
       " <div class=\"mw-heading mw-heading3\"><h3 id=\"World_War_II\">World War II</h3><span class=\"mw-editsection\"><span class=\"mw-editsection-bracket\">[</span><a href=\"/w/index.php?title=Grace_Hopper&amp;action=edit&amp;section=3\" title=\"Edit section: World War II\"><span>edit</span></a><span class=\"mw-editsection-bracket\">]</span></span></div>,\n",
       " <div class=\"mw-heading mw-heading3\"><h3 id=\"UNIVAC\">UNIVAC</h3><span class=\"mw-editsection\"><span class=\"mw-editsection-bracket\">[</span><a href=\"/w/index.php?title=Grace_Hopper&amp;action=edit&amp;section=4\" title=\"Edit section: UNIVAC\"><span>edit</span></a><span class=\"mw-editsection-bracket\">]</span></span></div>,\n",
       " <div class=\"mw-heading mw-heading3\"><h3 id=\"COBOL\">COBOL</h3><span class=\"mw-editsection\"><span class=\"mw-editsection-bracket\">[</span><a href=\"/w/index.php?title=Grace_Hopper&amp;action=edit&amp;section=5\" title=\"Edit section: COBOL\"><span>edit</span></a><span class=\"mw-editsection-bracket\">]</span></span></div>,\n",
       " <div class=\"mw-heading mw-heading3\"><h3 id=\"Standards\">Standards</h3><span class=\"mw-editsection\"><span class=\"mw-editsection-bracket\">[</span><a href=\"/w/index.php?title=Grace_Hopper&amp;action=edit&amp;section=6\" title=\"Edit section: Standards\"><span>edit</span></a><span class=\"mw-editsection-bracket\">]</span></span></div>,\n",
       " <div class=\"mw-heading mw-heading2\"><h2 id=\"Retirement\">Retirement</h2><span class=\"mw-editsection\"><span class=\"mw-editsection-bracket\">[</span><a href=\"/w/index.php?title=Grace_Hopper&amp;action=edit&amp;section=7\" title=\"Edit section: Retirement\"><span>edit</span></a><span class=\"mw-editsection-bracket\">]</span></span></div>,\n",
       " <div class=\"mw-heading mw-heading2\"><h2 id=\"Post-retirement\">Post-retirement</h2><span class=\"mw-editsection\"><span class=\"mw-editsection-bracket\">[</span><a href=\"/w/index.php?title=Grace_Hopper&amp;action=edit&amp;section=8\" title=\"Edit section: Post-retirement\"><span>edit</span></a><span class=\"mw-editsection-bracket\">]</span></span></div>,\n",
       " <div class=\"mw-heading mw-heading2\"><h2 id=\"Anecdotes\">Anecdotes</h2><span class=\"mw-editsection\"><span class=\"mw-editsection-bracket\">[</span><a href=\"/w/index.php?title=Grace_Hopper&amp;action=edit&amp;section=9\" title=\"Edit section: Anecdotes\"><span>edit</span></a><span class=\"mw-editsection-bracket\">]</span></span></div>,\n",
       " <div class=\"mw-heading mw-heading2\"><h2 id=\"Death\">Death</h2><span class=\"mw-editsection\"><span class=\"mw-editsection-bracket\">[</span><a href=\"/w/index.php?title=Grace_Hopper&amp;action=edit&amp;section=10\" title=\"Edit section: Death\"><span>edit</span></a><span class=\"mw-editsection-bracket\">]</span></span></div>,\n",
       " <div class=\"mw-heading mw-heading2\"><h2 id=\"Dates_of_rank\">Dates of rank</h2><span class=\"mw-editsection\"><span class=\"mw-editsection-bracket\">[</span><a href=\"/w/index.php?title=Grace_Hopper&amp;action=edit&amp;section=11\" title=\"Edit section: Dates of rank\"><span>edit</span></a><span class=\"mw-editsection-bracket\">]</span></span></div>,\n",
       " <div class=\"mw-heading mw-heading2\"><h2 id=\"Awards_and_honors\">Awards and honors</h2><span class=\"mw-editsection\"><span class=\"mw-editsection-bracket\">[</span><a href=\"/w/index.php?title=Grace_Hopper&amp;action=edit&amp;section=12\" title=\"Edit section: Awards and honors\"><span>edit</span></a><span class=\"mw-editsection-bracket\">]</span></span></div>,\n",
       " <div class=\"mw-heading mw-heading3\"><h3 id=\"Military_awards\">Military awards</h3><span class=\"mw-editsection\"><span class=\"mw-editsection-bracket\">[</span><a href=\"/w/index.php?title=Grace_Hopper&amp;action=edit&amp;section=13\" title=\"Edit section: Military awards\"><span>edit</span></a><span class=\"mw-editsection-bracket\">]</span></span></div>,\n",
       " <div class=\"mw-heading mw-heading3\"><h3 id=\"Other_awards\">Other awards</h3><span class=\"mw-editsection\"><span class=\"mw-editsection-bracket\">[</span><a href=\"/w/index.php?title=Grace_Hopper&amp;action=edit&amp;section=14\" title=\"Edit section: Other awards\"><span>edit</span></a><span class=\"mw-editsection-bracket\">]</span></span></div>,\n",
       " <div class=\"mw-heading mw-heading2\"><h2 id=\"Legacy\">Legacy</h2><span class=\"mw-editsection\"><span class=\"mw-editsection-bracket\">[</span><a href=\"/w/index.php?title=Grace_Hopper&amp;action=edit&amp;section=15\" title=\"Edit section: Legacy\"><span>edit</span></a><span class=\"mw-editsection-bracket\">]</span></span></div>,\n",
       " <div class=\"mw-heading mw-heading3\"><h3 id=\"Places\">Places</h3><span class=\"mw-editsection\"><span class=\"mw-editsection-bracket\">[</span><a href=\"/w/index.php?title=Grace_Hopper&amp;action=edit&amp;section=16\" title=\"Edit section: Places\"><span>edit</span></a><span class=\"mw-editsection-bracket\">]</span></span></div>,\n",
       " <div class=\"mw-heading mw-heading3\"><h3 id=\"Programs\">Programs</h3><span class=\"mw-editsection\"><span class=\"mw-editsection-bracket\">[</span><a href=\"/w/index.php?title=Grace_Hopper&amp;action=edit&amp;section=17\" title=\"Edit section: Programs\"><span>edit</span></a><span class=\"mw-editsection-bracket\">]</span></span></div>,\n",
       " <div class=\"mw-heading mw-heading3\"><h3 id=\"In_popular_culture\">In popular culture</h3><span class=\"mw-editsection\"><span class=\"mw-editsection-bracket\">[</span><a href=\"/w/index.php?title=Grace_Hopper&amp;action=edit&amp;section=18\" title=\"Edit section: In popular culture\"><span>edit</span></a><span class=\"mw-editsection-bracket\">]</span></span></div>,\n",
       " <div class=\"mw-heading mw-heading4\"><h4 id=\"Grace_Hopper_Celebration_of_Women_in_Computing\">Grace Hopper Celebration of Women in Computing</h4><span class=\"mw-editsection\"><span class=\"mw-editsection-bracket\">[</span><a href=\"/w/index.php?title=Grace_Hopper&amp;action=edit&amp;section=19\" title=\"Edit section: Grace Hopper Celebration of Women in Computing\"><span>edit</span></a><span class=\"mw-editsection-bracket\">]</span></span></div>,\n",
       " <div class=\"mw-heading mw-heading2\"><h2 id=\"See_also\">See also</h2><span class=\"mw-editsection\"><span class=\"mw-editsection-bracket\">[</span><a href=\"/w/index.php?title=Grace_Hopper&amp;action=edit&amp;section=20\" title=\"Edit section: See also\"><span>edit</span></a><span class=\"mw-editsection-bracket\">]</span></span></div>,\n",
       " <div class=\"mw-heading mw-heading2\"><h2 id=\"Notes\">Notes</h2><span class=\"mw-editsection\"><span class=\"mw-editsection-bracket\">[</span><a href=\"/w/index.php?title=Grace_Hopper&amp;action=edit&amp;section=21\" title=\"Edit section: Notes\"><span>edit</span></a><span class=\"mw-editsection-bracket\">]</span></span></div>,\n",
       " <div class=\"mw-heading mw-heading2\"><h2 id=\"References\">References</h2><span class=\"mw-editsection\"><span class=\"mw-editsection-bracket\">[</span><a href=\"/w/index.php?title=Grace_Hopper&amp;action=edit&amp;section=22\" title=\"Edit section: References\"><span>edit</span></a><span class=\"mw-editsection-bracket\">]</span></span></div>,\n",
       " <div class=\"mw-heading mw-heading2\"><h2 id=\"Obituary_notices\">Obituary notices</h2><span class=\"mw-editsection\"><span class=\"mw-editsection-bracket\">[</span><a href=\"/w/index.php?title=Grace_Hopper&amp;action=edit&amp;section=23\" title=\"Edit section: Obituary notices\"><span>edit</span></a><span class=\"mw-editsection-bracket\">]</span></span></div>,\n",
       " <div class=\"mw-heading mw-heading2\"><h2 id=\"Further_reading\">Further reading</h2><span class=\"mw-editsection\"><span class=\"mw-editsection-bracket\">[</span><a href=\"/w/index.php?title=Grace_Hopper&amp;action=edit&amp;section=24\" title=\"Edit section: Further reading\"><span>edit</span></a><span class=\"mw-editsection-bracket\">]</span></span></div>,\n",
       " <div class=\"mw-heading mw-heading2\"><h2 id=\"External_links\">External links</h2><span class=\"mw-editsection\"><span class=\"mw-editsection-bracket\">[</span><a href=\"/w/index.php?title=Grace_Hopper&amp;action=edit&amp;section=25\" title=\"Edit section: External links\"><span>edit</span></a><span class=\"mw-editsection-bracket\">]</span></span></div>]"
      ]
     },
     "execution_count": 91,
     "metadata": {},
     "output_type": "execute_result"
    }
   ],
   "source": [
    "items = soup.select(\".mw-heading\")\n",
    "items"
   ]
  },
  {
   "cell_type": "code",
   "execution_count": 101,
   "id": "3748ee10-5db9-41de-85bb-ebf24f9b086e",
   "metadata": {},
   "outputs": [
    {
     "name": "stdout",
     "output_type": "stream",
     "text": [
      "<div class=\"mw-heading mw-heading2\"><h2 id=\"Early_life_and_education\">Early life and education</h2><span class=\"mw-editsection\"><span class=\"mw-editsection-bracket\">[</span><a href=\"/w/index.php?title=Grace_Hopper&amp;action=edit&amp;section=1\" title=\"Edit section: Early life and education\"><span>edit</span></a><span class=\"mw-editsection-bracket\">]</span></span></div> \n",
      "\n",
      "<div class=\"mw-heading mw-heading2\"><h2 id=\"Career\">Career</h2><span class=\"mw-editsection\"><span class=\"mw-editsection-bracket\">[</span><a href=\"/w/index.php?title=Grace_Hopper&amp;action=edit&amp;section=2\" title=\"Edit section: Career\"><span>edit</span></a><span class=\"mw-editsection-bracket\">]</span></span></div> \n",
      "\n",
      "<div class=\"mw-heading mw-heading3\"><h3 id=\"World_War_II\">World War II</h3><span class=\"mw-editsection\"><span class=\"mw-editsection-bracket\">[</span><a href=\"/w/index.php?title=Grace_Hopper&amp;action=edit&amp;section=3\" title=\"Edit section: World War II\"><span>edit</span></a><span class=\"mw-editsection-bracket\">]</span></span></div> \n",
      "\n",
      "<div class=\"mw-heading mw-heading3\"><h3 id=\"UNIVAC\">UNIVAC</h3><span class=\"mw-editsection\"><span class=\"mw-editsection-bracket\">[</span><a href=\"/w/index.php?title=Grace_Hopper&amp;action=edit&amp;section=4\" title=\"Edit section: UNIVAC\"><span>edit</span></a><span class=\"mw-editsection-bracket\">]</span></span></div> \n",
      "\n",
      "<div class=\"mw-heading mw-heading3\"><h3 id=\"COBOL\">COBOL</h3><span class=\"mw-editsection\"><span class=\"mw-editsection-bracket\">[</span><a href=\"/w/index.php?title=Grace_Hopper&amp;action=edit&amp;section=5\" title=\"Edit section: COBOL\"><span>edit</span></a><span class=\"mw-editsection-bracket\">]</span></span></div> \n",
      "\n",
      "<div class=\"mw-heading mw-heading3\"><h3 id=\"Standards\">Standards</h3><span class=\"mw-editsection\"><span class=\"mw-editsection-bracket\">[</span><a href=\"/w/index.php?title=Grace_Hopper&amp;action=edit&amp;section=6\" title=\"Edit section: Standards\"><span>edit</span></a><span class=\"mw-editsection-bracket\">]</span></span></div> \n",
      "\n",
      "<div class=\"mw-heading mw-heading2\"><h2 id=\"Retirement\">Retirement</h2><span class=\"mw-editsection\"><span class=\"mw-editsection-bracket\">[</span><a href=\"/w/index.php?title=Grace_Hopper&amp;action=edit&amp;section=7\" title=\"Edit section: Retirement\"><span>edit</span></a><span class=\"mw-editsection-bracket\">]</span></span></div> \n",
      "\n",
      "<div class=\"mw-heading mw-heading2\"><h2 id=\"Post-retirement\">Post-retirement</h2><span class=\"mw-editsection\"><span class=\"mw-editsection-bracket\">[</span><a href=\"/w/index.php?title=Grace_Hopper&amp;action=edit&amp;section=8\" title=\"Edit section: Post-retirement\"><span>edit</span></a><span class=\"mw-editsection-bracket\">]</span></span></div> \n",
      "\n",
      "<div class=\"mw-heading mw-heading2\"><h2 id=\"Anecdotes\">Anecdotes</h2><span class=\"mw-editsection\"><span class=\"mw-editsection-bracket\">[</span><a href=\"/w/index.php?title=Grace_Hopper&amp;action=edit&amp;section=9\" title=\"Edit section: Anecdotes\"><span>edit</span></a><span class=\"mw-editsection-bracket\">]</span></span></div> \n",
      "\n",
      "<div class=\"mw-heading mw-heading2\"><h2 id=\"Death\">Death</h2><span class=\"mw-editsection\"><span class=\"mw-editsection-bracket\">[</span><a href=\"/w/index.php?title=Grace_Hopper&amp;action=edit&amp;section=10\" title=\"Edit section: Death\"><span>edit</span></a><span class=\"mw-editsection-bracket\">]</span></span></div> \n",
      "\n",
      "<div class=\"mw-heading mw-heading2\"><h2 id=\"Dates_of_rank\">Dates of rank</h2><span class=\"mw-editsection\"><span class=\"mw-editsection-bracket\">[</span><a href=\"/w/index.php?title=Grace_Hopper&amp;action=edit&amp;section=11\" title=\"Edit section: Dates of rank\"><span>edit</span></a><span class=\"mw-editsection-bracket\">]</span></span></div> \n",
      "\n",
      "<div class=\"mw-heading mw-heading2\"><h2 id=\"Awards_and_honors\">Awards and honors</h2><span class=\"mw-editsection\"><span class=\"mw-editsection-bracket\">[</span><a href=\"/w/index.php?title=Grace_Hopper&amp;action=edit&amp;section=12\" title=\"Edit section: Awards and honors\"><span>edit</span></a><span class=\"mw-editsection-bracket\">]</span></span></div> \n",
      "\n",
      "<div class=\"mw-heading mw-heading3\"><h3 id=\"Military_awards\">Military awards</h3><span class=\"mw-editsection\"><span class=\"mw-editsection-bracket\">[</span><a href=\"/w/index.php?title=Grace_Hopper&amp;action=edit&amp;section=13\" title=\"Edit section: Military awards\"><span>edit</span></a><span class=\"mw-editsection-bracket\">]</span></span></div> \n",
      "\n",
      "<div class=\"mw-heading mw-heading3\"><h3 id=\"Other_awards\">Other awards</h3><span class=\"mw-editsection\"><span class=\"mw-editsection-bracket\">[</span><a href=\"/w/index.php?title=Grace_Hopper&amp;action=edit&amp;section=14\" title=\"Edit section: Other awards\"><span>edit</span></a><span class=\"mw-editsection-bracket\">]</span></span></div> \n",
      "\n",
      "<div class=\"mw-heading mw-heading2\"><h2 id=\"Legacy\">Legacy</h2><span class=\"mw-editsection\"><span class=\"mw-editsection-bracket\">[</span><a href=\"/w/index.php?title=Grace_Hopper&amp;action=edit&amp;section=15\" title=\"Edit section: Legacy\"><span>edit</span></a><span class=\"mw-editsection-bracket\">]</span></span></div> \n",
      "\n",
      "<div class=\"mw-heading mw-heading3\"><h3 id=\"Places\">Places</h3><span class=\"mw-editsection\"><span class=\"mw-editsection-bracket\">[</span><a href=\"/w/index.php?title=Grace_Hopper&amp;action=edit&amp;section=16\" title=\"Edit section: Places\"><span>edit</span></a><span class=\"mw-editsection-bracket\">]</span></span></div> \n",
      "\n",
      "<div class=\"mw-heading mw-heading3\"><h3 id=\"Programs\">Programs</h3><span class=\"mw-editsection\"><span class=\"mw-editsection-bracket\">[</span><a href=\"/w/index.php?title=Grace_Hopper&amp;action=edit&amp;section=17\" title=\"Edit section: Programs\"><span>edit</span></a><span class=\"mw-editsection-bracket\">]</span></span></div> \n",
      "\n",
      "<div class=\"mw-heading mw-heading3\"><h3 id=\"In_popular_culture\">In popular culture</h3><span class=\"mw-editsection\"><span class=\"mw-editsection-bracket\">[</span><a href=\"/w/index.php?title=Grace_Hopper&amp;action=edit&amp;section=18\" title=\"Edit section: In popular culture\"><span>edit</span></a><span class=\"mw-editsection-bracket\">]</span></span></div> \n",
      "\n",
      "<div class=\"mw-heading mw-heading4\"><h4 id=\"Grace_Hopper_Celebration_of_Women_in_Computing\">Grace Hopper Celebration of Women in Computing</h4><span class=\"mw-editsection\"><span class=\"mw-editsection-bracket\">[</span><a href=\"/w/index.php?title=Grace_Hopper&amp;action=edit&amp;section=19\" title=\"Edit section: Grace Hopper Celebration of Women in Computing\"><span>edit</span></a><span class=\"mw-editsection-bracket\">]</span></span></div> \n",
      "\n",
      "<div class=\"mw-heading mw-heading2\"><h2 id=\"See_also\">See also</h2><span class=\"mw-editsection\"><span class=\"mw-editsection-bracket\">[</span><a href=\"/w/index.php?title=Grace_Hopper&amp;action=edit&amp;section=20\" title=\"Edit section: See also\"><span>edit</span></a><span class=\"mw-editsection-bracket\">]</span></span></div> \n",
      "\n",
      "<div class=\"mw-heading mw-heading2\"><h2 id=\"Notes\">Notes</h2><span class=\"mw-editsection\"><span class=\"mw-editsection-bracket\">[</span><a href=\"/w/index.php?title=Grace_Hopper&amp;action=edit&amp;section=21\" title=\"Edit section: Notes\"><span>edit</span></a><span class=\"mw-editsection-bracket\">]</span></span></div> \n",
      "\n",
      "<div class=\"mw-heading mw-heading2\"><h2 id=\"References\">References</h2><span class=\"mw-editsection\"><span class=\"mw-editsection-bracket\">[</span><a href=\"/w/index.php?title=Grace_Hopper&amp;action=edit&amp;section=22\" title=\"Edit section: References\"><span>edit</span></a><span class=\"mw-editsection-bracket\">]</span></span></div> \n",
      "\n",
      "<div class=\"mw-heading mw-heading2\"><h2 id=\"Obituary_notices\">Obituary notices</h2><span class=\"mw-editsection\"><span class=\"mw-editsection-bracket\">[</span><a href=\"/w/index.php?title=Grace_Hopper&amp;action=edit&amp;section=23\" title=\"Edit section: Obituary notices\"><span>edit</span></a><span class=\"mw-editsection-bracket\">]</span></span></div> \n",
      "\n",
      "<div class=\"mw-heading mw-heading2\"><h2 id=\"Further_reading\">Further reading</h2><span class=\"mw-editsection\"><span class=\"mw-editsection-bracket\">[</span><a href=\"/w/index.php?title=Grace_Hopper&amp;action=edit&amp;section=24\" title=\"Edit section: Further reading\"><span>edit</span></a><span class=\"mw-editsection-bracket\">]</span></span></div> \n",
      "\n",
      "<div class=\"mw-heading mw-heading2\"><h2 id=\"External_links\">External links</h2><span class=\"mw-editsection\"><span class=\"mw-editsection-bracket\">[</span><a href=\"/w/index.php?title=Grace_Hopper&amp;action=edit&amp;section=25\" title=\"Edit section: External links\"><span>edit</span></a><span class=\"mw-editsection-bracket\">]</span></span></div> \n",
      "\n"
     ]
    }
   ],
   "source": [
    "for item in items:\n",
    "    print(item, \"\\n\")"
   ]
  },
  {
   "cell_type": "code",
   "execution_count": 123,
   "id": "8305b977-bfa3-4266-867e-ec478e404c07",
   "metadata": {},
   "outputs": [
    {
     "name": "stdout",
     "output_type": "stream",
     "text": [
      "Early life and education\n",
      "Career\n",
      "Retirement\n",
      "Post-retirement\n",
      "Anecdotes\n",
      "Death\n",
      "Dates of rank\n",
      "Awards and honors\n",
      "Legacy\n",
      "See also\n",
      "Notes\n",
      "References\n",
      "Obituary notices\n",
      "Further reading\n",
      "External links\n"
     ]
    }
   ],
   "source": [
    "items = soup.select(\".mw-heading2\")\n",
    "#print(items)\n",
    "\n",
    "for item in items:\n",
    "    print(item.select(\"h2\")[0].getText())"
   ]
  }
 ],
 "metadata": {
  "kernelspec": {
   "display_name": "Python 3 (ipykernel)",
   "language": "python",
   "name": "python3"
  },
  "language_info": {
   "codemirror_mode": {
    "name": "ipython",
    "version": 3
   },
   "file_extension": ".py",
   "mimetype": "text/x-python",
   "name": "python",
   "nbconvert_exporter": "python",
   "pygments_lexer": "ipython3",
   "version": "3.12.7"
  }
 },
 "nbformat": 4,
 "nbformat_minor": 5
}
