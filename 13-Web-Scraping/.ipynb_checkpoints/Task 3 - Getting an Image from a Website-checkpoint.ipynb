{
 "cells": [
  {
   "cell_type": "markdown",
   "id": "cdd1945f-fa06-4e15-9e53-b5a8afffe15b",
   "metadata": {},
   "source": [
    "<h1>Example Task 3 - Getting an Image from a Website</h1>\n",
    "Let's attempt to grab the image of the Deep Blue Computer from this wikipedia article: https://en.wikipedia.org/wiki/Deep_Blue_(chess_computer)"
   ]
  },
  {
   "cell_type": "code",
   "execution_count": 5,
   "id": "0db3dc0c-2d33-432e-8d8e-3fd7509c7c71",
   "metadata": {},
   "outputs": [],
   "source": [
    "import requests"
   ]
  },
  {
   "cell_type": "code",
   "execution_count": 9,
   "id": "8b4929a1-875e-48df-b51c-039a2044861f",
   "metadata": {},
   "outputs": [],
   "source": [
    "import bs4"
   ]
  },
  {
   "cell_type": "code",
   "execution_count": 11,
   "id": "644b4441-595d-46d5-af37-624cc55fccd8",
   "metadata": {},
   "outputs": [],
   "source": [
    "result = requests.get(\"https://en.wikipedia.org/wiki/Deep_Blue_(chess_computer)\")"
   ]
  },
  {
   "cell_type": "code",
   "execution_count": 13,
   "id": "b160c456-d68e-431a-890c-7f10b1fe95e0",
   "metadata": {},
   "outputs": [
    {
     "data": {
      "text/plain": [
       "<Response [200]>"
      ]
     },
     "execution_count": 13,
     "metadata": {},
     "output_type": "execute_result"
    }
   ],
   "source": [
    "result"
   ]
  },
  {
   "cell_type": "code",
   "execution_count": 17,
   "id": "5a1e4f73-9d36-4693-8fba-ebda86686dd0",
   "metadata": {},
   "outputs": [],
   "source": [
    "#result.text"
   ]
  },
  {
   "cell_type": "code",
   "execution_count": 19,
   "id": "9d359c64-431e-4482-966b-9a1f8e433665",
   "metadata": {},
   "outputs": [],
   "source": [
    "soup = bs4.BeautifulSoup(result.text, \"lxml\")"
   ]
  },
  {
   "cell_type": "code",
   "execution_count": 23,
   "id": "23c2f454-fbd8-4b94-b493-182aad97ca26",
   "metadata": {},
   "outputs": [],
   "source": [
    "#soup"
   ]
  },
  {
   "cell_type": "code",
   "execution_count": 39,
   "id": "56c20218-f398-44ea-a647-fa292857482c",
   "metadata": {},
   "outputs": [],
   "source": [
    "image_info = soup.select(\".infobox-image\")"
   ]
  },
  {
   "cell_type": "code",
   "execution_count": 41,
   "id": "671be667-c6f9-45f6-8a6f-fd04e5b30d23",
   "metadata": {},
   "outputs": [
    {
     "data": {
      "text/plain": [
       "[<td class=\"infobox-image\" colspan=\"2\"><span class=\"mw-default-size\" typeof=\"mw:File/Frameless\"><a class=\"mw-file-description\" href=\"/wiki/File:Deep_Blue.jpg\"><img class=\"mw-file-element\" data-file-height=\"601\" data-file-width=\"400\" decoding=\"async\" height=\"331\" src=\"//upload.wikimedia.org/wikipedia/commons/thumb/b/be/Deep_Blue.jpg/220px-Deep_Blue.jpg\" srcset=\"//upload.wikimedia.org/wikipedia/commons/thumb/b/be/Deep_Blue.jpg/330px-Deep_Blue.jpg 1.5x, //upload.wikimedia.org/wikipedia/commons/b/be/Deep_Blue.jpg 2x\" width=\"220\"/></a></span></td>]"
      ]
     },
     "execution_count": 41,
     "metadata": {},
     "output_type": "execute_result"
    }
   ],
   "source": [
    "image_info"
   ]
  },
  {
   "cell_type": "code",
   "execution_count": 33,
   "id": "56618ac7-b565-49de-8c54-fc86f9a564c4",
   "metadata": {},
   "outputs": [
    {
     "data": {
      "text/plain": [
       "1"
      ]
     },
     "execution_count": 33,
     "metadata": {},
     "output_type": "execute_result"
    }
   ],
   "source": [
    "len(image_info)"
   ]
  },
  {
   "cell_type": "code",
   "execution_count": 81,
   "id": "dc4695fd-a79c-48db-8701-762000a84883",
   "metadata": {},
   "outputs": [],
   "source": [
    "image_details = image_info[0]"
   ]
  },
  {
   "cell_type": "code",
   "execution_count": 99,
   "id": "a85898dc-abd8-4824-8d7a-bea3ae8175e1",
   "metadata": {},
   "outputs": [
    {
     "data": {
      "text/plain": [
       "[<img class=\"mw-file-element\" data-file-height=\"601\" data-file-width=\"400\" decoding=\"async\" height=\"331\" src=\"//upload.wikimedia.org/wikipedia/commons/thumb/b/be/Deep_Blue.jpg/220px-Deep_Blue.jpg\" srcset=\"//upload.wikimedia.org/wikipedia/commons/thumb/b/be/Deep_Blue.jpg/330px-Deep_Blue.jpg 1.5x, //upload.wikimedia.org/wikipedia/commons/b/be/Deep_Blue.jpg 2x\" width=\"220\"/>]"
      ]
     },
     "execution_count": 99,
     "metadata": {},
     "output_type": "execute_result"
    }
   ],
   "source": [
    "temp = image_details.select('img')\n",
    "temp"
   ]
  },
  {
   "cell_type": "code",
   "execution_count": 117,
   "id": "3c343e88-4872-482b-a5fd-f8f5d8b58a2c",
   "metadata": {},
   "outputs": [
    {
     "data": {
      "text/plain": [
       "bs4.element.ResultSet"
      ]
     },
     "execution_count": 117,
     "metadata": {},
     "output_type": "execute_result"
    }
   ],
   "source": [
    "type(temp)"
   ]
  },
  {
   "cell_type": "code",
   "execution_count": 178,
   "id": "33fd4f39-f5fd-4cba-b673-57a66fdfa6cc",
   "metadata": {},
   "outputs": [],
   "source": [
    "link = temp[0].get('src')"
   ]
  },
  {
   "cell_type": "markdown",
   "id": "5eaa3233-f70d-43bd-81a3-57592c1fd31f",
   "metadata": {},
   "source": [
    "<img src='https://upload.wikimedia.org/wikipedia/commons/thumb/b/be/Deep_Blue.jpg/220px-Deep_Blue.jpg'>"
   ]
  },
  {
   "cell_type": "markdown",
   "id": "3732c1ce-6e50-4b79-bcd5-71414597020a",
   "metadata": {},
   "source": [
    "Now that you have the actual src link, you can grab the image with requests and get along with the .content attribute. Note how we had to add https:// before the link, if you don't do this, requests will complain (but it gives you a pretty descriptive error code)."
   ]
  },
  {
   "cell_type": "code",
   "execution_count": 182,
   "id": "6c336d73-77bc-4a84-8154-e212add2af61",
   "metadata": {},
   "outputs": [],
   "source": [
    "image_result = requests.get(\"https:\"+link)"
   ]
  },
  {
   "cell_type": "code",
   "execution_count": 184,
   "id": "ab42034e-9af6-4bc2-981c-d0d3a057f176",
   "metadata": {},
   "outputs": [
    {
     "data": {
      "text/plain": [
       "<Response [200]>"
      ]
     },
     "execution_count": 184,
     "metadata": {},
     "output_type": "execute_result"
    }
   ],
   "source": [
    "image_result"
   ]
  },
  {
   "cell_type": "code",
   "execution_count": 188,
   "id": "425949f9-6227-4ef2-bd94-d5dc1d2a30d7",
   "metadata": {},
   "outputs": [],
   "source": [
    "#image_result.text"
   ]
  },
  {
   "cell_type": "code",
   "execution_count": 190,
   "id": "e448be02-83bf-41c4-a06e-faf66a8265e7",
   "metadata": {},
   "outputs": [],
   "source": [
    "f = open('my_new_file_name.jpg','wb')"
   ]
  },
  {
   "cell_type": "code",
   "execution_count": 192,
   "id": "6ad7512e-9e54-4314-a99b-f82ddc3a7467",
   "metadata": {},
   "outputs": [
    {
     "data": {
      "text/plain": [
       "16806"
      ]
     },
     "execution_count": 192,
     "metadata": {},
     "output_type": "execute_result"
    }
   ],
   "source": [
    "f.write(image_result.content)"
   ]
  },
  {
   "cell_type": "code",
   "execution_count": 194,
   "id": "99ae041a-95e3-4299-b617-03bda5ccda1f",
   "metadata": {},
   "outputs": [],
   "source": [
    "f.close()"
   ]
  },
  {
   "cell_type": "markdown",
   "id": "aa42ba07-257c-4e0f-8e7f-5e6ae1ee3c0b",
   "metadata": {},
   "source": [
    "<img src='my_new_file_name.jpg'>"
   ]
  },
  {
   "cell_type": "code",
   "execution_count": null,
   "id": "47da51fb-47e9-4c65-bf10-ac14596b966b",
   "metadata": {},
   "outputs": [],
   "source": []
  }
 ],
 "metadata": {
  "kernelspec": {
   "display_name": "Python 3 (ipykernel)",
   "language": "python",
   "name": "python3"
  },
  "language_info": {
   "codemirror_mode": {
    "name": "ipython",
    "version": 3
   },
   "file_extension": ".py",
   "mimetype": "text/x-python",
   "name": "python",
   "nbconvert_exporter": "python",
   "pygments_lexer": "ipython3",
   "version": "3.12.7"
  }
 },
 "nbformat": 4,
 "nbformat_minor": 5
}
