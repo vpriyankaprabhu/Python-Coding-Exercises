{
 "cells": [
  {
   "cell_type": "code",
   "execution_count": 1,
   "id": "aff8e354-620d-4a6f-af52-8a04419470ad",
   "metadata": {},
   "outputs": [],
   "source": [
    "#Game List single row 0,1,2 and we take user input and its index position for replacing the value and print it\n",
    "game_list = [0,1,2]"
   ]
  },
  {
   "cell_type": "code",
   "execution_count": 53,
   "id": "b0ba5256-f9ab-417e-9f92-4111b610b4df",
   "metadata": {},
   "outputs": [],
   "source": [
    "#we need to print game list to users after replacing the values\n",
    "def display_game_list(game_list):\n",
    "    print(\"Here is the current game list : \")\n",
    "    print(game_list)"
   ]
  },
  {
   "cell_type": "code",
   "execution_count": 17,
   "id": "c3aa10a1-f2a8-4d8f-81d6-7721bc3ce3d1",
   "metadata": {},
   "outputs": [
    {
     "name": "stdout",
     "output_type": "stream",
     "text": [
      "Here is the current game list : \n",
      "[0, 1, 2]\n"
     ]
    }
   ],
   "source": [
    "display_game_list(game_list)"
   ]
  },
  {
   "cell_type": "code",
   "execution_count": 55,
   "id": "3e8f200b-b225-4320-9e3d-ae20a366c160",
   "metadata": {},
   "outputs": [],
   "source": [
    "#get a index position choice from user\n",
    "def position_choice():\n",
    "    choice = \"Wrong\"\n",
    "\n",
    "    while choice not in ['0','1','2']: #its strings because input function return strings\n",
    "        choice = input(\"Pick a position (0,1,2): \")\n",
    "        if choice not in ['0','1','2']:\n",
    "            print(\"Sorry, invalid choice!. Pick values between 0,1,2 only\")\n",
    "    return int(choice)"
   ]
  },
  {
   "cell_type": "code",
   "execution_count": 57,
   "id": "dd922843-3551-4d7f-81cf-c4dafe4b1535",
   "metadata": {},
   "outputs": [
    {
     "name": "stdin",
     "output_type": "stream",
     "text": [
      "Pick a position (0,1,2):  d\n"
     ]
    },
    {
     "name": "stdout",
     "output_type": "stream",
     "text": [
      "Sorry, invalid choice!. Pick values between 0,1,2 only\n"
     ]
    },
    {
     "name": "stdin",
     "output_type": "stream",
     "text": [
      "Pick a position (0,1,2):  1\n"
     ]
    },
    {
     "data": {
      "text/plain": [
       "1"
      ]
     },
     "execution_count": 57,
     "metadata": {},
     "output_type": "execute_result"
    }
   ],
   "source": [
    "position_choice()"
   ]
  },
  {
   "cell_type": "code",
   "execution_count": 59,
   "id": "77723d10-6f25-4dd5-9ef5-2d9e4ae02c44",
   "metadata": {},
   "outputs": [],
   "source": [
    "# Now take the replcement value from user\n",
    "def replacement_choice(game_list, position): #position gives position choice value\n",
    "    user_placement = input(f\"Type a string to place a value at position {position} : \")\n",
    "    game_list[position] = user_placement\n",
    "    return game_list"
   ]
  },
  {
   "cell_type": "code",
   "execution_count": 61,
   "id": "0b500b4d-265f-4639-8f62-c2cc18ab269b",
   "metadata": {},
   "outputs": [
    {
     "name": "stdin",
     "output_type": "stream",
     "text": [
      "Type a string to place a value at position 2 :  s\n"
     ]
    },
    {
     "data": {
      "text/plain": [
       "[0, 1, 's']"
      ]
     },
     "execution_count": 61,
     "metadata": {},
     "output_type": "execute_result"
    }
   ],
   "source": [
    "replacement_choice(game_list, 2)"
   ]
  },
  {
   "cell_type": "code",
   "execution_count": 63,
   "id": "c1768100-1e3f-45d1-8ac1-c6f656aa880d",
   "metadata": {},
   "outputs": [
    {
     "name": "stdin",
     "output_type": "stream",
     "text": [
      "Type a string to place a value at position 0 :  q\n"
     ]
    },
    {
     "data": {
      "text/plain": [
       "['q', 1, 's']"
      ]
     },
     "execution_count": 63,
     "metadata": {},
     "output_type": "execute_result"
    }
   ],
   "source": [
    "replacement_choice(game_list, 0)"
   ]
  },
  {
   "cell_type": "code",
   "execution_count": 65,
   "id": "eddfe9f1-ee01-4040-bf35-bedadeebce80",
   "metadata": {},
   "outputs": [],
   "source": [
    "# Now user should keep playing and hence we will do it in loop\n",
    "def gameon_choice():\n",
    "    choice = \"Wrong\"\n",
    "\n",
    "    while choice not in ['Y', 'N']: #its strings because input function return strings\n",
    "        choice = input(\"Keep Playing ? (Y / N) : \")\n",
    "        if choice not in ['Y', 'N']:\n",
    "            print(\"Sorry, I dont understand!. Please choose Y or N\")\n",
    "    if choice == 'Y':\n",
    "        return True\n",
    "    else:\n",
    "        return False"
   ]
  },
  {
   "cell_type": "code",
   "execution_count": 67,
   "id": "4a3e88eb-b7cb-4b52-815b-b2ffcfba14fb",
   "metadata": {},
   "outputs": [
    {
     "name": "stdin",
     "output_type": "stream",
     "text": [
      "Keep Playing ? (Y / N) :  Y\n"
     ]
    },
    {
     "data": {
      "text/plain": [
       "True"
      ]
     },
     "execution_count": 67,
     "metadata": {},
     "output_type": "execute_result"
    }
   ],
   "source": [
    "gameon_choice()"
   ]
  },
  {
   "cell_type": "code",
   "execution_count": 69,
   "id": "7c5912f4-f548-4fa2-a4c6-d17ef1463508",
   "metadata": {},
   "outputs": [
    {
     "name": "stdout",
     "output_type": "stream",
     "text": [
      "Here is the current game list : \n",
      "[0, 1, 2]\n"
     ]
    },
    {
     "name": "stdin",
     "output_type": "stream",
     "text": [
      "Pick a position (0,1,2):  w\n"
     ]
    },
    {
     "name": "stdout",
     "output_type": "stream",
     "text": [
      "Sorry, invalid choice!. Pick values between 0,1,2 only\n"
     ]
    },
    {
     "name": "stdin",
     "output_type": "stream",
     "text": [
      "Pick a position (0,1,2):  1\n",
      "Type a string to place a value at position 1 :  A\n"
     ]
    },
    {
     "name": "stdout",
     "output_type": "stream",
     "text": [
      "Here is the current game list : \n",
      "[0, 'A', 2]\n"
     ]
    },
    {
     "name": "stdin",
     "output_type": "stream",
     "text": [
      "Keep Playing ? (Y / N) :  Y\n"
     ]
    },
    {
     "name": "stdout",
     "output_type": "stream",
     "text": [
      "Here is the current game list : \n",
      "[0, 'A', 2]\n"
     ]
    },
    {
     "name": "stdin",
     "output_type": "stream",
     "text": [
      "Pick a position (0,1,2):  3\n"
     ]
    },
    {
     "name": "stdout",
     "output_type": "stream",
     "text": [
      "Sorry, invalid choice!. Pick values between 0,1,2 only\n"
     ]
    },
    {
     "name": "stdin",
     "output_type": "stream",
     "text": [
      "Pick a position (0,1,2):  2\n",
      "Type a string to place a value at position 2 :  Y\n"
     ]
    },
    {
     "name": "stdout",
     "output_type": "stream",
     "text": [
      "Here is the current game list : \n",
      "[0, 'A', 'Y']\n"
     ]
    },
    {
     "name": "stdin",
     "output_type": "stream",
     "text": [
      "Keep Playing ? (Y / N) :  N\n"
     ]
    }
   ],
   "source": [
    "#Lets program it to get all these functions in one place\n",
    "\n",
    "#Initialise variables\n",
    "game_on = True\n",
    "game_list = [0,1,2]\n",
    "\n",
    "while game_on:\n",
    "    #Display game list to user\n",
    "    display_game_list(game_list)\n",
    "\n",
    "    #Take a index position from user\n",
    "    position = position_choice()\n",
    "\n",
    "    #Replace a value in given position by user in game list\n",
    "    game_list = replacement_choice(game_list, position)\n",
    "\n",
    "    #Display updated game list to user\n",
    "    display_game_list(game_list)\n",
    "\n",
    "    game_on = gameon_choice()"
   ]
  },
  {
   "cell_type": "code",
   "execution_count": null,
   "id": "fb63b721-9604-4701-88f3-261cc5ced779",
   "metadata": {},
   "outputs": [],
   "source": []
  }
 ],
 "metadata": {
  "kernelspec": {
   "display_name": "Python 3 (ipykernel)",
   "language": "python",
   "name": "python3"
  },
  "language_info": {
   "codemirror_mode": {
    "name": "ipython",
    "version": 3
   },
   "file_extension": ".py",
   "mimetype": "text/x-python",
   "name": "python",
   "nbconvert_exporter": "python",
   "pygments_lexer": "ipython3",
   "version": "3.12.7"
  }
 },
 "nbformat": 4,
 "nbformat_minor": 5
}
