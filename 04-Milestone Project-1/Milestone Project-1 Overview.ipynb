{
 "cells": [
  {
   "cell_type": "code",
   "execution_count": 1,
   "id": "8cc7693f-c10d-4034-835e-411f885bb426",
   "metadata": {},
   "outputs": [
    {
     "name": "stdout",
     "output_type": "stream",
     "text": [
      "[1, 2, 3]\n"
     ]
    }
   ],
   "source": [
    "#1) With this milestone project we are trying to build tic tac toe game, board game and now we will see\n",
    "# how we can print or display such information to user \n",
    "# what is the approach in this case and how it can be done?\n",
    "\n",
    "mylist = [1,2,3]\n",
    "print(mylist)\n",
    "#prints mylist as a list with one row"
   ]
  },
  {
   "cell_type": "code",
   "execution_count": 3,
   "id": "51fc029e-6f1b-4ce7-8afd-a65980d61686",
   "metadata": {},
   "outputs": [
    {
     "name": "stdout",
     "output_type": "stream",
     "text": [
      "[1, 2, 3]\n",
      "[1, 2, 3]\n",
      "[1, 2, 3]\n"
     ]
    }
   ],
   "source": [
    "#now if we want to print three rows of same data, how to do it?\n",
    "print(mylist)\n",
    "print(mylist)\n",
    "print(mylist)"
   ]
  },
  {
   "cell_type": "code",
   "execution_count": 5,
   "id": "541b6e63-d37f-40d2-b58d-2c06210ca760",
   "metadata": {},
   "outputs": [
    {
     "name": "stdout",
     "output_type": "stream",
     "text": [
      "[1, 2, 3]\n",
      "[4, 5, 6]\n",
      "[7, 8, 9]\n"
     ]
    }
   ],
   "source": [
    "# we can have different elements too in each row\n",
    "row1 = [1,2,3]\n",
    "row2 = [4,5,6]\n",
    "row3 = [7,8,9]\n",
    "\n",
    "print(row1)\n",
    "print(row2)\n",
    "print(row3)"
   ]
  },
  {
   "cell_type": "code",
   "execution_count": 7,
   "id": "d1f6dc59-93f3-4875-a0ef-64f298fe8f9f",
   "metadata": {},
   "outputs": [
    {
     "name": "stdout",
     "output_type": "stream",
     "text": [
      "[' ', ' ', ' ']\n",
      "[' ', ' ', ' ']\n",
      "[' ', ' ', ' ']\n"
     ]
    }
   ],
   "source": [
    "row1 = [' ',' ',' ']\n",
    "row2 = [' ',' ',' ']\n",
    "row3 = [' ',' ',' ']\n",
    "\n",
    "print(row1)\n",
    "print(row2)\n",
    "print(row3)"
   ]
  },
  {
   "cell_type": "code",
   "execution_count": 11,
   "id": "9fdf364d-d361-4cbe-ade8-56910d71c3ee",
   "metadata": {},
   "outputs": [
    {
     "name": "stdout",
     "output_type": "stream",
     "text": [
      "[1, 2, 3]\n",
      "[4, 5, 6]\n",
      "[7, 8, 9]\n"
     ]
    }
   ],
   "source": [
    "#this more or less looks like tic tac game board\n",
    "#lets print these row data using function\n",
    "\n",
    "row1 = [1,2,3]\n",
    "row2 = [4,5,6]\n",
    "row3 = [7,8,9]\n",
    "\n",
    "def print_row(row1, row2, row3):\n",
    "    print(row1)\n",
    "    print(row2)\n",
    "    print(row3)\n",
    "\n",
    "print_row(row1, row2, row3)"
   ]
  },
  {
   "cell_type": "code",
   "execution_count": 13,
   "id": "14beed37-4f28-4844-b584-12c5ef16867e",
   "metadata": {},
   "outputs": [
    {
     "name": "stdout",
     "output_type": "stream",
     "text": [
      "[1, 2, 3]\n",
      "[1, 2, 3]\n",
      "[1, 2, 3]\n"
     ]
    }
   ],
   "source": [
    "print_row(row1, row1, row1)"
   ]
  },
  {
   "cell_type": "code",
   "execution_count": 15,
   "id": "0e0a8d71-6b5c-4472-abb0-0874c4f783dd",
   "metadata": {},
   "outputs": [
    {
     "name": "stdout",
     "output_type": "stream",
     "text": [
      "[' ', ' ', ' ']\n",
      "[' ', ' ', ' ']\n",
      "[' ', ' ', ' ']\n"
     ]
    }
   ],
   "source": [
    "row1 = [' ',' ',' ']\n",
    "row2 = [' ',' ',' ']\n",
    "row3 = [' ',' ',' ']\n",
    "print_row(row1, row2, row3)"
   ]
  },
  {
   "cell_type": "code",
   "execution_count": 17,
   "id": "fa3f8498-bd22-426a-8ec2-f18548ce235e",
   "metadata": {},
   "outputs": [
    {
     "name": "stdout",
     "output_type": "stream",
     "text": [
      "[' ', ' ', ' ']\n",
      "[' ', 'X', ' ']\n",
      "[' ', ' ', ' ']\n"
     ]
    }
   ],
   "source": [
    "# we have now achieved it using print function\n",
    "# lets now see how we can place the values in tic tac toe board\n",
    "# this looks more like multi dimensional arrays\n",
    "\n",
    "#if we want to place X inside or middle of the board we cna do it as follows:\n",
    "row2[1] = 'X'\n",
    "print_row(row1, row2, row3)"
   ]
  },
  {
   "cell_type": "code",
   "execution_count": 19,
   "id": "31acef81-526f-4119-83db-d6eae47d9e4f",
   "metadata": {},
   "outputs": [
    {
     "name": "stdout",
     "output_type": "stream",
     "text": [
      "['O', ' ', ' ']\n",
      "[' ', 'X', ' ']\n",
      "[' ', ' ', ' ']\n"
     ]
    }
   ],
   "source": [
    "row1[0] = 'O'\n",
    "print_row(row1, row2, row3)"
   ]
  },
  {
   "cell_type": "code",
   "execution_count": 27,
   "id": "e8ff2ff4-63b1-468c-b42a-52f0cad25425",
   "metadata": {},
   "outputs": [
    {
     "name": "stdout",
     "output_type": "stream",
     "text": [
      "['O', ' ', ' ']\n",
      "[' ', 'X', ' ']\n",
      "[' ', ' ', 'X']\n"
     ]
    }
   ],
   "source": [
    "row3[2] = 'X'\n",
    "print_row(row1, row2, row3)"
   ]
  },
  {
   "cell_type": "code",
   "execution_count": 29,
   "id": "e2521eac-54f4-4f18-9e71-1d68e5772b69",
   "metadata": {},
   "outputs": [
    {
     "name": "stdin",
     "output_type": "stream",
     "text": [
      "Please enter a value :  2\n"
     ]
    },
    {
     "data": {
      "text/plain": [
       "'2'"
      ]
     },
     "execution_count": 29,
     "metadata": {},
     "output_type": "execute_result"
    }
   ],
   "source": [
    "#2) Now lets see how we can take this inputs from user\n",
    "\n",
    "input(\"Please enter a value : \")"
   ]
  },
  {
   "cell_type": "code",
   "execution_count": 31,
   "id": "e618fafd-d6df-4827-881d-d02da8be2213",
   "metadata": {},
   "outputs": [
    {
     "name": "stdin",
     "output_type": "stream",
     "text": [
      "Please enter a value :  2\n"
     ]
    },
    {
     "data": {
      "text/plain": [
       "'2'"
      ]
     },
     "execution_count": 31,
     "metadata": {},
     "output_type": "execute_result"
    }
   ],
   "source": [
    "#input function takes input from user and returns a string equivalent of user keyed in value\n",
    "# we can store it a variable too\n",
    "\n",
    "result = input(\"Please enter a value : \")\n",
    "result"
   ]
  },
  {
   "cell_type": "code",
   "execution_count": 33,
   "id": "bc8e6128-287b-41f8-9fb3-41640ef17064",
   "metadata": {},
   "outputs": [
    {
     "data": {
      "text/plain": [
       "str"
      ]
     },
     "execution_count": 33,
     "metadata": {},
     "output_type": "execute_result"
    }
   ],
   "source": [
    "type(result)"
   ]
  },
  {
   "cell_type": "code",
   "execution_count": 35,
   "id": "d4f17f1e-65f9-479b-b815-89be39fff0c8",
   "metadata": {},
   "outputs": [],
   "source": [
    "# if we want to convert it to int we can cast the input function or cast the result variable\n",
    "result_int = int(result)"
   ]
  },
  {
   "cell_type": "code",
   "execution_count": 37,
   "id": "ae9415ab-719f-4748-a747-897f174f4666",
   "metadata": {},
   "outputs": [
    {
     "data": {
      "text/plain": [
       "2"
      ]
     },
     "execution_count": 37,
     "metadata": {},
     "output_type": "execute_result"
    }
   ],
   "source": [
    "result_int"
   ]
  },
  {
   "cell_type": "code",
   "execution_count": 41,
   "id": "2991f676-de77-4ad7-bee4-5122b15be68a",
   "metadata": {},
   "outputs": [
    {
     "data": {
      "text/plain": [
       "int"
      ]
     },
     "execution_count": 41,
     "metadata": {},
     "output_type": "execute_result"
    }
   ],
   "source": [
    "type(result_int)"
   ]
  },
  {
   "cell_type": "code",
   "execution_count": 45,
   "id": "ba43ba1e-af5d-414d-9fd8-ddfcec580425",
   "metadata": {},
   "outputs": [
    {
     "data": {
      "text/plain": [
       "3.14"
      ]
     },
     "execution_count": 45,
     "metadata": {},
     "output_type": "execute_result"
    }
   ],
   "source": [
    "# to convert value to float we can do as follows:\n",
    "float('3.14')\n",
    "#return float value"
   ]
  },
  {
   "cell_type": "code",
   "execution_count": 47,
   "id": "b8095fbe-bb7a-4cf9-b4ba-5ccb2cc4a5a7",
   "metadata": {},
   "outputs": [
    {
     "name": "stdin",
     "output_type": "stream",
     "text": [
      "Choose a value :  3\n"
     ]
    },
    {
     "data": {
      "text/plain": [
       "'3'"
      ]
     },
     "execution_count": 47,
     "metadata": {},
     "output_type": "execute_result"
    }
   ],
   "source": [
    "#now why we understood these things is for below scenario\n",
    "#We will take input from user to place X or O for tic tac game as follows:\n",
    "\n",
    "position_index = input(\"Choose a value : \")\n",
    "position_index"
   ]
  },
  {
   "cell_type": "code",
   "execution_count": 49,
   "id": "a59d9e83-b1b6-4834-8a68-93c7141977da",
   "metadata": {},
   "outputs": [
    {
     "ename": "TypeError",
     "evalue": "list indices must be integers or slices, not str",
     "output_type": "error",
     "traceback": [
      "\u001b[0;31m---------------------------------------------------------------------------\u001b[0m",
      "\u001b[0;31mTypeError\u001b[0m                                 Traceback (most recent call last)",
      "Cell \u001b[0;32mIn[49], line 2\u001b[0m\n\u001b[1;32m      1\u001b[0m \u001b[38;5;66;03m#it returns a string character if we directly use it like\u001b[39;00m\n\u001b[0;32m----> 2\u001b[0m row1[position_index]\n",
      "\u001b[0;31mTypeError\u001b[0m: list indices must be integers or slices, not str"
     ]
    }
   ],
   "source": [
    "#it returns a string character if we directly use it like\n",
    "row1[position_index]\n",
    "#we get error as position_index is string type and not integer so we will have to clast in such case"
   ]
  },
  {
   "cell_type": "code",
   "execution_count": 51,
   "id": "f8de50c0-e44d-4405-aed6-447f7593d93b",
   "metadata": {},
   "outputs": [
    {
     "name": "stdin",
     "output_type": "stream",
     "text": [
      "Choose a value :  2\n"
     ]
    },
    {
     "data": {
      "text/plain": [
       "2"
      ]
     },
     "execution_count": 51,
     "metadata": {},
     "output_type": "execute_result"
    }
   ],
   "source": [
    "position_index = int(input(\"Choose a value : \"))\n",
    "position_index"
   ]
  },
  {
   "cell_type": "code",
   "execution_count": 55,
   "id": "595218fa-aa7d-4e4f-b10d-3dc5d0b52072",
   "metadata": {},
   "outputs": [
    {
     "name": "stdout",
     "output_type": "stream",
     "text": [
      "['O', ' ', ' ']\n",
      "[' ', 'X', 'O']\n",
      "[' ', ' ', 'X']\n"
     ]
    }
   ],
   "source": [
    "row2[position_index]='O'\n",
    "print_row(row1, row2, row3)"
   ]
  },
  {
   "cell_type": "code",
   "execution_count": 57,
   "id": "0def14a2-b9b3-4f9c-977b-ce577dc70020",
   "metadata": {},
   "outputs": [
    {
     "name": "stdin",
     "output_type": "stream",
     "text": [
      "Choose a number:  3\n"
     ]
    },
    {
     "data": {
      "text/plain": [
       "3"
      ]
     },
     "execution_count": 57,
     "metadata": {},
     "output_type": "execute_result"
    }
   ],
   "source": [
    "# while converting input types from str to int with input function we must ensure that input is valid number and not string\n",
    "result = int(input(\"Choose a number: \"))\n",
    "result"
   ]
  },
  {
   "cell_type": "code",
   "execution_count": 59,
   "id": "27f17f75-4b48-49f5-a0d1-5d7689bc3c26",
   "metadata": {},
   "outputs": [
    {
     "data": {
      "text/plain": [
       "int"
      ]
     },
     "execution_count": 59,
     "metadata": {},
     "output_type": "execute_result"
    }
   ],
   "source": [
    "type(result)"
   ]
  },
  {
   "cell_type": "code",
   "execution_count": 61,
   "id": "8725ce83-bb20-45ea-be04-7ed5200060b8",
   "metadata": {},
   "outputs": [
    {
     "name": "stdin",
     "output_type": "stream",
     "text": [
      "Choose a number:  two\n"
     ]
    },
    {
     "ename": "ValueError",
     "evalue": "invalid literal for int() with base 10: 'two'",
     "output_type": "error",
     "traceback": [
      "\u001b[0;31m---------------------------------------------------------------------------\u001b[0m",
      "\u001b[0;31mValueError\u001b[0m                                Traceback (most recent call last)",
      "Cell \u001b[0;32mIn[61], line 2\u001b[0m\n\u001b[1;32m      1\u001b[0m \u001b[38;5;66;03m# now if we pass two or three to input function as follows:\u001b[39;00m\n\u001b[0;32m----> 2\u001b[0m result \u001b[38;5;241m=\u001b[39m \u001b[38;5;28mint\u001b[39m(\u001b[38;5;28minput\u001b[39m(\u001b[38;5;124m\"\u001b[39m\u001b[38;5;124mChoose a number: \u001b[39m\u001b[38;5;124m\"\u001b[39m))\n\u001b[1;32m      3\u001b[0m result\n",
      "\u001b[0;31mValueError\u001b[0m: invalid literal for int() with base 10: 'two'"
     ]
    }
   ],
   "source": [
    "# now if we pass two or three to input function as follows:\n",
    "result = int(input(\"Choose a number: \"))\n",
    "result"
   ]
  },
  {
   "cell_type": "code",
   "execution_count": 63,
   "id": "c6080c2b-d715-4288-98b3-405a33d618e1",
   "metadata": {},
   "outputs": [],
   "source": [
    "#it is not able to convert to integer so we need to add additional validation checks to check if the input is valid user input or as required"
   ]
  },
  {
   "cell_type": "code",
   "execution_count": 71,
   "id": "64c635d0-8524-4d84-ad07-8226efc79621",
   "metadata": {},
   "outputs": [],
   "source": [
    "#3) Validating user inputs\n",
    "def user_choice():\n",
    "    choice = input(\"Choose a value (only 1-10 allowed): \")\n",
    "    return int(choice)"
   ]
  },
  {
   "cell_type": "code",
   "execution_count": 73,
   "id": "dffbbdee-d87d-47a1-9448-e0fc90749b81",
   "metadata": {},
   "outputs": [
    {
     "name": "stdin",
     "output_type": "stream",
     "text": [
      "Choose a value (only 1-10 allowed):  2\n"
     ]
    },
    {
     "data": {
      "text/plain": [
       "2"
      ]
     },
     "execution_count": 73,
     "metadata": {},
     "output_type": "execute_result"
    }
   ],
   "source": [
    "user_choice()"
   ]
  },
  {
   "cell_type": "code",
   "execution_count": 75,
   "id": "9b41a06f-e828-4728-aa53-03ea63bf349c",
   "metadata": {},
   "outputs": [
    {
     "name": "stdin",
     "output_type": "stream",
     "text": [
      "Choose a value (only 1-10 allowed):  100\n"
     ]
    },
    {
     "data": {
      "text/plain": [
       "100"
      ]
     },
     "execution_count": 75,
     "metadata": {},
     "output_type": "execute_result"
    }
   ],
   "source": [
    "user_choice() # it does check for valid range of values to be accepted by function"
   ]
  },
  {
   "cell_type": "code",
   "execution_count": 77,
   "id": "e4e59025-e7e6-4c39-82b3-6790d1f1f201",
   "metadata": {},
   "outputs": [
    {
     "name": "stdin",
     "output_type": "stream",
     "text": [
      "Choose a value (only 1-10 allowed):  two\n"
     ]
    },
    {
     "ename": "ValueError",
     "evalue": "invalid literal for int() with base 10: 'two'",
     "output_type": "error",
     "traceback": [
      "\u001b[0;31m---------------------------------------------------------------------------\u001b[0m",
      "\u001b[0;31mValueError\u001b[0m                                Traceback (most recent call last)",
      "Cell \u001b[0;32mIn[77], line 1\u001b[0m\n\u001b[0;32m----> 1\u001b[0m user_choice()\n",
      "Cell \u001b[0;32mIn[71], line 4\u001b[0m, in \u001b[0;36muser_choice\u001b[0;34m()\u001b[0m\n\u001b[1;32m      2\u001b[0m \u001b[38;5;28;01mdef\u001b[39;00m \u001b[38;5;21muser_choice\u001b[39m():\n\u001b[1;32m      3\u001b[0m     choice \u001b[38;5;241m=\u001b[39m \u001b[38;5;28minput\u001b[39m(\u001b[38;5;124m\"\u001b[39m\u001b[38;5;124mChoose a value (only 1-10 allowed): \u001b[39m\u001b[38;5;124m\"\u001b[39m)\n\u001b[0;32m----> 4\u001b[0m     \u001b[38;5;28;01mreturn\u001b[39;00m \u001b[38;5;28mint\u001b[39m(choice)\n",
      "\u001b[0;31mValueError\u001b[0m: invalid literal for int() with base 10: 'two'"
     ]
    }
   ],
   "source": [
    "user_choice() # doesnt check type of the choice which could give errors"
   ]
  },
  {
   "cell_type": "code",
   "execution_count": 79,
   "id": "96cd95fc-485b-4357-9634-e0b7baedc216",
   "metadata": {},
   "outputs": [],
   "source": [
    "# https://www.google.com/search?q=python+check+if+input+is+number\n",
    "# https://stackoverflow.com/questions/5424716/how-can-i-check-if-string-input-is-a-number\n",
    "# https://stackoverflow.com/questions/1265665/how-can-i-check-if-a-string-represents-an-int-without-using-try-except"
   ]
  },
  {
   "cell_type": "code",
   "execution_count": 81,
   "id": "bacb1840-666b-49e0-9b11-dd40218b7178",
   "metadata": {},
   "outputs": [],
   "source": [
    "#Apparently this will not work for negative values, but it will for positive numbers.\n",
    "\n",
    "#Use isdigit()\n",
    "\n",
    "#if userinput.isdigit():\n",
    "    #do nothing"
   ]
  },
  {
   "cell_type": "code",
   "execution_count": 1,
   "id": "7351328e-3fe7-4968-bb1b-3b28eec4cefa",
   "metadata": {},
   "outputs": [
    {
     "name": "stdin",
     "output_type": "stream",
     "text": [
      "Enter a number:  e\n"
     ]
    },
    {
     "name": "stdout",
     "output_type": "stream",
     "text": [
      "Please enter a valid number: \n"
     ]
    },
    {
     "name": "stdin",
     "output_type": "stream",
     "text": [
      "Enter a number:  q\n"
     ]
    },
    {
     "name": "stdout",
     "output_type": "stream",
     "text": [
      "Please enter a valid number: \n"
     ]
    },
    {
     "name": "stdin",
     "output_type": "stream",
     "text": [
      "Enter a number:  two\n"
     ]
    },
    {
     "name": "stdout",
     "output_type": "stream",
     "text": [
      "Please enter a valid number: \n"
     ]
    },
    {
     "name": "stdin",
     "output_type": "stream",
     "text": [
      "Enter a number:  2\n"
     ]
    },
    {
     "name": "stdout",
     "output_type": "stream",
     "text": [
      "You entered 2\n"
     ]
    }
   ],
   "source": [
    "#another useful method\n",
    "user_input = ''\n",
    "while user_input is not int:\n",
    "    try:\n",
    "        user_input = int(input('Enter a number: '))\n",
    "        break\n",
    "    except ValueError:\n",
    "        print('Please enter a valid number: ')\n",
    "\n",
    "print('You entered {}'.format(user_input))"
   ]
  },
  {
   "cell_type": "code",
   "execution_count": 87,
   "id": "bf958ecc-7071-47c6-9ab5-8d47c2682614",
   "metadata": {},
   "outputs": [
    {
     "name": "stdin",
     "output_type": "stream",
     "text": [
      "Enter a number:  e\n",
      "Enter a number:  w\n",
      "Enter a number:  2\n"
     ]
    },
    {
     "name": "stdout",
     "output_type": "stream",
     "text": [
      "You entered 2\n"
     ]
    }
   ],
   "source": [
    "# if we are working only with ints and no negatives this is simplest\n",
    "a = ''\n",
    "while a.isdigit() == False:\n",
    "    a = input('Enter a number: ')\n",
    "\n",
    "print('You entered {}'.format(a))"
   ]
  },
  {
   "cell_type": "code",
   "execution_count": 3,
   "id": "48285c8a-b329-46c8-bebb-3aac10511a93",
   "metadata": {},
   "outputs": [
    {
     "name": "stdin",
     "output_type": "stream",
     "text": [
      "Enter a value/choice between (0-10): e\n"
     ]
    },
    {
     "name": "stdout",
     "output_type": "stream",
     "text": [
      "Sorry!, that is not a digit\n"
     ]
    },
    {
     "name": "stdin",
     "output_type": "stream",
     "text": [
      "Enter a value/choice between (0-10): q\n"
     ]
    },
    {
     "name": "stdout",
     "output_type": "stream",
     "text": [
      "Sorry!, that is not a digit\n"
     ]
    },
    {
     "name": "stdin",
     "output_type": "stream",
     "text": [
      "Enter a value/choice between (0-10): 1\n"
     ]
    },
    {
     "data": {
      "text/plain": [
       "1"
      ]
     },
     "execution_count": 3,
     "metadata": {},
     "output_type": "execute_result"
    }
   ],
   "source": [
    "#lets do the checks as below:\n",
    "def user_choice():\n",
    "    #initialiased a wrong value , so that while loops in till it gets a valid value\n",
    "    choice = \"WRONG\" \n",
    "    while choice.isdigit() == False:\n",
    "        choice = input(\"Enter a value/choice between (0-10):\")\n",
    "        if choice.isdigit() == False:\n",
    "            print(\"Sorry!, that is not a digit\")\n",
    "    return int(choice)\n",
    "user_choice()"
   ]
  },
  {
   "cell_type": "code",
   "execution_count": 21,
   "id": "7d13058f-9b0a-48e5-b3dc-69f6b7adfabb",
   "metadata": {},
   "outputs": [
    {
     "data": {
      "text/plain": [
       "True"
      ]
     },
     "execution_count": 21,
     "metadata": {},
     "output_type": "execute_result"
    }
   ],
   "source": [
    "#this check helps to find if its wrong or valid input \n",
    "# we also need to check if its between 1-10 and how to do it\n",
    "\n",
    "acceptable_range_values = list(range(0,11))\n",
    "#acceptable_range_values = [0,1,2,3,4,5,6,7,8,9,10]\n",
    "choice = 10\n",
    "choice in acceptable_range_values\n",
    "# this helps us to check if the given user value is within the range\n"
   ]
  },
  {
   "cell_type": "code",
   "execution_count": 29,
   "id": "50fb1601-1b16-4a25-a8d5-2a1b60bf016a",
   "metadata": {},
   "outputs": [
    {
     "name": "stdin",
     "output_type": "stream",
     "text": [
      "Enter a value/choice between (0-10): e\n"
     ]
    },
    {
     "name": "stdout",
     "output_type": "stream",
     "text": [
      "Sorry!, that is not a digit\n"
     ]
    },
    {
     "name": "stdin",
     "output_type": "stream",
     "text": [
      "Enter a value/choice between (0-10): r\n"
     ]
    },
    {
     "name": "stdout",
     "output_type": "stream",
     "text": [
      "Sorry!, that is not a digit\n"
     ]
    },
    {
     "name": "stdin",
     "output_type": "stream",
     "text": [
      "Enter a value/choice between (0-10): 40\n"
     ]
    },
    {
     "name": "stdout",
     "output_type": "stream",
     "text": [
      "Sorry!, that is not within accpetable range (0-10)\n"
     ]
    },
    {
     "name": "stdin",
     "output_type": "stream",
     "text": [
      "Enter a value/choice between (0-10): 12\n"
     ]
    },
    {
     "name": "stdout",
     "output_type": "stream",
     "text": [
      "Sorry!, that is not within accpetable range (0-10)\n"
     ]
    },
    {
     "name": "stdin",
     "output_type": "stream",
     "text": [
      "Enter a value/choice between (0-10): 1\n"
     ]
    },
    {
     "data": {
      "text/plain": [
       "1"
      ]
     },
     "execution_count": 29,
     "metadata": {},
     "output_type": "execute_result"
    }
   ],
   "source": [
    "def user_choice():\n",
    "    #initialiased a wrong value , so that while loops in till it gets a valid value\n",
    "    choice = \"WRONG\" \n",
    "    acceptable_range = list(range(0,11))\n",
    "    within_range = False\n",
    "\n",
    "    # two conditions for chcking\n",
    "    # check if digit or not\n",
    "    # check if choice is within the range\n",
    "    while choice.isdigit() == False or within_range == False:\n",
    "        #Taking input\n",
    "        choice = input(\"Enter a value/choice between (0-10):\")\n",
    "        #DIGIT CHECK\n",
    "        if choice.isdigit() == False:\n",
    "            print(\"Sorry!, that is not a digit\")\n",
    "        #RANGE_CHECK\n",
    "        if choice.isdigit() == True:\n",
    "            if int(choice) in acceptable_range:\n",
    "                within_range = True\n",
    "            else:\n",
    "                print(\"Sorry!, that is not within accpetable range (0-10)\")\n",
    "                within_range = False\n",
    "    return int(choice)\n",
    "user_choice()"
   ]
  },
  {
   "cell_type": "code",
   "execution_count": null,
   "id": "7684c874-3d34-4ccc-9ee0-c6d2c347ebc0",
   "metadata": {},
   "outputs": [],
   "source": [
    "# 4) SIMPLE USER INTERACTION\n",
    "#Simple game to get a user interaction experience\n",
    "#Refer to SimpleInteractionGame Notebook"
   ]
  }
 ],
 "metadata": {
  "kernelspec": {
   "display_name": "Python 3 (ipykernel)",
   "language": "python",
   "name": "python3"
  },
  "language_info": {
   "codemirror_mode": {
    "name": "ipython",
    "version": 3
   },
   "file_extension": ".py",
   "mimetype": "text/x-python",
   "name": "python",
   "nbconvert_exporter": "python",
   "pygments_lexer": "ipython3",
   "version": "3.12.7"
  }
 },
 "nbformat": 4,
 "nbformat_minor": 5
}
