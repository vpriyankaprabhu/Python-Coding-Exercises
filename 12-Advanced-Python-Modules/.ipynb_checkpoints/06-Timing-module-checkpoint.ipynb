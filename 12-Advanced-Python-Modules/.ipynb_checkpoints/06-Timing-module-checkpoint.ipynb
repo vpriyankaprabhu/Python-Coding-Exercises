{
 "cells": [
  {
   "cell_type": "code",
   "execution_count": 1,
   "id": "46125bbe-10c3-4721-9b0f-3b4d0a712b99",
   "metadata": {},
   "outputs": [],
   "source": [
    "# Sometimes it's important to know how long your code is taking to run, or at least know if a particular line of code is slowing down your entire project. \n",
    "# Python has a built-in timing module to do this."
   ]
  },
  {
   "cell_type": "code",
   "execution_count": 2,
   "id": "62dc70ed-1dd7-4f8c-9669-951d531b4a12",
   "metadata": {},
   "outputs": [],
   "source": [
    "def func_one(n):\n",
    "    '''\n",
    "    For Given n numbers convert them to string value:\n",
    "    n = 5\n",
    "    return ['1','2','3','4','5']\n",
    "    '''\n",
    "    return [str(num) for num in range(n)]"
   ]
  },
  {
   "cell_type": "code",
   "execution_count": 3,
   "id": "6907c22b-f951-4ae6-8f7f-f8c030a1f5cf",
   "metadata": {},
   "outputs": [
    {
     "data": {
      "text/plain": [
       "['0', '1', '2', '3', '4', '5', '6', '7', '8', '9']"
      ]
     },
     "execution_count": 3,
     "metadata": {},
     "output_type": "execute_result"
    }
   ],
   "source": [
    "func_one(10)"
   ]
  },
  {
   "cell_type": "code",
   "execution_count": 4,
   "id": "5fa6a880-2b76-4313-9c4e-b377a8f162c9",
   "metadata": {},
   "outputs": [],
   "source": [
    "#Another way to execute same usecase \n",
    "#Now to check which is best approach we need to time the code"
   ]
  },
  {
   "cell_type": "code",
   "execution_count": 5,
   "id": "914b616a-296f-4aff-9591-f6a97e27a8fa",
   "metadata": {},
   "outputs": [],
   "source": [
    "def func_two(n):\n",
    "    '''\n",
    "    For Given n numbers convert them to string value:\n",
    "    n = 5\n",
    "    return ['1','2','3','4','5']\n",
    "    '''\n",
    "    return list(map(str, range(n)))"
   ]
  },
  {
   "cell_type": "code",
   "execution_count": 6,
   "id": "8109cf0a-7fc4-4e02-ba57-d2729f9ab783",
   "metadata": {},
   "outputs": [
    {
     "data": {
      "text/plain": [
       "['0', '1', '2', '3', '4', '5', '6', '7', '8', '9']"
      ]
     },
     "execution_count": 6,
     "metadata": {},
     "output_type": "execute_result"
    }
   ],
   "source": [
    "func_two(10)"
   ]
  },
  {
   "cell_type": "code",
   "execution_count": 7,
   "id": "3a83c64d-35f2-4a8a-9686-6a5a0f522ff0",
   "metadata": {},
   "outputs": [
    {
     "data": {
      "text/plain": [
       "0.053946733474731445"
      ]
     },
     "execution_count": 7,
     "metadata": {},
     "output_type": "execute_result"
    }
   ],
   "source": [
    "#lets see different ways to do them\n",
    "#Timing Start and Stop\n",
    "\n",
    "import time\n",
    "\n",
    "# STEP 1: Get start time\n",
    "start_time = time.time()\n",
    "# Step 2: Run your code you want to time\n",
    "result = func_one(1000000)\n",
    "# Step 3: Get the end time\n",
    "end_time = time.time()\n",
    "#Step 4: Find elapsed time\n",
    "elapsed_time = end_time - start_time\n",
    "\n",
    "elapsed_time"
   ]
  },
  {
   "cell_type": "code",
   "execution_count": 8,
   "id": "399c55a7-131b-40de-887b-42f2fe8dfae0",
   "metadata": {},
   "outputs": [
    {
     "data": {
      "text/plain": [
       "0.07680726051330566"
      ]
     },
     "execution_count": 8,
     "metadata": {},
     "output_type": "execute_result"
    }
   ],
   "source": [
    "#Timing Start and Stop\n",
    "\n",
    "import time\n",
    "\n",
    "# STEP 1: Get start time\n",
    "start_time = time.time()\n",
    "# Step 2: Run your code you want to time\n",
    "result = func_two(1000000)\n",
    "# Step 3: Get the end time\n",
    "end_time = time.time()\n",
    "#Step 4: Find elapsed time\n",
    "elapsed_time = end_time - start_time\n",
    "\n",
    "elapsed_time"
   ]
  },
  {
   "cell_type": "code",
   "execution_count": 9,
   "id": "dd12a6a0-865f-4767-bfaf-50b92f4a76cd",
   "metadata": {},
   "outputs": [],
   "source": [
    "#Keep in mind, due to the time module's precision, the code needs to take at least 0.1 seconds to complete."
   ]
  },
  {
   "cell_type": "code",
   "execution_count": 10,
   "id": "3f309a96-3d91-435f-8632-a5efb67e8840",
   "metadata": {},
   "outputs": [],
   "source": [
    "#Timeit Module"
   ]
  },
  {
   "cell_type": "code",
   "execution_count": 11,
   "id": "c9021c08-ea65-4b36-a122-a04b5c974b0c",
   "metadata": {},
   "outputs": [],
   "source": [
    "#What if we have two blocks of code that are quite fast, \n",
    "#the difference from the time.time() method may not be enough to tell which is fater. \n",
    "#In this case, we can use the timeit module."
   ]
  },
  {
   "cell_type": "code",
   "execution_count": 12,
   "id": "380b6f25-0d30-4ea1-9335-a172b0786e5b",
   "metadata": {},
   "outputs": [],
   "source": [
    "#The timeit module takes in two strings, a statement (stmt) and a setup. \n",
    "#It then runs the setup code and runs the stmt code some n number of times and reports back average length of time it took."
   ]
  },
  {
   "cell_type": "code",
   "execution_count": 19,
   "id": "34438eff-8901-4e20-a739-78b97cfc8dd0",
   "metadata": {},
   "outputs": [],
   "source": [
    "import timeit"
   ]
  },
  {
   "cell_type": "code",
   "execution_count": 23,
   "id": "a3992d22-19f7-4cb4-a297-d9d6bc2ef004",
   "metadata": {},
   "outputs": [
    {
     "name": "stdout",
     "output_type": "stream",
     "text": [
      "0.5206095420289785\n"
     ]
    }
   ],
   "source": [
    "setup = '''\n",
    "def func_one(n):\n",
    "    return [str(num) for num in range(n)]\n",
    "'''\n",
    "\n",
    "stmt = '''\n",
    "func_one(1000)\n",
    "'''\n",
    "\n",
    "print(timeit.timeit(stmt, setup, number=10000))"
   ]
  },
  {
   "cell_type": "code",
   "execution_count": 21,
   "id": "24d90dbc-50b9-45bf-9017-fa387b51da5b",
   "metadata": {},
   "outputs": [
    {
     "data": {
      "text/plain": [
       "0.6803498749504797"
      ]
     },
     "execution_count": 21,
     "metadata": {},
     "output_type": "execute_result"
    }
   ],
   "source": [
    "#Now let try running func_two 10,000 times and compare the length of time it took.\n",
    "\n",
    "setup2 = '''\n",
    "def func_two(n):\n",
    "    return list(map(str, range(n)))\n",
    "'''\n",
    "\n",
    "stmt2 = '''\n",
    "func_two(1000)\n",
    "'''\n",
    "\n",
    "timeit.timeit(stmt2, setup2, number=10000)"
   ]
  },
  {
   "cell_type": "code",
   "execution_count": null,
   "id": "cdf0c274-2a07-4317-9ec5-3a0de256863a",
   "metadata": {},
   "outputs": [],
   "source": [
    "#It looks like func_two is more efficient. \n",
    "#You can specify more number of runs if you want to clarify the different for fast performing functions."
   ]
  },
  {
   "cell_type": "code",
   "execution_count": 35,
   "id": "df6e1ea5-3841-4b1d-9cf8-690713cf3b33",
   "metadata": {},
   "outputs": [],
   "source": [
    "#Timing you code with Jupyter \"magic\" method"
   ]
  },
  {
   "cell_type": "code",
   "execution_count": 37,
   "id": "b29956a1-ed73-4380-af9f-6141de217886",
   "metadata": {},
   "outputs": [
    {
     "name": "stdout",
     "output_type": "stream",
     "text": [
      "4.55 μs ± 61.6 ns per loop (mean ± std. dev. of 7 runs, 100,000 loops each)\n"
     ]
    }
   ],
   "source": [
    "%%timeit\n",
    "func_one(100)"
   ]
  },
  {
   "cell_type": "code",
   "execution_count": null,
   "id": "af12d06d-3a2e-46b4-9b07-72e790d91a78",
   "metadata": {},
   "outputs": [],
   "source": [
    "%%timeit\n",
    "func_two(100)"
   ]
  },
  {
   "cell_type": "code",
   "execution_count": 27,
   "id": "c9af3369-067b-449c-8d1f-81bf5c0df6fe",
   "metadata": {},
   "outputs": [],
   "source": [
    "#Timing you code with Jupyter \"magic\" method\n",
    "#NOTE: This method is ONLY available in Jupyter and the magic command needs to be at the top of the \n",
    "#cell with nothing above it (not even commented code)"
   ]
  },
  {
   "cell_type": "code",
   "execution_count": null,
   "id": "64679308-a921-48e4-80d3-2bb34a033511",
   "metadata": {},
   "outputs": [],
   "source": []
  }
 ],
 "metadata": {
  "kernelspec": {
   "display_name": "Python 3 (ipykernel)",
   "language": "python",
   "name": "python3"
  },
  "language_info": {
   "codemirror_mode": {
    "name": "ipython",
    "version": 3
   },
   "file_extension": ".py",
   "mimetype": "text/x-python",
   "name": "python",
   "nbconvert_exporter": "python",
   "pygments_lexer": "ipython3",
   "version": "3.12.7"
  }
 },
 "nbformat": 4,
 "nbformat_minor": 5
}
