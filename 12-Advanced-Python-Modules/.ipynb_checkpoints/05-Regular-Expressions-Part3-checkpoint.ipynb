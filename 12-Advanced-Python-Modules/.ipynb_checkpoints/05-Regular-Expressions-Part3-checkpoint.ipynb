{
 "cells": [
  {
   "cell_type": "code",
   "execution_count": 1,
   "id": "6b6b4f93-779a-4a55-8da4-b29ff87c2eda",
   "metadata": {},
   "outputs": [],
   "source": [
    "#Additional Regex Syntax\n"
   ]
  },
  {
   "cell_type": "code",
   "execution_count": 3,
   "id": "55fc6866-e50e-4dde-b341-3c042c6a87fb",
   "metadata": {},
   "outputs": [],
   "source": [
    "#The OR | operator"
   ]
  },
  {
   "cell_type": "code",
   "execution_count": 5,
   "id": "bd3838ca-cc10-4aad-bca0-b931743a4567",
   "metadata": {},
   "outputs": [],
   "source": [
    "text = \"The cat is in the hat and has not sat there.\""
   ]
  },
  {
   "cell_type": "code",
   "execution_count": 7,
   "id": "a2de9d02-2a75-4e49-8f5b-9671de7b09ba",
   "metadata": {},
   "outputs": [
    {
     "data": {
      "text/plain": [
       "<re.Match object; span=(4, 7), match='cat'>"
      ]
     },
     "execution_count": 7,
     "metadata": {},
     "output_type": "execute_result"
    }
   ],
   "source": [
    "import re\n",
    "\n",
    "re.search(r\"cat\", text)"
   ]
  },
  {
   "cell_type": "code",
   "execution_count": 9,
   "id": "24a02f95-e6f4-481e-a1e3-a6328b54941f",
   "metadata": {},
   "outputs": [],
   "source": [
    "#but what if i want to check for dog in text"
   ]
  },
  {
   "cell_type": "code",
   "execution_count": 11,
   "id": "3704b0e5-e8ab-4d2a-93fc-fbdf59f09bf1",
   "metadata": {},
   "outputs": [],
   "source": [
    "text = \"The dog is in the hat and has sat there.\"\n",
    "re.search(r\"cat\", text)"
   ]
  },
  {
   "cell_type": "code",
   "execution_count": 13,
   "id": "992b4fb8-009d-4c56-9802-fc2ea660b505",
   "metadata": {},
   "outputs": [
    {
     "data": {
      "text/plain": [
       "<re.Match object; span=(4, 7), match='cat'>"
      ]
     },
     "execution_count": 13,
     "metadata": {},
     "output_type": "execute_result"
    }
   ],
   "source": [
    "text = \"The cat is in the hat and has sat there.\"\n",
    "re.search(r\"cat\", text)"
   ]
  },
  {
   "cell_type": "code",
   "execution_count": 15,
   "id": "c92c4c13-eb5d-47a3-93a7-c008daee3e33",
   "metadata": {},
   "outputs": [],
   "source": [
    "#If we want both cat and dog to be searched in text how to do it?"
   ]
  },
  {
   "cell_type": "code",
   "execution_count": 17,
   "id": "e9b43698-3511-469c-ae07-6ce840aecd34",
   "metadata": {},
   "outputs": [
    {
     "data": {
      "text/plain": [
       "<re.Match object; span=(4, 7), match='dog'>"
      ]
     },
     "execution_count": 17,
     "metadata": {},
     "output_type": "execute_result"
    }
   ],
   "source": [
    "#We can go about | or operator as follows:\n",
    "text = \"The dog is in the hat and has sat there.\"\n",
    "re.search(r\"cat|dog\", text)"
   ]
  },
  {
   "cell_type": "code",
   "execution_count": 19,
   "id": "53c3b8e3-a6ee-4245-aaf9-f69be6e5bae5",
   "metadata": {},
   "outputs": [
    {
     "data": {
      "text/plain": [
       "<re.Match object; span=(4, 7), match='cat'>"
      ]
     },
     "execution_count": 19,
     "metadata": {},
     "output_type": "execute_result"
    }
   ],
   "source": [
    "text = \"The cat is in the hat and has sat there.\"\n",
    "re.search(r\"cat|dog\", text)"
   ]
  },
  {
   "cell_type": "code",
   "execution_count": 25,
   "id": "f7e2e6d7-4d68-4142-acc5-f141ae6f8e23",
   "metadata": {},
   "outputs": [
    {
     "data": {
      "text/plain": [
       "['at', 'at', 'at', 'at']"
      ]
     },
     "execution_count": 25,
     "metadata": {},
     "output_type": "execute_result"
    }
   ],
   "source": [
    "#The Wildcard Character\n",
    "#Use a \"wildcard\" as a placement that will match any character placed there. You can use a simple period . for this. For example:\n",
    "\n",
    "text = \"The cat is in the hat and has sat at the window sill.\"\n",
    "re.findall(r\"at\", text)"
   ]
  },
  {
   "cell_type": "code",
   "execution_count": 29,
   "id": "04708c7f-32cc-426e-9194-99914e39db3a",
   "metadata": {},
   "outputs": [
    {
     "data": {
      "text/plain": [
       "['cat', 'hat', 'sat', ' at']"
      ]
     },
     "execution_count": 29,
     "metadata": {},
     "output_type": "execute_result"
    }
   ],
   "source": [
    "#but we want to pick cat, hat, sat so for this we will make use of wild card . (one or none)\n",
    "re.findall(r\".at\", text) #for at (.at -> . refers to none, for others it matches to c, s, h)"
   ]
  },
  {
   "cell_type": "code",
   "execution_count": 31,
   "id": "5c1156c2-cf99-485a-9373-b945553fd725",
   "metadata": {},
   "outputs": [],
   "source": [
    "#Now wat if there is longer \"at\" sequence word how to match it"
   ]
  },
  {
   "cell_type": "code",
   "execution_count": 35,
   "id": "bd36d5b8-19f6-4dd2-a000-bb36bc0c85a4",
   "metadata": {},
   "outputs": [
    {
     "data": {
      "text/plain": [
       "['cat', 'hat', 'lat']"
      ]
     },
     "execution_count": 35,
     "metadata": {},
     "output_type": "execute_result"
    }
   ],
   "source": [
    "text = \"The cat is in the hat and has splat\"\n",
    "re.findall(r\".at\", text) #splat has not matched completely only lat is picked"
   ]
  },
  {
   "cell_type": "code",
   "execution_count": 39,
   "id": "670e73e3-1a21-4d6f-8202-4907e674cf7e",
   "metadata": {},
   "outputs": [
    {
     "data": {
      "text/plain": [
       "['e cat', 'e hat', 'splat']"
      ]
     },
     "execution_count": 39,
     "metadata": {},
     "output_type": "execute_result"
    }
   ],
   "source": [
    "re.findall(r\"...at\", text) #splat got matched but rest of them is incorrect and picked space and other character e"
   ]
  },
  {
   "cell_type": "code",
   "execution_count": 45,
   "id": "30f61667-7221-4ccb-b42f-79a3f6dfc2f2",
   "metadata": {},
   "outputs": [
    {
     "data": {
      "text/plain": [
       "['cat', 'hat', 'splat']"
      ]
     },
     "execution_count": 45,
     "metadata": {},
     "output_type": "execute_result"
    }
   ],
   "source": [
    "## One or more non-whitespace that ends with 'at'\n",
    "re.findall(r\"\\S+at\", text)"
   ]
  },
  {
   "cell_type": "code",
   "execution_count": 49,
   "id": "23dd8d08-295f-492c-9f33-1903cb5de954",
   "metadata": {},
   "outputs": [],
   "source": [
    "#Starts with and Ends With\n",
    "#We can use the ^ to signal starts with, and the $ to signal ends with:"
   ]
  },
  {
   "cell_type": "code",
   "execution_count": 55,
   "id": "c50ccb14-849a-4772-8fe8-b1e39f55d70b",
   "metadata": {},
   "outputs": [
    {
     "data": {
      "text/plain": [
       "['1']"
      ]
     },
     "execution_count": 55,
     "metadata": {},
     "output_type": "execute_result"
    }
   ],
   "source": [
    "text = \"1 is a number here!.\"\n",
    "pattern = r\"^\\d\" #starting with number to be matched\n",
    "re.findall(pattern, text)"
   ]
  },
  {
   "cell_type": "code",
   "execution_count": 63,
   "id": "333710f5-2527-4abd-8607-9570d7f19c87",
   "metadata": {},
   "outputs": [
    {
     "name": "stdout",
     "output_type": "stream",
     "text": [
      "['123']\n"
     ]
    },
    {
     "data": {
      "text/plain": [
       "['1']"
      ]
     },
     "execution_count": 63,
     "metadata": {},
     "output_type": "execute_result"
    }
   ],
   "source": [
    "text = \"123 is a number here!.\"\n",
    "pattern = r\"^\\d+\" #starting with number to be matched (number can be of any length)\n",
    "print(re.findall(pattern, text))\n",
    "#if we need only first digit of number\n",
    "pattern = r\"^\\d\" ##if we need only first digit of number\n",
    "re.findall(pattern, text)"
   ]
  },
  {
   "cell_type": "code",
   "execution_count": 67,
   "id": "bebc1408-a0cd-46e6-89cb-55af54fa661b",
   "metadata": {},
   "outputs": [
    {
     "data": {
      "text/plain": [
       "['2']"
      ]
     },
     "execution_count": 67,
     "metadata": {},
     "output_type": "execute_result"
    }
   ],
   "source": [
    "#Note that this is for the entire string, not individual words!\n",
    "\n",
    "#ending with\n",
    "pattern = r\"\\d$\"\n",
    "text = \"The number is 2\"\n",
    "re.findall(pattern, text)"
   ]
  },
  {
   "cell_type": "code",
   "execution_count": 71,
   "id": "a7538dac-fff4-4a32-a738-2bb0a95d1145",
   "metadata": {},
   "outputs": [
    {
     "data": {
      "text/plain": [
       "[]"
      ]
     },
     "execution_count": 71,
     "metadata": {},
     "output_type": "execute_result"
    }
   ],
   "source": [
    "pattern = r\"\\d$\"\n",
    "text = \"The number is two\"\n",
    "re.findall(pattern, text) #no match"
   ]
  },
  {
   "cell_type": "code",
   "execution_count": 75,
   "id": "6db145e7-4a56-4de9-bef6-8745ae65e276",
   "metadata": {},
   "outputs": [
    {
     "data": {
      "text/plain": [
       "['123']"
      ]
     },
     "execution_count": 75,
     "metadata": {},
     "output_type": "execute_result"
    }
   ],
   "source": [
    "pattern = r\"\\d+$\"\n",
    "text = \"The number is 123\"\n",
    "re.findall(pattern, text) #no match"
   ]
  },
  {
   "cell_type": "code",
   "execution_count": 79,
   "id": "7c77b75f-8635-408b-8da5-8e0d86f3c5c5",
   "metadata": {},
   "outputs": [
    {
     "data": {
      "text/plain": [
       "['3']"
      ]
     },
     "execution_count": 79,
     "metadata": {},
     "output_type": "execute_result"
    }
   ],
   "source": [
    "#last digit of last number in string\n",
    "pattern = r\"\\d$\"\n",
    "text = \"The number is 123\"\n",
    "re.findall(pattern, text) #no match"
   ]
  },
  {
   "cell_type": "code",
   "execution_count": 95,
   "id": "e3215afb-6b90-45e2-88bc-980137eafa10",
   "metadata": {},
   "outputs": [
    {
     "data": {
      "text/plain": [
       "'thecatisinthehat'"
      ]
     },
     "execution_count": 95,
     "metadata": {},
     "output_type": "execute_result"
    }
   ],
   "source": [
    "#Now we want to exclude certain pattern from string for example remove all spaces from the string\n",
    "#Exclusion\n",
    "#To exclude characters, we can use the ^ symbol in conjunction with a set of brackets []. \n",
    "#Anything inside the brackets is excluded. For example:\n",
    "\n",
    "text = \"the cat is in the hat\"\n",
    "pattern = r\"[^\\s]+\"\n",
    "list_of_words = re.findall(pattern, text)\n",
    "''.join(list_of_words)"
   ]
  },
  {
   "cell_type": "code",
   "execution_count": 87,
   "id": "5f5fdbc4-1ac1-42aa-a777-1ea11b816121",
   "metadata": {},
   "outputs": [
    {
     "data": {
      "text/plain": [
       "['I',\n",
       " ' ',\n",
       " 'h',\n",
       " 'a',\n",
       " 'v',\n",
       " 'e',\n",
       " ' ',\n",
       " ' ',\n",
       " 'f',\n",
       " 'l',\n",
       " 'o',\n",
       " 'w',\n",
       " 'e',\n",
       " 'r',\n",
       " 's',\n",
       " ',',\n",
       " ' ',\n",
       " ' ',\n",
       " 'f',\n",
       " 'r',\n",
       " 'u',\n",
       " 'i',\n",
       " 't',\n",
       " 's',\n",
       " ',',\n",
       " ' ',\n",
       " ' ',\n",
       " 'c',\n",
       " 'h',\n",
       " 'o',\n",
       " 'c',\n",
       " 'o',\n",
       " 'l',\n",
       " 'a',\n",
       " 't',\n",
       " 'e',\n",
       " 's']"
      ]
     },
     "execution_count": 87,
     "metadata": {},
     "output_type": "execute_result"
    }
   ],
   "source": [
    "# if we want to exclude numbers from string\n",
    "text = \"I have 4 flowers, 3 fruits, 10 chocolates\"\n",
    "pattern = r\"[^\\d]\"\n",
    "re.findall(pattern, text)"
   ]
  },
  {
   "cell_type": "code",
   "execution_count": 97,
   "id": "4279134f-c1be-4c12-b2f1-b848df19e36e",
   "metadata": {},
   "outputs": [
    {
     "data": {
      "text/plain": [
       "['I have ', ' flowers, ', ' fruits, ', ' chocolates']"
      ]
     },
     "execution_count": 97,
     "metadata": {},
     "output_type": "execute_result"
    }
   ],
   "source": [
    "# To get the words back together, use a + sign\n",
    "\n",
    "# if we want to exclude numbers from string\n",
    "text = \"I have 4 flowers, 3 fruits, 10 chocolates\"\n",
    "pattern = r\"[^\\d]+\"\n",
    "re.findall(pattern, text)"
   ]
  },
  {
   "cell_type": "code",
   "execution_count": 93,
   "id": "6cd11567-9bbc-45b1-a4e9-f1289714775d",
   "metadata": {},
   "outputs": [
    {
     "data": {
      "text/plain": [
       "'I have flowers, fruits, chocolates'"
      ]
     },
     "execution_count": 93,
     "metadata": {},
     "output_type": "execute_result"
    }
   ],
   "source": [
    "# if we want to exclude numbers from string\n",
    "text = \"I have 4 flowers, 3 fruits, 10 chocolates\"\n",
    "pattern = r\"[^\\d ]+\"\n",
    "list_without_numbers = re.findall(pattern, text)\n",
    "' '.join(list_without_numbers)"
   ]
  },
  {
   "cell_type": "code",
   "execution_count": 101,
   "id": "41da5cdf-d897-48c5-87b3-060292879566",
   "metadata": {},
   "outputs": [
    {
     "data": {
      "text/plain": [
       "['This',\n",
       " 'is',\n",
       " 'a',\n",
       " 'string',\n",
       " 'But',\n",
       " 'it',\n",
       " 'has',\n",
       " 'punctuation',\n",
       " 'How',\n",
       " 'can',\n",
       " 'we',\n",
       " 'remove',\n",
       " 'it']"
      ]
     },
     "execution_count": 101,
     "metadata": {},
     "output_type": "execute_result"
    }
   ],
   "source": [
    "# this kind we can use this to remove punctuation from a sentence.\n",
    "\n",
    "test_phrase = 'This is a string! But it has punctuation. How can we remove it?'\n",
    "pattern = r\"[^\\W]+\"\n",
    "re.findall(pattern, test_phrase)"
   ]
  },
  {
   "cell_type": "code",
   "execution_count": 105,
   "id": "9c12b0e6-78d4-473d-bf80-92735eeb441b",
   "metadata": {},
   "outputs": [
    {
     "data": {
      "text/plain": [
       "['This',\n",
       " 'is',\n",
       " 'a',\n",
       " 'string',\n",
       " 'But',\n",
       " 'it',\n",
       " 'has',\n",
       " 'punctuation',\n",
       " 'How',\n",
       " 'can',\n",
       " 'we',\n",
       " 'remove',\n",
       " 'it']"
      ]
     },
     "execution_count": 105,
     "metadata": {},
     "output_type": "execute_result"
    }
   ],
   "source": [
    "test_phrase = 'This is a string! But it has punctuation. How can we remove it?'\n",
    "pattern = r\"[^?.! ]+\"\n",
    "re.findall(pattern, test_phrase)"
   ]
  },
  {
   "cell_type": "code",
   "execution_count": 107,
   "id": "4b9c6fb4-d930-449f-b457-21dbed14a55c",
   "metadata": {},
   "outputs": [
    {
     "data": {
      "text/plain": [
       "'This is a string But it has punctuation How can we remove it'"
      ]
     },
     "execution_count": 107,
     "metadata": {},
     "output_type": "execute_result"
    }
   ],
   "source": [
    "test_phrase = 'This is a string! But it has punctuation. How can we remove it?'\n",
    "pattern = r\"[^?.! ]+\"\n",
    "temp_list = re.findall(pattern, test_phrase)\n",
    "' '.join(temp_list)"
   ]
  },
  {
   "cell_type": "code",
   "execution_count": 111,
   "id": "7e33dd24-3cad-4276-a27d-cae54c2b4470",
   "metadata": {},
   "outputs": [
    {
     "data": {
      "text/plain": [
       "['Only',\n",
       " 'find',\n",
       " 'the',\n",
       " 'hypen',\n",
       " 'words',\n",
       " 'in',\n",
       " 'this',\n",
       " 'sentence',\n",
       " 'But',\n",
       " 'you',\n",
       " 'do',\n",
       " 'not',\n",
       " 'know',\n",
       " 'how',\n",
       " 'long',\n",
       " 'ish',\n",
       " 'they',\n",
       " 'are']"
      ]
     },
     "execution_count": 111,
     "metadata": {},
     "output_type": "execute_result"
    }
   ],
   "source": [
    "# Brackets for Grouping\n",
    "# As we showed above we can use brackets to group together options, for example if we wanted to find hyphenated words:\n",
    "\n",
    "text = 'Only find the hypen-words in this sentence. But you do not know how long-ish they are'\n",
    "pattern = r\"[\\w]+\" #find all alphanumic words in this text\n",
    "re.findall(pattern,text)"
   ]
  },
  {
   "cell_type": "code",
   "execution_count": 113,
   "id": "f7d3d29f-c264-4d8e-b778-613a7e273403",
   "metadata": {},
   "outputs": [
    {
     "data": {
      "text/plain": [
       "['hypen-words', 'long-ish']"
      ]
     },
     "execution_count": 113,
     "metadata": {},
     "output_type": "execute_result"
    }
   ],
   "source": [
    "#now to find hyphenated words, we dont know its length though\n",
    "text = 'Only find the hypen-words in this sentence. But you do not know how long-ish they are'\n",
    "pattern = r\"[\\w]+-[\\w]+\" #find all hyphenated alphanumic words in this text\n",
    "re.findall(pattern,text)"
   ]
  },
  {
   "cell_type": "code",
   "execution_count": 115,
   "id": "88e7368e-f75e-4602-8cd8-9f8f2e53e943",
   "metadata": {},
   "outputs": [
    {
     "data": {
      "text/plain": [
       "['hypen-words', 'long-ish']"
      ]
     },
     "execution_count": 115,
     "metadata": {},
     "output_type": "execute_result"
    }
   ],
   "source": [
    "text = 'Only find the hypen-words in this sentence. But you do not know how long-ish they are'\n",
    "pattern = r\"\\w+-\\w+\" #find all hyphenated alphanumic words in this text\n",
    "re.findall(pattern,text)"
   ]
  },
  {
   "cell_type": "code",
   "execution_count": 117,
   "id": "7561f568-c3d0-497c-b405-0b59b624e562",
   "metadata": {},
   "outputs": [],
   "source": [
    "#removing [] also works but for readability users prefer to group them with []\n"
   ]
  },
  {
   "cell_type": "code",
   "execution_count": 135,
   "id": "c905f376-eca2-42f6-b7fd-8ad784c62c67",
   "metadata": {},
   "outputs": [],
   "source": [
    "#Parenthesis for Multiple Options\n",
    "# If we have multiple options for matching, we can use parenthesis to list out these options. For Example:\n",
    "\n",
    "# Find words that start with cat and end with one of these options: 'fish','nap', or 'claw'\n",
    "text = 'Hello, would you like some catfish?'\n",
    "texttwo = \"Hello, would you like to take a catnap?\"\n",
    "textthree = \"Hello, have you seen this caterpillar?\""
   ]
  },
  {
   "cell_type": "code",
   "execution_count": 141,
   "id": "49484734-1730-4a01-b20e-27e2cfd571ff",
   "metadata": {},
   "outputs": [
    {
     "name": "stdout",
     "output_type": "stream",
     "text": [
      "<re.Match object; span=(27, 34), match='catfish'>\n",
      "<re.Match object; span=(32, 38), match='catnap'>\n",
      "None\n"
     ]
    }
   ],
   "source": [
    "pattern = r\"cat(fish|nap|pill)\"\n",
    "print(re.search(pattern, text))\n",
    "print(re.search(pattern, texttwo))\n",
    "print(re.search(pattern, textthree))"
   ]
  },
  {
   "cell_type": "code",
   "execution_count": 151,
   "id": "673daabd-f762-4fd5-b7ee-1d182a6f8933",
   "metadata": {},
   "outputs": [
    {
     "name": "stdout",
     "output_type": "stream",
     "text": [
      "<re.Match object; span=(27, 34), match='catfish'>\n",
      "<re.Match object; span=(32, 38), match='catnap'>\n",
      "<re.Match object; span=(26, 33), match='catclaw'>\n"
     ]
    }
   ],
   "source": [
    "text = 'Hello, would you like some catfish?'\n",
    "texttwo = \"Hello, would you like to take a catnap?\"\n",
    "textthree = \"Hello, have you seen this catclaw?\"\n",
    "pattern = r\"cat(fish|nap|claw)\"\n",
    "print(re.search(pattern, text))\n",
    "print(re.search(pattern, texttwo))\n",
    "print(re.search(pattern, textthree))"
   ]
  },
  {
   "cell_type": "code",
   "execution_count": null,
   "id": "6dcaaf10-30f3-44ab-8ca5-585610e45fb7",
   "metadata": {},
   "outputs": [],
   "source": []
  }
 ],
 "metadata": {
  "kernelspec": {
   "display_name": "Python 3 (ipykernel)",
   "language": "python",
   "name": "python3"
  },
  "language_info": {
   "codemirror_mode": {
    "name": "ipython",
    "version": 3
   },
   "file_extension": ".py",
   "mimetype": "text/x-python",
   "name": "python",
   "nbconvert_exporter": "python",
   "pygments_lexer": "ipython3",
   "version": "3.12.7"
  }
 },
 "nbformat": 4,
 "nbformat_minor": 5
}
