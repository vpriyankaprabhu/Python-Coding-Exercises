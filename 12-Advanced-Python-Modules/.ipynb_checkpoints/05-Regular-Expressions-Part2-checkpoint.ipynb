{
 "cells": [
  {
   "cell_type": "code",
   "execution_count": 1,
   "id": "65ae46eb-f5d4-43fb-b659-d9d826835b7a",
   "metadata": {},
   "outputs": [],
   "source": [
    "#Patterns"
   ]
  },
  {
   "cell_type": "code",
   "execution_count": 3,
   "id": "5bb566ab-3070-4874-a632-581a9c2c0fb7",
   "metadata": {},
   "outputs": [],
   "source": [
    "#What about more complex examples? Such as trying to find a telephone number in a large string of text? Or an email address?\n",
    "\n",
    "#We could just use search method if we know the exact phone or email, but what if we don't know it? We may know the general format, \n",
    "#and we can use that along with regular expressions to search the document for strings that match a particular pattern."
   ]
  },
  {
   "cell_type": "code",
   "execution_count": 5,
   "id": "09921c26-f72c-459c-bb8b-939de45bd178",
   "metadata": {},
   "outputs": [],
   "source": [
    "#Identifiers for Characters in Patterns\n",
    "\n",
    "#You can use these to build up a pattern string. Notice how these make heavy use of the backwards slash \\ . \n",
    "#Because of this when defining a pattern string for regular expression we use the format:\n",
    "\n",
    "#r'mypattern'\n",
    "#placing the r in front of the string allows python to understand that the \\ in the pattern string are not meant to be escape slashes.\n",
    "\n",
    "#Below you can find a table of all the possible identifiers:\n",
    "\n",
    "# Character\tDescription\t     Example Pattern Code\tExammple Match\n",
    "#\n",
    "# \\d\t    A digit\t         file_\\d\\d\t            file_25\n",
    "# \\w\t    Alphanumeric     \\w-\\w\\w\\w\t            A-b_1 (A-Za-Z0-9 and also _)\n",
    "# \\s\t    White space\t     a\\sb\\sc\t            a b c\n",
    "# \\D\t    A non digit\t     \\D\\D\\D\t                ABC\n",
    "# \\W\t    Non-alphanumeric \\W\\W\\W\\W\\W\t            *-+=)\n",
    "# \\S\t    Non-whitespace   \\S\\S\\S\\S\t            Yoyo"
   ]
  },
  {
   "cell_type": "code",
   "execution_count": 7,
   "id": "66a1d5c2-4c38-4738-b02e-34576ddcf948",
   "metadata": {},
   "outputs": [],
   "source": [
    "text = \"My phone number is 543-333-2321\""
   ]
  },
  {
   "cell_type": "code",
   "execution_count": 9,
   "id": "49282b5a-28f9-44c4-9848-014166013c85",
   "metadata": {},
   "outputs": [],
   "source": [
    "pattern = \"543-333-2321\"\n",
    "text = \"My phone number is 543-333-2321\""
   ]
  },
  {
   "cell_type": "code",
   "execution_count": 11,
   "id": "46b254e6-f09c-4662-9878-b19826fbd137",
   "metadata": {},
   "outputs": [
    {
     "data": {
      "text/plain": [
       "<re.Match object; span=(19, 31), match='543-333-2321'>"
      ]
     },
     "execution_count": 11,
     "metadata": {},
     "output_type": "execute_result"
    }
   ],
   "source": [
    "import re\n",
    "re.search(pattern,text)"
   ]
  },
  {
   "cell_type": "code",
   "execution_count": 13,
   "id": "dc4b69dc-0f13-4f45-a460-7c8997a4f98d",
   "metadata": {},
   "outputs": [],
   "source": [
    "#What if number changes say"
   ]
  },
  {
   "cell_type": "code",
   "execution_count": 15,
   "id": "20e99420-84d7-49f2-b268-0158f6bdc2b9",
   "metadata": {},
   "outputs": [],
   "source": [
    "text = \"My phone number is 543-333-7777\""
   ]
  },
  {
   "cell_type": "code",
   "execution_count": 17,
   "id": "838373c2-2698-44ea-9b69-87196d93dc62",
   "metadata": {},
   "outputs": [],
   "source": [
    "re.search(pattern,text)"
   ]
  },
  {
   "cell_type": "code",
   "execution_count": 19,
   "id": "dcf7e50c-1354-4cd0-88f3-0c8b3f077d6f",
   "metadata": {},
   "outputs": [],
   "source": [
    "#It didnt match so its exact value and not possible to match if numbers change\n",
    "#so how to find the general or special pattern for search"
   ]
  },
  {
   "cell_type": "code",
   "execution_count": 23,
   "id": "842fa21d-c56b-42ee-bd81-bef7edce8a63",
   "metadata": {},
   "outputs": [
    {
     "data": {
      "text/plain": [
       "<re.Match object; span=(19, 31), match='543-333-2321'>"
      ]
     },
     "execution_count": 23,
     "metadata": {},
     "output_type": "execute_result"
    }
   ],
   "source": [
    "pattern = r\"\\d\\d\\d-\\d\\d\\d-\\d\\d\\d\\d\"\n",
    "text = \"My phone number is 543-333-2321\"\n",
    "re.search(pattern,text)"
   ]
  },
  {
   "cell_type": "code",
   "execution_count": 25,
   "id": "1c64843c-8527-42bd-b5e7-47e005dd3ca5",
   "metadata": {},
   "outputs": [
    {
     "data": {
      "text/plain": [
       "<re.Match object; span=(19, 31), match='543-333-7777'>"
      ]
     },
     "execution_count": 25,
     "metadata": {},
     "output_type": "execute_result"
    }
   ],
   "source": [
    "pattern = r\"\\d\\d\\d-\\d\\d\\d-\\d\\d\\d\\d\"\n",
    "text = \"My phone number is 543-333-7777\"\n",
    "re.search(pattern,text)"
   ]
  },
  {
   "cell_type": "code",
   "execution_count": 27,
   "id": "bc791519-3fc6-484e-b2a6-0404109d9b57",
   "metadata": {},
   "outputs": [
    {
     "data": {
      "text/plain": [
       "<re.Match object; span=(19, 31), match='543-333-0101'>"
      ]
     },
     "execution_count": 27,
     "metadata": {},
     "output_type": "execute_result"
    }
   ],
   "source": [
    "pattern = r\"\\d\\d\\d-\\d\\d\\d-\\d\\d\\d\\d\"\n",
    "text = \"My phone number is 543-333-0101\"\n",
    "re.search(pattern,text)"
   ]
  },
  {
   "cell_type": "code",
   "execution_count": 29,
   "id": "a0ffa8e1-c8be-4797-8958-d299446b0af8",
   "metadata": {},
   "outputs": [],
   "source": [
    "#this now works perfectly, but what if tomorrow there are 100 numbers to be matched, do we need to add \\d 100 times"
   ]
  },
  {
   "cell_type": "code",
   "execution_count": 31,
   "id": "ff63a53d-f5cf-4754-bd8a-08e51a205ead",
   "metadata": {},
   "outputs": [],
   "source": [
    "#how to make it easy in such cases, we will now need quantifiers to say how much of these patterns should be applied"
   ]
  },
  {
   "cell_type": "code",
   "execution_count": 34,
   "id": "5cce652f-d537-448b-b353-c54cdf258cc1",
   "metadata": {},
   "outputs": [],
   "source": [
    "#Now that we know the special character designations, we can use them along with quantifiers to define how many we expect."
   ]
  },
  {
   "cell_type": "code",
   "execution_count": 36,
   "id": "1f338026-2f5d-4e94-8dc6-47a2e722db71",
   "metadata": {},
   "outputs": [],
   "source": [
    "#  Character\tDescription\t                Example Pattern Code\tExammple Match\n",
    "#\n",
    "#  +\t        Occurs one or more times\tVersion \\w-\\w+\t        Version A-b1_1\n",
    "#  {3}\t        Occurs exactly 3 times\t    \\D{3}\t                abc\n",
    "#  {2,4}\t    Occurs 2 to 4 times\t        \\d{2,4}\t                123\n",
    "#  {3,}\t        Occurs 3 or more\t        \\w{3,}\t                anycharacters\n",
    "#  \\*\t        Occurs zero or more times\tA\\*B\\*C*\t            AAACC\n",
    "#  ?\t        Once or none\t            plurals?\t            plural\n"
   ]
  },
  {
   "cell_type": "code",
   "execution_count": 38,
   "id": "8e2f9d14-db27-4f80-93f4-98fdcad1788b",
   "metadata": {},
   "outputs": [
    {
     "data": {
      "text/plain": [
       "<re.Match object; span=(19, 31), match='543-333-0101'>"
      ]
     },
     "execution_count": 38,
     "metadata": {},
     "output_type": "execute_result"
    }
   ],
   "source": [
    "#Let's rewrite our pattern using these quantifiers:\n",
    "pattern = r\"\\d{3}-\\d{3}-\\d{4}\"\n",
    "text = \"My phone number is 543-333-0101\"\n",
    "re.search(pattern,text)"
   ]
  },
  {
   "cell_type": "code",
   "execution_count": 40,
   "id": "b831b466-6961-4b99-ad84-b1d21e6c1a51",
   "metadata": {},
   "outputs": [
    {
     "data": {
      "text/plain": [
       "<re.Match object; span=(19, 31), match='543-333-7777'>"
      ]
     },
     "execution_count": 40,
     "metadata": {},
     "output_type": "execute_result"
    }
   ],
   "source": [
    "pattern = r\"\\d{3}-\\d{3}-\\d{4}\"\n",
    "text = \"My phone number is 543-333-7777\"\n",
    "re.search(pattern,text)"
   ]
  },
  {
   "cell_type": "code",
   "execution_count": 42,
   "id": "7d320841-1286-4e9f-9aba-fefc79497a19",
   "metadata": {},
   "outputs": [
    {
     "data": {
      "text/plain": [
       "<re.Match object; span=(19, 31), match='543-333-2321'>"
      ]
     },
     "execution_count": 42,
     "metadata": {},
     "output_type": "execute_result"
    }
   ],
   "source": [
    "pattern = r\"\\d{3}-\\d{3}-\\d{4}\"\n",
    "text = \"My phone number is 543-333-2321\"\n",
    "re.search(pattern,text)"
   ]
  },
  {
   "cell_type": "code",
   "execution_count": 44,
   "id": "180fde30-297c-48b1-9688-407f04b161f4",
   "metadata": {},
   "outputs": [],
   "source": [
    "#What if we wanted to do two tasks, find phone numbers, but also be able to quickly extract their area code (the first three digits). \n",
    "#We can use groups for any general task that involves grouping together regular expressions (so that we can later break them down).\n",
    "\n",
    "#Using the phone number example, we can separate groups of regular expressions using parenthesis:\n"
   ]
  },
  {
   "cell_type": "code",
   "execution_count": 64,
   "id": "f13844c7-7f22-4a95-a764-f4ea1d4af5c6",
   "metadata": {},
   "outputs": [],
   "source": [
    "phone_pattern = re.compile(r'(\\d{3})-(\\d{3})-(\\d{4})') #compiles different regex into groups"
   ]
  },
  {
   "cell_type": "code",
   "execution_count": 66,
   "id": "71d028cd-95e2-4d0f-948c-be18c8955403",
   "metadata": {},
   "outputs": [
    {
     "data": {
      "text/plain": [
       "re.compile(r'(\\d{3})-(\\d{3})-(\\d{4})', re.UNICODE)"
      ]
     },
     "execution_count": 66,
     "metadata": {},
     "output_type": "execute_result"
    }
   ],
   "source": [
    "phone_pattern"
   ]
  },
  {
   "cell_type": "code",
   "execution_count": 68,
   "id": "70d541cd-e360-4f53-a857-2f930683b39e",
   "metadata": {},
   "outputs": [],
   "source": [
    "results = re.search(phone_pattern,text)"
   ]
  },
  {
   "cell_type": "code",
   "execution_count": 70,
   "id": "2efa151f-8317-4f69-b4d2-dd968f4d8e45",
   "metadata": {},
   "outputs": [
    {
     "data": {
      "text/plain": [
       "'543-333-2321'"
      ]
     },
     "execution_count": 70,
     "metadata": {},
     "output_type": "execute_result"
    }
   ],
   "source": [
    "results.group()"
   ]
  },
  {
   "cell_type": "code",
   "execution_count": 72,
   "id": "972b0941-120b-4de7-884a-20ec9e3e358a",
   "metadata": {},
   "outputs": [
    {
     "data": {
      "text/plain": [
       "'543'"
      ]
     },
     "execution_count": 72,
     "metadata": {},
     "output_type": "execute_result"
    }
   ],
   "source": [
    "results.group(1) #area code of phone number"
   ]
  },
  {
   "cell_type": "code",
   "execution_count": 74,
   "id": "dd7e2046-e8f1-4045-a9bc-203f9bf1fd80",
   "metadata": {},
   "outputs": [
    {
     "data": {
      "text/plain": [
       "'333'"
      ]
     },
     "execution_count": 74,
     "metadata": {},
     "output_type": "execute_result"
    }
   ],
   "source": [
    "results.group(2)"
   ]
  },
  {
   "cell_type": "code",
   "execution_count": 76,
   "id": "91d87ab7-bd19-4bd8-8faa-752679de2214",
   "metadata": {},
   "outputs": [
    {
     "data": {
      "text/plain": [
       "'2321'"
      ]
     },
     "execution_count": 76,
     "metadata": {},
     "output_type": "execute_result"
    }
   ],
   "source": [
    "results.group(3)"
   ]
  },
  {
   "cell_type": "code",
   "execution_count": 78,
   "id": "d9ea55f4-417c-42d2-bfb1-d5c39acac725",
   "metadata": {},
   "outputs": [
    {
     "ename": "IndexError",
     "evalue": "no such group",
     "output_type": "error",
     "traceback": [
      "\u001b[0;31m---------------------------------------------------------------------------\u001b[0m",
      "\u001b[0;31mIndexError\u001b[0m                                Traceback (most recent call last)",
      "Cell \u001b[0;32mIn[78], line 1\u001b[0m\n\u001b[0;32m----> 1\u001b[0m results\u001b[38;5;241m.\u001b[39mgroup(\u001b[38;5;241m4\u001b[39m)\n",
      "\u001b[0;31mIndexError\u001b[0m: no such group"
     ]
    }
   ],
   "source": [
    "results.group(4)"
   ]
  },
  {
   "cell_type": "code",
   "execution_count": null,
   "id": "5567c5d0-4cd6-4eff-a5d9-110e68a00afe",
   "metadata": {},
   "outputs": [],
   "source": []
  }
 ],
 "metadata": {
  "kernelspec": {
   "display_name": "Python 3 (ipykernel)",
   "language": "python",
   "name": "python3"
  },
  "language_info": {
   "codemirror_mode": {
    "name": "ipython",
    "version": 3
   },
   "file_extension": ".py",
   "mimetype": "text/x-python",
   "name": "python",
   "nbconvert_exporter": "python",
   "pygments_lexer": "ipython3",
   "version": "3.12.7"
  }
 },
 "nbformat": 4,
 "nbformat_minor": 5
}
