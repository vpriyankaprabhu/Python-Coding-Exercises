{
 "cells": [
  {
   "cell_type": "code",
   "execution_count": 1,
   "id": "643a7479-b949-4292-8a07-a9a926f0c60b",
   "metadata": {},
   "outputs": [],
   "source": [
    "#Opening and Reading File and Folders "
   ]
  },
  {
   "cell_type": "code",
   "execution_count": 3,
   "id": "e19e5c97-26d4-4fcd-8705-24438ba65f29",
   "metadata": {},
   "outputs": [],
   "source": [
    "#Python's os module and shutil allows user to easily navigate between folders files and directories on computer\n",
    "#and perform action on them such as moving and deleting the files in folders"
   ]
  },
  {
   "cell_type": "code",
   "execution_count": 5,
   "id": "b8fca201-087c-42d7-a37a-1a6609f09859",
   "metadata": {},
   "outputs": [
    {
     "data": {
      "text/plain": [
       "'/Users/priprabh/Downloads/Priyanka/Learnings & Training/Python/Udemy Python/Python-Coding-Exercises/Python-Coding-Exercises/12-Advanced-Python-Modules'"
      ]
     },
     "execution_count": 5,
     "metadata": {},
     "output_type": "execute_result"
    }
   ],
   "source": [
    "pwd"
   ]
  },
  {
   "cell_type": "code",
   "execution_count": 11,
   "id": "593b48a3-b48c-4def-839e-2a8f82df9f8e",
   "metadata": {},
   "outputs": [],
   "source": [
    "f = open(\"practice.txt\" , \"w+\")\n",
    "f.write(\"This is sample file created!\")\n",
    "f.close()"
   ]
  },
  {
   "cell_type": "code",
   "execution_count": 7,
   "id": "9b434fea-9d3d-48be-bb34-a8ec36e2e6f8",
   "metadata": {},
   "outputs": [],
   "source": [
    "import os"
   ]
  },
  {
   "cell_type": "code",
   "execution_count": 15,
   "id": "3984f580-8241-4253-aa38-2f2084972c5a",
   "metadata": {},
   "outputs": [
    {
     "data": {
      "text/plain": [
       "'/Users/priprabh/Downloads/Priyanka/Learnings & Training/Python/Udemy Python/Python-Coding-Exercises/Python-Coding-Exercises/12-Advanced-Python-Modules'"
      ]
     },
     "execution_count": 15,
     "metadata": {},
     "output_type": "execute_result"
    }
   ],
   "source": [
    "os.getcwd() #get current working directory"
   ]
  },
  {
   "cell_type": "code",
   "execution_count": 23,
   "id": "9584a37a-9e16-4931-a9d2-494c887749a4",
   "metadata": {},
   "outputs": [
    {
     "data": {
      "text/plain": [
       "['practice.txt',\n",
       " '00-Collections-Module.ipynb',\n",
       " '01-Opening-and-Reading-Files-Folders.ipynb',\n",
       " '.ipynb_checkpoints']"
      ]
     },
     "execution_count": 23,
     "metadata": {},
     "output_type": "execute_result"
    }
   ],
   "source": [
    "os.listdir()"
   ]
  },
  {
   "cell_type": "code",
   "execution_count": 21,
   "id": "35bc5140-101e-43e1-823e-df1b68353e1e",
   "metadata": {},
   "outputs": [
    {
     "data": {
      "text/plain": [
       "['04-Milestone Project-1',\n",
       " 'MyFirstNoteBook.ipynb',\n",
       " '07-Errors and Exception handling',\n",
       " '.DS_Store',\n",
       " '11-Python-Generators',\n",
       " '06-Modules and Packages',\n",
       " '09-Empty-Section-Skip',\n",
       " '03-Python Methods and Functions',\n",
       " '.history',\n",
       " 'README.md',\n",
       " '14-Working-with-Images',\n",
       " '01-Python DataTypes and Operator Basics',\n",
       " '02-Python Comparison Operators',\n",
       " '.ipynb_checkpoints',\n",
       " '.git',\n",
       " 'compare.py',\n",
       " '08-Milestone Project-2',\n",
       " \"15-PDF's-Spreadsheets\",\n",
       " '10-Python-Decorators',\n",
       " '05-OOPS',\n",
       " '13-Web-Scraping',\n",
       " '02-Python-Statements',\n",
       " '12-Advanced-Python-Modules']"
      ]
     },
     "execution_count": 21,
     "metadata": {},
     "output_type": "execute_result"
    }
   ],
   "source": [
    "os.listdir(\"/Users/priprabh/Downloads/Priyanka/Learnings & Training/Python/Udemy Python/Python-Coding-Exercises/Python-Coding-Exercises/\") #lists directories in cwd"
   ]
  },
  {
   "cell_type": "code",
   "execution_count": 25,
   "id": "9fbadca1-4f16-4b27-892f-7892cf6d94fe",
   "metadata": {},
   "outputs": [],
   "source": [
    "#move files"
   ]
  },
  {
   "cell_type": "code",
   "execution_count": 31,
   "id": "2996f7e3-2189-44ed-a1ac-7675c8845b89",
   "metadata": {},
   "outputs": [
    {
     "data": {
      "text/plain": [
       "'/Users/priprabh/Downloads/Priyanka/Learnings & Training/Python/Udemy Python/practice.txt'"
      ]
     },
     "execution_count": 31,
     "metadata": {},
     "output_type": "execute_result"
    }
   ],
   "source": [
    "import shutil\n",
    "shutil.move(\"practice.txt\", \"/Users/priprabh/Downloads/Priyanka/Learnings & Training/Python/Udemy Python/\")"
   ]
  },
  {
   "cell_type": "code",
   "execution_count": 33,
   "id": "450ed8c0-cc6d-41e7-8678-31e167b6529e",
   "metadata": {},
   "outputs": [
    {
     "data": {
      "text/plain": [
       "['00-Collections-Module.ipynb',\n",
       " '01-Opening-and-Reading-Files-Folders.ipynb',\n",
       " '.ipynb_checkpoints']"
      ]
     },
     "execution_count": 33,
     "metadata": {},
     "output_type": "execute_result"
    }
   ],
   "source": [
    "os.listdir()"
   ]
  },
  {
   "cell_type": "code",
   "execution_count": 41,
   "id": "7461a1af-cead-472f-934b-2ccd13ecb3d3",
   "metadata": {},
   "outputs": [
    {
     "data": {
      "text/plain": [
       "'/Users/priprabh/Downloads/Priyanka/Learnings & Training/Python/Udemy Python/Python-Coding-Exercises/Python-Coding-Exercises/12-Advanced-Python-Modules/practice.txt'"
      ]
     },
     "execution_count": 41,
     "metadata": {},
     "output_type": "execute_result"
    }
   ],
   "source": [
    "shutil.move(\"/Users/priprabh/Downloads/Priyanka/Learnings & Training/Python/Udemy Python/practice.txt\", os.getcwd())"
   ]
  },
  {
   "cell_type": "code",
   "execution_count": 43,
   "id": "49ccaa25-53bd-48ae-807e-5dcfe9038d50",
   "metadata": {},
   "outputs": [
    {
     "data": {
      "text/plain": [
       "['practice.txt',\n",
       " '00-Collections-Module.ipynb',\n",
       " '01-Opening-and-Reading-Files-Folders.ipynb',\n",
       " '.ipynb_checkpoints']"
      ]
     },
     "execution_count": 43,
     "metadata": {},
     "output_type": "execute_result"
    }
   ],
   "source": [
    "os.listdir()"
   ]
  },
  {
   "cell_type": "code",
   "execution_count": 45,
   "id": "7a5bd94f-ec3f-4742-a2a1-ec573d496f74",
   "metadata": {},
   "outputs": [
    {
     "data": {
      "text/plain": [
       "['Python-Coding-Exercises', '.DS_Store', '.ipynb_checkpoints']"
      ]
     },
     "execution_count": 45,
     "metadata": {},
     "output_type": "execute_result"
    }
   ],
   "source": [
    "os.listdir(\"/Users/priprabh/Downloads/Priyanka/Learnings & Training/Python/Udemy Python\") #lists directories in cwd"
   ]
  },
  {
   "cell_type": "code",
   "execution_count": 47,
   "id": "f65181bf-28f8-41a8-88be-2037c3c9db8c",
   "metadata": {},
   "outputs": [],
   "source": [
    "#Deleting Files\n",
    "#NOTE: The os module provides 3 methods for deleting files:\n",
    "\n",
    "#os.unlink(path) which deletes a file at the path your provide\n",
    "#os.rmdir(path) which deletes a folder (folder must be empty) at the path your provide\n",
    "#shutil.rmtree(path) this is the most dangerous, as it will remove all files and folders contained in the path. \n",
    "#All of these methods can not be reversed! Which means if you make a mistake you won't be able to recover the file. \n",
    "#Instead we will use the send2trash module. A safer alternative that sends deleted files to the trash bin instead of permanent removal.\n",
    "\n",
    "#Install the send2trash module with:\n",
    "\n",
    "#pip install send2trash\n",
    "\n",
    "\n",
    "#(base) priprabh@priprabh-mac Python-Coding-Exercises % pip install send2trash\n",
    "#Requirement already satisfied: send2trash in /opt/anaconda3/lib/python3.12/site-packages (1.8.2)\n",
    "#(base) priprabh@priprabh-mac Python-Coding-Exercises % \n",
    "\n",
    "import send2trash"
   ]
  },
  {
   "cell_type": "code",
   "execution_count": 49,
   "id": "c6f3070f-f439-4f66-830a-878cb37c47bf",
   "metadata": {},
   "outputs": [
    {
     "data": {
      "text/plain": [
       "['practice.txt',\n",
       " '00-Collections-Module.ipynb',\n",
       " '01-Opening-and-Reading-Files-Folders.ipynb',\n",
       " '.ipynb_checkpoints']"
      ]
     },
     "execution_count": 49,
     "metadata": {},
     "output_type": "execute_result"
    }
   ],
   "source": [
    "os.listdir()"
   ]
  },
  {
   "cell_type": "code",
   "execution_count": 51,
   "id": "44579c84-9faa-4bb4-a2df-4872abd8b8ca",
   "metadata": {},
   "outputs": [],
   "source": [
    "send2trash.send2trash(\"practice.txt\")"
   ]
  },
  {
   "cell_type": "code",
   "execution_count": 53,
   "id": "08b05572-f8c8-4050-95e8-4a911127d8dc",
   "metadata": {},
   "outputs": [],
   "source": [
    "#practice.txt is now in trash bin"
   ]
  },
  {
   "cell_type": "code",
   "execution_count": 55,
   "id": "ca8ad5a6-d70b-4407-878e-dc07d5bc5a5f",
   "metadata": {},
   "outputs": [
    {
     "data": {
      "text/plain": [
       "'/Users/priprabh/Downloads/Priyanka/Learnings & Training/Python/Udemy Python/Python-Coding-Exercises/Python-Coding-Exercises/12-Advanced-Python-Modules'"
      ]
     },
     "execution_count": 55,
     "metadata": {},
     "output_type": "execute_result"
    }
   ],
   "source": [
    "#Walking through a directory\n",
    "#Often you will just need to \"walk\" through a directory, that is visit every file or folder and check to see if a file is in the directory, \n",
    "#and then perhaps do something with that file. Usually recursively walking through every file and folder in a directory \n",
    "#would be quite tricky to program, but luckily the os module has a direct method call for this called os.walk(). Let's explore how it works.\n",
    "\n",
    "\n",
    "os.getcwd()"
   ]
  },
  {
   "cell_type": "code",
   "execution_count": 57,
   "id": "f23a5ec8-2026-4685-8dcc-0658cb4203be",
   "metadata": {},
   "outputs": [
    {
     "data": {
      "text/plain": [
       "['.DS_Store',\n",
       " 'practice.txt',\n",
       " '00-Collections-Module.ipynb',\n",
       " '01-Opening-and-Reading-Files-Folders.ipynb',\n",
       " '.ipynb_checkpoints']"
      ]
     },
     "execution_count": 57,
     "metadata": {},
     "output_type": "execute_result"
    }
   ],
   "source": [
    "os.listdir()"
   ]
  },
  {
   "cell_type": "code",
   "execution_count": 59,
   "id": "42c0abd4-15f2-4aa1-bd12-f445727857fd",
   "metadata": {},
   "outputs": [],
   "source": [
    "#Lets create some sample folders, subfolders and files for directory files and folders traversal"
   ]
  },
  {
   "cell_type": "code",
   "execution_count": 61,
   "id": "61a4113f-a1f4-41d5-a582-61cfd767c0f4",
   "metadata": {},
   "outputs": [
    {
     "ename": "TypeError",
     "evalue": "walk() missing 1 required positional argument: 'top'",
     "output_type": "error",
     "traceback": [
      "\u001b[0;31m---------------------------------------------------------------------------\u001b[0m",
      "\u001b[0;31mTypeError\u001b[0m                                 Traceback (most recent call last)",
      "Cell \u001b[0;32mIn[61], line 1\u001b[0m\n\u001b[0;32m----> 1\u001b[0m os\u001b[38;5;241m.\u001b[39mwalk()\n",
      "\u001b[0;31mTypeError\u001b[0m: walk() missing 1 required positional argument: 'top'"
     ]
    }
   ],
   "source": [
    "os.walk()"
   ]
  },
  {
   "cell_type": "code",
   "execution_count": 65,
   "id": "f9d3a02e-f3b2-4f4d-aa3e-d3ac92812c62",
   "metadata": {},
   "outputs": [
    {
     "name": "stdout",
     "output_type": "stream",
     "text": [
      "Folders/Directories at Top Level : /Users/priprabh/Downloads/Priyanka/Learnings & Training/Python/Udemy Python/Python-Coding-Exercises/Python-Coding-Exercises/12-Advanced-Python-Modules/Example_os_walk\n",
      "\n",
      "\n",
      "\tThe sub_folders are :\n",
      "\tSubFolder3\n",
      "\tSubFolder2\n",
      "\tSubFolder1\n",
      "\n",
      "\n",
      "\tThe files are:\n",
      "\t6.txt\n",
      "\t7.txt\n",
      "\n",
      "\n",
      "Folders/Directories at Top Level : /Users/priprabh/Downloads/Priyanka/Learnings & Training/Python/Udemy Python/Python-Coding-Exercises/Python-Coding-Exercises/12-Advanced-Python-Modules/Example_os_walk/SubFolder3\n",
      "\n",
      "\n",
      "\tThe sub_folders are :\n",
      "\n",
      "\n",
      "\tThe files are:\n",
      "\t5.txt\n",
      "\t4.txt\n",
      "\n",
      "\n",
      "Folders/Directories at Top Level : /Users/priprabh/Downloads/Priyanka/Learnings & Training/Python/Udemy Python/Python-Coding-Exercises/Python-Coding-Exercises/12-Advanced-Python-Modules/Example_os_walk/SubFolder2\n",
      "\n",
      "\n",
      "\tThe sub_folders are :\n",
      "\tLevel2Folder3\n",
      "\n",
      "\n",
      "\tThe files are:\n",
      "\n",
      "\n",
      "Folders/Directories at Top Level : /Users/priprabh/Downloads/Priyanka/Learnings & Training/Python/Udemy Python/Python-Coding-Exercises/Python-Coding-Exercises/12-Advanced-Python-Modules/Example_os_walk/SubFolder2/Level2Folder3\n",
      "\n",
      "\n",
      "\tThe sub_folders are :\n",
      "\tLevel3Folder1\n",
      "\n",
      "\n",
      "\tThe files are:\n",
      "\n",
      "\n",
      "Folders/Directories at Top Level : /Users/priprabh/Downloads/Priyanka/Learnings & Training/Python/Udemy Python/Python-Coding-Exercises/Python-Coding-Exercises/12-Advanced-Python-Modules/Example_os_walk/SubFolder2/Level2Folder3/Level3Folder1\n",
      "\n",
      "\n",
      "\tThe sub_folders are :\n",
      "\tLevel4Folder1\n",
      "\n",
      "\n",
      "\tThe files are:\n",
      "\t3.txt\n",
      "\t2.txt\n",
      "\n",
      "\n",
      "Folders/Directories at Top Level : /Users/priprabh/Downloads/Priyanka/Learnings & Training/Python/Udemy Python/Python-Coding-Exercises/Python-Coding-Exercises/12-Advanced-Python-Modules/Example_os_walk/SubFolder2/Level2Folder3/Level3Folder1/Level4Folder1\n",
      "\n",
      "\n",
      "\tThe sub_folders are :\n",
      "\n",
      "\n",
      "\tThe files are:\n",
      "\n",
      "\n",
      "Folders/Directories at Top Level : /Users/priprabh/Downloads/Priyanka/Learnings & Training/Python/Udemy Python/Python-Coding-Exercises/Python-Coding-Exercises/12-Advanced-Python-Modules/Example_os_walk/SubFolder1\n",
      "\n",
      "\n",
      "\tThe sub_folders are :\n",
      "\tLevel2Folder2\n",
      "\tLevel2Folder1\n",
      "\n",
      "\n",
      "\tThe files are:\n",
      "\n",
      "\n",
      "Folders/Directories at Top Level : /Users/priprabh/Downloads/Priyanka/Learnings & Training/Python/Udemy Python/Python-Coding-Exercises/Python-Coding-Exercises/12-Advanced-Python-Modules/Example_os_walk/SubFolder1/Level2Folder2\n",
      "\n",
      "\n",
      "\tThe sub_folders are :\n",
      "\n",
      "\n",
      "\tThe files are:\n",
      "\n",
      "\n",
      "Folders/Directories at Top Level : /Users/priprabh/Downloads/Priyanka/Learnings & Training/Python/Udemy Python/Python-Coding-Exercises/Python-Coding-Exercises/12-Advanced-Python-Modules/Example_os_walk/SubFolder1/Level2Folder1\n",
      "\n",
      "\n",
      "\tThe sub_folders are :\n",
      "\tLevel3Folder\n",
      "\n",
      "\n",
      "\tThe files are:\n",
      "\n",
      "\n",
      "Folders/Directories at Top Level : /Users/priprabh/Downloads/Priyanka/Learnings & Training/Python/Udemy Python/Python-Coding-Exercises/Python-Coding-Exercises/12-Advanced-Python-Modules/Example_os_walk/SubFolder1/Level2Folder1/Level3Folder\n",
      "\n",
      "\n",
      "\tThe sub_folders are :\n",
      "\n",
      "\n",
      "\tThe files are:\n",
      "\t1.txt\n",
      "\n",
      "\n"
     ]
    }
   ],
   "source": [
    "#Signature: os.walk(top, topdown=True, onerror=None, followlinks=False)\n",
    "#Docstring:\n",
    "#Directory tree generator.\n",
    "\n",
    "#For each directory in the directory tree rooted at top (including top\n",
    "#itself, but excluding '.' and '..'), yields a 3-tuple\n",
    "\n",
    "    #dirpath, dirnames, filenames\n",
    "\n",
    "#dirpath is a string, the path to the directory.  dirnames is a list of\n",
    "#the names of the subdirectories in dirpath (including symlinks to directories,\n",
    "#and excluding '.' and '..').\n",
    "#filenames is a list of the names of the non-directory files in dirpath.\n",
    "#Note that the names in the lists are just names, with no path components.\n",
    "#To get a full path (which begins with top) to a file or directory in\n",
    "#dirpath, do os.path.join(dirpath, name).\n",
    "\n",
    "for folders, sub_folders, files in os.walk(os.getcwd() + \"/Example_os_walk\"):\n",
    "    print(f\"Folders/Directories at Top Level : {folders}\")\n",
    "    print(\"\\n\")\n",
    "    print(f\"\\tThe sub_folders are :\")\n",
    "    for sub_folder in sub_folders:\n",
    "        print(f\"\\t{sub_folder}\")\n",
    "    print(\"\\n\")\n",
    "    print(\"\\tThe files are:\")\n",
    "    for file in files:\n",
    "        print(f\"\\t{file}\")\n",
    "    print(\"\\n\")"
   ]
  },
  {
   "cell_type": "code",
   "execution_count": null,
   "id": "c664d49a-9447-40da-af36-21b1602acfa7",
   "metadata": {},
   "outputs": [],
   "source": []
  }
 ],
 "metadata": {
  "kernelspec": {
   "display_name": "Python 3 (ipykernel)",
   "language": "python",
   "name": "python3"
  },
  "language_info": {
   "codemirror_mode": {
    "name": "ipython",
    "version": 3
   },
   "file_extension": ".py",
   "mimetype": "text/x-python",
   "name": "python",
   "nbconvert_exporter": "python",
   "pygments_lexer": "ipython3",
   "version": "3.12.7"
  }
 },
 "nbformat": 4,
 "nbformat_minor": 5
}
