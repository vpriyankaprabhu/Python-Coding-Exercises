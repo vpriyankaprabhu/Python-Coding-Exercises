{
 "cells": [
  {
   "cell_type": "code",
   "execution_count": 9,
   "id": "145dce39-3df6-40e1-9361-d086c2981fa9",
   "metadata": {},
   "outputs": [],
   "source": [
    "#datetime module\n",
    "#Python has the datetime module to help deal with timestamps in your code. \n",
    "#Time values are represented with the time class. Times have attributes for hour, minute, second, and microsecond. \n",
    "#They can also include time zone information.\n",
    "\n",
    "import datetime\n",
    "\n",
    "#time\n",
    "#Let's take a look at how we can extract time information from the datetime module. \n",
    "#We can create a timestamp by specifying datetime.time(hour,minute,second,microsecond)\n",
    "\n",
    "t = datetime.time(4,20,5)"
   ]
  },
  {
   "cell_type": "code",
   "execution_count": 11,
   "id": "43095557-ebbd-424a-8314-5945dd940e13",
   "metadata": {},
   "outputs": [
    {
     "name": "stdout",
     "output_type": "stream",
     "text": [
      "04:20:05\n"
     ]
    }
   ],
   "source": [
    "print(t)"
   ]
  },
  {
   "cell_type": "code",
   "execution_count": 17,
   "id": "28f3b759-f453-4e63-9cff-29a9bc3737af",
   "metadata": {},
   "outputs": [
    {
     "name": "stdout",
     "output_type": "stream",
     "text": [
      "Hour : 4\n",
      "Minute : 20\n",
      "Second : 5\n",
      "Microsecond : 0\n",
      "tzinfo : None\n"
     ]
    }
   ],
   "source": [
    "print(f\"Hour : {t.hour}\")\n",
    "print(f\"Minute : {t.minute}\")\n",
    "print(f\"Second : {t.second}\")\n",
    "print(f\"Microsecond : {t.microsecond}\")\n",
    "print(f\"tzinfo : {t.tzinfo}\")\n"
   ]
  },
  {
   "cell_type": "code",
   "execution_count": 19,
   "id": "aae11c9b-e3de-493f-b6e4-75b4465e425b",
   "metadata": {},
   "outputs": [],
   "source": [
    "#Note: A time instance only holds values of time, and not a date associated with the time."
   ]
  },
  {
   "cell_type": "code",
   "execution_count": 31,
   "id": "dc534188-9e59-438f-a18a-1bd1cdab3a77",
   "metadata": {},
   "outputs": [
    {
     "name": "stdout",
     "output_type": "stream",
     "text": [
      "Min Time of day : 00:00:00\n",
      "Max Time of day : 23:59:59.999999\n",
      "Time resolution : 0:00:00.000001\n"
     ]
    }
   ],
   "source": [
    "#We can also check the min and max values a time of day can have in the module:\n",
    "#The min and max class attributes reflect the valid range of times in a single day.\n",
    "\n",
    "print(f\"Min Time of day : {t.min}\")\n",
    "print(f\"Max Time of day : {t.max}\")\n",
    "print(f\"Time resolution : {t.resolution}\") #Difference between two datetime values."
   ]
  },
  {
   "cell_type": "code",
   "execution_count": null,
   "id": "2d1e1f46-fcf2-47d6-abd3-d6310b7f31da",
   "metadata": {},
   "outputs": [],
   "source": []
  }
 ],
 "metadata": {
  "kernelspec": {
   "display_name": "Python 3 (ipykernel)",
   "language": "python",
   "name": "python3"
  },
  "language_info": {
   "codemirror_mode": {
    "name": "ipython",
    "version": 3
   },
   "file_extension": ".py",
   "mimetype": "text/x-python",
   "name": "python",
   "nbconvert_exporter": "python",
   "pygments_lexer": "ipython3",
   "version": "3.12.7"
  }
 },
 "nbformat": 4,
 "nbformat_minor": 5
}
