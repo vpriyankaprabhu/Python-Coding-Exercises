{
 "cells": [
  {
   "cell_type": "code",
   "execution_count": 5,
   "id": "7ea846d7-7c9b-40e9-aa0d-a3c2e778980d",
   "metadata": {},
   "outputs": [],
   "source": [
    "import zipfile"
   ]
  },
  {
   "cell_type": "code",
   "execution_count": 3,
   "id": "fc09db7d-66f0-4e69-ba98-687250528ef4",
   "metadata": {},
   "outputs": [],
   "source": [
    "import os"
   ]
  },
  {
   "cell_type": "code",
   "execution_count": 7,
   "id": "1ae1e396-4ecd-4b33-9227-ef9a2d308a18",
   "metadata": {},
   "outputs": [
    {
     "data": {
      "text/plain": [
       "'/Users/priprabh/Downloads/Priyanka/Learnings & Training/Python/Udemy Python/Python-Coding-Exercises/Python-Coding-Exercises/12-Advanced-Python-Modules'"
      ]
     },
     "execution_count": 7,
     "metadata": {},
     "output_type": "execute_result"
    }
   ],
   "source": [
    "os.getcwd()"
   ]
  },
  {
   "cell_type": "code",
   "execution_count": 9,
   "id": "2fc2b88a-68b0-47c9-8d5d-eb528048ed9c",
   "metadata": {},
   "outputs": [],
   "source": [
    "main_root = '/Users/priprabh/Downloads/Priyanka/Learnings & Training/Python/Udemy Python/Python-Coding-Exercises/Python-Coding-Exercises/12-Advanced-Python-Modules/Extracted Content/extracted_content'"
   ]
  },
  {
   "cell_type": "code",
   "execution_count": 13,
   "id": "1288ac5a-acc4-406a-a4ca-24d3a9511e74",
   "metadata": {},
   "outputs": [],
   "source": [
    "os.chdir(main_root)"
   ]
  },
  {
   "cell_type": "code",
   "execution_count": 15,
   "id": "33288942-53e3-4137-aede-2636fc048c48",
   "metadata": {},
   "outputs": [
    {
     "data": {
      "text/plain": [
       "'/Users/priprabh/Downloads/Priyanka/Learnings & Training/Python/Udemy Python/Python-Coding-Exercises/Python-Coding-Exercises/12-Advanced-Python-Modules/Extracted Content/extracted_content'"
      ]
     },
     "execution_count": 15,
     "metadata": {},
     "output_type": "execute_result"
    }
   ],
   "source": [
    "os.getcwd()"
   ]
  },
  {
   "cell_type": "code",
   "execution_count": 17,
   "id": "300117ce-cbae-4f34-bd40-6508226250d7",
   "metadata": {},
   "outputs": [
    {
     "data": {
      "text/plain": [
       "['Instructions.txt',\n",
       " 'Three',\n",
       " 'One',\n",
       " 'Two',\n",
       " '.ipynb_checkpoints',\n",
       " 'Five',\n",
       " 'Four']"
      ]
     },
     "execution_count": 17,
     "metadata": {},
     "output_type": "execute_result"
    }
   ],
   "source": [
    "os.listdir()"
   ]
  },
  {
   "cell_type": "code",
   "execution_count": 13,
   "id": "6d7b3754-68d3-4db2-86ec-14cb010ae934",
   "metadata": {},
   "outputs": [],
   "source": [
    "zip_object = zipfile.ZipFile(\"unzip_me_for_instructions.zip\", 'r')\n",
    "zip_object.extractall(\"Extracted Content\")"
   ]
  },
  {
   "cell_type": "code",
   "execution_count": 249,
   "id": "c270b9ca-e01a-41bd-9aa8-f8d3e5aac258",
   "metadata": {},
   "outputs": [
    {
     "data": {
      "text/plain": [
       "['Instructions.txt',\n",
       " 'Three',\n",
       " 'One',\n",
       " 'Two',\n",
       " '.ipynb_checkpoints',\n",
       " 'Five',\n",
       " 'Four']"
      ]
     },
     "execution_count": 249,
     "metadata": {},
     "output_type": "execute_result"
    }
   ],
   "source": [
    "os.listdir()"
   ]
  },
  {
   "cell_type": "code",
   "execution_count": 251,
   "id": "6033457a-893f-4550-93f7-9eb7e618c60d",
   "metadata": {},
   "outputs": [
    {
     "ename": "FileNotFoundError",
     "evalue": "[Errno 2] No such file or directory: 'Extracted Content/extracted_content'",
     "output_type": "error",
     "traceback": [
      "\u001b[0;31m---------------------------------------------------------------------------\u001b[0m",
      "\u001b[0;31mFileNotFoundError\u001b[0m                         Traceback (most recent call last)",
      "Cell \u001b[0;32mIn[251], line 1\u001b[0m\n\u001b[0;32m----> 1\u001b[0m os\u001b[38;5;241m.\u001b[39mchdir(\u001b[38;5;124m\"\u001b[39m\u001b[38;5;124mExtracted Content/extracted_content\u001b[39m\u001b[38;5;124m\"\u001b[39m)\n",
      "\u001b[0;31mFileNotFoundError\u001b[0m: [Errno 2] No such file or directory: 'Extracted Content/extracted_content'"
     ]
    }
   ],
   "source": [
    "os.chdir(\"Extracted Content/extracted_content\")"
   ]
  },
  {
   "cell_type": "code",
   "execution_count": 19,
   "id": "0a146786-7d18-4c47-a3b1-c9a4edf9e63e",
   "metadata": {},
   "outputs": [
    {
     "data": {
      "text/plain": [
       "['Instructions.txt',\n",
       " 'Three',\n",
       " 'One',\n",
       " 'Two',\n",
       " '.ipynb_checkpoints',\n",
       " 'Five',\n",
       " 'Four']"
      ]
     },
     "execution_count": 19,
     "metadata": {},
     "output_type": "execute_result"
    }
   ],
   "source": [
    "os.listdir()"
   ]
  },
  {
   "cell_type": "code",
   "execution_count": 21,
   "id": "20f6425d-0eb6-4ca2-afce-2d601baf586e",
   "metadata": {},
   "outputs": [
    {
     "data": {
      "text/plain": [
       "'/Users/priprabh/Downloads/Priyanka/Learnings & Training/Python/Udemy Python/Python-Coding-Exercises/Python-Coding-Exercises/12-Advanced-Python-Modules/Extracted Content/extracted_content'"
      ]
     },
     "execution_count": 21,
     "metadata": {},
     "output_type": "execute_result"
    }
   ],
   "source": [
    "os.getcwd()"
   ]
  },
  {
   "cell_type": "code",
   "execution_count": 41,
   "id": "0f640a85-07df-48ff-b533-2cb685c56fab",
   "metadata": {},
   "outputs": [],
   "source": [
    "subdir_path = '/Users/priprabh/Downloads/Priyanka/Learnings & Training/Python/Udemy Python/Python-Coding-Exercises/Python-Coding-Exercises/12-Advanced-Python-Modules/Extracted Content/extracted_content'\n",
    "gen_obj = [subdirs for root, subdirs, files in os.walk(subdir_path)]"
   ]
  },
  {
   "cell_type": "code",
   "execution_count": 45,
   "id": "f55a4438-91e7-42e7-a9ca-cd3ae3510840",
   "metadata": {},
   "outputs": [
    {
     "data": {
      "text/plain": [
       "True"
      ]
     },
     "execution_count": 45,
     "metadata": {},
     "output_type": "execute_result"
    }
   ],
   "source": [
    "gen_obj[0][3] == \".ipynb_checkpoints\""
   ]
  },
  {
   "cell_type": "code",
   "execution_count": 35,
   "id": "05004843-07f7-46b8-aa33-46f6fa517d62",
   "metadata": {},
   "outputs": [
    {
     "data": {
      "text/plain": [
       "'/Users/priprabh/Downloads/Priyanka/Learnings & Training/Python/Udemy Python/Python-Coding-Exercises/Python-Coding-Exercises/12-Advanced-Python-Modules/Extracted Content/extracted_content'"
      ]
     },
     "execution_count": 35,
     "metadata": {},
     "output_type": "execute_result"
    }
   ],
   "source": [
    "os.getcwd()"
   ]
  },
  {
   "cell_type": "code",
   "execution_count": 129,
   "id": "aea742f0-721d-463b-87ec-664ed056068c",
   "metadata": {},
   "outputs": [
    {
     "name": "stdout",
     "output_type": "stream",
     "text": [
      "file : EMTGPSXQEJX.txt, has match object : <re.Match object; span=(1062, 1074), match='719-266-2837'>\n"
     ]
    }
   ],
   "source": [
    "import re\n",
    "#find pattern for phone number / telephone number formated ###-###-#### \n",
    "def find_pattern(file, pattern = r\"\\d{3}-\\d{3}-\\d{4}\"):\n",
    "    f = open(file, \"r\")\n",
    "    content = f.read()\n",
    "\n",
    "    if re.search(pattern, content):\n",
    "        return re.search(pattern, content)\n",
    "    else:\n",
    "        return ''\n",
    "        \n",
    "subdir_path = '/Users/priprabh/Downloads/Priyanka/Learnings & Training/Python/Udemy Python/Python-Coding-Exercises/Python-Coding-Exercises/12-Advanced-Python-Modules/Extracted Content/extracted_content'\n",
    "\n",
    "results = []\n",
    "for root, dirs, files in os.walk(subdir_path):\n",
    "    for file in files:\n",
    "        try :\n",
    "            if(find_pattern(file) != ''):\n",
    "                results.append(f\"file : {file}, has match object : {find_pattern(file)}\")\n",
    "        except:\n",
    "            pass\n",
    "\n",
    "for r in results:\n",
    "    if r != '':\n",
    "        print(r)"
   ]
  },
  {
   "cell_type": "code",
   "execution_count": 85,
   "id": "601a9bd1-cdfd-49d3-acf2-70f4bae45f68",
   "metadata": {},
   "outputs": [
    {
     "name": "stdout",
     "output_type": "stream",
     "text": [
      "Good work on unzipping the file!\n",
      "You should now see 5 folders, each with a lot of random .txt files.\n",
      "Within one of these text files is a telephone number formated ###-###-#### \n",
      "Use the Python os module and regular expressions to iterate through each file, open it, and search for a telephone number.\n",
      "Good luck!\n"
     ]
    }
   ],
   "source": [
    "with open(f'{main_root}/Instructions.txt') as f:\n",
    "    content = f.read()\n",
    "    print(content)"
   ]
  },
  {
   "cell_type": "code",
   "execution_count": 87,
   "id": "6b51a4db-e908-4a5a-a0e4-897fe2a17cb8",
   "metadata": {},
   "outputs": [],
   "source": [
    "#find pattern for phone number / telephone number formated ###-###-#### \n",
    "def find_pattern(file, pattern = r\"\\d{3}-\\d{3}-\\d{4}\"):\n",
    "    f = open(file, \"r\")\n",
    "    content = f.read()\n",
    "\n",
    "    if re.search(pattern, content):\n",
    "        return re.search(pattern, content)\n",
    "    else:\n",
    "        return ''"
   ]
  },
  {
   "cell_type": "code",
   "execution_count": 89,
   "id": "1801d625-6eeb-4cca-a15b-8dc62bdaaddb",
   "metadata": {},
   "outputs": [
    {
     "data": {
      "text/plain": [
       "'/Users/priprabh/Downloads/Priyanka/Learnings & Training/Python/Udemy Python/Python-Coding-Exercises/Python-Coding-Exercises/12-Advanced-Python-Modules/Extracted Content/extracted_content'"
      ]
     },
     "execution_count": 89,
     "metadata": {},
     "output_type": "execute_result"
    }
   ],
   "source": [
    "main_root"
   ]
  },
  {
   "cell_type": "code",
   "execution_count": 91,
   "id": "f778a335-6745-4f3b-8f0c-eadd54d3be65",
   "metadata": {},
   "outputs": [
    {
     "data": {
      "text/plain": [
       "'/Users/priprabh/Downloads/Priyanka/Learnings & Training/Python/Udemy Python/Python-Coding-Exercises/Python-Coding-Exercises/12-Advanced-Python-Modules/Extracted Content/extracted_content'"
      ]
     },
     "execution_count": 91,
     "metadata": {},
     "output_type": "execute_result"
    }
   ],
   "source": [
    "subdir_path"
   ]
  },
  {
   "cell_type": "code",
   "execution_count": 131,
   "id": "b5a90438-7fa4-4553-a0fb-aadc42cfbec5",
   "metadata": {},
   "outputs": [
    {
     "name": "stdout",
     "output_type": "stream",
     "text": [
      "file : EMTGPSXQEJX.txt, has match object : <re.Match object; span=(1062, 1074), match='719-266-2837'>\n"
     ]
    }
   ],
   "source": [
    "result = []\n",
    "for root, subdir, files in os.walk(main_root):\n",
    "    for file in files:\n",
    "        try :\n",
    "            if(find_pattern(file) != ''):\n",
    "                result.append(f\"file : {file}, has match object : {find_pattern(file)}\")\n",
    "        except:\n",
    "            pass\n",
    "\n",
    "for r in result:\n",
    "    if r != '':\n",
    "        print(r)"
   ]
  },
  {
   "cell_type": "code",
   "execution_count": null,
   "id": "42e4c56e-28d5-4210-802b-746dae00bff7",
   "metadata": {},
   "outputs": [],
   "source": []
  }
 ],
 "metadata": {
  "kernelspec": {
   "display_name": "Python 3 (ipykernel)",
   "language": "python",
   "name": "python3"
  },
  "language_info": {
   "codemirror_mode": {
    "name": "ipython",
    "version": 3
   },
   "file_extension": ".py",
   "mimetype": "text/x-python",
   "name": "python",
   "nbconvert_exporter": "python",
   "pygments_lexer": "ipython3",
   "version": "3.12.7"
  }
 },
 "nbformat": 4,
 "nbformat_minor": 5
}
