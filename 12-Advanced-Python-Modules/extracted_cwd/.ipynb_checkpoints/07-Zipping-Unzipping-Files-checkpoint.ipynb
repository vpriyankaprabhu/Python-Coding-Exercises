{
 "cells": [
  {
   "cell_type": "code",
   "execution_count": 1,
   "id": "7e81d64f-a679-4814-bdc1-d3ac06d46365",
   "metadata": {},
   "outputs": [],
   "source": [
    "#Python can do the same task with just a few simple lines of code for zipping and unzipping of archived files"
   ]
  },
  {
   "cell_type": "code",
   "execution_count": 5,
   "id": "7c440848-a5ee-46e7-a133-18e242b94b85",
   "metadata": {},
   "outputs": [],
   "source": [
    "f = open(\"fileone.txt\", \"w+\")\n",
    "f.write(\"First File\")\n",
    "f.close()"
   ]
  },
  {
   "cell_type": "code",
   "execution_count": 7,
   "id": "f8c19a10-72f4-464e-a390-8e36b57c690d",
   "metadata": {},
   "outputs": [],
   "source": [
    "f = open(\"filetwo.txt\", \"w+\")\n",
    "f.write(\"First File\")\n",
    "f.close()"
   ]
  },
  {
   "cell_type": "code",
   "execution_count": 9,
   "id": "a106059c-bce2-473c-8760-6f0d6c4a2150",
   "metadata": {},
   "outputs": [],
   "source": [
    "f = open(\"filethree.txt\", \"w+\")\n",
    "f.write(\"First File\")\n",
    "f.close()"
   ]
  },
  {
   "cell_type": "code",
   "execution_count": 11,
   "id": "9f3c0648-43f3-4f5a-8399-d29e2d3192c3",
   "metadata": {},
   "outputs": [],
   "source": [
    "#lets compress three files to zip file \n",
    "import zipfile"
   ]
  },
  {
   "cell_type": "code",
   "execution_count": 13,
   "id": "cb9e06b0-b7ef-407d-879c-3a4843904406",
   "metadata": {},
   "outputs": [],
   "source": [
    "comp_file = zipfile.ZipFile(\"comp_file.zip\", 'w')\n",
    "comp_file.write(\"fileone.txt\", compress_type=zipfile.ZIP_DEFLATED)\n",
    "comp_file.write(\"filetwo.txt\", compress_type=zipfile.ZIP_DEFLATED)\n",
    "comp_file.write(\"filethree.txt\", compress_type=zipfile.ZIP_DEFLATED)\n",
    "comp_file.close()"
   ]
  },
  {
   "cell_type": "code",
   "execution_count": 17,
   "id": "d8234489-666f-4163-ab89-baeb6db12ec8",
   "metadata": {},
   "outputs": [],
   "source": [
    "#lets extract this zip file and see if contents are fine?\n",
    "#We can easily extract files with either the extractall() method to get all the files, or \n",
    "#just using the extract() method to only grab individual files.\n",
    "#zip_obj = zipfile.ZipFile.extractall()\n",
    "zip_obj = zipfile.ZipFile(\"comp_file.zip\", \"r\")"
   ]
  },
  {
   "cell_type": "code",
   "execution_count": 21,
   "id": "8809a151-dbc8-4109-a009-f10166f24e64",
   "metadata": {},
   "outputs": [],
   "source": [
    "zip_obj.extractall(\"extracted_content_of_comp_file_zip\")"
   ]
  },
  {
   "cell_type": "code",
   "execution_count": null,
   "id": "5dce0e53-8ef7-4fc9-9cd1-415f7a87408e",
   "metadata": {},
   "outputs": [],
   "source": []
  }
 ],
 "metadata": {
  "kernelspec": {
   "display_name": "Python 3 (ipykernel)",
   "language": "python",
   "name": "python3"
  },
  "language_info": {
   "codemirror_mode": {
    "name": "ipython",
    "version": 3
   },
   "file_extension": ".py",
   "mimetype": "text/x-python",
   "name": "python",
   "nbconvert_exporter": "python",
   "pygments_lexer": "ipython3",
   "version": "3.12.7"
  }
 },
 "nbformat": 4,
 "nbformat_minor": 5
}
