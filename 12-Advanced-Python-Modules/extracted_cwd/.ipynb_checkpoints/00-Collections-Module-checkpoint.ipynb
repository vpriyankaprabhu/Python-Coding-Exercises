{
 "cells": [
  {
   "cell_type": "code",
   "execution_count": 19,
   "id": "4e649297-736c-4ef9-8ce8-80bdf12572e8",
   "metadata": {},
   "outputs": [
    {
     "data": {
      "text/plain": [
       "{1: 6, 3: 3, 2: 4, 4: 3, 34: 1, 5: 3, 6: 2, 67: 1}"
      ]
     },
     "execution_count": 19,
     "metadata": {},
     "output_type": "execute_result"
    }
   ],
   "source": [
    "#The collections module is a built-in module that implements specialized container data types providing alternatives to Python’s \n",
    "#general purpose built-in containers such as dict, tuples, list etc\n",
    "\n",
    "#Counter\n",
    "#Counter is a dict subclass which helps count hashable objects. \n",
    "#Inside of it elements are stored as dictionary keys and the counts of the objects are stored as the value.\n",
    "\n",
    "#For Example:\n",
    "mylist = [1,1,1,1,1,3,3,2,4,3,2,34,5,5,6,67,2,4,2,1,4,5,6]\n",
    "#lets count the appearance of each element of mylist in traditional way\n",
    "mydict = {}\n",
    "for i in mylist:\n",
    "    if i in mydict.keys():\n",
    "        mydict[i] += 1\n",
    "    else:\n",
    "        mydict[i] = 1\n",
    "mydict"
   ]
  },
  {
   "cell_type": "code",
   "execution_count": 31,
   "id": "e8435871-972d-40c7-b9c4-a59740c8487c",
   "metadata": {},
   "outputs": [
    {
     "data": {
      "text/plain": [
       "Counter({1: 6, 2: 4, 3: 3, 4: 3, 5: 3, 6: 2, 34: 1, 67: 1})"
      ]
     },
     "execution_count": 31,
     "metadata": {},
     "output_type": "execute_result"
    }
   ],
   "source": [
    "#instead of this we can use directly the special container object in Collections for Python Counter which does this \n",
    "#operation to count on hashable objects such as list or tuples to dictionary\n",
    "\n",
    "from collections import Counter\n",
    "\n",
    "Counter(mylist)\n",
    "\n",
    "#same output but we used special collection module here"
   ]
  },
  {
   "cell_type": "code",
   "execution_count": 33,
   "id": "b1c53db9-1087-4dc0-bf2b-a3187d8fea94",
   "metadata": {},
   "outputs": [
    {
     "data": {
      "text/plain": [
       "Counter({'1': 3,\n",
       "         3: 3,\n",
       "         '10': 2,\n",
       "         'abc': 2,\n",
       "         10: 2,\n",
       "         'aaa': 1,\n",
       "         'bbb': 1,\n",
       "         1: 1,\n",
       "         2: 1})"
      ]
     },
     "execution_count": 33,
     "metadata": {},
     "output_type": "execute_result"
    }
   ],
   "source": [
    "Counter((\"1\",\"1\",\"1\",\"10\",\"10\",\"abc\",\"aaa\",\"abc\",\"bbb\",10,10,1,2,3,3,3))"
   ]
  },
  {
   "cell_type": "code",
   "execution_count": 35,
   "id": "5be6c2a9-d62e-4d94-95db-69cbd4059e39",
   "metadata": {},
   "outputs": [
    {
     "data": {
      "text/plain": [
       "Counter({'e': 15, 'c': 7, 'a': 6, 'b': 6, 'd': 3})"
      ]
     },
     "execution_count": 35,
     "metadata": {},
     "output_type": "execute_result"
    }
   ],
   "source": [
    "Counter(\"aaaaaabbbbbbcccccccdddeeeeeeeeeeeeeee\")"
   ]
  },
  {
   "cell_type": "code",
   "execution_count": 39,
   "id": "5c31eff0-deca-4b42-8b1d-8c1686f96ca8",
   "metadata": {},
   "outputs": [
    {
     "data": {
      "text/plain": [
       "Counter({'How': 3,\n",
       "         'are': 2,\n",
       "         'you?': 1,\n",
       "         'your': 1,\n",
       "         'parents?': 1,\n",
       "         'is': 1,\n",
       "         'everything': 1,\n",
       "         'in': 1,\n",
       "         'life': 1,\n",
       "         'going': 1,\n",
       "         'on??': 1})"
      ]
     },
     "execution_count": 39,
     "metadata": {},
     "output_type": "execute_result"
    }
   ],
   "source": [
    "#How to count words in sentence\n",
    "sentence = \"How are you? How are your parents? How is everything in life going on??\"\n",
    "#list of words\n",
    "words = sentence.split(\" \")\n",
    "Counter(words)"
   ]
  },
  {
   "cell_type": "code",
   "execution_count": 41,
   "id": "99eda168-dc66-4994-993c-116d8859f13d",
   "metadata": {},
   "outputs": [],
   "source": [
    "count_words = Counter(words)"
   ]
  },
  {
   "cell_type": "code",
   "execution_count": 43,
   "id": "d6a7342f-d08b-4edb-bec8-f4684831210c",
   "metadata": {},
   "outputs": [
    {
     "data": {
      "text/plain": [
       "[('How', 3),\n",
       " ('are', 2),\n",
       " ('you?', 1),\n",
       " ('your', 1),\n",
       " ('parents?', 1),\n",
       " ('is', 1),\n",
       " ('everything', 1),\n",
       " ('in', 1),\n",
       " ('life', 1),\n",
       " ('going', 1),\n",
       " ('on??', 1)]"
      ]
     },
     "execution_count": 43,
     "metadata": {},
     "output_type": "execute_result"
    }
   ],
   "source": [
    "count_words.most_common() #lists all the most_common words to least. We can pass how many most_common we want to pick to by passing number to most_common"
   ]
  },
  {
   "cell_type": "code",
   "execution_count": 45,
   "id": "aa5d3316-fed7-4d80-a47e-ea423aa198d0",
   "metadata": {},
   "outputs": [
    {
     "data": {
      "text/plain": [
       "[('How', 3), ('are', 2), ('you?', 1)]"
      ]
     },
     "execution_count": 45,
     "metadata": {},
     "output_type": "execute_result"
    }
   ],
   "source": [
    "count_words.most_common(3)"
   ]
  },
  {
   "cell_type": "code",
   "execution_count": 47,
   "id": "9c6b3be5-544d-4567-83d6-fa15ec75fc5a",
   "metadata": {},
   "outputs": [
    {
     "data": {
      "text/plain": [
       "[('How', 3), ('are', 2), ('you?', 1), ('your', 1), ('parents?', 1)]"
      ]
     },
     "execution_count": 47,
     "metadata": {},
     "output_type": "execute_result"
    }
   ],
   "source": [
    "count_words.most_common(5)"
   ]
  },
  {
   "cell_type": "code",
   "execution_count": 49,
   "id": "b11e5893-92a6-47be-94b4-0353056889dc",
   "metadata": {},
   "outputs": [],
   "source": [
    "#Common patterns when using the Counter() object\n",
    "#sum(c.values())                 # total of all counts\n",
    "#c.clear()                       # reset all counts\n",
    "#list(c)                         # list unique elements\n",
    "#set(c)                          # convert to a set\n",
    "#dict(c)                         # convert to a regular dictionary\n",
    "#c.items()                       # convert to a list of (elem, cnt) pairs\n",
    "#Counter(dict(list_of_pairs))    # convert from a list of (elem, cnt) pairs\n",
    "#c.most_common()[:-n-1:-1]       # n least common elements\n",
    "#c += Counter()                  # remove zero and negative counts"
   ]
  },
  {
   "cell_type": "code",
   "execution_count": 55,
   "id": "56d2c093-8d52-448e-8715-ed08938c558e",
   "metadata": {},
   "outputs": [
    {
     "data": {
      "text/plain": [
       "14"
      ]
     },
     "execution_count": 55,
     "metadata": {},
     "output_type": "execute_result"
    }
   ],
   "source": [
    "#sum(c.values())                 # total of all counts/values in dict Counter\n",
    "sum(count_words.values())"
   ]
  },
  {
   "cell_type": "code",
   "execution_count": 57,
   "id": "95cf2678-8fed-4945-9a40-5ad4fb557243",
   "metadata": {},
   "outputs": [
    {
     "data": {
      "text/plain": [
       "['How',\n",
       " 'are',\n",
       " 'you?',\n",
       " 'your',\n",
       " 'parents?',\n",
       " 'is',\n",
       " 'everything',\n",
       " 'in',\n",
       " 'life',\n",
       " 'going',\n",
       " 'on??']"
      ]
     },
     "execution_count": 57,
     "metadata": {},
     "output_type": "execute_result"
    }
   ],
   "source": [
    "#list(c)                         # list unique elements\n",
    "list(count_words)"
   ]
  },
  {
   "cell_type": "code",
   "execution_count": 59,
   "id": "145606a0-e8a9-4413-87d5-485038b021e1",
   "metadata": {},
   "outputs": [
    {
     "data": {
      "text/plain": [
       "{'How',\n",
       " 'are',\n",
       " 'everything',\n",
       " 'going',\n",
       " 'in',\n",
       " 'is',\n",
       " 'life',\n",
       " 'on??',\n",
       " 'parents?',\n",
       " 'you?',\n",
       " 'your'}"
      ]
     },
     "execution_count": 59,
     "metadata": {},
     "output_type": "execute_result"
    }
   ],
   "source": [
    "#set(c)                          # convert to a set\n",
    "set(count_words)"
   ]
  },
  {
   "cell_type": "code",
   "execution_count": 61,
   "id": "85a338e6-248b-4da7-85ec-20e35602dc86",
   "metadata": {},
   "outputs": [
    {
     "data": {
      "text/plain": [
       "{'How': 3,\n",
       " 'are': 2,\n",
       " 'you?': 1,\n",
       " 'your': 1,\n",
       " 'parents?': 1,\n",
       " 'is': 1,\n",
       " 'everything': 1,\n",
       " 'in': 1,\n",
       " 'life': 1,\n",
       " 'going': 1,\n",
       " 'on??': 1}"
      ]
     },
     "execution_count": 61,
     "metadata": {},
     "output_type": "execute_result"
    }
   ],
   "source": [
    "#dict(c)                         # convert to a regular dictionary\n",
    "dict(count_words)"
   ]
  },
  {
   "cell_type": "code",
   "execution_count": 63,
   "id": "da3dd9b3-2f73-4a99-b60a-5780dd170da2",
   "metadata": {},
   "outputs": [
    {
     "data": {
      "text/plain": [
       "dict"
      ]
     },
     "execution_count": 63,
     "metadata": {},
     "output_type": "execute_result"
    }
   ],
   "source": [
    "type(dict(count_words))"
   ]
  },
  {
   "cell_type": "code",
   "execution_count": 65,
   "id": "45e1ea38-4787-4828-82e4-8b0bc36c09a2",
   "metadata": {},
   "outputs": [
    {
     "data": {
      "text/plain": [
       "collections.Counter"
      ]
     },
     "execution_count": 65,
     "metadata": {},
     "output_type": "execute_result"
    }
   ],
   "source": [
    "type(count_words)"
   ]
  },
  {
   "cell_type": "code",
   "execution_count": 67,
   "id": "563f387f-0b17-42c4-b071-ae4109c5431a",
   "metadata": {},
   "outputs": [
    {
     "data": {
      "text/plain": [
       "dict_items([('How', 3), ('are', 2), ('you?', 1), ('your', 1), ('parents?', 1), ('is', 1), ('everything', 1), ('in', 1), ('life', 1), ('going', 1), ('on??', 1)])"
      ]
     },
     "execution_count": 67,
     "metadata": {},
     "output_type": "execute_result"
    }
   ],
   "source": [
    "#c.items()                       # convert to a list of (elem, cnt) pairs\n",
    "\n",
    "count_words.items()"
   ]
  },
  {
   "cell_type": "code",
   "execution_count": 69,
   "id": "d20faac0-ee7a-4d26-8961-5003482576fd",
   "metadata": {},
   "outputs": [
    {
     "data": {
      "text/plain": [
       "dict_keys(['How', 'are', 'you?', 'your', 'parents?', 'is', 'everything', 'in', 'life', 'going', 'on??'])"
      ]
     },
     "execution_count": 69,
     "metadata": {},
     "output_type": "execute_result"
    }
   ],
   "source": [
    "count_words.keys()"
   ]
  },
  {
   "cell_type": "code",
   "execution_count": 71,
   "id": "fcf9425c-bb39-4c0c-be6c-475fc1a2c975",
   "metadata": {},
   "outputs": [
    {
     "data": {
      "text/plain": [
       "dict_values([3, 2, 1, 1, 1, 1, 1, 1, 1, 1, 1])"
      ]
     },
     "execution_count": 71,
     "metadata": {},
     "output_type": "execute_result"
    }
   ],
   "source": [
    "count_words.values()"
   ]
  },
  {
   "cell_type": "code",
   "execution_count": 73,
   "id": "1870bddc-98a0-4aa6-b8d7-8b12896d51da",
   "metadata": {},
   "outputs": [
    {
     "data": {
      "text/plain": [
       "Counter({'How': 3,\n",
       "         'are': 2,\n",
       "         'you?': 1,\n",
       "         'your': 1,\n",
       "         'parents?': 1,\n",
       "         'is': 1,\n",
       "         'everything': 1,\n",
       "         'in': 1,\n",
       "         'life': 1,\n",
       "         'going': 1,\n",
       "         'on??': 1})"
      ]
     },
     "execution_count": 73,
     "metadata": {},
     "output_type": "execute_result"
    }
   ],
   "source": [
    "#Counter(dict(list_of_pairs))    # convert from a list of (elem, cnt) pairs\n",
    "\n",
    "Counter(dict(count_words))"
   ]
  },
  {
   "cell_type": "code",
   "execution_count": 81,
   "id": "a62acdfc-5400-431e-b013-60d81b6a8cc3",
   "metadata": {},
   "outputs": [
    {
     "data": {
      "text/plain": [
       "[('on??', 1), ('going', 1), ('life', 1), ('in', 1), ('everything', 1)]"
      ]
     },
     "execution_count": 81,
     "metadata": {},
     "output_type": "execute_result"
    }
   ],
   "source": [
    "#c.most_common()[:-n-1:-1]       # n least common elements n=5\n",
    "count_words.most_common()[:-5-1:-1]"
   ]
  },
  {
   "cell_type": "code",
   "execution_count": 83,
   "id": "72201670-305d-4e8e-919e-566a8ccfe194",
   "metadata": {},
   "outputs": [
    {
     "data": {
      "text/plain": [
       "[('on??', 1),\n",
       " ('going', 1),\n",
       " ('life', 1),\n",
       " ('in', 1),\n",
       " ('everything', 1),\n",
       " ('is', 1),\n",
       " ('parents?', 1),\n",
       " ('your', 1),\n",
       " ('you?', 1),\n",
       " ('are', 2),\n",
       " ('How', 3)]"
      ]
     },
     "execution_count": 83,
     "metadata": {},
     "output_type": "execute_result"
    }
   ],
   "source": [
    "count_words.most_common()[::-1] #least commonly used elements"
   ]
  },
  {
   "cell_type": "code",
   "execution_count": 91,
   "id": "a16271b8-c392-4389-a4b9-38185c02a3c3",
   "metadata": {},
   "outputs": [
    {
     "data": {
      "text/plain": [
       "Counter({'How': 3,\n",
       "         'are': 2,\n",
       "         'you?': 1,\n",
       "         'your': 1,\n",
       "         'parents?': 1,\n",
       "         'is': 1,\n",
       "         'everything': 1,\n",
       "         'in': 1,\n",
       "         'life': 1,\n",
       "         'going': 1,\n",
       "         'on??': 1})"
      ]
     },
     "execution_count": 91,
     "metadata": {},
     "output_type": "execute_result"
    }
   ],
   "source": [
    "#c += Counter()                  # remove zero and negative counts\n",
    "count_words+=Counter()\n",
    "count_words"
   ]
  },
  {
   "cell_type": "code",
   "execution_count": 93,
   "id": "6242d38a-8ad6-4e8a-a29f-04c1ea819c0e",
   "metadata": {},
   "outputs": [
    {
     "ename": "KeyError",
     "evalue": "'Wrong'",
     "output_type": "error",
     "traceback": [
      "\u001b[0;31m---------------------------------------------------------------------------\u001b[0m",
      "\u001b[0;31mKeyError\u001b[0m                                  Traceback (most recent call last)",
      "Cell \u001b[0;32mIn[93], line 12\u001b[0m\n\u001b[1;32m      8\u001b[0m \u001b[38;5;28;01mfrom\u001b[39;00m \u001b[38;5;21;01mcollections\u001b[39;00m \u001b[38;5;28;01mimport\u001b[39;00m defaultdict\n\u001b[1;32m     10\u001b[0m d \u001b[38;5;241m=\u001b[39m {}\n\u001b[0;32m---> 12\u001b[0m d[\u001b[38;5;124m'\u001b[39m\u001b[38;5;124mWrong\u001b[39m\u001b[38;5;124m'\u001b[39m]\n",
      "\u001b[0;31mKeyError\u001b[0m: 'Wrong'"
     ]
    }
   ],
   "source": [
    "#defaultdict\n",
    "\n",
    "#defaultdict is a dictionary-like object which provides all methods provided by a dictionary\n",
    "#Using defaultdict is faster than doing the same using dict.set_default method.\n",
    "\n",
    "#A defaultdict will never raise a KeyError in Dictionary if key doesnt exists. Any key that does not exist gets the value returned by the default factory.\n",
    "\n",
    "from collections import defaultdict\n",
    "\n",
    "d = {}\n",
    "\n",
    "d['Wrong']\n",
    "#since its blank dict and no such key available"
   ]
  },
  {
   "cell_type": "code",
   "execution_count": 120,
   "id": "cb2ca190-f62d-40e5-b1a8-97d27398ad8c",
   "metadata": {},
   "outputs": [],
   "source": [
    "d = defaultdict(object)"
   ]
  },
  {
   "cell_type": "code",
   "execution_count": 154,
   "id": "3744b399-475b-45a7-9680-175044d01dae",
   "metadata": {},
   "outputs": [],
   "source": [
    "d['one']=1"
   ]
  },
  {
   "cell_type": "code",
   "execution_count": 142,
   "id": "1bc9baee-6bfa-4826-a49e-330890cbc4b0",
   "metadata": {},
   "outputs": [
    {
     "name": "stdout",
     "output_type": "stream",
     "text": [
      "one\n",
      "wrong\n"
     ]
    }
   ],
   "source": [
    "for i in d:\n",
    "    print(i)"
   ]
  },
  {
   "cell_type": "code",
   "execution_count": 144,
   "id": "494cb9cd-f6f8-471c-9967-0e6e74ed4231",
   "metadata": {},
   "outputs": [
    {
     "data": {
      "text/plain": [
       "0"
      ]
     },
     "execution_count": 144,
     "metadata": {},
     "output_type": "execute_result"
    }
   ],
   "source": [
    "d['wrong']"
   ]
  },
  {
   "cell_type": "code",
   "execution_count": 146,
   "id": "a32887bd-a9e6-4201-b004-bf0c46431474",
   "metadata": {},
   "outputs": [
    {
     "name": "stdout",
     "output_type": "stream",
     "text": [
      "one\n",
      "wrong\n"
     ]
    }
   ],
   "source": [
    "for i in d:\n",
    "    print(i)"
   ]
  },
  {
   "cell_type": "code",
   "execution_count": 148,
   "id": "aba3dd1b-13dd-4a6f-8861-dff87453407a",
   "metadata": {},
   "outputs": [],
   "source": [
    "#can we initialise default values to dict keys\n",
    "\n",
    "d = defaultdict(lambda:0)"
   ]
  },
  {
   "cell_type": "code",
   "execution_count": 156,
   "id": "f325fb3b-8bdf-4e12-9f0d-1251bf294647",
   "metadata": {},
   "outputs": [
    {
     "data": {
      "text/plain": [
       "1"
      ]
     },
     "execution_count": 156,
     "metadata": {},
     "output_type": "execute_result"
    }
   ],
   "source": [
    "d['one']"
   ]
  },
  {
   "cell_type": "code",
   "execution_count": 158,
   "id": "66e4de09-0c42-443b-97ab-1a6aaadf862b",
   "metadata": {},
   "outputs": [
    {
     "data": {
      "text/plain": [
       "0"
      ]
     },
     "execution_count": 158,
     "metadata": {},
     "output_type": "execute_result"
    }
   ],
   "source": [
    "d['wrong']"
   ]
  },
  {
   "cell_type": "code",
   "execution_count": 168,
   "id": "29f222a3-6004-4d6e-8f06-5e49c6aeb1d4",
   "metadata": {},
   "outputs": [
    {
     "data": {
      "text/plain": [
       "20"
      ]
     },
     "execution_count": 168,
     "metadata": {},
     "output_type": "execute_result"
    }
   ],
   "source": [
    "#namedtuple\n",
    "#The standard tuple uses numerical indexes to access its members, for example:\n",
    "\n",
    "tup = (10,20,30)\n",
    "tup[1]"
   ]
  },
  {
   "cell_type": "code",
   "execution_count": 170,
   "id": "bc00d39e-d598-40d5-80bf-d3ad0f43b0ab",
   "metadata": {},
   "outputs": [],
   "source": [
    "from collections import namedtuple"
   ]
  },
  {
   "cell_type": "code",
   "execution_count": 172,
   "id": "e7325c80-fc87-4088-9576-35ce6d2b5a8f",
   "metadata": {},
   "outputs": [],
   "source": [
    "#On the other hand, remembering which index should be used for each value can lead to errors, especially \n",
    "#if the tuple has a lot of fields and is constructed far from where it is used. \n",
    "#A namedtuple assigns names, as well as the numerical index, to each member.\n",
    "\n",
    "#The arguments are the name of the new class and a string containing the names of the elements.\n",
    "\n",
    "#You can basically think of namedtuples as a very quick way of creating a new object/class type with some attribute fields. \n",
    "#For example:\n",
    "\n",
    "Dog = namedtuple(\"Dog\", ['age', 'breed', 'name'])"
   ]
  },
  {
   "cell_type": "code",
   "execution_count": 174,
   "id": "7c3fd507-7364-429f-ac78-be91d648a8a1",
   "metadata": {},
   "outputs": [],
   "source": [
    "sammy = Dog(10, \"Huskie\", \"Sammy\")"
   ]
  },
  {
   "cell_type": "code",
   "execution_count": 176,
   "id": "e6c1b162-d588-4572-9ef1-7805a26dcf0d",
   "metadata": {},
   "outputs": [
    {
     "name": "stdout",
     "output_type": "stream",
     "text": [
      "Dog(age=10, breed='Huskie', name='Sammy')\n"
     ]
    }
   ],
   "source": [
    "print(sammy)"
   ]
  },
  {
   "cell_type": "code",
   "execution_count": 178,
   "id": "5c27ac26-f0bc-45da-9464-ad58f90a85e1",
   "metadata": {},
   "outputs": [
    {
     "data": {
      "text/plain": [
       "'Sammy'"
      ]
     },
     "execution_count": 178,
     "metadata": {},
     "output_type": "execute_result"
    }
   ],
   "source": [
    "sammy.name"
   ]
  },
  {
   "cell_type": "code",
   "execution_count": 180,
   "id": "8f8ad794-4c4c-43cb-8c20-c263feaa6208",
   "metadata": {},
   "outputs": [
    {
     "data": {
      "text/plain": [
       "10"
      ]
     },
     "execution_count": 180,
     "metadata": {},
     "output_type": "execute_result"
    }
   ],
   "source": [
    "sammy.age\n"
   ]
  },
  {
   "cell_type": "code",
   "execution_count": 182,
   "id": "eb99fc0a-dbd1-49c9-91df-45d15623de25",
   "metadata": {},
   "outputs": [
    {
     "data": {
      "text/plain": [
       "'Huskie'"
      ]
     },
     "execution_count": 182,
     "metadata": {},
     "output_type": "execute_result"
    }
   ],
   "source": [
    "sammy.breed"
   ]
  },
  {
   "cell_type": "code",
   "execution_count": null,
   "id": "f249cce4-a2aa-40d1-8831-10f09a66066f",
   "metadata": {},
   "outputs": [],
   "source": [
    "#We construct the namedtuple by first passing the object type name (Dog) \n",
    "#and then passing a string with the variety of fields as a string with spaces between the field names. "
   ]
  }
 ],
 "metadata": {
  "kernelspec": {
   "display_name": "Python 3 (ipykernel)",
   "language": "python",
   "name": "python3"
  },
  "language_info": {
   "codemirror_mode": {
    "name": "ipython",
    "version": 3
   },
   "file_extension": ".py",
   "mimetype": "text/x-python",
   "name": "python",
   "nbconvert_exporter": "python",
   "pygments_lexer": "ipython3",
   "version": "3.12.7"
  }
 },
 "nbformat": 4,
 "nbformat_minor": 5
}
