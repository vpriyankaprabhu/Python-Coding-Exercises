{
 "cells": [
  {
   "cell_type": "code",
   "execution_count": 9,
   "id": "145dce39-3df6-40e1-9361-d086c2981fa9",
   "metadata": {},
   "outputs": [],
   "source": [
    "#datetime module\n",
    "#Python has the datetime module to help deal with timestamps in your code. \n",
    "#Time values are represented with the time class. Times have attributes for hour, minute, second, and microsecond. \n",
    "#They can also include time zone information.\n",
    "\n",
    "import datetime\n",
    "\n",
    "#time\n",
    "#Let's take a look at how we can extract time information from the datetime module. \n",
    "#We can create a timestamp by specifying datetime.time(hour,minute,second,microsecond)\n",
    "\n",
    "t = datetime.time(4,20,5)"
   ]
  },
  {
   "cell_type": "code",
   "execution_count": 11,
   "id": "43095557-ebbd-424a-8314-5945dd940e13",
   "metadata": {},
   "outputs": [
    {
     "name": "stdout",
     "output_type": "stream",
     "text": [
      "04:20:05\n"
     ]
    }
   ],
   "source": [
    "print(t)"
   ]
  },
  {
   "cell_type": "code",
   "execution_count": 17,
   "id": "28f3b759-f453-4e63-9cff-29a9bc3737af",
   "metadata": {},
   "outputs": [
    {
     "name": "stdout",
     "output_type": "stream",
     "text": [
      "Hour : 4\n",
      "Minute : 20\n",
      "Second : 5\n",
      "Microsecond : 0\n",
      "tzinfo : None\n"
     ]
    }
   ],
   "source": [
    "print(f\"Hour : {t.hour}\")\n",
    "print(f\"Minute : {t.minute}\")\n",
    "print(f\"Second : {t.second}\")\n",
    "print(f\"Microsecond : {t.microsecond}\")\n",
    "print(f\"tzinfo : {t.tzinfo}\")\n"
   ]
  },
  {
   "cell_type": "code",
   "execution_count": 19,
   "id": "aae11c9b-e3de-493f-b6e4-75b4465e425b",
   "metadata": {},
   "outputs": [],
   "source": [
    "#Note: A time instance only holds values of time, and not a date associated with the time."
   ]
  },
  {
   "cell_type": "code",
   "execution_count": 31,
   "id": "dc534188-9e59-438f-a18a-1bd1cdab3a77",
   "metadata": {},
   "outputs": [
    {
     "name": "stdout",
     "output_type": "stream",
     "text": [
      "Min Time of day : 00:00:00\n",
      "Max Time of day : 23:59:59.999999\n",
      "Time resolution : 0:00:00.000001\n"
     ]
    }
   ],
   "source": [
    "#We can also check the min and max values a time of day can have in the module:\n",
    "#The min and max class attributes reflect the valid range of times in a single day.\n",
    "\n",
    "print(f\"Min Time of day : {t.min}\")\n",
    "print(f\"Max Time of day : {t.max}\")\n",
    "print(f\"Time resolution : {t.resolution}\") #Difference between two datetime values."
   ]
  },
  {
   "cell_type": "code",
   "execution_count": 43,
   "id": "2d1e1f46-fcf2-47d6-abd3-d6310b7f31da",
   "metadata": {},
   "outputs": [
    {
     "name": "stdout",
     "output_type": "stream",
     "text": [
      "Today : 2024-12-03\n",
      "Day : 3\n",
      "Month : 12\n",
      "Year : 2024\n",
      "ctime : Tue Dec  3 00:00:00 2024\n"
     ]
    }
   ],
   "source": [
    "#Dates\n",
    "#datetime (as you might suspect) also allows us to work with date timestamps. \n",
    "#Calendar date values are represented with the date class. Instances have attributes for year, month, and day. \n",
    "#It is easy to create a date representing today’s date using the today() class method.\n",
    "\n",
    "today = datetime.date.today()\n",
    "print(f\"Today : {today}\")\n",
    "print(f\"Day : {today.day}\")\n",
    "print(f\"Month : {today.month}\")\n",
    "print(f\"Year : {today.year}\")\n",
    "print(f\"ctime : {today.ctime()}\")"
   ]
  },
  {
   "cell_type": "code",
   "execution_count": 45,
   "id": "d9fbc3c6-7967-46cb-87bb-c58353e092c3",
   "metadata": {},
   "outputs": [],
   "source": [
    "#if we want both date and time together we can use datetime\n",
    "from datetime import datetime\n",
    "\n",
    "mydatetime = datetime(2021, 12, 24, 12, 30, 4)"
   ]
  },
  {
   "cell_type": "code",
   "execution_count": 47,
   "id": "02ae916c-5ea2-4bd6-be42-975cf383b423",
   "metadata": {},
   "outputs": [
    {
     "name": "stdout",
     "output_type": "stream",
     "text": [
      "2021-12-24 12:30:04\n"
     ]
    }
   ],
   "source": [
    "print(mydatetime)"
   ]
  },
  {
   "cell_type": "code",
   "execution_count": 57,
   "id": "b479766e-b015-4e45-8937-56ae48ff924f",
   "metadata": {},
   "outputs": [
    {
     "name": "stdout",
     "output_type": "stream",
     "text": [
      "2024-12-03\n"
     ]
    },
    {
     "data": {
      "text/plain": [
       "datetime.date(2023, 12, 3)"
      ]
     },
     "execution_count": 57,
     "metadata": {},
     "output_type": "execute_result"
    }
   ],
   "source": [
    "#We can also replace any parameter or atrribute of datetime object\n",
    "#Another way to create new date instances uses the replace() method of an existing date. \n",
    "#For example, you can change the year, leaving the day and month alone.\n",
    "print(today)\n",
    "today.replace(year=2023)"
   ]
  },
  {
   "cell_type": "code",
   "execution_count": 59,
   "id": "b4986290-4c4e-411d-8306-4a94ecb257d5",
   "metadata": {},
   "outputs": [
    {
     "data": {
      "text/plain": [
       "datetime.datetime(2021, 1, 24, 12, 30, 4)"
      ]
     },
     "execution_count": 59,
     "metadata": {},
     "output_type": "execute_result"
    }
   ],
   "source": [
    "mydatetime.replace(month=1)"
   ]
  },
  {
   "cell_type": "code",
   "execution_count": 67,
   "id": "ae46348c-6e3c-4170-8c98-eac666d3c53a",
   "metadata": {},
   "outputs": [
    {
     "name": "stdout",
     "output_type": "stream",
     "text": [
      "Earliest  : 0001-01-01\n",
      "Latest    : 9999-12-31\n",
      "Resolution: 1 day, 0:00:00\n"
     ]
    }
   ],
   "source": [
    "#As with time, the range of date values supported can be determined using the min and max attributes.\n",
    "import datetime\n",
    "print('Earliest  :', datetime.date.min)\n",
    "print('Latest    :', datetime.date.max)\n",
    "print('Resolution:', datetime.date.resolution) #difference between min and max date"
   ]
  },
  {
   "cell_type": "code",
   "execution_count": 69,
   "id": "f59a0cae-4015-43e8-a498-56276c851c0d",
   "metadata": {},
   "outputs": [],
   "source": [
    "#Arithmetic on date objects\n"
   ]
  },
  {
   "cell_type": "code",
   "execution_count": 71,
   "id": "f2667b1a-b59b-4971-8030-cd38123eb539",
   "metadata": {},
   "outputs": [],
   "source": [
    "from datetime import date\n",
    "date1 = date(2021,11,3)\n",
    "date2 = date(2021,11,4)"
   ]
  },
  {
   "cell_type": "code",
   "execution_count": 73,
   "id": "ac1f5ab0-62ea-494b-a3aa-b69d040fa0ca",
   "metadata": {},
   "outputs": [],
   "source": [
    "result = date2-date1"
   ]
  },
  {
   "cell_type": "code",
   "execution_count": 75,
   "id": "d3d1195a-008f-4a3d-988e-d083508b1a58",
   "metadata": {},
   "outputs": [
    {
     "name": "stdout",
     "output_type": "stream",
     "text": [
      "1 day, 0:00:00\n"
     ]
    }
   ],
   "source": [
    "print(result)"
   ]
  },
  {
   "cell_type": "code",
   "execution_count": 77,
   "id": "8695c03d-ac35-4fde-8b6d-56d0af24aa2f",
   "metadata": {},
   "outputs": [
    {
     "data": {
      "text/plain": [
       "datetime.timedelta"
      ]
     },
     "execution_count": 77,
     "metadata": {},
     "output_type": "execute_result"
    }
   ],
   "source": [
    "type(result)"
   ]
  },
  {
   "cell_type": "code",
   "execution_count": 79,
   "id": "55628c19-39fc-48ca-a1b7-284673e8ecec",
   "metadata": {},
   "outputs": [
    {
     "data": {
      "text/plain": [
       "datetime.timedelta(days=1)"
      ]
     },
     "execution_count": 79,
     "metadata": {},
     "output_type": "execute_result"
    }
   ],
   "source": [
    "result"
   ]
  },
  {
   "cell_type": "code",
   "execution_count": 81,
   "id": "43033b7a-1859-40f1-81e6-5c11bb5ebf58",
   "metadata": {},
   "outputs": [],
   "source": [
    "from datetime import datetime\n",
    "d1 = datetime(2021,3,11,22,00)\n",
    "d2 = datetime(2021,2,11,12,00)"
   ]
  },
  {
   "cell_type": "code",
   "execution_count": 89,
   "id": "eed33363-f751-423e-83ce-971481f1ee62",
   "metadata": {},
   "outputs": [],
   "source": [
    "mydiff = d1 - d2"
   ]
  },
  {
   "cell_type": "code",
   "execution_count": 91,
   "id": "28893102-7622-4763-b7fc-e5fbe3b6979c",
   "metadata": {},
   "outputs": [
    {
     "data": {
      "text/plain": [
       "datetime.timedelta(days=28, seconds=36000)"
      ]
     },
     "execution_count": 91,
     "metadata": {},
     "output_type": "execute_result"
    }
   ],
   "source": [
    "mydiff"
   ]
  },
  {
   "cell_type": "code",
   "execution_count": 93,
   "id": "ab1dab40-63a8-4e85-b1ca-ffc346381d26",
   "metadata": {},
   "outputs": [
    {
     "name": "stdout",
     "output_type": "stream",
     "text": [
      "28 days, 10:00:00\n"
     ]
    }
   ],
   "source": [
    "print(mydiff)"
   ]
  },
  {
   "cell_type": "code",
   "execution_count": 95,
   "id": "716806b3-0233-422d-8881-1bd11f33d08f",
   "metadata": {},
   "outputs": [
    {
     "data": {
      "text/plain": [
       "datetime.timedelta"
      ]
     },
     "execution_count": 95,
     "metadata": {},
     "output_type": "execute_result"
    }
   ],
   "source": [
    "type(mydiff)"
   ]
  },
  {
   "cell_type": "code",
   "execution_count": 101,
   "id": "eecd7dd8-f601-43dd-987b-20387744e401",
   "metadata": {},
   "outputs": [
    {
     "data": {
      "text/plain": [
       "2455200.0"
      ]
     },
     "execution_count": 101,
     "metadata": {},
     "output_type": "execute_result"
    }
   ],
   "source": [
    "mydiff.total_seconds() #including 28 days convereted to seconds + 36000"
   ]
  },
  {
   "cell_type": "code",
   "execution_count": 103,
   "id": "21366478-aed2-44e1-90c8-5169b5097221",
   "metadata": {},
   "outputs": [
    {
     "data": {
      "text/plain": [
       "36000"
      ]
     },
     "execution_count": 103,
     "metadata": {},
     "output_type": "execute_result"
    }
   ],
   "source": [
    "mydiff.seconds"
   ]
  },
  {
   "cell_type": "code",
   "execution_count": null,
   "id": "e652b045-c37a-4bf6-8e87-241eb6098d31",
   "metadata": {},
   "outputs": [],
   "source": []
  }
 ],
 "metadata": {
  "kernelspec": {
   "display_name": "Python 3 (ipykernel)",
   "language": "python",
   "name": "python3"
  },
  "language_info": {
   "codemirror_mode": {
    "name": "ipython",
    "version": 3
   },
   "file_extension": ".py",
   "mimetype": "text/x-python",
   "name": "python",
   "nbconvert_exporter": "python",
   "pygments_lexer": "ipython3",
   "version": "3.12.7"
  }
 },
 "nbformat": 4,
 "nbformat_minor": 5
}
