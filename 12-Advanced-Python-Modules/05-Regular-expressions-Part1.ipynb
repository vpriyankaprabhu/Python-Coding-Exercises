{
 "cells": [
  {
   "cell_type": "code",
   "execution_count": 1,
   "id": "3beb3374-93e0-49bc-8ce0-d61e520c1898",
   "metadata": {},
   "outputs": [
    {
     "data": {
      "text/plain": [
       "True"
      ]
     },
     "execution_count": 1,
     "metadata": {},
     "output_type": "execute_result"
    }
   ],
   "source": [
    "#we already searching instance of word in string using in operator as follows:\n",
    "\n",
    "\"hello\" in \"I am default string hello world!\""
   ]
  },
  {
   "cell_type": "code",
   "execution_count": 3,
   "id": "80a51d37-aed2-44a9-bc51-03fa39d94438",
   "metadata": {},
   "outputs": [],
   "source": [
    "#This is not optimal way of doing it as we need to know exact substring to match and take care of capitalization and \n",
    "#punctuations or so\n",
    "\n",
    "#wat happens or how we will match numbers in string or email address in string in general"
   ]
  },
  {
   "cell_type": "code",
   "execution_count": 5,
   "id": "7d6be3a1-e0ff-4897-aeab-818111ed5430",
   "metadata": {},
   "outputs": [],
   "source": [
    "#Regular expressions (regex) allows us to search for general patterns in text data!\n",
    "\n",
    "#for example:\n",
    "\n",
    "#if we are looking for email address it will of format say user@gmail.com\n",
    "# pattern could be \"text\"+\"@\"+\"text\"+\".\"+\"com\"\n",
    "# how to know what text it should be how do we match this?\n"
   ]
  },
  {
   "cell_type": "code",
   "execution_count": 7,
   "id": "9d5b3082-0018-4577-841e-655fb1aeda7e",
   "metadata": {},
   "outputs": [],
   "source": [
    "# The re library in python helps to create such specialized pattern strings and then search them in required text string to see if it matches\n",
    "# we first need to understand the syntax for special strings"
   ]
  },
  {
   "cell_type": "code",
   "execution_count": 9,
   "id": "9a544a87-a4d3-4fc3-a666-1c0f8b97703e",
   "metadata": {},
   "outputs": [],
   "source": [
    "#for phone number say : (444)-342-3456\n",
    "# regex could be r'(\\d\\d\\d)-\\d\\d\\d-\\d\\d\\d\\d'\n",
    "\n",
    "# placing the r in front of the string allows python to understand that the \\ in the pattern string are not meant to be escape slashes. \n",
    "#But they are for identifiers to create specialised string"
   ]
  },
  {
   "cell_type": "code",
   "execution_count": 11,
   "id": "acd28d2d-0d9d-4e8f-920c-b5288866cf39",
   "metadata": {},
   "outputs": [],
   "source": [
    "import re"
   ]
  },
  {
   "cell_type": "code",
   "execution_count": 13,
   "id": "068019ec-ebd1-4617-bc29-336da9e2b22a",
   "metadata": {},
   "outputs": [],
   "source": [
    "pattern = \"hello\""
   ]
  },
  {
   "cell_type": "code",
   "execution_count": 15,
   "id": "00368cca-06b5-4c4d-8b06-ffef8cde4095",
   "metadata": {},
   "outputs": [],
   "source": [
    "text = \"I am default string hello world!\""
   ]
  },
  {
   "cell_type": "code",
   "execution_count": 17,
   "id": "747c32fd-6585-4a31-bec6-f1a70e934667",
   "metadata": {},
   "outputs": [
    {
     "data": {
      "text/plain": [
       "<re.Match object; span=(20, 25), match='hello'>"
      ]
     },
     "execution_count": 17,
     "metadata": {},
     "output_type": "execute_result"
    }
   ],
   "source": [
    "re.search(pattern, text)"
   ]
  },
  {
   "cell_type": "code",
   "execution_count": 19,
   "id": "37bf3cce-9015-4f4f-a2a7-431df547ee25",
   "metadata": {},
   "outputs": [],
   "source": [
    "#We get a match object as to tell which index its found\n",
    "#this only returns first instance of pattern found in the string text\n",
    "\n",
    "#lets see or test this now\n",
    "\n",
    "text = \"I am default string Hello World!. Hello Priyanka, How are you?\""
   ]
  },
  {
   "cell_type": "code",
   "execution_count": 21,
   "id": "b85087b8-060d-4bbc-b95c-af629ef2bc82",
   "metadata": {},
   "outputs": [],
   "source": [
    "pattern = \"Hello\""
   ]
  },
  {
   "cell_type": "code",
   "execution_count": 27,
   "id": "2b7030d7-1a03-438b-b96d-ee288870dcf5",
   "metadata": {},
   "outputs": [
    {
     "data": {
      "text/plain": [
       "True"
      ]
     },
     "execution_count": 27,
     "metadata": {},
     "output_type": "execute_result"
    }
   ],
   "source": [
    "pattern in text"
   ]
  },
  {
   "cell_type": "code",
   "execution_count": 29,
   "id": "03876083-6a9e-4724-8da3-50b1e277ddc3",
   "metadata": {},
   "outputs": [
    {
     "data": {
      "text/plain": [
       "<re.Match object; span=(20, 25), match='Hello'>"
      ]
     },
     "execution_count": 29,
     "metadata": {},
     "output_type": "execute_result"
    }
   ],
   "source": [
    "#where is it found?\n",
    "\n",
    "re.search(pattern, text)"
   ]
  },
  {
   "cell_type": "code",
   "execution_count": 31,
   "id": "648a4295-907c-4750-817b-03f989f24dc1",
   "metadata": {},
   "outputs": [],
   "source": [
    "#see here it returns only first occurance of Hello and not the second one\n",
    "#how to find all the occurances of Hello"
   ]
  },
  {
   "cell_type": "code",
   "execution_count": 69,
   "id": "1dfea3c0-c8ab-49b9-a13d-f7d66a4c02eb",
   "metadata": {},
   "outputs": [
    {
     "data": {
      "text/plain": [
       "['Hello', 'Hello']"
      ]
     },
     "execution_count": 69,
     "metadata": {},
     "output_type": "execute_result"
    }
   ],
   "source": [
    "matches = re.findall(pattern, text)\n",
    "matches"
   ]
  },
  {
   "cell_type": "code",
   "execution_count": 71,
   "id": "89b11790-f803-4f21-a8ba-a539b599b151",
   "metadata": {},
   "outputs": [
    {
     "data": {
      "text/plain": [
       "2"
      ]
     },
     "execution_count": 71,
     "metadata": {},
     "output_type": "execute_result"
    }
   ],
   "source": [
    "len(matches)"
   ]
  },
  {
   "cell_type": "code",
   "execution_count": 35,
   "id": "61ef1bd6-f420-4d07-b56b-420d2ec693d5",
   "metadata": {},
   "outputs": [],
   "source": [
    "#now lets see one example with no match object or None returned"
   ]
  },
  {
   "cell_type": "code",
   "execution_count": 39,
   "id": "fee1d326-2f79-4913-88ea-d7a5569ee400",
   "metadata": {},
   "outputs": [],
   "source": [
    "text = \"Not in text\"\n",
    "pattern = \"Hello\"\n",
    "re.search(pattern, text) #return None and so no output from this cell"
   ]
  },
  {
   "cell_type": "code",
   "execution_count": 41,
   "id": "33d91e36-0cc8-4eac-be09-7a371cfad81a",
   "metadata": {},
   "outputs": [],
   "source": [
    "#Now we will check on the match object and its details\n",
    "#Now we've seen that re.search() will take the pattern, scan the text, and then returns a Match object. \n",
    "#If no pattern is found, a None is returned (in Jupyter Notebook this just means that nothing is output below the cell)."
   ]
  },
  {
   "cell_type": "code",
   "execution_count": 43,
   "id": "d717935d-520e-4fc8-b13b-1ee5b3c9a88c",
   "metadata": {},
   "outputs": [],
   "source": [
    "pattern = \"Hello\""
   ]
  },
  {
   "cell_type": "code",
   "execution_count": 45,
   "id": "bbe7e124-3ed4-47a3-8297-27f7da9b4a6d",
   "metadata": {},
   "outputs": [],
   "source": [
    "text = \"I am default string Hello World!\""
   ]
  },
  {
   "cell_type": "code",
   "execution_count": 47,
   "id": "093e9986-97c4-42a6-8c23-51e9392e0a82",
   "metadata": {},
   "outputs": [],
   "source": [
    "match = re.search(pattern, text)"
   ]
  },
  {
   "cell_type": "code",
   "execution_count": 49,
   "id": "7270d688-d3e7-44af-aee8-d37053fe49ca",
   "metadata": {},
   "outputs": [
    {
     "data": {
      "text/plain": [
       "<re.Match object; span=(20, 25), match='Hello'>"
      ]
     },
     "execution_count": 49,
     "metadata": {},
     "output_type": "execute_result"
    }
   ],
   "source": [
    "match"
   ]
  },
  {
   "cell_type": "code",
   "execution_count": 51,
   "id": "80979ab7-19cb-4359-a7c2-0a2b8ada7804",
   "metadata": {},
   "outputs": [
    {
     "data": {
      "text/plain": [
       "(20, 25)"
      ]
     },
     "execution_count": 51,
     "metadata": {},
     "output_type": "execute_result"
    }
   ],
   "source": [
    "match.span()"
   ]
  },
  {
   "cell_type": "code",
   "execution_count": 55,
   "id": "5652c8ad-5cf2-4e75-847d-b8fdff0a8572",
   "metadata": {},
   "outputs": [
    {
     "data": {
      "text/plain": [
       "'Hello'"
      ]
     },
     "execution_count": 55,
     "metadata": {},
     "output_type": "execute_result"
    }
   ],
   "source": [
    "match.group()"
   ]
  },
  {
   "cell_type": "code",
   "execution_count": 57,
   "id": "408b6986-75ed-42b7-88e6-0c8bc486662a",
   "metadata": {},
   "outputs": [
    {
     "data": {
      "text/plain": [
       "20"
      ]
     },
     "execution_count": 57,
     "metadata": {},
     "output_type": "execute_result"
    }
   ],
   "source": [
    "#Notice the span, there is also a start and end index information.\n",
    "\n",
    "match.start()"
   ]
  },
  {
   "cell_type": "code",
   "execution_count": 61,
   "id": "f1275eaf-d834-45b7-a9ca-b74132ae3ae1",
   "metadata": {},
   "outputs": [
    {
     "data": {
      "text/plain": [
       "25"
      ]
     },
     "execution_count": 61,
     "metadata": {},
     "output_type": "execute_result"
    }
   ],
   "source": [
    "#Notice the span, there is also a start and end index information.\n",
    "\n",
    "match.end()"
   ]
  },
  {
   "cell_type": "code",
   "execution_count": 63,
   "id": "e6ca4bad-3649-45ce-b782-445b7536c158",
   "metadata": {},
   "outputs": [],
   "source": [
    "#now what if there are many occurances , we have seen search in re module to get first occurance of match and \n",
    "#findAll to get all occurances but no match object is returned"
   ]
  },
  {
   "cell_type": "code",
   "execution_count": 65,
   "id": "0bb0cf5b-0acd-4f7b-b937-52ae1d75c0a1",
   "metadata": {},
   "outputs": [],
   "source": [
    "#how to get best of both the methods, search and findAll kind of usability"
   ]
  },
  {
   "cell_type": "code",
   "execution_count": 67,
   "id": "1a378d37-672d-4996-b979-62256ed51996",
   "metadata": {},
   "outputs": [],
   "source": [
    "#we can loop through the matches object to get the match individual objects as follows"
   ]
  },
  {
   "cell_type": "code",
   "execution_count": 73,
   "id": "e09771a8-4b3d-41c7-9eeb-37adfed15c65",
   "metadata": {},
   "outputs": [
    {
     "data": {
      "text/plain": [
       "['Hello', 'Hello']"
      ]
     },
     "execution_count": 73,
     "metadata": {},
     "output_type": "execute_result"
    }
   ],
   "source": [
    "matches = re.findall(pattern, text)\n",
    "matches"
   ]
  },
  {
   "cell_type": "code",
   "execution_count": 83,
   "id": "5f66bf43-5496-411c-905b-30c4011814e9",
   "metadata": {},
   "outputs": [
    {
     "data": {
      "text/plain": [
       "2"
      ]
     },
     "execution_count": 83,
     "metadata": {},
     "output_type": "execute_result"
    }
   ],
   "source": [
    "len(matches)"
   ]
  },
  {
   "cell_type": "code",
   "execution_count": 77,
   "id": "18dd8e12-3865-4a9f-ac3e-dabb1e369804",
   "metadata": {},
   "outputs": [
    {
     "name": "stdout",
     "output_type": "stream",
     "text": [
      "<re.Match object; span=(20, 25), match='Hello'>\n",
      "<re.Match object; span=(34, 39), match='Hello'>\n"
     ]
    }
   ],
   "source": [
    "#To get actual match objects, use the iterator:\n",
    "for match in re.finditer(pattern, text):\n",
    "    print(match)"
   ]
  },
  {
   "cell_type": "code",
   "execution_count": 79,
   "id": "96e5a079-7a03-4f91-a6c9-17917cb8d42f",
   "metadata": {},
   "outputs": [
    {
     "name": "stdout",
     "output_type": "stream",
     "text": [
      "(20, 25)\n",
      "(34, 39)\n"
     ]
    }
   ],
   "source": [
    "for match in re.finditer(pattern, text):\n",
    "    print(match.span())"
   ]
  },
  {
   "cell_type": "code",
   "execution_count": 81,
   "id": "86cbbfa7-cf7d-475f-b70f-8f0b337f3add",
   "metadata": {},
   "outputs": [
    {
     "name": "stdout",
     "output_type": "stream",
     "text": [
      "Hello\n",
      "Hello\n"
     ]
    }
   ],
   "source": [
    "for match in re.finditer(pattern, text):\n",
    "    print(match.group())"
   ]
  },
  {
   "cell_type": "code",
   "execution_count": null,
   "id": "5a8a5212-5b89-4494-98c4-a7a738b17d8d",
   "metadata": {},
   "outputs": [],
   "source": []
  }
 ],
 "metadata": {
  "kernelspec": {
   "display_name": "Python 3 (ipykernel)",
   "language": "python",
   "name": "python3"
  },
  "language_info": {
   "codemirror_mode": {
    "name": "ipython",
    "version": 3
   },
   "file_extension": ".py",
   "mimetype": "text/x-python",
   "name": "python",
   "nbconvert_exporter": "python",
   "pygments_lexer": "ipython3",
   "version": "3.12.7"
  }
 },
 "nbformat": 4,
 "nbformat_minor": 5
}
