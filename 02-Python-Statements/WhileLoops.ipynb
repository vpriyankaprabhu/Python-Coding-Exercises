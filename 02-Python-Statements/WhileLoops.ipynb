{
 "cells": [
  {
   "cell_type": "code",
   "execution_count": 3,
   "id": "d5db6cde-65fb-4184-b30e-f86e0414f19f",
   "metadata": {},
   "outputs": [
    {
     "ename": "NameError",
     "evalue": "name 'bool_condition' is not defined",
     "output_type": "error",
     "traceback": [
      "\u001b[0;31m---------------------------------------------------------------------------\u001b[0m",
      "\u001b[0;31mNameError\u001b[0m                                 Traceback (most recent call last)",
      "Cell \u001b[0;32mIn[3], line 2\u001b[0m\n\u001b[1;32m      1\u001b[0m \u001b[38;5;66;03m#while loop\u001b[39;00m\n\u001b[0;32m----> 2\u001b[0m \u001b[38;5;28;01mwhile\u001b[39;00m bool_condition:\n\u001b[1;32m      3\u001b[0m     \u001b[38;5;66;03m#do something\u001b[39;00m\n\u001b[1;32m      4\u001b[0m     \u001b[38;5;28mprint\u001b[39m(\u001b[38;5;28;01mTrue\u001b[39;00m)\n",
      "\u001b[0;31mNameError\u001b[0m: name 'bool_condition' is not defined"
     ]
    }
   ],
   "source": [
    "#while loop syntax\n",
    "while bool_condition:\n",
    "    #do something\n",
    "    print(True)"
   ]
  },
  {
   "cell_type": "code",
   "execution_count": 11,
   "id": "870932f1-26f4-4e14-a023-4aee4663d11a",
   "metadata": {},
   "outputs": [
    {
     "name": "stdout",
     "output_type": "stream",
     "text": [
      "0 is less than equal to 5\n",
      "1 is less than equal to 5\n",
      "2 is less than equal to 5\n",
      "3 is less than equal to 5\n",
      "4 is less than equal to 5\n",
      "5 is less than equal to 5\n",
      "6 is not less than equal to 5\n"
     ]
    }
   ],
   "source": [
    "x = 0\n",
    "while x<=5:\n",
    "    print(f'{x} is less than equal to 5')\n",
    "    x = x + 1\n",
    "else:\n",
    "    print(f'{x} is not less than equal to 5')"
   ]
  },
  {
   "cell_type": "code",
   "execution_count": 22,
   "id": "c74b33b9-ec6a-480e-a514-851f928f9937",
   "metadata": {},
   "outputs": [],
   "source": [
    "#break : breaks out of current enclosing loop\n",
    "#continue : continues to top of the enclosing loop and continues execution\n",
    "#pass does nothing - placeholder to avoid error in execution\n",
    "\n",
    "#for i in (1,2,3):\n",
    "    #comment\n",
    "\n",
    "#Here it expects a statement after : and indentation for loop\n",
    "#so here we can use pass to do nothing and no error will be encountered\n",
    "\n",
    "for i in (1,2,3):\n",
    "    #comment\n",
    "    pass"
   ]
  },
  {
   "cell_type": "code",
   "execution_count": 24,
   "id": "204cb0c8-4918-4526-a5de-b364277c36fb",
   "metadata": {},
   "outputs": [
    {
     "name": "stdout",
     "output_type": "stream",
     "text": [
      "2 is an even number\n",
      "4 is an even number\n",
      "6 is an even number\n"
     ]
    }
   ],
   "source": [
    "# usage of continue \n",
    "# print only even numbers\n",
    "\n",
    "mylist = [1,2,3,4,5,6,7]\n",
    "\n",
    "for n in mylist:\n",
    "    if ( n%2 == 0 ):\n",
    "        print(f'{n} is an even number')\n",
    "    else:\n",
    "        continue"
   ]
  },
  {
   "cell_type": "code",
   "execution_count": 26,
   "id": "ab1e52ef-6948-430d-ba45-614db5368194",
   "metadata": {},
   "outputs": [
    {
     "name": "stdout",
     "output_type": "stream",
     "text": [
      "1 is an odd number\n",
      "3 is an odd number\n",
      "5 is an odd number\n",
      "7 is an odd number\n"
     ]
    }
   ],
   "source": [
    "# usage of continue \n",
    "# print only odd numbers\n",
    "\n",
    "mylist = [1,2,3,4,5,6,7]\n",
    "\n",
    "for n in mylist:\n",
    "    if ( n%2 != 0 ):\n",
    "        print(f'{n} is an odd number')\n",
    "    else:\n",
    "        continue"
   ]
  },
  {
   "cell_type": "code",
   "execution_count": 28,
   "id": "a131bd16-ed93-4a27-89a9-689635784bb4",
   "metadata": {},
   "outputs": [
    {
     "name": "stdout",
     "output_type": "stream",
     "text": [
      "1\n",
      "2\n",
      "3\n"
     ]
    }
   ],
   "source": [
    "#usage of break \n",
    "#print only characters with no repetation from list\n",
    "mylist = [1,2,3,4,4,5]\n",
    "for i in mylist:\n",
    "    if i == 4:\n",
    "        break;\n",
    "    else:\n",
    "        print(i)"
   ]
  },
  {
   "cell_type": "code",
   "execution_count": null,
   "id": "073157f4-abf4-42fb-a719-fc5cbe53a56a",
   "metadata": {},
   "outputs": [],
   "source": []
  }
 ],
 "metadata": {
  "kernelspec": {
   "display_name": "Python 3 (ipykernel)",
   "language": "python",
   "name": "python3"
  },
  "language_info": {
   "codemirror_mode": {
    "name": "ipython",
    "version": 3
   },
   "file_extension": ".py",
   "mimetype": "text/x-python",
   "name": "python",
   "nbconvert_exporter": "python",
   "pygments_lexer": "ipython3",
   "version": "3.12.7"
  }
 },
 "nbformat": 4,
 "nbformat_minor": 5
}
