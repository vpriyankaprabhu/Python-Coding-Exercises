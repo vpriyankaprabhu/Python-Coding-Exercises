{
 "cells": [
  {
   "cell_type": "code",
   "execution_count": 30,
   "id": "86091cf0-e3d7-42b6-8700-37110911e991",
   "metadata": {},
   "outputs": [
    {
     "name": "stdout",
     "output_type": "stream",
     "text": [
      "1\n",
      "2\n",
      "3\n"
     ]
    }
   ],
   "source": [
    "#For loops iterate over iterables such as list, dict items or chars of string\n",
    "mylist = [1,2,3]\n",
    "for item in mylist:\n",
    "    print (item)"
   ]
  },
  {
   "cell_type": "code",
   "execution_count": 64,
   "id": "62971bba-fb2d-4519-b6be-fac4ef99ed9f",
   "metadata": {},
   "outputs": [
    {
     "name": "stdout",
     "output_type": "stream",
     "text": [
      "*\n",
      "**\n",
      "***\n",
      "****\n",
      "*****\n",
      "******\n"
     ]
    }
   ],
   "source": [
    "mylist = [1,2,3,4,5,6]\n",
    "for i in mylist:\n",
    "    print('*' * i)"
   ]
  },
  {
   "cell_type": "code",
   "execution_count": 66,
   "id": "4a2f06fa-6e60-4bd2-854e-dfa3eced98b0",
   "metadata": {},
   "outputs": [
    {
     "name": "stdout",
     "output_type": "stream",
     "text": [
      "******\n",
      "*****\n",
      "****\n",
      "***\n",
      "**\n",
      "*\n"
     ]
    }
   ],
   "source": [
    "mylist = [1,2,3,4,5,6]\n",
    "for i in mylist[::-1]:\n",
    "    print('*' * i)"
   ]
  },
  {
   "cell_type": "code",
   "execution_count": 68,
   "id": "4b210aa6-f1c5-44f8-b698-faec6d11f654",
   "metadata": {},
   "outputs": [
    {
     "name": "stdout",
     "output_type": "stream",
     "text": [
      "      *\n",
      "     **\n",
      "    ***\n",
      "   ****\n",
      "  *****\n",
      " ******\n"
     ]
    }
   ],
   "source": [
    "mylist = [1,2,3,4,5,6]\n",
    "index = 0\n",
    "for i in mylist:\n",
    "    print(' ' * (len(mylist)-index) + '*' * i)\n",
    "    index = index + 1"
   ]
  },
  {
   "cell_type": "code",
   "execution_count": 76,
   "id": "e5b539c1-c350-4636-879a-c16ae8d06e89",
   "metadata": {},
   "outputs": [
    {
     "name": "stdout",
     "output_type": "stream",
     "text": [
      "******\n",
      " *****\n",
      "  ****\n",
      "   ***\n",
      "    **\n",
      "     *\n"
     ]
    }
   ],
   "source": [
    "mylist = [1,2,3,4,5,6]\n",
    "index=len(mylist)\n",
    "for i in mylist[::-1]:\n",
    "    print(' ' * (len(mylist)-index)+'*' * i)\n",
    "    index = index - 1"
   ]
  },
  {
   "cell_type": "code",
   "execution_count": 98,
   "id": "cbd7fd9e-1fd6-41cb-96bd-d7d3ddac8307",
   "metadata": {},
   "outputs": [
    {
     "name": "stdout",
     "output_type": "stream",
     "text": [
      "0 \n",
      "1 1 \n",
      "2 2 2 \n",
      "3 3 3 3 \n",
      "4 4 4 4 4 \n",
      "5 5 5 5 5 5 \n"
     ]
    }
   ],
   "source": [
    "list1 = ['0','1','2','3','4','5']\n",
    "index = 1\n",
    "for i in list1:\n",
    "    print((i + \" \") *index)\n",
    "    index = index + 1"
   ]
  },
  {
   "cell_type": "code",
   "execution_count": 130,
   "id": "5f340ef0-a07e-44c2-b69c-6ec66ac8a099",
   "metadata": {},
   "outputs": [
    {
     "name": "stdout",
     "output_type": "stream",
     "text": [
      "     0 \n",
      "    1 1 \n",
      "   2 2 2 \n",
      "  3 3 3 3 \n",
      " 4 4 4 4 4 \n",
      "5 5 5 5 5 5 \n"
     ]
    }
   ],
   "source": [
    "list1 = ['0','1','2','3','4','5']\n",
    "index = len(list1)\n",
    "j=1\n",
    "for i in list1:\n",
    "    print(' ' * (len(list1) - j) + (i + \" \") * j)\n",
    "    index = index - 1\n",
    "    j=j+1"
   ]
  },
  {
   "cell_type": "code",
   "execution_count": 138,
   "id": "639bd1a5-8402-40c9-a88b-8f740b8a601e",
   "metadata": {},
   "outputs": [
    {
     "name": "stdout",
     "output_type": "stream",
     "text": [
      "     0\n",
      "    11\n",
      "   222\n",
      "  3333\n",
      " 44444\n",
      "555555\n"
     ]
    }
   ],
   "source": [
    "list1 = ['0','1','2','3','4','5']\n",
    "index = len(list1)\n",
    "j=1\n",
    "for i in list1:\n",
    "    print((' ' * (len(list1) - j)) + (i * j))\n",
    "    index = index - 1\n",
    "    j=j+1"
   ]
  },
  {
   "cell_type": "code",
   "execution_count": 146,
   "id": "ac42486f-cf6c-46e9-af02-53a64ebbdc71",
   "metadata": {},
   "outputs": [
    {
     "name": "stdout",
     "output_type": "stream",
     "text": [
      "0\n",
      "11\n",
      "222\n",
      "3333\n",
      "44444\n",
      "555555\n"
     ]
    }
   ],
   "source": [
    "list1 = ['0','1','2','3','4','5']\n",
    "index = 1\n",
    "for i in list1:\n",
    "    print(i * index)\n",
    "    index = index + 1\n"
   ]
  },
  {
   "cell_type": "code",
   "execution_count": 140,
   "id": "b9a2b515-f02a-40b2-88ed-4e32342a2894",
   "metadata": {},
   "outputs": [
    {
     "name": "stdout",
     "output_type": "stream",
     "text": [
      "     5\n",
      "    44\n",
      "   333\n",
      "  2222\n",
      " 11111\n",
      "000000\n"
     ]
    }
   ],
   "source": [
    "list1 = ['0','1','2','3','4','5']\n",
    "index = len(list1)\n",
    "j=1\n",
    "for i in list1[::-1]:\n",
    "    print((' ' * (len(list1) - j)) + (i * j))\n",
    "    index = index - 1\n",
    "    j=j+1"
   ]
  },
  {
   "cell_type": "code",
   "execution_count": 154,
   "id": "ac981a7b-d778-41c8-befe-2e0d5f0e02f2",
   "metadata": {},
   "outputs": [
    {
     "name": "stdout",
     "output_type": "stream",
     "text": [
      "1 is odd number\n",
      "2 is even number\n",
      "4 is even number\n",
      "5 is odd number\n",
      "3 is odd number\n",
      "7 is odd number\n",
      "8 is even number\n"
     ]
    }
   ],
   "source": [
    "#checking if even or odd number\n",
    "list1 = [1,2,4,5,3,7,8]\n",
    "\n",
    "for i in list1:\n",
    "    if(i%2 == 0):\n",
    "        print(f'{i} is even number')\n",
    "    else:\n",
    "        print(f'{i} is odd number')\n"
   ]
  },
  {
   "cell_type": "code",
   "execution_count": 156,
   "id": "1f53c8df-0301-46f7-8a58-ef903c7e8def",
   "metadata": {},
   "outputs": [
    {
     "name": "stdout",
     "output_type": "stream",
     "text": [
      "the sum of list elements : 30\n"
     ]
    }
   ],
   "source": [
    "#Find sum of list numbers or items\n",
    "list1 = [1,2,4,5,3,7,8]\n",
    "list_sum=0\n",
    "\n",
    "for i in list1:\n",
    "    list_sum = list_sum + i\n",
    "\n",
    "print(f'the sum of list elements : {list_sum}')"
   ]
  },
  {
   "cell_type": "code",
   "execution_count": 158,
   "id": "d1064fc1-801d-4dd6-9fd2-feaf480811b3",
   "metadata": {},
   "outputs": [
    {
     "name": "stdout",
     "output_type": "stream",
     "text": [
      "H\n",
      "e\n",
      "l\n",
      "l\n",
      "o\n",
      " \n",
      "W\n",
      "o\n",
      "r\n",
      "l\n",
      "d\n"
     ]
    }
   ],
   "source": [
    "#For strings we use for loop\n",
    "\n",
    "for i in 'Hello World':\n",
    "    print(i)"
   ]
  },
  {
   "cell_type": "code",
   "execution_count": 162,
   "id": "85386842-ff43-42a5-8e2a-04d8b093ba22",
   "metadata": {},
   "outputs": [
    {
     "name": "stdout",
     "output_type": "stream",
     "text": [
      "Cool!\n",
      "Cool!\n",
      "Cool!\n",
      "Cool!\n",
      "Cool!\n",
      "Cool!\n",
      "Cool!\n",
      "Cool!\n",
      "Cool!\n",
      "Cool!\n",
      "Cool!\n"
     ]
    }
   ],
   "source": [
    "#For strings we use for loop\n",
    "\n",
    "for i in 'Hello World':\n",
    "    print(\"Cool!\")\n",
    "\n",
    "#Here we printed cool instead of variable i. if this is required we can use _ instead of i in for loop as its default case\n",
    "#since the variable i is not used now as given below"
   ]
  },
  {
   "cell_type": "code",
   "execution_count": 164,
   "id": "7eae6977-226c-4b44-b4c3-2e5d10009b6f",
   "metadata": {},
   "outputs": [
    {
     "name": "stdout",
     "output_type": "stream",
     "text": [
      "Cool!\n",
      "Cool!\n",
      "Cool!\n",
      "Cool!\n",
      "Cool!\n",
      "Cool!\n",
      "Cool!\n",
      "Cool!\n",
      "Cool!\n",
      "Cool!\n",
      "Cool!\n"
     ]
    }
   ],
   "source": [
    "#For strings we use for loop\n",
    "\n",
    "for _ in 'Hello World':\n",
    "    print(\"Cool!\")"
   ]
  },
  {
   "cell_type": "code",
   "execution_count": 166,
   "id": "69d65060-6f43-4e07-a85d-13b42198d8af",
   "metadata": {},
   "outputs": [
    {
     "data": {
      "text/plain": [
       "3"
      ]
     },
     "execution_count": 166,
     "metadata": {},
     "output_type": "execute_result"
    }
   ],
   "source": [
    "#tuple unpacking as follows\n",
    "mylist=[(1,2),(2,3),(3,4)]\n",
    "len(mylist)"
   ]
  },
  {
   "cell_type": "code",
   "execution_count": 168,
   "id": "f6f69116-a87d-4534-936a-36096d71b72c",
   "metadata": {},
   "outputs": [
    {
     "name": "stdout",
     "output_type": "stream",
     "text": [
      "(1, 2)\n",
      "(2, 3)\n",
      "(3, 4)\n"
     ]
    }
   ],
   "source": [
    "for item in mylist:\n",
    "    print(item)"
   ]
  },
  {
   "cell_type": "code",
   "execution_count": 170,
   "id": "e1f5d02a-e600-4422-ac86-f39aa6e4977a",
   "metadata": {},
   "outputs": [
    {
     "name": "stdout",
     "output_type": "stream",
     "text": [
      "1\n",
      "2\n",
      "2\n",
      "3\n",
      "3\n",
      "4\n"
     ]
    }
   ],
   "source": [
    "#we can also use temp variables to store tuple values\n",
    "for (a,b) in mylist:\n",
    "    print(a)\n",
    "    print(b)"
   ]
  },
  {
   "cell_type": "code",
   "execution_count": 172,
   "id": "c9306d31-a9bf-4b73-8325-490457572cf1",
   "metadata": {},
   "outputs": [
    {
     "name": "stdout",
     "output_type": "stream",
     "text": [
      "1\n",
      "2\n",
      "2\n",
      "3\n",
      "3\n",
      "4\n"
     ]
    }
   ],
   "source": [
    "#we can also use temp variables to store tuple values\n",
    "for a,b in mylist:\n",
    "    print(a)\n",
    "    print(b)"
   ]
  },
  {
   "cell_type": "code",
   "execution_count": 174,
   "id": "bb49481c-a248-4e62-b9a4-b52d03cc8526",
   "metadata": {},
   "outputs": [
    {
     "name": "stdout",
     "output_type": "stream",
     "text": [
      "1\n",
      "2\n",
      "3\n"
     ]
    }
   ],
   "source": [
    "#we can also use temp variables to store tuple values\n",
    "for a,b in mylist:\n",
    "    print(a)\n"
   ]
  },
  {
   "cell_type": "code",
   "execution_count": 176,
   "id": "cb3d850a-d834-49f3-9164-adf43d92a98a",
   "metadata": {},
   "outputs": [
    {
     "name": "stdout",
     "output_type": "stream",
     "text": [
      "2\n",
      "3\n",
      "4\n"
     ]
    }
   ],
   "source": [
    "#we can also use temp variables to store tuple values\n",
    "for a,b in mylist:\n",
    "    print(b)"
   ]
  },
  {
   "cell_type": "code",
   "execution_count": 178,
   "id": "90a61ed4-1ac4-484b-afbe-87432b3e5914",
   "metadata": {},
   "outputs": [],
   "source": [
    "#these were examples of tuple unpacking"
   ]
  },
  {
   "cell_type": "code",
   "execution_count": 180,
   "id": "ec535d62-2d54-4f65-86e5-49a2c542ede8",
   "metadata": {},
   "outputs": [],
   "source": [
    "#now lets learn how to iterate through the dictionaries"
   ]
  },
  {
   "cell_type": "code",
   "execution_count": 182,
   "id": "06dfce1a-fc1d-4391-8464-48636fd2b524",
   "metadata": {},
   "outputs": [
    {
     "name": "stdout",
     "output_type": "stream",
     "text": [
      "k1\n",
      "k2\n",
      "k3\n"
     ]
    }
   ],
   "source": [
    "dict = {'k1':10,'k2':2,'k3':5}\n",
    "\n",
    "for i in dict:\n",
    "    print(i)\n",
    "\n",
    "#by default we can see dict prints only keys "
   ]
  },
  {
   "cell_type": "code",
   "execution_count": 184,
   "id": "1a29aa7a-3328-4591-bc83-6ffad10d5d12",
   "metadata": {},
   "outputs": [
    {
     "name": "stdout",
     "output_type": "stream",
     "text": [
      "('k1', 10)\n",
      "('k2', 2)\n",
      "('k3', 5)\n"
     ]
    }
   ],
   "source": [
    "# if we want to print full items\n",
    "for i in dict.items():\n",
    "    print(i)"
   ]
  },
  {
   "cell_type": "code",
   "execution_count": 188,
   "id": "f6118fcb-0d88-46f1-bddb-719afb8979c2",
   "metadata": {},
   "outputs": [
    {
     "name": "stdout",
     "output_type": "stream",
     "text": [
      "10\n",
      "2\n",
      "5\n"
     ]
    }
   ],
   "source": [
    "#only values\n",
    "for value in dict.values():\n",
    "    print(value)"
   ]
  },
  {
   "cell_type": "code",
   "execution_count": 190,
   "id": "0f5f6f65-ed48-4cfa-8d8e-862569b57ba6",
   "metadata": {},
   "outputs": [
    {
     "name": "stdout",
     "output_type": "stream",
     "text": [
      "k1\n",
      "k2\n",
      "k3\n"
     ]
    }
   ],
   "source": [
    "#only keys - 1st method\n",
    "dict = {'k1':10,'k2':2,'k3':5}\n",
    "\n",
    "for i in dict:\n",
    "    print(i)"
   ]
  },
  {
   "cell_type": "code",
   "execution_count": 192,
   "id": "f5266781-0d3e-4f95-a740-af244653502f",
   "metadata": {},
   "outputs": [
    {
     "name": "stdout",
     "output_type": "stream",
     "text": [
      "k1\n",
      "k2\n",
      "k3\n"
     ]
    }
   ],
   "source": [
    "#only keys - 2nd method\n",
    "dict = {'k1':10,'k2':2,'k3':5}\n",
    "\n",
    "for key in dict.keys():\n",
    "    print(key)"
   ]
  },
  {
   "cell_type": "code",
   "execution_count": 196,
   "id": "516dcfc4-5f43-4da0-865f-c4cc496f23ca",
   "metadata": {},
   "outputs": [
    {
     "name": "stdout",
     "output_type": "stream",
     "text": [
      "k1 : 10\n",
      "k2 : 2\n",
      "k3 : 5\n"
     ]
    }
   ],
   "source": [
    "#similar to tuple unpacking we can apply similar logic to dict too\n",
    "dict = {'k1':10,'k2':2,'k3':5}\n",
    "\n",
    "for key,value in dict.items():\n",
    "    print(f'{key} : {value}')"
   ]
  },
  {
   "cell_type": "code",
   "execution_count": null,
   "id": "de9619b2-13e2-44f3-be94-e50ef80a2a20",
   "metadata": {},
   "outputs": [],
   "source": []
  }
 ],
 "metadata": {
  "kernelspec": {
   "display_name": "Python 3 (ipykernel)",
   "language": "python",
   "name": "python3"
  },
  "language_info": {
   "codemirror_mode": {
    "name": "ipython",
    "version": 3
   },
   "file_extension": ".py",
   "mimetype": "text/x-python",
   "name": "python",
   "nbconvert_exporter": "python",
   "pygments_lexer": "ipython3",
   "version": "3.12.7"
  }
 },
 "nbformat": 4,
 "nbformat_minor": 5
}
