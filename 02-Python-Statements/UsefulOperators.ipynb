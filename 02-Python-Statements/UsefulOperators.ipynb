{
 "cells": [
  {
   "cell_type": "code",
   "execution_count": 1,
   "id": "864c299f-b664-4510-a968-90eb6bcef6f5",
   "metadata": {},
   "outputs": [],
   "source": [
    "# RANGE range()\n",
    "# Range function to get series of numbers or values to print or do some operation\n",
    "# range(start, stop (not including this stop number or value, step size)\n",
    "# range(0,10,1) i.e, 0,1,2,3,4,5,6,7,8,9"
   ]
  },
  {
   "cell_type": "code",
   "execution_count": 1,
   "id": "e1c40595-6de6-473a-adde-dd6dfd1e1b97",
   "metadata": {},
   "outputs": [
    {
     "name": "stdout",
     "output_type": "stream",
     "text": [
      "0\n",
      "1\n",
      "2\n",
      "3\n",
      "4\n",
      "5\n",
      "6\n",
      "7\n",
      "8\n",
      "9\n"
     ]
    }
   ],
   "source": [
    "for i in range(10):\n",
    "    print(i)\n"
   ]
  },
  {
   "cell_type": "code",
   "execution_count": 3,
   "id": "15dfa1fc-5b73-4921-b874-ad9eec6de33a",
   "metadata": {},
   "outputs": [
    {
     "name": "stdout",
     "output_type": "stream",
     "text": [
      "3\n",
      "4\n",
      "5\n",
      "6\n",
      "7\n",
      "8\n",
      "9\n"
     ]
    }
   ],
   "source": [
    "for i in range(3,10,1):\n",
    "    print(i)"
   ]
  },
  {
   "cell_type": "code",
   "execution_count": 5,
   "id": "4a4237c9-9677-4f96-b283-b9b1b6b02d1b",
   "metadata": {},
   "outputs": [
    {
     "name": "stdout",
     "output_type": "stream",
     "text": [
      "0\n",
      "2\n",
      "4\n",
      "6\n",
      "8\n",
      "10\n"
     ]
    }
   ],
   "source": [
    "#print even numbers\n",
    "for i in range(0,11,2):\n",
    "    print(i)"
   ]
  },
  {
   "cell_type": "code",
   "execution_count": 9,
   "id": "6847658c-a0eb-42a4-b2ad-41f880a9822c",
   "metadata": {},
   "outputs": [
    {
     "data": {
      "text/plain": [
       "range(0, 11, 2)"
      ]
     },
     "execution_count": 9,
     "metadata": {},
     "output_type": "execute_result"
    }
   ],
   "source": [
    "range(0,11,2) # is a generator and not print values"
   ]
  },
  {
   "cell_type": "code",
   "execution_count": 11,
   "id": "8e918bea-9acf-4a10-9569-b3f71902328f",
   "metadata": {},
   "outputs": [
    {
     "data": {
      "text/plain": [
       "[0, 2, 4, 6, 8, 10]"
      ]
     },
     "execution_count": 11,
     "metadata": {},
     "output_type": "execute_result"
    }
   ],
   "source": [
    "list(range(0,11,2)) # now it returns a list of values"
   ]
  },
  {
   "cell_type": "code",
   "execution_count": 13,
   "id": "2949bd9f-8995-4414-88ce-44a64712916b",
   "metadata": {},
   "outputs": [],
   "source": [
    "#Generator special function which will generate required information in python which will not save values in memory"
   ]
  },
  {
   "cell_type": "code",
   "execution_count": 7,
   "id": "ff0eba06-8ab8-4139-aeea-330fa3ee6101",
   "metadata": {},
   "outputs": [],
   "source": [
    "#See why we need enumerate function"
   ]
  },
  {
   "cell_type": "code",
   "execution_count": 11,
   "id": "e4f438cd-0141-4b6f-86e3-7688e456ca28",
   "metadata": {},
   "outputs": [
    {
     "name": "stdout",
     "output_type": "stream",
     "text": [
      "At index 0 we have letter h\n",
      "At index 1 we have letter e\n",
      "At index 2 we have letter l\n",
      "At index 3 we have letter l\n",
      "At index 4 we have letter o\n"
     ]
    }
   ],
   "source": [
    "str = \"hello\"\n",
    "index = 0\n",
    "\n",
    "for i in str:\n",
    "    print('At index {} we have letter {}'.format(index, i))\n",
    "    index += 1\n",
    "    "
   ]
  },
  {
   "cell_type": "code",
   "execution_count": 13,
   "id": "95fd2f46-38c2-4add-81f3-580dffadddd7",
   "metadata": {},
   "outputs": [],
   "source": [
    "#So with this we were able to get index value and the character/letter value using index parameter in for loop"
   ]
  },
  {
   "cell_type": "code",
   "execution_count": 19,
   "id": "f3acb42a-bd02-46dc-b8b7-617fd0127b57",
   "metadata": {},
   "outputs": [
    {
     "name": "stdout",
     "output_type": "stream",
     "text": [
      "(0, 'h')\n",
      "(1, 'e')\n",
      "(2, 'l')\n",
      "(3, 'l')\n",
      "(4, 'o')\n"
     ]
    }
   ],
   "source": [
    "# ENUMERATE enumerate() - it takes iterable value and gives index and iterable item for execution\n",
    "# helps to get this index count of the letter in the for loop in the form of tuples and \n",
    "# then it can be unpacked using tuples unpacking\n",
    "\n",
    "str = \"hello\"\n",
    "\n",
    "for item in enumerate(str):\n",
    "    print(item)"
   ]
  },
  {
   "cell_type": "code",
   "execution_count": 17,
   "id": "53bffd77-048a-494b-97da-cfb190e47a37",
   "metadata": {},
   "outputs": [
    {
     "name": "stdout",
     "output_type": "stream",
     "text": [
      "At index 0 we have letter h\n",
      "At index 1 we have letter e\n",
      "At index 2 we have letter l\n",
      "At index 3 we have letter l\n",
      "At index 4 we have letter o\n"
     ]
    }
   ],
   "source": [
    "#we can tuples as output with first is index and next is letter value\n",
    "#Now we will see tuple unpacking part\n",
    "\n",
    "str = \"hello\"\n",
    "\n",
    "for index,letter in enumerate(str):\n",
    "    print('At index {} we have letter {}'.format(index, letter))"
   ]
  },
  {
   "cell_type": "code",
   "execution_count": 23,
   "id": "82c65b0d-7d14-48df-ac9c-80e7359e155a",
   "metadata": {},
   "outputs": [
    {
     "name": "stdout",
     "output_type": "stream",
     "text": [
      "(1, 'a')\n",
      "(2, 'b')\n",
      "(3, 'c')\n"
     ]
    }
   ],
   "source": [
    "# ZIP function - opposite of enumerate\n",
    "#It zips two lists together in form of tuples\n",
    "mylist1 = [1,2,3]\n",
    "mylist2 = ['a','b','c']\n",
    "for item in zip(mylist1, mylist2):\n",
    "    print(item)"
   ]
  },
  {
   "cell_type": "code",
   "execution_count": 25,
   "id": "6233cb0f-fc7b-4bcc-838d-eafbf4a591a2",
   "metadata": {},
   "outputs": [
    {
     "data": {
      "text/plain": [
       "<zip at 0x11f223780>"
      ]
     },
     "execution_count": 25,
     "metadata": {},
     "output_type": "execute_result"
    }
   ],
   "source": [
    "zip(mylist1, mylist2)"
   ]
  },
  {
   "cell_type": "code",
   "execution_count": 27,
   "id": "e0f68ac8-f41a-47c9-a410-3648757dc40a",
   "metadata": {},
   "outputs": [],
   "source": [
    "#returns zip function location where its ready in memory"
   ]
  },
  {
   "cell_type": "code",
   "execution_count": 29,
   "id": "47b506b4-76bf-48a3-959d-f8f1c0d2e032",
   "metadata": {},
   "outputs": [
    {
     "data": {
      "text/plain": [
       "[(1, 'a'), (2, 'b'), (3, 'c')]"
      ]
     },
     "execution_count": 29,
     "metadata": {},
     "output_type": "execute_result"
    }
   ],
   "source": [
    "list(zip(mylist1, mylist2))"
   ]
  },
  {
   "cell_type": "code",
   "execution_count": 31,
   "id": "f90866c5-d118-47c3-81e8-118b059e2cdb",
   "metadata": {},
   "outputs": [
    {
     "name": "stdout",
     "output_type": "stream",
     "text": [
      "(1, 'a', 'x')\n",
      "(2, 'b', 'y')\n",
      "(3, 'c', 'z')\n"
     ]
    }
   ],
   "source": [
    "# you can also do it more than two lists too\n",
    "mylist3 = ['x','y','z']\n",
    "\n",
    "for item in zip(mylist1, mylist2, mylist3):\n",
    "    print(item)"
   ]
  },
  {
   "cell_type": "code",
   "execution_count": 33,
   "id": "e10dda30-b591-4d2e-9912-99c61627ea18",
   "metadata": {},
   "outputs": [
    {
     "name": "stdout",
     "output_type": "stream",
     "text": [
      "(1, 10, 'a')\n",
      "(2, 20, 'b')\n",
      "(3, 30, 'c')\n"
     ]
    }
   ],
   "source": [
    "# now wat if they have ineven list contents\n",
    "# zip function will consider shortest of the list and zips them together , rest values are all ignored from list\n",
    "\n",
    "mylist1 = [1,2,3,4,5,6]\n",
    "mylist2 = [10,20,30,40,50]\n",
    "mylist3 = ['a', 'b', 'c']\n",
    "\n",
    "for item in zip(mylist1, mylist2, mylist3):\n",
    "    print(item)"
   ]
  },
  {
   "cell_type": "code",
   "execution_count": 35,
   "id": "19b4bfbe-4a15-4748-a2e7-91316794bf2f",
   "metadata": {},
   "outputs": [
    {
     "data": {
      "text/plain": [
       "[(1, 10, 'a'), (2, 20, 'b'), (3, 30, 'c')]"
      ]
     },
     "execution_count": 35,
     "metadata": {},
     "output_type": "execute_result"
    }
   ],
   "source": [
    "list(zip(mylist1, mylist2, mylist3))"
   ]
  },
  {
   "cell_type": "code",
   "execution_count": 43,
   "id": "63f45d48-a165-4d35-b6bf-9714c1662282",
   "metadata": {},
   "outputs": [
    {
     "name": "stdout",
     "output_type": "stream",
     "text": [
      "1 10 a\n",
      "2 20 b\n",
      "3 30 c\n"
     ]
    }
   ],
   "source": [
    "mylist1 = [1,2,3,4,5,6]\n",
    "mylist2 = [10,20,30,40,50]\n",
    "mylist3 = ['a', 'b', 'c']\n",
    "\n",
    "for l1, l2,l3 in zip(mylist1, mylist2, mylist3):\n",
    "    print(l1 , l2 , l3)"
   ]
  },
  {
   "cell_type": "code",
   "execution_count": 51,
   "id": "3d04977e-9e6d-4fca-b267-913895bc2d3d",
   "metadata": {},
   "outputs": [
    {
     "data": {
      "text/plain": [
       "True"
      ]
     },
     "execution_count": 51,
     "metadata": {},
     "output_type": "execute_result"
    }
   ],
   "source": [
    "# in operator uses\n",
    "#quick way to check if something is in the list\n",
    "'x' in [1,2,3,'x']"
   ]
  },
  {
   "cell_type": "code",
   "execution_count": 53,
   "id": "497438fb-a61c-4113-83c9-4176d099f9a2",
   "metadata": {},
   "outputs": [
    {
     "data": {
      "text/plain": [
       "False"
      ]
     },
     "execution_count": 53,
     "metadata": {},
     "output_type": "execute_result"
    }
   ],
   "source": [
    "4 in [1,2,3,'x']"
   ]
  },
  {
   "cell_type": "code",
   "execution_count": 55,
   "id": "f43180f8-afbb-40a0-8697-563cd6a98226",
   "metadata": {},
   "outputs": [
    {
     "data": {
      "text/plain": [
       "True"
      ]
     },
     "execution_count": 55,
     "metadata": {},
     "output_type": "execute_result"
    }
   ],
   "source": [
    "'a' in 'a image'"
   ]
  },
  {
   "cell_type": "code",
   "execution_count": 61,
   "id": "eee58889-c3e5-4844-b34c-7131b3d5d745",
   "metadata": {},
   "outputs": [
    {
     "data": {
      "text/plain": [
       "True"
      ]
     },
     "execution_count": 61,
     "metadata": {},
     "output_type": "execute_result"
    }
   ],
   "source": [
    "# check in dictionary\n",
    "'mykey' in { 'k1':1, 'mykey':2, 'k2': 3}"
   ]
  },
  {
   "cell_type": "code",
   "execution_count": 63,
   "id": "03bd71c3-513c-4cc3-aae6-6bd03330ecba",
   "metadata": {},
   "outputs": [
    {
     "data": {
      "text/plain": [
       "False"
      ]
     },
     "execution_count": 63,
     "metadata": {},
     "output_type": "execute_result"
    }
   ],
   "source": [
    "'k3' in { 'k1':1, 'mykey':2, 'k2': 3}"
   ]
  },
  {
   "cell_type": "code",
   "execution_count": 67,
   "id": "4a4c2b05-61e0-43ce-bac9-ce7e6e606364",
   "metadata": {},
   "outputs": [
    {
     "data": {
      "text/plain": [
       "True"
      ]
     },
     "execution_count": 67,
     "metadata": {},
     "output_type": "execute_result"
    }
   ],
   "source": [
    "# to check values we can use its built in function in dictionaries\n",
    "d = { 'k1':1, 'mykey':2, 'k2': 3}\n",
    "2 in d.values() "
   ]
  },
  {
   "cell_type": "code",
   "execution_count": 69,
   "id": "a828d866-d16d-4ca1-b944-718bb53aa281",
   "metadata": {},
   "outputs": [
    {
     "data": {
      "text/plain": [
       "False"
      ]
     },
     "execution_count": 69,
     "metadata": {},
     "output_type": "execute_result"
    }
   ],
   "source": [
    "123 in d.values() "
   ]
  },
  {
   "cell_type": "code",
   "execution_count": 71,
   "id": "9bad2172-b5fb-4fd6-ba5f-339771635f92",
   "metadata": {},
   "outputs": [
    {
     "data": {
      "text/plain": [
       "False"
      ]
     },
     "execution_count": 71,
     "metadata": {},
     "output_type": "execute_result"
    }
   ],
   "source": [
    "'k3' in d.keys()"
   ]
  },
  {
   "cell_type": "code",
   "execution_count": 73,
   "id": "03e734cf-f65f-4906-8106-7d043bb3d076",
   "metadata": {},
   "outputs": [
    {
     "data": {
      "text/plain": [
       "True"
      ]
     },
     "execution_count": 73,
     "metadata": {},
     "output_type": "execute_result"
    }
   ],
   "source": [
    "'mykey' in d.keys()"
   ]
  },
  {
   "cell_type": "code",
   "execution_count": 81,
   "id": "8fafb5fb-306e-4bfd-ab17-96f9a7f10c4c",
   "metadata": {},
   "outputs": [
    {
     "data": {
      "text/plain": [
       "10"
      ]
     },
     "execution_count": 81,
     "metadata": {},
     "output_type": "execute_result"
    }
   ],
   "source": [
    "# Built in Math related functions\n",
    "mylist = [10,20,99,1000]\n",
    "\n",
    "min(mylist) # gives u minimum value from list"
   ]
  },
  {
   "cell_type": "code",
   "execution_count": 85,
   "id": "2a32370d-9c3a-4126-966a-1cbdf3b84d70",
   "metadata": {},
   "outputs": [
    {
     "data": {
      "text/plain": [
       "1000"
      ]
     },
     "execution_count": 85,
     "metadata": {},
     "output_type": "execute_result"
    }
   ],
   "source": [
    "max(mylist) # gives u maximum value from list"
   ]
  },
  {
   "cell_type": "code",
   "execution_count": 89,
   "id": "f0009f48-ddc1-4ff0-9108-5bfb534af902",
   "metadata": {},
   "outputs": [
    {
     "name": "stdout",
     "output_type": "stream",
     "text": [
      "None\n"
     ]
    }
   ],
   "source": [
    "# import functions from python library \n",
    "from random import shuffle # from random library import shuffle function\n",
    "#shuffle randomly shuffles around the list given\n",
    "\n",
    "mylist = [1,2,3,4,5]\n",
    "print(shuffle(mylist))"
   ]
  },
  {
   "cell_type": "code",
   "execution_count": 93,
   "id": "4a95c480-13d9-4ab8-8184-7f9f1f818cff",
   "metadata": {},
   "outputs": [
    {
     "data": {
      "text/plain": [
       "[4, 3, 2, 5, 1]"
      ]
     },
     "execution_count": 93,
     "metadata": {},
     "output_type": "execute_result"
    }
   ],
   "source": [
    "#shuffle function doesnt return anything it randomly does in place shuffling of list, inplace function\n",
    "shuffle(mylist)\n",
    "mylist"
   ]
  },
  {
   "cell_type": "code",
   "execution_count": 95,
   "id": "1e77c11a-318d-4a2f-8fdb-485c1db9ebc6",
   "metadata": {},
   "outputs": [
    {
     "data": {
      "text/plain": [
       "[2, 4, 1, 3, 5]"
      ]
     },
     "execution_count": 95,
     "metadata": {},
     "output_type": "execute_result"
    }
   ],
   "source": [
    "shuffle(mylist)\n",
    "mylist"
   ]
  },
  {
   "cell_type": "code",
   "execution_count": 97,
   "id": "dbfeaf0d-f242-42b1-bce3-a030f00fce0b",
   "metadata": {},
   "outputs": [
    {
     "data": {
      "text/plain": [
       "50"
      ]
     },
     "execution_count": 97,
     "metadata": {},
     "output_type": "execute_result"
    }
   ],
   "source": [
    "# now if we want to generate random integer we can do it using randint function\n",
    "\n",
    "from random import randint\n",
    "\n",
    "randint(0,100)"
   ]
  },
  {
   "cell_type": "code",
   "execution_count": 99,
   "id": "f3e66abb-4a67-42f7-b1fd-30ea4e4fd6fc",
   "metadata": {},
   "outputs": [
    {
     "data": {
      "text/plain": [
       "16"
      ]
     },
     "execution_count": 99,
     "metadata": {},
     "output_type": "execute_result"
    }
   ],
   "source": [
    "randint(0,100)"
   ]
  },
  {
   "cell_type": "code",
   "execution_count": 101,
   "id": "6c6c8642-59af-4b2e-8aa7-92cca5fa2fc9",
   "metadata": {},
   "outputs": [],
   "source": [
    "# we can save output from this fucntion as it return value\n",
    "rand_integer = randint(0,1000)"
   ]
  },
  {
   "cell_type": "code",
   "execution_count": 103,
   "id": "d069be40-5146-455a-869b-e1f6b7b6b5e9",
   "metadata": {},
   "outputs": [
    {
     "data": {
      "text/plain": [
       "483"
      ]
     },
     "execution_count": 103,
     "metadata": {},
     "output_type": "execute_result"
    }
   ],
   "source": [
    "rand_integer"
   ]
  },
  {
   "cell_type": "code",
   "execution_count": 105,
   "id": "471b39c6-45d5-4384-89d7-53daf177297f",
   "metadata": {},
   "outputs": [
    {
     "data": {
      "text/plain": [
       "881"
      ]
     },
     "execution_count": 105,
     "metadata": {},
     "output_type": "execute_result"
    }
   ],
   "source": [
    "rand_integer = randint(0,1000)\n",
    "rand_integer"
   ]
  },
  {
   "cell_type": "code",
   "execution_count": 107,
   "id": "93255b01-06b8-4789-b255-e8f32514ce0c",
   "metadata": {},
   "outputs": [
    {
     "name": "stdin",
     "output_type": "stream",
     "text": [
      "Enter the value:  10\n"
     ]
    },
    {
     "data": {
      "text/plain": [
       "'10'"
      ]
     },
     "execution_count": 107,
     "metadata": {},
     "output_type": "execute_result"
    }
   ],
   "source": [
    "# How to take input from users ?? using input function\n",
    "\n",
    "input(\"Enter the value: \")"
   ]
  },
  {
   "cell_type": "code",
   "execution_count": 109,
   "id": "767a2e4c-9902-4915-a721-556e742660bb",
   "metadata": {},
   "outputs": [
    {
     "name": "stdin",
     "output_type": "stream",
     "text": [
      "What is your name?  Priyanka\n"
     ]
    }
   ],
   "source": [
    "name = input(\"What is your name? \")"
   ]
  },
  {
   "cell_type": "code",
   "execution_count": 111,
   "id": "d63074e8-fe88-496d-811d-3896ad514488",
   "metadata": {},
   "outputs": [
    {
     "data": {
      "text/plain": [
       "'Priyanka'"
      ]
     },
     "execution_count": 111,
     "metadata": {},
     "output_type": "execute_result"
    }
   ],
   "source": [
    "name"
   ]
  },
  {
   "cell_type": "code",
   "execution_count": 115,
   "id": "fac34dcc-1ea6-4c6e-ab8a-70b22bf507a8",
   "metadata": {},
   "outputs": [
    {
     "name": "stdin",
     "output_type": "stream",
     "text": [
      "What is your age? 10\n"
     ]
    }
   ],
   "source": [
    "result = input(\"What is your age?\")"
   ]
  },
  {
   "cell_type": "code",
   "execution_count": 117,
   "id": "810879b4-db37-4620-809e-576ca85230da",
   "metadata": {},
   "outputs": [
    {
     "data": {
      "text/plain": [
       "'10'"
      ]
     },
     "execution_count": 117,
     "metadata": {},
     "output_type": "execute_result"
    }
   ],
   "source": [
    "result"
   ]
  },
  {
   "cell_type": "code",
   "execution_count": 119,
   "id": "fa184485-d5ab-4307-b4a5-9e68ede33228",
   "metadata": {},
   "outputs": [
    {
     "data": {
      "text/plain": [
       "str"
      ]
     },
     "execution_count": 119,
     "metadata": {},
     "output_type": "execute_result"
    }
   ],
   "source": [
    "# here result is string value of 10 input given by user\n",
    "type(result)"
   ]
  },
  {
   "cell_type": "code",
   "execution_count": 121,
   "id": "f12529ba-7aa0-47df-ae39-1ca73f37d5cd",
   "metadata": {},
   "outputs": [
    {
     "data": {
      "text/plain": [
       "10.0"
      ]
     },
     "execution_count": 121,
     "metadata": {},
     "output_type": "execute_result"
    }
   ],
   "source": [
    "# to convert or cast it to integer\n",
    "float(result)"
   ]
  },
  {
   "cell_type": "code",
   "execution_count": 123,
   "id": "e8219522-dfce-4a01-b6e0-4706cfa52345",
   "metadata": {},
   "outputs": [
    {
     "data": {
      "text/plain": [
       "10"
      ]
     },
     "execution_count": 123,
     "metadata": {},
     "output_type": "execute_result"
    }
   ],
   "source": [
    "#or using int()\n",
    "int(result)"
   ]
  },
  {
   "cell_type": "code",
   "execution_count": 125,
   "id": "a2df337b-1777-41e3-b3f5-fad0a80b9b49",
   "metadata": {},
   "outputs": [
    {
     "name": "stdin",
     "output_type": "stream",
     "text": [
      "What is your favorite number: 100\n"
     ]
    },
    {
     "data": {
      "text/plain": [
       "100"
      ]
     },
     "execution_count": 125,
     "metadata": {},
     "output_type": "execute_result"
    }
   ],
   "source": [
    "# or we can do is this\n",
    "number = int(input('What is your favorite number:'))\n",
    "number"
   ]
  },
  {
   "cell_type": "code",
   "execution_count": 127,
   "id": "d2b4294c-f269-4d29-813b-1639adcfe7b6",
   "metadata": {},
   "outputs": [
    {
     "data": {
      "text/plain": [
       "int"
      ]
     },
     "execution_count": 127,
     "metadata": {},
     "output_type": "execute_result"
    }
   ],
   "source": [
    "type(number)"
   ]
  },
  {
   "cell_type": "code",
   "execution_count": null,
   "id": "763ceeef-19cd-47af-a9d8-2a1829e6dcc2",
   "metadata": {},
   "outputs": [],
   "source": []
  }
 ],
 "metadata": {
  "kernelspec": {
   "display_name": "Python 3 (ipykernel)",
   "language": "python",
   "name": "python3"
  },
  "language_info": {
   "codemirror_mode": {
    "name": "ipython",
    "version": 3
   },
   "file_extension": ".py",
   "mimetype": "text/x-python",
   "name": "python",
   "nbconvert_exporter": "python",
   "pygments_lexer": "ipython3",
   "version": "3.12.7"
  }
 },
 "nbformat": 4,
 "nbformat_minor": 5
}
