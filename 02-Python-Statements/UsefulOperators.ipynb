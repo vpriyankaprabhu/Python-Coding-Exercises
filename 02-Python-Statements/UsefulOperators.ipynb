{
 "cells": [
  {
   "cell_type": "code",
   "execution_count": 1,
   "id": "864c299f-b664-4510-a968-90eb6bcef6f5",
   "metadata": {},
   "outputs": [],
   "source": [
    "#Range function to get series of numbers or values to print or do some operation\n",
    "# range(start, stop (not including this stop number or value, step size)\n",
    "# range(0,10,1) i.e, 0,1,2,3,4,5,6,7,8,9"
   ]
  },
  {
   "cell_type": "code",
   "execution_count": 3,
   "id": "15dfa1fc-5b73-4921-b874-ad9eec6de33a",
   "metadata": {},
   "outputs": [
    {
     "name": "stdout",
     "output_type": "stream",
     "text": [
      "0\n",
      "1\n",
      "2\n",
      "3\n",
      "4\n",
      "5\n",
      "6\n",
      "7\n",
      "8\n",
      "9\n"
     ]
    }
   ],
   "source": [
    "for i in range(0,10,1):\n",
    "    print(i)"
   ]
  },
  {
   "cell_type": "code",
   "execution_count": 7,
   "id": "4a4237c9-9677-4f96-b283-b9b1b6b02d1b",
   "metadata": {},
   "outputs": [
    {
     "name": "stdout",
     "output_type": "stream",
     "text": [
      "0\n",
      "2\n",
      "4\n",
      "6\n",
      "8\n",
      "10\n"
     ]
    }
   ],
   "source": [
    "#print even numbers\n",
    "for i in range(0,11,2):\n",
    "    print(i)"
   ]
  },
  {
   "cell_type": "code",
   "execution_count": 9,
   "id": "6847658c-a0eb-42a4-b2ad-41f880a9822c",
   "metadata": {},
   "outputs": [
    {
     "data": {
      "text/plain": [
       "range(0, 11, 2)"
      ]
     },
     "execution_count": 9,
     "metadata": {},
     "output_type": "execute_result"
    }
   ],
   "source": [
    "range(0,11,2) # is a generator and not print values"
   ]
  },
  {
   "cell_type": "code",
   "execution_count": 11,
   "id": "8e918bea-9acf-4a10-9569-b3f71902328f",
   "metadata": {},
   "outputs": [
    {
     "data": {
      "text/plain": [
       "[0, 2, 4, 6, 8, 10]"
      ]
     },
     "execution_count": 11,
     "metadata": {},
     "output_type": "execute_result"
    }
   ],
   "source": [
    "list(range(0,11,2)) # now it returns a list of values"
   ]
  },
  {
   "cell_type": "code",
   "execution_count": 13,
   "id": "2949bd9f-8995-4414-88ce-44a64712916b",
   "metadata": {},
   "outputs": [],
   "source": [
    "#Generator special function which will generate required information in python which will not save values in memory"
   ]
  },
  {
   "cell_type": "code",
   "execution_count": null,
   "id": "e1c40595-6de6-473a-adde-dd6dfd1e1b97",
   "metadata": {},
   "outputs": [],
   "source": [
    "#ENUMERATE"
   ]
  }
 ],
 "metadata": {
  "kernelspec": {
   "display_name": "Python 3 (ipykernel)",
   "language": "python",
   "name": "python3"
  },
  "language_info": {
   "codemirror_mode": {
    "name": "ipython",
    "version": 3
   },
   "file_extension": ".py",
   "mimetype": "text/x-python",
   "name": "python",
   "nbconvert_exporter": "python",
   "pygments_lexer": "ipython3",
   "version": "3.12.7"
  }
 },
 "nbformat": 4,
 "nbformat_minor": 5
}
