{
 "cells": [
  {
   "cell_type": "markdown",
   "metadata": {},
   "source": [
    "___\n",
    "\n",
    "<a href='https://www.udemy.com/user/joseportilla/'><img src='../Pierian_Data_Logo.png'/></a>\n",
    "___\n",
    "<center><em>Content Copyright by Pierian Data</em></center>"
   ]
  },
  {
   "cell_type": "markdown",
   "metadata": {
    "collapsed": true,
    "jupyter": {
     "outputs_hidden": true
    }
   },
   "source": [
    "# Statements Assessment Test\n",
    "Let's test your knowledge!"
   ]
  },
  {
   "cell_type": "markdown",
   "metadata": {},
   "source": [
    "_____\n",
    "**Use <code>for</code>, .split(), and <code>if</code> to create a Statement that will print out words that start with 's':**"
   ]
  },
  {
   "cell_type": "code",
   "execution_count": null,
   "metadata": {},
   "outputs": [],
   "source": [
    "st = 'Print only the words that start with s in this sentence'"
   ]
  },
  {
   "cell_type": "code",
   "execution_count": 47,
   "metadata": {},
   "outputs": [
    {
     "name": "stdout",
     "output_type": "stream",
     "text": [
      "start\n",
      "s\n",
      "sentence\n"
     ]
    }
   ],
   "source": [
    "#Code here\n",
    "st = 'Print only the words that start with s in this sentence'\n",
    "mylist = st.split(' ')\n",
    "\n",
    "for item in mylist:\n",
    "    if ('s'==item[0].lower()):\n",
    "        print(item)"
   ]
  },
  {
   "cell_type": "markdown",
   "metadata": {},
   "source": [
    "______\n",
    "**Use range() to print all the even numbers from 0 to 10.**"
   ]
  },
  {
   "cell_type": "code",
   "execution_count": 49,
   "metadata": {},
   "outputs": [
    {
     "name": "stdout",
     "output_type": "stream",
     "text": [
      "0\n",
      "2\n",
      "4\n",
      "6\n",
      "8\n",
      "10\n"
     ]
    }
   ],
   "source": [
    "#Code Here\n",
    "for i in range(0,11,2):\n",
    "    print(i)"
   ]
  },
  {
   "cell_type": "code",
   "execution_count": 51,
   "metadata": {},
   "outputs": [
    {
     "data": {
      "text/plain": [
       "[0, 2, 4, 6, 8]"
      ]
     },
     "execution_count": 51,
     "metadata": {},
     "output_type": "execute_result"
    }
   ],
   "source": [
    "list(range(0,10,2))"
   ]
  },
  {
   "cell_type": "code",
   "execution_count": 53,
   "metadata": {},
   "outputs": [
    {
     "data": {
      "text/plain": [
       "[0, 2, 4, 6, 8]"
      ]
     },
     "execution_count": 53,
     "metadata": {},
     "output_type": "execute_result"
    }
   ],
   "source": [
    "[num for num in range(0,10,2)]"
   ]
  },
  {
   "cell_type": "markdown",
   "metadata": {},
   "source": [
    "___\n",
    "**Use a List Comprehension to create a list of all numbers between 1 and 50 that are divisible by 3.**"
   ]
  },
  {
   "cell_type": "code",
   "execution_count": 55,
   "metadata": {},
   "outputs": [
    {
     "data": {
      "text/plain": [
       "[3, 6, 9, 12, 15, 18, 21, 24, 27, 30, 33, 36, 39, 42, 45, 48]"
      ]
     },
     "execution_count": 55,
     "metadata": {},
     "output_type": "execute_result"
    }
   ],
   "source": [
    "#Code in this cell\n",
    "[ n for n in range(1,51) if n%3 == 0]"
   ]
  },
  {
   "cell_type": "markdown",
   "metadata": {},
   "source": [
    "_____\n",
    "**Go through the string below and if the length of a word is even print \"even!\"**"
   ]
  },
  {
   "cell_type": "code",
   "execution_count": null,
   "metadata": {
    "collapsed": true,
    "jupyter": {
     "outputs_hidden": true
    }
   },
   "outputs": [],
   "source": [
    "st = 'Print every word in this sentence that has an even number of letters'"
   ]
  },
  {
   "cell_type": "code",
   "execution_count": 23,
   "metadata": {},
   "outputs": [
    {
     "name": "stdout",
     "output_type": "stream",
     "text": [
      "word  ==> even\n",
      "in  ==> even\n",
      "this  ==> even\n",
      "sentence  ==> even\n",
      "that  ==> even\n",
      "an  ==> even\n",
      "even  ==> even\n",
      "number  ==> even\n",
      "of  ==> even\n"
     ]
    }
   ],
   "source": [
    "#Code in this cell\n",
    "st = 'Print every word in this sentence that has an even number of letters'\n",
    "mylist = st.split(\" \")\n",
    "\n",
    "for item in mylist:\n",
    "    if len(item)%2 == 0:\n",
    "        print(item , \" ==> even\")"
   ]
  },
  {
   "cell_type": "code",
   "execution_count": 33,
   "metadata": {},
   "outputs": [
    {
     "name": "stdout",
     "output_type": "stream",
     "text": [
      "['word ==> even', 'in ==> even', 'this ==> even', 'sentence ==> even', 'that ==> even', 'an ==> even', 'even ==> even', 'number ==> even', 'of ==> even']\n"
     ]
    }
   ],
   "source": [
    "print([item + \" ==> even\" for item in mylist if len(item) % 2 == 0])"
   ]
  },
  {
   "cell_type": "markdown",
   "metadata": {},
   "source": [
    "____\n",
    "**Write a program that prints the integers from 1 to 100. But for multiples of three print \"Fizz\" instead of the number, and for the multiples of five print \"Buzz\". For numbers which are multiples of both three and five print \"FizzBuzz\".**"
   ]
  },
  {
   "cell_type": "code",
   "execution_count": 59,
   "metadata": {},
   "outputs": [
    {
     "name": "stdout",
     "output_type": "stream",
     "text": [
      "1\n",
      "2\n",
      "3  ==> Fizz\n",
      "4\n",
      "5  ==> Buzz\n",
      "6  ==> Fizz\n",
      "7\n",
      "8\n",
      "9  ==> Fizz\n",
      "10  ==> Buzz\n",
      "11\n",
      "12  ==> Fizz\n",
      "13\n",
      "14\n",
      "15  ==> FizzBuzz\n",
      "16\n",
      "17\n",
      "18  ==> Fizz\n",
      "19\n",
      "20  ==> Buzz\n",
      "21  ==> Fizz\n",
      "22\n",
      "23\n",
      "24  ==> Fizz\n",
      "25  ==> Buzz\n",
      "26\n",
      "27  ==> Fizz\n",
      "28\n",
      "29\n",
      "30  ==> FizzBuzz\n",
      "31\n",
      "32\n",
      "33  ==> Fizz\n",
      "34\n",
      "35  ==> Buzz\n",
      "36  ==> Fizz\n",
      "37\n",
      "38\n",
      "39  ==> Fizz\n",
      "40  ==> Buzz\n",
      "41\n",
      "42  ==> Fizz\n",
      "43\n",
      "44\n",
      "45  ==> FizzBuzz\n",
      "46\n",
      "47\n",
      "48  ==> Fizz\n",
      "49\n",
      "50  ==> Buzz\n",
      "51  ==> Fizz\n",
      "52\n",
      "53\n",
      "54  ==> Fizz\n",
      "55  ==> Buzz\n",
      "56\n",
      "57  ==> Fizz\n",
      "58\n",
      "59\n",
      "60  ==> FizzBuzz\n",
      "61\n",
      "62\n",
      "63  ==> Fizz\n",
      "64\n",
      "65  ==> Buzz\n",
      "66  ==> Fizz\n",
      "67\n",
      "68\n",
      "69  ==> Fizz\n",
      "70  ==> Buzz\n",
      "71\n",
      "72  ==> Fizz\n",
      "73\n",
      "74\n",
      "75  ==> FizzBuzz\n",
      "76\n",
      "77\n",
      "78  ==> Fizz\n",
      "79\n",
      "80  ==> Buzz\n",
      "81  ==> Fizz\n",
      "82\n",
      "83\n",
      "84  ==> Fizz\n",
      "85  ==> Buzz\n",
      "86\n",
      "87  ==> Fizz\n",
      "88\n",
      "89\n",
      "90  ==> FizzBuzz\n",
      "91\n",
      "92\n",
      "93  ==> Fizz\n",
      "94\n",
      "95  ==> Buzz\n",
      "96  ==> Fizz\n",
      "97\n",
      "98\n",
      "99  ==> Fizz\n",
      "100  ==> Buzz\n"
     ]
    }
   ],
   "source": [
    "#Code in this cell\n",
    "for num in range(1,101):\n",
    "    if num%3 == 0 and num%5 == 0:\n",
    "        print(num , ' ==> FizzBuzz')\n",
    "    elif num%3 == 0 and num%5 != 0:\n",
    "        print(num , ' ==> Fizz')\n",
    "    elif num%5 == 0 and num%3 != 0:\n",
    "        print(num , ' ==> Buzz')\n",
    "    else:\n",
    "        print(num)"
   ]
  },
  {
   "cell_type": "markdown",
   "metadata": {},
   "source": [
    "____\n",
    "**Use List Comprehension to create a list of the first letters of every word in the string below:**"
   ]
  },
  {
   "cell_type": "code",
   "execution_count": null,
   "metadata": {
    "collapsed": true,
    "jupyter": {
     "outputs_hidden": true
    }
   },
   "outputs": [],
   "source": [
    "st = 'Create a list of the first letters of every word in this string'"
   ]
  },
  {
   "cell_type": "code",
   "execution_count": 43,
   "metadata": {},
   "outputs": [
    {
     "data": {
      "text/plain": [
       "['C', 'a', 'l', 'o', 't', 'f', 'l', 'o', 'e', 'w', 'i', 't', 's']"
      ]
     },
     "execution_count": 43,
     "metadata": {},
     "output_type": "execute_result"
    }
   ],
   "source": [
    "#Code in this cell\n",
    "st = 'Create a list of the first letters of every word in this string'\n",
    "mylist = st.split(\" \")\n",
    "newlist = []\n",
    "\n",
    "for word in mylist:\n",
    "    newlist.append(word[0])\n",
    "newlist"
   ]
  },
  {
   "cell_type": "code",
   "execution_count": 63,
   "metadata": {},
   "outputs": [
    {
     "data": {
      "text/plain": [
       "['C', 'a', 'l', 'o', 't', 'f', 'l', 'o', 'e', 'w', 'i', 't', 's']"
      ]
     },
     "execution_count": 63,
     "metadata": {},
     "output_type": "execute_result"
    }
   ],
   "source": [
    "st = 'Create a list of the first letters of every word in this string'\n",
    "\n",
    "[word[0] for word in st.split(\" \")]"
   ]
  },
  {
   "cell_type": "markdown",
   "metadata": {},
   "source": [
    "### Great Job!"
   ]
  }
 ],
 "metadata": {
  "kernelspec": {
   "display_name": "Python 3 (ipykernel)",
   "language": "python",
   "name": "python3"
  },
  "language_info": {
   "codemirror_mode": {
    "name": "ipython",
    "version": 3
   },
   "file_extension": ".py",
   "mimetype": "text/x-python",
   "name": "python",
   "nbconvert_exporter": "python",
   "pygments_lexer": "ipython3",
   "version": "3.12.7"
  }
 },
 "nbformat": 4,
 "nbformat_minor": 4
}
