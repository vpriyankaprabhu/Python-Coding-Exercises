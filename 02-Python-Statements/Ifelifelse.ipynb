{
 "cells": [
  {
   "cell_type": "code",
   "execution_count": 1,
   "id": "c6c61ab2-7838-46bb-9d07-088d20e2ee71",
   "metadata": {},
   "outputs": [],
   "source": [
    "#Control flow syntax makes use of colons and indentation and this sets it apart from other programming languages"
   ]
  },
  {
   "cell_type": "code",
   "execution_count": 3,
   "id": "9c4a669d-34e3-4f54-9180-035390de4a69",
   "metadata": {},
   "outputs": [],
   "source": [
    "#if some_condition:\n",
    "    #execute statement"
   ]
  },
  {
   "cell_type": "code",
   "execution_count": 5,
   "id": "a32d0f2d-99ac-43ec-b860-bee15a8eb130",
   "metadata": {},
   "outputs": [
    {
     "name": "stdout",
     "output_type": "stream",
     "text": [
      "Hi there!\n"
     ]
    }
   ],
   "source": [
    "if True:\n",
    "    print(\"Hi there!\")"
   ]
  },
  {
   "cell_type": "code",
   "execution_count": 7,
   "id": "4e28c8a4-b705-4c98-97ab-d497d9fc6d04",
   "metadata": {},
   "outputs": [],
   "source": [
    "if 3<2: \n",
    "    print(\"3 is less than 2\")"
   ]
  },
  {
   "cell_type": "code",
   "execution_count": 9,
   "id": "2ed9e0d9-9199-4895-85ec-c19b2addb9f9",
   "metadata": {},
   "outputs": [],
   "source": [
    "# we can use else too "
   ]
  },
  {
   "cell_type": "code",
   "execution_count": 13,
   "id": "b68170c9-66b8-4684-980a-b6e9f13c1f00",
   "metadata": {},
   "outputs": [
    {
     "name": "stdout",
     "output_type": "stream",
     "text": [
      "3 is greater than 2\n"
     ]
    }
   ],
   "source": [
    "if 3<2: \n",
    "    print(\"3 is less than 2\")\n",
    "else:\n",
    "    print(\"3 is greater than 2\")"
   ]
  },
  {
   "cell_type": "code",
   "execution_count": 15,
   "id": "3f001791-0684-46db-9d24-9d7a7fa0a943",
   "metadata": {},
   "outputs": [
    {
     "name": "stdout",
     "output_type": "stream",
     "text": [
      "3 is greater than 2\n"
     ]
    }
   ],
   "source": [
    "if 3==2: \n",
    "    print(\"3 is less than 2\")\n",
    "else:\n",
    "    print(\"3 is greater than 2\")"
   ]
  },
  {
   "cell_type": "code",
   "execution_count": 17,
   "id": "1877b4ad-62d6-44cb-a504-4b26dc6310b2",
   "metadata": {},
   "outputs": [],
   "source": [
    "# we can also use elif for other conditions"
   ]
  },
  {
   "cell_type": "code",
   "execution_count": 25,
   "id": "fbfa68db-634e-4621-9788-1fc2f8236c51",
   "metadata": {},
   "outputs": [
    {
     "name": "stdout",
     "output_type": "stream",
     "text": [
      "3 is equal to itself\n"
     ]
    }
   ],
   "source": [
    "n = 3\n",
    "\n",
    "if 3<n:\n",
    "    print(\"3 is less than 1\")\n",
    "elif 3<n:\n",
    "    print(\"3 is less than 4\")\n",
    "else:\n",
    "    print(\"3 is equal to itself\")"
   ]
  },
  {
   "cell_type": "code",
   "execution_count": null,
   "id": "65b1a0c3-99a7-4a07-9cf9-35aba4f8ec86",
   "metadata": {},
   "outputs": [],
   "source": []
  }
 ],
 "metadata": {
  "kernelspec": {
   "display_name": "Python 3 (ipykernel)",
   "language": "python",
   "name": "python3"
  },
  "language_info": {
   "codemirror_mode": {
    "name": "ipython",
    "version": 3
   },
   "file_extension": ".py",
   "mimetype": "text/x-python",
   "name": "python",
   "nbconvert_exporter": "python",
   "pygments_lexer": "ipython3",
   "version": "3.12.7"
  }
 },
 "nbformat": 4,
 "nbformat_minor": 5
}
