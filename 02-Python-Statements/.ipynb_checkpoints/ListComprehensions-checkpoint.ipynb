{
 "cells": [
  {
   "cell_type": "code",
   "execution_count": 1,
   "id": "2dc80373-c3ab-4d1e-b52c-511a0a838136",
   "metadata": {},
   "outputs": [
    {
     "data": {
      "text/plain": [
       "['h', 'e', 'l', 'l', 'o', ' ', 'w', 'o', 'r', 'l', 'd']"
      ]
     },
     "execution_count": 1,
     "metadata": {},
     "output_type": "execute_result"
    }
   ],
   "source": [
    "#List Comprehensions\n",
    "# unique way to quickly create lists in python\n",
    "# if in for loop we have been using append() to create list then list comprehension can be saviour for us in such cases.\n",
    "\n",
    "# how lists can be created from letters of a word in generic case\n",
    "\n",
    "mystring = \"hello world\"\n",
    "\n",
    "mylist = []\n",
    "\n",
    "for letter in mystring:\n",
    "    mylist.append(letter)\n",
    "\n",
    "mylist"
   ]
  },
  {
   "cell_type": "code",
   "execution_count": 3,
   "id": "96d2933c-43f4-4557-a91d-9147bfb87c3e",
   "metadata": {},
   "outputs": [
    {
     "data": {
      "text/plain": [
       "['h', 'e', 'l', 'l', 'o', ' ', 'w', 'o', 'r', 'l', 'd']"
      ]
     },
     "execution_count": 3,
     "metadata": {},
     "output_type": "execute_result"
    }
   ],
   "source": [
    "# lets rewrite it using list comprehensions\n",
    "# this has helped to flattened the for loop into single line\n",
    "mylist = [letter for letter in mystring]\n",
    "mylist"
   ]
  },
  {
   "cell_type": "code",
   "execution_count": 5,
   "id": "1a10b012-8314-41a3-8429-3128783c16dc",
   "metadata": {},
   "outputs": [],
   "source": [
    "#another example\n",
    "mylist = [x for x in 'hi']"
   ]
  },
  {
   "cell_type": "code",
   "execution_count": 7,
   "id": "a2c9679f-f376-4f11-b0e4-e4e2afb4837a",
   "metadata": {},
   "outputs": [
    {
     "data": {
      "text/plain": [
       "['h', 'i']"
      ]
     },
     "execution_count": 7,
     "metadata": {},
     "output_type": "execute_result"
    }
   ],
   "source": [
    "mylist\n"
   ]
  },
  {
   "cell_type": "code",
   "execution_count": 13,
   "id": "4c9db101-d2c7-4dcc-ad06-195caf2e91f6",
   "metadata": {},
   "outputs": [],
   "source": [
    "mylist = [ x for x in range(0,10) ]"
   ]
  },
  {
   "cell_type": "code",
   "execution_count": 15,
   "id": "68902c81-3295-4546-81b1-ee61919f326c",
   "metadata": {},
   "outputs": [
    {
     "data": {
      "text/plain": [
       "[0, 1, 2, 3, 4, 5, 6, 7, 8, 9]"
      ]
     },
     "execution_count": 15,
     "metadata": {},
     "output_type": "execute_result"
    }
   ],
   "source": [
    "mylist"
   ]
  },
  {
   "cell_type": "code",
   "execution_count": 17,
   "id": "f681d7fb-c7c2-4f66-8cb1-3a5e743eec17",
   "metadata": {},
   "outputs": [],
   "source": [
    "# we can also perform operations on x or items of list\n",
    "\n",
    "mylist = [ num for num in range(0,10) ]"
   ]
  },
  {
   "cell_type": "code",
   "execution_count": 19,
   "id": "b4fce1d9-3f03-46eb-8de1-6f9976041cc6",
   "metadata": {},
   "outputs": [
    {
     "data": {
      "text/plain": [
       "[0, 1, 2, 3, 4, 5, 6, 7, 8, 9]"
      ]
     },
     "execution_count": 19,
     "metadata": {},
     "output_type": "execute_result"
    }
   ],
   "source": [
    "mylist"
   ]
  },
  {
   "cell_type": "code",
   "execution_count": 25,
   "id": "2b6e0067-42fb-4c26-b955-745c38584502",
   "metadata": {},
   "outputs": [],
   "source": [
    "# to find square of numbers\n",
    "mylist = [ num**2 for num in range(0,10) ]"
   ]
  },
  {
   "cell_type": "code",
   "execution_count": 27,
   "id": "1fd637b8-0237-469a-8e1b-64f89f0b20f2",
   "metadata": {},
   "outputs": [
    {
     "data": {
      "text/plain": [
       "[0, 1, 4, 9, 16, 25, 36, 49, 64, 81]"
      ]
     },
     "execution_count": 27,
     "metadata": {},
     "output_type": "execute_result"
    }
   ],
   "source": [
    "mylist"
   ]
  },
  {
   "cell_type": "code",
   "execution_count": 29,
   "id": "149de331-2345-4a12-aa3c-2222039152cd",
   "metadata": {},
   "outputs": [],
   "source": [
    "#now if we want to print only even numbers from given range of values or in list\n",
    "mylist = [ num for num in range(0,10) if num%2 == 0]"
   ]
  },
  {
   "cell_type": "code",
   "execution_count": 31,
   "id": "fce1d6f9-8448-425b-9b9f-73a50cab478f",
   "metadata": {},
   "outputs": [
    {
     "data": {
      "text/plain": [
       "[0, 2, 4, 6, 8]"
      ]
     },
     "execution_count": 31,
     "metadata": {},
     "output_type": "execute_result"
    }
   ],
   "source": [
    "mylist"
   ]
  },
  {
   "cell_type": "code",
   "execution_count": 35,
   "id": "bcd45e76-f70c-4a2c-bd5b-7c17b8fd99fb",
   "metadata": {},
   "outputs": [
    {
     "data": {
      "text/plain": [
       "[95.0, 113.0, 74.30000000000001]"
      ]
     },
     "execution_count": 35,
     "metadata": {},
     "output_type": "execute_result"
    }
   ],
   "source": [
    "# lets try a use case to give equation in first value for list formation using comprehension\n",
    "# convert temp from celsius to fahrenhiet\n",
    "\n",
    "celsius = [35, 45, 23.5]\n",
    "\n",
    "fahrenhiet = [((9/5)* temp + 32) for temp in celsius]\n",
    "fahrenhiet"
   ]
  },
  {
   "cell_type": "code",
   "execution_count": 39,
   "id": "5126a4a3-9c13-47be-952d-2dc73668e172",
   "metadata": {},
   "outputs": [],
   "source": [
    "# use if else statements with list comprehensions, but readability of the python code is compromised. Do it only if necessary\n",
    "mylist = [ num for num in range(0,10) if num%2 == 0]\n",
    "# here the order of if statement is at the end of the list formation for if else statements the order is different and it could\n",
    "#be confusing for users to read and understand\n",
    "mylist = [x if x%2 == 0 else 'ODD' for x in range(0,10)]"
   ]
  },
  {
   "cell_type": "code",
   "execution_count": 41,
   "id": "b0f64030-6a96-4d1b-9fe3-3fd1f3e86a23",
   "metadata": {},
   "outputs": [
    {
     "data": {
      "text/plain": [
       "[0, 'ODD', 2, 'ODD', 4, 'ODD', 6, 'ODD', 8, 'ODD']"
      ]
     },
     "execution_count": 41,
     "metadata": {},
     "output_type": "execute_result"
    }
   ],
   "source": [
    "mylist"
   ]
  },
  {
   "cell_type": "code",
   "execution_count": 43,
   "id": "64a132a1-50f9-43a0-ad0b-a059c5eea05c",
   "metadata": {},
   "outputs": [],
   "source": [
    "mylist = ['EVEN' if x%2 == 0 else 'ODD' for x in range(0,10)]"
   ]
  },
  {
   "cell_type": "code",
   "execution_count": 45,
   "id": "ac40746e-df8e-408f-863e-900abbbdc6ee",
   "metadata": {},
   "outputs": [
    {
     "data": {
      "text/plain": [
       "['EVEN', 'ODD', 'EVEN', 'ODD', 'EVEN', 'ODD', 'EVEN', 'ODD', 'EVEN', 'ODD']"
      ]
     },
     "execution_count": 45,
     "metadata": {},
     "output_type": "execute_result"
    }
   ],
   "source": [
    "mylist"
   ]
  },
  {
   "cell_type": "code",
   "execution_count": 59,
   "id": "c257057c-45ad-4f0c-81c9-b0a15024f8fe",
   "metadata": {},
   "outputs": [],
   "source": [
    "# nested loops with list comprehensions\n",
    "mylist = []\n",
    "\n",
    "for x in [1,2,3]:\n",
    "    for y in [1,10,100,1000]:\n",
    "        mylist.append(x*y)"
   ]
  },
  {
   "cell_type": "code",
   "execution_count": 61,
   "id": "97f32ab5-9ac5-4145-a1bd-c355ed1ac353",
   "metadata": {},
   "outputs": [
    {
     "data": {
      "text/plain": [
       "[1, 10, 100, 1000, 2, 20, 200, 2000, 3, 30, 300, 3000]"
      ]
     },
     "execution_count": 61,
     "metadata": {},
     "output_type": "execute_result"
    }
   ],
   "source": [
    "mylist"
   ]
  },
  {
   "cell_type": "code",
   "execution_count": 51,
   "id": "959ec428-ca68-4537-af08-8faea0b78569",
   "metadata": {},
   "outputs": [],
   "source": [
    "#now lets do this with list comprehensions"
   ]
  },
  {
   "cell_type": "code",
   "execution_count": 57,
   "id": "e5e3beb8-6f68-43fd-971b-dfcb11d1e6df",
   "metadata": {},
   "outputs": [
    {
     "data": {
      "text/plain": [
       "[1, 10, 100, 2, 20, 200, 3, 30, 300]"
      ]
     },
     "execution_count": 57,
     "metadata": {},
     "output_type": "execute_result"
    }
   ],
   "source": [
    "mylist = [x*y for x in [1,2,3] for y in [1,10,100]]\n",
    "mylist"
   ]
  },
  {
   "cell_type": "code",
   "execution_count": null,
   "id": "c73a21c7-cddf-4cab-a3da-ea04a21799be",
   "metadata": {},
   "outputs": [],
   "source": []
  }
 ],
 "metadata": {
  "kernelspec": {
   "display_name": "Python 3 (ipykernel)",
   "language": "python",
   "name": "python3"
  },
  "language_info": {
   "codemirror_mode": {
    "name": "ipython",
    "version": 3
   },
   "file_extension": ".py",
   "mimetype": "text/x-python",
   "name": "python",
   "nbconvert_exporter": "python",
   "pygments_lexer": "ipython3",
   "version": "3.12.7"
  }
 },
 "nbformat": 4,
 "nbformat_minor": 5
}
