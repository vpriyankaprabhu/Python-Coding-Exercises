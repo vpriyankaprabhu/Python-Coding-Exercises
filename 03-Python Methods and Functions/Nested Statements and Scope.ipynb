{
 "cells": [
  {
   "cell_type": "code",
   "execution_count": 1,
   "id": "210685d3-558b-4a0d-9c53-6351082e0454",
   "metadata": {},
   "outputs": [
    {
     "name": "stdout",
     "output_type": "stream",
     "text": [
      "25\n"
     ]
    }
   ],
   "source": [
    "#when variable names are created they are saved in a namespace and it has a scope defined\n",
    "#scope defines the visibility of variable name in the program\n",
    "\n",
    "x= 25\n",
    "\n",
    "def printer():\n",
    "    x=50\n",
    "    return x\n",
    "\n",
    "print(x)"
   ]
  },
  {
   "cell_type": "code",
   "execution_count": 3,
   "id": "bc62d7c5-9d16-4e4f-b92e-02c5e3816c0d",
   "metadata": {},
   "outputs": [],
   "source": [
    "#prints 25 as its available value for 25"
   ]
  },
  {
   "cell_type": "code",
   "execution_count": 5,
   "id": "39448f50-7b3c-476a-9b3e-c3c27015861f",
   "metadata": {},
   "outputs": [
    {
     "name": "stdout",
     "output_type": "stream",
     "text": [
      "50\n"
     ]
    }
   ],
   "source": [
    "print(printer())"
   ]
  },
  {
   "cell_type": "code",
   "execution_count": 7,
   "id": "944c0b9e-8dc8-43b0-a797-4894429be809",
   "metadata": {},
   "outputs": [],
   "source": [
    "#here x value is 50 in printer function\n",
    "#this is due to scope where x is defined.. first print was printing x in local scope of function\n",
    "#second print is from printer fucntion which has x defined as 50 and prints this value which is in local scope for printer function\n"
   ]
  },
  {
   "cell_type": "code",
   "execution_count": 11,
   "id": "9fd902a8-cd35-49c0-9075-cbcf2b5d6b8c",
   "metadata": {},
   "outputs": [],
   "source": [
    "#LEGB Rule::\n",
    "#Local - inside function def or lambda and not declared in global section of program\n",
    "#Enclosing within func calls - NAmes in local scope of any and all enclosing functions from inner to outer (def lambda)\n",
    "#Global (module) - names assigned in the top level of module file or declared with global def within the file\n",
    "#Builtin (python) - names pre assigned in the built in module open, range, SyntaxError etc"
   ]
  },
  {
   "cell_type": "code",
   "execution_count": 15,
   "id": "8349d3c4-5f73-4098-8e8f-6b8a5d513c33",
   "metadata": {},
   "outputs": [
    {
     "ename": "NameError",
     "evalue": "name 'num' is not defined",
     "output_type": "error",
     "traceback": [
      "\u001b[0;31m---------------------------------------------------------------------------\u001b[0m",
      "\u001b[0;31mNameError\u001b[0m                                 Traceback (most recent call last)",
      "Cell \u001b[0;32mIn[15], line 3\u001b[0m\n\u001b[1;32m      1\u001b[0m \u001b[38;5;66;03m#local \u001b[39;00m\n\u001b[1;32m      2\u001b[0m \u001b[38;5;28;01mlambda\u001b[39;00m num:num\u001b[38;5;241m%\u001b[39m\u001b[38;5;241m2\u001b[39m\u001b[38;5;241m==\u001b[39m\u001b[38;5;241m0\u001b[39m\n\u001b[0;32m----> 3\u001b[0m num\n",
      "\u001b[0;31mNameError\u001b[0m: name 'num' is not defined"
     ]
    }
   ],
   "source": [
    "#local \n",
    "lambda num:num%2==0\n",
    "num"
   ]
  },
  {
   "cell_type": "code",
   "execution_count": 23,
   "id": "896303c9-cd29-412f-ab30-52ad677639d2",
   "metadata": {},
   "outputs": [
    {
     "name": "stdout",
     "output_type": "stream",
     "text": [
      "Hello Priyanka\n"
     ]
    }
   ],
   "source": [
    "#enclosed within function calls\n",
    "name = \"This is global string variable\"\n",
    "\n",
    "def greet():\n",
    "    name = 'Priyanka'\n",
    "    def hello():\n",
    "        print(\"Hello \"+ name)\n",
    "    hello()\n",
    "#hello() # within scope of function greet cant be called from global scope \n",
    "greet() # name is printed from enclosed function calls of greet and hello"
   ]
  },
  {
   "cell_type": "code",
   "execution_count": 25,
   "id": "54d0b250-6707-439d-a01c-d3e5b389c59d",
   "metadata": {},
   "outputs": [
    {
     "name": "stdout",
     "output_type": "stream",
     "text": [
      "Hello This is global string variable\n"
     ]
    }
   ],
   "source": [
    "#now if name is not defined inside greet function\n",
    "\n",
    "name = \"This is global string variable\"\n",
    "\n",
    "def greet():\n",
    "    def hello():\n",
    "        print(\"Hello \"+ name)\n",
    "    hello()\n",
    "#hello() # within scope of function greet cant be called from global scope \n",
    "greet()\n",
    "#here name is not defined inside greet so it picks global variable from LEGB rule and applies to print statement"
   ]
  },
  {
   "cell_type": "code",
   "execution_count": 27,
   "id": "517e7c81-1888-43f2-aaff-a0cb24b70ffe",
   "metadata": {},
   "outputs": [
    {
     "name": "stdout",
     "output_type": "stream",
     "text": [
      "Hello LOCAL\n"
     ]
    }
   ],
   "source": [
    "#global scope\n",
    "name = \"This is global string variable\"\n",
    "\n",
    "def greet():\n",
    "    #enclosing function call scope\n",
    "    name = 'Priyanka'\n",
    "    def hello():\n",
    "        #local scope\n",
    "        name = \"LOCAL\"\n",
    "        print(\"Hello \"+ name)\n",
    "    hello()\n",
    "#hello() # within scope of function greet cant be called from global scope \n",
    "greet()"
   ]
  },
  {
   "cell_type": "code",
   "execution_count": 29,
   "id": "26997c9e-c455-4390-a489-c0e8c97b53b3",
   "metadata": {},
   "outputs": [],
   "source": [
    "#so it picked local scope as value of name is available first inside hello function"
   ]
  },
  {
   "cell_type": "code",
   "execution_count": 39,
   "id": "48a510d5-66fb-407d-a185-0aae4651e1af",
   "metadata": {},
   "outputs": [
    {
     "name": "stdout",
     "output_type": "stream",
     "text": [
      "X is 50\n",
      "X is reassigned to new value 200\n"
     ]
    }
   ],
   "source": [
    "#GLOBAL ASSIGNMENT\n",
    "x = 50\n",
    "\n",
    "def func_print_x(x):\n",
    "    print(f'X is {x}')\n",
    "\n",
    "    #LOCAL REASSIGNEMENT of X inside of function\n",
    "    x = 200\n",
    "    print(f'X is reassigned to new value {x}')\n",
    "\n",
    "func_print_x(x)"
   ]
  },
  {
   "cell_type": "code",
   "execution_count": 41,
   "id": "df01f3cd-448b-45a5-8fcd-7d8c02876dee",
   "metadata": {},
   "outputs": [
    {
     "name": "stdout",
     "output_type": "stream",
     "text": [
      "50\n"
     ]
    }
   ],
   "source": [
    "print(x)"
   ]
  },
  {
   "cell_type": "code",
   "execution_count": 43,
   "id": "1bc3fa3a-fc7f-4d03-867b-762c508ce48f",
   "metadata": {},
   "outputs": [],
   "source": [
    "#outside function scope x prints its value to be 50"
   ]
  },
  {
   "cell_type": "code",
   "execution_count": 49,
   "id": "2584b828-7b26-4378-8836-e35d0e34815d",
   "metadata": {},
   "outputs": [
    {
     "name": "stdout",
     "output_type": "stream",
     "text": [
      "x is 50\n",
      "GLOBAL variable x is reassigned to new value NEW VALUE\n"
     ]
    }
   ],
   "source": [
    "#GLOBAL ASSIGNMENT\n",
    "x = 50\n",
    "\n",
    "# we can have x value changed in global namespace as follows\n",
    "def func_print_x():\n",
    "    global x # decalres x into global scope so any changes made within function will be changed in global namespace scope\n",
    "    print(f'x is {x}')\n",
    "\n",
    "    #LOCAL REASSIGNEMENT of GLOBAL X inside of function\n",
    "    x = \"NEW VALUE\"\n",
    "    print(f'GLOBAL variable x is reassigned to new value {x}')\n",
    "\n",
    "func_print_x()"
   ]
  },
  {
   "cell_type": "code",
   "execution_count": 51,
   "id": "211c352b-e6de-4452-bef1-a5b08b254a86",
   "metadata": {},
   "outputs": [
    {
     "name": "stdout",
     "output_type": "stream",
     "text": [
      "NEW VALUE\n"
     ]
    }
   ],
   "source": [
    "print(x)"
   ]
  },
  {
   "cell_type": "code",
   "execution_count": 53,
   "id": "a3966b17-9446-4a18-9627-142ebe58ae63",
   "metadata": {},
   "outputs": [
    {
     "name": "stdout",
     "output_type": "stream",
     "text": [
      "X is 50\n",
      "X is reassigned to new value NEW VALUE\n"
     ]
    },
    {
     "data": {
      "text/plain": [
       "'NEW VALUE'"
      ]
     },
     "execution_count": 53,
     "metadata": {},
     "output_type": "execute_result"
    }
   ],
   "source": [
    "#Beginners can use this instead of using global keyword to avoid unexpected results\n",
    "\n",
    "#GLOBAL ASSIGNMENT\n",
    "x = 50\n",
    "\n",
    "def func_print_x(x):\n",
    "    print(f'X is {x}')\n",
    "\n",
    "    #LOCAL REASSIGNEMENT of X inside of function\n",
    "    x = \"NEW VALUE\"\n",
    "    print(f'X is reassigned to new value {x}')\n",
    "    return x\n",
    "    \n",
    "func_print_x(x)\n"
   ]
  },
  {
   "cell_type": "code",
   "execution_count": 55,
   "id": "7fa97595-2382-40fe-9a8f-59ead84cc43d",
   "metadata": {},
   "outputs": [
    {
     "name": "stdout",
     "output_type": "stream",
     "text": [
      "50\n"
     ]
    }
   ],
   "source": [
    "print(x)"
   ]
  },
  {
   "cell_type": "code",
   "execution_count": 57,
   "id": "7073a016-bfe7-4cc3-9474-dda38006e837",
   "metadata": {},
   "outputs": [
    {
     "name": "stdout",
     "output_type": "stream",
     "text": [
      "X is 50\n",
      "X is reassigned to new value NEW VALUE\n"
     ]
    }
   ],
   "source": [
    "x = func_print_x(x)"
   ]
  },
  {
   "cell_type": "code",
   "execution_count": 59,
   "id": "403edfbf-0993-4fdf-9434-012e64be0556",
   "metadata": {},
   "outputs": [
    {
     "data": {
      "text/plain": [
       "'NEW VALUE'"
      ]
     },
     "execution_count": 59,
     "metadata": {},
     "output_type": "execute_result"
    }
   ],
   "source": [
    "x"
   ]
  },
  {
   "cell_type": "code",
   "execution_count": 61,
   "id": "175d9c0b-e92f-45cf-bea0-9075a167cd06",
   "metadata": {},
   "outputs": [
    {
     "name": "stdout",
     "output_type": "stream",
     "text": [
      "X is NEW VALUE\n",
      "X is reassigned to new value NEW VALUE\n"
     ]
    }
   ],
   "source": [
    "x = func_print_x(x)"
   ]
  },
  {
   "cell_type": "code",
   "execution_count": 63,
   "id": "fefd215a-a66d-4148-8499-b94e64d12c7d",
   "metadata": {},
   "outputs": [
    {
     "data": {
      "text/plain": [
       "'NEW VALUE'"
      ]
     },
     "execution_count": 63,
     "metadata": {},
     "output_type": "execute_result"
    }
   ],
   "source": [
    "x"
   ]
  },
  {
   "cell_type": "code",
   "execution_count": null,
   "id": "831353e4-a24f-40ab-bbc6-0429db3186a2",
   "metadata": {},
   "outputs": [],
   "source": []
  }
 ],
 "metadata": {
  "kernelspec": {
   "display_name": "Python 3 (ipykernel)",
   "language": "python",
   "name": "python3"
  },
  "language_info": {
   "codemirror_mode": {
    "name": "ipython",
    "version": 3
   },
   "file_extension": ".py",
   "mimetype": "text/x-python",
   "name": "python",
   "nbconvert_exporter": "python",
   "pygments_lexer": "ipython3",
   "version": "3.12.7"
  }
 },
 "nbformat": 4,
 "nbformat_minor": 5
}
