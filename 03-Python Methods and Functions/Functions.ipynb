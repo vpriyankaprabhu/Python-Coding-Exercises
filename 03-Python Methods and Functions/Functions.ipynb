{
 "cells": [
  {
   "cell_type": "code",
   "execution_count": 1,
   "id": "6d7bf977-6266-4ee2-b31e-b116433cb5ae",
   "metadata": {},
   "outputs": [],
   "source": [
    "#Methods and Functions - introduction"
   ]
  },
  {
   "cell_type": "code",
   "execution_count": 3,
   "id": "6bd74897-139d-43ea-abb0-a6bc21dc9b0e",
   "metadata": {},
   "outputs": [],
   "source": [
    "mylist = [1,2,3]"
   ]
  },
  {
   "cell_type": "code",
   "execution_count": 5,
   "id": "b78c2bb9-cbd9-43ef-8e59-93e78584d9be",
   "metadata": {},
   "outputs": [
    {
     "data": {
      "text/plain": [
       "[1, 2, 3]"
      ]
     },
     "execution_count": 5,
     "metadata": {},
     "output_type": "execute_result"
    }
   ],
   "source": [
    "mylist"
   ]
  },
  {
   "cell_type": "code",
   "execution_count": 7,
   "id": "4c287abd-d63e-4400-91d0-13d6836f0340",
   "metadata": {},
   "outputs": [],
   "source": [
    "mylist.append(4) #appends new item to end of list"
   ]
  },
  {
   "cell_type": "code",
   "execution_count": 9,
   "id": "ea1af9f6-4172-4fda-a118-39771e806721",
   "metadata": {},
   "outputs": [
    {
     "data": {
      "text/plain": [
       "[1, 2, 3, 4]"
      ]
     },
     "execution_count": 9,
     "metadata": {},
     "output_type": "execute_result"
    }
   ],
   "source": [
    "mylist"
   ]
  },
  {
   "cell_type": "code",
   "execution_count": 11,
   "id": "5462fd23-5932-4447-ba87-259f15e7732d",
   "metadata": {},
   "outputs": [
    {
     "data": {
      "text/plain": [
       "4"
      ]
     },
     "execution_count": 11,
     "metadata": {},
     "output_type": "execute_result"
    }
   ],
   "source": [
    "mylist.pop() # pops out the last element of the list"
   ]
  },
  {
   "cell_type": "code",
   "execution_count": 13,
   "id": "ef0b028c-2c4f-44d4-aa8b-47cc8cc0976e",
   "metadata": {},
   "outputs": [
    {
     "data": {
      "text/plain": [
       "[1, 2, 3]"
      ]
     },
     "execution_count": 13,
     "metadata": {},
     "output_type": "execute_result"
    }
   ],
   "source": [
    "mylist"
   ]
  },
  {
   "cell_type": "code",
   "execution_count": 17,
   "id": "3960ddd8-23cc-4196-9994-7fefab4fa8f5",
   "metadata": {},
   "outputs": [
    {
     "name": "stdout",
     "output_type": "stream",
     "text": [
      "Help on built-in function reverse:\n",
      "\n",
      "reverse() method of builtins.list instance\n",
      "    Reverse *IN PLACE*.\n",
      "\n"
     ]
    }
   ],
   "source": [
    "#write dot and hit tab, we will see the available functions in notebook\n",
    "#mylist.<tab> #gives list of available functions for list object\n",
    "\n",
    "#first method to get help on built in function\n",
    "# we can also get help on function to understand the variables to be passed using shift and tab after function\n",
    "#mylist.append<hit tab> to see method signature and how to use them\n",
    "\n",
    "#second method is used to built in help function\n",
    "help(mylist.reverse)\n",
    "\n",
    "#third method is to go through published python documentation in python website"
   ]
  },
  {
   "cell_type": "code",
   "execution_count": 25,
   "id": "71b74c88-dbd4-4a06-8b1d-c20fc69d90b7",
   "metadata": {},
   "outputs": [
    {
     "data": {
      "text/plain": [
       "[1, 2, 3]"
      ]
     },
     "execution_count": 25,
     "metadata": {},
     "output_type": "execute_result"
    }
   ],
   "source": [
    "mylist"
   ]
  },
  {
   "cell_type": "code",
   "execution_count": 21,
   "id": "3a1563c6-abe8-43e8-aea3-54fbf19f109e",
   "metadata": {},
   "outputs": [],
   "source": [
    "mylist.reverse()"
   ]
  },
  {
   "cell_type": "code",
   "execution_count": 23,
   "id": "da07e707-5a6d-4a49-a86e-e216a9867b07",
   "metadata": {},
   "outputs": [
    {
     "data": {
      "text/plain": [
       "[1, 2, 3]"
      ]
     },
     "execution_count": 23,
     "metadata": {},
     "output_type": "execute_result"
    }
   ],
   "source": [
    "mylist"
   ]
  },
  {
   "cell_type": "code",
   "execution_count": 27,
   "id": "446b3126-04c8-46f3-8265-bedba274f6a4",
   "metadata": {},
   "outputs": [],
   "source": [
    "#def keyword specifies that its a function and the function name is usually in snake case where in between words we have a _ specified and its all in lower case\n",
    "#class names use camel casing\n",
    "#def function_name():\n"
   ]
  },
  {
   "cell_type": "code",
   "execution_count": 29,
   "id": "97ac8c8f-3fc3-4094-bfab-4a7372dfcaf7",
   "metadata": {},
   "outputs": [
    {
     "data": {
      "text/plain": [
       "'\\nthis is multiline comment line\\n'"
      ]
     },
     "execution_count": 29,
     "metadata": {},
     "output_type": "execute_result"
    }
   ],
   "source": [
    "#DocString\n",
    "'''\n",
    "this is multiline comment line\n",
    "'''\n"
   ]
  },
  {
   "cell_type": "code",
   "execution_count": 31,
   "id": "8a972e2a-ff57-4a0c-adfa-6a1285d09f78",
   "metadata": {},
   "outputs": [],
   "source": [
    "def say_hello_world():\n",
    "    ''' Here we will print hello world '''\n",
    "    print(\"Hello World\")"
   ]
  },
  {
   "cell_type": "code",
   "execution_count": 33,
   "id": "c387eeb5-793e-4213-8ee5-918c388ce73a",
   "metadata": {},
   "outputs": [
    {
     "name": "stdout",
     "output_type": "stream",
     "text": [
      "Hello World\n"
     ]
    }
   ],
   "source": [
    "say_hello_world()"
   ]
  },
  {
   "cell_type": "code",
   "execution_count": 35,
   "id": "b7605746-b1a6-4ca6-9ba0-c0d949b97b67",
   "metadata": {},
   "outputs": [
    {
     "name": "stdout",
     "output_type": "stream",
     "text": [
      "Hello Priyanka Prabhu!\n"
     ]
    }
   ],
   "source": [
    "def say_hello_world(name):\n",
    "    ''' Here we will print hello world '''\n",
    "    print(\"Hello \"+name+\"!\")\n",
    "\n",
    "say_hello_world(\"Priyanka Prabhu\")"
   ]
  },
  {
   "cell_type": "code",
   "execution_count": 37,
   "id": "e3629320-49e4-4150-8cb6-5836ef493fb4",
   "metadata": {},
   "outputs": [
    {
     "name": "stdout",
     "output_type": "stream",
     "text": [
      "30\n"
     ]
    }
   ],
   "source": [
    "def add_two_numbers(a, b):\n",
    "    return a+b\n",
    "\n",
    "result = add_two_numbers(10,20)\n",
    "print(result)"
   ]
  },
  {
   "cell_type": "code",
   "execution_count": 41,
   "id": "0166e019-709d-484c-9097-b8e05e2b37e2",
   "metadata": {},
   "outputs": [
    {
     "data": {
      "text/plain": [
       "<function __main__.say_hello_world(name)>"
      ]
     },
     "execution_count": 41,
     "metadata": {},
     "output_type": "execute_result"
    }
   ],
   "source": [
    "say_hello_world # just gives function name as output"
   ]
  },
  {
   "cell_type": "code",
   "execution_count": 43,
   "id": "a58c5ac0-c175-410b-9c7a-f5e187e52579",
   "metadata": {},
   "outputs": [],
   "source": [
    "def say_hello(name):\n",
    "    ''' Here we will print hello world '''\n",
    "    print(\"Hello \" + name)"
   ]
  },
  {
   "cell_type": "code",
   "execution_count": 45,
   "id": "c8fc5c3f-55cc-4d65-8463-7bd3d16e7d4d",
   "metadata": {},
   "outputs": [
    {
     "ename": "TypeError",
     "evalue": "say_hello() missing 1 required positional argument: 'name'",
     "output_type": "error",
     "traceback": [
      "\u001b[0;31m---------------------------------------------------------------------------\u001b[0m",
      "\u001b[0;31mTypeError\u001b[0m                                 Traceback (most recent call last)",
      "Cell \u001b[0;32mIn[45], line 1\u001b[0m\n\u001b[0;32m----> 1\u001b[0m say_hello()\n",
      "\u001b[0;31mTypeError\u001b[0m: say_hello() missing 1 required positional argument: 'name'"
     ]
    }
   ],
   "source": [
    "say_hello() # since name is not provided or passed to function call "
   ]
  },
  {
   "cell_type": "code",
   "execution_count": 47,
   "id": "23d6a9dc-b512-4d9b-bde3-3c32cba41e47",
   "metadata": {},
   "outputs": [],
   "source": [
    "# to avoid such case we can provide default value to the variable or argument in the function as follows:"
   ]
  },
  {
   "cell_type": "code",
   "execution_count": 49,
   "id": "b3ea9029-38a8-4652-bc07-30e862214244",
   "metadata": {},
   "outputs": [
    {
     "name": "stdout",
     "output_type": "stream",
     "text": [
      "Hello Default\n"
     ]
    }
   ],
   "source": [
    "def say_hello(name='Default'):\n",
    "    ''' Here we will print hello world '''\n",
    "    print(\"Hello \" + name)\n",
    "say_hello()"
   ]
  },
  {
   "cell_type": "code",
   "execution_count": 51,
   "id": "d3d8ff16-c784-4dcd-b270-fb1912ffce10",
   "metadata": {},
   "outputs": [],
   "source": [
    "#see here we didnt get any error rather it printed Default"
   ]
  },
  {
   "cell_type": "code",
   "execution_count": 53,
   "id": "cde7d888-49a8-4122-9d06-023d20a1a0a9",
   "metadata": {},
   "outputs": [],
   "source": [
    "#difference between print and return in function"
   ]
  },
  {
   "cell_type": "code",
   "execution_count": 59,
   "id": "2f40774d-e971-4299-91cb-cdd1aa4d4ef4",
   "metadata": {},
   "outputs": [],
   "source": [
    "def print_result(a, b):\n",
    "    print(a + b)"
   ]
  },
  {
   "cell_type": "code",
   "execution_count": 61,
   "id": "8b9434bb-3eff-45b7-96dc-8d82c4a3af02",
   "metadata": {},
   "outputs": [
    {
     "name": "stdout",
     "output_type": "stream",
     "text": [
      "30\n"
     ]
    }
   ],
   "source": [
    " print_result(10,20)"
   ]
  },
  {
   "cell_type": "code",
   "execution_count": 63,
   "id": "db386fa1-baae-404b-840e-8112bca3cdc5",
   "metadata": {},
   "outputs": [
    {
     "name": "stdout",
     "output_type": "stream",
     "text": [
      "30\n"
     ]
    }
   ],
   "source": [
    "# here it only outputs the print function contents and doesnt return anything even if we assign to variable its NoneType\n",
    "result =  print_result(10,20)\n",
    "result"
   ]
  },
  {
   "cell_type": "code",
   "execution_count": 65,
   "id": "e9474b34-c056-4fa8-845b-18682cb08f1c",
   "metadata": {},
   "outputs": [
    {
     "data": {
      "text/plain": [
       "NoneType"
      ]
     },
     "execution_count": 65,
     "metadata": {},
     "output_type": "execute_result"
    }
   ],
   "source": [
    "type(result)"
   ]
  },
  {
   "cell_type": "code",
   "execution_count": 67,
   "id": "d7abcf80-5ef9-4b6c-ae09-72b3b8e0d002",
   "metadata": {},
   "outputs": [],
   "source": [
    "def print_result(a, b):\n",
    "    return(a + b)"
   ]
  },
  {
   "cell_type": "code",
   "execution_count": 69,
   "id": "bd5ea840-a757-452b-962d-0377a3c1e173",
   "metadata": {},
   "outputs": [
    {
     "data": {
      "text/plain": [
       "30"
      ]
     },
     "execution_count": 69,
     "metadata": {},
     "output_type": "execute_result"
    }
   ],
   "source": [
    " print_result(10,20)"
   ]
  },
  {
   "cell_type": "code",
   "execution_count": 73,
   "id": "6eb171c8-51b0-4fd7-8c8a-5235e7d11120",
   "metadata": {},
   "outputs": [
    {
     "data": {
      "text/plain": [
       "30"
      ]
     },
     "execution_count": 73,
     "metadata": {},
     "output_type": "execute_result"
    }
   ],
   "source": [
    "# here it outputs the value and it can be stored in a variable for further computations\n",
    "result =  print_result(10,20)\n",
    "result"
   ]
  },
  {
   "cell_type": "code",
   "execution_count": 75,
   "id": "1367dc91-66dd-47e5-b3ad-0471b4c2985b",
   "metadata": {},
   "outputs": [
    {
     "data": {
      "text/plain": [
       "int"
      ]
     },
     "execution_count": 75,
     "metadata": {},
     "output_type": "execute_result"
    }
   ],
   "source": [
    "type(result)"
   ]
  },
  {
   "cell_type": "code",
   "execution_count": 77,
   "id": "d7a4c5e3-695a-4085-889b-a2f98d824bcc",
   "metadata": {},
   "outputs": [],
   "source": [
    "#now we can see we can have both print executed and return a value as follows:\n",
    "def print_result(a, b):\n",
    "    print(a+b)\n",
    "    return(a + b)"
   ]
  },
  {
   "cell_type": "code",
   "execution_count": 79,
   "id": "080a5421-a7c8-413e-a630-4d58978a194a",
   "metadata": {},
   "outputs": [
    {
     "name": "stdout",
     "output_type": "stream",
     "text": [
      "30\n"
     ]
    },
    {
     "data": {
      "text/plain": [
       "30"
      ]
     },
     "execution_count": 79,
     "metadata": {},
     "output_type": "execute_result"
    }
   ],
   "source": [
    "result =  print_result(10,20)\n",
    "result"
   ]
  },
  {
   "cell_type": "code",
   "execution_count": 81,
   "id": "a248ff70-ded7-47d6-8c81-513209489df9",
   "metadata": {},
   "outputs": [
    {
     "data": {
      "text/plain": [
       "int"
      ]
     },
     "execution_count": 81,
     "metadata": {},
     "output_type": "execute_result"
    }
   ],
   "source": [
    "#here it printed first time with the value from print statement so no output cell value and second time from return and hence we can see a output cell attached\n",
    "type(result)"
   ]
  },
  {
   "cell_type": "code",
   "execution_count": 85,
   "id": "657f3482-4c00-4d2c-a868-3cefbafbb74a",
   "metadata": {},
   "outputs": [],
   "source": [
    "#now with python since its dynamically typed we dont have data type with arguments and hence it could be faster to code but it could lead to bugs\n",
    "# we may want to check the type of data as arguments in function before any operation to avoid unwanted outputs\n",
    "# lets see this example\n",
    "def sum_numbers(a,b):\n",
    "    print(a+b)"
   ]
  },
  {
   "cell_type": "code",
   "execution_count": 87,
   "id": "a868c373-b528-468d-aff8-31318fdf66fc",
   "metadata": {},
   "outputs": [
    {
     "name": "stdout",
     "output_type": "stream",
     "text": [
      "30\n"
     ]
    }
   ],
   "source": [
    "sum_numbers(10,20) # will return 30 after adding two numbers"
   ]
  },
  {
   "cell_type": "code",
   "execution_count": 89,
   "id": "0128ca0b-e4b3-4b52-b577-85c55b284bb9",
   "metadata": {},
   "outputs": [
    {
     "name": "stdout",
     "output_type": "stream",
     "text": [
      "helloworld\n"
     ]
    }
   ],
   "source": [
    "sum_numbers(\"hello\", \"world\") # will concatenate two strings with + operator and return value which may not be desired here"
   ]
  },
  {
   "cell_type": "code",
   "execution_count": 91,
   "id": "441694f0-6f59-4a63-add3-2e6b1d1c02d3",
   "metadata": {},
   "outputs": [],
   "source": [
    "#so to avoid it its better to check the type of arguments passed before computation"
   ]
  },
  {
   "cell_type": "code",
   "execution_count": 93,
   "id": "70b70475-1a65-431c-aff4-eb9eb90ec228",
   "metadata": {},
   "outputs": [],
   "source": [
    "def even_check(number):\n",
    "    return number % 2 == 0"
   ]
  },
  {
   "cell_type": "code",
   "execution_count": 95,
   "id": "9cbe4e71-4150-4d73-93fb-996d7255893b",
   "metadata": {},
   "outputs": [
    {
     "data": {
      "text/plain": [
       "True"
      ]
     },
     "execution_count": 95,
     "metadata": {},
     "output_type": "execute_result"
    }
   ],
   "source": [
    "even_check(20)"
   ]
  },
  {
   "cell_type": "code",
   "execution_count": 97,
   "id": "e65343e9-5c23-43a0-98bb-95aceec87c31",
   "metadata": {},
   "outputs": [
    {
     "data": {
      "text/plain": [
       "False"
      ]
     },
     "execution_count": 97,
     "metadata": {},
     "output_type": "execute_result"
    }
   ],
   "source": [
    "even_check(99)"
   ]
  },
  {
   "cell_type": "code",
   "execution_count": 113,
   "id": "19a650d9-1ff0-43cf-9d8a-d770190c4b5f",
   "metadata": {},
   "outputs": [],
   "source": [
    "#now lets check even or odd in list of numbers\n",
    "def even_check(list):\n",
    "    for num in list:\n",
    "        if num % 2 == 0:\n",
    "            print(num , \"==> even\")\n",
    "        else:\n",
    "            print(num , \"==> odd\")"
   ]
  },
  {
   "cell_type": "code",
   "execution_count": 115,
   "id": "5a035f7e-d4a4-4d9a-b3cf-33753981f984",
   "metadata": {},
   "outputs": [
    {
     "name": "stdout",
     "output_type": "stream",
     "text": [
      "1 ==> odd\n",
      "2 ==> even\n",
      "3 ==> odd\n",
      "4 ==> even\n",
      "5 ==> odd\n",
      "6 ==> even\n",
      "7 ==> odd\n",
      "8 ==> even\n",
      "9 ==> odd\n"
     ]
    }
   ],
   "source": [
    "even_check(range(1,10))"
   ]
  },
  {
   "cell_type": "code",
   "execution_count": 131,
   "id": "b8a83622-5862-44d3-8e9d-ba8f9475a0e0",
   "metadata": {},
   "outputs": [],
   "source": [
    "#check if word has a vowel\n",
    "def check_vowel_in_word(word):\n",
    "    for c in word:\n",
    "        if c in 'aeiou' or c in 'AEIOU':\n",
    "            return \"vowel found : \"+c\n",
    "        else:\n",
    "            pass #do nothing\n",
    "    return \"no vowels found!\""
   ]
  },
  {
   "cell_type": "code",
   "execution_count": 133,
   "id": "37cbe568-189a-4448-ae27-853ce68ed1f4",
   "metadata": {},
   "outputs": [
    {
     "data": {
      "text/plain": [
       "'vowel found : A'"
      ]
     },
     "execution_count": 133,
     "metadata": {},
     "output_type": "execute_result"
    }
   ],
   "source": [
    "check_vowel_in_word(\"CAT\")"
   ]
  },
  {
   "cell_type": "code",
   "execution_count": 135,
   "id": "15e21976-5e9f-497b-a27a-1a209428c2a8",
   "metadata": {},
   "outputs": [
    {
     "data": {
      "text/plain": [
       "'no vowels found!'"
      ]
     },
     "execution_count": 135,
     "metadata": {},
     "output_type": "execute_result"
    }
   ],
   "source": [
    "check_vowel_in_word(\"TTTT\")"
   ]
  },
  {
   "cell_type": "code",
   "execution_count": 137,
   "id": "23a3acc3-c12b-4f7e-9f0b-ff3717d01bb0",
   "metadata": {},
   "outputs": [],
   "source": [
    "# program to return all the even numbers in a list\n",
    "def check_even_numbers_in_list(list):\n",
    "    mylist = []\n",
    "    for num in list:\n",
    "        if num % 2 == 0:\n",
    "            mylist.append(num)\n",
    "        else:\n",
    "            pass\n",
    "    return mylist"
   ]
  },
  {
   "cell_type": "code",
   "execution_count": 139,
   "id": "100bab5d-07e9-43f5-a875-a4976f82c0e1",
   "metadata": {},
   "outputs": [
    {
     "data": {
      "text/plain": [
       "[2, 4, 6, 8, 10, 12, 14, 16, 18, 20]"
      ]
     },
     "execution_count": 139,
     "metadata": {},
     "output_type": "execute_result"
    }
   ],
   "source": [
    "check_even_numbers_in_list(range(1,21))"
   ]
  },
  {
   "cell_type": "code",
   "execution_count": 141,
   "id": "32e8d704-5968-4b9a-a567-14ed9132cb4d",
   "metadata": {},
   "outputs": [
    {
     "data": {
      "text/plain": [
       "[4]"
      ]
     },
     "execution_count": 141,
     "metadata": {},
     "output_type": "execute_result"
    }
   ],
   "source": [
    "check_even_numbers_in_list([1,3,4,5])"
   ]
  },
  {
   "cell_type": "code",
   "execution_count": 147,
   "id": "1305376e-09e0-4b7c-91e1-1c51550e6348",
   "metadata": {},
   "outputs": [
    {
     "data": {
      "text/plain": [
       "[]"
      ]
     },
     "execution_count": 147,
     "metadata": {},
     "output_type": "execute_result"
    }
   ],
   "source": [
    "check_even_numbers_in_list(range(3,21,2)) # no even numbers since its list of odd numbers"
   ]
  },
  {
   "cell_type": "code",
   "execution_count": 149,
   "id": "1ca00bf7-5abe-4e04-944c-c2f9c84719cf",
   "metadata": {},
   "outputs": [],
   "source": [
    "#Functions and Tuples unpacking"
   ]
  },
  {
   "cell_type": "code",
   "execution_count": 151,
   "id": "6ed3306e-4242-46b6-ac8e-1dca4fc96b00",
   "metadata": {},
   "outputs": [
    {
     "name": "stdout",
     "output_type": "stream",
     "text": [
      "('ORCL', 190)\n",
      "('VMWARE', 170)\n",
      "('APPL', 250)\n"
     ]
    }
   ],
   "source": [
    "#tuples unpacking\n",
    "stock_prices = [('ORCL', 190), ('VMWARE', 170), ('APPL', 250)]\n",
    "\n",
    "for item in stock_prices:\n",
    "    print(item) #prints tuples"
   ]
  },
  {
   "cell_type": "code",
   "execution_count": 155,
   "id": "345c8d22-71de-46e2-bef3-7cacf92f4bb1",
   "metadata": {},
   "outputs": [
    {
     "name": "stdout",
     "output_type": "stream",
     "text": [
      "ORCL is priced at : 190\n",
      "VMWARE is priced at : 170\n",
      "APPL is priced at : 250\n"
     ]
    }
   ],
   "source": [
    "#tuples unpacking\n",
    "for item, price in stock_prices:\n",
    "    print(f'{item} is priced at : {price}')"
   ]
  },
  {
   "cell_type": "code",
   "execution_count": 161,
   "id": "ab5ca976-ca17-40d4-8ec8-9277118193b6",
   "metadata": {},
   "outputs": [
    {
     "name": "stdout",
     "output_type": "stream",
     "text": [
      "ORCL price is discounted with 10%. here is final price : 171.0\n",
      "VMWARE price is discounted with 10%. here is final price : 153.0\n",
      "APPL price is discounted with 10%. here is final price : 225.0\n"
     ]
    }
   ],
   "source": [
    "#or we can check or work on individuals like item or price seperately\n",
    "for item, price in stock_prices:\n",
    "    print(f'{item} price is discounted with 10%. here is final price : {price - price * (0.1)}')"
   ]
  },
  {
   "cell_type": "code",
   "execution_count": 175,
   "id": "5e1f0d4c-f94d-40ea-af7b-f9f846e5dcb9",
   "metadata": {},
   "outputs": [],
   "source": [
    "#lets check max or highest marks scored in class of students\n",
    "student_list = [('Shraddha', 89), ('Bhumika', 80), ('Pavani', 99), ('Sai Ishanvi', 90)]\n",
    "def check_scores(student_list):\n",
    "    curr_high_score = 0\n",
    "    student_scored_highest_scores = ''\n",
    "    \n",
    "    for student, scores in student_list:\n",
    "        if scores > curr_high_score:\n",
    "            curr_high_score = scores\n",
    "            student_scored_highest_scores = student\n",
    "        else:\n",
    "            pass\n",
    "    return (student_scored_highest_scores, curr_high_score)"
   ]
  },
  {
   "cell_type": "code",
   "execution_count": 177,
   "id": "52e25d6c-52c6-40b4-bdcb-a29326cb523f",
   "metadata": {},
   "outputs": [
    {
     "data": {
      "text/plain": [
       "('Pavani', 99)"
      ]
     },
     "execution_count": 177,
     "metadata": {},
     "output_type": "execute_result"
    }
   ],
   "source": [
    "check_scores(student_list)"
   ]
  },
  {
   "cell_type": "code",
   "execution_count": 179,
   "id": "65b6229f-50a2-481a-833d-c9681f6e4629",
   "metadata": {},
   "outputs": [
    {
     "data": {
      "text/plain": [
       "('Pavani', 99)"
      ]
     },
     "execution_count": 179,
     "metadata": {},
     "output_type": "execute_result"
    }
   ],
   "source": [
    "# here we see function returns a tuple and print it\n",
    "result = check_scores(student_list)\n",
    "result"
   ]
  },
  {
   "cell_type": "code",
   "execution_count": 181,
   "id": "e4b475a5-67e1-4c09-ad8e-2c8ab6ce6306",
   "metadata": {},
   "outputs": [
    {
     "data": {
      "text/plain": [
       "tuple"
      ]
     },
     "execution_count": 181,
     "metadata": {},
     "output_type": "execute_result"
    }
   ],
   "source": [
    "type(result)"
   ]
  },
  {
   "cell_type": "code",
   "execution_count": 183,
   "id": "7f008f73-7e0c-48c7-98c3-4c77f8356369",
   "metadata": {},
   "outputs": [],
   "source": [
    "# we can also have tuples unpacked from return values with fucntion return parameter as follows:\n",
    "student_name, score = check_scores(student_list)"
   ]
  },
  {
   "cell_type": "code",
   "execution_count": 185,
   "id": "68f87d61-b91c-422c-b3c5-5e5847457cf2",
   "metadata": {},
   "outputs": [
    {
     "data": {
      "text/plain": [
       "'Pavani'"
      ]
     },
     "execution_count": 185,
     "metadata": {},
     "output_type": "execute_result"
    }
   ],
   "source": [
    "student_name"
   ]
  },
  {
   "cell_type": "code",
   "execution_count": 187,
   "id": "a79f0994-e621-4e59-9115-c1f611d2c845",
   "metadata": {},
   "outputs": [
    {
     "data": {
      "text/plain": [
       "99"
      ]
     },
     "execution_count": 187,
     "metadata": {},
     "output_type": "execute_result"
    }
   ],
   "source": [
    "score"
   ]
  },
  {
   "cell_type": "code",
   "execution_count": 189,
   "id": "67e0ce85-ac08-4056-b1d1-b9fb402db926",
   "metadata": {},
   "outputs": [
    {
     "ename": "ValueError",
     "evalue": "not enough values to unpack (expected 3, got 2)",
     "output_type": "error",
     "traceback": [
      "\u001b[0;31m---------------------------------------------------------------------------\u001b[0m",
      "\u001b[0;31mValueError\u001b[0m                                Traceback (most recent call last)",
      "Cell \u001b[0;32mIn[189], line 3\u001b[0m\n\u001b[1;32m      1\u001b[0m \u001b[38;5;66;03m# so we see that fucntions returned tuples can be unpacked and read individual values too\u001b[39;00m\n\u001b[1;32m      2\u001b[0m \u001b[38;5;66;03m#the problem here is user will not know how many tuple unpacked values will be returned from function beforehand\u001b[39;00m\n\u001b[0;32m----> 3\u001b[0m student_name, score, roll_no \u001b[38;5;241m=\u001b[39m check_scores(student_list)\n",
      "\u001b[0;31mValueError\u001b[0m: not enough values to unpack (expected 3, got 2)"
     ]
    }
   ],
   "source": [
    "# so we see that fucntions returned tuples can be unpacked and read individual values too\n",
    "#the problem here is user will not know how many tuple unpacked values will be returned from function beforehand\n",
    "student_name, score, roll_no = check_scores(student_list)"
   ]
  },
  {
   "cell_type": "code",
   "execution_count": 191,
   "id": "9bd1569d-5da1-45ec-968f-0db1482a0bbd",
   "metadata": {},
   "outputs": [],
   "source": [
    "#so its always better to do following and explore how many items returned in tuples"
   ]
  },
  {
   "cell_type": "code",
   "execution_count": 193,
   "id": "6b95ce4b-8b0c-4a87-896c-78654d3f8c0b",
   "metadata": {},
   "outputs": [],
   "source": [
    "result = check_scores(student_list)"
   ]
  },
  {
   "cell_type": "code",
   "execution_count": 197,
   "id": "dfdf5471-3a89-4bda-b4bd-d84da8e65f0e",
   "metadata": {},
   "outputs": [
    {
     "data": {
      "text/plain": [
       "('Pavani', 99)"
      ]
     },
     "execution_count": 197,
     "metadata": {},
     "output_type": "execute_result"
    }
   ],
   "source": [
    "result"
   ]
  },
  {
   "cell_type": "code",
   "execution_count": 199,
   "id": "f5c2f4ce-d777-40fe-b3fb-42b02769f021",
   "metadata": {},
   "outputs": [],
   "source": [
    "#Interactions between python functions"
   ]
  },
  {
   "cell_type": "code",
   "execution_count": 203,
   "id": "d809a696-a72b-4fba-bf33-fe08521ede62",
   "metadata": {},
   "outputs": [
    {
     "data": {
      "text/plain": [
       "[3, 2, 1, 4, 5]"
      ]
     },
     "execution_count": 203,
     "metadata": {},
     "output_type": "execute_result"
    }
   ],
   "source": [
    "# lets work and develop the three cup monte game to guess red ball under three cups, where its placed when shuffled\n",
    "\n",
    "# we have seen shuffle function in random library earlier which does inplace shuffling of the list items as follows\n",
    "\n",
    "mylist = [1,2,3,4,5]\n",
    "from random import shuffle\n",
    "shuffle(mylist)\n",
    "mylist"
   ]
  },
  {
   "cell_type": "code",
   "execution_count": 207,
   "id": "f31bea23-daa0-4a29-b711-49ec03f11f2b",
   "metadata": {},
   "outputs": [
    {
     "data": {
      "text/plain": [
       "[2, 3, 4, 5, 1]"
      ]
     },
     "execution_count": 207,
     "metadata": {},
     "output_type": "execute_result"
    }
   ],
   "source": [
    "shuffle(mylist)\n",
    "mylist"
   ]
  },
  {
   "cell_type": "code",
   "execution_count": 209,
   "id": "64ff3a7b-9adb-4ae9-950a-9e66c8e49b9e",
   "metadata": {},
   "outputs": [
    {
     "name": "stdout",
     "output_type": "stream",
     "text": [
      "Help on method shuffle in module random:\n",
      "\n",
      "shuffle(x) method of random.Random instance\n",
      "    Shuffle list x in place, and return None.\n",
      "\n"
     ]
    }
   ],
   "source": [
    "help(shuffle)"
   ]
  },
  {
   "cell_type": "code",
   "execution_count": 211,
   "id": "3473a9d1-4147-4681-9dff-6b302a04f67e",
   "metadata": {},
   "outputs": [
    {
     "data": {
      "text/plain": [
       "[1, 3, 2, 4, 5]"
      ]
     },
     "execution_count": 211,
     "metadata": {},
     "output_type": "execute_result"
    }
   ],
   "source": [
    "#shuffle as we know will do inplace changes to list and returns NoneType or no value\n",
    "# so we will need a function which will return us a shuffled list, lets do it\n",
    "\n",
    "def shuffle_list(list_of_cups_and_ball):\n",
    "    shuffle(list_of_cups_and_ball)\n",
    "    return list_of_cups_and_ball\n",
    "\n",
    "shuffle_list(mylist)"
   ]
  },
  {
   "cell_type": "code",
   "execution_count": 213,
   "id": "d4fbc7f5-1b22-4ca3-969e-967cb8d17fd2",
   "metadata": {},
   "outputs": [
    {
     "data": {
      "text/plain": [
       "[1, 3, 2, 4, 5]"
      ]
     },
     "execution_count": 213,
     "metadata": {},
     "output_type": "execute_result"
    }
   ],
   "source": [
    "mylist"
   ]
  },
  {
   "cell_type": "code",
   "execution_count": 225,
   "id": "2c83c0cc-e56a-4124-993d-2bf83f872d96",
   "metadata": {},
   "outputs": [],
   "source": [
    "# so with this function changes or custom changes we were able to shuffle the list and return the shuffled list to user\n",
    "\n",
    "#now lets take the user guess and return the value\n",
    "def player_guess():\n",
    "    guess = ''\n",
    "\n",
    "    # to check if user gives value or guess between 0,1,2 we can use while loop\n",
    "    while guess not in ['0','1','2']:\n",
    "        guess = input('Pick a value from 0, 1, 2 to play the game - Three cup monte')\n",
    "\n",
    "    return int(guess)\n",
    "\n",
    "#since input function outputs only string we have initialised guess as string and checked the while loop ccondition with string list of 0,1,2\n",
    "# final return value we have casted to integer type value"
   ]
  },
  {
   "cell_type": "code",
   "execution_count": 227,
   "id": "61f286be-302e-4b4f-a0d9-e743f7733737",
   "metadata": {},
   "outputs": [
    {
     "name": "stdin",
     "output_type": "stream",
     "text": [
      "Pick a value from 0, 1, 2 to play the game - Three cup monte 10\n",
      "Pick a value from 0, 1, 2 to play the game - Three cup monte 9\n",
      "Pick a value from 0, 1, 2 to play the game - Three cup monte 8\n",
      "Pick a value from 0, 1, 2 to play the game - Three cup monte 2\n"
     ]
    },
    {
     "data": {
      "text/plain": [
       "2"
      ]
     },
     "execution_count": 227,
     "metadata": {},
     "output_type": "execute_result"
    }
   ],
   "source": [
    "player_guess()"
   ]
  },
  {
   "cell_type": "code",
   "execution_count": 229,
   "id": "a7aeb4d8-0fe0-4ae1-ba53-60cdfd5c5427",
   "metadata": {},
   "outputs": [],
   "source": [
    "# now we have shuffled list, players guess - we now need to check the guess and see if ball is in right guessed position or not\n",
    "def check_guess(given_list, guess):\n",
    "    if given_list[guess] == 'O':\n",
    "        print('Right Guess, Bingo!!')\n",
    "    else:\n",
    "        print(f'Sorry, Wrong Guess... lets see where the ball is : {given_list}')"
   ]
  },
  {
   "cell_type": "code",
   "execution_count": 245,
   "id": "36019fb6-5339-4cb4-b02b-69c04779f35d",
   "metadata": {},
   "outputs": [
    {
     "name": "stdin",
     "output_type": "stream",
     "text": [
      "Pick a value from 0, 1, 2 to play the game - Three cup monte 1\n"
     ]
    },
    {
     "name": "stdout",
     "output_type": "stream",
     "text": [
      "Right Guess, Bingo!!\n"
     ]
    }
   ],
   "source": [
    "#lets make it to script to call these functions and see how each function interacts with third final function to check the guess of player\n",
    "\n",
    "# INITIALISE LIST of CUPS with BALL placement\n",
    "list_of_ball_with_cups = [' ', 'O', ' ']\n",
    "\n",
    "# SHUFFLE the list\n",
    "shuffle_list(list_of_ball_with_cups)\n",
    "\n",
    "# TAKE A PLAYERS GUESS\n",
    "guess = player_guess()\n",
    "\n",
    "# CHECK GUESS AND SEE IF BALL is IN RIGHT GUESSED POSITION??\n",
    "check_guess(list_of_ball_with_cups, guess)"
   ]
  },
  {
   "cell_type": "code",
   "execution_count": null,
   "id": "91c336ec-a149-4729-9a32-a588d1b08cbe",
   "metadata": {},
   "outputs": [],
   "source": []
  }
 ],
 "metadata": {
  "kernelspec": {
   "display_name": "Python 3 (ipykernel)",
   "language": "python",
   "name": "python3"
  },
  "language_info": {
   "codemirror_mode": {
    "name": "ipython",
    "version": 3
   },
   "file_extension": ".py",
   "mimetype": "text/x-python",
   "name": "python",
   "nbconvert_exporter": "python",
   "pygments_lexer": "ipython3",
   "version": "3.12.7"
  }
 },
 "nbformat": 4,
 "nbformat_minor": 5
}
