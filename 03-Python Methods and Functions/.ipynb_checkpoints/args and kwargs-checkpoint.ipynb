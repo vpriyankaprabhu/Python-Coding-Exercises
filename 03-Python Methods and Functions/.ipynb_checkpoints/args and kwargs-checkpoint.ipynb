{
 "cells": [
  {
   "cell_type": "code",
   "execution_count": 1,
   "id": "289991e8-1ed8-4cfa-9625-8437454c78a9",
   "metadata": {},
   "outputs": [],
   "source": [
    "#*args and **kwargs in python"
   ]
  },
  {
   "cell_type": "code",
   "execution_count": 3,
   "id": "31999b48-a236-4e84-9657-4d56adf600b6",
   "metadata": {},
   "outputs": [
    {
     "name": "stdout",
     "output_type": "stream",
     "text": [
      "Help on built-in function sum in module builtins:\n",
      "\n",
      "sum(iterable, /, start=0)\n",
      "    Return the sum of a 'start' value (default: 0) plus an iterable of numbers\n",
      "\n",
      "    When the iterable is empty, return the start value.\n",
      "    This function is intended specifically for use with numeric values and may\n",
      "    reject non-numeric types.\n",
      "\n"
     ]
    }
   ],
   "source": [
    "help(sum)"
   ]
  },
  {
   "cell_type": "code",
   "execution_count": 5,
   "id": "cf04cdd4-af46-4294-b9a7-bd4c25e84c61",
   "metadata": {},
   "outputs": [],
   "source": [
    "#so sum needs a iterable, can be tuple or list of values\n",
    "#in this example we will take two input arguments and then return 5% of the sum of two arguments\n",
    "def myfunc(a,b):\n",
    "    return sum((a,b)) * 0.05 # here for sum function we have passed tuple with a,b"
   ]
  },
  {
   "cell_type": "code",
   "execution_count": 7,
   "id": "55eebe51-6efd-4004-a70d-c63ad48e32a0",
   "metadata": {},
   "outputs": [
    {
     "data": {
      "text/plain": [
       "5.0"
      ]
     },
     "execution_count": 7,
     "metadata": {},
     "output_type": "execute_result"
    }
   ],
   "source": [
    "myfunc(60,40)"
   ]
  },
  {
   "cell_type": "code",
   "execution_count": 11,
   "id": "51f17e66-f0e0-42ed-b1ba-60da26b735be",
   "metadata": {},
   "outputs": [
    {
     "data": {
      "text/plain": [
       "5.0"
      ]
     },
     "execution_count": 11,
     "metadata": {},
     "output_type": "execute_result"
    }
   ],
   "source": [
    "# here in above a and b are positional arguments\n",
    "# if we want to pass more arguments to function as placeholders and function call still passes two parameters itself like this\n",
    "def myfunc(a,b,c=0,d=0,e=0): #here c,d,e are defaulted to 0 and act like placeholders for more arguments if sent from fucntion call\n",
    "    return sum((a,b)) * 0.05 # here for sum function we have passed tuple with a,b\n",
    "\n",
    "myfunc(40,60,100) "
   ]
  },
  {
   "cell_type": "code",
   "execution_count": 13,
   "id": "5f6b25c9-adfb-4400-a71c-d7ec3c722cef",
   "metadata": {},
   "outputs": [],
   "source": [
    "# if we need to pass varied parameter list then we need to use *args\n",
    "def myfunc(*args): #args is taken as a tuple\n",
    "    return sum(args) * 0.05 # here for sum function we have passed tuple with args"
   ]
  },
  {
   "cell_type": "code",
   "execution_count": 15,
   "id": "f0079eae-6196-4295-bec9-f016a7a648b0",
   "metadata": {},
   "outputs": [
    {
     "data": {
      "text/plain": [
       "0.5"
      ]
     },
     "execution_count": 15,
     "metadata": {},
     "output_type": "execute_result"
    }
   ],
   "source": [
    "myfunc(10)"
   ]
  },
  {
   "cell_type": "code",
   "execution_count": 17,
   "id": "17792694-d929-4436-a27a-0bb0101455cb",
   "metadata": {},
   "outputs": [
    {
     "data": {
      "text/plain": [
       "5.0"
      ]
     },
     "execution_count": 17,
     "metadata": {},
     "output_type": "execute_result"
    }
   ],
   "source": [
    "myfunc(40,60)"
   ]
  },
  {
   "cell_type": "code",
   "execution_count": 21,
   "id": "00bb2e63-5955-4223-ba90-b0f3caccee12",
   "metadata": {},
   "outputs": [
    {
     "data": {
      "text/plain": [
       "10.0"
      ]
     },
     "execution_count": 21,
     "metadata": {},
     "output_type": "execute_result"
    }
   ],
   "source": [
    "myfunc(10,20,30,40,100)"
   ]
  },
  {
   "cell_type": "code",
   "execution_count": 23,
   "id": "186b3701-368d-4b66-bf0e-e2f84e292730",
   "metadata": {},
   "outputs": [],
   "source": [
    "def myfunc(*args):\n",
    "    print(args) # will give tuple of args"
   ]
  },
  {
   "cell_type": "code",
   "execution_count": 25,
   "id": "f2833d6d-4a6f-4105-9557-a0556f61b71a",
   "metadata": {},
   "outputs": [
    {
     "name": "stdout",
     "output_type": "stream",
     "text": [
      "(10, 20, 30, 40, 100)\n"
     ]
    }
   ],
   "source": [
    "myfunc(10,20,30,40,100)"
   ]
  },
  {
   "cell_type": "code",
   "execution_count": 27,
   "id": "dada2bec-0bce-40e5-9ca4-1ee1dab233ce",
   "metadata": {},
   "outputs": [
    {
     "name": "stdout",
     "output_type": "stream",
     "text": [
      "10\n",
      "20\n",
      "30\n",
      "40\n",
      "100\n"
     ]
    }
   ],
   "source": [
    "def myfunc(*args):\n",
    "    for item in args:\n",
    "        print(item)\n",
    "myfunc(10,20,30,40,100)"
   ]
  },
  {
   "cell_type": "code",
   "execution_count": 29,
   "id": "5d613d35-ca26-4bf6-88ab-e09f0ca9aa2f",
   "metadata": {},
   "outputs": [
    {
     "name": "stdout",
     "output_type": "stream",
     "text": [
      "10\n",
      "20\n"
     ]
    }
   ],
   "source": [
    "myfunc(10,20)"
   ]
  },
  {
   "cell_type": "code",
   "execution_count": 31,
   "id": "72e53789-0abc-478d-81e2-ab35d7487350",
   "metadata": {},
   "outputs": [],
   "source": [
    "# we can also pass keyworded arbitary arguments to functions to return as dictionary with key word values\n",
    "def myfunc(**kwargs):\n",
    "    print(kwargs) # it prints in form of dictionary for keyword arguments sent from function call\n",
    "    if 'fruit' in kwargs:\n",
    "        print('my choice of fruit is :{}'.format(kwargs['fruit']))\n",
    "    else:\n",
    "        print(\"I dont have any fruit here!\")"
   ]
  },
  {
   "cell_type": "code",
   "execution_count": 39,
   "id": "0978b626-01d7-4eac-a0b1-96a3bb5ba36b",
   "metadata": {},
   "outputs": [
    {
     "name": "stdout",
     "output_type": "stream",
     "text": [
      "{'fruit': 'apple', 'veggie': 'Tomato'}\n",
      "my choice of fruit is :apple\n"
     ]
    }
   ],
   "source": [
    "myfunc(fruit='apple', veggie='Tomato')"
   ]
  },
  {
   "cell_type": "code",
   "execution_count": 41,
   "id": "8767577d-5215-4a6d-9f37-a8bdac55f960",
   "metadata": {},
   "outputs": [
    {
     "name": "stdout",
     "output_type": "stream",
     "text": [
      "{'icecream': 'mango', 'veggie': 'Tomato'}\n",
      "I dont have any fruit here!\n"
     ]
    }
   ],
   "source": [
    "myfunc(icecream='mango', veggie='Tomato')"
   ]
  },
  {
   "cell_type": "code",
   "execution_count": 45,
   "id": "39e549cf-5aa1-457d-95e3-b12d26ece6c4",
   "metadata": {},
   "outputs": [
    {
     "name": "stdout",
     "output_type": "stream",
     "text": [
      "(10, 20, 30)\n",
      "{'fruit': 'apple', 'food': 'eggs'}\n",
      "I would like to eat 10 eggs tomorrow morning!!\n"
     ]
    }
   ],
   "source": [
    "#we can combine both args and kwargs in same function decalration \n",
    "def myfunc(*args, **kwargs):\n",
    "    print(args) #prints args as tuples\n",
    "    print(kwargs) #prints kwargs as dictionary\n",
    "    print('I would like to eat {} {} tomorrow morning!!'.format(args[0],kwargs['food']))\n",
    "\n",
    "myfunc(10,20,30, fruit='apple', food='eggs')"
   ]
  },
  {
   "cell_type": "code",
   "execution_count": null,
   "id": "f14d9254-c011-43fc-8ef7-4fd1d77ad637",
   "metadata": {},
   "outputs": [],
   "source": []
  }
 ],
 "metadata": {
  "kernelspec": {
   "display_name": "Python 3 (ipykernel)",
   "language": "python",
   "name": "python3"
  },
  "language_info": {
   "codemirror_mode": {
    "name": "ipython",
    "version": 3
   },
   "file_extension": ".py",
   "mimetype": "text/x-python",
   "name": "python",
   "nbconvert_exporter": "python",
   "pygments_lexer": "ipython3",
   "version": "3.12.7"
  }
 },
 "nbformat": 4,
 "nbformat_minor": 5
}
