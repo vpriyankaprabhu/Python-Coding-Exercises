{
 "cells": [
  {
   "cell_type": "code",
   "execution_count": 21,
   "id": "169b7243-6b94-4fd0-ace9-aafb1042da7a",
   "metadata": {},
   "outputs": [
    {
     "data": {
      "text/plain": [
       "[1, 4, 9, 16, 25]"
      ]
     },
     "execution_count": 21,
     "metadata": {},
     "output_type": "execute_result"
    }
   ],
   "source": [
    "#Lamba functions are more like anonymous functions created only one time for execution\n",
    "# one time use functions which dont even need a name for fucntion\n",
    "\n",
    "#now first we will learn map fucntion - It will help to map a function execution to every single item in iterable , let us see it\n",
    "def square(num):\n",
    "    return num ** 2\n",
    "\n",
    "# now if we want to return square of each item in list we will use for loop as follows:\n",
    "nums = [1,2,3,4,5]\n",
    "index = 0\n",
    "for i in nums:\n",
    "    nums[index] = square(i)\n",
    "    index+=1\n",
    "\n",
    "nums"
   ]
  },
  {
   "cell_type": "code",
   "execution_count": 13,
   "id": "b69cf4c9-f6ba-4501-8a27-dc001a9bf5cc",
   "metadata": {},
   "outputs": [
    {
     "name": "stdout",
     "output_type": "stream",
     "text": [
      "Help on class map in module builtins:\n",
      "\n",
      "class map(object)\n",
      " |  map(func, *iterables) --> map object\n",
      " |\n",
      " |  Make an iterator that computes the function using arguments from\n",
      " |  each of the iterables.  Stops when the shortest iterable is exhausted.\n",
      " |\n",
      " |  Methods defined here:\n",
      " |\n",
      " |  __getattribute__(self, name, /)\n",
      " |      Return getattr(self, name).\n",
      " |\n",
      " |  __iter__(self, /)\n",
      " |      Implement iter(self).\n",
      " |\n",
      " |  __next__(self, /)\n",
      " |      Implement next(self).\n",
      " |\n",
      " |  __reduce__(...)\n",
      " |      Return state information for pickling.\n",
      " |\n",
      " |  ----------------------------------------------------------------------\n",
      " |  Static methods defined here:\n",
      " |\n",
      " |  __new__(*args, **kwargs)\n",
      " |      Create and return a new object.  See help(type) for accurate signature.\n",
      "\n"
     ]
    }
   ],
   "source": [
    "# we can reduce all of this effort by using map function\n",
    "help(map) # it needs fucntion name and iterable to be passed to it\n",
    "#so this function will compute the function for every element in the list or given iterable"
   ]
  },
  {
   "cell_type": "code",
   "execution_count": 15,
   "id": "edd2ede5-de41-482c-89c5-c3c2d12b25c8",
   "metadata": {},
   "outputs": [
    {
     "data": {
      "text/plain": [
       "<map at 0x12f567e80>"
      ]
     },
     "execution_count": 15,
     "metadata": {},
     "output_type": "execute_result"
    }
   ],
   "source": [
    "map(square, nums)"
   ]
  },
  {
   "cell_type": "code",
   "execution_count": 27,
   "id": "815efacf-9082-4fa8-a27a-415799e72e2d",
   "metadata": {},
   "outputs": [
    {
     "name": "stdout",
     "output_type": "stream",
     "text": [
      "1\n",
      "4\n",
      "9\n",
      "16\n",
      "25\n"
     ]
    }
   ],
   "source": [
    "#it returns just map address intialised in memory for execution\n",
    "nums = [1,2,3,4,5]\n",
    "for i in map(square, nums):\n",
    "    print(i)"
   ]
  },
  {
   "cell_type": "code",
   "execution_count": 29,
   "id": "d5b49126-773c-45ba-b316-6665c6a6d4d3",
   "metadata": {},
   "outputs": [
    {
     "data": {
      "text/plain": [
       "[1, 4, 9, 16, 25]"
      ]
     },
     "execution_count": 29,
     "metadata": {},
     "output_type": "execute_result"
    }
   ],
   "source": [
    "# we dont need for loop to print value rather use built in function list\n",
    "list(map(square, nums))"
   ]
  },
  {
   "cell_type": "code",
   "execution_count": 33,
   "id": "0d913df1-2fba-4944-b8ee-99db4fa90527",
   "metadata": {},
   "outputs": [
    {
     "data": {
      "text/plain": [
       "['EVEN', 'ODD', 'ODD', 'EVEN']"
      ]
     },
     "execution_count": 33,
     "metadata": {},
     "output_type": "execute_result"
    }
   ],
   "source": [
    "# another exampe to check if length of names is even or odd\n",
    "names = ['Andy','Bella','Sam','Reva']\n",
    "\n",
    "def check_names_len(name):\n",
    "    if len(name) %2 ==0:\n",
    "        return ('EVEN')\n",
    "    else:\n",
    "        return ('ODD')\n",
    "\n",
    "list(map(check_names_len, names))"
   ]
  },
  {
   "cell_type": "code",
   "execution_count": 39,
   "id": "adbcafdc-60ad-49bb-9c6c-ea4a5e2f6d9a",
   "metadata": {},
   "outputs": [
    {
     "data": {
      "text/plain": [
       "[2, 4]"
      ]
     },
     "execution_count": 39,
     "metadata": {},
     "output_type": "execute_result"
    }
   ],
   "source": [
    "#Filter function\n",
    "# returns an iterator that yield those items of iterable for which when u pass in the item to the function, its true\n",
    "# create a function that either retuns true or false\n",
    "# similar to map but here it filters the given iterable with condition in function and returns true or false\n",
    "\n",
    "def check_even(num):\n",
    "    return num%2 == 0\n",
    "\n",
    "mylist = [1,2,3,4,5]\n",
    "\n",
    "filter(check_even, mylist) #return filter object in memeory location\n",
    "\n",
    "list(filter(check_even, mylist)) #here mylist was filtered to \n",
    "#return even numbers or true elements from mylist based on condition given in the function\n"
   ]
  },
  {
   "cell_type": "code",
   "execution_count": 41,
   "id": "a35f325f-55bc-4312-b0c3-790a891ed092",
   "metadata": {},
   "outputs": [
    {
     "name": "stdout",
     "output_type": "stream",
     "text": [
      "2\n",
      "4\n"
     ]
    }
   ],
   "source": [
    "for i in filter(check_even, mylist):\n",
    "    print(i)"
   ]
  },
  {
   "cell_type": "code",
   "execution_count": 48,
   "id": "a338eaaf-ead8-4e9e-b601-052293d1e228",
   "metadata": {},
   "outputs": [],
   "source": [
    "#lambda expressions\n",
    "\n",
    "#lets see an example\n",
    "def square_of_num(num):\n",
    "    return num ** 2"
   ]
  },
  {
   "cell_type": "code",
   "execution_count": 50,
   "id": "f20e7d60-3bd1-4c2c-9050-b449e413b590",
   "metadata": {},
   "outputs": [
    {
     "data": {
      "text/plain": [
       "81"
      ]
     },
     "execution_count": 50,
     "metadata": {},
     "output_type": "execute_result"
    }
   ],
   "source": [
    "square_of_num(9)"
   ]
  },
  {
   "cell_type": "code",
   "execution_count": 56,
   "id": "e182f826-bedd-4628-a1b3-802a129692a1",
   "metadata": {},
   "outputs": [],
   "source": [
    "# lambda function is also called as an anonymous function, as its used only once and not always\n",
    "def square_of_num(num): return num ** 2 \n",
    "#this is also allowed in python but readability is lost\n",
    "# easy to convert to lambda expression\n",
    "\n",
    "square_of_num = lambda num : num ** 2  #expression on other side of : is return statement"
   ]
  },
  {
   "cell_type": "code",
   "execution_count": 58,
   "id": "b19462fd-0c2d-468a-b73b-c87c03b8a71a",
   "metadata": {},
   "outputs": [
    {
     "data": {
      "text/plain": [
       "25"
      ]
     },
     "execution_count": 58,
     "metadata": {},
     "output_type": "execute_result"
    }
   ],
   "source": [
    "square_of_num(5)"
   ]
  },
  {
   "cell_type": "code",
   "execution_count": 60,
   "id": "a75b7528-56d2-485f-9ca0-a279395e0aa2",
   "metadata": {},
   "outputs": [
    {
     "data": {
      "text/plain": [
       "[1, 4, 9, 16, 25]"
      ]
     },
     "execution_count": 60,
     "metadata": {},
     "output_type": "execute_result"
    }
   ],
   "source": [
    "#ideally they are used for map and filter functions and not used directly as given above\n",
    "\n",
    "list(map(lambda num : num**2, mylist))"
   ]
  },
  {
   "cell_type": "code",
   "execution_count": 72,
   "id": "b239ab39-03f6-45b6-8c46-b652b04aadb5",
   "metadata": {},
   "outputs": [
    {
     "data": {
      "text/plain": [
       "[2, 6, 8, 8, 10]"
      ]
     },
     "execution_count": 72,
     "metadata": {},
     "output_type": "execute_result"
    }
   ],
   "source": [
    "#filter lambda function for check_even\n",
    "def check_even(num): return num%2 == 0\n",
    "\n",
    "lambda num : num % 2 == 0 #lambda expression\n",
    "list(filter(lambda num : num % 2 == 0, [1,2,3,5,6,8,8,10]))"
   ]
  },
  {
   "cell_type": "code",
   "execution_count": 74,
   "id": "44ec2d8f-72f8-4221-8f2a-33cd8180cf24",
   "metadata": {},
   "outputs": [
    {
     "data": {
      "text/plain": [
       "['Andy', 'Bella', 'Sam', 'Reva']"
      ]
     },
     "execution_count": 74,
     "metadata": {},
     "output_type": "execute_result"
    }
   ],
   "source": [
    "#grab first character of a string\n",
    "names"
   ]
  },
  {
   "cell_type": "code",
   "execution_count": 76,
   "id": "775176ba-459e-4e54-be67-723b9f5a98fd",
   "metadata": {},
   "outputs": [
    {
     "data": {
      "text/plain": [
       "['A', 'B', 'S', 'R']"
      ]
     },
     "execution_count": 76,
     "metadata": {},
     "output_type": "execute_result"
    }
   ],
   "source": [
    "list(map(lambda name : name[0], names))"
   ]
  },
  {
   "cell_type": "code",
   "execution_count": 78,
   "id": "cdfec693-7d81-414d-a033-5e6f74b162dd",
   "metadata": {},
   "outputs": [
    {
     "data": {
      "text/plain": [
       "['ydnA', 'alleB', 'maS', 'aveR']"
      ]
     },
     "execution_count": 78,
     "metadata": {},
     "output_type": "execute_result"
    }
   ],
   "source": [
    "#reverse names in list\n",
    "list(map(lambda name : name[::-1], names))"
   ]
  },
  {
   "cell_type": "code",
   "execution_count": null,
   "id": "448d1f9a-6f4c-4704-856e-d66daedea225",
   "metadata": {},
   "outputs": [],
   "source": []
  }
 ],
 "metadata": {
  "kernelspec": {
   "display_name": "Python 3 (ipykernel)",
   "language": "python",
   "name": "python3"
  },
  "language_info": {
   "codemirror_mode": {
    "name": "ipython",
    "version": 3
   },
   "file_extension": ".py",
   "mimetype": "text/x-python",
   "name": "python",
   "nbconvert_exporter": "python",
   "pygments_lexer": "ipython3",
   "version": "3.12.7"
  }
 },
 "nbformat": 4,
 "nbformat_minor": 5
}
