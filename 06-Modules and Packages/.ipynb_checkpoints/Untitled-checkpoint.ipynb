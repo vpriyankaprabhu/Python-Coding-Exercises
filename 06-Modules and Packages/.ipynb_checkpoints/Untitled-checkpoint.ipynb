{
 "cells": [
  {
   "cell_type": "code",
   "execution_count": 1,
   "id": "4655bcfe-f5ea-47a8-98fc-238301d1b334",
   "metadata": {},
   "outputs": [],
   "source": [
    "# PyPi is a open source repository for third party python packages (similar to npm in Node.js)"
   ]
  },
  {
   "cell_type": "code",
   "execution_count": 3,
   "id": "8e51340b-6485-4338-af2f-835165f1bfc2",
   "metadata": {},
   "outputs": [],
   "source": [
    "# there are built in libraries that comes internally with Python, certain other libraries open sourced and shared by users on PyPi\n",
    "# we can use pip install command to install these libraries or packages"
   ]
  },
  {
   "cell_type": "code",
   "execution_count": 5,
   "id": "fcd23d7f-b1f1-4546-9d80-c524bc77659a",
   "metadata": {},
   "outputs": [],
   "source": [
    "#pip is easy way to download packages on command line direclty from PyPi repository\n",
    "#by installing the python from python.org and Anaconda distribution you already have installed pip"
   ]
  },
  {
   "cell_type": "code",
   "execution_count": 7,
   "id": "d7a5d000-f86c-4f86-b29c-103c7746c09e",
   "metadata": {},
   "outputs": [],
   "source": [
    "# Django & Flask for web development can be downloaded with pip "
   ]
  },
  {
   "cell_type": "code",
   "execution_count": 15,
   "id": "27acc72f-afca-47a1-91c8-a9631b609cd1",
   "metadata": {},
   "outputs": [],
   "source": [
    "#on ur terminal try this (Requests module or library helps u get details on online requests)"
   ]
  },
  {
   "cell_type": "code",
   "execution_count": 17,
   "id": "dbfbae83-a433-4ca0-bd00-c84031c7e683",
   "metadata": {},
   "outputs": [],
   "source": [
    "#(base) priprabh@priprabh-mac ~ % pip install requests \n",
    "#Requirement already satisfied: requests in /opt/anaconda3/lib/python3.12/site-packages (2.32.3)\n",
    "#Requirement already satisfied: charset-normalizer<4,>=2 in /opt/anaconda3/lib/python3.12/site-packages (from requests) (3.3.2)\n",
    "#Requirement already satisfied: idna<4,>=2.5 in /opt/anaconda3/lib/python3.12/site-packages (from requests) (3.7)\n",
    "#Requirement already satisfied: urllib3<3,>=1.21.1 in /opt/anaconda3/lib/python3.12/site-packages (from requests) (2.2.3)\n",
    "#Requirement already satisfied: certifi>=2017.4.17 in /opt/anaconda3/lib/python3.12/site-packages (from requests) (2024.8.30)\n",
    "#(base) priprabh@priprabh-mac ~ % "
   ]
  },
  {
   "cell_type": "code",
   "execution_count": 19,
   "id": "b5fb2d58-2466-42d0-9d2d-02255592ce73",
   "metadata": {},
   "outputs": [],
   "source": [
    "#Now lets add a package not existing\n",
    "#pip install colorama #some simplet library for colors and font"
   ]
  },
  {
   "cell_type": "code",
   "execution_count": 30,
   "id": "5cc3ab20-9b72-4431-8401-7e9bcf02dd3e",
   "metadata": {},
   "outputs": [],
   "source": [
    "#(base) priprabh@priprabh-mac ~ % python \n",
    "#Python 3.12.7 | packaged by Anaconda, Inc. | (main, Oct  4 2024, 08:22:19) [Clang 14.0.6 ] on darwin\n",
    "#Type \"help\", \"copyright\", \"credits\" or \"license\" for more information.\n",
    "#>>> from colorama import init()\n",
    "#  File \"<stdin>\", line 1\n",
    "#    from colorama import init()\n",
    "                             \n",
    "# SyntaxError: invalid syntax\n",
    "# >>> from colorama import init\n",
    "# >>> init()\n",
    "# >>> from colorama import Fore\n",
    "# >>> print(\"Fore.RED\", \"some text in RED\")\n",
    "# Fore.RED some text in RED\n",
    "# >>> print(Fore.RED + \"some text in RED\")\n",
    "# some text in RED\n",
    "# >>> print(Fore.GREEN + \" Switched to GREEN\")\n",
    "#  Switched to GREEN\n",
    "# >>> print(Fore.BLACK + \"Bck to Black\")\n",
    "# Bck to Black\n",
    "# >>> "
   ]
  },
  {
   "cell_type": "code",
   "execution_count": null,
   "id": "bdd7aafb-fdb1-4ac6-b3fb-3d138bd32490",
   "metadata": {},
   "outputs": [],
   "source": []
  },
  {
   "cell_type": "code",
   "execution_count": null,
   "id": "0f226c79-ebcb-4256-b22a-5bf872eabb48",
   "metadata": {},
   "outputs": [],
   "source": []
  }
 ],
 "metadata": {
  "kernelspec": {
   "display_name": "Python 3 (ipykernel)",
   "language": "python",
   "name": "python3"
  },
  "language_info": {
   "codemirror_mode": {
    "name": "ipython",
    "version": 3
   },
   "file_extension": ".py",
   "mimetype": "text/x-python",
   "name": "python",
   "nbconvert_exporter": "python",
   "pygments_lexer": "ipython3",
   "version": "3.12.7"
  }
 },
 "nbformat": 4,
 "nbformat_minor": 5
}
