{
 "cells": [
  {
   "cell_type": "code",
   "execution_count": 1,
   "id": "4655bcfe-f5ea-47a8-98fc-238301d1b334",
   "metadata": {},
   "outputs": [],
   "source": [
    "# PyPi is a open source repository for third party python packages (similar to npm in Node.js)"
   ]
  },
  {
   "cell_type": "code",
   "execution_count": 3,
   "id": "8e51340b-6485-4338-af2f-835165f1bfc2",
   "metadata": {},
   "outputs": [],
   "source": [
    "# there are built in libraries that comes internally with Python, certain other libraries open sourced and shared by users on PyPi\n",
    "# we can use pip install command to install these libraries or packages"
   ]
  },
  {
   "cell_type": "code",
   "execution_count": 5,
   "id": "fcd23d7f-b1f1-4546-9d80-c524bc77659a",
   "metadata": {},
   "outputs": [],
   "source": [
    "#pip is easy way to download packages on command line direclty from PyPi repository\n",
    "#by installing the python from python.org and Anaconda distribution you already have installed pip"
   ]
  },
  {
   "cell_type": "code",
   "execution_count": 7,
   "id": "d7a5d000-f86c-4f86-b29c-103c7746c09e",
   "metadata": {},
   "outputs": [],
   "source": [
    "# Django & Flask for web development can be downloaded with pip "
   ]
  },
  {
   "cell_type": "code",
   "execution_count": 15,
   "id": "27acc72f-afca-47a1-91c8-a9631b609cd1",
   "metadata": {},
   "outputs": [],
   "source": [
    "#on ur terminal try this (Requests module or library helps u get details on online requests)"
   ]
  },
  {
   "cell_type": "code",
   "execution_count": 17,
   "id": "dbfbae83-a433-4ca0-bd00-c84031c7e683",
   "metadata": {},
   "outputs": [],
   "source": [
    "#(base) priprabh@priprabh-mac ~ % pip install requests \n",
    "#Requirement already satisfied: requests in /opt/anaconda3/lib/python3.12/site-packages (2.32.3)\n",
    "#Requirement already satisfied: charset-normalizer<4,>=2 in /opt/anaconda3/lib/python3.12/site-packages (from requests) (3.3.2)\n",
    "#Requirement already satisfied: idna<4,>=2.5 in /opt/anaconda3/lib/python3.12/site-packages (from requests) (3.7)\n",
    "#Requirement already satisfied: urllib3<3,>=1.21.1 in /opt/anaconda3/lib/python3.12/site-packages (from requests) (2.2.3)\n",
    "#Requirement already satisfied: certifi>=2017.4.17 in /opt/anaconda3/lib/python3.12/site-packages (from requests) (2024.8.30)\n",
    "#(base) priprabh@priprabh-mac ~ % "
   ]
  },
  {
   "cell_type": "code",
   "execution_count": 19,
   "id": "b5fb2d58-2466-42d0-9d2d-02255592ce73",
   "metadata": {},
   "outputs": [],
   "source": [
    "#Now lets add a package not existing\n",
    "#pip install colorama #some simplet library for colors and font"
   ]
  },
  {
   "cell_type": "code",
   "execution_count": 30,
   "id": "5cc3ab20-9b72-4431-8401-7e9bcf02dd3e",
   "metadata": {},
   "outputs": [],
   "source": [
    "#(base) priprabh@priprabh-mac ~ % python \n",
    "#Python 3.12.7 | packaged by Anaconda, Inc. | (main, Oct  4 2024, 08:22:19) [Clang 14.0.6 ] on darwin\n",
    "#Type \"help\", \"copyright\", \"credits\" or \"license\" for more information.\n",
    "#>>> from colorama import init()\n",
    "#  File \"<stdin>\", line 1\n",
    "#    from colorama import init()\n",
    "                             \n",
    "# SyntaxError: invalid syntax\n",
    "# >>> from colorama import init\n",
    "# >>> init()\n",
    "# >>> from colorama import Fore\n",
    "# >>> print(\"Fore.RED\", \"some text in RED\")\n",
    "# Fore.RED some text in RED\n",
    "# >>> print(Fore.RED + \"some text in RED\")\n",
    "# some text in RED\n",
    "# >>> print(Fore.GREEN + \" Switched to GREEN\")\n",
    "#  Switched to GREEN\n",
    "# >>> print(Fore.BLACK + \"Bck to Black\")\n",
    "# Bck to Black\n",
    "# >>> "
   ]
  },
  {
   "cell_type": "code",
   "execution_count": null,
   "id": "bdd7aafb-fdb1-4ac6-b3fb-3d138bd32490",
   "metadata": {},
   "outputs": [],
   "source": [
    "#If we need any package we can do google search say : python package for \"name\" say excel and when u get link u can\n",
    "# explore and in command line u can do \n",
    "#pip install openpyxl\n",
    "\n",
    "#(base) priprabh@priprabh-mac Python-Coding-Exercises % python\n",
    "#Python 3.12.7 | packaged by Anaconda, Inc. | (main, Oct  4 2024, 08:22:19) [Clang 14.0.6 ] on darwin\n",
    "#Type \"help\", \"copyright\", \"credits\" or \"license\" for more information.\n",
    "#>>> import openpyxl\n",
    "#s>>> "
   ]
  },
  {
   "cell_type": "code",
   "execution_count": null,
   "id": "0f226c79-ebcb-4256-b22a-5bf872eabb48",
   "metadata": {},
   "outputs": [],
   "source": [
    "#User defined modules and packages\n",
    "# Modules are just .py scripts called inside another .py script\n",
    "# Packages are collection of modules\n",
    "# If we have big python script its better to split them into different py script files and make them into one module \n",
    "\n",
    "#mymodule.py\n",
    "#def my_func():\n",
    "#    print(\"Hey, I am in mymodule.py\")\n",
    "\n",
    "#myprogram.py\n",
    "#from mymodule import my_func\n",
    "\n",
    "#my_func()\n",
    "\n",
    "#Now in command line \n",
    "#python myprogram.py\n",
    "#(base) priprabh@priprabh-mac 06-Modules and Packages % python myprogram.py \n",
    "#Hey, I am in mymodule.py\n",
    "\n",
    "# we can also combine different modules to become one package"
   ]
  },
  {
   "cell_type": "code",
   "execution_count": null,
   "id": "3a5a8717-6304-48bc-98a7-385e5841ac52",
   "metadata": {},
   "outputs": [],
   "source": [
    "#Lets understand as to how to create a package\n",
    "#__init__.py file is needed in the package folder or directory for python to treat folders as package and modules\n",
    "#it can be blank too\n",
    "# we need to place this file in package and module folders too"
   ]
  },
  {
   "cell_type": "code",
   "execution_count": null,
   "id": "420a793f-80c4-48b9-931e-b7672366b78a",
   "metadata": {},
   "outputs": [],
   "source": [
    "#Exploring built-in modules\n",
    "#Two very important functions come in handy when exploring modules in Python - the dir and help functions.\n",
    "\n",
    "\n",
    "#We can look for which functions are implemented in each module by using the dir function:\n",
    "\n",
    "#print(dir(math))\n",
    "#OUTPUT\n",
    "#['__doc__', '__loader__', '__name__', '__package__', '__spec__', 'acos', 'acosh', 'asin', 'asinh', 'atan', 'atan2', 'atanh', 'ceil', 'copysign', 'cos', 'cosh', 'degrees', 'e', 'erf', 'erfc', 'exp', 'expm1', 'fabs', 'factorial', 'floor', 'fmod', 'frexp', 'fsum', 'gamma', 'gcd', 'hypot', 'inf', 'isclose', 'isfinite', 'isinf', 'isnan', 'ldexp', 'lgamma', 'log', 'log10', 'log1p', 'log2', 'modf', 'nan', 'pi', 'pow', 'radians', 'sin', 'sinh', 'sqrt', 'tan', 'tanh', 'tau', 'trunc']\n",
    "\n",
    "#we can check more details with help function\n",
    "#help(math.ceil)\n"
   ]
  },
  {
   "cell_type": "code",
   "execution_count": null,
   "id": "4e19d309-c1c3-40ed-a33b-969918bd3efb",
   "metadata": {},
   "outputs": [],
   "source": [
    "#this is about __name__ and __main__\n",
    "# we see this line in python code usually wat does this refer to\n",
    "\n",
    "#if __name__ == \"__main__\":\n",
    "\n",
    "#helps to identify if the function called from script is called directly or imported\n",
    "\n",
    "#(base) priprabh@priprabh-mac Name and Main % python two.py\n",
    "#Top level, in one.py !\n",
    "#one.py my_func() is imported!.\n",
    "#Top level, in two.py !\n",
    "#Hello World! from one.py\n",
    "#Hello World! from two.py\n",
    "#two.py my_func_two() is called directly!\n",
    "\n",
    "\n",
    "#(base) priprabh@priprabh-mac Name and Main % python one.py \n",
    "#Top level, in one.py !\n",
    "#Hello World! from one.py\n",
    "#one.py my_func() is called directly!\n"
   ]
  }
 ],
 "metadata": {
  "kernelspec": {
   "display_name": "Python 3 (ipykernel)",
   "language": "python",
   "name": "python3"
  },
  "language_info": {
   "codemirror_mode": {
    "name": "ipython",
    "version": 3
   },
   "file_extension": ".py",
   "mimetype": "text/x-python",
   "name": "python",
   "nbconvert_exporter": "python",
   "pygments_lexer": "ipython3",
   "version": "3.12.7"
  }
 },
 "nbformat": 4,
 "nbformat_minor": 5
}
