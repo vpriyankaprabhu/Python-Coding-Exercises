{
 "cells": [
  {
   "cell_type": "code",
   "execution_count": 4,
   "id": "557084e1-887f-441c-98cc-54ed95e0487d",
   "metadata": {},
   "outputs": [
    {
     "name": "stdout",
     "output_type": "stream",
     "text": [
      "Hello World\n"
     ]
    }
   ],
   "source": [
    "print(\"Hello World\");"
   ]
  },
  {
   "cell_type": "code",
   "execution_count": 6,
   "id": "4e8f5aaf-5855-4fe1-bf23-e1c69223fab5",
   "metadata": {},
   "outputs": [
    {
     "data": {
      "text/plain": [
       "13"
      ]
     },
     "execution_count": 6,
     "metadata": {},
     "output_type": "execute_result"
    }
   ],
   "source": [
    "1+12"
   ]
  },
  {
   "cell_type": "markdown",
   "id": "004e0351-72b6-42a4-b333-57a203398658",
   "metadata": {},
   "source": [
    "https://github.com/Pierian-Data/Complete-Python-3-Bootcamp\n"
   ]
  },
  {
   "cell_type": "code",
   "execution_count": null,
   "id": "5443bf31-e146-417b-b600-58eb2b40ea37",
   "metadata": {},
   "outputs": [],
   "source": []
  }
 ],
 "metadata": {
  "kernelspec": {
   "display_name": "Python 3 (ipykernel)",
   "language": "python",
   "name": "python3"
  },
  "language_info": {
   "codemirror_mode": {
    "name": "ipython",
    "version": 3
   },
   "file_extension": ".py",
   "mimetype": "text/x-python",
   "name": "python",
   "nbconvert_exporter": "python",
   "pygments_lexer": "ipython3",
   "version": "3.12.7"
  }
 },
 "nbformat": 4,
 "nbformat_minor": 5
}
