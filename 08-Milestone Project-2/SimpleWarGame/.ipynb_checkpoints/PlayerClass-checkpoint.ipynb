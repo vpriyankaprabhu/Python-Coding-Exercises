{
 "cells": [
  {
   "cell_type": "code",
   "execution_count": 1,
   "id": "78d6be1c-4da9-4c5d-8e30-2bb9c93db241",
   "metadata": {},
   "outputs": [],
   "source": [
    "# CARD Class\n",
    "# SUIT, RANK, VALUE\n",
    "# SUIT : spade, heart, diamond, clubs\n",
    "# RANK 2,3,4,5,6,7,8,9,10,J,Q,K,A\n",
    "# Value to rank it\n",
    "\n",
    "#global variable\n",
    "values = {\"Two\": 2, \"Three\": 3, \"Four\": 4, \"Five\": 5, \"Six\": 6, \"Seven\": 7, \"Eight\": 8, \"Nine\": 9, \"Ten\": 10, \"Jack\": 11, \"Queen\": 12, \"King\": 13, \"Ace\": 14}\n",
    "\n",
    "suits = (\"Clubs\", \"Hearts\", \"Spades\", \"Diamonds\")\n",
    "\n",
    "ranks = (\"Two\", \"Three\", \"Four\", \"Five\", \"Six\", \"Seven\", \"Eight\", \"Nine\", \"Ten\", \"Jack\", \"Queen\", \"King\", \"Ace\")"
   ]
  },
  {
   "cell_type": "code",
   "execution_count": 3,
   "id": "8893e002-1943-48d2-a39e-f2676d2f7708",
   "metadata": {},
   "outputs": [],
   "source": [
    "class Card():\n",
    "\n",
    "    def __init__(self, suit, rank):\n",
    "        self.suit = suit\n",
    "        self.rank = rank\n",
    "        self.value = values[self.rank]\n",
    "\n",
    "    def __str__(self):\n",
    "        return self.rank + \" of \" + self.suit"
   ]
  },
  {
   "cell_type": "code",
   "execution_count": 5,
   "id": "98803320-6720-45e5-a7e5-4cb47ab00fd3",
   "metadata": {},
   "outputs": [
    {
     "name": "stdout",
     "output_type": "stream",
     "text": [
      "Ace of Diamonds\n",
      "Two of Spades\n"
     ]
    }
   ],
   "source": [
    "#now we want to shuffle the all card objects in deck class using random shuffle method\n",
    "import random \n",
    "\n",
    "class Deck:\n",
    "    def __init__(self):\n",
    "        self.all_cards = []\n",
    "\n",
    "        for suit in suits :\n",
    "            for rank in ranks :\n",
    "                created_card_obj = Card(suit, rank)\n",
    "                self.all_cards.append(created_card_obj)\n",
    "\n",
    "    def shuffle(self):\n",
    "        random.shuffle(self.all_cards)\n",
    "\n",
    "    #return one single element or card from deck\n",
    "    def deal_one(self):\n",
    "        return self.all_cards.pop()\n",
    "        \n",
    "#shufffle method does shuffling of list objects in place and returns nothing , but how to find that its already shuffled, \n",
    "#we can try to check the first or last element of the all_cards objects list\n",
    "\n",
    "deck_obj1 = Deck()\n",
    "\n",
    "print(deck_obj1.all_cards[-1]) #last obj element\n",
    "deck_obj1.shuffle()\n",
    "print(deck_obj1.all_cards[-1]) #last obj element, after shuffling"
   ]
  },
  {
   "cell_type": "code",
   "execution_count": 7,
   "id": "79c7127d-54bb-4ab2-9d9d-31585e2aedd4",
   "metadata": {},
   "outputs": [
    {
     "name": "stdout",
     "output_type": "stream",
     "text": [
      "Two of Spades\n"
     ]
    }
   ],
   "source": [
    "mycard = deck_obj1.deal_one()\n",
    "print(mycard)"
   ]
  },
  {
   "cell_type": "code",
   "execution_count": 9,
   "id": "07e94e18-30d9-4782-b5d1-ae3f3347598f",
   "metadata": {},
   "outputs": [
    {
     "data": {
      "text/plain": [
       "51"
      ]
     },
     "execution_count": 9,
     "metadata": {},
     "output_type": "execute_result"
    }
   ],
   "source": [
    "len(deck_obj1.all_cards)"
   ]
  },
  {
   "cell_type": "code",
   "execution_count": 21,
   "id": "5af50a20-7f8f-4e1a-b9a5-32526e305950",
   "metadata": {},
   "outputs": [],
   "source": [
    "##Current list of players cards in hand\n",
    "#should be able to add or delete cards in hand\n",
    "#player should be able to add single or multiple cards into list\n",
    "\n",
    "#add card to bottom of list or in hand\n",
    "#delete or remove topmost element from list or from hand\n",
    "#top -> left-> remove and bottom -> right -> add\n",
    "\n",
    "class Player:\n",
    "    def __init__(self,name):\n",
    "        self.all_cards = []\n",
    "        self.name = name\n",
    "\n",
    "    def remove_one(self):\n",
    "        return self.all_cards.pop(0)\n",
    "\n",
    "    def add_cards(self, new_cards):\n",
    "        if type(new_cards) == type([]):\n",
    "            #if list of cards given\n",
    "            self.all_cards.extend(new_cards)\n",
    "        else:\n",
    "            #single card value\n",
    "            self.all_cards.append(new_cards)\n",
    "\n",
    "    def __str__(self):\n",
    "        return(f\"Player {self.name} has {len(self.all_cards)} cards.\")"
   ]
  },
  {
   "cell_type": "code",
   "execution_count": 23,
   "id": "ffc1f5bf-bd2a-461e-bf6a-a46de68e2017",
   "metadata": {},
   "outputs": [
    {
     "name": "stdout",
     "output_type": "stream",
     "text": [
      "Player Carson has 0 cards.\n"
     ]
    }
   ],
   "source": [
    "player1 = Player(\"Carson\")\n",
    "print(player1)"
   ]
  },
  {
   "cell_type": "code",
   "execution_count": 27,
   "id": "80efc8bb-54b7-4c96-8997-ec9cd33d8351",
   "metadata": {},
   "outputs": [
    {
     "name": "stdout",
     "output_type": "stream",
     "text": [
      "Two of Spades\n"
     ]
    }
   ],
   "source": [
    "print(mycard)"
   ]
  },
  {
   "cell_type": "code",
   "execution_count": 29,
   "id": "4329f8fe-c9e1-49d1-a3ea-f6e54652f242",
   "metadata": {},
   "outputs": [],
   "source": [
    "player1.add_cards(mycard) #adding single mycard"
   ]
  },
  {
   "cell_type": "code",
   "execution_count": 31,
   "id": "eb5c4989-57d6-40de-bea3-9c73c10b9feb",
   "metadata": {},
   "outputs": [
    {
     "name": "stdout",
     "output_type": "stream",
     "text": [
      "Player Carson has 1 cards.\n"
     ]
    }
   ],
   "source": [
    "print(player1)"
   ]
  },
  {
   "cell_type": "code",
   "execution_count": 33,
   "id": "21aeca4d-17c1-4b80-a656-484fe3f0487b",
   "metadata": {},
   "outputs": [
    {
     "name": "stdout",
     "output_type": "stream",
     "text": [
      "Player Carson has 5 cards.\n"
     ]
    }
   ],
   "source": [
    "#list of mycards\n",
    "player1.add_cards([mycard, mycard, mycard, mycard])\n",
    "print(player1)"
   ]
  },
  {
   "cell_type": "code",
   "execution_count": 35,
   "id": "19948b09-7348-4ef6-88f8-92bb22c6702e",
   "metadata": {},
   "outputs": [
    {
     "name": "stdout",
     "output_type": "stream",
     "text": [
      "Player Carson has 4 cards.\n"
     ]
    }
   ],
   "source": [
    "player1.remove_one()\n",
    "print(player1)"
   ]
  },
  {
   "cell_type": "code",
   "execution_count": 37,
   "id": "d8f6b2ae-4bc0-403e-a3bf-b8bdd759d968",
   "metadata": {},
   "outputs": [
    {
     "name": "stdout",
     "output_type": "stream",
     "text": [
      "Player Carson has 3 cards.\n"
     ]
    }
   ],
   "source": [
    "player1.remove_one()\n",
    "print(player1)"
   ]
  },
  {
   "cell_type": "code",
   "execution_count": null,
   "id": "985a1ee2-9fcf-43db-be62-59c55192737b",
   "metadata": {},
   "outputs": [],
   "source": []
  }
 ],
 "metadata": {
  "kernelspec": {
   "display_name": "Python 3 (ipykernel)",
   "language": "python",
   "name": "python3"
  },
  "language_info": {
   "codemirror_mode": {
    "name": "ipython",
    "version": 3
   },
   "file_extension": ".py",
   "mimetype": "text/x-python",
   "name": "python",
   "nbconvert_exporter": "python",
   "pygments_lexer": "ipython3",
   "version": "3.12.7"
  }
 },
 "nbformat": 4,
 "nbformat_minor": 5
}
