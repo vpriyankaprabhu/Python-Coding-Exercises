{
 "cells": [
  {
   "cell_type": "code",
   "execution_count": 7,
   "id": "a9ac813b-dbd4-4bc8-8f3f-0a0d57d0c3c9",
   "metadata": {},
   "outputs": [],
   "source": [
    "#DECK\n",
    "#Deck class holds a list of card objects\n",
    "#Deck class will return Card class instance objects and not any regular data types"
   ]
  },
  {
   "cell_type": "code",
   "execution_count": 19,
   "id": "4858b57a-c0cc-4f59-8a9b-3e198abb553b",
   "metadata": {},
   "outputs": [],
   "source": [
    "# CARD Class\n",
    "# SUIT, RANK, VALUE\n",
    "# SUIT : spade, heart, diamond, clubs\n",
    "# RANK 2,3,4,5,6,7,8,9,10,J,Q,K,A\n",
    "# Value to rank it\n",
    "\n",
    "#global variable\n",
    "values = {\"Two\": 2, \"Three\": 3, \"Four\": 4, \"Five\": 5, \"Six\": 6, \"Seven\": 7, \"Eight\": 8, \"Nine\": 9, \"Ten\": 10, \"Jack\": 11, \"Queen\": 12, \"King\": 13, \"Ace\": 14}\n",
    "\n",
    "suits = (\"Clubs\", \"Hearts\", \"Spades\", \"Diamonds\")\n",
    "\n",
    "ranks = (\"Two\", \"Three\", \"Four\", \"Five\", \"Six\", \"Seven\", \"Eight\", \"Nine\", \"Ten\", \"Jack\", \"Queen\", \"King\", \"Ace\")"
   ]
  },
  {
   "cell_type": "code",
   "execution_count": 21,
   "id": "14e1594a-26bd-4fc0-ac89-e6643a38f9fa",
   "metadata": {},
   "outputs": [],
   "source": [
    "class Card():\n",
    "\n",
    "    def __init__(self, suit, rank):\n",
    "        self.suit = suit\n",
    "        self.rank = rank\n",
    "        self.value = values[self.rank]\n",
    "\n",
    "    def __str__(self):\n",
    "        return self.rank + \" of \" + self.suit"
   ]
  },
  {
   "cell_type": "code",
   "execution_count": 27,
   "id": "a6ab6e7f-7440-47c8-a1b0-ab4c2a2616eb",
   "metadata": {},
   "outputs": [
    {
     "name": "stdout",
     "output_type": "stream",
     "text": [
      "52\n"
     ]
    }
   ],
   "source": [
    "class Deck:\n",
    "    def __init__(self):\n",
    "        self.all_cards = []\n",
    "\n",
    "        for suit in suits :\n",
    "            for rank in ranks :\n",
    "                created_card_obj = Card(suit, rank)\n",
    "                self.all_cards.append(created_card_obj)\n",
    "\n",
    "\n",
    "new_deck_obj = Deck()\n",
    "print(len(new_deck_obj.all_cards)) #All 52 objects of card, lets print them"
   ]
  },
  {
   "cell_type": "code",
   "execution_count": 29,
   "id": "37c07e26-9123-4a5e-8939-14a980d03a18",
   "metadata": {},
   "outputs": [
    {
     "name": "stdout",
     "output_type": "stream",
     "text": [
      "Two of Clubs\n",
      "Three of Clubs\n",
      "Four of Clubs\n",
      "Five of Clubs\n",
      "Six of Clubs\n",
      "Seven of Clubs\n",
      "Eight of Clubs\n",
      "Nine of Clubs\n",
      "Ten of Clubs\n",
      "Jack of Clubs\n",
      "Queen of Clubs\n",
      "King of Clubs\n",
      "Ace of Clubs\n",
      "Two of Hearts\n",
      "Three of Hearts\n",
      "Four of Hearts\n",
      "Five of Hearts\n",
      "Six of Hearts\n",
      "Seven of Hearts\n",
      "Eight of Hearts\n",
      "Nine of Hearts\n",
      "Ten of Hearts\n",
      "Jack of Hearts\n",
      "Queen of Hearts\n",
      "King of Hearts\n",
      "Ace of Hearts\n",
      "Two of Spades\n",
      "Three of Spades\n",
      "Four of Spades\n",
      "Five of Spades\n",
      "Six of Spades\n",
      "Seven of Spades\n",
      "Eight of Spades\n",
      "Nine of Spades\n",
      "Ten of Spades\n",
      "Jack of Spades\n",
      "Queen of Spades\n",
      "King of Spades\n",
      "Ace of Spades\n",
      "Two of Diamonds\n",
      "Three of Diamonds\n",
      "Four of Diamonds\n",
      "Five of Diamonds\n",
      "Six of Diamonds\n",
      "Seven of Diamonds\n",
      "Eight of Diamonds\n",
      "Nine of Diamonds\n",
      "Ten of Diamonds\n",
      "Jack of Diamonds\n",
      "Queen of Diamonds\n",
      "King of Diamonds\n",
      "Ace of Diamonds\n"
     ]
    }
   ],
   "source": [
    "for card_obj in new_deck_obj.all_cards:\n",
    "    print(card_obj)"
   ]
  },
  {
   "cell_type": "code",
   "execution_count": 67,
   "id": "16e74ac4-7fc1-4b54-af32-8768fb797c77",
   "metadata": {},
   "outputs": [
    {
     "name": "stdout",
     "output_type": "stream",
     "text": [
      "Ace of Diamonds\n",
      "Four of Spades\n"
     ]
    }
   ],
   "source": [
    "#now we want to shuffle the all card objects in deck class using random shuffle method\n",
    "import random \n",
    "\n",
    "class Deck:\n",
    "    def __init__(self):\n",
    "        self.all_cards = []\n",
    "\n",
    "        for suit in suits :\n",
    "            for rank in ranks :\n",
    "                created_card_obj = Card(suit, rank)\n",
    "                self.all_cards.append(created_card_obj)\n",
    "\n",
    "    def shuffle(self):\n",
    "        random.shuffle(self.all_cards)\n",
    "\n",
    "    #return one single element or card from deck\n",
    "    def deal_one(self):\n",
    "        return self.all_cards.pop()\n",
    "        \n",
    "#shufffle method does shuffling of list objects in place and returns nothing , but how to find that its already shuffled, \n",
    "#we can try to check the first or last element of the all_cards objects list\n",
    "\n",
    "deck_obj1 = Deck()\n",
    "\n",
    "print(deck_obj1.all_cards[-1]) #last obj element\n",
    "deck_obj1.shuffle()\n",
    "print(deck_obj1.all_cards[-1]) #last obj element, after shuffling"
   ]
  },
  {
   "cell_type": "code",
   "execution_count": 69,
   "id": "871ad457-f57b-4cda-9b8e-eb9dc28b869a",
   "metadata": {},
   "outputs": [
    {
     "name": "stdout",
     "output_type": "stream",
     "text": [
      "Seven of Hearts\n"
     ]
    }
   ],
   "source": [
    "print(deck_obj1.all_cards[0]) "
   ]
  },
  {
   "cell_type": "code",
   "execution_count": 71,
   "id": "0e36b5ad-1c6b-42a6-a791-c93657bb3563",
   "metadata": {},
   "outputs": [
    {
     "name": "stdout",
     "output_type": "stream",
     "text": [
      "Four of Spades\n"
     ]
    }
   ],
   "source": [
    "mycard = deck_obj1.deal_one()\n",
    "print(mycard)"
   ]
  },
  {
   "cell_type": "code",
   "execution_count": 75,
   "id": "55482785-02d1-4e2b-a348-558842bffacb",
   "metadata": {},
   "outputs": [
    {
     "data": {
      "text/plain": [
       "51"
      ]
     },
     "execution_count": 75,
     "metadata": {},
     "output_type": "execute_result"
    }
   ],
   "source": [
    "len(deck_obj1.all_cards)"
   ]
  },
  {
   "cell_type": "code",
   "execution_count": null,
   "id": "5d9ca727-34ab-46c0-9531-ca54a21f27b3",
   "metadata": {},
   "outputs": [],
   "source": [
    "#one of the list is removed or popped."
   ]
  }
 ],
 "metadata": {
  "kernelspec": {
   "display_name": "Python 3 (ipykernel)",
   "language": "python",
   "name": "python3"
  },
  "language_info": {
   "codemirror_mode": {
    "name": "ipython",
    "version": 3
   },
   "file_extension": ".py",
   "mimetype": "text/x-python",
   "name": "python",
   "nbconvert_exporter": "python",
   "pygments_lexer": "ipython3",
   "version": "3.12.7"
  }
 },
 "nbformat": 4,
 "nbformat_minor": 5
}
