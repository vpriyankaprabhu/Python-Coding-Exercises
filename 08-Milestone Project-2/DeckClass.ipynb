{
 "cells": [
  {
   "cell_type": "code",
   "execution_count": null,
   "id": "a9ac813b-dbd4-4bc8-8f3f-0a0d57d0c3c9",
   "metadata": {},
   "outputs": [],
   "source": [
    "#DECK"
   ]
  }
 ],
 "metadata": {
  "kernelspec": {
   "display_name": "Python 3 (ipykernel)",
   "language": "python",
   "name": "python3"
  },
  "language_info": {
   "codemirror_mode": {
    "name": "ipython",
    "version": 3
   },
   "file_extension": ".py",
   "mimetype": "text/x-python",
   "name": "python",
   "nbconvert_exporter": "python",
   "pygments_lexer": "ipython3",
   "version": "3.12.7"
  }
 },
 "nbformat": 4,
 "nbformat_minor": 5
}
